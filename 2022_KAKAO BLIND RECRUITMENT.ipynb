{
 "cells": [
  {
   "cell_type": "code",
   "execution_count": 25,
   "id": "usual-residence",
   "metadata": {},
   "outputs": [],
   "source": [
    "def solution(id_list, report, k):\n",
    "    singo = {id: set() for id in id_list}\n",
    "    stack = {id: 0 for id in id_list}\n",
    "    for r in report:\n",
    "        a, b = r.split()\n",
    "        singo[a].add(b)\n",
    "        stack[b] += 1\n",
    "    print(singo)\n",
    "    print(stack)\n",
    "    ban = [name for name, c in stack.items() if c >= k]\n",
    "    print(ban)\n",
    "    result = []\n",
    "    for user in id_list:\n",
    "        result.append(len(set(singo[user]) & set(ban)))\n",
    "    return result"
   ]
  },
  {
   "cell_type": "code",
   "execution_count": 26,
   "id": "worse-joyce",
   "metadata": {},
   "outputs": [
    {
     "name": "stdout",
     "output_type": "stream",
     "text": [
      "{'muzi': {'neo', 'frodo'}, 'frodo': {'neo'}, 'apeach': {'muzi', 'frodo'}, 'neo': set()}\n",
      "{'muzi': 1, 'frodo': 2, 'apeach': 0, 'neo': 2}\n",
      "['frodo', 'neo']\n"
     ]
    },
    {
     "data": {
      "text/plain": [
       "[2, 1, 1, 0]"
      ]
     },
     "execution_count": 26,
     "metadata": {},
     "output_type": "execute_result"
    }
   ],
   "source": [
    "id_list = [\"muzi\", \"frodo\", \"apeach\", \"neo\"]\n",
    "report = [\"muzi frodo\",\"apeach frodo\",\"frodo neo\",\"muzi neo\",\"apeach muzi\"]\n",
    "k = 2\n",
    "solution(id_list, report, k)"
   ]
  },
  {
   "cell_type": "code",
   "execution_count": 27,
   "id": "elect-internet",
   "metadata": {},
   "outputs": [
    {
     "name": "stdout",
     "output_type": "stream",
     "text": [
      "{'con': set(), 'ryan': {'con'}}\n",
      "{'con': 4, 'ryan': 0}\n",
      "['con']\n"
     ]
    },
    {
     "data": {
      "text/plain": [
       "[0, 1]"
      ]
     },
     "execution_count": 27,
     "metadata": {},
     "output_type": "execute_result"
    }
   ],
   "source": [
    "id_list = [\"con\", \"ryan\"]\n",
    "report = [\"ryan con\", \"ryan con\", \"ryan con\", \"ryan con\"]\n",
    "k = 3\n",
    "solution(id_list, report, k)"
   ]
  },
  {
   "cell_type": "markdown",
   "id": "korean-smart",
   "metadata": {},
   "source": [
    "## 2번"
   ]
  },
  {
   "cell_type": "code",
   "execution_count": 88,
   "id": "simple-prerequisite",
   "metadata": {},
   "outputs": [],
   "source": [
    "import string\n",
    "import math\n",
    "\n",
    "def solution(n, k):\n",
    "    num = convert(n, k)\n",
    "    nums = num.split('0')\n",
    "    answer = 0\n",
    "    for p in nums:\n",
    "        if p != \"\" and isPrime(int(p)): answer += 1\n",
    "    return answer\n",
    "    \n",
    "def convert(num, base):\n",
    "    tmp = string.digits+string.ascii_lowercase\n",
    "    q, r = divmod(num, base)\n",
    "    if q == 0 :\n",
    "        return tmp[r] \n",
    "    else :\n",
    "        return convert(q, base) + tmp[r]\n",
    "\n",
    "def isPrime(x):\n",
    "    if x==1: return False\n",
    "    for i in range(2, int(math.sqrt(x)) + 1):\n",
    "        if x % i == 0:\n",
    "            return False # 소수가 아님\n",
    "    return True # 소수임"
   ]
  },
  {
   "cell_type": "code",
   "execution_count": 89,
   "id": "western-attribute",
   "metadata": {},
   "outputs": [
    {
     "data": {
      "text/plain": [
       "3"
      ]
     },
     "execution_count": 89,
     "metadata": {},
     "output_type": "execute_result"
    }
   ],
   "source": [
    "solution(437674, 3)"
   ]
  },
  {
   "cell_type": "code",
   "execution_count": 90,
   "id": "cooperative-tsunami",
   "metadata": {},
   "outputs": [
    {
     "data": {
      "text/plain": [
       "2"
      ]
     },
     "execution_count": 90,
     "metadata": {},
     "output_type": "execute_result"
    }
   ],
   "source": [
    "solution(110011, 10)"
   ]
  },
  {
   "cell_type": "markdown",
   "id": "rotary-plaintiff",
   "metadata": {},
   "source": [
    "## 3번"
   ]
  },
  {
   "cell_type": "code",
   "execution_count": 166,
   "id": "distributed-satellite",
   "metadata": {},
   "outputs": [],
   "source": [
    "import math\n",
    "from datetime import datetime\n",
    "\n",
    "def solution(fees, records):\n",
    "    answer = []\n",
    "    parking = {}\n",
    "    timeInfo = {}\n",
    "    for record in records:\n",
    "        time, car, inout = record.split()\n",
    "        if inout==\"IN\":\n",
    "            parking[car] = time\n",
    "        elif inout == \"OUT\":\n",
    "            # 머문 시간 계산 후\n",
    "            inTime = datetime.strptime(parking[car], \"%H:%M\")\n",
    "            outTime = datetime.strptime(time, \"%H:%M\")\n",
    "            if car in timeInfo.keys():\n",
    "                timeInfo[car] += (outTime-inTime).seconds//60\n",
    "            else:\n",
    "                timeInfo[car] = (outTime-inTime).seconds//60\n",
    "            # 값을 0으로 만든다\n",
    "            parking[car] = 0\n",
    "    # 출차 정보가 없는 경우\n",
    "    for car, time in parking.items():\n",
    "        if time:\n",
    "            inTime = datetime.strptime(time, \"%H:%M\")\n",
    "            outTime = datetime.strptime(\"23:59\", \"%H:%M\")\n",
    "            if car in timeInfo.keys():\n",
    "                timeInfo[car] += (outTime-inTime).seconds//60\n",
    "            else:\n",
    "                timeInfo[car] = (outTime-inTime).seconds//60\n",
    "    print(\"시간정보: \", timeInfo)\n",
    "    \n",
    "    baseTime, basePrice, unitTime, unitPrice = fees\n",
    "    for car, time in timeInfo.items():\n",
    "        fee = basePrice + max(0, math.ceil((time-baseTime)/unitTime))*unitPrice\n",
    "        print(\"요금: \", fee)\n",
    "        answer.append([car, fee])\n",
    "    answer = sorted(answer, key=lambda x: x[0])\n",
    "    return [x[1] for x in answer]"
   ]
  },
  {
   "cell_type": "code",
   "execution_count": 167,
   "id": "conservative-ground",
   "metadata": {},
   "outputs": [],
   "source": [
    "fees = [180, 5000, 10, 600]\n",
    "records = [\"05:34 5961 IN\", \"06:00 0000 IN\", \"06:34 0000 OUT\", \"07:59 5961 OUT\", \"07:59 0148 IN\", \"18:59 0000 IN\", \"19:09 0148 OUT\", \"22:59 5961 IN\", \"23:00 5961 OUT\"]"
   ]
  },
  {
   "cell_type": "code",
   "execution_count": 168,
   "id": "logical-speed",
   "metadata": {},
   "outputs": [
    {
     "name": "stdout",
     "output_type": "stream",
     "text": [
      "시간정보:  {'0000': 334, '5961': 146, '0148': 670}\n",
      "요금:  14600\n",
      "요금:  5000\n",
      "요금:  34400\n"
     ]
    },
    {
     "data": {
      "text/plain": [
       "[14600, 34400, 5000]"
      ]
     },
     "execution_count": 168,
     "metadata": {},
     "output_type": "execute_result"
    }
   ],
   "source": [
    "solution(fees, records)"
   ]
  },
  {
   "cell_type": "markdown",
   "id": "strategic-dryer",
   "metadata": {},
   "source": [
    "## 4번"
   ]
  },
  {
   "cell_type": "code",
   "execution_count": 242,
   "id": "economic-psychology",
   "metadata": {},
   "outputs": [],
   "source": [
    "def solution(n, info):\n",
    "    answer = []\n",
    "    weight = []\n",
    "    for i in range(11):\n",
    "        num = 10-i\n",
    "        if info[i]:\n",
    "            weight.append(num*2/(info[i]+1))\n",
    "        else:\n",
    "            weight.append(num/(info[i]+1))\n",
    "    \n",
    "    ryon = [0] * 11 # 라이언의 명중 정보\n",
    "    apeach = info[:]\n",
    "    while n>0 and weight != [0]*11:\n",
    "        print()\n",
    "        maxIdx = 0\n",
    "        for i in range(0, 11): # 최대 가중치 찾기\n",
    "            if info[i] >= n: weight[i] = 0 # 뺏을 수 없는 점수는 가중치 0\n",
    "            elif weight[i] > weight[maxIdx]: maxIdx = i\n",
    "        ryon[maxIdx] = info[maxIdx] + 1 # 점수 뺏기\n",
    "        if info[maxIdx]:\n",
    "            apeach[maxIdx] = 0\n",
    "        n -= info[maxIdx] + 1 # 화살 수 감소\n",
    "        weight[maxIdx] = 0 # 가중치 0\n",
    "    if n: # 화살 남은 경우\n",
    "        ryon[-1] = n\n",
    "    \n",
    "    apeachPoint = sum([10-i for i in range(11) if apeach[i]])\n",
    "    ryonPoint = sum([10-i for i in range(11) if ryon[i]])\n",
    "    \n",
    "    return [-1] if apeachPoint >= ryonPoint else ryon"
   ]
  },
  {
   "cell_type": "code",
   "execution_count": 243,
   "id": "primary-bailey",
   "metadata": {},
   "outputs": [
    {
     "name": "stdout",
     "output_type": "stream",
     "text": [
      "\n",
      "\n",
      "\n"
     ]
    },
    {
     "data": {
      "text/plain": [
       "[0, 2, 2, 0, 1, 0, 0, 0, 0, 0, 0]"
      ]
     },
     "execution_count": 243,
     "metadata": {},
     "output_type": "execute_result"
    }
   ],
   "source": [
    "info = [2,1,1,1,0,0,0,0,0,0,0]\n",
    "solution(5, info)"
   ]
  },
  {
   "cell_type": "code",
   "execution_count": 244,
   "id": "brilliant-denver",
   "metadata": {},
   "outputs": [
    {
     "name": "stdout",
     "output_type": "stream",
     "text": [
      "\n",
      "\n",
      "\n",
      "\n",
      "\n",
      "\n"
     ]
    },
    {
     "data": {
      "text/plain": [
       "[1, 1, 2, 0, 1, 2, 2, 0, 0, 0, 0]"
      ]
     },
     "execution_count": 244,
     "metadata": {},
     "output_type": "execute_result"
    }
   ],
   "source": [
    "info = [0,0,1,2,0,1,1,1,1,1,1]\n",
    "solution(9, info)"
   ]
  },
  {
   "cell_type": "code",
   "execution_count": 245,
   "id": "aggregate-exercise",
   "metadata": {},
   "outputs": [
    {
     "name": "stdout",
     "output_type": "stream",
     "text": [
      "\n",
      "\n",
      "\n",
      "\n",
      "\n",
      "\n",
      "\n",
      "\n"
     ]
    },
    {
     "data": {
      "text/plain": [
       "[1, 1, 1, 1, 1, 1, 1, 1, 0, 0, 2]"
      ]
     },
     "execution_count": 245,
     "metadata": {},
     "output_type": "execute_result"
    }
   ],
   "source": [
    "info = [0,0,0,0,0,0,0,0,3,4,3]\n",
    "solution(10, info)"
   ]
  },
  {
   "cell_type": "code",
   "execution_count": 246,
   "id": "honest-longer",
   "metadata": {},
   "outputs": [
    {
     "name": "stdout",
     "output_type": "stream",
     "text": [
      "\n"
     ]
    },
    {
     "data": {
      "text/plain": [
       "[-1]"
      ]
     },
     "execution_count": 246,
     "metadata": {},
     "output_type": "execute_result"
    }
   ],
   "source": [
    "info = [1,0,0,0,0,0,0,0,0,0,0]\n",
    "solution(1, info)"
   ]
  },
  {
   "cell_type": "markdown",
   "id": "sharp-myrtle",
   "metadata": {},
   "source": [
    "## 5번"
   ]
  },
  {
   "cell_type": "code",
   "execution_count": 257,
   "id": "fitting-hawaiian",
   "metadata": {},
   "outputs": [],
   "source": [
    "def solution(info, edges):\n",
    "    answer = 0\n",
    "    # graph = [((False if info[i] else True),[]) for i in range(len(info))] # 양: True 늑대: False\n",
    "    graph = [[] for i in range(len(info))]\n",
    "    for edge in edges:\n",
    "        graph[edge[0]].append(edge[1])\n",
    "    print(graph)\n",
    "    count = 0\n",
    "    start = 0\n",
    "    visited = [False] * len(info)\n",
    "    stack = [start]\n",
    "    visited[start] = True\n",
    "    count += 1\n",
    "    parent = stack.pop()\n",
    "    for node in graph[parent]:\n",
    "        if info[node]==0:\n",
    "            stack.append(node)\n",
    "    # 양 으로 이동\n",
    "    \n",
    "    return answer"
   ]
  },
  {
   "cell_type": "code",
   "execution_count": 258,
   "id": "monetary-buying",
   "metadata": {},
   "outputs": [
    {
     "name": "stdout",
     "output_type": "stream",
     "text": [
      "[[1, 8], [2, 4], [], [], [3, 6], [], [5], [], [7, 9], [10, 11], [], []]\n"
     ]
    },
    {
     "data": {
      "text/plain": [
       "0"
      ]
     },
     "execution_count": 258,
     "metadata": {},
     "output_type": "execute_result"
    }
   ],
   "source": [
    "info = [0,0,1,1,1,0,1,0,1,0,1,1]\n",
    "edges = [[0,1],[1,2],[1,4],[0,8],[8,7],[9,10],[9,11],[4,3],[6,5],[4,6],[8,9]]\n",
    "solution(info, edges)"
   ]
  },
  {
   "cell_type": "markdown",
   "id": "liable-break",
   "metadata": {},
   "source": [
    "## 6번"
   ]
  },
  {
   "cell_type": "code",
   "execution_count": 262,
   "id": "million-copper",
   "metadata": {},
   "outputs": [],
   "source": [
    "def solution(board, skill):\n",
    "    answer = 0\n",
    "    for s in skill:\n",
    "        t, r1, c1, r2, c2, degree = s\n",
    "        f = -1 if t == 1 else 1 # 1:공격, 2:회복\n",
    "        for r in range(r1, r2+1):\n",
    "            for c in range(c1, c2+1):\n",
    "                board[r][c] += f*degree\n",
    "    # print(board)\n",
    "    skill.sort(key=lambda x: (x[0],x[1],x[3]))\n",
    "    for s in skill:\n",
    "        print(s)\n",
    "    for row in board:\n",
    "        answer += len([n for n in row if n>0])\n",
    "    return answer"
   ]
  },
  {
   "cell_type": "code",
   "execution_count": 286,
   "id": "referenced-antenna",
   "metadata": {},
   "outputs": [],
   "source": [
    "def solution(board, skill):\n",
    "    answer = 0\n",
    "    hashBoard = {}\n",
    "    for r in range(len(board)):\n",
    "        for c in range(len(board[0])):\n",
    "            hashBoard[(r,c)]=board[r][c]\n",
    "            if board[r][c]>0: answer += 1\n",
    "    print(hashBoard)\n",
    "    for s in skill:\n",
    "        t, r1, c1, r2, c2, degree = s\n",
    "        f = -1 if t == 1 else 1 # 1:공격, 2:회복\n",
    "        for r in range(r1, r2+1):\n",
    "            for c in range(c1, c2+1):\n",
    "                before = hashBoard[(r,c)]\n",
    "                hashBoard[(r,c)] += f*degree\n",
    "                after = hashBoard[(r,c)]\n",
    "                if before>0 and after<=0: # + 에서 -로\n",
    "                    answer-=1\n",
    "                elif before<=0 and after>0: # - 에서 +로\n",
    "                    answer+=1\n",
    "    for h in hashBoard.items():\n",
    "        print(h)\n",
    "    return answer"
   ]
  },
  {
   "cell_type": "code",
   "execution_count": null,
   "id": "continued-jacket",
   "metadata": {},
   "outputs": [],
   "source": [
    "def solution(board, skill):\n",
    "    answer = 0\n",
    "    for s in skill:\n",
    "        t, r1, c1, r2, c2, degree = s\n",
    "        f = -1 if t == 1 else 1 # 1:공격, 2:회복\n",
    "        for r in range(r1, r2+1):\n",
    "            for c in range(c1, c2+1):\n",
    "                board[r][c] += f*degree\n",
    "    # print(board)\n",
    "    return answer"
   ]
  },
  {
   "cell_type": "code",
   "execution_count": 287,
   "id": "committed-burner",
   "metadata": {},
   "outputs": [],
   "source": [
    "board = [[5,5,5,5,5],[5,5,5,5,5],[5,5,5,5,5],[5,5,5,5,5]]\n",
    "skill = [[1,0,0,3,4,4],[1,2,0,2,3,2],[2,1,0,3,1,2],[1,0,1,3,3,1]]"
   ]
  },
  {
   "cell_type": "code",
   "execution_count": 288,
   "id": "scheduled-yacht",
   "metadata": {},
   "outputs": [
    {
     "name": "stdout",
     "output_type": "stream",
     "text": [
      "{(0, 0): 5, (0, 1): 5, (0, 2): 5, (0, 3): 5, (0, 4): 5, (1, 0): 5, (1, 1): 5, (1, 2): 5, (1, 3): 5, (1, 4): 5, (2, 0): 5, (2, 1): 5, (2, 2): 5, (2, 3): 5, (2, 4): 5, (3, 0): 5, (3, 1): 5, (3, 2): 5, (3, 3): 5, (3, 4): 5}\n",
      "((0, 0), 1)\n",
      "((0, 1), 0)\n",
      "((0, 2), 0)\n",
      "((0, 3), 0)\n",
      "((0, 4), 1)\n",
      "((1, 0), 3)\n",
      "((1, 1), 2)\n",
      "((1, 2), 0)\n",
      "((1, 3), 0)\n",
      "((1, 4), 1)\n",
      "((2, 0), 1)\n",
      "((2, 1), 0)\n",
      "((2, 2), -2)\n",
      "((2, 3), -2)\n",
      "((2, 4), 1)\n",
      "((3, 0), 3)\n",
      "((3, 1), 2)\n",
      "((3, 2), 0)\n",
      "((3, 3), 0)\n",
      "((3, 4), 1)\n"
     ]
    },
    {
     "data": {
      "text/plain": [
       "10"
      ]
     },
     "execution_count": 288,
     "metadata": {},
     "output_type": "execute_result"
    }
   ],
   "source": [
    "solution(board, skill)"
   ]
  },
  {
   "cell_type": "code",
   "execution_count": null,
   "id": "round-congo",
   "metadata": {},
   "outputs": [],
   "source": []
  }
 ],
 "metadata": {
  "kernelspec": {
   "display_name": "Python 3",
   "language": "python",
   "name": "python3"
  },
  "language_info": {
   "codemirror_mode": {
    "name": "ipython",
    "version": 3
   },
   "file_extension": ".py",
   "mimetype": "text/x-python",
   "name": "python",
   "nbconvert_exporter": "python",
   "pygments_lexer": "ipython3",
   "version": "3.8.5"
  }
 },
 "nbformat": 4,
 "nbformat_minor": 5
}
