{
 "cells": [
  {
   "cell_type": "markdown",
   "id": "elder-strip",
   "metadata": {},
   "source": [
    "https://programmers.co.kr/learn/courses/30/lessons/42839"
   ]
  },
  {
   "cell_type": "code",
   "execution_count": 1,
   "id": "direct-carol",
   "metadata": {},
   "outputs": [],
   "source": [
    "from itertools import permutations\n",
    "\n",
    "def solution(numbers):\n",
    "    answer = 0\n",
    "    case = makeCase(numbers)\n",
    "    for n in case:\n",
    "        if isPrime(n): answer += 1\n",
    "\n",
    "    return answer\n",
    "\n",
    "def makeCase(numbers):\n",
    "    result = []\n",
    "    for i in range(1, len(numbers)+1):\n",
    "        result.extend(list(map(int, map(''.join, permutations(numbers, i)))))\n",
    "    result = list(filter(lambda x: x > 1, list(set(result))))\n",
    "    \n",
    "    return result\n",
    "\n",
    "def isPrime(n):\n",
    "    for i in range(2, int(n ** 0.5) + 1):\n",
    "        if n % i == 0: return False\n",
    "    return True"
   ]
  }
 ],
 "metadata": {
  "kernelspec": {
   "display_name": "Python 3",
   "language": "python",
   "name": "python3"
  },
  "language_info": {
   "codemirror_mode": {
    "name": "ipython",
    "version": 3
   },
   "file_extension": ".py",
   "mimetype": "text/x-python",
   "name": "python",
   "nbconvert_exporter": "python",
   "pygments_lexer": "ipython3",
   "version": "3.8.5"
  }
 },
 "nbformat": 4,
 "nbformat_minor": 5
}
