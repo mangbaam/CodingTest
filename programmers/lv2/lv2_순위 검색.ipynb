{
 "cells": [
  {
   "cell_type": "markdown",
   "id": "essential-thomson",
   "metadata": {},
   "source": [
    "## 2021 KAKAO BLIND RECRUITMENT\n",
    "https://programmers.co.kr/learn/courses/30/lessons/72412"
   ]
  },
  {
   "cell_type": "markdown",
   "id": "broke-ivory",
   "metadata": {},
   "source": [
    "### 첫 번째 시도 (효율성 시간초과)"
   ]
  },
  {
   "cell_type": "code",
   "execution_count": 1,
   "id": "educational-portable",
   "metadata": {},
   "outputs": [],
   "source": [
    "def solution(info, query):\n",
    "    answer = []\n",
    "    userInfos = []\n",
    "    for user in info:\n",
    "        user = user.split()\n",
    "        userInfo = {'언어': user[0], '직군': user[1], '경력': user[2], '소울푸드': user[3], '점수': user[4]}\n",
    "        userInfos.append(userInfo)\n",
    "    \n",
    "    for q in query:\n",
    "        언어, 직군, 경력, tmp = q.split(' and ')\n",
    "        소울푸드, 점수 = tmp.split()\n",
    "        answer.append(find(userInfos, 언어, 직군, 경력, 소울푸드, 점수))\n",
    "        \n",
    "    return answer\n",
    "\n",
    "def find(userInfo, 언어, 직군, 경력, 소울푸드, 점수):\n",
    "    findAll = lambda x, y : x==y if y != '-' else True\n",
    "    return len([user for user in userInfo \n",
    "                if (\n",
    "                    findAll(user['언어'], 언어) and\n",
    "                    findAll(user['직군'], 직군) and\n",
    "                    findAll(user['경력'], 경력) and\n",
    "                    findAll(user['소울푸드'], 소울푸드) and\n",
    "                    int(user['점수'])>=int(점수)\n",
    "                   )\n",
    "               ])"
   ]
  },
  {
   "cell_type": "code",
   "execution_count": 2,
   "id": "incorporate-passion",
   "metadata": {},
   "outputs": [
    {
     "data": {
      "text/plain": [
       "[1, 1, 1, 1, 2, 4]"
      ]
     },
     "execution_count": 2,
     "metadata": {},
     "output_type": "execute_result"
    }
   ],
   "source": [
    "info = [\"java backend junior pizza 150\",\"python frontend senior chicken 210\",\"python frontend senior chicken 150\",\"cpp backend senior pizza 260\",\"java backend junior chicken 80\",\"python backend senior chicken 50\"]\n",
    "query = [\"java and backend and junior and pizza 100\",\"python and frontend and senior and chicken 200\",\"cpp and - and senior and pizza 250\",\"- and backend and senior and - 150\",\"- and - and - and chicken 100\",\"- and - and - and - 150\"]\n",
    "solution(info, query)"
   ]
  },
  {
   "cell_type": "markdown",
   "id": "handed-beatles",
   "metadata": {},
   "source": [
    "### 두 번째 시도 (이분탐색) (효율성 시간초과)"
   ]
  },
  {
   "cell_type": "code",
   "execution_count": 13,
   "id": "apart-playlist",
   "metadata": {},
   "outputs": [],
   "source": [
    "def solution(info, query):\n",
    "    answer = []\n",
    "    userInfos = []\n",
    "    for user in info:\n",
    "        user = user.split()\n",
    "        userInfo = {'언어': user[0], '직군': user[1], '경력': user[2], '소울푸드': user[3], '점수': int(user[4])}\n",
    "        userInfos.append(userInfo)\n",
    "    userInfos.sort(key=lambda x:x['점수'])\n",
    "    \n",
    "    for q in query:\n",
    "        언어, 직군, 경력, tmp = q.split(' and ')\n",
    "        소울푸드, 점수 = tmp.split()\n",
    "        answer.append(find(userInfos, 언어, 직군, 경력, 소울푸드, int(점수)))\n",
    "        \n",
    "    return answer\n",
    "\n",
    "def find(userInfo, 언어, 직군, 경력, 소울푸드, 점수):\n",
    "    findAll = lambda x, y : x==y if y != '-' else True\n",
    "    \n",
    "    start, end = 0, len(userInfo)-1\n",
    "    mid = 0\n",
    "    while start <= end:\n",
    "        mid = (start+end)//2\n",
    "        유저점수 = userInfo[mid]['점수']\n",
    "        if 유저점수==점수: break\n",
    "        elif 유저점수 > 점수:\n",
    "            end = mid - 1\n",
    "        elif 유저점수 < 점수:\n",
    "            start = mid + 1\n",
    "    while mid > 0 and userInfo[mid]['점수']==userInfo[mid-1]['점수']:\n",
    "        mid -= 1\n",
    "    \n",
    "    return len([user for user in userInfo[mid:]\n",
    "                if (\n",
    "                    findAll(user['언어'], 언어) and\n",
    "                    findAll(user['직군'], 직군) and\n",
    "                    findAll(user['경력'], 경력) and\n",
    "                    findAll(user['소울푸드'], 소울푸드) and\n",
    "                    user['점수']>=점수\n",
    "                   )\n",
    "               ])"
   ]
  },
  {
   "cell_type": "code",
   "execution_count": 14,
   "id": "exciting-designation",
   "metadata": {},
   "outputs": [
    {
     "data": {
      "text/plain": [
       "[1, 1, 1, 1, 2, 4]"
      ]
     },
     "execution_count": 14,
     "metadata": {},
     "output_type": "execute_result"
    }
   ],
   "source": [
    "info = [\"java backend junior pizza 150\",\"python frontend senior chicken 210\",\"python frontend senior chicken 150\",\"cpp backend senior pizza 260\",\"java backend junior chicken 80\",\"python backend senior chicken 50\"]\n",
    "query = [\"java and backend and junior and pizza 100\",\"python and frontend and senior and chicken 200\",\"cpp and - and senior and pizza 250\",\"- and backend and senior and - 150\",\"- and - and - and chicken 100\",\"- and - and - and - 150\"]\n",
    "solution(info, query)"
   ]
  },
  {
   "cell_type": "markdown",
   "id": "spare-consent",
   "metadata": {},
   "source": [
    "### 최종 정답"
   ]
  },
  {
   "cell_type": "code",
   "execution_count": 101,
   "id": "going-caution",
   "metadata": {},
   "outputs": [],
   "source": [
    "def solution(info, query):\n",
    "    answer = []\n",
    "    \n",
    "    users = {}\n",
    "    for user in info:\n",
    "        user = user.split()\n",
    "        for i in range(16):\n",
    "            item = \"\"\n",
    "            item += user[0] if int(bin(i&8)[2:]) else '-'\n",
    "            item += user[1] if int(bin(i&4)[2:]) else '-'\n",
    "            item += user[2] if int(bin(i&2)[2:]) else '-'\n",
    "            item += user[3] if int(bin(i&1)[2:]) else '-'\n",
    "            if item in users.keys():\n",
    "                users[item].append(int(user[-1]))\n",
    "            else: users[item] = [int(user[-1])]\n",
    "    for k in users.keys():\n",
    "        users[k]=sorted(users[k])\n",
    "    \n",
    "    for q in query:\n",
    "        언어, 직군, 경력, tmp = q.split(' and ')\n",
    "        소울푸드, 점수 = tmp.split()\n",
    "        점수 = int(점수)\n",
    "        keyword = 언어+직군+경력+소울푸드\n",
    "        if keyword in users.keys():\n",
    "            points = users[keyword]\n",
    "            start, end = 0, len(points)-1\n",
    "            mid = 0\n",
    "            while start <= end:\n",
    "                mid = (start+end) // 2\n",
    "                if points[mid]==점수:\n",
    "                    break\n",
    "                elif points[mid] > 점수:\n",
    "                    end = mid-1\n",
    "                elif points[mid] < 점수:\n",
    "                    start = mid+1\n",
    "            while mid>=0 and points[mid] >= 점수:\n",
    "                mid -= 1\n",
    "            answer.append(len(points)-mid-1)\n",
    "        else:\n",
    "            answer.append(0)\n",
    " \n",
    "    return answer"
   ]
  },
  {
   "cell_type": "code",
   "execution_count": 102,
   "id": "patient-slide",
   "metadata": {},
   "outputs": [
    {
     "data": {
      "text/plain": [
       "[1, 1, 1, 1, 2, 4]"
      ]
     },
     "execution_count": 102,
     "metadata": {},
     "output_type": "execute_result"
    }
   ],
   "source": [
    "info = [\"java backend junior pizza 150\",\"python frontend senior chicken 210\",\"python frontend senior chicken 150\",\"cpp backend senior pizza 260\",\"java backend junior chicken 80\",\"python backend senior chicken 50\"]\n",
    "query = [\"java and backend and junior and pizza 100\",\"python and frontend and senior and chicken 200\",\"cpp and - and senior and pizza 250\",\"- and backend and senior and - 150\",\"- and - and - and chicken 100\",\"- and - and - and - 150\"]\n",
    "solution(info, query)"
   ]
  },
  {
   "cell_type": "code",
   "execution_count": 103,
   "id": "dietary-appendix",
   "metadata": {},
   "outputs": [],
   "source": [
    "def solution(info, query):\n",
    "    answer = []\n",
    "    \n",
    "    users = {}\n",
    "    for user in info:\n",
    "        user = user.split()\n",
    "        for i in range(16):\n",
    "            item = \"\"\n",
    "            item += user[0] if int(bin(i&8)[2:]) else '-'\n",
    "            item += user[1] if int(bin(i&4)[2:]) else '-'\n",
    "            item += user[2] if int(bin(i&2)[2:]) else '-'\n",
    "            item += user[3] if int(bin(i&1)[2:]) else '-'\n",
    "            print(item)\n",
    "            if item in users.keys():\n",
    "                users[item].append(int(user[-1]))\n",
    "            else: users[item] = [int(user[-1])]\n"
   ]
  },
  {
   "cell_type": "code",
   "execution_count": 104,
   "id": "continued-exclusion",
   "metadata": {},
   "outputs": [
    {
     "name": "stdout",
     "output_type": "stream",
     "text": [
      "----\n",
      "---pizza\n",
      "--junior-\n",
      "--juniorpizza\n",
      "-backend--\n",
      "-backend-pizza\n",
      "-backendjunior-\n",
      "-backendjuniorpizza\n",
      "java---\n",
      "java--pizza\n",
      "java-junior-\n",
      "java-juniorpizza\n",
      "javabackend--\n",
      "javabackend-pizza\n",
      "javabackendjunior-\n",
      "javabackendjuniorpizza\n",
      "----\n",
      "---chicken\n",
      "--senior-\n",
      "--seniorchicken\n",
      "-frontend--\n",
      "-frontend-chicken\n",
      "-frontendsenior-\n",
      "-frontendseniorchicken\n",
      "python---\n",
      "python--chicken\n",
      "python-senior-\n",
      "python-seniorchicken\n",
      "pythonfrontend--\n",
      "pythonfrontend-chicken\n",
      "pythonfrontendsenior-\n",
      "pythonfrontendseniorchicken\n",
      "----\n",
      "---chicken\n",
      "--senior-\n",
      "--seniorchicken\n",
      "-frontend--\n",
      "-frontend-chicken\n",
      "-frontendsenior-\n",
      "-frontendseniorchicken\n",
      "python---\n",
      "python--chicken\n",
      "python-senior-\n",
      "python-seniorchicken\n",
      "pythonfrontend--\n",
      "pythonfrontend-chicken\n",
      "pythonfrontendsenior-\n",
      "pythonfrontendseniorchicken\n",
      "----\n",
      "---pizza\n",
      "--senior-\n",
      "--seniorpizza\n",
      "-backend--\n",
      "-backend-pizza\n",
      "-backendsenior-\n",
      "-backendseniorpizza\n",
      "cpp---\n",
      "cpp--pizza\n",
      "cpp-senior-\n",
      "cpp-seniorpizza\n",
      "cppbackend--\n",
      "cppbackend-pizza\n",
      "cppbackendsenior-\n",
      "cppbackendseniorpizza\n",
      "----\n",
      "---chicken\n",
      "--junior-\n",
      "--juniorchicken\n",
      "-backend--\n",
      "-backend-chicken\n",
      "-backendjunior-\n",
      "-backendjuniorchicken\n",
      "java---\n",
      "java--chicken\n",
      "java-junior-\n",
      "java-juniorchicken\n",
      "javabackend--\n",
      "javabackend-chicken\n",
      "javabackendjunior-\n",
      "javabackendjuniorchicken\n",
      "----\n",
      "---chicken\n",
      "--senior-\n",
      "--seniorchicken\n",
      "-backend--\n",
      "-backend-chicken\n",
      "-backendsenior-\n",
      "-backendseniorchicken\n",
      "python---\n",
      "python--chicken\n",
      "python-senior-\n",
      "python-seniorchicken\n",
      "pythonbackend--\n",
      "pythonbackend-chicken\n",
      "pythonbackendsenior-\n",
      "pythonbackendseniorchicken\n"
     ]
    }
   ],
   "source": [
    "info = [\"java backend junior pizza 150\",\"python frontend senior chicken 210\",\"python frontend senior chicken 150\",\"cpp backend senior pizza 260\",\"java backend junior chicken 80\",\"python backend senior chicken 50\"]\n",
    "query = [\"java and backend and junior and pizza 100\",\"python and frontend and senior and chicken 200\",\"cpp and - and senior and pizza 250\",\"- and backend and senior and - 150\",\"- and - and - and chicken 100\",\"- and - and - and - 150\"]\n",
    "solution(info, query)"
   ]
  },
  {
   "cell_type": "code",
   "execution_count": null,
   "id": "fatal-aspect",
   "metadata": {},
   "outputs": [],
   "source": []
  }
 ],
 "metadata": {
  "kernelspec": {
   "display_name": "Python 3",
   "language": "python",
   "name": "python3"
  },
  "language_info": {
   "codemirror_mode": {
    "name": "ipython",
    "version": 3
   },
   "file_extension": ".py",
   "mimetype": "text/x-python",
   "name": "python",
   "nbconvert_exporter": "python",
   "pygments_lexer": "ipython3",
   "version": "3.8.5"
  }
 },
 "nbformat": 4,
 "nbformat_minor": 5
}
