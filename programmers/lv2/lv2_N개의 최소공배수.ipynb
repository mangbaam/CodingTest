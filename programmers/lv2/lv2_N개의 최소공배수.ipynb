{
 "cells": [
  {
   "cell_type": "markdown",
   "id": "nearby-american",
   "metadata": {},
   "source": [
    "https://programmers.co.kr/learn/courses/30/lessons/12953"
   ]
  },
  {
   "cell_type": "code",
   "execution_count": 1,
   "id": "sudden-sample",
   "metadata": {},
   "outputs": [],
   "source": [
    "from math import gcd\n",
    "\n",
    "def solution(arr):\n",
    "    for i in range(1, len(arr)):\n",
    "        arr[i] = arr[i-1] * arr[i] // gcd(arr[i-1], arr[i])\n",
    "    return arr[-1]"
   ]
  },
  {
   "cell_type": "code",
   "execution_count": 2,
   "id": "prescription-effort",
   "metadata": {},
   "outputs": [
    {
     "data": {
      "text/plain": [
       "168"
      ]
     },
     "execution_count": 2,
     "metadata": {},
     "output_type": "execute_result"
    }
   ],
   "source": [
    "solution([2, 6, 8, 14])"
   ]
  },
  {
   "cell_type": "code",
   "execution_count": 4,
   "id": "disciplinary-appliance",
   "metadata": {},
   "outputs": [
    {
     "data": {
      "text/plain": [
       "6"
      ]
     },
     "execution_count": 4,
     "metadata": {},
     "output_type": "execute_result"
    }
   ],
   "source": [
    "solution([1, 2, 3])"
   ]
  }
 ],
 "metadata": {
  "kernelspec": {
   "display_name": "Python 3",
   "language": "python",
   "name": "python3"
  },
  "language_info": {
   "codemirror_mode": {
    "name": "ipython",
    "version": 3
   },
   "file_extension": ".py",
   "mimetype": "text/x-python",
   "name": "python",
   "nbconvert_exporter": "python",
   "pygments_lexer": "ipython3",
   "version": "3.8.5"
  }
 },
 "nbformat": 4,
 "nbformat_minor": 5
}
