{
 "cells": [
  {
   "cell_type": "markdown",
   "id": "sharp-saturday",
   "metadata": {},
   "source": [
    "https://programmers.co.kr/learn/courses/30/lessons/42885#"
   ]
  },
  {
   "cell_type": "code",
   "execution_count": 8,
   "id": "meaning-clone",
   "metadata": {},
   "outputs": [],
   "source": [
    "def solution(people, limit):\n",
    "    people.sort()\n",
    "    answer = 0\n",
    "    i, j = 0, len(people)-1\n",
    "    while i < j:\n",
    "        if people[i]+people[j] <= limit:\n",
    "            i+=1\n",
    "        j-=1\n",
    "        answer += 1\n",
    "    return answer+1 if i==j else answer"
   ]
  },
  {
   "cell_type": "code",
   "execution_count": 9,
   "id": "turned-saturday",
   "metadata": {
    "scrolled": false
   },
   "outputs": [
    {
     "data": {
      "text/plain": [
       "4"
      ]
     },
     "execution_count": 9,
     "metadata": {},
     "output_type": "execute_result"
    }
   ],
   "source": [
    "people= [70, 50, 80, 50]\n",
    "people= [51, 51, 51, 51]\n",
    "solution(people, 100)"
   ]
  }
 ],
 "metadata": {
  "kernelspec": {
   "display_name": "Python 3",
   "language": "python",
   "name": "python3"
  },
  "language_info": {
   "codemirror_mode": {
    "name": "ipython",
    "version": 3
   },
   "file_extension": ".py",
   "mimetype": "text/x-python",
   "name": "python",
   "nbconvert_exporter": "python",
   "pygments_lexer": "ipython3",
   "version": "3.8.5"
  }
 },
 "nbformat": 4,
 "nbformat_minor": 5
}
