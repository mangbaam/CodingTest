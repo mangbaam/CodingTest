{
 "cells": [
  {
   "cell_type": "markdown",
   "id": "competitive-charlotte",
   "metadata": {},
   "source": [
    "https://programmers.co.kr/learn/courses/30/lessons/12941\n",
    "## https://latte-is-horse.tistory.com/181"
   ]
  },
  {
   "cell_type": "markdown",
   "id": "brilliant-cache",
   "metadata": {},
   "source": [
    "### 첫 번째 시도"
   ]
  },
  {
   "cell_type": "code",
   "execution_count": 1,
   "id": "administrative-match",
   "metadata": {},
   "outputs": [],
   "source": [
    "from itertools import permutations\n",
    "def solution(A,B):\n",
    "    answer = float('inf') # 가장 큰 수\n",
    "    routes = list(permutations(list(range(len(A))), len(A)))\n",
    "    table = [[A[i] * B[j] for i in range(len(A))] for j in range(len(A))]\n",
    "\n",
    "    for route in routes:\n",
    "        mid = sum([table[i][r] for i, r in enumerate(route)])\n",
    "        answer = min(answer, mid)\n",
    "    return answer"
   ]
  },
  {
   "cell_type": "code",
   "execution_count": 3,
   "id": "fluid-absence",
   "metadata": {},
   "outputs": [
    {
     "data": {
      "text/plain": [
       "[(0, 1, 2), (0, 2, 1), (1, 0, 2), (1, 2, 0), (2, 0, 1), (2, 1, 0)]"
      ]
     },
     "execution_count": 3,
     "metadata": {},
     "output_type": "execute_result"
    }
   ],
   "source": [
    "list(permutations(list(range(3)), 3))"
   ]
  },
  {
   "cell_type": "markdown",
   "id": "maritime-editing",
   "metadata": {},
   "source": [
    "### 두 번째 시도"
   ]
  },
  {
   "cell_type": "code",
   "execution_count": null,
   "id": "regular-executive",
   "metadata": {},
   "outputs": [],
   "source": [
    "def solution(A,B):\n",
    "    A.sort(); B.sort()\n",
    "    table = [[A[i] * B[j] for i in range(len(A))] for j in range(len(A))]\n",
    "    return sum([table[i][r] for i, r in enumerate(range(len(A)-1, -1, -1))])"
   ]
  },
  {
   "cell_type": "markdown",
   "id": "removable-virgin",
   "metadata": {},
   "source": [
    "### 세 번째 시도(성공)"
   ]
  },
  {
   "cell_type": "code",
   "execution_count": null,
   "id": "genetic-pixel",
   "metadata": {},
   "outputs": [],
   "source": [
    "def solution(A,B):\n",
    "    A.sort(reverse=True); B.sort()\n",
    "    return sum([A[i] * B[r] for i, r in enumerate(range(len(A)))])"
   ]
  }
 ],
 "metadata": {
  "kernelspec": {
   "display_name": "Python 3",
   "language": "python",
   "name": "python3"
  },
  "language_info": {
   "codemirror_mode": {
    "name": "ipython",
    "version": 3
   },
   "file_extension": ".py",
   "mimetype": "text/x-python",
   "name": "python",
   "nbconvert_exporter": "python",
   "pygments_lexer": "ipython3",
   "version": "3.8.5"
  }
 },
 "nbformat": 4,
 "nbformat_minor": 5
}
