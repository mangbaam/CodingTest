{
 "cells": [
  {
   "cell_type": "markdown",
   "id": "intelligent-heading",
   "metadata": {},
   "source": [
    "## 압축\n",
    "### 2018 KAKAO BLIND RECRUITMENT\n",
    "#### https://latte-is-horse.tistory.com/260\n",
    "https://programmers.co.kr/learn/courses/30/lessons/17684"
   ]
  },
  {
   "cell_type": "code",
   "execution_count": 1,
   "id": "proved-cemetery",
   "metadata": {},
   "outputs": [],
   "source": [
    "import string\n",
    "def solution(msg):\n",
    "    answer = []\n",
    "    dic = dict(zip(string.ascii_uppercase, range(1, 27)))\n",
    "    \n",
    "    size = len(msg)\n",
    "    idx = 27\n",
    "    \n",
    "    i = 0\n",
    "    while i < size:\n",
    "        end = size\n",
    "        while msg[i:end] not in dic.keys():\n",
    "            end -= 1\n",
    "        answer.append(dic[msg[i:end]])\n",
    "        \n",
    "        dic[msg[i:end+1]] = idx\n",
    "        idx += 1\n",
    "        i += (end-i)\n",
    "                \n",
    "    return answer"
   ]
  },
  {
   "cell_type": "code",
   "execution_count": 2,
   "id": "piano-tumor",
   "metadata": {},
   "outputs": [
    {
     "data": {
      "text/plain": [
       "[11, 1, 27, 15]"
      ]
     },
     "execution_count": 2,
     "metadata": {},
     "output_type": "execute_result"
    }
   ],
   "source": [
    "msg = \"KAKAO\"\n",
    "solution(msg)"
   ]
  },
  {
   "cell_type": "code",
   "execution_count": 4,
   "id": "constant-stopping",
   "metadata": {},
   "outputs": [
    {
     "data": {
      "text/plain": [
       "[20, 15, 2, 5, 15, 18, 14, 15, 20, 27, 29, 31, 36, 30, 32, 34]"
      ]
     },
     "execution_count": 4,
     "metadata": {},
     "output_type": "execute_result"
    }
   ],
   "source": [
    "msg = \"TOBEORNOTTOBEORTOBEORNOT\"\n",
    "solution(msg)"
   ]
  },
  {
   "cell_type": "code",
   "execution_count": 5,
   "id": "tough-boards",
   "metadata": {},
   "outputs": [
    {
     "data": {
      "text/plain": [
       "[1, 2, 27, 29, 28, 31, 30]"
      ]
     },
     "execution_count": 5,
     "metadata": {},
     "output_type": "execute_result"
    }
   ],
   "source": [
    "msg = \"ABABABABABABABAB\"\n",
    "solution(msg)"
   ]
  }
 ],
 "metadata": {
  "kernelspec": {
   "display_name": "Python 3",
   "language": "python",
   "name": "python3"
  },
  "language_info": {
   "codemirror_mode": {
    "name": "ipython",
    "version": 3
   },
   "file_extension": ".py",
   "mimetype": "text/x-python",
   "name": "python",
   "nbconvert_exporter": "python",
   "pygments_lexer": "ipython3",
   "version": "3.8.5"
  }
 },
 "nbformat": 4,
 "nbformat_minor": 5
}
