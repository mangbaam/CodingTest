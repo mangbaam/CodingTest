{
 "cells": [
  {
   "cell_type": "code",
   "execution_count": 31,
   "id": "center-vinyl",
   "metadata": {},
   "outputs": [],
   "source": [
    "def solution(grid):\n",
    "    answer = []\n",
    "    cycle = set()\n",
    "    x, y, d = 0, 0, 2\n",
    "    cycle = getCycle(grid, x, y, d)\n",
    "    return cycle\n",
    "\n",
    "def getCycle(grid, x, y, d):\n",
    "    # d = 상: 0, 좌: 1 , 하: 2, 우: 3\n",
    "    cycle = set()\n",
    "    width, height = len(grid[0]), len(grid)\n",
    "    start = (x, y, d)\n",
    "    while True:\n",
    "        if d == 0: # 상\n",
    "            x = (x-1+height)%height\n",
    "        elif d == 2: # 하\n",
    "            x = (x+1)%height\n",
    "        elif d == 1: # 좌\n",
    "            y = (y-1+width) % width\n",
    "        elif d == 3: # 우\n",
    "            y = (y+1) % width\n",
    "        \n",
    "        if grid[x][y] == 'L': d = (d+1)%4\n",
    "        elif grid[x][y] == 'R': d = (d+3)%4\n",
    "        \n",
    "        now = (x, y, d)\n",
    "        if start == now: break\n",
    "        cycle.add(now)\n",
    "    return cycle"
   ]
  },
  {
   "cell_type": "code",
   "execution_count": 32,
   "id": "advanced-intro",
   "metadata": {},
   "outputs": [
    {
     "data": {
      "text/plain": [
       "{(0, 0, 0),\n",
       " (0, 0, 1),\n",
       " (0, 0, 3),\n",
       " (0, 1, 0),\n",
       " (0, 1, 1),\n",
       " (0, 1, 2),\n",
       " (0, 1, 3),\n",
       " (1, 0, 0),\n",
       " (1, 0, 1),\n",
       " (1, 0, 2),\n",
       " (1, 0, 3),\n",
       " (1, 1, 0),\n",
       " (1, 1, 1),\n",
       " (1, 1, 2),\n",
       " (1, 1, 3)}"
      ]
     },
     "execution_count": 32,
     "metadata": {},
     "output_type": "execute_result"
    }
   ],
   "source": [
    "solution([\"SL\", \"LR\"])"
   ]
  },
  {
   "cell_type": "code",
   "execution_count": 34,
   "id": "ranging-arrest",
   "metadata": {},
   "outputs": [
    {
     "name": "stdout",
     "output_type": "stream",
     "text": [
      "10000000000.0\n"
     ]
    }
   ],
   "source": [
    "print(10e+9)"
   ]
  },
  {
   "cell_type": "code",
   "execution_count": null,
   "id": "ambient-prediction",
   "metadata": {},
   "outputs": [],
   "source": []
  }
 ],
 "metadata": {
  "kernelspec": {
   "display_name": "Python 3",
   "language": "python",
   "name": "python3"
  },
  "language_info": {
   "codemirror_mode": {
    "name": "ipython",
    "version": 3
   },
   "file_extension": ".py",
   "mimetype": "text/x-python",
   "name": "python",
   "nbconvert_exporter": "python",
   "pygments_lexer": "ipython3",
   "version": "3.8.5"
  }
 },
 "nbformat": 4,
 "nbformat_minor": 5
}
