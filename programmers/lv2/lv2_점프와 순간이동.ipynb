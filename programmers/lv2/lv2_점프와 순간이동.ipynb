{
 "cells": [
  {
   "cell_type": "markdown",
   "id": "african-investment",
   "metadata": {},
   "source": [
    "https://programmers.co.kr/learn/courses/30/lessons/12980"
   ]
  },
  {
   "cell_type": "markdown",
   "id": "abstract-serbia",
   "metadata": {},
   "source": [
    "### 효율성 테스트 실패"
   ]
  },
  {
   "cell_type": "code",
   "execution_count": 1,
   "id": "demanding-absence",
   "metadata": {},
   "outputs": [],
   "source": [
    "def solution(n):\n",
    "    d = [0] * (n+1)\n",
    "    d[1] = 1\n",
    "    for i in range(2, n+1):\n",
    "        if i%2: d[i] = d[i-1]+1\n",
    "        else: d[i] = min(d[i//2], d[i-1]+1)\n",
    "    return d[n]"
   ]
  },
  {
   "cell_type": "code",
   "execution_count": 4,
   "id": "auburn-constraint",
   "metadata": {},
   "outputs": [
    {
     "data": {
      "text/plain": [
       "2"
      ]
     },
     "execution_count": 4,
     "metadata": {},
     "output_type": "execute_result"
    }
   ],
   "source": [
    "solution(3)"
   ]
  },
  {
   "cell_type": "markdown",
   "id": "fresh-zoning",
   "metadata": {},
   "source": [
    "### 정답 "
   ]
  },
  {
   "cell_type": "code",
   "execution_count": 5,
   "id": "effective-lingerie",
   "metadata": {},
   "outputs": [],
   "source": [
    "def solution(n):\n",
    "    answer = 0\n",
    "    while n:\n",
    "        if n%2: answer+=1; n-=1\n",
    "        else: n //= 2\n",
    "    return answer"
   ]
  }
 ],
 "metadata": {
  "kernelspec": {
   "display_name": "Python 3",
   "language": "python",
   "name": "python3"
  },
  "language_info": {
   "codemirror_mode": {
    "name": "ipython",
    "version": 3
   },
   "file_extension": ".py",
   "mimetype": "text/x-python",
   "name": "python",
   "nbconvert_exporter": "python",
   "pygments_lexer": "ipython3",
   "version": "3.8.5"
  }
 },
 "nbformat": 4,
 "nbformat_minor": 5
}
