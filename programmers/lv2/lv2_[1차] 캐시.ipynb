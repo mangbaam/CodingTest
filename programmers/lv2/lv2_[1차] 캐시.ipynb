{
 "cells": [
  {
   "cell_type": "markdown",
   "id": "criminal-clock",
   "metadata": {},
   "source": [
    "## 2018 KAKAO BLIND RECRUITMENT\n",
    "https://programmers.co.kr/learn/courses/30/lessons/17680"
   ]
  },
  {
   "cell_type": "code",
   "execution_count": 37,
   "id": "reserved-index",
   "metadata": {},
   "outputs": [],
   "source": [
    "import heapq\n",
    "\n",
    "def solution(cacheSize, cities):\n",
    "    answer = 0\n",
    "    memory = []\n",
    "    time = 0\n",
    "    for city in cities:\n",
    "        city = city.upper()\n",
    "        if city in [c[1] for c in memory]: # cache hit\n",
    "            answer += 1\n",
    "            memory = [c for c in memory if c[1]!=city]\n",
    "            heapq.heapify(memory)\n",
    "        elif len(memory) < cacheSize: # cache miss\n",
    "            answer += 5\n",
    "        else: # cache miss\n",
    "            answer += 5\n",
    "            if memory: heapq.heappop(memory)\n",
    "        if cacheSize > 0: heapq.heappush(memory, [time, city])\n",
    "        time += 1\n",
    "    \n",
    "    return answer"
   ]
  },
  {
   "cell_type": "code",
   "execution_count": 40,
   "id": "traditional-clearance",
   "metadata": {},
   "outputs": [
    {
     "data": {
      "text/plain": [
       "50"
      ]
     },
     "execution_count": 40,
     "metadata": {},
     "output_type": "execute_result"
    }
   ],
   "source": [
    "cities = [\"Jeju\", \"Pangyo\", \"Seoul\", \"NewYork\", \"LA\", \"Jeju\", \"Pangyo\", \"Seoul\", \"NewYork\", \"LA\"]\n",
    "solution(3, cities)"
   ]
  },
  {
   "cell_type": "code",
   "execution_count": 41,
   "id": "burning-height",
   "metadata": {},
   "outputs": [
    {
     "data": {
      "text/plain": [
       "21"
      ]
     },
     "execution_count": 41,
     "metadata": {},
     "output_type": "execute_result"
    }
   ],
   "source": [
    "cities = [\"Jeju\", \"Pangyo\", \"Seoul\", \"Jeju\", \"Pangyo\", \"Seoul\", \"Jeju\", \"Pangyo\", \"Seoul\"]\n",
    "solution(3, cities)"
   ]
  },
  {
   "cell_type": "code",
   "execution_count": 42,
   "id": "consecutive-princess",
   "metadata": {},
   "outputs": [
    {
     "data": {
      "text/plain": [
       "60"
      ]
     },
     "execution_count": 42,
     "metadata": {},
     "output_type": "execute_result"
    }
   ],
   "source": [
    "solution(2, [\"Jeju\", \"Pangyo\", \"Seoul\", \"NewYork\", \"LA\", \"SanFrancisco\", \"Seoul\", \"Rome\", \"Paris\", \"Jeju\", \"NewYork\", \"Rome\"])"
   ]
  },
  {
   "cell_type": "code",
   "execution_count": 43,
   "id": "unexpected-recipient",
   "metadata": {},
   "outputs": [
    {
     "data": {
      "text/plain": [
       "52"
      ]
     },
     "execution_count": 43,
     "metadata": {},
     "output_type": "execute_result"
    }
   ],
   "source": [
    "solution(5, [\"Jeju\", \"Pangyo\", \"Seoul\", \"NewYork\", \"LA\", \"SanFrancisco\", \"Seoul\", \"Rome\", \"Paris\", \"Jeju\", \"NewYork\", \"Rome\"])"
   ]
  },
  {
   "cell_type": "code",
   "execution_count": 44,
   "id": "leading-omaha",
   "metadata": {},
   "outputs": [
    {
     "data": {
      "text/plain": [
       "16"
      ]
     },
     "execution_count": 44,
     "metadata": {},
     "output_type": "execute_result"
    }
   ],
   "source": [
    "solution(2, [\"Jeju\", \"Pangyo\", \"NewYork\", \"newyork\"])"
   ]
  },
  {
   "cell_type": "code",
   "execution_count": 45,
   "id": "worldwide-drove",
   "metadata": {},
   "outputs": [
    {
     "data": {
      "text/plain": [
       "25"
      ]
     },
     "execution_count": 45,
     "metadata": {},
     "output_type": "execute_result"
    }
   ],
   "source": [
    "solution(0, [\"Jeju\", \"Pangyo\", \"Seoul\", \"NewYork\", \"LA\"])"
   ]
  }
 ],
 "metadata": {
  "kernelspec": {
   "display_name": "Python 3",
   "language": "python",
   "name": "python3"
  },
  "language_info": {
   "codemirror_mode": {
    "name": "ipython",
    "version": 3
   },
   "file_extension": ".py",
   "mimetype": "text/x-python",
   "name": "python",
   "nbconvert_exporter": "python",
   "pygments_lexer": "ipython3",
   "version": "3.8.5"
  }
 },
 "nbformat": 4,
 "nbformat_minor": 5
}
