{
 "cells": [
  {
   "cell_type": "markdown",
   "id": "amended-castle",
   "metadata": {},
   "source": [
    "https://programmers.co.kr/learn/courses/30/lessons/12905"
   ]
  },
  {
   "cell_type": "code",
   "execution_count": 1,
   "id": "destroyed-article",
   "metadata": {},
   "outputs": [],
   "source": [
    "def solution(board):\n",
    "    width, height = len(board[0]), len(board)\n",
    "    if width * height == 1:\n",
    "        return 1 if width else 0\n",
    "    size = 0\n",
    "    for h in range(1, height):\n",
    "        for w in range(1, width):\n",
    "            if board[h][w] == 0: continue\n",
    "            result = min(board[h-1][w-1], min(board[h][w-1], board[h-1][w])) + 1\n",
    "            if result > size: size = result\n",
    "            board[h][w] = result\n",
    "    return size ** 2"
   ]
  },
  {
   "cell_type": "code",
   "execution_count": 2,
   "id": "accepting-proposition",
   "metadata": {},
   "outputs": [
    {
     "data": {
      "text/plain": [
       "9"
      ]
     },
     "execution_count": 2,
     "metadata": {},
     "output_type": "execute_result"
    }
   ],
   "source": [
    "solution([[0,1,1,1],[1,1,1,1],[1,1,1,1],[0,0,1,0]])"
   ]
  },
  {
   "cell_type": "code",
   "execution_count": 3,
   "id": "median-harvest",
   "metadata": {},
   "outputs": [
    {
     "data": {
      "text/plain": [
       "4"
      ]
     },
     "execution_count": 3,
     "metadata": {},
     "output_type": "execute_result"
    }
   ],
   "source": [
    "solution([[0,0,1,1],[1,1,1,1]])"
   ]
  }
 ],
 "metadata": {
  "kernelspec": {
   "display_name": "Python 3",
   "language": "python",
   "name": "python3"
  },
  "language_info": {
   "codemirror_mode": {
    "name": "ipython",
    "version": 3
   },
   "file_extension": ".py",
   "mimetype": "text/x-python",
   "name": "python",
   "nbconvert_exporter": "python",
   "pygments_lexer": "ipython3",
   "version": "3.8.5"
  }
 },
 "nbformat": 4,
 "nbformat_minor": 5
}
