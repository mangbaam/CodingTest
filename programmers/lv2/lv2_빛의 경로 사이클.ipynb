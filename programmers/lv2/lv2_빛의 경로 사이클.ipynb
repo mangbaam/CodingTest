{
 "cells": [
  {
   "cell_type": "markdown",
   "id": "novel-thong",
   "metadata": {
    "pycharm": {
     "name": "#%% md\n"
    }
   },
   "source": [
    "https://programmers.co.kr/learn/courses/30/lessons/86052"
   ]
  },
  {
   "cell_type": "code",
   "execution_count": 28,
   "id": "electoral-bailey",
   "metadata": {
    "pycharm": {
     "name": "#%%\n"
    }
   },
   "outputs": [],
   "source": [
    "di = [(-1, 0), (0, 1), (1, 0), (0, -1)] # 상, 우, 하, 좌 (시계 방향)\n",
    "visited = list()\n",
    "rows, cols = int(), int()\n",
    "\n",
    "def get_cycle_length(grid, row, col, direct):\n",
    "    count = 0\n",
    "    x, y, d = row, col, direct\n",
    "    while True:\n",
    "        if visited[x][y][d]: return count # 순환 완료\n",
    "        visited[x][y][d] = True\n",
    "        # 이동\n",
    "        nx, ny = (x + di[d][0]) % rows,  (y + di[d][1]) % cols\n",
    "        count += 1\n",
    "        # 방향 재설정\n",
    "        if grid[nx][ny] == \"L\":\n",
    "            d = (d + 3) % 4\n",
    "        elif grid[nx][ny] == \"R\":\n",
    "            d = (d + 1) % 4\n",
    "        x, y = nx, ny\n",
    "\n",
    "def solution(grid):\n",
    "    global visited, rows, cols\n",
    "    answer = []\n",
    "    rows, cols = len(grid), len(grid[0])\n",
    "    visited = [[[False] * 4 for _ in range(cols)] for _ in range(rows)]\n",
    "\n",
    "    for i in range(len(grid)):\n",
    "        for j in range(len(grid[0])):\n",
    "            for k in range(4):\n",
    "                if not visited[i][j][k]:\n",
    "                    answer.append(get_cycle_length(grid, i, j, k))\n",
    "\n",
    "    return sorted(answer)\n"
   ]
  },
  {
   "cell_type": "code",
   "execution_count": 29,
   "outputs": [
    {
     "data": {
      "text/plain": "[1, 1, 1, 1]"
     },
     "execution_count": 29,
     "metadata": {},
     "output_type": "execute_result"
    }
   ],
   "source": [
    "# grid = [\"SL\", \"LR\"]\n",
    "grid = [\"S\"]\n",
    "solution(grid)"
   ],
   "metadata": {
    "collapsed": false,
    "pycharm": {
     "name": "#%%\n"
    }
   }
  }
 ],
 "metadata": {
  "kernelspec": {
   "display_name": "Python 3",
   "language": "python",
   "name": "python3"
  },
  "language_info": {
   "codemirror_mode": {
    "name": "ipython",
    "version": 3
   },
   "file_extension": ".py",
   "mimetype": "text/x-python",
   "name": "python",
   "nbconvert_exporter": "python",
   "pygments_lexer": "ipython3",
   "version": "3.8.5"
  }
 },
 "nbformat": 4,
 "nbformat_minor": 5
}