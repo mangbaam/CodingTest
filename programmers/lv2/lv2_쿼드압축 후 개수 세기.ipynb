{
 "cells": [
  {
   "cell_type": "markdown",
   "id": "anticipated-professional",
   "metadata": {},
   "source": [
    "### https://latte-is-horse.tistory.com/262\n",
    "https://programmers.co.kr/learn/courses/30/lessons/68936"
   ]
  },
  {
   "cell_type": "code",
   "execution_count": 22,
   "id": "large-turkey",
   "metadata": {},
   "outputs": [],
   "source": [
    "from collections import deque\n",
    "\n",
    "def solution(arr):\n",
    "    answer = [0, 0]\n",
    "    queue = deque([arr])\n",
    "    while queue:\n",
    "        now = queue.popleft()\n",
    "        if check(now)==0: answer[0]+=1\n",
    "        elif check(now)==1: answer[1]+=1\n",
    "        else:\n",
    "            size = len(now) // 2\n",
    "            queue.append([now[x][:size] for x in range(size)]) # 2사분면\n",
    "            queue.append([now[x][size:] for x in range(size)]) # 1사분면\n",
    "            queue.append([now[x][:size] for x in range(size,size*2)]) # 3사분면\n",
    "            queue.append([now[x][size:] for x in range(size,size*2)]) # 4사분면\n",
    "    return answer\n",
    "\n",
    "def check(arr):\n",
    "    size = len(arr)\n",
    "    n = arr[0][0]\n",
    "    if [[n]*size for _ in range(size)] == arr:\n",
    "        return n\n",
    "    else:\n",
    "        return 2"
   ]
  },
  {
   "cell_type": "code",
   "execution_count": 23,
   "id": "damaged-bermuda",
   "metadata": {},
   "outputs": [
    {
     "data": {
      "text/plain": [
       "[4, 9]"
      ]
     },
     "execution_count": 23,
     "metadata": {},
     "output_type": "execute_result"
    }
   ],
   "source": [
    "solution([[1,1,0,0],[1,0,0,0],[1,0,0,1],[1,1,1,1]])"
   ]
  },
  {
   "cell_type": "code",
   "execution_count": 24,
   "id": "leading-salon",
   "metadata": {},
   "outputs": [
    {
     "data": {
      "text/plain": [
       "[10, 15]"
      ]
     },
     "execution_count": 24,
     "metadata": {},
     "output_type": "execute_result"
    }
   ],
   "source": [
    "solution([[1,1,1,1,1,1,1,1],[0,1,1,1,1,1,1,1],[0,0,0,0,1,1,1,1],[0,1,0,0,1,1,1,1],[0,0,0,0,0,0,1,1],[0,0,0,0,0,0,0,1],[0,0,0,0,1,0,0,1],[0,0,0,0,1,1,1,1]])"
   ]
  },
  {
   "cell_type": "code",
   "execution_count": null,
   "id": "enclosed-inspector",
   "metadata": {},
   "outputs": [],
   "source": []
  }
 ],
 "metadata": {
  "kernelspec": {
   "display_name": "Python 3",
   "language": "python",
   "name": "python3"
  },
  "language_info": {
   "codemirror_mode": {
    "name": "ipython",
    "version": 3
   },
   "file_extension": ".py",
   "mimetype": "text/x-python",
   "name": "python",
   "nbconvert_exporter": "python",
   "pygments_lexer": "ipython3",
   "version": "3.8.5"
  }
 },
 "nbformat": 4,
 "nbformat_minor": 5
}
