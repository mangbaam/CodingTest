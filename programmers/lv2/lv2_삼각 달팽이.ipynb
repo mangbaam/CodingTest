{
 "cells": [
  {
   "cell_type": "markdown",
   "id": "continuous-founder",
   "metadata": {},
   "source": [
    "## 월간 코드 챌린지 시즌1\n",
    "### https://latte-is-horse.tistory.com/224\n",
    "https://programmers.co.kr/learn/courses/30/lessons/68645"
   ]
  },
  {
   "cell_type": "code",
   "execution_count": 17,
   "id": "amber-michigan",
   "metadata": {},
   "outputs": [],
   "source": [
    "from collections import deque\n",
    "\n",
    "def solution(n):\n",
    "    num = n\n",
    "    start = deque([(1, num)])\n",
    "    close = deque()\n",
    "    while num > 3:\n",
    "        start.append((start[-1][0]+3*num-3, num-3))\n",
    "        num -= 3\n",
    "        \n",
    "    answer = [[] for _ in range(n)]\n",
    "    idx = 0\n",
    "    while start:\n",
    "        startNum, count = start.popleft()\n",
    "        num = startNum\n",
    "        for j in range(count):\n",
    "            answer[idx+j].append(num)\n",
    "            num += 1\n",
    "        bottom = [i+answer[idx+count-1][-1] for i in range(1, count)]\n",
    "        answer[idx+count-1].extend(bottom)\n",
    "        if len(bottom) > 1:\n",
    "            close.append((idx + count - 2, len(bottom)-1)) # 위치, 개수\n",
    "        idx += 2\n",
    "    while close:\n",
    "        idx, count = close.pop()\n",
    "        num = answer[idx+1][-1]+1\n",
    "        for i in range(count):\n",
    "            answer[idx-i].append(num)\n",
    "            num += 1\n",
    "    return sum(answer, [])"
   ]
  },
  {
   "cell_type": "code",
   "execution_count": 18,
   "id": "assigned-spiritual",
   "metadata": {
    "scrolled": false
   },
   "outputs": [
    {
     "data": {
      "text/plain": [
       "[1, 2, 15, 3, 16, 14, 4, 17, 21, 13, 5, 18, 19, 20, 12, 6, 7, 8, 9, 10, 11]"
      ]
     },
     "execution_count": 18,
     "metadata": {},
     "output_type": "execute_result"
    }
   ],
   "source": [
    "solution(6)"
   ]
  }
 ],
 "metadata": {
  "kernelspec": {
   "display_name": "Python 3",
   "language": "python",
   "name": "python3"
  },
  "language_info": {
   "codemirror_mode": {
    "name": "ipython",
    "version": 3
   },
   "file_extension": ".py",
   "mimetype": "text/x-python",
   "name": "python",
   "nbconvert_exporter": "python",
   "pygments_lexer": "ipython3",
   "version": "3.8.5"
  }
 },
 "nbformat": 4,
 "nbformat_minor": 5
}
