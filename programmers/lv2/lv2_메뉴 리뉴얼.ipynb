{
 "cells": [
  {
   "cell_type": "markdown",
   "id": "earlier-missouri",
   "metadata": {},
   "source": [
    "### 2021 KAKAO BLIND RECRUITMENT\n",
    "https://programmers.co.kr/learn/courses/30/lessons/72411"
   ]
  },
  {
   "cell_type": "code",
   "execution_count": 1,
   "id": "coral-revision",
   "metadata": {},
   "outputs": [],
   "source": [
    "from itertools import combinations\n",
    "\n",
    "def solution(orders, course):\n",
    "    history = {}\n",
    "    answer = []\n",
    "    \n",
    "    for num in course:\n",
    "        history.clear()\n",
    "        for guest in orders:\n",
    "            guest = ''.join(sorted(guest))\n",
    "            if num > len(guest):\n",
    "                continue\n",
    "            cases = map(lambda x: ''.join(x), list(combinations(guest, num)))\n",
    "            for case in cases:\n",
    "                if case in history.keys(): continue\n",
    "                count = 0\n",
    "                for o in orders:\n",
    "                    if set(case).issubset(set(o)):\n",
    "                        count += 1\n",
    "                history[case] = count\n",
    "            maxCount = max(history.values())\n",
    "        for k, v in history.items():\n",
    "            if v == maxCount and maxCount > 1 and k not in answer: \n",
    "                answer.append(''.join(k))\n",
    "            \n",
    "    return sorted(answer)"
   ]
  }
 ],
 "metadata": {
  "kernelspec": {
   "display_name": "Python 3",
   "language": "python",
   "name": "python3"
  },
  "language_info": {
   "codemirror_mode": {
    "name": "ipython",
    "version": 3
   },
   "file_extension": ".py",
   "mimetype": "text/x-python",
   "name": "python",
   "nbconvert_exporter": "python",
   "pygments_lexer": "ipython3",
   "version": "3.8.5"
  }
 },
 "nbformat": 4,
 "nbformat_minor": 5
}
