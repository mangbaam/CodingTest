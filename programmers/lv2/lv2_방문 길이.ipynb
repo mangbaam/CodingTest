{
 "cells": [
  {
   "cell_type": "markdown",
   "id": "electoral-combination",
   "metadata": {},
   "source": [
    "### Summer/Winter Coding(~2018)\n",
    "https://programmers.co.kr/learn/courses/30/lessons/49994"
   ]
  },
  {
   "cell_type": "code",
   "execution_count": 1,
   "id": "juvenile-guinea",
   "metadata": {},
   "outputs": [],
   "source": [
    "def solution(dirs):\n",
    "    history = set()\n",
    "    d = {'U':0, 'D': 1, 'R': 2, 'L': 3} # U D R L 을 인덱스로 변경\n",
    "    dx = [0, 0, 1, -1] # U D R L 순으로 x에 더해질 값\n",
    "    dy = [-1, 1, 0, 0] # U D R L 순으로 y에 더해질 값\n",
    "    x, y = 0, 0 # 현재 캐릭터 좌표\n",
    "    for move in dirs:\n",
    "        tx, ty = x+dx[d[move]], y+dy[d[move]] # 이동 이후 임시 좌표\n",
    "        if abs(tx) <= 5 and abs(ty) <= 5: # -5 ~ 5 사이에 있을 때만 이동\n",
    "            # 방문한 경로를 표시하기 위해 출발지와 목적지를 set에 입력하지만 a->b와 b->a를 같게 처리하기 위해 min, max로 순서를 지정\n",
    "            history.add((min(x, tx), min(y, ty), max(x, tx), max(y, ty)))\n",
    "            x, y = tx, ty # 실제 이동\n",
    "    return len(history)"
   ]
  }
 ],
 "metadata": {
  "kernelspec": {
   "display_name": "Python 3",
   "language": "python",
   "name": "python3"
  },
  "language_info": {
   "codemirror_mode": {
    "name": "ipython",
    "version": 3
   },
   "file_extension": ".py",
   "mimetype": "text/x-python",
   "name": "python",
   "nbconvert_exporter": "python",
   "pygments_lexer": "ipython3",
   "version": "3.8.5"
  }
 },
 "nbformat": 4,
 "nbformat_minor": 5
}
