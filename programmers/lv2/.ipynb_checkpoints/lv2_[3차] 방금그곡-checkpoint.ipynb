{
 "cells": [
  {
   "cell_type": "markdown",
   "id": "discrete-implementation",
   "metadata": {},
   "source": [
    "https://programmers.co.kr/learn/courses/30/lessons/17683\n",
    "## 2018 KAKAO BLIND RECRUITMENT"
   ]
  },
  {
   "cell_type": "code",
   "execution_count": 1,
   "id": "southeast-scratch",
   "metadata": {},
   "outputs": [],
   "source": [
    "from datetime import datetime\n",
    "def solution(m, musicinfos):\n",
    "    sharps = {\n",
    "        'C#': 'c',\n",
    "        'D#': 'd',\n",
    "        'F#': 'f',\n",
    "        'G#': 'g',\n",
    "        'A#': 'a',\n",
    "    }\n",
    "    radio = {}\n",
    "    for order, musicinfo in enumerate(musicinfos):\n",
    "        sTime, eTime, title, music = musicinfo.split(',')\n",
    "        \n",
    "        for c in sharps.items():\n",
    "            music = music.replace(c[0], c[1])\n",
    "        \n",
    "        sTime = int(sTime[:2]) * 60 + int(sTime[-2:])\n",
    "        eTime = int(eTime[:2]) * 60 + int(eTime[-2:])\n",
    "        playTime = eTime - sTime\n",
    "        radio[title] = ((music * (playTime // len(music)) + music[:playTime % len(music)]), order)\n",
    "        \n",
    "    for c in sharps.items():\n",
    "        m = m.replace(c[0], c[1])\n",
    "    \n",
    "    found = {}\n",
    "    for title, musicInfo in radio.items():\n",
    "        if m in musicInfo[0]:\n",
    "            found[title] = musicInfo[0], musicInfo[1]\n",
    "\n",
    "    if not found: return \"(None)\"\n",
    "    \n",
    "    answer = sorted(found.items(), key=lambda x: (len(x[1][0]), -x[1][1]), reverse=True)\n",
    "        \n",
    "    return answer[0][0]"
   ]
  },
  {
   "cell_type": "code",
   "execution_count": 2,
   "id": "editorial-principal",
   "metadata": {},
   "outputs": [
    {
     "data": {
      "text/plain": [
       "'HELLO'"
      ]
     },
     "execution_count": 2,
     "metadata": {},
     "output_type": "execute_result"
    }
   ],
   "source": [
    "m = \"ABCDEFG\"\n",
    "musicinfos = [\"12:00,12:14,HELLO,CDEFGAB\", \"13:00,13:05,WORLD,ABCDEF\"]\n",
    "solution(m, musicinfos)"
   ]
  },
  {
   "cell_type": "code",
   "execution_count": 3,
   "id": "declared-software",
   "metadata": {},
   "outputs": [
    {
     "data": {
      "text/plain": [
       "'FOO'"
      ]
     },
     "execution_count": 3,
     "metadata": {},
     "output_type": "execute_result"
    }
   ],
   "source": [
    "m = \"CC#BCC#BCC#BCC#B\"\n",
    "musicinfos = [\"03:00,03:30,FOO,CC#B\", \"04:00,04:08,BAR,CC#BCC#BCC#B\"]\n",
    "solution(m, musicinfos)"
   ]
  },
  {
   "cell_type": "code",
   "execution_count": 4,
   "id": "senior-infection",
   "metadata": {},
   "outputs": [
    {
     "data": {
      "text/plain": [
       "'WORLD'"
      ]
     },
     "execution_count": 4,
     "metadata": {},
     "output_type": "execute_result"
    }
   ],
   "source": [
    "m = \"ABC\"\n",
    "musicinfos = [\"12:00,12:14,HELLO,C#DEFGAB\", \"13:00,13:05,WORLD,ABCDEF\"]\n",
    "solution(m, musicinfos)"
   ]
  }
 ],
 "metadata": {
  "kernelspec": {
   "display_name": "Python 3",
   "language": "python",
   "name": "python3"
  },
  "language_info": {
   "codemirror_mode": {
    "name": "ipython",
    "version": 3
   },
   "file_extension": ".py",
   "mimetype": "text/x-python",
   "name": "python",
   "nbconvert_exporter": "python",
   "pygments_lexer": "ipython3",
   "version": "3.8.5"
  }
 },
 "nbformat": 4,
 "nbformat_minor": 5
}
