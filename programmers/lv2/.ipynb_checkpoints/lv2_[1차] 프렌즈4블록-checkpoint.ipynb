{
 "cells": [
  {
   "cell_type": "markdown",
   "id": "responsible-bride",
   "metadata": {},
   "source": [
    "## 2018 KAKAO BLIND RECRUITMENT\n",
    "https://programmers.co.kr/learn/courses/30/lessons/17679"
   ]
  },
  {
   "cell_type": "code",
   "execution_count": 133,
   "id": "sexual-publicity",
   "metadata": {},
   "outputs": [],
   "source": [
    "from copy import deepcopy\n",
    "\n",
    "def solution(m, n, board):\n",
    "    def same(x, y):\n",
    "        return board[x][y] != 0 and board[x][y]==board[x+1][y]==board[x][y+1]==board[x+1][y+1]\n",
    "    def mark(x, y):\n",
    "        newBoard[x][y], newBoard[x+1][y], newBoard[x][y+1], newBoard[x+1][y+1] = 1, 1, 1, 1\n",
    "    def rotate():\n",
    "        rotated = []\n",
    "        for y in range(n):\n",
    "            tmp = []\n",
    "            for x in range(m-1, -1, -1):\n",
    "                tmp.append(board[x][y])\n",
    "            rotated.append(tmp)\n",
    "        return rotated\n",
    "    def deleteBlocks(array):\n",
    "        ret = []\n",
    "        for row in array:\n",
    "            tmp = [c for c in row if c != 1]\n",
    "            ones = row.count(1)\n",
    "            for _ in range(ones): tmp.append(0)\n",
    "            ret.append(tmp)\n",
    "        return ret\n",
    "    \n",
    "    board = [list(row) for row in board] # 리스트로 변경\n",
    "    board = rotate() # 시계 방향 회전\n",
    "    m, n = n, m\n",
    "    \n",
    "    flag = True\n",
    "    while flag:\n",
    "        flag = False\n",
    "        newBoard = deepcopy(board) # 깊은 복사\n",
    "        for i in range(m-1):\n",
    "            for j in range(n-1):\n",
    "                if board[i][j+1]==0: break\n",
    "                if same(i, j): mark(i, j); flag = True\n",
    "        board = deleteBlocks(newBoard)\n",
    "    \n",
    "    return sum([row.count(0) for row in board])"
   ]
  },
  {
   "cell_type": "code",
   "execution_count": 134,
   "id": "affected-tucson",
   "metadata": {},
   "outputs": [
    {
     "data": {
      "text/plain": [
       "15"
      ]
     },
     "execution_count": 134,
     "metadata": {},
     "output_type": "execute_result"
    }
   ],
   "source": [
    "board = [\"TTTANT\", \"RRFACC\", \"RRRFCC\", \"TRRRAA\", \"TTMMMF\", \"TMMTTJ\"]\n",
    "m, n = 6, 6\n",
    "solution(m, n, board)"
   ]
  },
  {
   "cell_type": "code",
   "execution_count": 135,
   "id": "experimental-retention",
   "metadata": {},
   "outputs": [
    {
     "data": {
      "text/plain": [
       "14"
      ]
     },
     "execution_count": 135,
     "metadata": {},
     "output_type": "execute_result"
    }
   ],
   "source": [
    "board = [\"CCBDE\", \"AAADE\", \"AAABF\", \"CCBBF\"]\n",
    "m, n = 4, 5\n",
    "solution(m, n, board)"
   ]
  }
 ],
 "metadata": {
  "kernelspec": {
   "display_name": "Python 3",
   "language": "python",
   "name": "python3"
  },
  "language_info": {
   "codemirror_mode": {
    "name": "ipython",
    "version": 3
   },
   "file_extension": ".py",
   "mimetype": "text/x-python",
   "name": "python",
   "nbconvert_exporter": "python",
   "pygments_lexer": "ipython3",
   "version": "3.8.5"
  }
 },
 "nbformat": 4,
 "nbformat_minor": 5
}
