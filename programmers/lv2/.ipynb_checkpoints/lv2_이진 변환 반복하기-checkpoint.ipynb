{
 "cells": [
  {
   "cell_type": "markdown",
   "id": "optical-hearts",
   "metadata": {},
   "source": [
    "https://programmers.co.kr/learn/courses/30/lessons/70129"
   ]
  },
  {
   "cell_type": "code",
   "execution_count": 2,
   "id": "convinced-puzzle",
   "metadata": {},
   "outputs": [],
   "source": [
    "def solution(s):\n",
    "    count, removed = 0, 0\n",
    "    size = len(s)\n",
    "    while s != '1':\n",
    "        zeros = s.count('0')\n",
    "        removed += zeros # 제거될 0의 개수만큼 removed 증가\n",
    "        s = bin(len(s) - zeros)[2:] # s 최종 변환\n",
    "        count += 1\n",
    "    return [count, removed]"
   ]
  },
  {
   "cell_type": "code",
   "execution_count": 3,
   "id": "adjusted-creation",
   "metadata": {},
   "outputs": [
    {
     "data": {
      "text/plain": [
       "[3, 8]"
      ]
     },
     "execution_count": 3,
     "metadata": {},
     "output_type": "execute_result"
    }
   ],
   "source": [
    "solution(\"110010101001\")"
   ]
  },
  {
   "cell_type": "code",
   "execution_count": 4,
   "id": "bigger-period",
   "metadata": {},
   "outputs": [
    {
     "data": {
      "text/plain": [
       "[3, 3]"
      ]
     },
     "execution_count": 4,
     "metadata": {},
     "output_type": "execute_result"
    }
   ],
   "source": [
    "solution(\"01110\")"
   ]
  },
  {
   "cell_type": "code",
   "execution_count": 5,
   "id": "informational-greek",
   "metadata": {},
   "outputs": [
    {
     "data": {
      "text/plain": [
       "[4, 1]"
      ]
     },
     "execution_count": 5,
     "metadata": {},
     "output_type": "execute_result"
    }
   ],
   "source": [
    "solution(\"1111111\")"
   ]
  }
 ],
 "metadata": {
  "kernelspec": {
   "display_name": "Python 3",
   "language": "python",
   "name": "python3"
  },
  "language_info": {
   "codemirror_mode": {
    "name": "ipython",
    "version": 3
   },
   "file_extension": ".py",
   "mimetype": "text/x-python",
   "name": "python",
   "nbconvert_exporter": "python",
   "pygments_lexer": "ipython3",
   "version": "3.8.5"
  }
 },
 "nbformat": 4,
 "nbformat_minor": 5
}
