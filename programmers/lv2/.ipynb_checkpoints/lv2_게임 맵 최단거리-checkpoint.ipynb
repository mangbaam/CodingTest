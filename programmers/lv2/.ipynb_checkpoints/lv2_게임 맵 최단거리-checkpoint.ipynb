{
 "cells": [
  {
   "cell_type": "markdown",
   "id": "soviet-vegetation",
   "metadata": {},
   "source": [
    "### 찾아라 프로그래밍 마에스터\n",
    "https://programmers.co.kr/learn/courses/30/lessons/1844"
   ]
  },
  {
   "cell_type": "code",
   "execution_count": 19,
   "id": "broke-vector",
   "metadata": {},
   "outputs": [],
   "source": [
    "from collections import deque\n",
    "\n",
    "def solution(maps):\n",
    "    n, m = len(maps), len(maps[0])\n",
    "    visited = [[False for _ in range(m)] for _ in range(n)]\n",
    "    return bfs(maps, 0, 0, visited)\n",
    "    \n",
    "def bfs(maps, x, y, visited):\n",
    "    n, m = len(maps), len(maps[0])\n",
    "    queue = deque([(x, y)])\n",
    "    visited[x][y] = True\n",
    "    distance = {(x, y): 0}\n",
    "    dx = [-1, 1, 0, 0]\n",
    "    dy = [0, 0, -1, 1]\n",
    "    while queue:\n",
    "        x, y = queue.popleft()\n",
    "        for i in range(4):\n",
    "            nx = x + dx[i]\n",
    "            ny = y + dy[i]\n",
    "            if 0<=nx<n and 0<=ny<m and not visited[nx][ny] and maps[nx][ny]:\n",
    "                if (nx, ny) == (n-1, m-1): return distance[(x, y)] + 2\n",
    "                queue.append((nx, ny))\n",
    "                distance[(nx, ny)] = distance[(x, y)] + 1\n",
    "                visited[nx][ny] = True\n",
    "    return -1"
   ]
  },
  {
   "cell_type": "code",
   "execution_count": 20,
   "id": "impossible-tiger",
   "metadata": {
    "scrolled": false
   },
   "outputs": [
    {
     "name": "stdout",
     "output_type": "stream",
     "text": [
      "11\n"
     ]
    }
   ],
   "source": [
    "maps = [[1,0,1,1,1],[1,0,1,0,1],[1,0,1,1,1],[1,1,1,0,1],[0,0,0,0,1]]\n",
    "print(solution(maps))"
   ]
  },
  {
   "cell_type": "code",
   "execution_count": 21,
   "id": "abstract-sitting",
   "metadata": {},
   "outputs": [
    {
     "name": "stdout",
     "output_type": "stream",
     "text": [
      "-1\n"
     ]
    }
   ],
   "source": [
    "maps = [[1,0,1,1,1],[1,0,1,0,1],[1,0,1,1,1],[1,1,1,0,0],[0,0,0,0,1]]\n",
    "print(solution(maps))"
   ]
  }
 ],
 "metadata": {
  "kernelspec": {
   "display_name": "Python 3",
   "language": "python",
   "name": "python3"
  },
  "language_info": {
   "codemirror_mode": {
    "name": "ipython",
    "version": 3
   },
   "file_extension": ".py",
   "mimetype": "text/x-python",
   "name": "python",
   "nbconvert_exporter": "python",
   "pygments_lexer": "ipython3",
   "version": "3.8.5"
  }
 },
 "nbformat": 4,
 "nbformat_minor": 5
}
