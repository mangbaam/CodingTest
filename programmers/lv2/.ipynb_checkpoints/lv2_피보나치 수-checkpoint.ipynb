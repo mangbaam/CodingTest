{
 "cells": [
  {
   "cell_type": "markdown",
   "id": "increasing-charlotte",
   "metadata": {},
   "source": [
    "https://programmers.co.kr/learn/courses/30/lessons/12945"
   ]
  },
  {
   "cell_type": "code",
   "execution_count": null,
   "id": "yellow-singles",
   "metadata": {},
   "outputs": [],
   "source": [
    "def solution(n):\n",
    "    fib = [0, 1, 1]\n",
    "    for i in range(3, n + 1):\n",
    "        fib.append((fib[i-2] + fib[i-1]) % 1234567)\n",
    "    return fib[-1]"
   ]
  }
 ],
 "metadata": {
  "kernelspec": {
   "display_name": "Python 3",
   "language": "python",
   "name": "python3"
  },
  "language_info": {
   "codemirror_mode": {
    "name": "ipython",
    "version": 3
   },
   "file_extension": ".py",
   "mimetype": "text/x-python",
   "name": "python",
   "nbconvert_exporter": "python",
   "pygments_lexer": "ipython3",
   "version": "3.8.5"
  }
 },
 "nbformat": 4,
 "nbformat_minor": 5
}
