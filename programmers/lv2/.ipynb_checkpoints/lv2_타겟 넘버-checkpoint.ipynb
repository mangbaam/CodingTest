{
 "cells": [
  {
   "cell_type": "markdown",
   "id": "expected-bowling",
   "metadata": {},
   "source": [
    "https://programmers.co.kr/learn/courses/30/lessons/43165"
   ]
  },
  {
   "cell_type": "code",
   "execution_count": 45,
   "id": "sonic-queen",
   "metadata": {},
   "outputs": [],
   "source": [
    "def dfs(numbers, idx, target, num, total):\n",
    "    global count\n",
    "    total += num\n",
    "    if idx == len(numbers)-1:\n",
    "        if total == target:\n",
    "            count += 1\n",
    "        return\n",
    "    dfs(numbers, idx+1, target, numbers[idx+1], total)\n",
    "    dfs(numbers, idx+1, target, -numbers[idx+1], total)"
   ]
  },
  {
   "cell_type": "code",
   "execution_count": 46,
   "id": "working-johnston",
   "metadata": {},
   "outputs": [],
   "source": [
    "count = 0\n",
    "def solution(numbers, target):\n",
    "    numbers = [0]+numbers\n",
    "    dfs(numbers, 0, target, numbers[0], 0)\n",
    "    print(count)"
   ]
  },
  {
   "cell_type": "code",
   "execution_count": 47,
   "id": "local-tokyo",
   "metadata": {},
   "outputs": [
    {
     "name": "stdout",
     "output_type": "stream",
     "text": [
      "5\n"
     ]
    }
   ],
   "source": [
    "solution([1, 1, 1, 1, 1], 3)"
   ]
  },
  {
   "cell_type": "markdown",
   "id": "deadly-amplifier",
   "metadata": {},
   "source": [
    "다른 풀이 (전역 변수 사용 x)"
   ]
  },
  {
   "cell_type": "code",
   "execution_count": 58,
   "id": "french-nomination",
   "metadata": {},
   "outputs": [],
   "source": [
    "def dfs(numbers, idx, target, num):\n",
    "    answer = 0\n",
    "    if idx == len(numbers):\n",
    "        return 1 if num == target else 0\n",
    "    answer += dfs(numbers, idx+1, target, num+numbers[idx])\n",
    "    answer += dfs(numbers, idx+1, target, num-numbers[idx])\n",
    "    return answer"
   ]
  },
  {
   "cell_type": "code",
   "execution_count": 59,
   "id": "empty-estonia",
   "metadata": {},
   "outputs": [],
   "source": [
    "def solution(numbers, target):\n",
    "    return dfs(numbers, 0, target, 0)"
   ]
  },
  {
   "cell_type": "code",
   "execution_count": 60,
   "id": "square-illness",
   "metadata": {},
   "outputs": [
    {
     "data": {
      "text/plain": [
       "5"
      ]
     },
     "execution_count": 60,
     "metadata": {},
     "output_type": "execute_result"
    }
   ],
   "source": [
    "solution([1, 1, 1, 1, 1], 3)"
   ]
  },
  {
   "cell_type": "code",
   "execution_count": null,
   "id": "sacred-treasury",
   "metadata": {},
   "outputs": [],
   "source": []
  }
 ],
 "metadata": {
  "kernelspec": {
   "display_name": "Python 3",
   "language": "python",
   "name": "python3"
  },
  "language_info": {
   "codemirror_mode": {
    "name": "ipython",
    "version": 3
   },
   "file_extension": ".py",
   "mimetype": "text/x-python",
   "name": "python",
   "nbconvert_exporter": "python",
   "pygments_lexer": "ipython3",
   "version": "3.8.5"
  }
 },
 "nbformat": 4,
 "nbformat_minor": 5
}
