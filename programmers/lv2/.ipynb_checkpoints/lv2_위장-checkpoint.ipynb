{
 "cells": [
  {
   "cell_type": "markdown",
   "id": "cardiac-robert",
   "metadata": {},
   "source": [
    "https://programmers.co.kr/learn/courses/30/lessons/42578"
   ]
  },
  {
   "cell_type": "code",
   "execution_count": 2,
   "id": "remarkable-english",
   "metadata": {},
   "outputs": [],
   "source": [
    "def solution(clothes):\n",
    "    closet = {}\n",
    "    answer = 1\n",
    "    \n",
    "    # 같은 종류의 옷끼리 묶어서 사전에 저장\n",
    "    for cloth in clothes:\n",
    "        if cloth[1] in closet.keys():\n",
    "            closet[cloth[1]].append(cloth[0])\n",
    "        else:\n",
    "            closet[cloth[1]] = [cloth[0]]\n",
    "    \n",
    "    # 경우의 수 구하기            \n",
    "    for value in closet.values():\n",
    "        answer *= len(value) + 1\n",
    "    \n",
    "    # 아무것도 입지 않은 경우 하나 제외\n",
    "    return answer-1"
   ]
  },
  {
   "cell_type": "code",
   "execution_count": 3,
   "id": "premium-cleveland",
   "metadata": {},
   "outputs": [
    {
     "data": {
      "text/plain": [
       "5"
      ]
     },
     "execution_count": 3,
     "metadata": {},
     "output_type": "execute_result"
    }
   ],
   "source": [
    "clothes = [[\"yellowhat\", \"headgear\"], [\"bluesunglasses\", \"eyewear\"], [\"green_turban\", \"headgear\"]]\n",
    "solution(clothes)"
   ]
  },
  {
   "cell_type": "code",
   "execution_count": 4,
   "id": "rapid-syracuse",
   "metadata": {},
   "outputs": [
    {
     "data": {
      "text/plain": [
       "3"
      ]
     },
     "execution_count": 4,
     "metadata": {},
     "output_type": "execute_result"
    }
   ],
   "source": [
    "clothes = [[\"crowmask\", \"face\"], [\"bluesunglasses\", \"face\"], [\"smoky_makeup\", \"face\"]]\n",
    "solution(clothes)"
   ]
  }
 ],
 "metadata": {
  "kernelspec": {
   "display_name": "Python 3",
   "language": "python",
   "name": "python3"
  },
  "language_info": {
   "codemirror_mode": {
    "name": "ipython",
    "version": 3
   },
   "file_extension": ".py",
   "mimetype": "text/x-python",
   "name": "python",
   "nbconvert_exporter": "python",
   "pygments_lexer": "ipython3",
   "version": "3.8.5"
  }
 },
 "nbformat": 4,
 "nbformat_minor": 5
}
