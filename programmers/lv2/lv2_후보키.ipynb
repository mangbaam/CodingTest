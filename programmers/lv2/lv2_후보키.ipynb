{
 "cells": [
  {
   "cell_type": "markdown",
   "id": "entitled-mustang",
   "metadata": {},
   "source": [
    "### 2019 KAKAO BLIND RECRUITMENT\n",
    "https://programmers.co.kr/learn/courses/30/lessons/42890"
   ]
  },
  {
   "cell_type": "code",
   "execution_count": 2,
   "id": "secret-removal",
   "metadata": {},
   "outputs": [],
   "source": [
    "from itertools import combinations\n",
    "\n",
    "def solution(relation):\n",
    "    allKeys = findKeys(relation)\n",
    "    rSize = len(relation)\n",
    "    \n",
    "    # 슈퍼키 구하기 (유일성 만족)\n",
    "    superKeys = []\n",
    "    subRelation = []\n",
    "    for key in allKeys:\n",
    "        subRelation.clear()\n",
    "        for i in range(rSize):\n",
    "            subRelation.append(tuple(relation[i][k] for k in range(len(relation[0])) if k in key))\n",
    "        if len(set(subRelation)) == rSize:\n",
    "            superKeys.append(key)\n",
    "            \n",
    "    # 후보키 구하기 (유일성 + 최소성 만족)\n",
    "    candidateKeys = []\n",
    "    cSize = len(superKeys)\n",
    "    for i, sk in enumerate(superKeys):\n",
    "        if sk is False: \n",
    "            continue\n",
    "        candidateKeys.append(sk)\n",
    "        for c in range(i+1, cSize):\n",
    "            if superKeys[c] is False: continue\n",
    "            current = set(list(sk))\n",
    "            target = set(list(superKeys[c]))\n",
    "            if current.issubset(target):\n",
    "                superKeys[c] = False\n",
    "    \n",
    "    return len(candidateKeys)\n",
    "\n",
    "def findKeys(relation):\n",
    "    answer = []\n",
    "    allAttr = list(range(len(relation[0])))\n",
    "    for i in range(1, len(relation[0]) + 1):\n",
    "        answer.extend(list(combinations(allAttr, i)))\n",
    "    return answer"
   ]
  },
  {
   "cell_type": "code",
   "execution_count": 4,
   "id": "divided-simon",
   "metadata": {},
   "outputs": [
    {
     "data": {
      "text/plain": [
       "2"
      ]
     },
     "execution_count": 4,
     "metadata": {},
     "output_type": "execute_result"
    }
   ],
   "source": [
    "relation = [\n",
    "    [\"100\",\"ryan\",\"music\",\"2\"],\n",
    "    [\"200\",\"apeach\",\"math\",\"2\"],\n",
    "    [\"300\",\"tube\",\"computer\",\"3\"],\n",
    "    [\"400\",\"con\",\"computer\",\"4\"],\n",
    "    [\"500\",\"muzi\",\"music\",\"3\"],\n",
    "    [\"600\",\"apeach\",\"music\",\"2\"]\n",
    "]\n",
    "solution(relation)"
   ]
  }
 ],
 "metadata": {
  "kernelspec": {
   "display_name": "Python 3",
   "language": "python",
   "name": "python3"
  },
  "language_info": {
   "codemirror_mode": {
    "name": "ipython",
    "version": 3
   },
   "file_extension": ".py",
   "mimetype": "text/x-python",
   "name": "python",
   "nbconvert_exporter": "python",
   "pygments_lexer": "ipython3",
   "version": "3.8.5"
  }
 },
 "nbformat": 4,
 "nbformat_minor": 5
}
