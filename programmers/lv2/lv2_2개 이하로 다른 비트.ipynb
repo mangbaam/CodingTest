{
 "cells": [
  {
   "cell_type": "markdown",
   "id": "perfect-cookie",
   "metadata": {},
   "source": [
    "### 월간 코드 챌린지 시즌 2\n",
    "https://programmers.co.kr/learn/courses/30/lessons/77885"
   ]
  },
  {
   "cell_type": "code",
   "execution_count": 1,
   "id": "accessible-student",
   "metadata": {},
   "outputs": [],
   "source": [
    "def solution(numbers):\n",
    "    answer = []\n",
    "    \n",
    "    for number in numbers:\n",
    "        if number%2 == 0: # number가 짝수이면 1을 더하면 끝\n",
    "            answer.append(number + 1)\n",
    "            continue\n",
    "        n = bin(number)[2:][::-1] + '0' # 2진수 역순으로 표현\n",
    "        zero = n.find('0') # 최초 0의 index\n",
    "        n = (n[:zero-1]+'01'+n[zero+1:])[::-1] # 1 0 -> 0 1 바꾼 후 다시 역순으로 돌림\n",
    "        answer.append(int(n, 2)) # 10진수로 변경 후 list에 추가\n",
    "        \n",
    "    return answer"
   ]
  }
 ],
 "metadata": {
  "kernelspec": {
   "display_name": "Python 3",
   "language": "python",
   "name": "python3"
  },
  "language_info": {
   "codemirror_mode": {
    "name": "ipython",
    "version": 3
   },
   "file_extension": ".py",
   "mimetype": "text/x-python",
   "name": "python",
   "nbconvert_exporter": "python",
   "pygments_lexer": "ipython3",
   "version": "3.8.5"
  }
 },
 "nbformat": 4,
 "nbformat_minor": 5
}
