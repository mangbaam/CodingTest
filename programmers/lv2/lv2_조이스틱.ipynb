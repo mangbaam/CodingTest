{
 "cells": [
  {
   "cell_type": "markdown",
   "id": "simplified-delhi",
   "metadata": {},
   "source": [
    "https://programmers.co.kr/learn/courses/30/lessons/42860#"
   ]
  },
  {
   "cell_type": "code",
   "execution_count": 7,
   "id": "literary-formula",
   "metadata": {},
   "outputs": [],
   "source": [
    "import string\n",
    "def solution(name):\n",
    "    if name == 'A' * len(name): return 0 # A로만 이루어진 경우 바로 종료\n",
    "    answer = 0\n",
    "    alpha = dict(zip(list(string.ascii_uppercase), list(range(26)))) # {A: 0 ... Z: 25}\n",
    "    for c in name: # 위, 아래 조작\n",
    "        answer += min(alpha[c], 26-alpha[c])\n",
    "    \n",
    "    def findNext(word, start, isRight):\n",
    "        nxt = start; wl = len(word) # 단어 길이\n",
    "        count = 0\n",
    "        while word[nxt] == 'A': \n",
    "            nxt = (nxt+1)%wl if isRight else (nxt-1+wl)%wl\n",
    "            count += 1\n",
    "        return nxt, count\n",
    "    \n",
    "    start = 0\n",
    "    while name != 'A' * len(name):\n",
    "        # print(name)\n",
    "        rIdx, rCount = findNext(name, start, True)\n",
    "        lIdx, lCount = findNext(name, start, False)\n",
    "        if rCount <= lCount: # 오른쪽 방향\n",
    "            answer += rCount\n",
    "            start = rIdx\n",
    "            name = name[:rIdx]+'A'+name[rIdx+1:]\n",
    "            # print(f\"오른쪽, {rCount}칸 이동\")\n",
    "        else:\n",
    "            answer += lCount\n",
    "            start = lIdx\n",
    "            name = name[:lIdx]+'A'+name[lIdx+1:]\n",
    "            # print(f\"왼쪽, {lCount}칸 이동\")\n",
    "    return answer"
   ]
  },
  {
   "cell_type": "code",
   "execution_count": 8,
   "id": "reliable-accuracy",
   "metadata": {},
   "outputs": [
    {
     "name": "stdout",
     "output_type": "stream",
     "text": [
      "JEROEN\n",
      "오른쪽, 0칸 이동\n",
      "AEROEN\n",
      "오른쪽, 1칸 이동\n",
      "AAROEN\n",
      "오른쪽, 1칸 이동\n",
      "AAAOEN\n",
      "오른쪽, 1칸 이동\n",
      "AAAAEN\n",
      "오른쪽, 1칸 이동\n",
      "AAAAAN\n",
      "오른쪽, 1칸 이동\n"
     ]
    },
    {
     "data": {
      "text/plain": [
       "56"
      ]
     },
     "execution_count": 8,
     "metadata": {},
     "output_type": "execute_result"
    }
   ],
   "source": [
    "solution(\"JEROEN\")"
   ]
  }
 ],
 "metadata": {
  "kernelspec": {
   "display_name": "Python 3",
   "language": "python",
   "name": "python3"
  },
  "language_info": {
   "codemirror_mode": {
    "name": "ipython",
    "version": 3
   },
   "file_extension": ".py",
   "mimetype": "text/x-python",
   "name": "python",
   "nbconvert_exporter": "python",
   "pygments_lexer": "ipython3",
   "version": "3.8.5"
  }
 },
 "nbformat": 4,
 "nbformat_minor": 5
}
