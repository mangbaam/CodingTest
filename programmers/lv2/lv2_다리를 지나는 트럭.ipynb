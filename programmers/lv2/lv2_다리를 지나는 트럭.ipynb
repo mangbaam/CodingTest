{
 "cells": [
  {
   "cell_type": "markdown",
   "id": "horizontal-miracle",
   "metadata": {},
   "source": [
    "https://programmers.co.kr/learn/courses/30/lessons/42583"
   ]
  },
  {
   "cell_type": "code",
   "execution_count": 1,
   "id": "extraordinary-window",
   "metadata": {},
   "outputs": [],
   "source": [
    "from collections import deque\n",
    "\n",
    "def solution(bridge_length, weight, truck_weights):\n",
    "    time = 0\n",
    "    bridgeWeight = 0 # 다리 위의 트럭 무게\n",
    "    waiting = deque(truck_weights) # 대기 트럭 큐\n",
    "    bridge = deque([0 for _ in range(bridge_length)]) # 다리 길이만큼 0으로 채운다.\n",
    "    \n",
    "    while len(waiting) or bridgeWeight > 0: # 대기 트럭이 있거나 이동 중인 트럭이 있는 동안 반복\n",
    "        removedTruck = bridge.popleft() # 다리에서 하나 제거\n",
    "        bridgeWeight -= removedTruck\n",
    "        \n",
    "        if len(waiting) and bridgeWeight + waiting[0] <= weight: # 새 트럭이 다리에 올라갈 수 있으면\n",
    "            newTruck = waiting.popleft()\n",
    "            bridgeWeight += newTruck\n",
    "            \n",
    "            bridge.append(newTruck) # 대기 트럭에서 하나 빼서 다리에 올림\n",
    "            \n",
    "        else: # 새 트럭이 다리에 올라갈 수 없으면\n",
    "            bridge.append(0) # 오른쪽에 0을 삽입해서 다리 길이 유지\n",
    "            \n",
    "        time += 1\n",
    "    return time"
   ]
  },
  {
   "cell_type": "code",
   "execution_count": 2,
   "id": "chronic-whale",
   "metadata": {},
   "outputs": [
    {
     "data": {
      "text/plain": [
       "8"
      ]
     },
     "execution_count": 2,
     "metadata": {},
     "output_type": "execute_result"
    }
   ],
   "source": [
    "bridge_length = 2\n",
    "weight = 10\n",
    "truck_weights = [7,4,5,6]\n",
    "solution(bridge_length, weight, truck_weights)"
   ]
  },
  {
   "cell_type": "code",
   "execution_count": 3,
   "id": "material-judges",
   "metadata": {},
   "outputs": [
    {
     "data": {
      "text/plain": [
       "101"
      ]
     },
     "execution_count": 3,
     "metadata": {},
     "output_type": "execute_result"
    }
   ],
   "source": [
    "bridge_length = 100\n",
    "weight = 100\n",
    "truck_weights = [10]\n",
    "solution(bridge_length, weight, truck_weights)"
   ]
  },
  {
   "cell_type": "code",
   "execution_count": 4,
   "id": "external-intelligence",
   "metadata": {},
   "outputs": [
    {
     "data": {
      "text/plain": [
       "110"
      ]
     },
     "execution_count": 4,
     "metadata": {},
     "output_type": "execute_result"
    }
   ],
   "source": [
    "bridge_length = 100\n",
    "weight = 100\n",
    "truck_weights = [10,10,10,10,10,10,10,10,10,10]\t\n",
    "solution(bridge_length, weight, truck_weights)"
   ]
  }
 ],
 "metadata": {
  "kernelspec": {
   "display_name": "Python 3",
   "language": "python",
   "name": "python3"
  },
  "language_info": {
   "codemirror_mode": {
    "name": "ipython",
    "version": 3
   },
   "file_extension": ".py",
   "mimetype": "text/x-python",
   "name": "python",
   "nbconvert_exporter": "python",
   "pygments_lexer": "ipython3",
   "version": "3.8.5"
  }
 },
 "nbformat": 4,
 "nbformat_minor": 5
}
