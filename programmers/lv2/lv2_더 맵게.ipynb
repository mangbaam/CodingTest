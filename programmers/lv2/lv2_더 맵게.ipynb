{
 "cells": [
  {
   "cell_type": "markdown",
   "id": "numerical-theorem",
   "metadata": {},
   "source": [
    "https://programmers.co.kr/learn/courses/30/lessons/42626"
   ]
  },
  {
   "cell_type": "code",
   "execution_count": 1,
   "id": "incorporate-hollywood",
   "metadata": {},
   "outputs": [],
   "source": [
    "from heapq import *\n",
    "\n",
    "def solution(scoville, K):\n",
    "    count = 0\n",
    "    heapify(scoville)\n",
    "    while scoville[0] < K and len(scoville) > 1:\n",
    "        num1 = heappop(scoville)\n",
    "        num2 = heappop(scoville)\n",
    "        heappush(scoville, num1 + num2 * 2)\n",
    "        count += 1\n",
    "    return count if scoville[0] >= K else -1"
   ]
  }
 ],
 "metadata": {
  "kernelspec": {
   "display_name": "Python 3",
   "language": "python",
   "name": "python3"
  },
  "language_info": {
   "codemirror_mode": {
    "name": "ipython",
    "version": 3
   },
   "file_extension": ".py",
   "mimetype": "text/x-python",
   "name": "python",
   "nbconvert_exporter": "python",
   "pygments_lexer": "ipython3",
   "version": "3.8.5"
  }
 },
 "nbformat": 4,
 "nbformat_minor": 5
}
