{
 "cells": [
  {
   "cell_type": "markdown",
   "id": "sought-wallet",
   "metadata": {},
   "source": [
    "https://programmers.co.kr/learn/courses/30/lessons/42587"
   ]
  },
  {
   "cell_type": "code",
   "execution_count": 1,
   "id": "saved-release",
   "metadata": {},
   "outputs": [],
   "source": [
    "from collections import deque\n",
    "\n",
    "def solution(priorities, location):\n",
    "    idxs = [i for i in range(len(priorities))]\n",
    "    pages = [(i, p) for i, p in zip(idxs, priorities)]\n",
    "    \n",
    "    queue = deque(pages)\n",
    "    \n",
    "    orders = [] # 인쇄 순서\n",
    "    while len(queue):\n",
    "        page = queue.popleft()\n",
    "        if page[1] == max(priorities):\n",
    "            orders.append(page[0])     # orders에 인덱스 추가\n",
    "            priorities.remove(max(priorities))\n",
    "        else:\n",
    "            queue.append(page)\n",
    "            \n",
    "    return orders.index(location) + 1"
   ]
  }
 ],
 "metadata": {
  "kernelspec": {
   "display_name": "Python 3",
   "language": "python",
   "name": "python3"
  },
  "language_info": {
   "codemirror_mode": {
    "name": "ipython",
    "version": 3
   },
   "file_extension": ".py",
   "mimetype": "text/x-python",
   "name": "python",
   "nbconvert_exporter": "python",
   "pygments_lexer": "ipython3",
   "version": "3.8.5"
  }
 },
 "nbformat": 4,
 "nbformat_minor": 5
}
