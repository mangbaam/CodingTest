{
 "cells": [
  {
   "cell_type": "markdown",
   "id": "nasty-faculty",
   "metadata": {
    "pycharm": {
     "name": "#%% md\n"
    }
   },
   "source": [
    "## Summer/Winter Coding(~2018)\n",
    "### https://latte-is-horse.tistory.com/327\n",
    "https://programmers.co.kr/learn/courses/30/lessons/12978"
   ]
  },
  {
   "cell_type": "code",
   "execution_count": 1,
   "id": "bottom-terminology",
   "metadata": {
    "pycharm": {
     "name": "#%%\n"
    }
   },
   "outputs": [],
   "source": [
    "import heapq\n",
    "\n",
    "INF = 10**9 # 충분히 큰 값\n",
    "distance, graph = list(), list()\n",
    "\n",
    "def dijkstra(start):\n",
    "    q = []\n",
    "    heapq.heappush(q, (0, start))\n",
    "    distance[start] = 0\n",
    "\n",
    "    while q:\n",
    "        dist, now = heapq.heappop(q)\n",
    "        if distance[now] < dist: continue\n",
    "\n",
    "        for t, d in graph[now].items():\n",
    "            cost = dist + d\n",
    "            if cost < distance[t]:\n",
    "                distance[t] = cost\n",
    "                heapq.heappush(q, (cost, t))\n",
    "\n",
    "\n",
    "def solution(N, road, K):\n",
    "    global distance, graph\n",
    "\n",
    "    # 거리 무한대로 초기화\n",
    "    distance = [INF] * (1 + N)\n",
    "\n",
    "    # 그래프에 a -> b , b -> a 최단 거리 추가\n",
    "    graph = [dict() for _ in range(N + 1)]\n",
    "    for _from, _to, dist in road:\n",
    "        # a -> b\n",
    "        if _to in graph[_from].keys():\n",
    "            graph[_from][_to] = min(graph[_from][_to], dist)\n",
    "        else:\n",
    "            graph[_from][_to] = dist\n",
    "        # b -> a\n",
    "        if _from in graph[_to].keys():\n",
    "            graph[_to][_from] = min(graph[_to][_from], dist)\n",
    "        else:\n",
    "            graph[_to][_from] = dist\n",
    "\n",
    "    # 최단 경로 찾기\n",
    "    dijkstra(1)\n",
    "\n",
    "    return len([d for d in distance if d <= K])"
   ]
  }
 ],
 "metadata": {
  "kernelspec": {
   "display_name": "Python 3",
   "language": "python",
   "name": "python3"
  },
  "language_info": {
   "codemirror_mode": {
    "name": "ipython",
    "version": 3
   },
   "file_extension": ".py",
   "mimetype": "text/x-python",
   "name": "python",
   "nbconvert_exporter": "python",
   "pygments_lexer": "ipython3",
   "version": "3.8.5"
  }
 },
 "nbformat": 4,
 "nbformat_minor": 5
}