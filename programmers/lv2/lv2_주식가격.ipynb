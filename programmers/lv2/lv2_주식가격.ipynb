{
 "cells": [
  {
   "cell_type": "markdown",
   "id": "dress-begin",
   "metadata": {},
   "source": [
    "https://programmers.co.kr/learn/courses/30/lessons/42584"
   ]
  },
  {
   "cell_type": "code",
   "execution_count": 1,
   "id": "shaped-colon",
   "metadata": {},
   "outputs": [],
   "source": [
    "def solution(prices):\n",
    "    answer = []\n",
    "    for i, v in enumerate(prices):\n",
    "        p = i + 1\n",
    "        while p < len(prices):\n",
    "            if v > prices[p]:\n",
    "                answer.append(p - i)\n",
    "                break\n",
    "            p += 1\n",
    "        if p == len(prices):\n",
    "            answer.append(p - i - 1)\n",
    "    return answer"
   ]
  },
  {
   "cell_type": "code",
   "execution_count": 2,
   "id": "honest-appraisal",
   "metadata": {},
   "outputs": [
    {
     "data": {
      "text/plain": [
       "[4, 3, 1, 1, 0]"
      ]
     },
     "execution_count": 2,
     "metadata": {},
     "output_type": "execute_result"
    }
   ],
   "source": [
    "solution([1, 2, 3, 2, 3])"
   ]
  }
 ],
 "metadata": {
  "kernelspec": {
   "display_name": "Python 3",
   "language": "python",
   "name": "python3"
  },
  "language_info": {
   "codemirror_mode": {
    "name": "ipython",
    "version": 3
   },
   "file_extension": ".py",
   "mimetype": "text/x-python",
   "name": "python",
   "nbconvert_exporter": "python",
   "pygments_lexer": "ipython3",
   "version": "3.8.5"
  }
 },
 "nbformat": 4,
 "nbformat_minor": 5
}
