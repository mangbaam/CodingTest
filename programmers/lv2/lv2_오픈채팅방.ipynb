{
 "cells": [
  {
   "cell_type": "markdown",
   "id": "first-listening",
   "metadata": {},
   "source": [
    "### 2019 KAKAO BLIND RECRUITMENT\n",
    "https://programmers.co.kr/learn/courses/30/lessons/42888"
   ]
  },
  {
   "cell_type": "code",
   "execution_count": 1,
   "id": "interpreted-boulder",
   "metadata": {},
   "outputs": [],
   "source": [
    "def solution(record):\n",
    "    answer = []\n",
    "    userDB = dict()\n",
    "    actions = [] # \"Enter\", \"Leave\", \"Change\"\n",
    "    \n",
    "    for event in record:\n",
    "        info = event.split() # action uid [nickname]\n",
    "        action, userid = info[0], info[1]\n",
    "        if action in (\"Enter\", \"Change\"):\n",
    "            nickname = info[2]\n",
    "            userDB[userid] = nickname\n",
    "        actions.append((action, userid))\n",
    "        \n",
    "    for actionInfo in actions:\n",
    "        action, userid = actionInfo[0], actionInfo[1]\n",
    "        if action == 'Enter':\n",
    "            answer.append(f'{userDB[userid]}님이 들어왔습니다.')\n",
    "        elif action == 'Leave':\n",
    "            answer.append(f'{userDB[userid]}님이 나갔습니다.')\n",
    "    \n",
    "    return answer"
   ]
  },
  {
   "cell_type": "code",
   "execution_count": 2,
   "id": "minus-trout",
   "metadata": {},
   "outputs": [
    {
     "data": {
      "text/plain": [
       "['Prodo님이 들어왔습니다.', 'Ryan님이 들어왔습니다.', 'Prodo님이 나갔습니다.', 'Prodo님이 들어왔습니다.']"
      ]
     },
     "execution_count": 2,
     "metadata": {},
     "output_type": "execute_result"
    }
   ],
   "source": [
    "record = [\"Enter uid1234 Muzi\", \"Enter uid4567 Prodo\",\"Leave uid1234\",\"Enter uid1234 Prodo\",\"Change uid4567 Ryan\"]\n",
    "solution(record)"
   ]
  },
  {
   "cell_type": "code",
   "execution_count": null,
   "id": "ranging-lighter",
   "metadata": {},
   "outputs": [],
   "source": []
  }
 ],
 "metadata": {
  "kernelspec": {
   "display_name": "Python 3",
   "language": "python",
   "name": "python3"
  },
  "language_info": {
   "codemirror_mode": {
    "name": "ipython",
    "version": 3
   },
   "file_extension": ".py",
   "mimetype": "text/x-python",
   "name": "python",
   "nbconvert_exporter": "python",
   "pygments_lexer": "ipython3",
   "version": "3.8.5"
  }
 },
 "nbformat": 4,
 "nbformat_minor": 5
}
