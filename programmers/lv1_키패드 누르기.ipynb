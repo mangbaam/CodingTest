{
 "cells": [
  {
   "cell_type": "markdown",
   "id": "understood-quick",
   "metadata": {},
   "source": [
    "### 2020 카카오 인턴십\n",
    "https://programmers.co.kr/learn/courses/30/lessons/67256"
   ]
  },
  {
   "cell_type": "code",
   "execution_count": 1,
   "id": "buried-klein",
   "metadata": {},
   "outputs": [],
   "source": [
    "def solution(numbers, hand):\n",
    "    \n",
    "    phone = [\n",
    "        [1, 4, 7],\n",
    "        [2, 5, 8, 0],\n",
    "        [3, 6, 9]\n",
    "    ]\n",
    "    left = [0, 3] # '*'위치\n",
    "    right = [2, 3] # '#'위치\n",
    "    midNum = {\n",
    "        2 : [1, 0],\n",
    "        5 : [1, 1],\n",
    "        8 : [1, 2],\n",
    "        0 : [1, 3]\n",
    "    }\n",
    "    answer = ''\n",
    "    \n",
    "    for num in numbers:\n",
    "        if num in phone[0]:\n",
    "            answer += 'L'\n",
    "            left = [(num - 1) % 3, (num - 1) // 3]\n",
    "        elif num in phone[2]:\n",
    "            answer += 'R'\n",
    "            right = [(num - 1) % 3, (num - 1) // 3]\n",
    "        elif num in phone[1]:\n",
    "            numPos = midNum.get(num)\n",
    "            ld = abs(left[0]-numPos[0]) + abs(left[1]-numPos[1])\n",
    "            rd = abs(right[0]-numPos[0]) + abs(right[1]-numPos[1])\n",
    "            if ld < rd or (ld == rd and hand == 'left'):\n",
    "                answer += 'L'\n",
    "                left = numPos[:]\n",
    "            elif ld > rd or (ld == rd and hand == 'right'):\n",
    "                answer += 'R'\n",
    "                right = numPos[:]\n",
    "                    \n",
    "            \n",
    "    return answer"
   ]
  }
 ],
 "metadata": {
  "kernelspec": {
   "display_name": "Python 3",
   "language": "python",
   "name": "python3"
  },
  "language_info": {
   "codemirror_mode": {
    "name": "ipython",
    "version": 3
   },
   "file_extension": ".py",
   "mimetype": "text/x-python",
   "name": "python",
   "nbconvert_exporter": "python",
   "pygments_lexer": "ipython3",
   "version": "3.8.5"
  }
 },
 "nbformat": 4,
 "nbformat_minor": 5
}
