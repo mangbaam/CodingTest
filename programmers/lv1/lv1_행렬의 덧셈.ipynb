{
 "cells": [
  {
   "cell_type": "markdown",
   "id": "southern-button",
   "metadata": {},
   "source": [
    "https://programmers.co.kr/learn/courses/30/lessons/12950"
   ]
  },
  {
   "cell_type": "code",
   "execution_count": null,
   "id": "applied-gallery",
   "metadata": {},
   "outputs": [],
   "source": [
    "def solution(arr1, arr2):\n",
    "    cols = len(arr1[0])\n",
    "    rows = len(arr1)\n",
    "    answer = []\n",
    "    for r in range(rows):\n",
    "        tmpArr = []\n",
    "        for c in range(cols):\n",
    "            tmpArr.append(arr1[r][c] + arr2[r][c])\n",
    "        answer.append(tmpArr)\n",
    "    \n",
    "    return answer"
   ]
  }
 ],
 "metadata": {
  "kernelspec": {
   "display_name": "Python 3",
   "language": "python",
   "name": "python3"
  },
  "language_info": {
   "codemirror_mode": {
    "name": "ipython",
    "version": 3
   },
   "file_extension": ".py",
   "mimetype": "text/x-python",
   "name": "python",
   "nbconvert_exporter": "python",
   "pygments_lexer": "ipython3",
   "version": "3.8.5"
  }
 },
 "nbformat": 4,
 "nbformat_minor": 5
}
