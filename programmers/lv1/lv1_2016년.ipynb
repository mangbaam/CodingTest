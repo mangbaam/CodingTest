{
 "cells": [
  {
   "cell_type": "markdown",
   "id": "completed-thompson",
   "metadata": {},
   "source": [
    "https://programmers.co.kr/learn/courses/30/lessons/12901"
   ]
  },
  {
   "cell_type": "code",
   "execution_count": 1,
   "id": "adopted-employee",
   "metadata": {},
   "outputs": [],
   "source": [
    "def solution(a, b):\n",
    "    dayOfMonth = [0, 31, 29, 31, 30, 31, 30, 31, 31, 30, 31, 30, 31]\n",
    "    days = ['THU', 'FRI', 'SAT', 'SUN', 'MON', 'TUE', 'WED'] # 1월 1일 : 금요일\n",
    "    # month\n",
    "    over = sum(dayOfMonth[:a]) + b\n",
    "    return days[over % 7]"
   ]
  }
 ],
 "metadata": {
  "kernelspec": {
   "display_name": "Python 3",
   "language": "python",
   "name": "python3"
  },
  "language_info": {
   "codemirror_mode": {
    "name": "ipython",
    "version": 3
   },
   "file_extension": ".py",
   "mimetype": "text/x-python",
   "name": "python",
   "nbconvert_exporter": "python",
   "pygments_lexer": "ipython3",
   "version": "3.8.5"
  }
 },
 "nbformat": 4,
 "nbformat_minor": 5
}
