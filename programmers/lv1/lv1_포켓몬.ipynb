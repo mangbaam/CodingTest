{
 "cells": [
  {
   "cell_type": "markdown",
   "id": "intended-hindu",
   "metadata": {},
   "source": [
    "### 찾아라 프로그래밍 마에스터\n",
    "https://programmers.co.kr/learn/courses/30/lessons/1845"
   ]
  },
  {
   "cell_type": "code",
   "execution_count": 1,
   "id": "three-verse",
   "metadata": {},
   "outputs": [],
   "source": [
    "def solution(nums):\n",
    "    choose = int(len(nums) / 2) # 주어지는 리스트는 항상 짝수\n",
    "    nums = set(nums) # set으로 중복 제거\n",
    "    \n",
    "    answer = min(len(nums), choose)\n",
    "    return answer"
   ]
  }
 ],
 "metadata": {
  "kernelspec": {
   "display_name": "Python 3",
   "language": "python",
   "name": "python3"
  },
  "language_info": {
   "codemirror_mode": {
    "name": "ipython",
    "version": 3
   },
   "file_extension": ".py",
   "mimetype": "text/x-python",
   "name": "python",
   "nbconvert_exporter": "python",
   "pygments_lexer": "ipython3",
   "version": "3.8.5"
  }
 },
 "nbformat": 4,
 "nbformat_minor": 5
}
