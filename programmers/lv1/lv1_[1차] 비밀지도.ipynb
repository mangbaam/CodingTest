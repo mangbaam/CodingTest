{
 "cells": [
  {
   "cell_type": "markdown",
   "id": "trying-outside",
   "metadata": {},
   "source": [
    "### 2018 KAKAJO BLIND RECRUITMENT\n",
    "https://programmers.co.kr/learn/courses/30/lessons/17681"
   ]
  },
  {
   "cell_type": "code",
   "execution_count": 1,
   "id": "noble-healing",
   "metadata": {},
   "outputs": [],
   "source": [
    "def solution(n, arr1, arr2):              \n",
    "    return [bin(arr1[i] | arr2[i])[2:].zfill(n).replace('1', '#').replace('0', ' ') for i in range(len(arr1))]"
   ]
  }
 ],
 "metadata": {
  "kernelspec": {
   "display_name": "Python 3",
   "language": "python",
   "name": "python3"
  },
  "language_info": {
   "codemirror_mode": {
    "name": "ipython",
    "version": 3
   },
   "file_extension": ".py",
   "mimetype": "text/x-python",
   "name": "python",
   "nbconvert_exporter": "python",
   "pygments_lexer": "ipython3",
   "version": "3.8.5"
  }
 },
 "nbformat": 4,
 "nbformat_minor": 5
}
