{
 "cells": [
  {
   "cell_type": "markdown",
   "id": "southwest-delhi",
   "metadata": {},
   "source": [
    "https://programmers.co.kr/learn/courses/30/lessons/12930"
   ]
  },
  {
   "cell_type": "code",
   "execution_count": null,
   "id": "temporal-irrigation",
   "metadata": {},
   "outputs": [],
   "source": [
    "def solution(s):\n",
    "    answer = []\n",
    "    words = s.split(\" \")\n",
    "    for word in words:\n",
    "        w = \"\"\n",
    "        for i in range(len(word)):\n",
    "            if i % 2:\n",
    "                w += word[i].lower()\n",
    "            else:\n",
    "                w += word[i].upper()\n",
    "        answer.append(w)\n",
    "    return ' '.join(answer)"
   ]
  }
 ],
 "metadata": {
  "kernelspec": {
   "display_name": "Python 3",
   "language": "python",
   "name": "python3"
  },
  "language_info": {
   "codemirror_mode": {
    "name": "ipython",
    "version": 3
   },
   "file_extension": ".py",
   "mimetype": "text/x-python",
   "name": "python",
   "nbconvert_exporter": "python",
   "pygments_lexer": "ipython3",
   "version": "3.8.5"
  }
 },
 "nbformat": 4,
 "nbformat_minor": 5
}
