{
 "cells": [
  {
   "cell_type": "markdown",
   "id": "genetic-trust",
   "metadata": {},
   "source": [
    "https://programmers.co.kr/learn/courses/30/lessons/42840"
   ]
  },
  {
   "cell_type": "code",
   "execution_count": 1,
   "id": "protective-findings",
   "metadata": {},
   "outputs": [],
   "source": [
    "def rank(arr):\n",
    "    maxValue = max(arr)\n",
    "    answer = []\n",
    "    for i, v in enumerate(arr):\n",
    "        if v >= maxValue:\n",
    "            answer.append(i + 1)\n",
    "    answer.sort()\n",
    "    return answer\n",
    "\n",
    "def solution(answers):\n",
    "    answer = []\n",
    "    collect = [0] * 3\n",
    "    \n",
    "    for i, ans in enumerate(answers):\n",
    "        # 1번 수포자\n",
    "        # 1 2 3 4 5 ...\n",
    "        a1 = i % 5 + 1\n",
    "        if ans == a1:\n",
    "            collect[0] += 1\n",
    "        \n",
    "        # 2번 수포자\n",
    "        # 2 1 / 2 3 / 2 4 / 2 5 ...\n",
    "        mat2 = [2, 1, 2, 3, 2, 4, 2, 5]\n",
    "        a2 = i % 8\n",
    "        if ans == mat2[a2]:\n",
    "            collect[1] += 1\n",
    "                \n",
    "        # 3번 수포자\n",
    "        # 3 3 / 1 1 / 2 2 / 4 4 / 5 5 ...\n",
    "        mat3 = [3, 3, 1, 1, 2, 2, 4, 4, 5, 5]\n",
    "        a3 = i % 10\n",
    "        if ans == mat3[a3]:\n",
    "            collect[2] += 1\n",
    "    \n",
    "    answer = rank(collect)\n",
    "    return answer"
   ]
  }
 ],
 "metadata": {
  "kernelspec": {
   "display_name": "Python 3",
   "language": "python",
   "name": "python3"
  },
  "language_info": {
   "codemirror_mode": {
    "name": "ipython",
    "version": 3
   },
   "file_extension": ".py",
   "mimetype": "text/x-python",
   "name": "python",
   "nbconvert_exporter": "python",
   "pygments_lexer": "ipython3",
   "version": "3.8.5"
  }
 },
 "nbformat": 4,
 "nbformat_minor": 5
}
