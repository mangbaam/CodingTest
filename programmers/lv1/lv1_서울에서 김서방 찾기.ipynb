{
 "cells": [
  {
   "cell_type": "markdown",
   "id": "expressed-ordering",
   "metadata": {},
   "source": [
    "https://programmers.co.kr/learn/courses/30/lessons/12919"
   ]
  },
  {
   "cell_type": "code",
   "execution_count": null,
   "id": "wireless-cross",
   "metadata": {},
   "outputs": [],
   "source": [
    "def solution(seoul):\n",
    "    return f'김서방은 {seoul.index(\"Kim\")}에 있다'"
   ]
  }
 ],
 "metadata": {
  "kernelspec": {
   "display_name": "Python 3",
   "language": "python",
   "name": "python3"
  },
  "language_info": {
   "codemirror_mode": {
    "name": "ipython",
    "version": 3
   },
   "file_extension": ".py",
   "mimetype": "text/x-python",
   "name": "python",
   "nbconvert_exporter": "python",
   "pygments_lexer": "ipython3",
   "version": "3.8.5"
  }
 },
 "nbformat": 4,
 "nbformat_minor": 5
}
