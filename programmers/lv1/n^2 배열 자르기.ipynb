{
 "cells": [
  {
   "cell_type": "markdown",
   "id": "elder-musical",
   "metadata": {},
   "source": [
    "https://programmers.co.kr/learn/courses/30/lessons/87390"
   ]
  },
  {
   "cell_type": "code",
   "execution_count": 1,
   "id": "surface-change",
   "metadata": {},
   "outputs": [],
   "source": [
    "def solution(n, left, right):\n",
    "    startLine, startIndex = divmod(left, n)\n",
    "    endLine, endIndex = divmod(right, n)\n",
    "    table = []\n",
    "    \n",
    "    # same line\n",
    "    if startLine == endLine:\n",
    "        for i in range(startIndex, endIndex+1):\n",
    "            if i < startLine:\n",
    "                table.append(startLine+1)\n",
    "            else: table.append(i+1)\n",
    "        return table\n",
    "    \n",
    "    # start\n",
    "    for i in range(startIndex, n):\n",
    "        if i < startLine:\n",
    "            table.append(startLine+1)\n",
    "        else:\n",
    "            table.append(i+1)\n",
    "    \n",
    "    # mid\n",
    "    for i in range(startLine+1, endLine):\n",
    "        for _ in range(i+1):\n",
    "            table.append(i+1)\n",
    "        for j in range(i+1, n):\n",
    "            table.append(j+1)\n",
    "    \n",
    "    # end\n",
    "    for i in range(endIndex+1):\n",
    "        if i < endLine:\n",
    "            table.append(endLine+1)\n",
    "        else:\n",
    "            table.append(i+1)\n",
    "\n",
    "    return table"
   ]
  },
  {
   "cell_type": "code",
   "execution_count": 2,
   "id": "chicken-lesson",
   "metadata": {},
   "outputs": [
    {
     "data": {
      "text/plain": [
       "[3, 2, 2, 3]"
      ]
     },
     "execution_count": 2,
     "metadata": {},
     "output_type": "execute_result"
    }
   ],
   "source": [
    "solution(3, 2, 5)"
   ]
  },
  {
   "cell_type": "code",
   "execution_count": 3,
   "id": "featured-birmingham",
   "metadata": {},
   "outputs": [
    {
     "data": {
      "text/plain": [
       "[4, 3, 3, 3, 4, 4, 4, 4]"
      ]
     },
     "execution_count": 3,
     "metadata": {},
     "output_type": "execute_result"
    }
   ],
   "source": [
    "solution(4, 7, 14)"
   ]
  }
 ],
 "metadata": {
  "kernelspec": {
   "display_name": "Python 3",
   "language": "python",
   "name": "python3"
  },
  "language_info": {
   "codemirror_mode": {
    "name": "ipython",
    "version": 3
   },
   "file_extension": ".py",
   "mimetype": "text/x-python",
   "name": "python",
   "nbconvert_exporter": "python",
   "pygments_lexer": "ipython3",
   "version": "3.8.5"
  }
 },
 "nbformat": 4,
 "nbformat_minor": 5
}
