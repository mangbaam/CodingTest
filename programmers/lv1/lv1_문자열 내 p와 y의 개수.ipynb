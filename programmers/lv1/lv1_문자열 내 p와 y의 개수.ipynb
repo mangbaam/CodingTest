{
 "cells": [
  {
   "cell_type": "markdown",
   "id": "detected-bailey",
   "metadata": {},
   "source": [
    "https://programmers.co.kr/learn/courses/30/lessons/12916"
   ]
  },
  {
   "cell_type": "code",
   "execution_count": null,
   "id": "hired-mistress",
   "metadata": {},
   "outputs": [],
   "source": [
    "def solution(s):\n",
    "    s = s.lower()\n",
    "    pnum, ynum = 0, 0\n",
    "    for c in s:\n",
    "        if c == 'p':\n",
    "            pnum += 1\n",
    "        if c == 'y':\n",
    "            ynum += 1\n",
    "\n",
    "    return True if pnum == ynum else False"
   ]
  }
 ],
 "metadata": {
  "kernelspec": {
   "display_name": "Python 3",
   "language": "python",
   "name": "python3"
  },
  "language_info": {
   "codemirror_mode": {
    "name": "ipython",
    "version": 3
   },
   "file_extension": ".py",
   "mimetype": "text/x-python",
   "name": "python",
   "nbconvert_exporter": "python",
   "pygments_lexer": "ipython3",
   "version": "3.8.5"
  }
 },
 "nbformat": 4,
 "nbformat_minor": 5
}
