{
 "cells": [
  {
   "cell_type": "markdown",
   "source": [
    "https://programmers.co.kr/learn/courses/30/lessons/92334"
   ],
   "metadata": {
    "collapsed": false,
    "pycharm": {
     "name": "#%% md\n"
    }
   }
  },
  {
   "cell_type": "code",
   "execution_count": null,
   "metadata": {
    "collapsed": true,
    "pycharm": {
     "name": "#%%\n"
    }
   },
   "outputs": [],
   "source": [
    "def solution(id_list, report, k):\n",
    "    answer = []\n",
    "\n",
    "    my_report = {my_id: {id: False for id in id_list if id != my_id} for my_id in id_list}\n",
    "    report_list = {id: 0 for id in id_list}\n",
    "\n",
    "    for case in report:\n",
    "        user, bad_user = case.split()\n",
    "        if not my_report[user][bad_user]:\n",
    "            my_report[user][bad_user] = True\n",
    "            report_list[bad_user] += 1\n",
    "\n",
    "    bad_users = [id for id in id_list if report_list[id] >= k]\n",
    "\n",
    "    for id in id_list:\n",
    "        report_count = 0\n",
    "        for report_id, is_reported in my_report[id].items():\n",
    "            if is_reported and report_id in bad_users:\n",
    "                report_count += 1\n",
    "        answer.append(report_count)\n",
    "\n",
    "    return answer"
   ]
  }
 ],
 "metadata": {
  "kernelspec": {
   "display_name": "Python 3",
   "language": "python",
   "name": "python3"
  },
  "language_info": {
   "codemirror_mode": {
    "name": "ipython",
    "version": 2
   },
   "file_extension": ".py",
   "mimetype": "text/x-python",
   "name": "python",
   "nbconvert_exporter": "python",
   "pygments_lexer": "ipython2",
   "version": "2.7.6"
  }
 },
 "nbformat": 4,
 "nbformat_minor": 0
}