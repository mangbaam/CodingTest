{
 "cells": [
  {
   "cell_type": "markdown",
   "id": "portable-queen",
   "metadata": {},
   "source": [
    "https://programmers.co.kr/learn/courses/30/lessons/12934"
   ]
  },
  {
   "cell_type": "code",
   "execution_count": null,
   "id": "destroyed-relaxation",
   "metadata": {},
   "outputs": [],
   "source": [
    "import math\n",
    "def solution(n):\n",
    "    num = math.sqrt(n)\n",
    "    if num % 1 == 0:\n",
    "        # 제곱근\n",
    "        return pow(num + 1, 2)\n",
    "    else : return -1"
   ]
  }
 ],
 "metadata": {
  "kernelspec": {
   "display_name": "Python 3",
   "language": "python",
   "name": "python3"
  },
  "language_info": {
   "codemirror_mode": {
    "name": "ipython",
    "version": 3
   },
   "file_extension": ".py",
   "mimetype": "text/x-python",
   "name": "python",
   "nbconvert_exporter": "python",
   "pygments_lexer": "ipython3",
   "version": "3.8.5"
  }
 },
 "nbformat": 4,
 "nbformat_minor": 5
}
