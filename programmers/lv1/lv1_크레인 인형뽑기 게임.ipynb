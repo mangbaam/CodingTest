{
 "cells": [
  {
   "cell_type": "markdown",
   "id": "architectural-harris",
   "metadata": {},
   "source": [
    "### 2019 카카오 개발자 겨울 인턴십\n",
    "https://programmers.co.kr/learn/courses/30/lessons/64061"
   ]
  },
  {
   "cell_type": "code",
   "execution_count": 1,
   "id": "creative-consolidation",
   "metadata": {},
   "outputs": [],
   "source": [
    "basket = []\n",
    "\n",
    "def solution(board, moves):\n",
    "    answer = 0\n",
    "    \n",
    "    for move in moves:\n",
    "        i = 0\n",
    "        while board[i][move - 1] == 0 and i < len(board[0]) - 1:\n",
    "            i += 1\n",
    "        if board[i][move - 1] != 0:\n",
    "            answer = inBasket(board[i][move - 1], answer)\n",
    "            board[i][move - 1] = 0\n",
    "    \n",
    "    return answer\n",
    "\n",
    "def inBasket(num, answer):\n",
    "    global basket\n",
    "    if len(basket) > 0 and basket[-1] == num:\n",
    "        basket.pop()\n",
    "        answer += 2\n",
    "    else:\n",
    "        basket.append(num)\n",
    "    return answer"
   ]
  }
 ],
 "metadata": {
  "kernelspec": {
   "display_name": "Python 3",
   "language": "python",
   "name": "python3"
  },
  "language_info": {
   "codemirror_mode": {
    "name": "ipython",
    "version": 3
   },
   "file_extension": ".py",
   "mimetype": "text/x-python",
   "name": "python",
   "nbconvert_exporter": "python",
   "pygments_lexer": "ipython3",
   "version": "3.8.5"
  }
 },
 "nbformat": 4,
 "nbformat_minor": 5
}
