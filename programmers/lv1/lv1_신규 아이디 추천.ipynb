{
 "cells": [
  {
   "cell_type": "markdown",
   "id": "extreme-persian",
   "metadata": {},
   "source": [
    "### 2021 KAKAO BLIND RECRUITMENT\n",
    "https://programmers.co.kr/learn/courses/30/lessons/72410"
   ]
  },
  {
   "cell_type": "code",
   "execution_count": 2,
   "id": "sunset-packaging",
   "metadata": {},
   "outputs": [],
   "source": [
    "def solution(new_id):\n",
    "    answer = ''\n",
    "    \n",
    "    # STEP 1\n",
    "    new_id = new_id.lower()\n",
    "    \n",
    "    # STEP 2\n",
    "    for ch in new_id:\n",
    "        if ch.isalpha() or ch.isdigit() or ch in ['-', '_', '.']:\n",
    "            answer += ch\n",
    "            \n",
    "    # STEP 3\n",
    "    while '..' in answer:\n",
    "        answer = answer.replace('..', '.')\n",
    "        \n",
    "    # STEP 4\n",
    "    if answer[0] == '.':\n",
    "        answer = answer[1:] if len(answer) > 1 else '.'\n",
    "    if answer[-1] == '.':\n",
    "        answer = answer[:-1]\n",
    "        \n",
    "    # STEP 5 ~ 6\n",
    "    answer = 'a' if len(answer) == 0 else answer[:15]\n",
    "    \n",
    "    # STEP 6\n",
    "    if answer[-1] == '.':\n",
    "        answer = answer[:-1]\n",
    "            \n",
    "    # STEP 7\n",
    "    while len(answer) < 3:\n",
    "        answer += answer[-1]\n",
    "        \n",
    "    return answer"
   ]
  },
  {
   "cell_type": "code",
   "execution_count": 3,
   "id": "moved-indicator",
   "metadata": {},
   "outputs": [
    {
     "data": {
      "text/plain": [
       "'bat.y.abcdefghi'"
      ]
     },
     "execution_count": 3,
     "metadata": {},
     "output_type": "execute_result"
    }
   ],
   "source": [
    "new_id = \"...!@BaT#*..y.abcdefghijklm\"\n",
    "solution(new_id) # \"bat.y.abcdefghi\""
   ]
  },
  {
   "cell_type": "code",
   "execution_count": null,
   "id": "metric-animation",
   "metadata": {},
   "outputs": [],
   "source": []
  }
 ],
 "metadata": {
  "kernelspec": {
   "display_name": "Python 3",
   "language": "python",
   "name": "python3"
  },
  "language_info": {
   "codemirror_mode": {
    "name": "ipython",
    "version": 3
   },
   "file_extension": ".py",
   "mimetype": "text/x-python",
   "name": "python",
   "nbconvert_exporter": "python",
   "pygments_lexer": "ipython3",
   "version": "3.8.5"
  }
 },
 "nbformat": 4,
 "nbformat_minor": 5
}
