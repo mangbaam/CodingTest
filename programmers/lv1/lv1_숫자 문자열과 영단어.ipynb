{
 "cells": [
  {
   "cell_type": "markdown",
   "id": "inside-accordance",
   "metadata": {},
   "source": [
    "### 2021 카카오 채용연계형 인턴십\n",
    "https://programmers.co.kr/learn/courses/30/lessons/81301"
   ]
  },
  {
   "cell_type": "code",
   "execution_count": 1,
   "id": "editorial-surgeon",
   "metadata": {},
   "outputs": [],
   "source": [
    "import re\n",
    "def solution(s):\n",
    "    values = [str(n) for n in range(0, 10)]\n",
    "    keys = ['zero', 'one', 'two', 'three', 'four', 'five', 'six', 'seven', 'eight', 'nine']\n",
    "    eng = dict(zip(keys, values))\n",
    "    \n",
    "    for i in eng.keys():\n",
    "        s = re.sub(f'{i}', f'{eng[i]}', s)\n",
    "    return int(s)"
   ]
  }
 ],
 "metadata": {
  "kernelspec": {
   "display_name": "Python 3",
   "language": "python",
   "name": "python3"
  },
  "language_info": {
   "codemirror_mode": {
    "name": "ipython",
    "version": 3
   },
   "file_extension": ".py",
   "mimetype": "text/x-python",
   "name": "python",
   "nbconvert_exporter": "python",
   "pygments_lexer": "ipython3",
   "version": "3.8.5"
  }
 },
 "nbformat": 4,
 "nbformat_minor": 5
}
