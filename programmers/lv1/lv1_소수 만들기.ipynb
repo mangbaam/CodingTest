{
 "cells": [
  {
   "cell_type": "markdown",
   "id": "lightweight-multiple",
   "metadata": {},
   "source": [
    "### Summer/Winter Coding(~2018)\n",
    "https://programmers.co.kr/learn/courses/30/lessons/12977"
   ]
  },
  {
   "cell_type": "code",
   "execution_count": 1,
   "id": "emotional-mongolia",
   "metadata": {},
   "outputs": [],
   "source": [
    "from itertools import combinations\n",
    "\n",
    "# 아리스토텔레스의 체 반환\n",
    "def aristoSieve(size):\n",
    "    aristo = [True] * (size + 1)\n",
    "    aristo[0], aristo[1] = False, False\n",
    "    \n",
    "    # 1 ~ 1000까지의 아리스토텔레스의 체\n",
    "    for i in range(2, int(size ** 0.5) + 1):\n",
    "        if aristo[i] == True:\n",
    "            for j in range(i + i, size + 1, i):\n",
    "                aristo[j] = False\n",
    "                \n",
    "    return aristo\n",
    "\n",
    "# 솔루션 함수\n",
    "def solution(nums):\n",
    "    answer = 0\n",
    "    # 아리스토 체 생성\n",
    "    aristo = aristoSieve(3000)\n",
    "    # 숫자 3개를 조합해서 나오는 것을 출력\n",
    "    combi = list(combinations(nums, 3))\n",
    "    \n",
    "    for case in combi:\n",
    "        if aristo[sum(case)]:\n",
    "            answer += 1\n",
    "\n",
    "    return answer"
   ]
  }
 ],
 "metadata": {
  "kernelspec": {
   "display_name": "Python 3",
   "language": "python",
   "name": "python3"
  },
  "language_info": {
   "codemirror_mode": {
    "name": "ipython",
    "version": 3
   },
   "file_extension": ".py",
   "mimetype": "text/x-python",
   "name": "python",
   "nbconvert_exporter": "python",
   "pygments_lexer": "ipython3",
   "version": "3.8.5"
  }
 },
 "nbformat": 4,
 "nbformat_minor": 5
}
