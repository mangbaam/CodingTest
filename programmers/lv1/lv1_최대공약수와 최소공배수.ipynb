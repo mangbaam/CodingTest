{
 "cells": [
  {
   "cell_type": "markdown",
   "id": "legal-design",
   "metadata": {},
   "source": [
    "https://programmers.co.kr/learn/courses/30/lessons/12940"
   ]
  },
  {
   "cell_type": "code",
   "execution_count": null,
   "id": "impaired-namibia",
   "metadata": {},
   "outputs": [],
   "source": [
    "from math import gcd\n",
    "# python 3.9 부터는 math.lcm 사용 가능\n",
    "\n",
    "def solution(n, m):\n",
    "    return [gcd(n, m), n * m // gcd(n, m)]"
   ]
  }
 ],
 "metadata": {
  "kernelspec": {
   "display_name": "Python 3",
   "language": "python",
   "name": "python3"
  },
  "language_info": {
   "codemirror_mode": {
    "name": "ipython",
    "version": 3
   },
   "file_extension": ".py",
   "mimetype": "text/x-python",
   "name": "python",
   "nbconvert_exporter": "python",
   "pygments_lexer": "ipython3",
   "version": "3.8.5"
  }
 },
 "nbformat": 4,
 "nbformat_minor": 5
}
