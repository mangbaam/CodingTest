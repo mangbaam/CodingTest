{
 "cells": [
  {
   "cell_type": "markdown",
   "id": "attended-consistency",
   "metadata": {},
   "source": [
    "### 2018 KAKAO BLIND RECRUITMENT\n",
    "https://programmers.co.kr/learn/courses/30/lessons/17682"
   ]
  },
  {
   "cell_type": "code",
   "execution_count": 1,
   "id": "normal-topic",
   "metadata": {},
   "outputs": [],
   "source": [
    "def solution(dartResult):\n",
    "    stack = []\n",
    "    dartResult = dartResult.replace(\"10\", \"A\")\n",
    "    bonus = {'S': 1, 'D': 2, 'T': 3}\n",
    "    \n",
    "    for i in dartResult:\n",
    "        if i.isdigit() or i=='A':\n",
    "            stack.append(10 if i == 'A' else int(i))\n",
    "        elif i in ('S', 'D', 'T'):\n",
    "            num = stack.pop()\n",
    "            stack.append(num ** bonus[i])\n",
    "        elif i == '#':\n",
    "            stack[-1] *= -1\n",
    "        elif i == '*':\n",
    "            num = stack.pop()\n",
    "            if len(stack):\n",
    "                stack[-1] *= 2\n",
    "            stack.append(2 * num)\n",
    "    return sum(stack)"
   ]
  }
 ],
 "metadata": {
  "kernelspec": {
   "display_name": "Python 3",
   "language": "python",
   "name": "python3"
  },
  "language_info": {
   "codemirror_mode": {
    "name": "ipython",
    "version": 3
   },
   "file_extension": ".py",
   "mimetype": "text/x-python",
   "name": "python",
   "nbconvert_exporter": "python",
   "pygments_lexer": "ipython3",
   "version": "3.8.5"
  }
 },
 "nbformat": 4,
 "nbformat_minor": 5
}
