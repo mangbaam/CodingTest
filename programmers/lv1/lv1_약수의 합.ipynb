{
 "cells": [
  {
   "cell_type": "markdown",
   "id": "entitled-hudson",
   "metadata": {},
   "source": [
    "https://programmers.co.kr/learn/courses/30/lessons/12928"
   ]
  },
  {
   "cell_type": "code",
   "execution_count": null,
   "id": "systematic-oakland",
   "metadata": {},
   "outputs": [],
   "source": [
    "def solution(n):\n",
    "    answer = 0\n",
    "    li = []\n",
    "    i = 1\n",
    "    while i <= n:\n",
    "        if not n % i:\n",
    "            li.append(i)\n",
    "        i += 1\n",
    "    return sum(set(li))"
   ]
  }
 ],
 "metadata": {
  "kernelspec": {
   "display_name": "Python 3",
   "language": "python",
   "name": "python3"
  },
  "language_info": {
   "codemirror_mode": {
    "name": "ipython",
    "version": 3
   },
   "file_extension": ".py",
   "mimetype": "text/x-python",
   "name": "python",
   "nbconvert_exporter": "python",
   "pygments_lexer": "ipython3",
   "version": "3.8.5"
  }
 },
 "nbformat": 4,
 "nbformat_minor": 5
}
