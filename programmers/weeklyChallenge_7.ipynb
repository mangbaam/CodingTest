{
 "cells": [
  {
   "cell_type": "markdown",
   "id": "extra-synthetic",
   "metadata": {},
   "source": [
    "## 위클리 챌린지 7주차\n",
    "### https://latte-is-horse.tistory.com/232\n",
    "https://programmers.co.kr/learn/courses/30/lessons/86048"
   ]
  },
  {
   "cell_type": "code",
   "execution_count": 44,
   "id": "lucky-jungle",
   "metadata": {},
   "outputs": [],
   "source": [
    "def solution(enter, leave):\n",
    "    answer = [[] for _ in range(len(enter)+1)]\n",
    "    room = []\n",
    "    ei, li = 0, 0\n",
    "    while ei<len(enter) or li<len(leave):\n",
    "        if leave[li] not in room:\n",
    "            answer[enter[ei]]=room[:]\n",
    "            room.append(enter[ei])\n",
    "            ei += 1\n",
    "        else:\n",
    "            room.remove(leave[li])\n",
    "            li += 1\n",
    "        print(room)\n",
    "    print(answer)\n",
    "    for p, person in enumerate(answer):\n",
    "        for met in person:\n",
    "            answer[met].append(p)\n",
    "    return [len(set(i)) for i in answer][1:]\n"
   ]
  },
  {
   "cell_type": "code",
   "execution_count": 45,
   "id": "applied-magnitude",
   "metadata": {},
   "outputs": [
    {
     "name": "stdout",
     "output_type": "stream",
     "text": [
      "[1]\n",
      "[1, 4]\n",
      "[1, 4, 2]\n",
      "[1, 4]\n",
      "[4]\n",
      "[4, 3]\n",
      "[4]\n",
      "[]\n",
      "[[], [], [1, 4], [4], [1]]\n"
     ]
    },
    {
     "data": {
      "text/plain": [
       "[2, 2, 1, 3]"
      ]
     },
     "execution_count": 45,
     "metadata": {},
     "output_type": "execute_result"
    }
   ],
   "source": [
    "enter = [1, 4, 2, 3]\n",
    "leave = [2, 1, 3, 4]\n",
    "solution(enter, leave)"
   ]
  }
 ],
 "metadata": {
  "kernelspec": {
   "display_name": "Python 3",
   "language": "python",
   "name": "python3"
  },
  "language_info": {
   "codemirror_mode": {
    "name": "ipython",
    "version": 3
   },
   "file_extension": ".py",
   "mimetype": "text/x-python",
   "name": "python",
   "nbconvert_exporter": "python",
   "pygments_lexer": "ipython3",
   "version": "3.8.5"
  }
 },
 "nbformat": 4,
 "nbformat_minor": 5
}
