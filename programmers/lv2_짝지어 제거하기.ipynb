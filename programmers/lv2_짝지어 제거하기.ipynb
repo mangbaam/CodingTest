{
 "cells": [
  {
   "cell_type": "markdown",
   "id": "hollywood-peninsula",
   "metadata": {},
   "source": [
    "### 2017 팁스타운\n",
    "https://programmers.co.kr/learn/courses/30/lessons/12973"
   ]
  },
  {
   "cell_type": "code",
   "execution_count": 1,
   "id": "driven-barrel",
   "metadata": {},
   "outputs": [],
   "source": [
    "def solution(s):\n",
    "    if len(s) % 2 == 1: return 0 # 문자가 홀수개면 무조건 남는다.\n",
    "    if len(s) == 2: # 문자가 2개이고, 같은 문자라면 무조건 가능\n",
    "        return 1 if s[0] == s[1] else 0\n",
    "            \n",
    "    stack = [s[0]]\n",
    "    \n",
    "    for v in s[1:]:\n",
    "        if len(stack) > 0 and stack[-1] == v:\n",
    "            stack.pop()\n",
    "        else:\n",
    "            stack.append(v)\n",
    "            \n",
    "    return 0 if len(stack) else 1"
   ]
  }
 ],
 "metadata": {
  "kernelspec": {
   "display_name": "Python 3",
   "language": "python",
   "name": "python3"
  },
  "language_info": {
   "codemirror_mode": {
    "name": "ipython",
    "version": 3
   },
   "file_extension": ".py",
   "mimetype": "text/x-python",
   "name": "python",
   "nbconvert_exporter": "python",
   "pygments_lexer": "ipython3",
   "version": "3.8.5"
  }
 },
 "nbformat": 4,
 "nbformat_minor": 5
}
