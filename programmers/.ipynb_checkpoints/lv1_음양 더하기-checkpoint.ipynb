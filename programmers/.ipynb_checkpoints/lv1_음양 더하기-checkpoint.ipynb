{
 "cells": [
  {
   "cell_type": "markdown",
   "id": "improving-protection",
   "metadata": {},
   "source": [
    "### 월간 코드 챌린지 시즌2\n",
    "https://programmers.co.kr/learn/courses/30/lessons/76501"
   ]
  },
  {
   "cell_type": "code",
   "execution_count": 1,
   "id": "accomplished-invention",
   "metadata": {},
   "outputs": [],
   "source": [
    "def solution(absolutes, signs):\n",
    "    return sum([num if sign else -1 * num for num, sign in zip(absolutes, signs)])"
   ]
  }
 ],
 "metadata": {
  "kernelspec": {
   "display_name": "Python 3",
   "language": "python",
   "name": "python3"
  },
  "language_info": {
   "codemirror_mode": {
    "name": "ipython",
    "version": 3
   },
   "file_extension": ".py",
   "mimetype": "text/x-python",
   "name": "python",
   "nbconvert_exporter": "python",
   "pygments_lexer": "ipython3",
   "version": "3.8.5"
  }
 },
 "nbformat": 4,
 "nbformat_minor": 5
}
