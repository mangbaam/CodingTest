{
 "cells": [
  {
   "cell_type": "markdown",
   "id": "extreme-persian",
   "metadata": {},
   "source": [
    "### 2021 KAKAO BLIND RECRUITMENT\n",
    "https://programmers.co.kr/learn/courses/30/lessons/72410"
   ]
  },
  {
   "cell_type": "code",
   "execution_count": 1,
   "id": "sunset-packaging",
   "metadata": {},
   "outputs": [],
   "source": [
    "def solution(n, lost, reserve):\n",
    "    _reserve = list(set(reserve) - set(lost))\n",
    "    _lost = list(set(lost) - set(reserve))\n",
    "    \n",
    "    print(\"여벌: \", _reserve)\n",
    "    \n",
    "    for i in _reserve:\n",
    "        print(\"> \", i)\n",
    "        if i - 1 in _lost:\n",
    "            _lost.remove(i - 1)\n",
    "        elif i + 1 in _lost:\n",
    "            _lost.remove(i + 1)\n",
    "    \n",
    "    return n - len(_lost)"
   ]
  }
 ],
 "metadata": {
  "kernelspec": {
   "display_name": "Python 3",
   "language": "python",
   "name": "python3"
  },
  "language_info": {
   "codemirror_mode": {
    "name": "ipython",
    "version": 3
   },
   "file_extension": ".py",
   "mimetype": "text/x-python",
   "name": "python",
   "nbconvert_exporter": "python",
   "pygments_lexer": "ipython3",
   "version": "3.8.5"
  }
 },
 "nbformat": 4,
 "nbformat_minor": 5
}
