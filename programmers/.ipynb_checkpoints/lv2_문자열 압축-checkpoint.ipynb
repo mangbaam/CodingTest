{
 "cells": [
  {
   "cell_type": "markdown",
   "id": "normal-tomorrow",
   "metadata": {},
   "source": [
    "### 2020 KAKAO BLIND RECRUITMENT\n",
    "https://programmers.co.kr/learn/courses/30/lessons/60057"
   ]
  },
  {
   "cell_type": "code",
   "execution_count": 74,
   "id": "rolled-municipality",
   "metadata": {},
   "outputs": [],
   "source": [
    "def solution(s):\n",
    "    unit = 1\n",
    "    shortest = len(s)\n",
    "    \n",
    "    while unit <= len(s)//2:\n",
    "        strings, keys = [], []\n",
    "        for i in range(0, len(s), unit):\n",
    "            now = s[i:i+unit]\n",
    "            if len(strings) == 0 or strings[-1] != now: # 중복되지 않는 경우 # strings에 값을 추가\n",
    "                strings.append(now)\n",
    "                \n",
    "            elif strings[-1] == now: # 중복되는 경우 # keys에 값을 추가. 이미 strings에 키 값이 들어있다.\n",
    "                if len(keys) == 0 or keys[-1][0] != now:\n",
    "                    keys.append([now, 2])\n",
    "                elif keys[-1][0] == now:\n",
    "                    keys[-1][1] += 1\n",
    "        \n",
    "        # 중복을 제외한 문자 길이 + 중복된 문자열 종류 개수(압축 후 숫자 개수)\n",
    "        length = len(''.join(strings)) + len(''.join([str(keys[i][1]) for i in range(len(keys))]))\n",
    "        shortest = min(shortest, length) # 최솟값 구하기\n",
    "        unit += 1\n",
    "    return shortest"
   ]
  },
  {
   "cell_type": "code",
   "execution_count": 75,
   "id": "cloudy-methodology",
   "metadata": {},
   "outputs": [
    {
     "data": {
      "text/plain": [
       "8"
      ]
     },
     "execution_count": 75,
     "metadata": {},
     "output_type": "execute_result"
    }
   ],
   "source": [
    "s = \"abcabcdede\"\n",
    "solution(s)"
   ]
  }
 ],
 "metadata": {
  "kernelspec": {
   "display_name": "Python 3",
   "language": "python",
   "name": "python3"
  },
  "language_info": {
   "codemirror_mode": {
    "name": "ipython",
    "version": 3
   },
   "file_extension": ".py",
   "mimetype": "text/x-python",
   "name": "python",
   "nbconvert_exporter": "python",
   "pygments_lexer": "ipython3",
   "version": "3.8.5"
  }
 },
 "nbformat": 4,
 "nbformat_minor": 5
}
