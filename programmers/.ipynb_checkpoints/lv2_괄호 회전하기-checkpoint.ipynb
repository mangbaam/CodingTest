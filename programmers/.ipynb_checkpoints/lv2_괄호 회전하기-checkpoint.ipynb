{
 "cells": [
  {
   "cell_type": "markdown",
   "id": "natural-charlotte",
   "metadata": {},
   "source": [
    "### 월간 코드 챌린지 시즌2\n",
    "https://programmers.co.kr/learn/courses/30/lessons/76502"
   ]
  },
  {
   "cell_type": "code",
   "execution_count": 1,
   "id": "caring-booking",
   "metadata": {},
   "outputs": [],
   "source": [
    "def solution(s):\n",
    "    answer = 0\n",
    "    for i in range(len(s)):\n",
    "        if check(s[i:]+s[:i]):\n",
    "            answer += 1\n",
    "    return answer\n",
    "\n",
    "def check(s):\n",
    "    stack = []\n",
    "    dic = {'(': ')', '{': '}', '[': ']'}\n",
    "    for i in s:\n",
    "        # 열리는 괄호 : 추가\n",
    "        if i in dic.keys():\n",
    "            stack.append(i)\n",
    "        # 닫히는 괄호\n",
    "        elif i in dic.values():\n",
    "            # 스택이 비었으면 False\n",
    "            if len(stack) == 0:\n",
    "                return False\n",
    "            # 마지막 괄호가 일치하면 스택에서 제거\n",
    "            if dic[stack[-1]] == i:\n",
    "                stack.pop()\n",
    "            # 일치하지 않으면 False\n",
    "            else:\n",
    "                return False\n",
    "    return False if stack else True"
   ]
  }
 ],
 "metadata": {
  "kernelspec": {
   "display_name": "Python 3",
   "language": "python",
   "name": "python3"
  },
  "language_info": {
   "codemirror_mode": {
    "name": "ipython",
    "version": 3
   },
   "file_extension": ".py",
   "mimetype": "text/x-python",
   "name": "python",
   "nbconvert_exporter": "python",
   "pygments_lexer": "ipython3",
   "version": "3.8.5"
  }
 },
 "nbformat": 4,
 "nbformat_minor": 5
}
