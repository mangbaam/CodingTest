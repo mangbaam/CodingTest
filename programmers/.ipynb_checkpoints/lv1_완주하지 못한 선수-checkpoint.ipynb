{
 "cells": [
  {
   "cell_type": "markdown",
   "id": "third-newfoundland",
   "metadata": {},
   "source": [
    "https://programmers.co.kr/learn/courses/30/lessons/42576"
   ]
  },
  {
   "cell_type": "code",
   "execution_count": 1,
   "id": "willing-bibliography",
   "metadata": {},
   "outputs": [],
   "source": [
    "midStack = []\n",
    "\n",
    "def solution(participant, completion):\n",
    "    answer = ''\n",
    "    participant.sort() ; completion.sort()\n",
    "    \n",
    "    start, end = 0, len(completion) - 1 # 시작, 끝 인덱스 구하기\n",
    "    mid = (end - start) // 2    # 중간 값 구하기\n",
    "    \n",
    "    while True:\n",
    "        mid = findMid(start, end, participant, completion)\n",
    "\n",
    "        if participant[mid] != completion[mid]: # 반복문이 끝난 후 다른 값이면 이 부분부터 달라진 것\n",
    "            return participant[mid]\n",
    "        else:\n",
    "            if participant[mid + 1] not in completion: # 같은 값이면 남은 한 값이 완주자 목록에 없는지 확인\n",
    "                return participant[mid + 1]\n",
    "            else:   # 다른 값이 발견되지 않았다면 반대쪽에서 다시 검색\n",
    "                midStack.pop()\n",
    "                oldStart, oldEnd = midStack.pop()\n",
    "                parentStart, parentEnd = midStack.pop()\n",
    "                if oldStart == parentStart:\n",
    "                    # 앞 부분 실행된 것 -> 이제 뒷 부분 실행\n",
    "                    start = oldEnd\n",
    "                    end = parentEnd\n",
    "                elif oldEnd == parentEnd:\n",
    "                    # 뒷 부분 실행된 것 -> 이제 앞 부분 실행\n",
    "                    start = parentStart\n",
    "                    end = oldStart\n",
    "                continue\n",
    "\n",
    "    return answer\n",
    "\n",
    "def findMid(start, end, li1, li2):\n",
    "    global midStack\n",
    "    mid = (end - start) // 2\n",
    "    \n",
    "    while start <= mid and end >= mid:\n",
    "        midStack.append((start, end))\n",
    "        if li1[mid] == li2[mid]: # 중간 값이 같은 경우\n",
    "            start = mid + 1   \n",
    "        else:   # 중간 값이 다른 경우\n",
    "            end = mid - 1\n",
    "        mid += (end - start) // 2 + 1\n",
    "    return mid"
   ]
  },
  {
   "cell_type": "code",
   "execution_count": null,
   "id": "digital-flashing",
   "metadata": {},
   "outputs": [],
   "source": []
  }
 ],
 "metadata": {
  "kernelspec": {
   "display_name": "Python 3",
   "language": "python",
   "name": "python3"
  },
  "language_info": {
   "codemirror_mode": {
    "name": "ipython",
    "version": 3
   },
   "file_extension": ".py",
   "mimetype": "text/x-python",
   "name": "python",
   "nbconvert_exporter": "python",
   "pygments_lexer": "ipython3",
   "version": "3.8.5"
  }
 },
 "nbformat": 4,
 "nbformat_minor": 5
}
