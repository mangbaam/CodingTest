{
 "cells": [
  {
   "cell_type": "markdown",
   "id": "wrapped-coffee",
   "metadata": {},
   "source": [
    "### Summer/Winter Coding(~2018)\n",
    "https://programmers.co.kr/learn/courses/30/lessons/12982"
   ]
  },
  {
   "cell_type": "code",
   "execution_count": 1,
   "id": "psychological-programmer",
   "metadata": {},
   "outputs": [],
   "source": [
    "def solution(d, budget):\n",
    "    d.sort()\n",
    "    result = 0\n",
    "    for money in d:\n",
    "        if budget - money < 0 : break\n",
    "        budget -= money\n",
    "        result += 1\n",
    "    return result"
   ]
  }
 ],
 "metadata": {
  "kernelspec": {
   "display_name": "Python 3",
   "language": "python",
   "name": "python3"
  },
  "language_info": {
   "codemirror_mode": {
    "name": "ipython",
    "version": 3
   },
   "file_extension": ".py",
   "mimetype": "text/x-python",
   "name": "python",
   "nbconvert_exporter": "python",
   "pygments_lexer": "ipython3",
   "version": "3.8.5"
  }
 },
 "nbformat": 4,
 "nbformat_minor": 5
}
