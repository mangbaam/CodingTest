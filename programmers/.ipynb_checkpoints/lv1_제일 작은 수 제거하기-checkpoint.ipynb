{
 "cells": [
  {
   "cell_type": "markdown",
   "id": "tender-eugene",
   "metadata": {},
   "source": [
    "https://programmers.co.kr/learn/courses/30/lessons/12935"
   ]
  },
  {
   "cell_type": "code",
   "execution_count": null,
   "id": "architectural-contractor",
   "metadata": {},
   "outputs": [],
   "source": [
    "def solution(arr):\n",
    "    m = min(arr)\n",
    "    arr.remove(m)\n",
    "    return arr if arr else [-1]"
   ]
  }
 ],
 "metadata": {
  "kernelspec": {
   "display_name": "Python 3",
   "language": "python",
   "name": "python3"
  },
  "language_info": {
   "codemirror_mode": {
    "name": "ipython",
    "version": 3
   },
   "file_extension": ".py",
   "mimetype": "text/x-python",
   "name": "python",
   "nbconvert_exporter": "python",
   "pygments_lexer": "ipython3",
   "version": "3.8.5"
  }
 },
 "nbformat": 4,
 "nbformat_minor": 5
}
