{
 "cells": [
  {
   "cell_type": "markdown",
   "id": "hairy-latino",
   "metadata": {},
   "source": [
    "https://programmers.co.kr/learn/courses/30/lessons/84325"
   ]
  },
  {
   "cell_type": "code",
   "execution_count": 1,
   "id": "naughty-omaha",
   "metadata": {},
   "outputs": [],
   "source": [
    "def solution(table, languages, preference):\n",
    "    answer = ''\n",
    "    pref = dict(zip(languages, preference)) # 개발자 언어 선호도\n",
    "    result = [] # 직업군 언어 점수 저장될 리스트\n",
    "\n",
    "    table = [col.split() for col in table]\n",
    "    for column in table:\n",
    "        scores = [] # 직업군별 점수들 저장될 리스트\n",
    "        for n in range(1, len(column)): # 언어는 제외하고 순회 (언어는 0번째 인덱스)\n",
    "            if column[n] in languages:\n",
    "                scores.append((len(column)-n) * pref[column[n]]) # 점수 계산\n",
    "        result.append((column[0], sum(scores))) # 언어와 점수 저장\n",
    "    answer = sorted(result, key=lambda x: (-x[1], x[0])) # 1번 인덱스인 점수는 -를 붙여 내림차순, 0번 인덱스 언어는 오름차순\n",
    "\n",
    "    return answer[0][0]"
   ]
  }
 ],
 "metadata": {
  "kernelspec": {
   "display_name": "Python 3",
   "language": "python",
   "name": "python3"
  },
  "language_info": {
   "codemirror_mode": {
    "name": "ipython",
    "version": 3
   },
   "file_extension": ".py",
   "mimetype": "text/x-python",
   "name": "python",
   "nbconvert_exporter": "python",
   "pygments_lexer": "ipython3",
   "version": "3.8.5"
  }
 },
 "nbformat": 4,
 "nbformat_minor": 5
}
