{
 "cells": [
  {
   "cell_type": "markdown",
   "id": "manufactured-glossary",
   "metadata": {},
   "source": [
    "https://programmers.co.kr/learn/courses/30/lessons/12926"
   ]
  },
  {
   "cell_type": "code",
   "execution_count": null,
   "id": "smaller-anderson",
   "metadata": {},
   "outputs": [],
   "source": [
    "def solution(s, n):\n",
    "    answer = ''\n",
    "    \n",
    "    for c in s:\n",
    "        scissor = ord(c) + n\n",
    "        if (ord(c) in range(ord('A'), ord('Z')+1) and scissor > ord('Z')) or \\\n",
    "            (ord(c) in range(ord('a'), ord('z')+1) and scissor > ord('z')):\n",
    "            answer += chr(scissor-26)\n",
    "        else:\n",
    "            answer += chr(scissor)\n",
    "        \n",
    "    return answer"
   ]
  }
 ],
 "metadata": {
  "kernelspec": {
   "display_name": "Python 3",
   "language": "python",
   "name": "python3"
  },
  "language_info": {
   "codemirror_mode": {
    "name": "ipython",
    "version": 3
   },
   "file_extension": ".py",
   "mimetype": "text/x-python",
   "name": "python",
   "nbconvert_exporter": "python",
   "pygments_lexer": "ipython3",
   "version": "3.8.5"
  }
 },
 "nbformat": 4,
 "nbformat_minor": 5
}
