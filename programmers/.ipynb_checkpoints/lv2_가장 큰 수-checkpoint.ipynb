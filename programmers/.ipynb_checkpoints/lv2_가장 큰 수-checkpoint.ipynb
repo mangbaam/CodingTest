{
 "cells": [
  {
   "cell_type": "markdown",
   "id": "equipped-tract",
   "metadata": {},
   "source": [
    "https://programmers.co.kr/learn/courses/30/lessons/42746#"
   ]
  },
  {
   "cell_type": "code",
   "execution_count": 17,
   "id": "international-education",
   "metadata": {},
   "outputs": [],
   "source": [
    "def solution(numbers):\n",
    "    numbers = list(map(str, numbers))\n",
    "    answer = ''.join(mergeSort(0, len(numbers), numbers))\n",
    "    return '0' if answer[0] == '0' else answer\n",
    "\n",
    "def mergeSort(start, end, arr):\n",
    "    if start+1 >= end: return arr[start:end] # 종료조건. 숫자 하나짜리 리스트는 그대로 반환\n",
    "    arr1 = mergeSort(start, (start+end)//2, arr)\n",
    "    arr2 = mergeSort((start+end)//2, end, arr)\n",
    "    i1, i2 = 0, 0 # arr1, arr2의 인덱스\n",
    "    merged = [] # 병합 후 리턴 될 결과\n",
    "    while i1<len(arr1) and i2<len(arr2): # arr1과 arr2에 비교할 값이 있으면 반복\n",
    "        num1, num2 = arr1[i1], arr2[i2]\n",
    "        if int(num1+num2) > int(num2+num1): # 두 값 비교. num1 > num2\n",
    "            merged.append(num1)\n",
    "            i1 += 1\n",
    "        else:\n",
    "            merged.append(num2)\n",
    "            i2 += 1\n",
    "    if i1<len(arr1): merged.extend(arr1[i1:]) # arr1 값이 남았으면 뒤에 추가\n",
    "    if i2<len(arr2): merged.extend(arr2[i2:]) # arr2 값이 남았으면 뒤에 추가\n",
    "    return merged"
   ]
  },
  {
   "cell_type": "code",
   "execution_count": 18,
   "id": "international-camel",
   "metadata": {},
   "outputs": [
    {
     "data": {
      "text/plain": [
       "'9534330'"
      ]
     },
     "execution_count": 18,
     "metadata": {},
     "output_type": "execute_result"
    }
   ],
   "source": [
    "numbers = [3, 30, 34, 5, 9]\n",
    "solution(numbers)"
   ]
  }
 ],
 "metadata": {
  "kernelspec": {
   "display_name": "Python 3",
   "language": "python",
   "name": "python3"
  },
  "language_info": {
   "codemirror_mode": {
    "name": "ipython",
    "version": 3
   },
   "file_extension": ".py",
   "mimetype": "text/x-python",
   "name": "python",
   "nbconvert_exporter": "python",
   "pygments_lexer": "ipython3",
   "version": "3.8.5"
  }
 },
 "nbformat": 4,
 "nbformat_minor": 5
}
