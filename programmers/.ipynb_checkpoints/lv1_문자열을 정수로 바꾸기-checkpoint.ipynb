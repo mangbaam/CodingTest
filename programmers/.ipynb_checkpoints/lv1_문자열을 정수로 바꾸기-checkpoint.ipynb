{
 "cells": [
  {
   "cell_type": "markdown",
   "id": "dramatic-heater",
   "metadata": {},
   "source": [
    "https://programmers.co.kr/learn/courses/30/lessons/12925"
   ]
  },
  {
   "cell_type": "code",
   "execution_count": null,
   "id": "sustained-airport",
   "metadata": {},
   "outputs": [],
   "source": [
    "def solution(s):\n",
    "    answer = 0\n",
    "    if s[0] in ('-', '+'):\n",
    "        if s[0] == '+': return int(s[1:])\n",
    "        else: return -int(s[1:])\n",
    "    else: return int(s)"
   ]
  }
 ],
 "metadata": {
  "kernelspec": {
   "display_name": "Python 3",
   "language": "python",
   "name": "python3"
  },
  "language_info": {
   "codemirror_mode": {
    "name": "ipython",
    "version": 3
   },
   "file_extension": ".py",
   "mimetype": "text/x-python",
   "name": "python",
   "nbconvert_exporter": "python",
   "pygments_lexer": "ipython3",
   "version": "3.8.5"
  }
 },
 "nbformat": 4,
 "nbformat_minor": 5
}
