{
 "cells": [
  {
   "cell_type": "markdown",
   "id": "sound-advancement",
   "metadata": {},
   "source": [
    "### 월간 코드 챌린지 시즌2\n",
    "https://programmers.co.kr/learn/courses/30/lessons/77884"
   ]
  },
  {
   "cell_type": "code",
   "execution_count": 1,
   "id": "bulgarian-classroom",
   "metadata": {},
   "outputs": [],
   "source": [
    "def solution(left, right):\n",
    "    answer = 0\n",
    "    for i in range(left, right + 1):\n",
    "        if isEven(i): answer += i\n",
    "        else: answer -= i\n",
    "    return answer\n",
    "\n",
    "def isEven(num):\n",
    "    return True if (num ** (1/2)) % 1 > 0 else False"
   ]
  }
 ],
 "metadata": {
  "kernelspec": {
   "display_name": "Python 3",
   "language": "python",
   "name": "python3"
  },
  "language_info": {
   "codemirror_mode": {
    "name": "ipython",
    "version": 3
   },
   "file_extension": ".py",
   "mimetype": "text/x-python",
   "name": "python",
   "nbconvert_exporter": "python",
   "pygments_lexer": "ipython3",
   "version": "3.8.5"
  }
 },
 "nbformat": 4,
 "nbformat_minor": 5
}
