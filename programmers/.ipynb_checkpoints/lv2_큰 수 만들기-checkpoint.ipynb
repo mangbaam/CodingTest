{
 "cells": [
  {
   "cell_type": "markdown",
   "id": "hollow-montreal",
   "metadata": {},
   "source": [
    "https://programmers.co.kr/learn/courses/30/lessons/42883"
   ]
  },
  {
   "cell_type": "code",
   "execution_count": 44,
   "id": "frank-sherman",
   "metadata": {},
   "outputs": [],
   "source": [
    "def solution(number, k):\n",
    "    answer = ''\n",
    "    k = l = len(number) - k\n",
    "    while len(answer) != l:\n",
    "        if number[:len(number)-k+1].find('9') != -1:\n",
    "            addNum = '9'\n",
    "        else: addNum = max(number[:len(number)-k+1])\n",
    "        answer += addNum\n",
    "        number = number[number.find(addNum) + 1 :]\n",
    "        k -= 1\n",
    "    return answer"
   ]
  },
  {
   "cell_type": "code",
   "execution_count": 52,
   "id": "ideal-establishment",
   "metadata": {},
   "outputs": [
    {
     "data": {
      "text/plain": [
       "'775841'"
      ]
     },
     "execution_count": 52,
     "metadata": {},
     "output_type": "execute_result"
    }
   ],
   "source": [
    "number = \"4177252841\"\n",
    "k = 4\n",
    "\n",
    "solution(number, k)"
   ]
  },
  {
   "cell_type": "code",
   "execution_count": 51,
   "id": "unsigned-combine",
   "metadata": {},
   "outputs": [],
   "source": [
    "def solution(number, k):\n",
    "    answer = ''\n",
    "    k = len(number) - k\n",
    "    while k > 0 and len(number) != k:\n",
    "        for i in range(9, -1, -1):\n",
    "            if number[:len(number)-k+1].find(str(i)) != -1:\n",
    "                addNum = str(i)\n",
    "                break\n",
    "        answer += addNum\n",
    "        number = number[number.find(addNum) + 1 :]\n",
    "        k -= 1\n",
    "    if len(number) == k:\n",
    "        answer += number\n",
    "    return answer"
   ]
  },
  {
   "cell_type": "code",
   "execution_count": null,
   "id": "informative-baltimore",
   "metadata": {},
   "outputs": [],
   "source": []
  }
 ],
 "metadata": {
  "kernelspec": {
   "display_name": "Python 3",
   "language": "python",
   "name": "python3"
  },
  "language_info": {
   "codemirror_mode": {
    "name": "ipython",
    "version": 3
   },
   "file_extension": ".py",
   "mimetype": "text/x-python",
   "name": "python",
   "nbconvert_exporter": "python",
   "pygments_lexer": "ipython3",
   "version": "3.8.5"
  }
 },
 "nbformat": 4,
 "nbformat_minor": 5
}
