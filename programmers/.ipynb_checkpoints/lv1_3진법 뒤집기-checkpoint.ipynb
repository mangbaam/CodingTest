{
 "cells": [
  {
   "cell_type": "markdown",
   "id": "computational-daughter",
   "metadata": {},
   "source": [
    "### 월간 코드 챌린지 시즌1\n",
    "https://programmers.co.kr/learn/courses/30/lessons/68935"
   ]
  },
  {
   "cell_type": "code",
   "execution_count": 1,
   "id": "informational-rocket",
   "metadata": {},
   "outputs": [],
   "source": [
    "def solution(n):\n",
    "    answer = 0\n",
    "    ternary = \"\"\n",
    "    # 3진수 만들기\n",
    "    while n > 0:\n",
    "        ternary += str(n % 3)\n",
    "        n //= 3\n",
    "    # 10진수 만들기\n",
    "    for expo, c in enumerate(ternary[::-1]):\n",
    "        answer += int(c) * 3 ** expo\n",
    "    return answer"
   ]
  }
 ],
 "metadata": {
  "kernelspec": {
   "display_name": "Python 3",
   "language": "python",
   "name": "python3"
  },
  "language_info": {
   "codemirror_mode": {
    "name": "ipython",
    "version": 3
   },
   "file_extension": ".py",
   "mimetype": "text/x-python",
   "name": "python",
   "nbconvert_exporter": "python",
   "pygments_lexer": "ipython3",
   "version": "3.8.5"
  }
 },
 "nbformat": 4,
 "nbformat_minor": 5
}
