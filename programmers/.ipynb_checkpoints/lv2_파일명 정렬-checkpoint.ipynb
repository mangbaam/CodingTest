{
 "cells": [
  {
   "cell_type": "markdown",
   "id": "balanced-residence",
   "metadata": {},
   "source": [
    "### 2018 KAKAO BLIND RECRUITMENT\n",
    "https://programmers.co.kr/learn/courses/30/lessons/17686"
   ]
  },
  {
   "cell_type": "code",
   "execution_count": 9,
   "id": "valued-approval",
   "metadata": {},
   "outputs": [],
   "source": [
    "def solution(files):\n",
    "    fileList = []\n",
    "    idx = -1\n",
    "    for file in files:\n",
    "        idx += 1\n",
    "        i = 0\n",
    "        while not file[i].isdigit(): i += 1 # 숫자 시작 위치 찾기\n",
    "        start = i\n",
    "        while i < len(file) and file[i].isdigit(): i += 1 # 숫자 끝 위치 찾기\n",
    "        end = i\n",
    "        fileList.append([idx, file[:start], file[start:end], file[end:]])\n",
    "    fileList = sorted(fileList, key=lambda x:(x[1].lower(), int(x[2]), x[0]))\n",
    "    return [''.join(file[1:]) for file in fileList]"
   ]
  },
  {
   "cell_type": "code",
   "execution_count": 12,
   "id": "quarterly-swift",
   "metadata": {},
   "outputs": [
    {
     "data": {
      "text/plain": [
       "['img1.png', 'IMG01.GIF', 'img02.png', 'img2.JPG', 'img10.png', 'img12.png']"
      ]
     },
     "execution_count": 12,
     "metadata": {},
     "output_type": "execute_result"
    }
   ],
   "source": [
    "files = [\"img12.png\", \"img10.png\", \"img02.png\", \"img1.png\", \"IMG01.GIF\", \"img2.JPG\"]\n",
    "#files =  [\"F-5 Freedom Fighter\", \"B-50 Superfortress\", \"A-10 Thunderbolt II\", \"F-14 Tomcat\"]\n",
    "\n",
    "solution(files)"
   ]
  }
 ],
 "metadata": {
  "kernelspec": {
   "display_name": "Python 3",
   "language": "python",
   "name": "python3"
  },
  "language_info": {
   "codemirror_mode": {
    "name": "ipython",
    "version": 3
   },
   "file_extension": ".py",
   "mimetype": "text/x-python",
   "name": "python",
   "nbconvert_exporter": "python",
   "pygments_lexer": "ipython3",
   "version": "3.8.5"
  }
 },
 "nbformat": 4,
 "nbformat_minor": 5
}
