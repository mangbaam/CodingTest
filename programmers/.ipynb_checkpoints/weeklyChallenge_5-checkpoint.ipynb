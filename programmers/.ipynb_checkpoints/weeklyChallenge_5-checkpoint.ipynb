{
 "cells": [
  {
   "cell_type": "markdown",
   "id": "prostate-logic",
   "metadata": {},
   "source": [
    "### 위클리 챌린지 5주차\n",
    "https://programmers.co.kr/learn/courses/30/lessons/84512"
   ]
  },
  {
   "cell_type": "markdown",
   "id": "processed-pasta",
   "metadata": {},
   "source": [
    "## 모음 사전"
   ]
  },
  {
   "cell_type": "code",
   "execution_count": 5,
   "id": "inclusive-soundtrack",
   "metadata": {},
   "outputs": [],
   "source": [
    "from itertools import product\n",
    "def solution(word):\n",
    "    answer = 0\n",
    "    dictionary = []\n",
    "    for i in range(1, 6):\n",
    "        dictionary.extend(list(map(''.join, product(['A','E','I','O','U'], repeat=i))))\n",
    "    dictionary.sort()\n",
    "    return dictionary.index(word)+1"
   ]
  },
  {
   "cell_type": "code",
   "execution_count": 10,
   "id": "agricultural-marijuana",
   "metadata": {},
   "outputs": [
    {
     "data": {
      "text/plain": [
       "6"
      ]
     },
     "execution_count": 10,
     "metadata": {},
     "output_type": "execute_result"
    }
   ],
   "source": [
    "solution(\"AAAAE\")"
   ]
  },
  {
   "cell_type": "code",
   "execution_count": 11,
   "id": "proof-escape",
   "metadata": {},
   "outputs": [
    {
     "data": {
      "text/plain": [
       "10"
      ]
     },
     "execution_count": 11,
     "metadata": {},
     "output_type": "execute_result"
    }
   ],
   "source": [
    "solution(\"AAAE\")"
   ]
  },
  {
   "cell_type": "code",
   "execution_count": 12,
   "id": "liked-wages",
   "metadata": {},
   "outputs": [
    {
     "data": {
      "text/plain": [
       "1563"
      ]
     },
     "execution_count": 12,
     "metadata": {},
     "output_type": "execute_result"
    }
   ],
   "source": [
    "solution(\"I\")"
   ]
  },
  {
   "cell_type": "code",
   "execution_count": 13,
   "id": "through-municipality",
   "metadata": {},
   "outputs": [
    {
     "data": {
      "text/plain": [
       "1189"
      ]
     },
     "execution_count": 13,
     "metadata": {},
     "output_type": "execute_result"
    }
   ],
   "source": [
    "solution(\"EIO\")"
   ]
  }
 ],
 "metadata": {
  "kernelspec": {
   "display_name": "Python 3",
   "language": "python",
   "name": "python3"
  },
  "language_info": {
   "codemirror_mode": {
    "name": "ipython",
    "version": 3
   },
   "file_extension": ".py",
   "mimetype": "text/x-python",
   "name": "python",
   "nbconvert_exporter": "python",
   "pygments_lexer": "ipython3",
   "version": "3.8.5"
  }
 },
 "nbformat": 4,
 "nbformat_minor": 5
}
