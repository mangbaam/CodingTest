{
 "cells": [
  {
   "cell_type": "markdown",
   "id": "dominican-ending",
   "metadata": {},
   "source": [
    "https://programmers.co.kr/learn/courses/30/lessons/12921"
   ]
  },
  {
   "cell_type": "code",
   "execution_count": null,
   "id": "signed-shepherd",
   "metadata": {},
   "outputs": [],
   "source": [
    "def solution(n):\n",
    "    aristo = [True] * (n + 1) \n",
    "    aristo[0], aristo[1] = False, False \n",
    "    \n",
    "    # 1 ~ 1000까지의 아리스토텔레스의 체 \n",
    "    for i in range(2, int(n ** 0.5) + 1): \n",
    "        if aristo[i] == True: \n",
    "            for j in range(i + i, n + 1, i): \n",
    "                aristo[j] = False\n",
    "\n",
    "    return len([i for i in aristo if i])"
   ]
  }
 ],
 "metadata": {
  "kernelspec": {
   "display_name": "Python 3",
   "language": "python",
   "name": "python3"
  },
  "language_info": {
   "codemirror_mode": {
    "name": "ipython",
    "version": 3
   },
   "file_extension": ".py",
   "mimetype": "text/x-python",
   "name": "python",
   "nbconvert_exporter": "python",
   "pygments_lexer": "ipython3",
   "version": "3.8.5"
  }
 },
 "nbformat": 4,
 "nbformat_minor": 5
}
