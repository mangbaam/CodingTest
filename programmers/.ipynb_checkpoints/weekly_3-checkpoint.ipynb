{
 "cells": [
  {
   "cell_type": "markdown",
   "id": "civic-undergraduate",
   "metadata": {},
   "source": [
    "### 위클리 챌린지 3주차\n",
    "https://programmers.co.kr/learn/courses/30/lessons/84021"
   ]
  },
  {
   "cell_type": "code",
   "execution_count": 28,
   "id": "verified-impact",
   "metadata": {},
   "outputs": [],
   "source": [
    "def dfs(table, i, j, shape, find = 1):\n",
    "        # 우 좌 하 상\n",
    "    dx = [0, 0, 1, -1]\n",
    "    dy = [1, -1, 0, 0] \n",
    "    stack = [[i, j]] # 현재 위치 스택에 저장\n",
    "    shape.append((i, j))\n",
    "    \n",
    "    while stack:\n",
    "        a, b = stack.pop()\n",
    "        table[a][b] = -1 # 방문 처리\n",
    "        for i in range(4): # 우 좌 하 상 순으로 스택에 저장 -> 상 하 좌 우 순으로 꺼내져 수행된다.\n",
    "            x = a + dx[i]\n",
    "            y = b + dy[i]\n",
    "            if 0 <= x < len(table) and 0 <= y < len(table[0]) and table[x][y] == find:\n",
    "                table[x][y] = -1\n",
    "                stack.append([x, y])\n",
    "                shape.append((x, y))\n",
    "                \n",
    "# 블록이나 빈 칸을 (0, 0)을 시작점으로 옮김\n",
    "def rearrange(shape):\n",
    "    minX = min([x[1] for x in shape])\n",
    "    minY = min([x[0] for x in shape])\n",
    "    shape = [(s[0]-minY, s[1]-minX) for s in shape]\n",
    "    return sorted(shape) # 블록이 여러 칸으로 이루어진 경우 같은 모양에서 같은 결과를 위해 정렬해서 반환\n",
    "\n",
    "# 여러 방향으로 회전 후 하나의 값 반환\n",
    "def rotate(shape):\n",
    "    if len(shape) == 1: return shape\n",
    "    shapes = []\n",
    "    shape = list(shape)\n",
    "    shape.sort()\n",
    "    width = max([x[1] for x in shape]) - min([x[1] for x in shape])\n",
    "    height = max([x[0] for x in shape]) - min([x[0] for x in shape])\n",
    "    # 시계 방향으로 4회 회전\n",
    "    for _ in range(4):\n",
    "        tmp = []\n",
    "        # 시계 방향으로 회전하는 방법\n",
    "        # 1. (x, y) 값을 (y, x)로 x, y를 맞바꾸는 '전치'\n",
    "        for pos in shape:\n",
    "            tmp.append((pos[1], pos[0])) # 전치\n",
    "        # 2. 전치된 결과에서 x 좌표를 가로 길이에서 뺀다.\n",
    "        tmp = [(x[0], width - x[1]) for x in tmp]\n",
    "        tmp = rearrange(tmp) # 재정렬\n",
    "        shape = tmp # 시계 방향으로 회전 한 블록을 shape에 다시 저장\n",
    "        shapes.append(shape)\n",
    "        width, height = height, width # 2x3 크기의 블록이 회전하면 3x2가 되므로 width, height를 맞바꾼다.\n",
    "    \n",
    "    # 4번 회전한 결과가 담긴 shapes의 최소값을 반환하면 \n",
    "    # 같은 구성의 순서가 다른 리스트에서도 항상 동일한 결과 반환\n",
    "    return min(shapes) \n",
    "                \n",
    "def solution(game_board, table):\n",
    "    # table에서 추출된 블록들과 game_board에서 추출된 빈 칸들을 저장하는 리스트\n",
    "    shapes, spaces = list(), list() \n",
    "    # game_board와 table의 크기가 같다고 주어졌기 때문에 한 번에 돌릴 수 있음\n",
    "    for i in range(len(table[0])):\n",
    "        for j in range(len(table)):\n",
    "            # table에서 블록 추출하는 dfs\n",
    "            if table[i][j] == 1: # 1이면 블록\n",
    "                shape = list()\n",
    "                dfs(table, i, j, shape) # table에서 블록(1) 추출\n",
    "                shape = rearrange(shape) # 추출한 블록 (0, 0) 부터 시작하도록 위치 값 조정\n",
    "                shape = rotate(shape) # 회전 후 항상 동일한 결과 반환\n",
    "                shapes.append(shape) # shapes 에서 블록들 관리\n",
    "            # game_board에서 빈 칸 추출하는 dfs\n",
    "            if game_board[i][j] == 0: # 0이면 빈 칸\n",
    "                space = list()\n",
    "                dfs(game_board, i, j, space, find = 0) # game_board에서 빈 칸(0) 추출\n",
    "                space = rearrange(space) # 추출한 공백 (0, 0) 부터 시작하도록 위치 값 조정\n",
    "                space = rotate(space) # 회전 후 항상 동일한 결과 반환\n",
    "                spaces.append(space) # spaces 에서 공백들 관리\n",
    "                \n",
    "    answer = 0\n",
    "    for space in spaces:\n",
    "        for shape in shapes:\n",
    "            if space == shape: # 같은 모양이 있다면\n",
    "                answer += len(shape) # 블록의 개수만큼 더한다\n",
    "                shapes.remove(shape) # 사용된 블록은 제거\n",
    "                break\n",
    "    return answer"
   ]
  },
  {
   "cell_type": "code",
   "execution_count": 29,
   "id": "overall-notification",
   "metadata": {},
   "outputs": [
    {
     "data": {
      "text/plain": [
       "14"
      ]
     },
     "execution_count": 29,
     "metadata": {},
     "output_type": "execute_result"
    }
   ],
   "source": [
    "game_board = [[1,1,0,0,1,0],[0,0,1,0,1,0],[0,1,1,0,0,1],[1,1,0,1,1,1],[1,0,0,0,1,0],[0,1,1,1,0,0]]\n",
    "table = [[1,0,0,1,1,0],[1,0,1,0,1,0],[0,1,1,0,1,1],[0,0,1,0,0,0],[1,1,0,1,1,0],[0,1,0,0,0,0]]\n",
    "solution(game_board, table)"
   ]
  }
 ],
 "metadata": {
  "kernelspec": {
   "display_name": "Python 3",
   "language": "python",
   "name": "python3"
  },
  "language_info": {
   "codemirror_mode": {
    "name": "ipython",
    "version": 3
   },
   "file_extension": ".py",
   "mimetype": "text/x-python",
   "name": "python",
   "nbconvert_exporter": "python",
   "pygments_lexer": "ipython3",
   "version": "3.8.5"
  }
 },
 "nbformat": 4,
 "nbformat_minor": 5
}
