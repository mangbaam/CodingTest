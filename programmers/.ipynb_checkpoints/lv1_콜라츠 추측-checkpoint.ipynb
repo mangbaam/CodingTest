{
 "cells": [
  {
   "cell_type": "markdown",
   "id": "classified-millennium",
   "metadata": {},
   "source": [
    "https://programmers.co.kr/learn/courses/30/lessons/12943"
   ]
  },
  {
   "cell_type": "code",
   "execution_count": null,
   "id": "suspended-oxford",
   "metadata": {},
   "outputs": [],
   "source": [
    "def solution(num):\n",
    "    counts = 500\n",
    "    if num == 1: return 0\n",
    "    for count in range(1, counts + 1):\n",
    "        num = num * 3 + 1 if num % 2 else num // 2\n",
    "        if num == 1:\n",
    "            return count\n",
    "    return -1"
   ]
  }
 ],
 "metadata": {
  "kernelspec": {
   "display_name": "Python 3",
   "language": "python",
   "name": "python3"
  },
  "language_info": {
   "codemirror_mode": {
    "name": "ipython",
    "version": 3
   },
   "file_extension": ".py",
   "mimetype": "text/x-python",
   "name": "python",
   "nbconvert_exporter": "python",
   "pygments_lexer": "ipython3",
   "version": "3.8.5"
  }
 },
 "nbformat": 4,
 "nbformat_minor": 5
}
