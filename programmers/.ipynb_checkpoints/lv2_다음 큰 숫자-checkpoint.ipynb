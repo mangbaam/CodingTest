{
 "cells": [
  {
   "cell_type": "markdown",
   "id": "combined-center",
   "metadata": {},
   "source": [
    "https://programmers.co.kr/learn/courses/30/lessons/12911"
   ]
  },
  {
   "cell_type": "code",
   "execution_count": 23,
   "id": "structured-louisiana",
   "metadata": {},
   "outputs": [],
   "source": [
    "def solution(n):\n",
    "    n = bin(n)[2:][::-1]+'0'\n",
    "    zeros = n.find('1') # 0의 개수\n",
    "    ones = n[zeros:].find('0') # 0 이후에 1의 개수\n",
    "    answer = '1'*(ones-1) + '0'*zeros + '01' + n[ones+zeros+1:]\n",
    "    return int(answer[::-1], 2)"
   ]
  },
  {
   "cell_type": "code",
   "execution_count": 24,
   "id": "classical-france",
   "metadata": {},
   "outputs": [
    {
     "data": {
      "text/plain": [
       "83"
      ]
     },
     "execution_count": 24,
     "metadata": {},
     "output_type": "execute_result"
    }
   ],
   "source": [
    "solution(78)"
   ]
  }
 ],
 "metadata": {
  "kernelspec": {
   "display_name": "Python 3",
   "language": "python",
   "name": "python3"
  },
  "language_info": {
   "codemirror_mode": {
    "name": "ipython",
    "version": 3
   },
   "file_extension": ".py",
   "mimetype": "text/x-python",
   "name": "python",
   "nbconvert_exporter": "python",
   "pygments_lexer": "ipython3",
   "version": "3.8.5"
  }
 },
 "nbformat": 4,
 "nbformat_minor": 5
}
