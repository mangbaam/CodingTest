{
 "cells": [
  {
   "cell_type": "markdown",
   "id": "rubber-conditioning",
   "metadata": {},
   "source": [
    "### KAKAO BLIND RECRUITMENT\n",
    "https://programmers.co.kr/learn/courses/30/lessons/17677"
   ]
  },
  {
   "cell_type": "code",
   "execution_count": null,
   "id": "static-freeware",
   "metadata": {},
   "outputs": [],
   "source": [
    "def solution(str1, str2):\n",
    "    str1 = str1.upper(); str2 = str2.upper()\n",
    "    arr1 = [str1[i:i+2] for i in range(len(str1)-1) if str1[i:i+2].isalpha()]\n",
    "    arr2 = [str2[i:i+2] for i in range(len(str2)-1) if str2[i:i+2].isalpha()]\n",
    "    \n",
    "    # 합집합 수\n",
    "    tmp = arr2[:]\n",
    "    for item in arr1:\n",
    "        if item in tmp:\n",
    "            tmp.remove(item)\n",
    "    union = len(arr1) + len(tmp)\n",
    "    \n",
    "    # 교집합 수\n",
    "    inter = len(arr1) + len(arr2) - union\n",
    "    \n",
    "    jacquard = 1 if union == 0 else inter / union\n",
    "    return int(jacquard * 65536)"
   ]
  }
 ],
 "metadata": {
  "kernelspec": {
   "display_name": "Python 3",
   "language": "python",
   "name": "python3"
  },
  "language_info": {
   "codemirror_mode": {
    "name": "ipython",
    "version": 3
   },
   "file_extension": ".py",
   "mimetype": "text/x-python",
   "name": "python",
   "nbconvert_exporter": "python",
   "pygments_lexer": "ipython3",
   "version": "3.8.5"
  }
 },
 "nbformat": 4,
 "nbformat_minor": 5
}
