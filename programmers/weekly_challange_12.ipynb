{
 "cells": [
  {
   "cell_type": "markdown",
   "id": "utility-underground",
   "metadata": {},
   "source": [
    "## https://latte-is-horse.tistory.com/269\n",
    "https://programmers.co.kr/learn/courses/30/lessons/87946"
   ]
  },
  {
   "cell_type": "code",
   "execution_count": 1,
   "id": "above-impression",
   "metadata": {},
   "outputs": [],
   "source": [
    "from itertools import permutations\n",
    "\n",
    "def solution(k, dungeons):\n",
    "    answer = -1\n",
    "    for case in permutations(dungeons):\n",
    "        t = 0; p = k\n",
    "        for d in case:\n",
    "            if d[0]<=p: \n",
    "                p-=d[1]; t += 1\n",
    "            else: break\n",
    "        answer = max(answer, t)\n",
    "        if answer == len(dungeons): break\n",
    "    return answer"
   ]
  },
  {
   "cell_type": "code",
   "execution_count": 2,
   "id": "immediate-suspension",
   "metadata": {},
   "outputs": [
    {
     "data": {
      "text/plain": [
       "3"
      ]
     },
     "execution_count": 2,
     "metadata": {},
     "output_type": "execute_result"
    }
   ],
   "source": [
    "solution(80, [[80,20],[50,40],[30,10]])"
   ]
  }
 ],
 "metadata": {
  "kernelspec": {
   "display_name": "Python 3",
   "language": "python",
   "name": "python3"
  },
  "language_info": {
   "codemirror_mode": {
    "name": "ipython",
    "version": 3
   },
   "file_extension": ".py",
   "mimetype": "text/x-python",
   "name": "python",
   "nbconvert_exporter": "python",
   "pygments_lexer": "ipython3",
   "version": "3.8.5"
  }
 },
 "nbformat": 4,
 "nbformat_minor": 5
}
