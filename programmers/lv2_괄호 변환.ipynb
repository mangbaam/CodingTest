{
 "cells": [
  {
   "cell_type": "markdown",
   "id": "hourly-concord",
   "metadata": {},
   "source": [
    "### 2020 KAKAO  BLIND RECRUITMENT\n",
    "https://programmers.co.kr/learn/courses/30/lessons/60058"
   ]
  },
  {
   "cell_type": "code",
   "execution_count": 2,
   "id": "fuzzy-overhead",
   "metadata": {},
   "outputs": [],
   "source": [
    "def solution(p):\n",
    "    answer = ''\n",
    "    if isCorrect(p): return p\n",
    "    \n",
    "    answer = rec(p)\n",
    "    \n",
    "    return answer\n",
    "\n",
    "def sepUV(p):\n",
    "    # step 2\n",
    "    # 왼쪽에서 최소 단위의 균형잡힌 문자열 분리\n",
    "    left, right = 0, 0\n",
    "    for i in range(len(p)):\n",
    "        if p[i] == '(':\n",
    "            left += 1\n",
    "        else:\n",
    "            right += 1\n",
    "        if left == right:\n",
    "            u = p[:i+1]\n",
    "            v = p[i+1:] if i+1 < len(p) else \"\"\n",
    "            break\n",
    "    return u, v\n",
    "    \n",
    "def isCorrect(p):\n",
    "    stack = []\n",
    "    for c in p:\n",
    "        if c == '(':\n",
    "            stack.append(c)\n",
    "        else:\n",
    "            if not len(stack):\n",
    "                return False\n",
    "            elif stack[-1] == '(':\n",
    "                stack.pop()\n",
    "    return False if len(stack) else True\n",
    "\n",
    "def rec(p):\n",
    "    result = \"\"\n",
    "    if not len(p): return \"\"\n",
    "    u,v = sepUV(p)\n",
    "    if isCorrect(u):\n",
    "        result = u + rec(v)\n",
    "    else:\n",
    "        tmp = \"(\"\n",
    "        tmp += rec(v)\n",
    "        tmp += \")\"\n",
    "        u = u[1:-1]\n",
    "        for c in u:\n",
    "            if c == '(':\n",
    "                tmp+=')'\n",
    "            else:\n",
    "                tmp+='('\n",
    "        result += tmp\n",
    "    return result"
   ]
  },
  {
   "cell_type": "code",
   "execution_count": 3,
   "id": "alternate-prototype",
   "metadata": {},
   "outputs": [
    {
     "data": {
      "text/plain": [
       "'(()())()'"
      ]
     },
     "execution_count": 3,
     "metadata": {},
     "output_type": "execute_result"
    }
   ],
   "source": [
    "solution(\"(()())()\")"
   ]
  },
  {
   "cell_type": "code",
   "execution_count": 5,
   "id": "exclusive-wonder",
   "metadata": {},
   "outputs": [
    {
     "data": {
      "text/plain": [
       "'()'"
      ]
     },
     "execution_count": 5,
     "metadata": {},
     "output_type": "execute_result"
    }
   ],
   "source": [
    "solution(\")(\")"
   ]
  },
  {
   "cell_type": "code",
   "execution_count": 6,
   "id": "capable-hollywood",
   "metadata": {},
   "outputs": [
    {
     "data": {
      "text/plain": [
       "'()(())()'"
      ]
     },
     "execution_count": 6,
     "metadata": {},
     "output_type": "execute_result"
    }
   ],
   "source": [
    "solution(\"()))((()\")"
   ]
  }
 ],
 "metadata": {
  "kernelspec": {
   "display_name": "Python 3",
   "language": "python",
   "name": "python3"
  },
  "language_info": {
   "codemirror_mode": {
    "name": "ipython",
    "version": 3
   },
   "file_extension": ".py",
   "mimetype": "text/x-python",
   "name": "python",
   "nbconvert_exporter": "python",
   "pygments_lexer": "ipython3",
   "version": "3.8.5"
  }
 },
 "nbformat": 4,
 "nbformat_minor": 5
}
