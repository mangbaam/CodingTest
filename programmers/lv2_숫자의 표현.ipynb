{
 "cells": [
  {
   "cell_type": "markdown",
   "id": "unknown-occasions",
   "metadata": {},
   "source": [
    "https://programmers.co.kr/learn/courses/30/lessons/12924"
   ]
  },
  {
   "cell_type": "code",
   "execution_count": null,
   "id": "handled-wisdom",
   "metadata": {},
   "outputs": [],
   "source": [
    "def solution(n):\n",
    "    answer = 0\n",
    "    for i in range(1, 140): # 1 ~ 140까지 합이 9870으로 10000 미만의 수 중 가장 큰 수\n",
    "        if n < i + sum(range(i)): break # n이 1 부터 i 개를 더한 값보다 작은 경우\n",
    "        if (n-sum(range(i)))/i == int((n-sum(range(i)))/i): # 나누어 떨어짐 -> 패턴에 일치하는 경우\n",
    "            answer += 1\n",
    "    return answer"
   ]
  }
 ],
 "metadata": {
  "kernelspec": {
   "display_name": "Python 3",
   "language": "python",
   "name": "python3"
  },
  "language_info": {
   "codemirror_mode": {
    "name": "ipython",
    "version": 3
   },
   "file_extension": ".py",
   "mimetype": "text/x-python",
   "name": "python",
   "nbconvert_exporter": "python",
   "pygments_lexer": "ipython3",
   "version": "3.8.5"
  }
 },
 "nbformat": 4,
 "nbformat_minor": 5
}
