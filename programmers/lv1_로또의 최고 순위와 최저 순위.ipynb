{
 "cells": [
  {
   "cell_type": "markdown",
   "id": "figured-sally",
   "metadata": {},
   "source": [
    "### 2021 Dev-Matching: 웹 백엔드 개발자(상반기)\n",
    "https://programmers.co.kr/learn/courses/30/lessons/77484"
   ]
  },
  {
   "cell_type": "code",
   "execution_count": 1,
   "id": "relative-louisiana",
   "metadata": {},
   "outputs": [],
   "source": [
    "def solution(lottos, win_nums):\n",
    "    answer = []\n",
    "    match = 0\n",
    "    zeros = lottos.count(0)\n",
    "    \n",
    "    # 맞춘 번호 세기\n",
    "    for num in lottos:\n",
    "        if num != 0 and num in win_nums:\n",
    "            match += 1\n",
    "\n",
    "    # 1~5위까지 성립하는 식\n",
    "    answer.append(7 - (match + zeros)) \n",
    "    answer.append(7 - match)\n",
    "    \n",
    "    if zeros == 6:  # 모든 번호를 모르는 경우\n",
    "        answer = [1, 6]\n",
    "    elif zeros == 0 and match == 0: # 모든 번호가 있고, 전부 맞지 않은 경우\n",
    "        answer = [6, 6]\n",
    "    \n",
    "    return answer"
   ]
  }
 ],
 "metadata": {
  "kernelspec": {
   "display_name": "Python 3",
   "language": "python",
   "name": "python3"
  },
  "language_info": {
   "codemirror_mode": {
    "name": "ipython",
    "version": 3
   },
   "file_extension": ".py",
   "mimetype": "text/x-python",
   "name": "python",
   "nbconvert_exporter": "python",
   "pygments_lexer": "ipython3",
   "version": "3.8.5"
  }
 },
 "nbformat": 4,
 "nbformat_minor": 5
}
