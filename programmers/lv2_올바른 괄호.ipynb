{
 "cells": [
  {
   "cell_type": "markdown",
   "id": "copyrighted-begin",
   "metadata": {},
   "source": [
    "https://programmers.co.kr/learn/courses/30/lessons/12909\n",
    "## https://latte-is-horse.tistory.com/182"
   ]
  },
  {
   "cell_type": "code",
   "execution_count": null,
   "id": "recreational-professor",
   "metadata": {},
   "outputs": [],
   "source": [
    "def solution(s):\n",
    "    answer = True\n",
    "    stack = []\n",
    "    for b in s:\n",
    "        if b == '(':\n",
    "            stack.append(b)\n",
    "        elif len(stack) and b == ')':\n",
    "            stack.pop()\n",
    "        else:\n",
    "            return False\n",
    "\n",
    "    return False if len(stack) else True"
   ]
  }
 ],
 "metadata": {
  "kernelspec": {
   "display_name": "Python 3",
   "language": "python",
   "name": "python3"
  },
  "language_info": {
   "codemirror_mode": {
    "name": "ipython",
    "version": 3
   },
   "file_extension": ".py",
   "mimetype": "text/x-python",
   "name": "python",
   "nbconvert_exporter": "python",
   "pygments_lexer": "ipython3",
   "version": "3.8.5"
  }
 },
 "nbformat": 4,
 "nbformat_minor": 5
}
