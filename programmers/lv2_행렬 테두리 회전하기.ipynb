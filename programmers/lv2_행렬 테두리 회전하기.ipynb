{
 "cells": [
  {
   "cell_type": "markdown",
   "id": "enabling-allah",
   "metadata": {},
   "source": [
    "### 2021 Dev-Matching: 웹 백엔드 개발자(상반기)\n",
    "https://programmers.co.kr/learn/courses/30/lessons/77485"
   ]
  },
  {
   "cell_type": "code",
   "execution_count": 1,
   "id": "excited-attitude",
   "metadata": {},
   "outputs": [],
   "source": [
    "def solution(rows, columns, queries):\n",
    "    answer = []\n",
    "    table = []\n",
    "    for r in range(rows):\n",
    "        table.append([a for a in range(r*columns+1, (r+1)*columns+1)])\n",
    "    \n",
    "    for query in queries:\n",
    "        query = [x-1 for x in query] # 0부터 시작하는 인덱스에 맞춰 1씩 빼줌\n",
    "        tmp = table[query[0]][query[1]] # 왼쪽 위 값 저장\n",
    "        small = tmp\n",
    "        \n",
    "        # left\n",
    "        for i in range(query[0]+1, query[2]+1):\n",
    "            table[i-1][query[1]] = table[i][query[1]]\n",
    "            small = min(small, table[i][query[1]])\n",
    "        # bottom\n",
    "        for i in range(query[1]+1, query[3]+1):\n",
    "            table[query[2]][i-1] = table[query[2]][i]\n",
    "            small = min(small, table[query[2]][i])\n",
    "        # right\n",
    "        for i in range(query[2]-1, query[0]-1, -1):\n",
    "            table[i+1][query[3]] = table[i][query[3]]\n",
    "            small = min(small, table[i][query[3]])\n",
    "        # top\n",
    "        for i in range(query[3]-1, query[1]-1, -1):\n",
    "            table[query[0]][i+1] = table[query[0]][i]\n",
    "            small = min(small, table[query[0]][i])\n",
    "        table[query[0]][query[1]+1] = tmp\n",
    "        \n",
    "        answer.append(small)\n",
    "    \n",
    "    return answer"
   ]
  }
 ],
 "metadata": {
  "kernelspec": {
   "display_name": "Python 3",
   "language": "python",
   "name": "python3"
  },
  "language_info": {
   "codemirror_mode": {
    "name": "ipython",
    "version": 3
   },
   "file_extension": ".py",
   "mimetype": "text/x-python",
   "name": "python",
   "nbconvert_exporter": "python",
   "pygments_lexer": "ipython3",
   "version": "3.8.5"
  }
 },
 "nbformat": 4,
 "nbformat_minor": 5
}
