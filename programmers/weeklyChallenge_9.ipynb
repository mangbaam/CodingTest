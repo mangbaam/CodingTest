{
 "cells": [
  {
   "cell_type": "markdown",
   "id": "robust-surveillance",
   "metadata": {},
   "source": [
    "https://programmers.co.kr/learn/courses/30/lessons/86971\n",
    "## 9주차_전력망을 둘로 나누기"
   ]
  },
  {
   "cell_type": "code",
   "execution_count": 1,
   "id": "conscious-gossip",
   "metadata": {},
   "outputs": [],
   "source": [
    "def solution(n, wires):\n",
    "    answer = 100\n",
    "    test = [[wires[i] for i in range(len(wires)) if i != j] for j in range(len(wires))] # 전선 하나씩 끊어보기\n",
    "    \n",
    "    for wire in test:\n",
    "        graph = [[] for _ in range(n)] # 인접 리스트 생성\n",
    "        visited = [False] * n\n",
    "        for w in wire:\n",
    "            graph[w[0]-1].append(w[1]-1) # 노드 양방향으로\n",
    "            graph[w[1]-1].append(w[0]-1) # 연결 추가\n",
    "        m = dfs(graph, visited, 0, 1) # 연결된 송전탑 수\n",
    "        answer = min(answer, abs(n-2*m)) # 일부m과 (전체n - 일부m)으로 나눠짐. |(n-m) - m| = |n - 2*m|\n",
    "    return answer\n",
    "\n",
    "def dfs(graph, visited, start, n):\n",
    "    visited[start] = True # 방문 처리\n",
    "    for i in graph[start]:\n",
    "        if not visited[i]:\n",
    "            n = dfs(graph, visited, i, n+1) # n증가\n",
    "    return n"
   ]
  },
  {
   "cell_type": "code",
   "execution_count": 2,
   "id": "disciplinary-munich",
   "metadata": {},
   "outputs": [
    {
     "data": {
      "text/plain": [
       "1"
      ]
     },
     "execution_count": 2,
     "metadata": {},
     "output_type": "execute_result"
    }
   ],
   "source": [
    "#wires = [[1,3],[2,3],[3,4],[4,5],[4,6],[4,7],[7,8],[7,9]]\n",
    "wires =[[1,2],[2,7],[3,7],[3,4],[4,5],[6,7]]\n",
    "solution(7, wires)"
   ]
  }
 ],
 "metadata": {
  "kernelspec": {
   "display_name": "Python 3",
   "language": "python",
   "name": "python3"
  },
  "language_info": {
   "codemirror_mode": {
    "name": "ipython",
    "version": 3
   },
   "file_extension": ".py",
   "mimetype": "text/x-python",
   "name": "python",
   "nbconvert_exporter": "python",
   "pygments_lexer": "ipython3",
   "version": "3.8.5"
  }
 },
 "nbformat": 4,
 "nbformat_minor": 5
}
