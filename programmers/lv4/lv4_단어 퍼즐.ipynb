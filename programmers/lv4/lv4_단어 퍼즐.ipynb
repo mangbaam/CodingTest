{
 "cells": [
  {
   "cell_type": "markdown",
   "id": "equivalent-maple",
   "metadata": {},
   "source": [
    "## 2017 팁스타운\n",
    "https://programmers.co.kr/learn/courses/30/lessons/12983"
   ]
  },
  {
   "cell_type": "code",
   "execution_count": 1,
   "id": "cardiovascular-sapphire",
   "metadata": {},
   "outputs": [],
   "source": [
    "def solution(strs, t):\n",
    "    INF = int(10e+9)\n",
    "    d = [INF] * len(t) + [0]\n",
    "    for i in range(len(t)-1, -1, -1):\n",
    "        for j in range(1, min(6, len(t)-i+1)):\n",
    "            if t[i:i+j] in strs:\n",
    "                d[i] = min(d[i], d[i+j]+1)\n",
    "    return -1 if d[0]==INF else d[0]"
   ]
  },
  {
   "cell_type": "code",
   "execution_count": 2,
   "id": "extraordinary-specific",
   "metadata": {},
   "outputs": [],
   "source": [
    "strs = [\"ba\",\"na\",\"n\",\"a\"]\n",
    "t = \"banana\"\n",
    "# 3"
   ]
  },
  {
   "cell_type": "code",
   "execution_count": 3,
   "id": "composed-hanging",
   "metadata": {},
   "outputs": [],
   "source": [
    "strs = [\"app\",\"ap\",\"p\",\"l\",\"e\",\"ple\",\"pp\"]\n",
    "t = \"apple\"\n",
    "# 2"
   ]
  },
  {
   "cell_type": "code",
   "execution_count": 4,
   "id": "varied-addition",
   "metadata": {},
   "outputs": [],
   "source": [
    "strs = [\"ba\",\"an\",\"nan\",\"ban\",\"n\"]\n",
    "t = \"banana\"\n",
    "# -1"
   ]
  },
  {
   "cell_type": "code",
   "execution_count": 5,
   "id": "hazardous-impossible",
   "metadata": {},
   "outputs": [
    {
     "data": {
      "text/plain": [
       "-1"
      ]
     },
     "execution_count": 5,
     "metadata": {},
     "output_type": "execute_result"
    }
   ],
   "source": [
    "solution(strs, t)"
   ]
  }
 ],
 "metadata": {
  "kernelspec": {
   "display_name": "Python 3",
   "language": "python",
   "name": "python3"
  },
  "language_info": {
   "codemirror_mode": {
    "name": "ipython",
    "version": 3
   },
   "file_extension": ".py",
   "mimetype": "text/x-python",
   "name": "python",
   "nbconvert_exporter": "python",
   "pygments_lexer": "ipython3",
   "version": "3.8.5"
  }
 },
 "nbformat": 4,
 "nbformat_minor": 5
}
