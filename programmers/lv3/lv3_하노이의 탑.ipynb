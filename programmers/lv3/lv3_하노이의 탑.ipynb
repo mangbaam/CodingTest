{
 "cells": [
  {
   "cell_type": "markdown",
   "id": "pharmaceutical-stake",
   "metadata": {},
   "source": [
    "### https://latte-is-horse.tistory.com/265\n",
    "https://programmers.co.kr/learn/courses/30/lessons/12946"
   ]
  },
  {
   "cell_type": "code",
   "execution_count": 42,
   "id": "agricultural-innocent",
   "metadata": {},
   "outputs": [],
   "source": [
    "def solution(n):\n",
    "    return hanoi(n, 1, 3, [])\n",
    "\n",
    "def hanoi(n, a, b, history): # n개, a -> b\n",
    "    if n == 0: return\n",
    "    \n",
    "    hanoi(n-1, a, 6-(a+b), history)\n",
    "    history.append([a, b])\n",
    "    hanoi(n-1, 6-(a+b), b, history)\n",
    "    \n",
    "    return history"
   ]
  },
  {
   "cell_type": "code",
   "execution_count": 41,
   "id": "needed-april",
   "metadata": {
    "scrolled": true
   },
   "outputs": [],
   "source": [
    "def solution(n):\n",
    "    return hanoi(n, 1, 3)\n",
    "\n",
    "def hanoi(n, a, b): # n개, a -> b\n",
    "    if n == 0: return []\n",
    "    return hanoi(n-1, a, 6-(a+b))+[[a, b]]+hanoi(n-1, 6-(a+b), b)"
   ]
  },
  {
   "cell_type": "code",
   "execution_count": 43,
   "id": "hollywood-arrival",
   "metadata": {},
   "outputs": [
    {
     "data": {
      "text/plain": [
       "[[1, 2], [1, 3], [2, 3]]"
      ]
     },
     "execution_count": 43,
     "metadata": {},
     "output_type": "execute_result"
    }
   ],
   "source": [
    "solution(2)\n",
    "# [ [1,2], [1,3], [2,3] ]"
   ]
  }
 ],
 "metadata": {
  "kernelspec": {
   "display_name": "Python 3",
   "language": "python",
   "name": "python3"
  },
  "language_info": {
   "codemirror_mode": {
    "name": "ipython",
    "version": 3
   },
   "file_extension": ".py",
   "mimetype": "text/x-python",
   "name": "python",
   "nbconvert_exporter": "python",
   "pygments_lexer": "ipython3",
   "version": "3.8.5"
  }
 },
 "nbformat": 4,
 "nbformat_minor": 5
}
