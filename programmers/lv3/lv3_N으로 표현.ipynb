{
 "cells": [
  {
   "cell_type": "markdown",
   "id": "dense-phone",
   "metadata": {},
   "source": [
    "https://programmers.co.kr/learn/courses/30/lessons/42895"
   ]
  },
  {
   "cell_type": "code",
   "execution_count": 1,
   "id": "urban-westminster",
   "metadata": {},
   "outputs": [],
   "source": [
    "def solution(N, number):\n",
    "    d = [10e+9] * max(number+1, 10)\n",
    "    # N=5 일 때  5, 55, 555...에 1, 2, 3... 저장\n",
    "    i = 1\n",
    "    while int(str(N)*i) <= number:\n",
    "        d[int(str(N)*i)] = min(d[int(str(N)*i)], i)\n",
    "        i += 1\n",
    "    print(d)\n",
    "    \n",
    "    "
   ]
  },
  {
   "cell_type": "code",
   "execution_count": 2,
   "id": "accessible-gothic",
   "metadata": {},
   "outputs": [
    {
     "name": "stdout",
     "output_type": "stream",
     "text": [
      "[10000000000.0, 10000000000.0, 10000000000.0, 10000000000.0, 10000000000.0, 1, 10000000000.0, 10000000000.0, 10000000000.0, 10000000000.0, 10000000000.0, 10000000000.0, 10000000000.0]\n"
     ]
    }
   ],
   "source": [
    "solution(5, 12)"
   ]
  },
  {
   "cell_type": "code",
   "execution_count": null,
   "id": "bored-maine",
   "metadata": {},
   "outputs": [],
   "source": []
  }
 ],
 "metadata": {
  "kernelspec": {
   "display_name": "Python 3",
   "language": "python",
   "name": "python3"
  },
  "language_info": {
   "codemirror_mode": {
    "name": "ipython",
    "version": 3
   },
   "file_extension": ".py",
   "mimetype": "text/x-python",
   "name": "python",
   "nbconvert_exporter": "python",
   "pygments_lexer": "ipython3",
   "version": "3.8.5"
  }
 },
 "nbformat": 4,
 "nbformat_minor": 5
}
