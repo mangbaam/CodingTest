{
 "cells": [
  {
   "cell_type": "markdown",
   "id": "classical-thickness",
   "metadata": {},
   "source": [
    "## https://latte-is-horse.tistory.com/268\n",
    "https://programmers.co.kr/learn/courses/30/lessons/12900"
   ]
  },
  {
   "cell_type": "code",
   "execution_count": 5,
   "id": "lucky-personality",
   "metadata": {},
   "outputs": [],
   "source": [
    "def solution(n):\n",
    "    d = [0] * max(n+1, 2)\n",
    "    d[0], d[1] = 1, 1\n",
    "    for i in range(2, n+1):\n",
    "        d[i] = (d[i-2]+d[i-1]) % 1000000007\n",
    "    return d[n]"
   ]
  },
  {
   "cell_type": "code",
   "execution_count": 6,
   "id": "czech-trinidad",
   "metadata": {},
   "outputs": [
    {
     "data": {
      "text/plain": [
       "5"
      ]
     },
     "execution_count": 6,
     "metadata": {},
     "output_type": "execute_result"
    }
   ],
   "source": [
    "solution(4)"
   ]
  }
 ],
 "metadata": {
  "kernelspec": {
   "display_name": "Python 3",
   "language": "python",
   "name": "python3"
  },
  "language_info": {
   "codemirror_mode": {
    "name": "ipython",
    "version": 3
   },
   "file_extension": ".py",
   "mimetype": "text/x-python",
   "name": "python",
   "nbconvert_exporter": "python",
   "pygments_lexer": "ipython3",
   "version": "3.8.5"
  }
 },
 "nbformat": 4,
 "nbformat_minor": 5
}
