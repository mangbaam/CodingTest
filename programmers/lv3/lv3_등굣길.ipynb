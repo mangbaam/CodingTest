{
 "cells": [
  {
   "cell_type": "markdown",
   "id": "gross-nicholas",
   "metadata": {},
   "source": [
    "## https://latte-is-horse.tistory.com/264\n",
    "https://programmers.co.kr/learn/courses/30/lessons/42898#"
   ]
  },
  {
   "cell_type": "code",
   "execution_count": 31,
   "id": "little-creator",
   "metadata": {},
   "outputs": [],
   "source": [
    "def solution(m, n, puddles):\n",
    "    answer = 0\n",
    "    d = [[10e+9] * n for _ in range(m)]\n",
    "    for puddle in puddles:\n",
    "        d[puddle[0]-1][puddle[1]-1] = 'x'\n",
    "    \n",
    "    # 첫 열 초기화\n",
    "    for i in range(1, n):\n",
    "        if d[0][i] == 'x' or d[0][i-1] == 'x': d[0][i] = 'x'\n",
    "        else: d[0][i] = 1\n",
    "    # 첫 행 초기화        \n",
    "    for j in range(1, m):\n",
    "        if d[j][0] == 'x' or d[j-1][0] == 'x': d[j][0] = 'x'\n",
    "        else: d[j][0] = 1\n",
    "    \n",
    "    for x in range(1, m):\n",
    "        for y in range(1, n):\n",
    "            if d[x][y] == 'x' or (d[x-1][y], d[x][y-1]) == ('x','x'): continue\n",
    "            if d[x-1][y] in ('x', 10e+9): d[x][y] = d[x][y-1]\n",
    "            elif d[x][y-1] in ('x', 10e+9): d[x][y] = d[x-1][y]\n",
    "            else: d[x][y] = (d[x-1][y] + d[x][y-1]) % 1000000007\n",
    "                \n",
    "    for i in d:\n",
    "        for j in i:\n",
    "            print(j, end =' ') if j != 10e+9 else print('p', end=' ')\n",
    "        print()\n",
    "    \n",
    "    return 0 if d[m-1][n-1] in (10e+9, 'x') else d[m-1][n-1]"
   ]
  },
  {
   "cell_type": "code",
   "execution_count": 32,
   "id": "settled-intelligence",
   "metadata": {},
   "outputs": [
    {
     "name": "stdout",
     "output_type": "stream",
     "text": [
      "p 1 1 \n",
      "1 x 1 \n",
      "1 1 2 \n",
      "1 2 4 \n"
     ]
    },
    {
     "data": {
      "text/plain": [
       "4"
      ]
     },
     "execution_count": 32,
     "metadata": {},
     "output_type": "execute_result"
    }
   ],
   "source": [
    "solution(4, 3, [[2, 2]])"
   ]
  },
  {
   "cell_type": "code",
   "execution_count": 33,
   "id": "amazing-twenty",
   "metadata": {
    "scrolled": true
   },
   "outputs": [
    {
     "name": "stdout",
     "output_type": "stream",
     "text": [
      "p 1 1 \n",
      "x 1 2 \n",
      "x 1 3 \n",
      "x 1 4 \n"
     ]
    },
    {
     "data": {
      "text/plain": [
       "4"
      ]
     },
     "execution_count": 33,
     "metadata": {},
     "output_type": "execute_result"
    }
   ],
   "source": [
    "solution(4, 3, [[2, 1]])"
   ]
  },
  {
   "cell_type": "code",
   "execution_count": 34,
   "id": "independent-jumping",
   "metadata": {},
   "outputs": [
    {
     "name": "stdout",
     "output_type": "stream",
     "text": [
      "p 1 1 1 1 1 1 x x x x \n",
      "1 2 3 4 5 x 1 1 1 1 1 \n",
      "1 3 6 10 x p 1 2 3 4 5 \n",
      "x 3 9 19 19 19 20 22 25 x 5 \n",
      "x 3 12 31 50 69 89 111 136 136 141 \n",
      "x 3 15 46 96 165 254 365 501 637 778 \n"
     ]
    },
    {
     "data": {
      "text/plain": [
       "778"
      ]
     },
     "execution_count": 34,
     "metadata": {},
     "output_type": "execute_result"
    }
   ],
   "source": [
    "solution(6, 11, [[4, 1], [3, 5], [2, 6], [1, 8], [4, 10]])"
   ]
  }
 ],
 "metadata": {
  "kernelspec": {
   "display_name": "Python 3",
   "language": "python",
   "name": "python3"
  },
  "language_info": {
   "codemirror_mode": {
    "name": "ipython",
    "version": 3
   },
   "file_extension": ".py",
   "mimetype": "text/x-python",
   "name": "python",
   "nbconvert_exporter": "python",
   "pygments_lexer": "ipython3",
   "version": "3.8.5"
  }
 },
 "nbformat": 4,
 "nbformat_minor": 5
}
