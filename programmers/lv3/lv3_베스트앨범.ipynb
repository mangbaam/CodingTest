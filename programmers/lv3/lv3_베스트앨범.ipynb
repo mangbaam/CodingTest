{
 "cells": [
  {
   "cell_type": "markdown",
   "id": "adaptive-crash",
   "metadata": {},
   "source": [
    "### https://latte-is-horse.tistory.com/266\n",
    "https://programmers.co.kr/learn/courses/30/lessons/42579"
   ]
  },
  {
   "cell_type": "code",
   "execution_count": 6,
   "id": "australian-gnome",
   "metadata": {},
   "outputs": [],
   "source": [
    "def solution(genres, plays):\n",
    "    answer = []\n",
    "    best = {}\n",
    "    for i, genre in enumerate(genres):\n",
    "        if genre in best.keys():\n",
    "            best[genre][0] += plays[i]\n",
    "            best[genre][1].append((i, plays[i]))\n",
    "        else:\n",
    "            best[genre] = [plays[i], [(i, plays[i])]]\n",
    "\n",
    "    best = sorted(best.values(), reverse = True)\n",
    "    for song in best:\n",
    "        answer.extend([i[0] for i in sorted(song[1], key=lambda x: (-x[1],x[0]))][:min(2, len(song))])\n",
    "    return answer"
   ]
  },
  {
   "cell_type": "code",
   "execution_count": 7,
   "id": "pleasant-paper",
   "metadata": {},
   "outputs": [
    {
     "name": "stdout",
     "output_type": "stream",
     "text": [
      "[(1, 600), (4, 2500)]\n",
      "[(0, 500), (2, 150), (3, 800)]\n"
     ]
    },
    {
     "data": {
      "text/plain": [
       "[4, 1, 3, 0]"
      ]
     },
     "execution_count": 7,
     "metadata": {},
     "output_type": "execute_result"
    }
   ],
   "source": [
    "solution([\"classic\", \"pop\", \"classic\", \"classic\", \"pop\"], [500, 600, 150, 800, 2500])"
   ]
  }
 ],
 "metadata": {
  "kernelspec": {
   "display_name": "Python 3",
   "language": "python",
   "name": "python3"
  },
  "language_info": {
   "codemirror_mode": {
    "name": "ipython",
    "version": 3
   },
   "file_extension": ".py",
   "mimetype": "text/x-python",
   "name": "python",
   "nbconvert_exporter": "python",
   "pygments_lexer": "ipython3",
   "version": "3.8.5"
  }
 },
 "nbformat": 4,
 "nbformat_minor": 5
}
