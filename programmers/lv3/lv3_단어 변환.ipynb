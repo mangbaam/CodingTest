{
 "cells": [
  {
   "cell_type": "markdown",
   "id": "sustained-world",
   "metadata": {},
   "source": [
    "https://programmers.co.kr/learn/courses/30/lessons/43163"
   ]
  },
  {
   "cell_type": "code",
   "execution_count": 127,
   "id": "collected-feeling",
   "metadata": {},
   "outputs": [],
   "source": [
    "from collections import deque\n",
    "\n",
    "def bfs(graph, begin, target, visited):\n",
    "    count = 0\n",
    "    queue = deque([begin])\n",
    "    visited[begin]= count\n",
    "    \n",
    "    while queue:\n",
    "        print(\"현재: \", queue[0], queue, 'count:', count)\n",
    "        word = queue.popleft()\n",
    "        if word==target: print(f'{word}=={target}, count={count}');return visited[word]\n",
    "        count += 1\n",
    "        for key in graph[word]:\n",
    "            if not visited[key]:\n",
    "                queue.append(key)\n",
    "                visited[key] = count\n",
    "        count -= len(graph[word])-1\n",
    "        "
   ]
  },
  {
   "cell_type": "code",
   "execution_count": null,
   "id": "after-lender",
   "metadata": {},
   "outputs": [],
   "source": [
    "def dfs(graph, begin, target, visited, depth):\n",
    "    "
   ]
  },
  {
   "cell_type": "code",
   "execution_count": 128,
   "id": "rising-rolling",
   "metadata": {},
   "outputs": [],
   "source": [
    "def solution(begin, target, words):\n",
    "    wordDiff = lambda w1, w2 : sum([True for i in range(len(w1)) if w1[i] != w2[i]]) # 다른 문자 개수\n",
    "    graph = {word : [w for w in words if wordDiff(word, w)==1] for word in words+[begin]} # 하나 다른 문자들\n",
    "    visited = {words[i] : False for i in range(len(words))} # 방문 테이블\n",
    "    print(graph)\n",
    "    \n",
    "    print('정답: ', bfs(graph, begin, target, visited))"
   ]
  },
  {
   "cell_type": "code",
   "execution_count": 129,
   "id": "federal-writing",
   "metadata": {},
   "outputs": [
    {
     "name": "stdout",
     "output_type": "stream",
     "text": [
      "{'hot': ['dot', 'lot'], 'dot': ['hot', 'dog', 'lot'], 'dog': ['dot', 'log', 'cog'], 'lot': ['hot', 'dot', 'log'], 'log': ['dog', 'lot', 'cog'], 'cog': ['dog', 'log'], 'hit': ['hot']}\n",
      "현재:  hit deque(['hit']) count: 0\n",
      "현재:  hot deque(['hot']) count: 1\n",
      "현재:  dot deque(['dot', 'lot']) count: 1\n",
      "현재:  lot deque(['lot', 'dog']) count: 0\n",
      "현재:  dog deque(['dog', 'log']) count: -1\n",
      "현재:  log deque(['log', 'cog']) count: -2\n",
      "현재:  cog deque(['cog', 'cog']) count: -3\n",
      "cog==cog, count=-3\n",
      "정답:  -1\n"
     ]
    }
   ],
   "source": [
    "words = [\"hot\", \"dot\", \"dog\", \"lot\", \"log\", \"cog\"]\n",
    "solution(\"hit\", \"cog\", words)"
   ]
  },
  {
   "cell_type": "code",
   "execution_count": null,
   "id": "filled-fitness",
   "metadata": {},
   "outputs": [],
   "source": []
  }
 ],
 "metadata": {
  "kernelspec": {
   "display_name": "Python 3",
   "language": "python",
   "name": "python3"
  },
  "language_info": {
   "codemirror_mode": {
    "name": "ipython",
    "version": 3
   },
   "file_extension": ".py",
   "mimetype": "text/x-python",
   "name": "python",
   "nbconvert_exporter": "python",
   "pygments_lexer": "ipython3",
   "version": "3.8.5"
  }
 },
 "nbformat": 4,
 "nbformat_minor": 5
}
