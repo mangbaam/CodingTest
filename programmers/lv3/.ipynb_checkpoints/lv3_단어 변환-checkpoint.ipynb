{
 "cells": [
  {
   "cell_type": "markdown",
   "id": "straight-acoustic",
   "metadata": {},
   "source": [
    "https://programmers.co.kr/learn/courses/30/lessons/43163"
   ]
  },
  {
   "cell_type": "code",
   "execution_count": 154,
   "id": "junior-elephant",
   "metadata": {},
   "outputs": [],
   "source": [
    "from collections import deque\n",
    "\n",
    "def bfs(graph, begin, target, visited):\n",
    "    distance = {begin:0}\n",
    "    queue = deque([begin])\n",
    "    visited[begin]= True\n",
    "    while queue:\n",
    "        word = queue.popleft()\n",
    "        for key in graph[word]:\n",
    "            # if target in graph[word]: key = target\n",
    "            if not visited[key]:\n",
    "                visited[key] = True\n",
    "                queue.append(key)\n",
    "                distance[key] = distance[word] + 1\n",
    "                if key == target: return distance[key]\n",
    "    return 0\n",
    "\n",
    "def solution(begin, target, words):\n",
    "    wordDiff = lambda w1, w2 : sum([True for i in range(len(w1)) if w1[i] != w2[i]]) # 다른 문자 개수\n",
    "    graph = {word : [w for w in words if wordDiff(word, w)==1] for word in words+[begin]} # 하나 다른 문자들\n",
    "    visited = {words[i] : False for i in range(len(words))} # 방문 테이블\n",
    "    return bfs(graph, begin, target, visited)"
   ]
  },
  {
   "cell_type": "code",
   "execution_count": 155,
   "id": "unique-optimum",
   "metadata": {
    "scrolled": true
   },
   "outputs": [
    {
     "data": {
      "text/plain": [
       "4"
      ]
     },
     "execution_count": 155,
     "metadata": {},
     "output_type": "execute_result"
    }
   ],
   "source": [
    "words = [\"hot\", \"dot\", \"dog\", \"lot\", \"log\", \"cog\"]\n",
    "solution(\"hit\", \"cog\", words)"
   ]
  }
 ],
 "metadata": {
  "kernelspec": {
   "display_name": "Python 3",
   "language": "python",
   "name": "python3"
  },
  "language_info": {
   "codemirror_mode": {
    "name": "ipython",
    "version": 3
   },
   "file_extension": ".py",
   "mimetype": "text/x-python",
   "name": "python",
   "nbconvert_exporter": "python",
   "pygments_lexer": "ipython3",
   "version": "3.8.5"
  }
 },
 "nbformat": 4,
 "nbformat_minor": 5
}
