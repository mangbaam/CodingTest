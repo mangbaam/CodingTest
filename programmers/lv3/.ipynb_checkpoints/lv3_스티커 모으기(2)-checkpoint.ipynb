{
 "cells": [
  {
   "cell_type": "markdown",
   "id": "fitting-jacob",
   "metadata": {},
   "source": [
    "## Summer/Winter Coding(~2018)\n",
    "https://programmers.co.kr/learn/courses/30/lessons/12971"
   ]
  },
  {
   "cell_type": "code",
   "execution_count": 4,
   "id": "attached-knock",
   "metadata": {},
   "outputs": [],
   "source": [
    "def solution(sticker):\n",
    "    if len(sticker)==1: return sticker[0]\n",
    "    \n",
    "    d1, d2 = [0] * len(sticker), [0] * len(sticker)\n",
    "    \n",
    "    # d1은 맨 앞 뜯는 경우\n",
    "    d1[0] = sticker[0]\n",
    "    d1[1] = d1[0]\n",
    "    for i in range(2, len(sticker)-1):\n",
    "        d1[i] = max(d1[i-2]+sticker[i], d1[i-1])\n",
    "    \n",
    "    # d2는 맨 앞 뜯지 않는 경우\n",
    "    for i in range(1, len(sticker)):\n",
    "        d2[i] = max(d2[i-2]+sticker[i], d2[i-1])\n",
    "\n",
    "    return max(d1[-2], d2[-1])"
   ]
  },
  {
   "cell_type": "code",
   "execution_count": 5,
   "id": "christian-participant",
   "metadata": {},
   "outputs": [
    {
     "data": {
      "text/plain": [
       "36"
      ]
     },
     "execution_count": 5,
     "metadata": {},
     "output_type": "execute_result"
    }
   ],
   "source": [
    "solution([14, 6, 5, 11, 3, 9, 2, 10])"
   ]
  }
 ],
 "metadata": {
  "kernelspec": {
   "display_name": "Python 3",
   "language": "python",
   "name": "python3"
  },
  "language_info": {
   "codemirror_mode": {
    "name": "ipython",
    "version": 3
   },
   "file_extension": ".py",
   "mimetype": "text/x-python",
   "name": "python",
   "nbconvert_exporter": "python",
   "pygments_lexer": "ipython3",
   "version": "3.8.5"
  }
 },
 "nbformat": 4,
 "nbformat_minor": 5
}
