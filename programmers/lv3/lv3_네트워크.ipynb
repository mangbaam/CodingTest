{
 "cells": [
  {
   "cell_type": "markdown",
   "id": "oriental-investing",
   "metadata": {},
   "source": [
    "https://programmers.co.kr/learn/courses/30/lessons/43162?language=python3"
   ]
  },
  {
   "cell_type": "code",
   "execution_count": 35,
   "id": "final-seeking",
   "metadata": {},
   "outputs": [],
   "source": [
    "from collections import deque\n",
    "\n",
    "def bfs(computers, start, visited):\n",
    "    if visited[start]: return 0\n",
    "    queue = deque([start])\n",
    "    while queue:\n",
    "        v = queue.popleft()\n",
    "        for i in computers[v]:\n",
    "            if not visited[i]:\n",
    "                queue.append(i)\n",
    "                visited[i] = True\n",
    "    return 1"
   ]
  },
  {
   "cell_type": "code",
   "execution_count": 36,
   "id": "complicated-encounter",
   "metadata": {},
   "outputs": [],
   "source": [
    "def solution(n ,computers):\n",
    "    computers = [[i for i in range(n) if computers[row][i]==1] for row in range(n)]\n",
    "    visited = [False] * n\n",
    "    answer = 0\n",
    "    for i in range(n):\n",
    "        answer += bfs(computers, i, visited)\n",
    "    return answer"
   ]
  },
  {
   "cell_type": "code",
   "execution_count": 37,
   "id": "legislative-scoop",
   "metadata": {},
   "outputs": [
    {
     "data": {
      "text/plain": [
       "2"
      ]
     },
     "execution_count": 37,
     "metadata": {},
     "output_type": "execute_result"
    }
   ],
   "source": [
    "solution(3, [[1, 1, 0], [1, 1, 0], [0, 0, 1]])"
   ]
  }
 ],
 "metadata": {
  "kernelspec": {
   "display_name": "Python 3",
   "language": "python",
   "name": "python3"
  },
  "language_info": {
   "codemirror_mode": {
    "name": "ipython",
    "version": 3
   },
   "file_extension": ".py",
   "mimetype": "text/x-python",
   "name": "python",
   "nbconvert_exporter": "python",
   "pygments_lexer": "ipython3",
   "version": "3.8.5"
  }
 },
 "nbformat": 4,
 "nbformat_minor": 5
}
