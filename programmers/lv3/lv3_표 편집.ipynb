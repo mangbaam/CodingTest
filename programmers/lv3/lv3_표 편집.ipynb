{
 "cells": [
  {
   "cell_type": "markdown",
   "id": "stylish-meditation",
   "metadata": {},
   "source": [
    "### 2021 카카오 채용연계형 인턴십\n",
    "\n",
    "https://programmers.co.kr/learn/courses/30/lessons/81303"
   ]
  },
  {
   "cell_type": "markdown",
   "id": "digital-optimization",
   "metadata": {},
   "source": [
    "## 첫 번째 시도\n",
    "\n",
    "- 정확성 테스트 통과\n",
    "- 효율성 테스트 6~10 실패"
   ]
  },
  {
   "cell_type": "code",
   "execution_count": 1,
   "id": "stuffed-inflation",
   "metadata": {},
   "outputs": [],
   "source": [
    "def solution(n, k, cmd):\n",
    "    removed = []\n",
    "    selected = k\n",
    "    table = [\"O\"] * n\n",
    "    for c in cmd:\n",
    "        if c[0] == 'D':\n",
    "            i = 0\n",
    "            while i < int(c.split()[1]):\n",
    "                if selected < n-1:\n",
    "                    selected += 1\n",
    "                    if table[selected]=='O': i += 1\n",
    "                else: break\n",
    "        elif c[0] == 'U':\n",
    "            i = 0\n",
    "            while i < int(c.split()[1]):\n",
    "                if selected > 0:\n",
    "                    selected -= 1\n",
    "                    if table[selected]=='O': i += 1\n",
    "                else: break\n",
    "        elif c[0] == 'C':\n",
    "            table[selected] = \"X\" # 행 삭제\n",
    "            removed.append(selected) # 삭제된 행 큐에 추가\n",
    "            while table[selected]=='X':\n",
    "                if selected >= n-1: # 마지막 행이면 위로\n",
    "                    while table[selected]=='X':\n",
    "                        selected -= 1\n",
    "                    break\n",
    "                else: selected += 1 # 마지막 행이 아니면 아래로\n",
    "        elif c[0] == 'Z':\n",
    "            table[removed.pop()]='O'\n",
    "              \n",
    "    return ''.join(table)"
   ]
  },
  {
   "cell_type": "code",
   "execution_count": 2,
   "id": "elegant-southwest",
   "metadata": {},
   "outputs": [
    {
     "data": {
      "text/plain": [
       "'OOOOXOOO'"
      ]
     },
     "execution_count": 2,
     "metadata": {},
     "output_type": "execute_result"
    }
   ],
   "source": [
    "n, k = 8, 2\n",
    "cmd = [\"D 2\",\"C\",\"U 3\",\"C\",\"D 4\",\"C\",\"U 2\",\"Z\",\"Z\"]\n",
    "solution(n, k, cmd)"
   ]
  },
  {
   "cell_type": "code",
   "execution_count": 3,
   "id": "fiscal-bracket",
   "metadata": {
    "scrolled": false
   },
   "outputs": [
    {
     "data": {
      "text/plain": [
       "'OOXOXOOO'"
      ]
     },
     "execution_count": 3,
     "metadata": {},
     "output_type": "execute_result"
    }
   ],
   "source": [
    "n, k = 8, 2\n",
    "cmd = [\"D 2\",\"C\",\"U 3\",\"C\",\"D 4\",\"C\",\"U 2\",\"Z\",\"Z\",\"U 1\",\"C\"]\n",
    "solution(n, k, cmd)"
   ]
  },
  {
   "cell_type": "markdown",
   "id": "german-judge",
   "metadata": {},
   "source": [
    "## 두 번째 시도\n",
    "\n",
    "첫 번째 시도와 같은 결과"
   ]
  },
  {
   "cell_type": "code",
   "execution_count": 15,
   "id": "turned-constitutional",
   "metadata": {},
   "outputs": [],
   "source": [
    "def solution(n, k, cmd):\n",
    "    removed = []\n",
    "    selected = k\n",
    "    lastRow = n-1\n",
    "    table = [True] * n\n",
    "    for c in cmd:\n",
    "        if c[0] == 'D':\n",
    "            i = 0\n",
    "            while i < int(c.split()[1]):\n",
    "                if selected < lastRow:\n",
    "                    selected += 1\n",
    "                    if table[selected]: i += 1\n",
    "                else: break\n",
    "        elif c[0] == 'U':\n",
    "            i = 0\n",
    "            while i < int(c.split()[1]):\n",
    "                if selected > 0:\n",
    "                    selected -= 1\n",
    "                    if table[selected]: i += 1\n",
    "                else: break\n",
    "        elif c[0] == 'C':\n",
    "            table[selected] = False # 행 삭제\n",
    "            removed.append(selected) # 삭제된 행 큐에 추가\n",
    "            \n",
    "            if selected == lastRow: # 삭제한 행이 마지막 행이라면\n",
    "                while not table[lastRow]:\n",
    "                    lastRow -= 1\n",
    "                selected = lastRow\n",
    "            else:\n",
    "                while not table[selected]:\n",
    "                    selected += 1\n",
    "        elif c[0] == 'Z':\n",
    "            recover = removed.pop()\n",
    "            lastRow = max(lastRow, recover)\n",
    "            table[recover]=True\n",
    "              \n",
    "    answer = ''\n",
    "    for b in table:\n",
    "        answer += 'O' if b else 'X'\n",
    "    return answer"
   ]
  },
  {
   "cell_type": "code",
   "execution_count": 16,
   "id": "municipal-compression",
   "metadata": {
    "scrolled": true
   },
   "outputs": [
    {
     "data": {
      "text/plain": [
       "'OOOOXOOO'"
      ]
     },
     "execution_count": 16,
     "metadata": {},
     "output_type": "execute_result"
    }
   ],
   "source": [
    "n, k = 8, 2\n",
    "cmd = [\"D 2\",\"C\",\"U 3\",\"C\",\"D 4\",\"C\",\"U 2\",\"Z\",\"Z\"]\n",
    "solution(n, k, cmd)"
   ]
  }
 ],
 "metadata": {
  "kernelspec": {
   "display_name": "Python 3",
   "language": "python",
   "name": "python3"
  },
  "language_info": {
   "codemirror_mode": {
    "name": "ipython",
    "version": 3
   },
   "file_extension": ".py",
   "mimetype": "text/x-python",
   "name": "python",
   "nbconvert_exporter": "python",
   "pygments_lexer": "ipython3",
   "version": "3.8.5"
  }
 },
 "nbformat": 4,
 "nbformat_minor": 5
}
