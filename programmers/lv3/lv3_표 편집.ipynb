{
 "cells": [
  {
   "cell_type": "markdown",
   "id": "stylish-meditation",
   "metadata": {
    "pycharm": {
     "name": "#%% md\n"
    }
   },
   "source": [
    "## https://latte-is-horse.tistory.com/329\n",
    "### 2021 카카오 채용연계형 인턴십\n",
    "\n",
    "https://programmers.co.kr/learn/courses/30/lessons/81303"
   ]
  },
  {
   "cell_type": "markdown",
   "source": [
    "## LinkedList 풀이 (정답)"
   ],
   "metadata": {
    "collapsed": false,
    "pycharm": {
     "name": "#%% md\n"
    }
   }
  },
  {
   "cell_type": "code",
   "execution_count": 10,
   "outputs": [],
   "source": [
    "N = 10 ** 9\n",
    "\n",
    "\n",
    "class Node:\n",
    "    survived = True\n",
    "\n",
    "    def __init__(self, p, n):\n",
    "        self.prev = p if p >= 0 else None\n",
    "        self.next = n if n < N else None\n",
    "\n",
    "\n",
    "def solution(n, k, command):\n",
    "    global N\n",
    "    N = n\n",
    "    table = {i: Node(i - 1, i + 1) for i in range(n)}\n",
    "    current = k\n",
    "    removed = []\n",
    "\n",
    "    for cmd in command:\n",
    "        if cmd == \"C\":  # 삭제\n",
    "            table[current].survived = False\n",
    "            removed.append(current)\n",
    "\n",
    "            prev, next = table[current].prev, table[current].next\n",
    "            # 앞 노드의 next를 뒷 노드에 연결\n",
    "            if prev is not None: table[prev].next = table[current].next\n",
    "            # 뒷 노드의 prev를 앞 노드에 연결\n",
    "            if next is not None: table[next].prev = table[current].prev\n",
    "\n",
    "            # 노드 제거\n",
    "            if table[current].next is None:  # 다음 노드가 없음\n",
    "                current = table[current].prev\n",
    "            else:  # 다음 노드가 있음\n",
    "                current = table[current].next\n",
    "\n",
    "        elif cmd == \"Z\": # 실행 취소\n",
    "            recovered = removed.pop()\n",
    "            table[recovered].survived = True\n",
    "\n",
    "            # 앞 노드의 next를 자신으로 연결\n",
    "            prev, next = table[recovered].prev, table[recovered].next\n",
    "            if prev is not None: table[prev].next = recovered\n",
    "            # 뒤 노드의 prev를 자신으로 연결\n",
    "            if next is not None: table[next].prev = recovered\n",
    "\n",
    "\n",
    "        else:\n",
    "            c, amount = cmd.split()\n",
    "            if c == \"U\":\n",
    "                # 위로\n",
    "                for _ in range(int(amount)):\n",
    "                    current = table[current].prev\n",
    "\n",
    "            elif c == \"D\":\n",
    "                # 아래로\n",
    "                for _ in range(int(amount)):\n",
    "                    current = table[current].next\n",
    "    return ''.join([\"O\" if table[i].survived else \"X\" for i in range(n)])"
   ],
   "metadata": {
    "collapsed": false,
    "pycharm": {
     "name": "#%%\n"
    }
   }
  },
  {
   "cell_type": "markdown",
   "source": [
    "## 첫 번째 시도\n",
    "\n",
    "- 정확성 테스트 통과\n",
    "- 효율성 테스트 6~10 실패"
   ],
   "metadata": {
    "collapsed": false,
    "pycharm": {
     "name": "#%% md\n"
    }
   }
  },
  {
   "cell_type": "code",
   "execution_count": 1,
   "outputs": [],
   "source": [
    "def solution(n, k, cmd):\n",
    "    removed = []\n",
    "    selected = k\n",
    "    table = [\"O\"] * n\n",
    "    for c in cmd:\n",
    "        if c[0] == 'D':\n",
    "            i = 0\n",
    "            while i < int(c.split()[1]):\n",
    "                if selected < n - 1:\n",
    "                    selected += 1\n",
    "                    if table[selected] == 'O': i += 1\n",
    "                else:\n",
    "                    break\n",
    "        elif c[0] == 'U':\n",
    "            i = 0\n",
    "            while i < int(c.split()[1]):\n",
    "                if selected > 0:\n",
    "                    selected -= 1\n",
    "                    if table[selected] == 'O': i += 1\n",
    "                else:\n",
    "                    break\n",
    "        elif c[0] == 'C':\n",
    "            table[selected] = \"X\"  # 행 삭제\n",
    "            removed.append(selected)  # 삭제된 행 큐에 추가\n",
    "            while table[selected] == 'X':\n",
    "                if selected >= n - 1:  # 마지막 행이면 위로\n",
    "                    while table[selected] == 'X':\n",
    "                        selected -= 1\n",
    "                    break\n",
    "                else:\n",
    "                    selected += 1  # 마지막 행이 아니면 아래로\n",
    "        elif c[0] == 'Z':\n",
    "            table[removed.pop()] = 'O'\n",
    "\n",
    "    return ''.join(table)"
   ],
   "metadata": {
    "collapsed": false,
    "pycharm": {
     "name": "#%%\n"
    }
   }
  },
  {
   "cell_type": "code",
   "execution_count": 2,
   "outputs": [
    {
     "data": {
      "text/plain": [
       "'OOOOXOOO'"
      ]
     },
     "execution_count": 2,
     "metadata": {},
     "output_type": "execute_result"
    }
   ],
   "source": [
    "n, k = 8, 2\n",
    "cmd = [\"D 2\", \"C\", \"U 3\", \"C\", \"D 4\", \"C\", \"U 2\", \"Z\", \"Z\"]\n",
    "solution(n, k, cmd)"
   ],
   "metadata": {
    "collapsed": false,
    "pycharm": {
     "name": "#%%\n"
    }
   }
  },
  {
   "cell_type": "code",
   "execution_count": 3,
   "outputs": [
    {
     "data": {
      "text/plain": [
       "'OOXOXOOO'"
      ]
     },
     "execution_count": 3,
     "metadata": {},
     "output_type": "execute_result"
    }
   ],
   "source": [
    "n, k = 8, 2\n",
    "cmd = [\"D 2\", \"C\", \"U 3\", \"C\", \"D 4\", \"C\", \"U 2\", \"Z\", \"Z\", \"U 1\", \"C\"]\n",
    "solution(n, k, cmd)"
   ],
   "metadata": {
    "collapsed": false,
    "pycharm": {
     "name": "#%%\n"
    }
   }
  }
 ],
 "metadata": {
  "kernelspec": {
   "display_name": "Python 3",
   "language": "python",
   "name": "python3"
  },
  "language_info": {
   "codemirror_mode": {
    "name": "ipython",
    "version": 3
   },
   "file_extension": ".py",
   "mimetype": "text/x-python",
   "name": "python",
   "nbconvert_exporter": "python",
   "pygments_lexer": "ipython3",
   "version": "3.8.5"
  }
 },
 "nbformat": 4,
 "nbformat_minor": 5
}