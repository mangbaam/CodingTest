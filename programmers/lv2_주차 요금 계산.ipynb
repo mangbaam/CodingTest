{
 "cells": [
  {
   "cell_type": "markdown",
   "source": [
    "## 2022 KAKAO BLIND RECRUITMENT\n",
    "### https://latte-is-horse.tistory.com/326\n",
    "https://programmers.co.kr/learn/courses/30/lessons/92341?language=python3"
   ],
   "metadata": {
    "collapsed": false,
    "pycharm": {
     "name": "#%% md\n"
    }
   }
  },
  {
   "cell_type": "code",
   "execution_count": null,
   "outputs": [],
   "source": [
    "import math\n",
    "\n",
    "def get_fee(minutes, fees):\n",
    "    return fees[1] + math.ceil(max(0, (minutes - fees[0])) / fees[2]) * fees[3]\n",
    "\n",
    "def solution(fees, records):\n",
    "    answer = []\n",
    "    parking = dict()\n",
    "    stack = dict()\n",
    "\n",
    "    for record in records:\n",
    "        time, car, cmd = record.split()\n",
    "        hour, minute = time.split(\":\")\n",
    "        minutes = int(hour) * 60 + int(minute) # 시간 -> 분 환산\n",
    "\n",
    "        if cmd == 'IN':\n",
    "            parking[car] = minutes\n",
    "        elif cmd == 'OUT':\n",
    "            try:\n",
    "                stack[car] += minutes - parking[car]\n",
    "            except:\n",
    "                stack[car] = minutes - parking[car]\n",
    "            del parking[car] # 출차 차량 삭제\n",
    "\n",
    "    # 출차 기록 없는 차 23:59 출차 처리\n",
    "    for car, minute in parking.items():\n",
    "        try:\n",
    "            stack[car] += 23*60+59 - minute\n",
    "        except:\n",
    "            stack[car] = 23*60+59 - minute\n",
    "\n",
    "    return [get_fee(time, fees) for car, time in sorted(list(stack.items()), key=lambda x: x[0])]"
   ],
   "metadata": {
    "collapsed": false,
    "pycharm": {
     "name": "#%%\n"
    }
   }
  }
 ],
 "metadata": {
  "kernelspec": {
   "display_name": "Python 3",
   "language": "python",
   "name": "python3"
  },
  "language_info": {
   "codemirror_mode": {
    "name": "ipython",
    "version": 2
   },
   "file_extension": ".py",
   "mimetype": "text/x-python",
   "name": "python",
   "nbconvert_exporter": "python",
   "pygments_lexer": "ipython2",
   "version": "2.7.6"
  }
 },
 "nbformat": 4,
 "nbformat_minor": 0
}