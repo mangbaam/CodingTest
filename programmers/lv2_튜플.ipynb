{
 "cells": [
  {
   "cell_type": "markdown",
   "id": "planned-oracle",
   "metadata": {},
   "source": [
    "### 2019 카카오 개발자 겨울 인턴십\n",
    "https://programmers.co.kr/learn/courses/30/lessons/64065"
   ]
  },
  {
   "cell_type": "code",
   "execution_count": 1,
   "id": "growing-professor",
   "metadata": {},
   "outputs": [],
   "source": [
    "import re\n",
    "def solution(s):\n",
    "    answer = []\n",
    "    li = re.findall('\\d+(?:\\,\\d+)*', s)\n",
    "    li = sorted(li, key=len)\n",
    "    for i in li:\n",
    "        for num in i.split(','):\n",
    "            if int(num) not in answer:\n",
    "                answer.append(int(num))\n",
    "    return answer"
   ]
  },
  {
   "cell_type": "code",
   "execution_count": 2,
   "id": "searching-double",
   "metadata": {},
   "outputs": [
    {
     "data": {
      "text/plain": [
       "[2, 1, 3, 4]"
      ]
     },
     "execution_count": 2,
     "metadata": {},
     "output_type": "execute_result"
    }
   ],
   "source": [
    "solution(\"{{2},{2,1},{2,1,3},{2,1,3,4}}\")"
   ]
  },
  {
   "cell_type": "code",
   "execution_count": 3,
   "id": "sorted-underwear",
   "metadata": {},
   "outputs": [
    {
     "data": {
      "text/plain": [
       "[2, 1, 3, 4]"
      ]
     },
     "execution_count": 3,
     "metadata": {},
     "output_type": "execute_result"
    }
   ],
   "source": [
    "solution(\"{{1,2,3},{2,1},{1,2,4,3},{2}}\")"
   ]
  },
  {
   "cell_type": "code",
   "execution_count": 4,
   "id": "crude-concept",
   "metadata": {},
   "outputs": [
    {
     "data": {
      "text/plain": [
       "[111, 20]"
      ]
     },
     "execution_count": 4,
     "metadata": {},
     "output_type": "execute_result"
    }
   ],
   "source": [
    "solution(\"{{20,111},{111}}\")"
   ]
  },
  {
   "cell_type": "code",
   "execution_count": 5,
   "id": "under-cleveland",
   "metadata": {},
   "outputs": [
    {
     "data": {
      "text/plain": [
       "[123]"
      ]
     },
     "execution_count": 5,
     "metadata": {},
     "output_type": "execute_result"
    }
   ],
   "source": [
    "solution(\"{{123}}\")"
   ]
  },
  {
   "cell_type": "code",
   "execution_count": 6,
   "id": "unexpected-wayne",
   "metadata": {},
   "outputs": [
    {
     "data": {
      "text/plain": [
       "[3, 2, 4, 1]"
      ]
     },
     "execution_count": 6,
     "metadata": {},
     "output_type": "execute_result"
    }
   ],
   "source": [
    "solution(\"{{4,2,3},{3},{2,3,4,1},{2,3}}\")"
   ]
  }
 ],
 "metadata": {
  "kernelspec": {
   "display_name": "Python 3",
   "language": "python",
   "name": "python3"
  },
  "language_info": {
   "codemirror_mode": {
    "name": "ipython",
    "version": 3
   },
   "file_extension": ".py",
   "mimetype": "text/x-python",
   "name": "python",
   "nbconvert_exporter": "python",
   "pygments_lexer": "ipython3",
   "version": "3.8.5"
  }
 },
 "nbformat": 4,
 "nbformat_minor": 5
}
