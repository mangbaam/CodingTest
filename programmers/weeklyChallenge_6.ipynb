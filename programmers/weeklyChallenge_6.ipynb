{
 "cells": [
  {
   "cell_type": "markdown",
   "id": "fifteen-spell",
   "metadata": {},
   "source": [
    "## 위클리 챌린지 6주차\n",
    "### 설명: https://latte-is-horse.tistory.com/223\n",
    "\n",
    "### 복서 정렬하기\n",
    "\n",
    "https://programmers.co.kr/learn/courses/30/lessons/85002"
   ]
  },
  {
   "cell_type": "code",
   "execution_count": 4,
   "id": "typical-founder",
   "metadata": {},
   "outputs": [],
   "source": [
    "def solution(weights, head2head):\n",
    "    info = []\n",
    "    w = len(weights)\n",
    "    for p in range(w):\n",
    "        high = [i for i in range(w) if weights[i]>weights[p]] # 더 무거운 사람 인덱스\n",
    "        over = len([info for info in high if head2head[p][info]==\"W\"]) # 더 무거운 사람 이긴 수\n",
    "        rate = 0 if not (w-head2head[p].count(\"N\")) else head2head[p].count(\"W\")/(w-head2head[p].count(\"N\"))\n",
    "        info.append((p, weights[p], rate, over)) # 번호, 자기무게, 승률, 무거운복서 이긴 횟수\n",
    "    info = sorted(info, key=lambda x: (x[2], x[3], x[1], -x[0]), reverse=True)\n",
    "    return [num[0]+1 for num in info]"
   ]
  },
  {
   "cell_type": "code",
   "execution_count": 5,
   "id": "honest-daughter",
   "metadata": {},
   "outputs": [
    {
     "data": {
      "text/plain": [
       "[3, 4, 1, 2]"
      ]
     },
     "execution_count": 5,
     "metadata": {},
     "output_type": "execute_result"
    }
   ],
   "source": [
    "weights = [50,82,75,120]\n",
    "head2head = [\"NLWL\",\"WNLL\",\"LWNW\",\"WWLN\"]\n",
    "solution(weights, head2head)"
   ]
  },
  {
   "cell_type": "code",
   "execution_count": 6,
   "id": "lesbian-karaoke",
   "metadata": {},
   "outputs": [
    {
     "data": {
      "text/plain": [
       "[2, 3, 1]"
      ]
     },
     "execution_count": 6,
     "metadata": {},
     "output_type": "execute_result"
    }
   ],
   "source": [
    "weights = [145,92,86]\n",
    "head2head = [\"NLW\",\"WNL\",\"LWN\"]\n",
    "solution(weights, head2head)"
   ]
  },
  {
   "cell_type": "code",
   "execution_count": 7,
   "id": "tribal-norwegian",
   "metadata": {},
   "outputs": [
    {
     "data": {
      "text/plain": [
       "[2, 1, 3]"
      ]
     },
     "execution_count": 7,
     "metadata": {},
     "output_type": "execute_result"
    }
   ],
   "source": [
    "weights = [60,70,60]\n",
    "head2head = [\"NNN\",\"NNN\",\"NNN\"]\n",
    "solution(weights, head2head)"
   ]
  }
 ],
 "metadata": {
  "kernelspec": {
   "display_name": "Python 3",
   "language": "python",
   "name": "python3"
  },
  "language_info": {
   "codemirror_mode": {
    "name": "ipython",
    "version": 3
   },
   "file_extension": ".py",
   "mimetype": "text/x-python",
   "name": "python",
   "nbconvert_exporter": "python",
   "pygments_lexer": "ipython3",
   "version": "3.8.5"
  }
 },
 "nbformat": 4,
 "nbformat_minor": 5
}
