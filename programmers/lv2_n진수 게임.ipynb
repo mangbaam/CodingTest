{
 "cells": [
  {
   "cell_type": "markdown",
   "id": "accessory-mongolia",
   "metadata": {},
   "source": [
    "### 2018 KAKAO BLIND RECRUITMENT\n",
    "https://programmers.co.kr/learn/courses/30/lessons/17687"
   ]
  },
  {
   "cell_type": "code",
   "execution_count": 12,
   "id": "identified-difference",
   "metadata": {},
   "outputs": [],
   "source": [
    "def solution(n, t, m, p):\n",
    "    answer = ''\n",
    "    for i in range(t*m):\n",
    "        answer += change(i, n)\n",
    "    answer = answer[:t*m]\n",
    "    return answer[p-1::m]\n",
    "\n",
    "def change(num, n):\n",
    "    overTen = {10:'A', 11:'B', 12:'C', 13:'D', 14:'E', 15:'F'}\n",
    "    if num == 0: return \"0\"\n",
    "    answer = ''\n",
    "    while num:\n",
    "        num, r = divmod(num, n)\n",
    "        answer = str(r) + answer if r < 10 else overTen[r] + answer\n",
    "    return answer"
   ]
  },
  {
   "cell_type": "code",
   "execution_count": 13,
   "id": "infectious-marking",
   "metadata": {},
   "outputs": [
    {
     "data": {
      "text/plain": [
       "'0111'"
      ]
     },
     "execution_count": 13,
     "metadata": {},
     "output_type": "execute_result"
    }
   ],
   "source": [
    "solution(2, 4, 2, 1)"
   ]
  },
  {
   "cell_type": "code",
   "execution_count": 14,
   "id": "confused-collaboration",
   "metadata": {},
   "outputs": [
    {
     "data": {
      "text/plain": [
       "'02468ACE11111111'"
      ]
     },
     "execution_count": 14,
     "metadata": {},
     "output_type": "execute_result"
    }
   ],
   "source": [
    "solution(16, 16, 2, 1)"
   ]
  },
  {
   "cell_type": "code",
   "execution_count": 15,
   "id": "interested-mixer",
   "metadata": {},
   "outputs": [
    {
     "data": {
      "text/plain": [
       "'13579BDF01234567'"
      ]
     },
     "execution_count": 15,
     "metadata": {},
     "output_type": "execute_result"
    }
   ],
   "source": [
    "solution(16, 16, 2, 2)"
   ]
  }
 ],
 "metadata": {
  "kernelspec": {
   "display_name": "Python 3",
   "language": "python",
   "name": "python3"
  },
  "language_info": {
   "codemirror_mode": {
    "name": "ipython",
    "version": 3
   },
   "file_extension": ".py",
   "mimetype": "text/x-python",
   "name": "python",
   "nbconvert_exporter": "python",
   "pygments_lexer": "ipython3",
   "version": "3.8.5"
  }
 },
 "nbformat": 4,
 "nbformat_minor": 5
}
