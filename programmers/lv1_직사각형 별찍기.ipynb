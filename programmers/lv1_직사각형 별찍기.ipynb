{
 "cells": [
  {
   "cell_type": "markdown",
   "id": "recorded-flooring",
   "metadata": {},
   "source": [
    "https://programmers.co.kr/learn/courses/30/lessons/12969"
   ]
  },
  {
   "cell_type": "code",
   "execution_count": null,
   "id": "final-seeker",
   "metadata": {},
   "outputs": [],
   "source": [
    "a, b = map(int, input().strip().split(' '))\n",
    "for _ in range(b): print(\"*\" * a)"
   ]
  }
 ],
 "metadata": {
  "kernelspec": {
   "display_name": "Python 3",
   "language": "python",
   "name": "python3"
  },
  "language_info": {
   "codemirror_mode": {
    "name": "ipython",
    "version": 3
   },
   "file_extension": ".py",
   "mimetype": "text/x-python",
   "name": "python",
   "nbconvert_exporter": "python",
   "pygments_lexer": "ipython3",
   "version": "3.8.5"
  }
 },
 "nbformat": 4,
 "nbformat_minor": 5
}
