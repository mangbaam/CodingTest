{
 "cells": [
  {
   "cell_type": "markdown",
   "id": "seasonal-community",
   "metadata": {},
   "source": [
    "### https://latte-is-horse.tistory.com/267\n",
    "https://programmers.co.kr/learn/courses/30/lessons/87377"
   ]
  },
  {
   "cell_type": "code",
   "execution_count": 1,
   "id": "infectious-throw",
   "metadata": {},
   "outputs": [],
   "source": [
    "def solution(line):\n",
    "    cross = set()\n",
    "    for a in range(len(line)):\n",
    "        for b in range(len(line)):\n",
    "            if a==b: continue\n",
    "            point = getIntCross(line[a], line[b]) # 두 직선에 대한 정수인 교점\n",
    "            if point: cross.add(point)\n",
    "    xs, ys = list(map(lambda x: x[0], cross)), list(map(lambda x: x[1], cross)) # x좌표, y좌표 분리\n",
    "\n",
    "    startX, startY = min(xs), min(ys) # 0 이상으로 맞추기 위한 변수\n",
    "    height = max(ys) - startY + 1 # 높이\n",
    "    width = max(xs) - startX + 1 # 너비\n",
    "    \n",
    "    cross = list(map(lambda x: (x[0]-startX, x[1]-startY), cross)) # 0 이상으로 맞추기\n",
    "    \n",
    "    answer = ['.' * width for _ in range(height)]\n",
    "  \n",
    "    for x, y in cross:\n",
    "        answer[y] = answer[y][:x]+'*'+answer[y][x+1:] # 별 삽입\n",
    "    \n",
    "    return answer[::-1] # 좌표는 y값이 클 수록 위로, python 인덱스에서는 y값이 클 수록 아래로\n",
    "\n",
    "def getIntCross(l1, l2):\n",
    "    a, b, e = l1; c, d, f = l2\n",
    "    if a*d - b*c == 0: return False\n",
    "    x = (b*f - e*d) / (a*d - b*c)\n",
    "    y = (e*c - a*f) / (a*d - b*c)\n",
    "\n",
    "    return (int(x), int(y)) if x==int(x) and y==int(y) else False"
   ]
  },
  {
   "cell_type": "code",
   "execution_count": 2,
   "id": "finite-depression",
   "metadata": {},
   "outputs": [
    {
     "data": {
      "text/plain": [
       "['....*....',\n",
       " '.........',\n",
       " '.........',\n",
       " '*.......*',\n",
       " '.........',\n",
       " '.........',\n",
       " '.........',\n",
       " '.........',\n",
       " '*.......*']"
      ]
     },
     "execution_count": 2,
     "metadata": {},
     "output_type": "execute_result"
    }
   ],
   "source": [
    "line = [[2, -1, 4], [-2, -1, 4], [0, -1, 1], [5, -8, -12], [5, 8, 12]]\n",
    "solution(line)"
   ]
  },
  {
   "cell_type": "code",
   "execution_count": 3,
   "id": "reverse-police",
   "metadata": {},
   "outputs": [
    {
     "data": {
      "text/plain": [
       "['*.*']"
      ]
     },
     "execution_count": 3,
     "metadata": {},
     "output_type": "execute_result"
    }
   ],
   "source": [
    "line = [[0, 1, -1], [1, 0, -1], [1, 0, 1]]\n",
    "solution(line)"
   ]
  },
  {
   "cell_type": "code",
   "execution_count": 4,
   "id": "innovative-aurora",
   "metadata": {},
   "outputs": [
    {
     "data": {
      "text/plain": [
       "['*']"
      ]
     },
     "execution_count": 4,
     "metadata": {},
     "output_type": "execute_result"
    }
   ],
   "source": [
    "line = [[1, -1, 0], [2, -1, 0]]\n",
    "solution(line)"
   ]
  },
  {
   "cell_type": "code",
   "execution_count": 5,
   "id": "relative-omega",
   "metadata": {},
   "outputs": [
    {
     "data": {
      "text/plain": [
       "['*']"
      ]
     },
     "execution_count": 5,
     "metadata": {},
     "output_type": "execute_result"
    }
   ],
   "source": [
    "line = [[1, -1, 0], [2, -1, 0], [4, -1, 0]]\n",
    "solution(line)"
   ]
  }
 ],
 "metadata": {
  "kernelspec": {
   "display_name": "Python 3",
   "language": "python",
   "name": "python3"
  },
  "language_info": {
   "codemirror_mode": {
    "name": "ipython",
    "version": 3
   },
   "file_extension": ".py",
   "mimetype": "text/x-python",
   "name": "python",
   "nbconvert_exporter": "python",
   "pygments_lexer": "ipython3",
   "version": "3.8.5"
  }
 },
 "nbformat": 4,
 "nbformat_minor": 5
}
