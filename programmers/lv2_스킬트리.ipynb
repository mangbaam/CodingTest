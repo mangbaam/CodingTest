{
 "cells": [
  {
   "cell_type": "markdown",
   "id": "confirmed-theta",
   "metadata": {},
   "source": [
    "### Summer/Winter Coding(~2018)\n",
    "https://programmers.co.kr/learn/courses/30/lessons/49993"
   ]
  },
  {
   "cell_type": "code",
   "execution_count": 5,
   "id": "parallel-european",
   "metadata": {},
   "outputs": [],
   "source": [
    "def solution(skill, skill_trees):\n",
    "    answer = len(skill_trees)\n",
    "    skill = skill[::-1]\n",
    "    for case in skill_trees:\n",
    "        for s in skill:\n",
    "            i = case.find(s)\n",
    "            if i == -1: break\n",
    "            case[i+1:]\n",
    "        else:\n",
    "            answer -= 1\n",
    "    return answer"
   ]
  },
  {
   "cell_type": "code",
   "execution_count": 6,
   "id": "egyptian-sentence",
   "metadata": {},
   "outputs": [
    {
     "name": "stdout",
     "output_type": "stream",
     "text": [
      "0\n",
      "1\n",
      "2\n",
      "3\n",
      "4\n",
      "5\n",
      "6\n",
      "7\n",
      "8\n",
      "9\n",
      "이거 되나?\n"
     ]
    }
   ],
   "source": [
    "for i in range(10):\n",
    "    if i == 11: break\n",
    "    print(i)\n",
    "else: print(\"이거 되나?\")"
   ]
  },
  {
   "cell_type": "code",
   "execution_count": null,
   "id": "tamil-placement",
   "metadata": {},
   "outputs": [],
   "source": []
  }
 ],
 "metadata": {
  "kernelspec": {
   "display_name": "Python 3",
   "language": "python",
   "name": "python3"
  },
  "language_info": {
   "codemirror_mode": {
    "name": "ipython",
    "version": 3
   },
   "file_extension": ".py",
   "mimetype": "text/x-python",
   "name": "python",
   "nbconvert_exporter": "python",
   "pygments_lexer": "ipython3",
   "version": "3.8.5"
  }
 },
 "nbformat": 4,
 "nbformat_minor": 5
}
