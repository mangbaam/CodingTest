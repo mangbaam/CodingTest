{
 "cells": [
  {
   "cell_type": "markdown",
   "id": "inner-drunk",
   "metadata": {},
   "source": [
    "https://programmers.co.kr/learn/courses/30/lessons/83201"
   ]
  },
  {
   "cell_type": "code",
   "execution_count": 13,
   "id": "employed-outreach",
   "metadata": {},
   "outputs": [],
   "source": [
    "def solution(scores):\n",
    "    scores = [[scores[i][j] for i in range(len(scores))] for j in range(len(scores))]\n",
    "    answer = ''\n",
    "    for i, student in enumerate(scores):\n",
    "        if student[i] in (max(student), min(student)) and student.count(student[i]) == 1:\n",
    "            student.remove(student[i])\n",
    "        print(student)\n",
    "        print(sum(student) / len(student))\n",
    "        answer += grade(sum(student) / len(student))\n",
    "    return answer\n",
    "        \n",
    "def grade(score):\n",
    "    if score >= 90:\n",
    "        return 'A'\n",
    "    elif score >= 80:\n",
    "        return 'B'\n",
    "    elif score >= 70:\n",
    "        return 'C'\n",
    "    elif score >= 70:\n",
    "        return 'C'\n",
    "    elif score >= 50:\n",
    "        return 'D'\n",
    "    else:\n",
    "        return 'F'"
   ]
  },
  {
   "cell_type": "code",
   "execution_count": 14,
   "id": "violent-dealer",
   "metadata": {},
   "outputs": [
    {
     "name": "stdout",
     "output_type": "stream",
     "text": [
      "[50, 47, 61, 24]\n",
      "45.5\n",
      "[90, 88, 57, 90]\n",
      "81.25\n",
      "[98, 99, 95, 100, 94]\n",
      "97.2\n",
      "[88, 85, 80, 80, 75]\n",
      "81.6\n",
      "[65, 77, 67, 65, 65]\n",
      "67.8\n",
      "FBABD\n"
     ]
    }
   ],
   "source": [
    "scores = [[100,90,98,88,65],[50,45,99,85,77],[47,88,95,80,67],[61,57,100,80,65],[24,90,94,75,65]]\n",
    "print(solution(scores))"
   ]
  }
 ],
 "metadata": {
  "kernelspec": {
   "display_name": "Python 3",
   "language": "python",
   "name": "python3"
  },
  "language_info": {
   "codemirror_mode": {
    "name": "ipython",
    "version": 3
   },
   "file_extension": ".py",
   "mimetype": "text/x-python",
   "name": "python",
   "nbconvert_exporter": "python",
   "pygments_lexer": "ipython3",
   "version": "3.8.5"
  }
 },
 "nbformat": 4,
 "nbformat_minor": 5
}
