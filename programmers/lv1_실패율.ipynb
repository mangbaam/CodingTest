{
 "cells": [
  {
   "cell_type": "markdown",
   "id": "primary-testament",
   "metadata": {},
   "source": [
    "### 2019 KAKAO BLIND RECRUITMENT\n",
    "https://programmers.co.kr/learn/courses/30/lessons/42889"
   ]
  },
  {
   "cell_type": "code",
   "execution_count": null,
   "id": "laughing-walnut",
   "metadata": {},
   "outputs": [],
   "source": [
    "def solution(N, stages):\n",
    "    failure = [0] * N\n",
    "    \n",
    "    for i in range(1, N + 1):\n",
    "        total = len([x for x in stages if x >= i])\n",
    "        fail = stages.count(i)\n",
    "        if total == 0: break\n",
    "        failure[i - 1] = fail/total\n",
    "    \n",
    "    li = []\n",
    "    for i, v in enumerate(failure):\n",
    "        li.append((v, i + 1))\n",
    "    result = sorted(li, key = lambda x : (x[0], -x[1]), reverse=True)\n",
    "    result = [i[1] for i in result]\n",
    "    \n",
    "    return result"
   ]
  }
 ],
 "metadata": {
  "kernelspec": {
   "display_name": "Python 3",
   "language": "python",
   "name": "python3"
  },
  "language_info": {
   "codemirror_mode": {
    "name": "ipython",
    "version": 3
   },
   "file_extension": ".py",
   "mimetype": "text/x-python",
   "name": "python",
   "nbconvert_exporter": "python",
   "pygments_lexer": "ipython3",
   "version": "3.8.5"
  }
 },
 "nbformat": 4,
 "nbformat_minor": 5
}
