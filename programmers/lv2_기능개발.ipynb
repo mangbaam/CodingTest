{
 "cells": [
  {
   "cell_type": "markdown",
   "id": "civic-force",
   "metadata": {},
   "source": [
    "https://programmers.co.kr/learn/courses/30/lessons/42586"
   ]
  },
  {
   "cell_type": "code",
   "execution_count": 1,
   "id": "framed-neutral",
   "metadata": {},
   "outputs": [],
   "source": [
    "import math\n",
    "\n",
    "def solution(progresses, speeds):\n",
    "    answer = []\n",
    "    takes = [math.ceil((100-a)/b) for a, b in zip(progresses, speeds)] # 작업 완료까지 소요 시간\n",
    "    \n",
    "    while len(takes) > 0:\n",
    "        days = takes[0]\n",
    "        takes = [a - days for a in takes]  # 첫 번째 작업이 완료된 후 이후 작업들의 소요 시간\n",
    "        \n",
    "        count = 0\n",
    "        while count < len(takes) and takes[count] <= 0:  # 완료된 작업 선별 및 카운트\n",
    "            count += 1\n",
    "        \n",
    "        takes = takes[count:]        # 완료된 작업은 목록에서 제거\n",
    "        answer.append(count)         # 완료된 작업 개수 저장\n",
    "    \n",
    "    return answer"
   ]
  }
 ],
 "metadata": {
  "kernelspec": {
   "display_name": "Python 3",
   "language": "python",
   "name": "python3"
  },
  "language_info": {
   "codemirror_mode": {
    "name": "ipython",
    "version": 3
   },
   "file_extension": ".py",
   "mimetype": "text/x-python",
   "name": "python",
   "nbconvert_exporter": "python",
   "pygments_lexer": "ipython3",
   "version": "3.8.5"
  }
 },
 "nbformat": 4,
 "nbformat_minor": 5
}
