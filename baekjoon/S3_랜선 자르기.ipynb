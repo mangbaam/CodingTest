{
 "cells": [
  {
   "cell_type": "markdown",
   "id": "incredible-plymouth",
   "metadata": {},
   "source": [
    "https://www.acmicpc.net/problem/1654"
   ]
  },
  {
   "cell_type": "markdown",
   "id": "ready-apple",
   "metadata": {},
   "source": [
    "실패 (시간 초과도 아니고 실패..?)"
   ]
  },
  {
   "cell_type": "code",
   "execution_count": 5,
   "id": "later-ivory",
   "metadata": {},
   "outputs": [
    {
     "name": "stdout",
     "output_type": "stream",
     "text": [
      "4 11\n",
      "802\n",
      "743\n",
      "457\n",
      "539\n",
      "200\n"
     ]
    }
   ],
   "source": [
    "k, n = map(int, input().split())\n",
    "youngsik = []\n",
    "for _ in range(k):\n",
    "    youngsik.append(int(input()))\n",
    "unit = min(youngsik)\n",
    "answer = 0\n",
    "while answer < n:\n",
    "    answer = 0\n",
    "    for i in youngsik:\n",
    "        answer += i//unit\n",
    "    unit -= 1\n",
    "    \n",
    "print(unit+1)"
   ]
  },
  {
   "cell_type": "markdown",
   "id": "invisible-ireland",
   "metadata": {},
   "source": [
    "성공 (이분 탐색)"
   ]
  },
  {
   "cell_type": "code",
   "execution_count": 6,
   "id": "precise-country",
   "metadata": {},
   "outputs": [
    {
     "name": "stdout",
     "output_type": "stream",
     "text": [
      "4 11\n",
      "802\n",
      "743\n",
      "457\n",
      "539\n",
      "200\n"
     ]
    }
   ],
   "source": [
    "k, n = map(int, input().split())\n",
    "youngsik = []\n",
    "for _ in range(k):\n",
    "    youngsik.append(int(input()))\n",
    "start, end = 1, max(youngsik)\n",
    "\n",
    "while start <= end:\n",
    "    mid = (start + end) // 2\n",
    "    answer = 0\n",
    "    for i in youngsik:\n",
    "        answer += i // mid\n",
    "    if answer >= n:\n",
    "        start = mid + 1\n",
    "    else:\n",
    "        end = mid - 1\n",
    "print(end)"
   ]
  }
 ],
 "metadata": {
  "kernelspec": {
   "display_name": "Python 3",
   "language": "python",
   "name": "python3"
  },
  "language_info": {
   "codemirror_mode": {
    "name": "ipython",
    "version": 3
   },
   "file_extension": ".py",
   "mimetype": "text/x-python",
   "name": "python",
   "nbconvert_exporter": "python",
   "pygments_lexer": "ipython3",
   "version": "3.8.5"
  }
 },
 "nbformat": 4,
 "nbformat_minor": 5
}
