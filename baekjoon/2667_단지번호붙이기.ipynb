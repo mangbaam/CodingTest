{
 "cells": [
  {
   "cell_type": "markdown",
   "id": "secure-criticism",
   "metadata": {},
   "source": [
    "https://www.acmicpc.net/problem/2667"
   ]
  },
  {
   "cell_type": "code",
   "execution_count": 38,
   "id": "chronic-corpus",
   "metadata": {},
   "outputs": [
    {
     "name": "stdout",
     "output_type": "stream",
     "text": [
      "5\n",
      "10000\n",
      "10000\n",
      "10000\n",
      "10000\n",
      "11111\n",
      "현재 0, 0 1\n",
      "현재 1, 0 1\n",
      "현재 2, 0 1\n",
      "현재 3, 0 1\n",
      "현재 4, 0 1\n",
      "현재 4, 1 1\n",
      "현재 4, 2 1\n",
      "현재 4, 3 1\n",
      "현재 4, 4 1\n",
      "9\n",
      "1\n",
      "1\n",
      "1\n",
      "1\n",
      "1\n",
      "1\n",
      "1\n",
      "1\n",
      "17\n"
     ]
    }
   ],
   "source": [
    "n = int(input())\n",
    "graph = [input() for _ in range(n)]\n",
    "visited = [[False] * n for _ in range(n)]\n",
    "counts = []\n",
    "for i in range(n):\n",
    "    for j in range(n):\n",
    "        bfs(i, j)\n",
    "print(len(counts))\n",
    "for c in sorted(counts):\n",
    "    print(c)"
   ]
  },
  {
   "cell_type": "code",
   "execution_count": 37,
   "id": "minor-german",
   "metadata": {},
   "outputs": [],
   "source": [
    "from collections import deque\n",
    "\n",
    "def bfs(x, y):\n",
    "    if graph[x][y]=='0': return\n",
    "    print(f'현재 {x}, {y}', graph[x][y])\n",
    "    dx = [1, -1, 0, 0]\n",
    "    dy = [0, 0, -1, 1]\n",
    "    queue = deque([(x, y)])\n",
    "    count = 0\n",
    "    while queue:\n",
    "        for i in range(4):\n",
    "            nx = x + dx[i]\n",
    "            ny = y + dy[i]\n",
    "            if 0 <= nx < n and 0 <= ny < n and not visited[nx][ny] and graph[nx][ny]=='1':\n",
    "                queue.append((nx, ny))\n",
    "        x, y = queue.popleft()\n",
    "        visited[x][y] = True\n",
    "        count += 1\n",
    "    counts.append(count)"
   ]
  },
  {
   "cell_type": "code",
   "execution_count": null,
   "id": "european-description",
   "metadata": {},
   "outputs": [],
   "source": []
  }
 ],
 "metadata": {
  "kernelspec": {
   "display_name": "Python 3",
   "language": "python",
   "name": "python3"
  },
  "language_info": {
   "codemirror_mode": {
    "name": "ipython",
    "version": 3
   },
   "file_extension": ".py",
   "mimetype": "text/x-python",
   "name": "python",
   "nbconvert_exporter": "python",
   "pygments_lexer": "ipython3",
   "version": "3.8.5"
  }
 },
 "nbformat": 4,
 "nbformat_minor": 5
}
