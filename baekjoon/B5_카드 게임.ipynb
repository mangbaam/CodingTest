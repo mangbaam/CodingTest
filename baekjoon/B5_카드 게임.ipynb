{
 "cells": [
  {
   "cell_type": "markdown",
   "id": "orange-opposition",
   "metadata": {},
   "source": [
    "https://www.acmicpc.net/problem/5522"
   ]
  },
  {
   "cell_type": "code",
   "execution_count": 1,
   "id": "breeding-employment",
   "metadata": {},
   "outputs": [
    {
     "name": "stdout",
     "output_type": "stream",
     "text": [
      "1\n",
      "2\n",
      "3\n",
      "4\n",
      "5\n",
      "15\n"
     ]
    }
   ],
   "source": [
    "answer = 0\n",
    "for _ in range(5):\n",
    "    answer += int(input())\n",
    "print(answer)"
   ]
  }
 ],
 "metadata": {
  "kernelspec": {
   "display_name": "Python 3",
   "language": "python",
   "name": "python3"
  },
  "language_info": {
   "codemirror_mode": {
    "name": "ipython",
    "version": 3
   },
   "file_extension": ".py",
   "mimetype": "text/x-python",
   "name": "python",
   "nbconvert_exporter": "python",
   "pygments_lexer": "ipython3",
   "version": "3.8.5"
  }
 },
 "nbformat": 4,
 "nbformat_minor": 5
}
