{
 "cells": [
  {
   "cell_type": "markdown",
   "id": "unlikely-copying",
   "metadata": {},
   "source": [
    "https://www.acmicpc.net/problem/5554"
   ]
  },
  {
   "cell_type": "code",
   "execution_count": 1,
   "id": "spectacular-rabbit",
   "metadata": {},
   "outputs": [
    {
     "name": "stdout",
     "output_type": "stream",
     "text": [
      "31\n",
      "34\n",
      "7\n",
      "151\n",
      "3\n",
      "43\n"
     ]
    }
   ],
   "source": [
    "seconds = 0\n",
    "for _ in range(4):\n",
    "    seconds += int(input())\n",
    "m, s = divmod(seconds, 60)\n",
    "print(m)\n",
    "print(s)"
   ]
  }
 ],
 "metadata": {
  "kernelspec": {
   "display_name": "Python 3",
   "language": "python",
   "name": "python3"
  },
  "language_info": {
   "codemirror_mode": {
    "name": "ipython",
    "version": 3
   },
   "file_extension": ".py",
   "mimetype": "text/x-python",
   "name": "python",
   "nbconvert_exporter": "python",
   "pygments_lexer": "ipython3",
   "version": "3.8.5"
  }
 },
 "nbformat": 4,
 "nbformat_minor": 5
}
