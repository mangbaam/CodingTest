{
 "cells": [
  {
   "cell_type": "markdown",
   "id": "colonial-democracy",
   "metadata": {},
   "source": [
    "https://www.acmicpc.net/problem/11724"
   ]
  },
  {
   "cell_type": "code",
   "execution_count": 2,
   "id": "modified-annotation",
   "metadata": {},
   "outputs": [
    {
     "name": "stdout",
     "output_type": "stream",
     "text": [
      "6 5\n",
      "1 2\n",
      "2 5\n",
      "5 1\n",
      "3 4\n",
      "4 6\n",
      "[[], [2, 5], [1, 5], [4], [3, 6], [2, 1], [4]]\n"
     ]
    }
   ],
   "source": [
    "n, m = map(int, input().split()) # n: 정점수, m: 간선수\n",
    "graph = [[] for _ in range(n+1)]\n",
    "visited = [False for _ in range(n+1)]\n",
    "for _ in range(m):\n",
    "    u, v = map(int, input().split())\n",
    "    graph[u].append(v)\n",
    "    graph[v].append(u)\n",
    "print(graph)\n",
    "\n",
    "stack = []\n",
    "\n",
    "while stack:\n",
    "    if not visited[i]: stack.append(i)\n",
    "    "
   ]
  },
  {
   "cell_type": "code",
   "execution_count": null,
   "id": "digital-voluntary",
   "metadata": {},
   "outputs": [],
   "source": []
  },
  {
   "cell_type": "code",
   "execution_count": null,
   "id": "unauthorized-making",
   "metadata": {},
   "outputs": [],
   "source": []
  }
 ],
 "metadata": {
  "kernelspec": {
   "display_name": "Python 3",
   "language": "python",
   "name": "python3"
  },
  "language_info": {
   "codemirror_mode": {
    "name": "ipython",
    "version": 3
   },
   "file_extension": ".py",
   "mimetype": "text/x-python",
   "name": "python",
   "nbconvert_exporter": "python",
   "pygments_lexer": "ipython3",
   "version": "3.8.5"
  }
 },
 "nbformat": 4,
 "nbformat_minor": 5
}
