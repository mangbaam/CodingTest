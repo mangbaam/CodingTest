{
 "cells": [
  {
   "cell_type": "markdown",
   "id": "personal-permit",
   "metadata": {},
   "source": [
    "https://www.acmicpc.net/problem/15964"
   ]
  },
  {
   "cell_type": "code",
   "execution_count": 1,
   "id": "numerous-breach",
   "metadata": {},
   "outputs": [
    {
     "name": "stdout",
     "output_type": "stream",
     "text": [
      "4 3\n",
      "7\n"
     ]
    }
   ],
   "source": [
    "a, b = map(int, input().split())\n",
    "print((a+b)*(a-b))"
   ]
  }
 ],
 "metadata": {
  "kernelspec": {
   "display_name": "Python 3",
   "language": "python",
   "name": "python3"
  },
  "language_info": {
   "codemirror_mode": {
    "name": "ipython",
    "version": 3
   },
   "file_extension": ".py",
   "mimetype": "text/x-python",
   "name": "python",
   "nbconvert_exporter": "python",
   "pygments_lexer": "ipython3",
   "version": "3.8.5"
  }
 },
 "nbformat": 4,
 "nbformat_minor": 5
}
