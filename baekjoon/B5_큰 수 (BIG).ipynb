{
 "cells": [
  {
   "cell_type": "markdown",
   "id": "celtic-walker",
   "metadata": {},
   "source": [
    "https://www.acmicpc.net/problem/14928"
   ]
  },
  {
   "cell_type": "code",
   "execution_count": 4,
   "id": "numerical-bathroom",
   "metadata": {},
   "outputs": [
    {
     "name": "stdout",
     "output_type": "stream",
     "text": [
      "123456789123456789123456789123456789123456789123456789123456789123456789\n",
      "1313652\n"
     ]
    }
   ],
   "source": [
    "print(int(input())%20000303)"
   ]
  }
 ],
 "metadata": {
  "kernelspec": {
   "display_name": "Python 3",
   "language": "python",
   "name": "python3"
  },
  "language_info": {
   "codemirror_mode": {
    "name": "ipython",
    "version": 3
   },
   "file_extension": ".py",
   "mimetype": "text/x-python",
   "name": "python",
   "nbconvert_exporter": "python",
   "pygments_lexer": "ipython3",
   "version": "3.8.5"
  }
 },
 "nbformat": 4,
 "nbformat_minor": 5
}
