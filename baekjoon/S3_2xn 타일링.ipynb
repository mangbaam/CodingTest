{
 "cells": [
  {
   "cell_type": "markdown",
   "id": "proper-organization",
   "metadata": {},
   "source": [
    "### https://latte-is-horse.tistory.com/245\n",
    "https://www.acmicpc.net/problem/11726"
   ]
  },
  {
   "cell_type": "code",
   "execution_count": 22,
   "id": "underlying-bolivia",
   "metadata": {},
   "outputs": [
    {
     "name": "stdout",
     "output_type": "stream",
     "text": [
      "9\n",
      "55\n"
     ]
    }
   ],
   "source": [
    "def solution(n):\n",
    "    d = [0] * (n+1)\n",
    "    d[0], d[1] = 1, 1\n",
    "    for i in range(2, n+1):\n",
    "        d[i] = (d[i-2] + d[i-1]) % 10007\n",
    "    return d[n]\n",
    "\n",
    "n = int(input())\n",
    "print(solution(n))"
   ]
  }
 ],
 "metadata": {
  "kernelspec": {
   "display_name": "Python 3",
   "language": "python",
   "name": "python3"
  },
  "language_info": {
   "codemirror_mode": {
    "name": "ipython",
    "version": 3
   },
   "file_extension": ".py",
   "mimetype": "text/x-python",
   "name": "python",
   "nbconvert_exporter": "python",
   "pygments_lexer": "ipython3",
   "version": "3.8.5"
  }
 },
 "nbformat": 4,
 "nbformat_minor": 5
}
