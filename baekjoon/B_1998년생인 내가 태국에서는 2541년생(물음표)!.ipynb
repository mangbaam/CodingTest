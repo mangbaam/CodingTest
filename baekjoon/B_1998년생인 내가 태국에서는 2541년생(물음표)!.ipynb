{
 "cells": [
  {
   "cell_type": "markdown",
   "id": "continuous-sandwich",
   "metadata": {},
   "source": [
    "https://www.acmicpc.net/problem/18108"
   ]
  },
  {
   "cell_type": "code",
   "execution_count": 2,
   "id": "refined-brass",
   "metadata": {},
   "outputs": [
    {
     "name": "stdout",
     "output_type": "stream",
     "text": [
      "2541\n",
      "1998\n"
     ]
    }
   ],
   "source": [
    "print(int(input())-543)"
   ]
  }
 ],
 "metadata": {
  "kernelspec": {
   "display_name": "Python 3",
   "language": "python",
   "name": "python3"
  },
  "language_info": {
   "codemirror_mode": {
    "name": "ipython",
    "version": 3
   },
   "file_extension": ".py",
   "mimetype": "text/x-python",
   "name": "python",
   "nbconvert_exporter": "python",
   "pygments_lexer": "ipython3",
   "version": "3.8.5"
  }
 },
 "nbformat": 4,
 "nbformat_minor": 5
}
