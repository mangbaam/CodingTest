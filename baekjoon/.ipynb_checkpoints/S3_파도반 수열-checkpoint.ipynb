{
 "cells": [
  {
   "cell_type": "markdown",
   "id": "extreme-impossible",
   "metadata": {},
   "source": [
    "https://www.acmicpc.net/problem/9461"
   ]
  },
  {
   "cell_type": "code",
   "execution_count": 4,
   "id": "latest-rebecca",
   "metadata": {},
   "outputs": [
    {
     "name": "stdout",
     "output_type": "stream",
     "text": [
      "2\n",
      "6\n",
      "3\n",
      "12\n",
      "16\n"
     ]
    }
   ],
   "source": [
    "d = [1, 1, 1, 2, 2]\n",
    "for i in range(5, 101):\n",
    "    d.append(d[i-5]+d[i-1])\n",
    "\n",
    "t = int(input())\n",
    "for _ in range(t):\n",
    "    print(d[int(input())-1])"
   ]
  }
 ],
 "metadata": {
  "kernelspec": {
   "display_name": "Python 3",
   "language": "python",
   "name": "python3"
  },
  "language_info": {
   "codemirror_mode": {
    "name": "ipython",
    "version": 3
   },
   "file_extension": ".py",
   "mimetype": "text/x-python",
   "name": "python",
   "nbconvert_exporter": "python",
   "pygments_lexer": "ipython3",
   "version": "3.8.5"
  }
 },
 "nbformat": 4,
 "nbformat_minor": 5
}
