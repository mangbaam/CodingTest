{
 "cells": [
  {
   "cell_type": "markdown",
   "id": "resident-pricing",
   "metadata": {},
   "source": [
    "https://www.acmicpc.net/problem/1259"
   ]
  },
  {
   "cell_type": "code",
   "execution_count": 1,
   "id": "virtual-constraint",
   "metadata": {},
   "outputs": [
    {
     "name": "stdout",
     "output_type": "stream",
     "text": [
      "121\n",
      "yes\n",
      "1231\n",
      "no\n",
      "12421\n",
      "yes\n",
      "0\n"
     ]
    }
   ],
   "source": [
    "num = input()\n",
    "while num != \"0\":\n",
    "    if num==num[::-1]: print(\"yes\")\n",
    "    else: print(\"no\")\n",
    "    num = input()"
   ]
  }
 ],
 "metadata": {
  "kernelspec": {
   "display_name": "Python 3",
   "language": "python",
   "name": "python3"
  },
  "language_info": {
   "codemirror_mode": {
    "name": "ipython",
    "version": 3
   },
   "file_extension": ".py",
   "mimetype": "text/x-python",
   "name": "python",
   "nbconvert_exporter": "python",
   "pygments_lexer": "ipython3",
   "version": "3.8.5"
  }
 },
 "nbformat": 4,
 "nbformat_minor": 5
}
