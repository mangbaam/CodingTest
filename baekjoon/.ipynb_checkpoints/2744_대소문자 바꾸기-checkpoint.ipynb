{
 "cells": [
  {
   "cell_type": "markdown",
   "id": "similar-privilege",
   "metadata": {},
   "source": [
    "https://www.acmicpc.net/problem/2744"
   ]
  },
  {
   "cell_type": "code",
   "execution_count": 1,
   "id": "surprising-summer",
   "metadata": {},
   "outputs": [
    {
     "name": "stdout",
     "output_type": "stream",
     "text": [
      "WrongAnswer\n",
      "wRONGaNSWER"
     ]
    }
   ],
   "source": [
    "s = input()\n",
    "for c in s:\n",
    "    if ord(c) in range(ord('a'), ord('z')+1):\n",
    "        print(c.upper(), end='')\n",
    "    elif ord(c) in range(ord('A'), ord('Z')+1):\n",
    "        print(c.lower(), end='')"
   ]
  }
 ],
 "metadata": {
  "kernelspec": {
   "display_name": "Python 3",
   "language": "python",
   "name": "python3"
  },
  "language_info": {
   "codemirror_mode": {
    "name": "ipython",
    "version": 3
   },
   "file_extension": ".py",
   "mimetype": "text/x-python",
   "name": "python",
   "nbconvert_exporter": "python",
   "pygments_lexer": "ipython3",
   "version": "3.8.5"
  }
 },
 "nbformat": 4,
 "nbformat_minor": 5
}
