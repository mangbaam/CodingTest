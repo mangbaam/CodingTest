{
 "cells": [
  {
   "cell_type": "markdown",
   "id": "overhead-bargain",
   "metadata": {},
   "source": [
    "### https://latte-is-horse.tistory.com/241\n",
    "https://www.acmicpc.net/problem/2579"
   ]
  },
  {
   "cell_type": "code",
   "execution_count": 3,
   "id": "introductory-snapshot",
   "metadata": {},
   "outputs": [
    {
     "name": "stdout",
     "output_type": "stream",
     "text": [
      "6\n",
      "10\n",
      "20\n",
      "15\n",
      "25\n",
      "10\n",
      "20\n",
      "[0, 10, 30, 35, 55, 65, 75]\n"
     ]
    }
   ],
   "source": [
    "import sys\n",
    "\n",
    "n = int(input())\n",
    "step = [0]\n",
    "for _ in range(n):\n",
    "    step.append(int(input()))\n",
    "if n <= 2:\n",
    "    print(sum(step))\n",
    "    sys.exit()\n",
    "    \n",
    "d = [0] * (n+1)\n",
    "d[1] = step[1]\n",
    "d[2] = step[1] + step[2]\n",
    "for i in range(3, n+1):\n",
    "    d[i] = step[i] + max(d[i-2], d[i-3]+step[i-1])\n",
    "print(d[n])"
   ]
  }
 ],
 "metadata": {
  "kernelspec": {
   "display_name": "Python 3",
   "language": "python",
   "name": "python3"
  },
  "language_info": {
   "codemirror_mode": {
    "name": "ipython",
    "version": 3
   },
   "file_extension": ".py",
   "mimetype": "text/x-python",
   "name": "python",
   "nbconvert_exporter": "python",
   "pygments_lexer": "ipython3",
   "version": "3.8.5"
  }
 },
 "nbformat": 4,
 "nbformat_minor": 5
}
