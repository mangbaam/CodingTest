{
 "cells": [
  {
   "cell_type": "markdown",
   "id": "vanilla-nirvana",
   "metadata": {},
   "source": [
    "https://www.acmicpc.net/problem/4597"
   ]
  },
  {
   "cell_type": "code",
   "execution_count": 1,
   "id": "wrong-balloon",
   "metadata": {},
   "outputs": [
    {
     "name": "stdout",
     "output_type": "stream",
     "text": [
      "101e\n",
      "1010\n",
      "010010o\n",
      "0100101\n",
      "1e\n",
      "11\n",
      "000e\n",
      "0000\n",
      "110100101o\n",
      "1101001010\n",
      "#\n"
     ]
    }
   ],
   "source": [
    "while True:\n",
    "    s = input()\n",
    "    if s == \"#\": break\n",
    "    parity = s[-1]\n",
    "    count = s.count(\"1\")\n",
    "    if parity == 'e':\n",
    "        if count%2:\n",
    "            print(s[:-1]+\"1\")\n",
    "        else:\n",
    "            print(s[:-1]+\"0\")\n",
    "    elif parity == 'o':\n",
    "        if count%2:\n",
    "            print(s[:-1]+\"0\")\n",
    "        else:\n",
    "            print(s[:-1]+\"1\")"
   ]
  }
 ],
 "metadata": {
  "kernelspec": {
   "display_name": "Python 3",
   "language": "python",
   "name": "python3"
  },
  "language_info": {
   "codemirror_mode": {
    "name": "ipython",
    "version": 3
   },
   "file_extension": ".py",
   "mimetype": "text/x-python",
   "name": "python",
   "nbconvert_exporter": "python",
   "pygments_lexer": "ipython3",
   "version": "3.8.5"
  }
 },
 "nbformat": 4,
 "nbformat_minor": 5
}
