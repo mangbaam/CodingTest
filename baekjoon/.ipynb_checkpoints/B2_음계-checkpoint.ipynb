{
 "cells": [
  {
   "cell_type": "markdown",
   "id": "incomplete-underwear",
   "metadata": {},
   "source": [
    "https://www.acmicpc.net/problem/2920"
   ]
  },
  {
   "cell_type": "code",
   "execution_count": 4,
   "id": "light-dominant",
   "metadata": {},
   "outputs": [
    {
     "name": "stdout",
     "output_type": "stream",
     "text": [
      "8 1 7 2 6 3 5 4\n",
      "mixed\n"
     ]
    }
   ],
   "source": [
    "play = input()\n",
    "print(\"ascending\") if play==\"1 2 3 4 5 6 7 8\" else print(\"descending\") if play==\"8 7 6 5 4 3 2 1\" else print(\"mixed\")"
   ]
  }
 ],
 "metadata": {
  "kernelspec": {
   "display_name": "Python 3",
   "language": "python",
   "name": "python3"
  },
  "language_info": {
   "codemirror_mode": {
    "name": "ipython",
    "version": 3
   },
   "file_extension": ".py",
   "mimetype": "text/x-python",
   "name": "python",
   "nbconvert_exporter": "python",
   "pygments_lexer": "ipython3",
   "version": "3.8.5"
  }
 },
 "nbformat": 4,
 "nbformat_minor": 5
}
