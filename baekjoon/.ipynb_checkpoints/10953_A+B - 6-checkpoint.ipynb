{
 "cells": [
  {
   "cell_type": "markdown",
   "id": "emotional-store",
   "metadata": {},
   "source": [
    "https://www.acmicpc.net/problem/10953"
   ]
  },
  {
   "cell_type": "code",
   "execution_count": 2,
   "id": "quick-insert",
   "metadata": {},
   "outputs": [
    {
     "name": "stdout",
     "output_type": "stream",
     "text": [
      "5\n",
      "1,1\n",
      "2,3\n",
      "3,4\n",
      "9,8\n",
      "5,2\n",
      "2\n",
      "5\n",
      "7\n",
      "17\n",
      "7\n"
     ]
    }
   ],
   "source": [
    "t = int(input())\n",
    "li = []\n",
    "for i in range(t):\n",
    "    li.append(input())\n",
    "\n",
    "for i in li:\n",
    "    a, b = map(int, i.split(\",\"))\n",
    "    print(a + b)"
   ]
  },
  {
   "cell_type": "code",
   "execution_count": null,
   "id": "anonymous-teacher",
   "metadata": {},
   "outputs": [],
   "source": []
  }
 ],
 "metadata": {
  "kernelspec": {
   "display_name": "Python 3",
   "language": "python",
   "name": "python3"
  },
  "language_info": {
   "codemirror_mode": {
    "name": "ipython",
    "version": 3
   },
   "file_extension": ".py",
   "mimetype": "text/x-python",
   "name": "python",
   "nbconvert_exporter": "python",
   "pygments_lexer": "ipython3",
   "version": "3.8.5"
  }
 },
 "nbformat": 4,
 "nbformat_minor": 5
}
