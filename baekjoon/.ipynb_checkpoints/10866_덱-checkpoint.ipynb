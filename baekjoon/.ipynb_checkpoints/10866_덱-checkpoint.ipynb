{
 "cells": [
  {
   "cell_type": "markdown",
   "id": "lesser-franklin",
   "metadata": {},
   "source": [
    "https://www.acmicpc.net/problem/10866"
   ]
  },
  {
   "cell_type": "code",
   "execution_count": 2,
   "id": "limiting-cartridge",
   "metadata": {},
   "outputs": [
    {
     "name": "stdout",
     "output_type": "stream",
     "text": [
      "15\n",
      "push_back 1\n",
      "push_front 2\n",
      "front\n",
      "2\n",
      "back\n",
      "1\n",
      "size\n",
      "2\n",
      "empty\n",
      "0\n",
      "pop_front\n",
      "2\n",
      "pop_back\n",
      "1\n",
      "pop_front\n",
      "-1\n",
      "size\n",
      "0\n",
      "empty\n",
      "1\n",
      "pop_back\n",
      "-1\n",
      "push_front 3\n",
      "empty\n",
      "0\n",
      "front\n",
      "3\n"
     ]
    }
   ],
   "source": [
    "from collections import deque\n",
    "import sys\n",
    "\n",
    "queue = deque()\n",
    "n = int(sys.stdin.readline())\n",
    "\n",
    "for _ in range(n):\n",
    "    cmd = sys.stdin.readline().split()\n",
    "    \n",
    "    if cmd[0] == \"push_front\":\n",
    "        queue.appendleft(cmd[1])\n",
    "    elif cmd[0] == \"push_back\":\n",
    "        queue.append(cmd[1])\n",
    "    elif cmd[0] == \"pop_front\":\n",
    "        if queue: print(queue.popleft())\n",
    "        else: print(-1)\n",
    "    elif cmd[0] == \"pop_back\":\n",
    "        if queue: print(queue.pop())\n",
    "        else: print(-1)\n",
    "    elif cmd[0] == \"size\":\n",
    "        print(len(queue))\n",
    "    elif cmd[0] == \"empty\":\n",
    "        if queue: print(0)\n",
    "        else: print(1)\n",
    "    elif cmd[0] == \"front\":\n",
    "        if queue: print(queue[0])\n",
    "        else: print(-1)\n",
    "    elif cmd[0] == \"back\":\n",
    "        if queue: print(queue[-1])\n",
    "        else: print(-1)"
   ]
  }
 ],
 "metadata": {
  "kernelspec": {
   "display_name": "Python 3",
   "language": "python",
   "name": "python3"
  },
  "language_info": {
   "codemirror_mode": {
    "name": "ipython",
    "version": 3
   },
   "file_extension": ".py",
   "mimetype": "text/x-python",
   "name": "python",
   "nbconvert_exporter": "python",
   "pygments_lexer": "ipython3",
   "version": "3.8.5"
  }
 },
 "nbformat": 4,
 "nbformat_minor": 5
}
