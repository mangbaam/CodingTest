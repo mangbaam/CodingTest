{
 "cells": [
  {
   "cell_type": "markdown",
   "id": "internal-ground",
   "metadata": {},
   "source": [
    "https://www.acmicpc.net/problem/2703"
   ]
  },
  {
   "cell_type": "code",
   "execution_count": 5,
   "id": "ahead-beatles",
   "metadata": {},
   "outputs": [
    {
     "name": "stdout",
     "output_type": "stream",
     "text": [
      "2\n",
      "HPC PJVYMIY\n",
      "BLMRGJIASOPZEFDCKWYHUNXQTV\n",
      "ACM CONTEST\n",
      "FDY GAI BG UKMY\n",
      "KIMHOTSQYRLCUZPAGWJNBVDXEF\n",
      "THE SKY IS BLUE\n"
     ]
    }
   ],
   "source": [
    "import string\n",
    "alpha = list(string.ascii_uppercase)\n",
    "t = int(input())\n",
    "for i in range(t):\n",
    "    message = input()\n",
    "    rule = list(input())\n",
    "    key = {alpha[i]:rule[i] for i in range(len(alpha)) }\n",
    "    for c in message:\n",
    "        if c.isalpha():\n",
    "            print(key[c], end='')\n",
    "        else:\n",
    "            print(c, end='')\n",
    "    print()"
   ]
  },
  {
   "cell_type": "code",
   "execution_count": null,
   "id": "australian-twins",
   "metadata": {},
   "outputs": [],
   "source": []
  }
 ],
 "metadata": {
  "kernelspec": {
   "display_name": "Python 3",
   "language": "python",
   "name": "python3"
  }
 },
 "nbformat": 4,
 "nbformat_minor": 5
}
