{
 "cells": [
  {
   "cell_type": "markdown",
   "id": "induced-swaziland",
   "metadata": {},
   "source": [
    "https://www.acmicpc.net/problem/20540"
   ]
  },
  {
   "cell_type": "code",
   "execution_count": 5,
   "id": "aquatic-badge",
   "metadata": {},
   "outputs": [
    {
     "name": "stdout",
     "output_type": "stream",
     "text": [
      "INFP\n",
      "ESTJ\n"
     ]
    }
   ],
   "source": [
    "mbti = input()\n",
    "answer = \"\"\n",
    "answer += \"E\" if mbti[0] == 'I' else 'I'\n",
    "answer += \"S\" if mbti[1] == 'N' else 'N'\n",
    "answer += \"T\" if mbti[2] == 'F' else 'F'\n",
    "answer += \"J\" if mbti[3] == 'P' else 'P'\n",
    "print(answer)"
   ]
  },
  {
   "cell_type": "code",
   "execution_count": null,
   "id": "proof-constitution",
   "metadata": {},
   "outputs": [],
   "source": []
  }
 ],
 "metadata": {
  "kernelspec": {
   "display_name": "Python 3",
   "language": "python",
   "name": "python3"
  },
  "language_info": {
   "codemirror_mode": {
    "name": "ipython",
    "version": 3
   },
   "file_extension": ".py",
   "mimetype": "text/x-python",
   "name": "python",
   "nbconvert_exporter": "python",
   "pygments_lexer": "ipython3",
   "version": "3.8.5"
  }
 },
 "nbformat": 4,
 "nbformat_minor": 5
}
