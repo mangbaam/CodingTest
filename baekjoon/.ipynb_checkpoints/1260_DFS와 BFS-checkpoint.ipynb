{
 "cells": [
  {
   "cell_type": "code",
   "execution_count": 39,
   "id": "temporal-florida",
   "metadata": {},
   "outputs": [
    {
     "name": "stdout",
     "output_type": "stream",
     "text": [
      "4 5 1\n",
      "1 2\n",
      "1 3\n",
      "1 4\n",
      "2 4\n",
      "3 4\n",
      "[[], [2, 3, 4], [1, 4], [1, 4], [1, 2, 3]]\n",
      "\n",
      "1 2 4 3 \n",
      "1 2 3 4 "
     ]
    }
   ],
   "source": [
    "n, m, v = map(int, input().split())\n",
    "graph = [[] for _ in range(n+1)]\n",
    "visited = [False] * (n+1)\n",
    "for _ in range(m):\n",
    "    root, leaf = map(int, input().split())\n",
    "    graph[root].append(leaf) # 무방향 그래프\n",
    "    graph[leaf].append(root) # 서로 추가해준다\n",
    "graph = [sorted(set(x)) for x in graph] # 중복 제거 후 오름차순 정렬\n",
    "print(graph)\n",
    "print()\n",
    "dfs(graph, v)\n",
    "print()\n",
    "bfs(graph, v)"
   ]
  },
  {
   "cell_type": "code",
   "execution_count": 38,
   "id": "smoking-forth",
   "metadata": {},
   "outputs": [],
   "source": [
    "from collections import deque\n",
    "def bfs(graph, start):\n",
    "    visited_bfs = [False] * (n+1)\n",
    "    queue = deque([start])\n",
    "    visited_bfs[start] = True\n",
    "    while queue:\n",
    "        x = queue.popleft()\n",
    "        print(x, end=' ')\n",
    "        for i in graph[x]:\n",
    "            if not visited_bfs[i]: queue.append(i)\n",
    "            visited_bfs[i] = True"
   ]
  },
  {
   "cell_type": "code",
   "execution_count": 31,
   "id": "inappropriate-catalyst",
   "metadata": {},
   "outputs": [],
   "source": [
    "def dfs(graph, start):\n",
    "    visited[start] = True\n",
    "    print(start, end=' ')\n",
    "    for i in graph[start]:\n",
    "        if not visited[i]:\n",
    "            dfs(graph, i)"
   ]
  },
  {
   "cell_type": "code",
   "execution_count": null,
   "id": "stretch-hughes",
   "metadata": {},
   "outputs": [],
   "source": []
  }
 ],
 "metadata": {
  "kernelspec": {
   "display_name": "Python 3",
   "language": "python",
   "name": "python3"
  },
  "language_info": {
   "codemirror_mode": {
    "name": "ipython",
    "version": 3
   },
   "file_extension": ".py",
   "mimetype": "text/x-python",
   "name": "python",
   "nbconvert_exporter": "python",
   "pygments_lexer": "ipython3",
   "version": "3.8.5"
  }
 },
 "nbformat": 4,
 "nbformat_minor": 5
}
