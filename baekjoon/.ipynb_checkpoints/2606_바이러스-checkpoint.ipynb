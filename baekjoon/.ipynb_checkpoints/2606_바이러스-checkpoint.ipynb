{
 "cells": [
  {
   "cell_type": "markdown",
   "id": "compressed-cowboy",
   "metadata": {},
   "source": [
    "https://www.acmicpc.net/problem/2606"
   ]
  },
  {
   "cell_type": "code",
   "execution_count": 21,
   "id": "organizational-blank",
   "metadata": {},
   "outputs": [
    {
     "name": "stdout",
     "output_type": "stream",
     "text": [
      "7\n",
      "6\n",
      "1 2\n",
      "2 3\n",
      "1 5\n",
      "5 6\n",
      "6 7\n",
      "3 4\n",
      "6\n"
     ]
    }
   ],
   "source": [
    "from collections import deque\n",
    "\n",
    "computers = int(input())\n",
    "n = int(input())\n",
    "graph = [[] for _ in range(1010)]\n",
    "for _ in range(n):\n",
    "    a, b = map(int, input().split())\n",
    "    graph[a].append(b)\n",
    "    graph[b].append(a)\n",
    "graph = [sorted(set(v)) for v in graph]\n",
    "visited = [False] * 1010\n",
    "\n",
    "answer = 0\n",
    "\n",
    "queue = deque([1])\n",
    "visited[1] = True\n",
    "while queue:\n",
    "    v = graph[queue.popleft()]\n",
    "    for i in v:\n",
    "        if not visited[i]:\n",
    "            answer += 1\n",
    "            queue.append(i)\n",
    "            visited[i] = True\n",
    "            \n",
    "print(answer)"
   ]
  }
 ],
 "metadata": {
  "kernelspec": {
   "display_name": "Python 3",
   "language": "python",
   "name": "python3"
  },
  "language_info": {
   "codemirror_mode": {
    "name": "ipython",
    "version": 3
   },
   "file_extension": ".py",
   "mimetype": "text/x-python",
   "name": "python",
   "nbconvert_exporter": "python",
   "pygments_lexer": "ipython3",
   "version": "3.8.5"
  }
 },
 "nbformat": 4,
 "nbformat_minor": 5
}
