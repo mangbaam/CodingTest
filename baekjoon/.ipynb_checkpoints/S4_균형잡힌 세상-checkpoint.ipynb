{
 "cells": [
  {
   "cell_type": "markdown",
   "id": "written-policy",
   "metadata": {},
   "source": [
    "https://www.acmicpc.net/problem/4949"
   ]
  },
  {
   "cell_type": "code",
   "execution_count": 4,
   "id": "mysterious-longitude",
   "metadata": {},
   "outputs": [
    {
     "name": "stdout",
     "output_type": "stream",
     "text": [
      "So when I die (the [first] I will see in (heaven) is a score list).\n",
      "yes\n",
      "[ first in ] ( first out ).\n",
      "yes\n",
      "Half Moon tonight (At least it is better than no Moon at all].\n",
      "no\n",
      "A rope may form )( a trail in a maze.\n",
      "no\n",
      "Help( I[m being held prisoner in a fortune cookie factory)].\n",
      "no\n",
      "([ (([( [ ] ) ( ) (( ))] )) ]).\n",
      "yes\n",
      " .\n",
      "yes\n",
      ".\n"
     ]
    }
   ],
   "source": [
    "sentence = input()\n",
    "while sentence != '.':\n",
    "    stack = []\n",
    "    for c in sentence:\n",
    "        if c in ('[', '('):\n",
    "            stack.append(c)\n",
    "        elif c == ']':\n",
    "            if not stack or stack.pop() != '[':\n",
    "                print(\"no\")\n",
    "                break\n",
    "        elif c == ')':\n",
    "            if not stack or stack.pop() != '(':\n",
    "                print(\"no\")\n",
    "                break\n",
    "    else:\n",
    "        if stack: print(\"no\")\n",
    "        else: print(\"yes\")\n",
    "    sentence = input()"
   ]
  }
 ],
 "metadata": {
  "kernelspec": {
   "display_name": "Python 3",
   "language": "python",
   "name": "python3"
  },
  "language_info": {
   "codemirror_mode": {
    "name": "ipython",
    "version": 3
   },
   "file_extension": ".py",
   "mimetype": "text/x-python",
   "name": "python",
   "nbconvert_exporter": "python",
   "pygments_lexer": "ipython3",
   "version": "3.8.5"
  }
 },
 "nbformat": 4,
 "nbformat_minor": 5
}
