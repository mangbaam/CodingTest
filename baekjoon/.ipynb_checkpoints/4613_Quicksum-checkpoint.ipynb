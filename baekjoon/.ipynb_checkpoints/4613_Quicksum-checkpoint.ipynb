{
 "cells": [
  {
   "cell_type": "markdown",
   "id": "increasing-columbus",
   "metadata": {},
   "source": [
    "https://www.acmicpc.net/problem/4613"
   ]
  },
  {
   "cell_type": "code",
   "execution_count": 2,
   "id": "premium-tissue",
   "metadata": {},
   "outputs": [
    {
     "name": "stdout",
     "output_type": "stream",
     "text": [
      "ACM\n",
      "46\n",
      "MID CENTRAL\n",
      "650\n",
      "REGIONAL PROGRAMMING CONTEST\n",
      "4690\n",
      "ACN\n",
      "49\n",
      "A C M\n",
      "75\n",
      "ABC\n",
      "14\n",
      "BBC\n",
      "15\n",
      "#\n"
     ]
    }
   ],
   "source": [
    "while True:\n",
    "    s = input()\n",
    "    if s == \"#\": break\n",
    "    total = 0\n",
    "    for i, c in enumerate(s):\n",
    "        if c == ' ': continue\n",
    "        num = ord(c) - ord('A') + 1\n",
    "        total += num * (i + 1)\n",
    "    print(total)"
   ]
  },
  {
   "cell_type": "code",
   "execution_count": null,
   "id": "judicial-freeware",
   "metadata": {},
   "outputs": [],
   "source": []
  }
 ],
 "metadata": {
  "kernelspec": {
   "display_name": "Python 3",
   "language": "python",
   "name": "python3"
  },
  "language_info": {
   "codemirror_mode": {
    "name": "ipython",
    "version": 3
   },
   "file_extension": ".py",
   "mimetype": "text/x-python",
   "name": "python",
   "nbconvert_exporter": "python",
   "pygments_lexer": "ipython3",
   "version": "3.8.5"
  }
 },
 "nbformat": 4,
 "nbformat_minor": 5
}
