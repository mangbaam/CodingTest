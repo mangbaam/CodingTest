{
 "cells": [
  {
   "cell_type": "markdown",
   "id": "blessed-package",
   "metadata": {},
   "source": [
    "https://www.acmicpc.net/problem/1018"
   ]
  },
  {
   "cell_type": "code",
   "execution_count": 15,
   "id": "innovative-session",
   "metadata": {},
   "outputs": [
    {
     "name": "stdout",
     "output_type": "stream",
     "text": [
      "WBWBWBWB\n",
      "BWBWBWBW\n",
      "WBWBWBWB\n",
      "BWBBBWBW\n",
      "WBWBWBWB\n",
      "BWBWBWBW\n",
      "WBWBWBWB\n",
      "BWBWBWBW\n",
      "1\n"
     ]
    }
   ],
   "source": [
    "def countdiff(str1, str2):\n",
    "    answer = 0\n",
    "    for i in range(len(str1)):\n",
    "        if str1[i]!=str2[i]: answer+=1\n",
    "    return answer\n",
    "\n",
    "black = [\"BWBWBWBW\",\"WBWBWBWB\"]\n",
    "white = [\"WBWBWBWB\",\"BWBWBWBW\"]\n",
    "n, m = map(int, input().split())\n",
    "board = [input() for _ in range(n)]\n",
    "\n",
    "# n, m = 8, 8\n",
    "# board = [\n",
    "#     \"BBBBBBBBWBWBW\",\n",
    "# \"BBBBBBBBBWBWB\",\n",
    "# \"BBBBBBBBWBWBW\",\n",
    "# \"BBBBBBBBBWBWB\",\n",
    "# \"BBBBBBBBWBWBW\",\n",
    "# \"BBBBBBBBBWBWB\",\n",
    "# \"BBBBBBBBWBWBW\",\n",
    "# \"BBBBBBBBBWBWB\",\n",
    "# \"WWWWWWWWWWBWB\",\n",
    "# \"WWWWWWWWWWBWB\"\n",
    "# ]\n",
    "\n",
    "answer = 64\n",
    "for startRow in range(n-7):\n",
    "    for col in range(m-7):\n",
    "        blackDiff, whiteDiff = 0, 0\n",
    "        for row in range(8):\n",
    "            print(board[row][col:col+8])\n",
    "            blackDiff += countdiff(board[startRow+row][col:col+8], black[row%2])\n",
    "            whiteDiff += countdiff(board[startRow+row][col:col+8], white[row%2])\n",
    "        answer = min(answer, blackDiff, whiteDiff)\n",
    "print(answer)"
   ]
  }
 ],
 "metadata": {
  "kernelspec": {
   "display_name": "Python 3",
   "language": "python",
   "name": "python3"
  },
  "language_info": {
   "codemirror_mode": {
    "name": "ipython",
    "version": 3
   },
   "file_extension": ".py",
   "mimetype": "text/x-python",
   "name": "python",
   "nbconvert_exporter": "python",
   "pygments_lexer": "ipython3",
   "version": "3.8.5"
  }
 },
 "nbformat": 4,
 "nbformat_minor": 5
}
