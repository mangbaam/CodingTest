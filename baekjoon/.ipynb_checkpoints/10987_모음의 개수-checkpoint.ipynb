{
 "cells": [
  {
   "cell_type": "markdown",
   "id": "clinical-geneva",
   "metadata": {},
   "source": [
    "https://www.acmicpc.net/problem/10987"
   ]
  },
  {
   "cell_type": "code",
   "execution_count": 1,
   "id": "distinguished-brighton",
   "metadata": {},
   "outputs": [
    {
     "name": "stdout",
     "output_type": "stream",
     "text": [
      "baekjoon\n",
      "4\n"
     ]
    }
   ],
   "source": [
    "answer = 0\n",
    "word = input()\n",
    "for w in word:\n",
    "    if w in ('a','e','i','o','u'):\n",
    "        answer += 1\n",
    "        \n",
    "print(answer)"
   ]
  },
  {
   "cell_type": "code",
   "execution_count": null,
   "id": "third-facility",
   "metadata": {},
   "outputs": [],
   "source": []
  }
 ],
 "metadata": {
  "kernelspec": {
   "display_name": "Python 3",
   "language": "python",
   "name": "python3"
  },
  "language_info": {
   "codemirror_mode": {
    "name": "ipython",
    "version": 3
   },
   "file_extension": ".py",
   "mimetype": "text/x-python",
   "name": "python",
   "nbconvert_exporter": "python",
   "pygments_lexer": "ipython3",
   "version": "3.8.5"
  }
 },
 "nbformat": 4,
 "nbformat_minor": 5
}
