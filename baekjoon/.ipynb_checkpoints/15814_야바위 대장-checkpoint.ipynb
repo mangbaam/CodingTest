{
 "cells": [
  {
   "cell_type": "markdown",
   "id": "verified-average",
   "metadata": {},
   "source": [
    "https://www.acmicpc.net/problem/15814"
   ]
  },
  {
   "cell_type": "code",
   "execution_count": 2,
   "id": "incident-father",
   "metadata": {},
   "outputs": [
    {
     "name": "stdout",
     "output_type": "stream",
     "text": [
      "Youngmaan-good\n",
      "2\n",
      "1 3\n",
      "9 2\n",
      "Yn-ogmaanugood\n"
     ]
    }
   ],
   "source": [
    "s = list(input())\n",
    "t = int(input())\n",
    "for i in range(t):\n",
    "    n1, n2 = map(int, input().split())\n",
    "    s[n1], s[n2] = s[n2], s[n1]\n",
    "print(''.join(s))"
   ]
  },
  {
   "cell_type": "code",
   "execution_count": null,
   "id": "special-monday",
   "metadata": {},
   "outputs": [],
   "source": []
  }
 ],
 "metadata": {
  "kernelspec": {
   "display_name": "Python 3",
   "language": "python",
   "name": "python3"
  },
  "language_info": {
   "codemirror_mode": {
    "name": "ipython",
    "version": 3
   },
   "file_extension": ".py",
   "mimetype": "text/x-python",
   "name": "python",
   "nbconvert_exporter": "python",
   "pygments_lexer": "ipython3",
   "version": "3.8.5"
  }
 },
 "nbformat": 4,
 "nbformat_minor": 5
}
