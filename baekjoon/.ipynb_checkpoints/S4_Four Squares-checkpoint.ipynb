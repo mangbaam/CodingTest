{
 "cells": [
  {
   "cell_type": "markdown",
   "id": "psychological-proxy",
   "metadata": {},
   "source": [
    "### https://latte-is-horse.tistory.com/239\n",
    "https://www.acmicpc.net/problem/17626"
   ]
  },
  {
   "cell_type": "code",
   "execution_count": 20,
   "id": "matched-effects",
   "metadata": {
    "scrolled": false
   },
   "outputs": [
    {
     "name": "stdout",
     "output_type": "stream",
     "text": [
      "50000\n",
      "2\n"
     ]
    }
   ],
   "source": [
    "def four_squares(n):\n",
    "    d = [10] * (n+1)\n",
    "    d[1] = 1\n",
    "    for i in range(2, n+1):\n",
    "        if (i**0.5).is_integer(): d[i]=1; continue\n",
    "        for j in range(1, int(i ** 0.5) + 1):\n",
    "            d[i] = min(d[i], d[i-j**2]+1)\n",
    "    return d[n]\n",
    "print(four_squares(int(input())))"
   ]
  }
 ],
 "metadata": {
  "kernelspec": {
   "display_name": "Python 3",
   "language": "python",
   "name": "python3"
  },
  "language_info": {
   "codemirror_mode": {
    "name": "ipython",
    "version": 3
   },
   "file_extension": ".py",
   "mimetype": "text/x-python",
   "name": "python",
   "nbconvert_exporter": "python",
   "pygments_lexer": "ipython3",
   "version": "3.8.5"
  }
 },
 "nbformat": 4,
 "nbformat_minor": 5
}
