{
 "cells": [
  {
   "cell_type": "markdown",
   "id": "acquired-retailer",
   "metadata": {},
   "source": [
    "https://www.acmicpc.net/problem/1978"
   ]
  },
  {
   "cell_type": "code",
   "execution_count": 5,
   "id": "instrumental-grove",
   "metadata": {},
   "outputs": [
    {
     "name": "stdout",
     "output_type": "stream",
     "text": [
      "4\n",
      "1 3 5 7\n",
      "3\n"
     ]
    }
   ],
   "source": [
    "def getSieve():\n",
    "    n = 1000\n",
    "    sieve = [True] * (n+1)\n",
    "    sieve[0], sieve[1] = False, False\n",
    "    if n < 2: return sieve\n",
    "    \n",
    "    for i in range(2, int(n**(1/2))+1):\n",
    "        for j in range(i+i, n+1, i):\n",
    "            sieve[j] = False\n",
    "    return sieve\n",
    "\n",
    "sieve = getSieve()\n",
    "n = int(input())\n",
    "answer = 0\n",
    "for test in map(int, input().split()):\n",
    "    if sieve[test]: answer += 1\n",
    "print(answer)"
   ]
  }
 ],
 "metadata": {
  "kernelspec": {
   "display_name": "Python 3",
   "language": "python",
   "name": "python3"
  },
  "language_info": {
   "codemirror_mode": {
    "name": "ipython",
    "version": 3
   },
   "file_extension": ".py",
   "mimetype": "text/x-python",
   "name": "python",
   "nbconvert_exporter": "python",
   "pygments_lexer": "ipython3",
   "version": "3.8.5"
  }
 },
 "nbformat": 4,
 "nbformat_minor": 5
}
