{
 "cells": [
  {
   "cell_type": "markdown",
   "id": "creative-tourism",
   "metadata": {},
   "source": [
    "https://www.acmicpc.net/problem/11050"
   ]
  },
  {
   "cell_type": "code",
   "execution_count": 19,
   "id": "adult-sunglasses",
   "metadata": {},
   "outputs": [
    {
     "name": "stdout",
     "output_type": "stream",
     "text": [
      "10 10\n",
      "0\n"
     ]
    }
   ],
   "source": [
    "from functools import reduce\n",
    "def solution():\n",
    "    n, k = map(int, input().split())\n",
    "    if k in (0, n): return 1\n",
    "    \n",
    "    a, b = max(k, n-k), min(k, n-k)\n",
    "    return factorial(a+1, n) // factorial(1, b)\n",
    "    \n",
    "def factorial(a, b):\n",
    "    return reduce(lambda x, y: x*y, range(a, b+1))\n",
    "\n",
    "print(solution())"
   ]
  },
  {
   "cell_type": "code",
   "execution_count": 37,
   "id": "composite-colors",
   "metadata": {},
   "outputs": [
    {
     "name": "stdout",
     "output_type": "stream",
     "text": [
      "1 1\n",
      "1\n"
     ]
    }
   ],
   "source": [
    "from functools import reduce\n",
    "def solution():\n",
    "    n, k = map(int, input().split())\n",
    "    if k in (0, n): return 1\n",
    "    return factorial(n) // (factorial(k) * factorial(n-k))\n",
    "    \n",
    "def factorial(n):\n",
    "    return reduce(lambda x, y: x*y, range(1, n+1))\n",
    "\n",
    "print(solution())"
   ]
  }
 ],
 "metadata": {
  "kernelspec": {
   "display_name": "Python 3",
   "language": "python",
   "name": "python3"
  },
  "language_info": {
   "codemirror_mode": {
    "name": "ipython",
    "version": 3
   },
   "file_extension": ".py",
   "mimetype": "text/x-python",
   "name": "python",
   "nbconvert_exporter": "python",
   "pygments_lexer": "ipython3",
   "version": "3.8.5"
  }
 },
 "nbformat": 4,
 "nbformat_minor": 5
}
