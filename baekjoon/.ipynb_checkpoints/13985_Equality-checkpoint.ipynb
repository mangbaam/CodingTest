{
 "cells": [
  {
   "cell_type": "markdown",
   "id": "fleet-anniversary",
   "metadata": {},
   "source": [
    "https://www.acmicpc.net/problem/13985"
   ]
  },
  {
   "cell_type": "code",
   "execution_count": 2,
   "id": "economic-software",
   "metadata": {},
   "outputs": [
    {
     "name": "stdout",
     "output_type": "stream",
     "text": [
      "2 + 2 = 5\n",
      "NO\n"
     ]
    }
   ],
   "source": [
    "exp = input()\n",
    "if int(exp[0]) + int(exp[4]) == int(exp[-1]):\n",
    "    print(\"YES\")\n",
    "else:\n",
    "    print(\"NO\")"
   ]
  }
 ],
 "metadata": {
  "kernelspec": {
   "display_name": "Python 3",
   "language": "python",
   "name": "python3"
  },
  "language_info": {
   "codemirror_mode": {
    "name": "ipython",
    "version": 3
   },
   "file_extension": ".py",
   "mimetype": "text/x-python",
   "name": "python",
   "nbconvert_exporter": "python",
   "pygments_lexer": "ipython3",
   "version": "3.8.5"
  }
 },
 "nbformat": 4,
 "nbformat_minor": 5
}
