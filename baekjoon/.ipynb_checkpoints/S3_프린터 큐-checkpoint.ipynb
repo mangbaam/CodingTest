{
 "cells": [
  {
   "cell_type": "markdown",
   "id": "parliamentary-equality",
   "metadata": {},
   "source": [
    "https://www.acmicpc.net/problem/1966"
   ]
  },
  {
   "cell_type": "code",
   "execution_count": 17,
   "id": "positive-reducing",
   "metadata": {},
   "outputs": [
    {
     "name": "stdout",
     "output_type": "stream",
     "text": [
      "3\n",
      "1 0\n",
      "5\n",
      "1\n",
      "4 2\n",
      "1 2 3 4\n",
      "2\n",
      "6 0\n",
      "1 1 9 1 1 1\n",
      "5\n"
     ]
    }
   ],
   "source": [
    "import heapq\n",
    "from collections import deque\n",
    "\n",
    "t = int(input())\n",
    "for _ in range(t):\n",
    "    n, target = map(int, input().split())\n",
    "    priorities = list(map(int, input().split()))\n",
    "    \n",
    "    # 최대힙 생성\n",
    "    h = [-i for i in priorities]\n",
    "    heapq.heapify(h)\n",
    "    \n",
    "    # 인덱스 부착\n",
    "    priorities = [(i, v) for i, v in enumerate(priorities)]\n",
    "    \n",
    "    queue = deque(priorities)\n",
    "    \n",
    "    count = 0 # 제거 횟수\n",
    "    while True:\n",
    "        # 최대 우선순위 (제거 대상)\n",
    "        top = -heapq.heappop(h)    \n",
    "        \n",
    "        # 우선순위 높은 것 제거\n",
    "        while top != queue[0][1]:\n",
    "            v = queue.popleft()\n",
    "            queue.append(v)\n",
    "        removed = queue.popleft()\n",
    "        count += 1\n",
    "        \n",
    "        # 제거된 것이 target인지 확인\n",
    "        if removed[0] == target:\n",
    "            print(count)\n",
    "            break"
   ]
  }
 ],
 "metadata": {
  "kernelspec": {
   "display_name": "Python 3",
   "language": "python",
   "name": "python3"
  },
  "language_info": {
   "codemirror_mode": {
    "name": "ipython",
    "version": 3
   },
   "file_extension": ".py",
   "mimetype": "text/x-python",
   "name": "python",
   "nbconvert_exporter": "python",
   "pygments_lexer": "ipython3",
   "version": "3.8.5"
  }
 },
 "nbformat": 4,
 "nbformat_minor": 5
}
