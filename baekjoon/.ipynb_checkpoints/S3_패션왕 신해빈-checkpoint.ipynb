{
 "cells": [
  {
   "cell_type": "markdown",
   "id": "revised-paintball",
   "metadata": {},
   "source": [
    "https://www.acmicpc.net/problem/9375"
   ]
  },
  {
   "cell_type": "code",
   "execution_count": 4,
   "id": "engaging-cassette",
   "metadata": {},
   "outputs": [
    {
     "name": "stdout",
     "output_type": "stream",
     "text": [
      "2\n",
      "3\n",
      "hat headgear\n",
      "sungalsses eyewear\n",
      "turban headgear\n",
      "5\n",
      "3\n",
      "mask face\n",
      "sungalsses face\n",
      "makeup face\n",
      "3\n"
     ]
    }
   ],
   "source": [
    "t = int(input())\n",
    "for _ in range(t):\n",
    "    clothes = {}\n",
    "    for _ in range(int(input())):\n",
    "        name, category = input().split()\n",
    "        if category in clothes:\n",
    "            clothes[category] += 1\n",
    "        else:\n",
    "            clothes[category] = 2\n",
    "    answer = 1\n",
    "    for count in clothes.values():\n",
    "        answer *= count\n",
    "    print(answer - 1)"
   ]
  }
 ],
 "metadata": {
  "kernelspec": {
   "display_name": "Python 3",
   "language": "python",
   "name": "python3"
  },
  "language_info": {
   "codemirror_mode": {
    "name": "ipython",
    "version": 3
   },
   "file_extension": ".py",
   "mimetype": "text/x-python",
   "name": "python",
   "nbconvert_exporter": "python",
   "pygments_lexer": "ipython3",
   "version": "3.8.5"
  }
 },
 "nbformat": 4,
 "nbformat_minor": 5
}
