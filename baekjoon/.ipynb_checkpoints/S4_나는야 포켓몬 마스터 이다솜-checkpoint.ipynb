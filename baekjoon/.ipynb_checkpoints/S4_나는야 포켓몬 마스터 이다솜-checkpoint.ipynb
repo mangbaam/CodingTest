{
 "cells": [
  {
   "cell_type": "markdown",
   "id": "accomplished-living",
   "metadata": {},
   "source": [
    "https://www.acmicpc.net/problem/1620"
   ]
  },
  {
   "cell_type": "markdown",
   "id": "turned-parts",
   "metadata": {},
   "source": [
    "제출용 (readline)"
   ]
  },
  {
   "cell_type": "code",
   "execution_count": null,
   "id": "rolled-delay",
   "metadata": {},
   "outputs": [],
   "source": [
    "import sys\n",
    "input = sys.stdin.readline\n",
    "n, m = map(int, input().split())\n",
    "monster = []\n",
    "for _ in range(n):\n",
    "    monster.append(input().strip())\n",
    "for _ in range(m):\n",
    "    i = input().strip()\n",
    "    if i.isdigit():\n",
    "        print(monster[int(i)-1])\n",
    "    else:\n",
    "        print(monster.index(i)+1)"
   ]
  },
  {
   "cell_type": "markdown",
   "id": "abandoned-astronomy",
   "metadata": {},
   "source": [
    "테스트용 (input())"
   ]
  },
  {
   "cell_type": "code",
   "execution_count": 6,
   "id": "starting-discussion",
   "metadata": {},
   "outputs": [
    {
     "name": "stdout",
     "output_type": "stream",
     "text": [
      "3 3\n",
      "박명범\n",
      "박준범\n",
      "박정열\n",
      "1\n",
      "박명범\n",
      "3\n",
      "박정열\n",
      "박명범\n",
      "1\n"
     ]
    }
   ],
   "source": [
    "n, m = map(int, input().split())\n",
    "monster = []\n",
    "for _ in range(n):\n",
    "    monster.append(input())\n",
    "for _ in range(m):\n",
    "    i = input()\n",
    "    if i.isdigit():\n",
    "        print(monster[int(i)-1])\n",
    "    else:\n",
    "        print(monster.index(i)+1)"
   ]
  }
 ],
 "metadata": {
  "kernelspec": {
   "display_name": "Python 3",
   "language": "python",
   "name": "python3"
  },
  "language_info": {
   "codemirror_mode": {
    "name": "ipython",
    "version": 3
   },
   "file_extension": ".py",
   "mimetype": "text/x-python",
   "name": "python",
   "nbconvert_exporter": "python",
   "pygments_lexer": "ipython3",
   "version": "3.8.5"
  }
 },
 "nbformat": 4,
 "nbformat_minor": 5
}
