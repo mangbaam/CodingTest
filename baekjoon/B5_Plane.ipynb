{
 "cells": [
  {
   "cell_type": "markdown",
   "id": "scheduled-option",
   "metadata": {},
   "source": [
    "https://www.acmicpc.net/problem/8370"
   ]
  },
  {
   "cell_type": "code",
   "execution_count": 1,
   "id": "purple-pitch",
   "metadata": {},
   "outputs": [
    {
     "name": "stdout",
     "output_type": "stream",
     "text": [
      "2 5 3 20\n",
      "70\n"
     ]
    }
   ],
   "source": [
    "n1, k1, n2, k2 = map(int, input().split())\n",
    "print(n1*k1+n2*k2)"
   ]
  }
 ],
 "metadata": {
  "kernelspec": {
   "display_name": "Python 3",
   "language": "python",
   "name": "python3"
  },
  "language_info": {
   "codemirror_mode": {
    "name": "ipython",
    "version": 3
   },
   "file_extension": ".py",
   "mimetype": "text/x-python",
   "name": "python",
   "nbconvert_exporter": "python",
   "pygments_lexer": "ipython3",
   "version": "3.8.5"
  }
 },
 "nbformat": 4,
 "nbformat_minor": 5
}
