{
 "cells": [
  {
   "cell_type": "markdown",
   "id": "saved-national",
   "metadata": {},
   "source": [
    "### https://latte-is-horse.tistory.com/245\n",
    "https://www.acmicpc.net/problem/11727"
   ]
  },
  {
   "cell_type": "code",
   "execution_count": 4,
   "id": "meaning-expansion",
   "metadata": {},
   "outputs": [
    {
     "name": "stdout",
     "output_type": "stream",
     "text": [
      "8\n",
      "171\n"
     ]
    }
   ],
   "source": [
    "def solution(n):\n",
    "    if n == 1: return 1\n",
    "    if n == 2: return 3\n",
    "    d = [0] * (n+1)\n",
    "    d[1], d[2] = 1, 3\n",
    "    for i in range(3, n+1):\n",
    "        d[i] = (2*d[i-2] + d[i-1]) % 10007\n",
    "    return d[n]\n",
    "\n",
    "n = int(input())\n",
    "print(solution(n))"
   ]
  },
  {
   "cell_type": "code",
   "execution_count": 5,
   "id": "charming-celebrity",
   "metadata": {},
   "outputs": [
    {
     "name": "stdout",
     "output_type": "stream",
     "text": [
      "8\n",
      "171\n"
     ]
    }
   ],
   "source": [
    "def solution(n):\n",
    "    d = [0] * (n+1)\n",
    "    d[0], d[1] = 1, 1\n",
    "    for i in range(2, n+1):\n",
    "        d[i] = (2*d[i-2] + d[i-1]) % 10007\n",
    "    return d[n]\n",
    "\n",
    "n = int(input())\n",
    "print(solution(n))"
   ]
  }
 ],
 "metadata": {
  "kernelspec": {
   "display_name": "Python 3",
   "language": "python",
   "name": "python3"
  },
  "language_info": {
   "codemirror_mode": {
    "name": "ipython",
    "version": 3
   },
   "file_extension": ".py",
   "mimetype": "text/x-python",
   "name": "python",
   "nbconvert_exporter": "python",
   "pygments_lexer": "ipython3",
   "version": "3.8.5"
  }
 },
 "nbformat": 4,
 "nbformat_minor": 5
}
