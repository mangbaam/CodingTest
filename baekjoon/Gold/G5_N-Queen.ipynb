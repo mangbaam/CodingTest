{
 "cells": [
  {
   "cell_type": "markdown",
   "id": "bound-carter",
   "metadata": {},
   "source": [
    "https://www.acmicpc.net/problem/9663"
   ]
  },
  {
   "cell_type": "code",
   "execution_count": 1,
   "id": "lonely-december",
   "metadata": {
    "pycharm": {
     "name": "#%%\n"
    }
   },
   "outputs": [
    {
     "name": "stdout",
     "output_type": "stream",
     "text": [
      "92\n"
     ]
    }
   ],
   "source": [
    "n = int(input())\n",
    "col = [0] * (n+1)\n",
    "answer = 0\n",
    "\n",
    "def attackable(r1, c1, r2, c2):\n",
    "    if c1 == c2: return True\n",
    "    if abs(r1-r2)==abs(c1-c2): return True\n",
    "    return False\n",
    "\n",
    "def check():\n",
    "    for i in range(1, n+1):\n",
    "        for j in range(1, i):\n",
    "            if attackable(i, col[i], j, col[j]): return False\n",
    "    return True\n",
    "\n",
    "def rec_fun(row):\n",
    "    global answer\n",
    "    if row == n+1:\n",
    "        answer += 1\n",
    "    else:\n",
    "        for c in range(1, n+1):\n",
    "            possible = True\n",
    "            for i in range(1, row):\n",
    "                if attackable(row, c, i, col[i]):\n",
    "                    possible = False\n",
    "                    break\n",
    "\n",
    "            if possible:\n",
    "                col[row] = c\n",
    "                rec_fun(row+1)\n",
    "                col[row] = 0\n",
    "                \n",
    "rec_fun(1)\n",
    "print(answer)"
   ]
  }
 ],
 "metadata": {
  "kernelspec": {
   "display_name": "Python 3",
   "language": "python",
   "name": "python3"
  },
  "language_info": {
   "codemirror_mode": {
    "name": "ipython",
    "version": 3
   },
   "file_extension": ".py",
   "mimetype": "text/x-python",
   "name": "python",
   "nbconvert_exporter": "python",
   "pygments_lexer": "ipython3",
   "version": "3.8.5"
  }
 },
 "nbformat": 4,
 "nbformat_minor": 5
}