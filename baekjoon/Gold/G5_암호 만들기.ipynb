{
 "cells": [
  {
   "cell_type": "markdown",
   "metadata": {
    "collapsed": true,
    "pycharm": {
     "name": "#%% md\n"
    }
   },
   "source": [
    "https://www.acmicpc.net/problem/1759"
   ]
  },
  {
   "cell_type": "code",
   "execution_count": 10,
   "outputs": [
    {
     "name": "stdout",
     "output_type": "stream",
     "text": [
      "acis\n"
     ]
    }
   ],
   "source": [
    "L, C = map(int, input().split())\n",
    "alpha = sorted(input().split())\n",
    "\n",
    "\n",
    "def print_if_valid(word):\n",
    "    count = 0\n",
    "    for x in 'aeiou':\n",
    "        if x in word:\n",
    "            count += 1\n",
    "    if count and L - count >= 2:\n",
    "        print(word)\n",
    "\n",
    "\n",
    "def rec_fun(k, word):\n",
    "    if len(word) == L:\n",
    "        print_if_valid(word)\n",
    "        return\n",
    "    if k == C: return\n",
    "    rec_fun(k + 1, word + alpha[k])\n",
    "    rec_fun(k + 1, word)\n",
    "\n",
    "\n",
    "rec_fun(0, '')"
   ],
   "metadata": {
    "collapsed": false,
    "pycharm": {
     "name": "#%%\n"
    }
   }
  }
 ],
 "metadata": {
  "kernelspec": {
   "display_name": "Python 3",
   "language": "python",
   "name": "python3"
  },
  "language_info": {
   "codemirror_mode": {
    "name": "ipython",
    "version": 2
   },
   "file_extension": ".py",
   "mimetype": "text/x-python",
   "name": "python",
   "nbconvert_exporter": "python",
   "pygments_lexer": "ipython2",
   "version": "2.7.6"
  }
 },
 "nbformat": 4,
 "nbformat_minor": 0
}