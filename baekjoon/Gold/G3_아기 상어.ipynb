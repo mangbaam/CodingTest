{
 "cells": [
  {
   "cell_type": "markdown",
   "source": [
    "https://www.acmicpc.net/problem/16236\n",
    "## https://latte-is-horse.tistory.com/333https://latte-is-horse.tistory.com/333"
   ],
   "metadata": {
    "collapsed": false,
    "pycharm": {
     "name": "#%% md\n"
    }
   }
  },
  {
   "cell_type": "code",
   "execution_count": 20,
   "outputs": [
    {
     "ename": "IndexError",
     "evalue": "list index out of range",
     "output_type": "error",
     "traceback": [
      "\u001B[1;31m---------------------------------------------------------------------------\u001B[0m",
      "\u001B[1;31mIndexError\u001B[0m                                Traceback (most recent call last)",
      "\u001B[1;32m~\\AppData\\Local\\Temp\\ipykernel_46020\\2621613267.py\u001B[0m in \u001B[0;36m<module>\u001B[1;34m\u001B[0m\n\u001B[0;32m     47\u001B[0m \u001B[1;32mfor\u001B[0m \u001B[0mi\u001B[0m \u001B[1;32min\u001B[0m \u001B[0mrange\u001B[0m\u001B[1;33m(\u001B[0m\u001B[0mn\u001B[0m\u001B[1;33m)\u001B[0m\u001B[1;33m:\u001B[0m\u001B[1;33m\u001B[0m\u001B[1;33m\u001B[0m\u001B[0m\n\u001B[0;32m     48\u001B[0m     \u001B[1;32mfor\u001B[0m \u001B[0mj\u001B[0m \u001B[1;32min\u001B[0m \u001B[0mrange\u001B[0m\u001B[1;33m(\u001B[0m\u001B[0mn\u001B[0m\u001B[1;33m)\u001B[0m\u001B[1;33m:\u001B[0m\u001B[1;33m\u001B[0m\u001B[1;33m\u001B[0m\u001B[0m\n\u001B[1;32m---> 49\u001B[1;33m         \u001B[1;32mif\u001B[0m \u001B[0mgraph\u001B[0m\u001B[1;33m[\u001B[0m\u001B[0mi\u001B[0m\u001B[1;33m]\u001B[0m\u001B[1;33m[\u001B[0m\u001B[0mj\u001B[0m\u001B[1;33m]\u001B[0m \u001B[1;33m==\u001B[0m \u001B[1;36m9\u001B[0m\u001B[1;33m:\u001B[0m\u001B[1;33m\u001B[0m\u001B[1;33m\u001B[0m\u001B[0m\n\u001B[0m\u001B[0;32m     50\u001B[0m             \u001B[0mgraph\u001B[0m\u001B[1;33m[\u001B[0m\u001B[0mi\u001B[0m\u001B[1;33m]\u001B[0m\u001B[1;33m[\u001B[0m\u001B[0mj\u001B[0m\u001B[1;33m]\u001B[0m \u001B[1;33m=\u001B[0m \u001B[1;36m0\u001B[0m\u001B[1;33m\u001B[0m\u001B[1;33m\u001B[0m\u001B[0m\n\u001B[0;32m     51\u001B[0m             \u001B[0mshark\u001B[0m \u001B[1;33m=\u001B[0m \u001B[1;33m[\u001B[0m\u001B[0mi\u001B[0m\u001B[1;33m,\u001B[0m \u001B[0mj\u001B[0m\u001B[1;33m]\u001B[0m\u001B[1;33m;\u001B[0m \u001B[1;32mbreak\u001B[0m\u001B[1;33m\u001B[0m\u001B[1;33m\u001B[0m\u001B[0m\n",
      "\u001B[1;31mIndexError\u001B[0m: list index out of range"
     ]
    }
   ],
   "source": [
    "from collections import deque\n",
    "import heapq\n",
    "\n",
    "# x, y 좌표의 물고기 잡아 먹고 상어 이동\n",
    "def eat_fish(x, y):\n",
    "    global eaten, shark_size, shark\n",
    "    eaten += 1\n",
    "    if shark_size == eaten:\n",
    "        shark_size += 1\n",
    "        eaten = 0\n",
    "    graph[x][y] = 0\n",
    "    shark = [x, y]\n",
    "\n",
    "def bfs(x, y):\n",
    "    global shark\n",
    "    visited = [[False] * n for _ in range(n)]\n",
    "    fishes = [] # 시간, 행, 열 순으로 저장\n",
    "    visited[x][y] = True\n",
    "    q = deque([(x, y, 0)])\n",
    "\n",
    "    while q:\n",
    "        cx, cy, t = q.popleft()\n",
    "        if fishes and t > fishes[0][0]: # 물고기 목록 중에 조건에 맞는 물고기 선택\n",
    "            second, r, c = heapq.heappop(fishes)\n",
    "            eat_fish(r, c)\n",
    "            return second\n",
    "        if 0 < graph[cx][cy] < shark_size: # 먹을 수 있는 물고기 목록에 추가\n",
    "            heapq.heappush(fishes, (t, cx, cy))\n",
    "        for i in range(4):\n",
    "            nx, ny = cx + d[i][0], cy + d[i][1]\n",
    "            if nx in range(n) and ny in range(n) and graph[nx][ny] <= shark_size and not visited[nx][ny]:\n",
    "                visited[nx][ny] = True\n",
    "                q.append((nx, ny, t + 1))\n",
    "    if fishes:\n",
    "        second, r, c = fishes[0]\n",
    "        eat_fish(r, c)\n",
    "        return second\n",
    "    else: return None\n",
    "\n",
    "n = int(input())\n",
    "graph = [list(map(int, input().split())) for _ in range(n)]\n",
    "d = [(-1, 0), (0, -1), (1, 0), (0, 1)]\n",
    "shark = list()\n",
    "shark_size = 2\n",
    "eaten = 0\n",
    "# 상어 위치\n",
    "for i in range(n):\n",
    "    for j in range(n):\n",
    "        if graph[i][j] == 9:\n",
    "            graph[i][j] = 0\n",
    "            shark = [i, j]; break\n",
    "\n",
    "answer = 0\n",
    "while True:\n",
    "    time = bfs(*shark)\n",
    "    if time is None:\n",
    "        print(answer)\n",
    "        break\n",
    "    else: answer += time"
   ],
   "metadata": {
    "collapsed": false,
    "pycharm": {
     "name": "#%%\n"
    }
   }
  }
 ],
 "metadata": {
  "kernelspec": {
   "display_name": "Python 3",
   "language": "python",
   "name": "python3"
  },
  "language_info": {
   "codemirror_mode": {
    "name": "ipython",
    "version": 2
   },
   "file_extension": ".py",
   "mimetype": "text/x-python",
   "name": "python",
   "nbconvert_exporter": "python",
   "pygments_lexer": "ipython2",
   "version": "2.7.6"
  }
 },
 "nbformat": 4,
 "nbformat_minor": 0
}