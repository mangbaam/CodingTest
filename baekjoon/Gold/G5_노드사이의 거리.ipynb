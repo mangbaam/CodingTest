{
 "cells": [
  {
   "cell_type": "markdown",
   "source": [
    "https://www.acmicpc.net/problem/1240"
   ],
   "metadata": {
    "collapsed": false,
    "pycharm": {
     "name": "#%% md\n"
    }
   }
  },
  {
   "cell_type": "code",
   "execution_count": 4,
   "outputs": [
    {
     "name": "stdout",
     "output_type": "stream",
     "text": [
      "[[], [(2, 2), (4, 3)], [(1, 2)], [(4, 2)], [(3, 2), (1, 3)]]\n",
      "2\n",
      "7\n"
     ]
    }
   ],
   "source": [
    "from collections import deque\n",
    "\n",
    "n, m = map(int, input().split())\n",
    "tree = [[] for _ in range(n + 1)]\n",
    "for _ in range(n - 1):\n",
    "    a, b, d = map(int, input().split())\n",
    "    tree[a].append((b, d))\n",
    "    tree[b].append((a, d))\n",
    "\n",
    "\n",
    "def dfs(start, end):\n",
    "    global tree, n\n",
    "\n",
    "    queue = deque([(start, 0)])\n",
    "    visited = [False] * (n + 1)\n",
    "    visited[start] = True\n",
    "\n",
    "    while queue:\n",
    "        target, d = queue.popleft()\n",
    "        if target == end:\n",
    "            return d\n",
    "\n",
    "        for now, dist in tree[target]:\n",
    "            if visited[now]: continue\n",
    "            visited[now] = True\n",
    "            queue.append((now, d + dist))\n",
    "\n",
    "\n",
    "def solution():\n",
    "    global m\n",
    "\n",
    "    for _ in range(m):\n",
    "        start, end = map(int, input().split())\n",
    "        print(dfs(start, end))\n",
    "\n",
    "\n",
    "solution()"
   ],
   "metadata": {
    "collapsed": false,
    "pycharm": {
     "name": "#%%\n"
    }
   }
  }
 ],
 "metadata": {
  "kernelspec": {
   "display_name": "Python 3",
   "language": "python",
   "name": "python3"
  },
  "language_info": {
   "codemirror_mode": {
    "name": "ipython",
    "version": 2
   },
   "file_extension": ".py",
   "mimetype": "text/x-python",
   "name": "python",
   "nbconvert_exporter": "python",
   "pygments_lexer": "ipython2",
   "version": "2.7.6"
  }
 },
 "nbformat": 4,
 "nbformat_minor": 0
}