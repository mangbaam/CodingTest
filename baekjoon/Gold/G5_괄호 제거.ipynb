{
 "cells": [
  {
   "cell_type": "markdown",
   "source": [
    "https://www.acmicpc.net/problem/2800"
   ],
   "metadata": {
    "collapsed": false,
    "pycharm": {
     "name": "#%% md\n"
    }
   }
  },
  {
   "cell_type": "code",
   "execution_count": 15,
   "metadata": {
    "collapsed": true,
    "pycharm": {
     "name": "#%%\n"
    }
   },
   "outputs": [
    {
     "name": "stdout",
     "output_type": "stream",
     "text": [
      "(((1)))2\n",
      "((1))(2)\n",
      "((1))2\n",
      "(1)(2)\n",
      "(1)2\n",
      "1(2)\n",
      "12\n"
     ]
    }
   ],
   "source": [
    "from itertools import combinations\n",
    "s = input()\n",
    "stack = []\n",
    "pair = []\n",
    "for i in range(len(s)):\n",
    "    if s[i] == '(':\n",
    "        stack.append(i)\n",
    "    elif s[i] == ')':\n",
    "        pair.append([stack.pop(), i])\n",
    "answer = []\n",
    "for i in range(1, len(pair) + 1):\n",
    "    for c in combinations(range(len(pair)), i):\n",
    "        tmp = []\n",
    "        for j in c:\n",
    "            tmp.extend(pair[j])\n",
    "        answer.append(''.join([s[ci] for ci in range(len(s)) if ci not in tmp]))\n",
    "print(*sorted(set(answer)), sep='\\n')"
   ]
  }
 ],
 "metadata": {
  "kernelspec": {
   "display_name": "Python 3",
   "language": "python",
   "name": "python3"
  },
  "language_info": {
   "codemirror_mode": {
    "name": "ipython",
    "version": 2
   },
   "file_extension": ".py",
   "mimetype": "text/x-python",
   "name": "python",
   "nbconvert_exporter": "python",
   "pygments_lexer": "ipython2",
   "version": "2.7.6"
  }
 },
 "nbformat": 4,
 "nbformat_minor": 0
}