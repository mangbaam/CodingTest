{
 "cells": [
  {
   "cell_type": "markdown",
   "metadata": {
    "collapsed": true,
    "pycharm": {
     "name": "#%% md\n"
    }
   },
   "source": [
    "https://www.acmicpc.net/problem/1062"
   ]
  },
  {
   "cell_type": "code",
   "execution_count": 2,
   "outputs": [
    {
     "name": "stdout",
     "output_type": "stream",
     "text": [
      "2\n"
     ]
    }
   ],
   "source": [
    "from itertools import combinations as combi\n",
    "\n",
    "n, k = map(int, input().split())\n",
    "know = {'a', 't', 'n', 'i', 'c'}\n",
    "answer = 0\n",
    "alphas = set()\n",
    "words = []\n",
    "\n",
    "for _ in range(n):\n",
    "    study = set(input())-know # 아직 안 배운 문자\n",
    "    words.append(study)\n",
    "    alphas.update(study)\n",
    "\n",
    "remain = k - 5\n",
    "if remain >= 0:\n",
    "    for c in combi(alphas, remain):\n",
    "        after_study = 0\n",
    "        for word in words:\n",
    "            if len(word - set(c)) == 0: after_study += 1\n",
    "        if after_study > answer: answer = after_study\n",
    "print(answer)"
   ],
   "metadata": {
    "collapsed": false,
    "pycharm": {
     "name": "#%%\n"
    }
   }
  },
  {
   "cell_type": "code",
   "execution_count": 13,
   "outputs": [
    {
     "name": "stdout",
     "output_type": "stream",
     "text": [
      "3\n"
     ]
    }
   ],
   "source": [
    "word = list()\n",
    "visited = [False] * 26\n",
    "n = k = answer = 0\n",
    "\n",
    "# {alpha}번째 알파벳부터 {count}개 선택됨\n",
    "def rec_fun(alpha, count):\n",
    "    global word, answer, k\n",
    "    if count == k:\n",
    "        tmp = 0\n",
    "        for i in range(n):\n",
    "            flag = True\n",
    "            # i번째 단어가 선택된 알파벳으로만 이루어졌는지 확인\n",
    "            for j in range(len(word[i])):\n",
    "                if not visited[ord(word[i][j])-ord('a')]:\n",
    "                    flag = False\n",
    "                    break\n",
    "            if flag: tmp+=1\n",
    "        answer = max(answer, tmp)\n",
    "    else:\n",
    "        for c in range(alpha, 26):\n",
    "            if not visited[c]:\n",
    "                visited[c] = True\n",
    "                rec_fun(c, count+1)\n",
    "                visited[c] = False\n",
    "\n",
    "def solution():\n",
    "    global n, k, word\n",
    "    n, k = map(int, input().split())\n",
    "    word = [\"\"] * 50\n",
    "\n",
    "    if k < 5:\n",
    "        print(0); return\n",
    "    elif k == 26:\n",
    "        print(n); return\n",
    "\n",
    "    k -= 5\n",
    "    for i in range(n):\n",
    "        word[i] = input()[4:-4] # anta(접두어), tica(접미어) 제거\n",
    "\n",
    "    for c in \"acint\":\n",
    "        visited[ord(c)-ord('a')] = True\n",
    "\n",
    "    # 재귀 호출\n",
    "    rec_fun(0, 0)\n",
    "    print(answer)\n",
    "    return\n",
    "\n",
    "solution()"
   ],
   "metadata": {
    "collapsed": false,
    "pycharm": {
     "name": "#%%\n"
    }
   }
  }
 ],
 "metadata": {
  "kernelspec": {
   "display_name": "Python 3",
   "language": "python",
   "name": "python3"
  },
  "language_info": {
   "codemirror_mode": {
    "name": "ipython",
    "version": 2
   },
   "file_extension": ".py",
   "mimetype": "text/x-python",
   "name": "python",
   "nbconvert_exporter": "python",
   "pygments_lexer": "ipython2",
   "version": "2.7.6"
  }
 },
 "nbformat": 4,
 "nbformat_minor": 0
}