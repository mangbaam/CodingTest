{
 "cells": [
  {
   "cell_type": "markdown",
   "metadata": {
    "collapsed": true,
    "pycharm": {
     "name": "#%% md\n"
    }
   },
   "source": [
    "https://www.acmicpc.net/problem/1253"
   ]
  },
  {
   "cell_type": "code",
   "execution_count": 15,
   "outputs": [
    {
     "name": "stdout",
     "output_type": "stream",
     "text": [
      "8\n"
     ]
    }
   ],
   "source": [
    "n = int(input())\n",
    "nums = sorted(map(int, input().split()))\n",
    "\n",
    "answer = 0\n",
    "\n",
    "\n",
    "def two_pointer(li, target):\n",
    "    global answer\n",
    "\n",
    "    start, end = 0, len(li) - 1\n",
    "\n",
    "    while start < end:\n",
    "        s = li[start] + li[end]\n",
    "        if target == s:\n",
    "            answer += 1\n",
    "            return\n",
    "        elif target > s:\n",
    "            start += 1\n",
    "        elif target < s:\n",
    "            end -= 1\n",
    "\n",
    "\n",
    "for i in range(n):\n",
    "    two_pointer(nums[:i] + nums[i+1:], nums[i])\n",
    "\n",
    "print(answer)"
   ],
   "metadata": {
    "collapsed": false,
    "pycharm": {
     "name": "#%%\n"
    }
   }
  }
 ],
 "metadata": {
  "kernelspec": {
   "display_name": "Python 3",
   "language": "python",
   "name": "python3"
  },
  "language_info": {
   "codemirror_mode": {
    "name": "ipython",
    "version": 2
   },
   "file_extension": ".py",
   "mimetype": "text/x-python",
   "name": "python",
   "nbconvert_exporter": "python",
   "pygments_lexer": "ipython2",
   "version": "2.7.6"
  }
 },
 "nbformat": 4,
 "nbformat_minor": 0
}