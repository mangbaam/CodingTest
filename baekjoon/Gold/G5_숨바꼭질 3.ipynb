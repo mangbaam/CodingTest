{
 "cells": [
  {
   "cell_type": "markdown",
   "source": [
    "## https://latte-is-horse.tistory.com/342\n",
    "https://www.acmicpc.net/problem/13549"
   ],
   "metadata": {
    "collapsed": false,
    "pycharm": {
     "name": "#%% md\n"
    }
   }
  },
  {
   "cell_type": "code",
   "execution_count": 2,
   "outputs": [
    {
     "name": "stdout",
     "output_type": "stream",
     "text": [
      "2\n"
     ]
    }
   ],
   "source": [
    "from collections import deque\n",
    "\n",
    "n, k = map(int, input().split())\n",
    "q = deque([(n, 0)])\n",
    "MAX = 100001\n",
    "visited = [False] * MAX\n",
    "answer = []\n",
    "while q:\n",
    "    now, time = q.popleft()\n",
    "    visited[now] = True\n",
    "    if now == k:\n",
    "        answer.append(time)\n",
    "    if now * 2 < MAX and not visited[now * 2]:\n",
    "        q.append((now * 2, time))\n",
    "    if now + 1 < MAX and not visited[now + 1]:\n",
    "        q.append((now + 1, time + 1))\n",
    "    if now - 1 >= 0 and not visited[now - 1]:\n",
    "        q.append((now - 1, time + 1))\n",
    "print(min(answer))"
   ],
   "metadata": {
    "collapsed": false,
    "pycharm": {
     "name": "#%%\n"
    }
   }
  }
 ],
 "metadata": {
  "kernelspec": {
   "display_name": "Python 3",
   "language": "python",
   "name": "python3"
  },
  "language_info": {
   "codemirror_mode": {
    "name": "ipython",
    "version": 2
   },
   "file_extension": ".py",
   "mimetype": "text/x-python",
   "name": "python",
   "nbconvert_exporter": "python",
   "pygments_lexer": "ipython2",
   "version": "2.7.6"
  }
 },
 "nbformat": 4,
 "nbformat_minor": 0
}