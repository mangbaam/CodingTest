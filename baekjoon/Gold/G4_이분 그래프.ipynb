{
 "cells": [
  {
   "cell_type": "markdown",
   "source": [
    "https://www.acmicpc.net/problem/1707"
   ],
   "metadata": {
    "collapsed": false,
    "pycharm": {
     "name": "#%% md\n"
    }
   }
  },
  {
   "cell_type": "code",
   "execution_count": 1,
   "outputs": [
    {
     "name": "stdout",
     "output_type": "stream",
     "text": [
      "YES\n",
      "NO\n"
     ]
    }
   ],
   "source": [
    "from collections import deque\n",
    "import sys\n",
    "\n",
    "def input():\n",
    "    return sys.stdin.readline().rstrip()\n",
    "\n",
    "\n",
    "def bfs(start):\n",
    "    q = deque([start])\n",
    "    visited[start] = True\n",
    "    while q:\n",
    "        v = q.popleft()\n",
    "        for w in graph[v]:\n",
    "            if not visited[w]:\n",
    "                q.append(w)\n",
    "                visited[w] = -1 * visited[v]\n",
    "            elif visited[v] == visited[w]:\n",
    "                return False\n",
    "    return True\n",
    "\n",
    "\n",
    "for _ in range(int(input())):\n",
    "    # 그래프 만들기\n",
    "    V, E = map(int, input().split())\n",
    "    graph = [[] for _ in range(V + 1)]\n",
    "    visited = [False] * (V + 1)\n",
    "\n",
    "    for _ in range(E):\n",
    "        a, b = map(int, input().split())\n",
    "        graph[a].append(b)\n",
    "        graph[b].append(a)\n",
    "\n",
    "    # BFS\n",
    "    for i in range(1, V + 1):\n",
    "        if not visited[i]:\n",
    "            answer = bfs(i)\n",
    "            if not answer: break\n",
    "\n",
    "    print('YES') if answer else print('NO')"
   ],
   "metadata": {
    "collapsed": false,
    "pycharm": {
     "name": "#%%\n"
    }
   }
  }
 ],
 "metadata": {
  "kernelspec": {
   "display_name": "Python 3",
   "language": "python",
   "name": "python3"
  },
  "language_info": {
   "codemirror_mode": {
    "name": "ipython",
    "version": 2
   },
   "file_extension": ".py",
   "mimetype": "text/x-python",
   "name": "python",
   "nbconvert_exporter": "python",
   "pygments_lexer": "ipython2",
   "version": "2.7.6"
  }
 },
 "nbformat": 4,
 "nbformat_minor": 0
}