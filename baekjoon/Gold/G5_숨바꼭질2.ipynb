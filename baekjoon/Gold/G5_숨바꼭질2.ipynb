{
 "cells": [
  {
   "cell_type": "markdown",
   "source": [
    "https://www.acmicpc.net/problem/12851"
   ],
   "metadata": {
    "collapsed": false,
    "pycharm": {
     "name": "#%% md\n"
    }
   }
  },
  {
   "cell_type": "code",
   "execution_count": 42,
   "outputs": [
    {
     "name": "stdout",
     "output_type": "stream",
     "text": [
      "1000\n",
      "1\n"
     ]
    }
   ],
   "source": [
    "from collections import deque\n",
    "\n",
    "n, k = map(int, input().split())\n",
    "visited = [False] * 100001\n",
    "q = deque([(n, 0)])\n",
    "fastest, ways = 10 ** 6, 0\n",
    "\n",
    "while q:\n",
    "    now, time = q.popleft()\n",
    "    visited[now] = True\n",
    "    if now == k and time <= fastest:\n",
    "        fastest = min(fastest, time)\n",
    "        ways += 1\n",
    "    if time > fastest: break\n",
    "    for x in (now - 1, now + 1, now * 2):\n",
    "        if x in range(100001) and not visited[x]:\n",
    "            q.append((x, time + 1))\n",
    "\n",
    "print(fastest)\n",
    "print(ways)"
   ],
   "metadata": {
    "collapsed": false,
    "pycharm": {
     "name": "#%%\n"
    }
   }
  }
 ],
 "metadata": {
  "kernelspec": {
   "display_name": "Python 3",
   "language": "python",
   "name": "python3"
  },
  "language_info": {
   "codemirror_mode": {
    "name": "ipython",
    "version": 2
   },
   "file_extension": ".py",
   "mimetype": "text/x-python",
   "name": "python",
   "nbconvert_exporter": "python",
   "pygments_lexer": "ipython2",
   "version": "2.7.6"
  }
 },
 "nbformat": 4,
 "nbformat_minor": 0
}