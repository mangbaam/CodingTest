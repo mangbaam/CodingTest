{
 "cells": [
  {
   "cell_type": "markdown",
   "source": [
    "https://www.acmicpc.net/problem/1245"
   ],
   "metadata": {
    "collapsed": false,
    "pycharm": {
     "name": "#%% md\n"
    }
   }
  },
  {
   "cell_type": "code",
   "execution_count": 1,
   "outputs": [
    {
     "name": "stdout",
     "output_type": "stream",
     "text": [
      "3\n"
     ]
    }
   ],
   "source": [
    "import sys\n",
    "input = sys.stdin.readline\n",
    "\n",
    "d = [(1, 0), (-1, 0), (0, 1), (0, -1), (1, 1), (1, -1), (-1, 1), (-1, -1)]\n",
    "\n",
    "def dfs(a, b):\n",
    "    global bong\n",
    "    visited[a][b] = True\n",
    "\n",
    "    for i in range(8):\n",
    "        nx, ny = a + d[i][0], b + d[i][1]\n",
    "        if nx in range(n) and ny in range(m):\n",
    "            if graph[a][b] < graph[nx][ny]: # 주변보다 작으면 산봉우리 아님\n",
    "                bong = False\n",
    "            if not visited[nx][ny] and graph[nx][ny] == graph[a][b]: # 같은 높이 탐색\n",
    "                dfs(nx, ny)\n",
    "\n",
    "\n",
    "n, m = map(int, input().split())\n",
    "graph = [list(map(int, input().split())) for _ in range(n)]\n",
    "visited = [[False] * m for _ in range(n)]\n",
    "count = 0\n",
    "\n",
    "for i in range(n):\n",
    "    for j in range(m):\n",
    "        if not visited[i][j] and graph[i][j] > 0:\n",
    "            bong = True\n",
    "            dfs(i, j)\n",
    "\n",
    "            if bong: count += 1\n",
    "\n",
    "print(count)"
   ],
   "metadata": {
    "collapsed": false,
    "pycharm": {
     "name": "#%%\n"
    }
   }
  }
 ],
 "metadata": {
  "kernelspec": {
   "display_name": "Python 3",
   "language": "python",
   "name": "python3"
  },
  "language_info": {
   "codemirror_mode": {
    "name": "ipython",
    "version": 2
   },
   "file_extension": ".py",
   "mimetype": "text/x-python",
   "name": "python",
   "nbconvert_exporter": "python",
   "pygments_lexer": "ipython2",
   "version": "2.7.6"
  }
 },
 "nbformat": 4,
 "nbformat_minor": 0
}