{
 "cells": [
  {
   "cell_type": "markdown",
   "metadata": {
    "collapsed": true,
    "pycharm": {
     "name": "#%% md\n"
    }
   },
   "source": [
    "https://www.acmicpc.net/problem/1068"
   ]
  },
  {
   "cell_type": "code",
   "execution_count": 15,
   "outputs": [
    {
     "name": "stdout",
     "output_type": "stream",
     "text": [
      "2\n"
     ]
    }
   ],
   "source": [
    "n = int(input())\n",
    "\n",
    "tree = [[] for _ in range(n)]\n",
    "visited = [False] * n\n",
    "root = answer = 0\n",
    "\n",
    "for node, parent in enumerate(map(int, input().split())):\n",
    "    if parent == -1:\n",
    "        root = node\n",
    "    else:\n",
    "        tree[parent].append(node)\n",
    "\n",
    "deleted = int(input())\n",
    "visited[deleted] = True\n",
    "\n",
    "def dfs(s):\n",
    "    global answer\n",
    "\n",
    "    if visited[s]: return\n",
    "    visited[s] = True\n",
    "\n",
    "    if len(tree[s]) == 0:\n",
    "        answer += 1\n",
    "        return\n",
    "    elif len(tree[s]) == 1 and tree[s][0] == deleted:\n",
    "        answer += 1\n",
    "\n",
    "    for x in tree[s]:\n",
    "        dfs(x)\n",
    "\n",
    "dfs(root)\n",
    "print(answer)"
   ],
   "metadata": {
    "collapsed": false,
    "pycharm": {
     "name": "#%%\n"
    }
   }
  }
 ],
 "metadata": {
  "kernelspec": {
   "display_name": "Python 3",
   "language": "python",
   "name": "python3"
  },
  "language_info": {
   "codemirror_mode": {
    "name": "ipython",
    "version": 2
   },
   "file_extension": ".py",
   "mimetype": "text/x-python",
   "name": "python",
   "nbconvert_exporter": "python",
   "pygments_lexer": "ipython2",
   "version": "2.7.6"
  }
 },
 "nbformat": 4,
 "nbformat_minor": 0
}