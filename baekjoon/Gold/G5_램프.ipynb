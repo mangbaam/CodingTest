{
 "cells": [
  {
   "cell_type": "markdown",
   "source": [
    "https://www.acmicpc.net/problem/1034"
   ],
   "metadata": {
    "collapsed": false,
    "pycharm": {
     "name": "#%% md\n"
    }
   }
  },
  {
   "cell_type": "markdown",
   "source": [
    "## 정답 코드"
   ],
   "metadata": {
    "collapsed": false,
    "pycharm": {
     "name": "#%% md\n"
    }
   }
  },
  {
   "cell_type": "code",
   "execution_count": 13,
   "outputs": [
    {
     "name": "stdout",
     "output_type": "stream",
     "text": [
      "0\n"
     ]
    }
   ],
   "source": [
    "# import sys\n",
    "# input = sys.stdin.readline\n",
    "\n",
    "n, m = map(int, input().split())\n",
    "arr = [list(input()) for _ in range(n)]\n",
    "k = int(input())\n",
    "answer = -1\n",
    "\n",
    "for i in range(n):\n",
    "    zeros = 0\n",
    "    for j in range(m):\n",
    "        if arr[i][j] == '0': zeros += 1 # 0 개수 세기\n",
    "    total = 0\n",
    "    # 꺼진 전구보다 k가 작으면 다 켤 수 없다, 홀수==홀수 / 짝수==짝수 이어야 다 켤 수 있다\n",
    "    if zeros <= k and zeros % 2 == k % 2:\n",
    "        for h in range(n):\n",
    "            if arr[i] == arr[h]: total += 1 # 같은 상태를 가지는 행을 찾는다\n",
    "    answer = max(answer, total)\n",
    "print(answer)"
   ],
   "metadata": {
    "collapsed": false,
    "pycharm": {
     "name": "#%%\n"
    }
   }
  },
  {
   "cell_type": "markdown",
   "source": [
    "### 시간 초과"
   ],
   "metadata": {
    "collapsed": false,
    "pycharm": {
     "name": "#%% md\n"
    }
   }
  },
  {
   "cell_type": "code",
   "execution_count": 8,
   "outputs": [
    {
     "name": "stdout",
     "output_type": "stream",
     "text": [
      "3\n"
     ]
    }
   ],
   "source": [
    "from itertools import combinations_with_replacement\n",
    "import copy\n",
    "# import sys\n",
    "#\n",
    "# input = sys.stdin.readline\n",
    "\n",
    "n, m = map(int, input().split())\n",
    "original = [list(input()) for _ in range(n)]\n",
    "k = int(input())\n",
    "test_case = combinations_with_replacement(range(m), k)\n",
    "answer = 0\n",
    "\n",
    "for case in test_case:\n",
    "    arr = copy.deepcopy(original)\n",
    "    test_column = {i: False for i in range(m)}\n",
    "    for c in case:\n",
    "        test_column[c] = not test_column[c]\n",
    "    for k, v in test_column.items():  # 스위치 누르기\n",
    "        if v:\n",
    "            for i in range(n):\n",
    "                arr[i][k] = '0' if arr[i][k] == '1' else '1'  # on/off 전환\n",
    "\n",
    "    tmp = 0\n",
    "    for row in arr:\n",
    "        if row == ['1'] * m: tmp += 1\n",
    "\n",
    "    answer = max(answer, tmp)\n",
    "\n",
    "print(answer)"
   ],
   "metadata": {
    "collapsed": false,
    "pycharm": {
     "name": "#%%\n"
    }
   }
  }
 ],
 "metadata": {
  "kernelspec": {
   "display_name": "Python 3",
   "language": "python",
   "name": "python3"
  },
  "language_info": {
   "codemirror_mode": {
    "name": "ipython",
    "version": 2
   },
   "file_extension": ".py",
   "mimetype": "text/x-python",
   "name": "python",
   "nbconvert_exporter": "python",
   "pygments_lexer": "ipython2",
   "version": "2.7.6"
  }
 },
 "nbformat": 4,
 "nbformat_minor": 0
}