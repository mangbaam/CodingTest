{
 "cells": [
  {
   "cell_type": "markdown",
   "metadata": {
    "collapsed": true,
    "pycharm": {
     "name": "#%% md\n"
    }
   },
   "source": [
    "https://www.acmicpc.net/problem/5430"
   ]
  },
  {
   "cell_type": "code",
   "execution_count": 65,
   "outputs": [
    {
     "name": "stdout",
     "output_type": "stream",
     "text": [
      "[2,1]\n",
      "error\n",
      "[1,2,3,5,8]\n",
      "error\n"
     ]
    }
   ],
   "source": [
    "for _ in range(int(input())):\n",
    "    cmd = input()\n",
    "    n = int(input())\n",
    "    d = 1  # default: 1, reversed: -1\n",
    "    start, end = 0, n - 1\n",
    "    suspend = False\n",
    "    arr = list(input()[1:-1].split(','))\n",
    "\n",
    "    for c in cmd:\n",
    "        if c == 'R':\n",
    "            d *= -1\n",
    "        elif c == 'D':\n",
    "            if start > end:\n",
    "                print('error')\n",
    "                suspend = True\n",
    "                break\n",
    "            elif d == 1:\n",
    "                start += 1\n",
    "            elif d == -1:\n",
    "                end -= 1\n",
    "\n",
    "    if not suspend:\n",
    "        arr = arr[start:end + 1][::d]\n",
    "        print(f\"[{','.join(arr)}]\")"
   ],
   "metadata": {
    "collapsed": false,
    "pycharm": {
     "name": "#%%\n"
    }
   }
  },
  {
   "cell_type": "code",
   "execution_count": 62,
   "outputs": [
    {
     "data": {
      "text/plain": "[3, 2, 1]"
     },
     "execution_count": 62,
     "metadata": {},
     "output_type": "execute_result"
    }
   ],
   "source": [
    "a = [1, 2, 3, 4, 5]\n",
    "d = 1\n",
    "s, e = (0, 3) if d == 1 else (3, 0)\n",
    "a2 = a[s:e]\n",
    "a[s:e][::-1]"
   ],
   "metadata": {
    "collapsed": false,
    "pycharm": {
     "name": "#%%\n"
    }
   }
  }
 ],
 "metadata": {
  "kernelspec": {
   "display_name": "Python 3",
   "language": "python",
   "name": "python3"
  },
  "language_info": {
   "codemirror_mode": {
    "name": "ipython",
    "version": 2
   },
   "file_extension": ".py",
   "mimetype": "text/x-python",
   "name": "python",
   "nbconvert_exporter": "python",
   "pygments_lexer": "ipython2",
   "version": "2.7.6"
  }
 },
 "nbformat": 4,
 "nbformat_minor": 0
}