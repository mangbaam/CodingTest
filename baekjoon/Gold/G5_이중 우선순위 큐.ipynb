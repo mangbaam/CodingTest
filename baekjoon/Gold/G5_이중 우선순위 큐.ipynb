{
 "cells": [
  {
   "cell_type": "markdown",
   "id": "electrical-reproduction",
   "metadata": {},
   "source": [
    "https://www.acmicpc.net/problem/7662"
   ]
  },
  {
   "cell_type": "code",
   "execution_count": 38,
   "id": "academic-creature",
   "metadata": {},
   "outputs": [
    {
     "name": "stdout",
     "output_type": "stream",
     "text": [
      "1\n",
      "9\n",
      "I -45\n",
      "queue:  [-45]\n",
      "I 653\n",
      "queue:  [-45, 653]\n",
      "D 1\n",
      "queue:  [-45]\n",
      "I -642\n",
      "queue:  [-642, -45]\n",
      "I 45\n",
      "queue:  [-642, -45, 45]\n",
      "I 97\n",
      "queue:  [-642, -45, 45, 97]\n",
      "D 1\n",
      "queue:  [-642, -45, 97]\n",
      "D -1\n",
      "queue:  [-45, 97]\n",
      "I 333\n",
      "queue:  [-45, 97, 333]\n",
      "333 -45\n"
     ]
    }
   ],
   "source": [
    "import heapq, sys\n",
    "# input = sys.stdin.readline\n",
    "t = int(input())\n",
    "for _ in range(t):\n",
    "    q = []\n",
    "    k = int(input())\n",
    "    for _ in range(k):\n",
    "        c, n = input().split()\n",
    "        n = int(n)\n",
    "        if c == 'I':\n",
    "            heapq.heappush(q, n)\n",
    "        elif c == 'D' and len(q):\n",
    "            if n == -1:\n",
    "                heapq.heappop(q)\n",
    "            else:\n",
    "                if len(q)==1:\n",
    "                    q = []\n",
    "                else:\n",
    "                    size = len(q)\n",
    "                    i = (size+1)//2\n",
    "                    leaf = q[i:]\n",
    "                    leaf.remove(min(leaf))\n",
    "                    q = q[:i] + leaf\n",
    "                    heapq.heapify(q)\n",
    "        print('queue: ', q)\n",
    "    if not len(q): print(\"EMPTY\")\n",
    "    else:\n",
    "        minv = q[0]\n",
    "        maxv = max(q)\n",
    "        print(maxv, minv)"
   ]
  },
  {
   "cell_type": "code",
   "execution_count": 16,
   "id": "northern-buffer",
   "metadata": {},
   "outputs": [
    {
     "name": "stdout",
     "output_type": "stream",
     "text": [
      "16\n",
      "False\n",
      "True\n",
      "4\n"
     ]
    }
   ],
   "source": [
    "a = 16\n",
    "print(a)\n",
    "a = not a\n",
    "print(a)\n",
    "a = not a\n",
    "print(a)\n",
    "\n",
    "print(3 + a)"
   ]
  },
  {
   "cell_type": "code",
   "execution_count": 30,
   "id": "missing-profit",
   "metadata": {},
   "outputs": [],
   "source": [
    "def find_max(q):\n",
    "    size = len(q)\n",
    "    (size+1)//2"
   ]
  },
  {
   "cell_type": "code",
   "execution_count": 31,
   "id": "smooth-california",
   "metadata": {},
   "outputs": [
    {
     "name": "stdout",
     "output_type": "stream",
     "text": [
      "start:  15 size:  12 i:  8\n",
      "7 6\n"
     ]
    }
   ],
   "source": [
    "find_max([1, 1, 1, 1, 1, 1, 1, 1, 1, 1, 1, 1])"
   ]
  },
  {
   "cell_type": "code",
   "execution_count": 29,
   "id": "early-overhead",
   "metadata": {},
   "outputs": [
    {
     "name": "stdout",
     "output_type": "stream",
     "text": [
      "6.25\n",
      "6.0\n"
     ]
    }
   ],
   "source": [
    "print(12.5/2)\n",
    "print(13.5//2)"
   ]
  },
  {
   "cell_type": "code",
   "execution_count": 36,
   "id": "recognized-retro",
   "metadata": {},
   "outputs": [
    {
     "name": "stdout",
     "output_type": "stream",
     "text": [
      "[2, 3]\n"
     ]
    }
   ],
   "source": [
    "b = [1, 2, 3]\n",
    "b.remove(1)\n",
    "print(b)"
   ]
  },
  {
   "cell_type": "code",
   "execution_count": 2,
   "id": "literary-teacher",
   "metadata": {},
   "outputs": [
    {
     "name": "stdout",
     "output_type": "stream",
     "text": [
      "1\n",
      "9\n",
      "I -45\n",
      "I 653\n",
      "D 1\n",
      "I -642\n",
      "I 45\n",
      "I 97\n",
      "D 1\n",
      "D -1\n",
      "I 333\n",
      "333 -45\n"
     ]
    }
   ],
   "source": [
    "import heapq, sys\n",
    "#input = sys.stdin.readline\n",
    "\n",
    "t = int(input())\n",
    "for _ in range(t):\n",
    "    q = []\n",
    "    k = int(input())\n",
    "    for _ in range(k):\n",
    "        c, n = input().split()\n",
    "        n = int(n)\n",
    "        if c == 'I':\n",
    "            heapq.heappush(q, n)\n",
    "        elif c == 'D' and len(q):\n",
    "            if n == -1:\n",
    "                heapq.heappop(q)\n",
    "            else:\n",
    "                if len(q)==1:\n",
    "                    q = []\n",
    "                else:\n",
    "                    size = len(q)\n",
    "                    i = (size+1)//2\n",
    "                    leaf = q[i:]\n",
    "                    leaf.remove(min(leaf))\n",
    "                    q = q[:i] + leaf\n",
    "                    heapq.heapify(q)\n",
    "                    \n",
    "    if not len(q): print(\"EMPTY\")\n",
    "    else:\n",
    "        minv = q[0]\n",
    "        if len(q)==1:\n",
    "            maxv = q[0]\n",
    "        else:\n",
    "            size = len(q)\n",
    "            i = (size+1)//2\n",
    "            maxv = max(q[i:])\n",
    "        print(maxv, minv)"
   ]
  },
  {
   "cell_type": "code",
   "execution_count": null,
   "id": "collect-obligation",
   "metadata": {},
   "outputs": [],
   "source": []
  }
 ],
 "metadata": {
  "kernelspec": {
   "display_name": "Python 3",
   "language": "python",
   "name": "python3"
  },
  "language_info": {
   "codemirror_mode": {
    "name": "ipython",
    "version": 3
   },
   "file_extension": ".py",
   "mimetype": "text/x-python",
   "name": "python",
   "nbconvert_exporter": "python",
   "pygments_lexer": "ipython3",
   "version": "3.8.5"
  }
 },
 "nbformat": 4,
 "nbformat_minor": 5
}
