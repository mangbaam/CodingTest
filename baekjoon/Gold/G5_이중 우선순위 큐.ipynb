{
 "cells": [
  {
   "cell_type": "markdown",
   "id": "electrical-reproduction",
   "metadata": {
    "pycharm": {
     "name": "#%% md\n"
    }
   },
   "source": [
    "https://www.acmicpc.net/problem/7662"
   ]
  },
  {
   "cell_type": "code",
   "execution_count": 23,
   "outputs": [
    {
     "name": "stdout",
     "output_type": "stream",
     "text": [
      "97 -642\n"
     ]
    }
   ],
   "source": [
    "import heapq\n",
    "\n",
    "\n",
    "class MyHeap:\n",
    "    __id = 0 # 고유한 id\n",
    "    __log = dict() # id 를 key 로 저장. value 가 False 라면 유효하지 않은 id\n",
    "\n",
    "    def __init__(self):\n",
    "        self.min_q = list()\n",
    "        self.max_q = list()\n",
    "\n",
    "    def push(self, num):\n",
    "        heapq.heappush(self.min_q, (num, self.__id))\n",
    "        heapq.heappush(self.max_q, (-num, self.__id))\n",
    "        self.__log[self.__id] = True  # id 가 큐에 남아 있음\n",
    "        self.__id += 1\n",
    "\n",
    "    def pop_max(self):\n",
    "        while self.max_q and not self.__log[self.max_q[0][1]]:  # id 가 큐에 남아 있지 않으면 제거\n",
    "            async_id = heapq.heappop(self.max_q)  # Sync\n",
    "            del self.__log[async_id[1]]  # log 에서 제거\n",
    "        if self.max_q:\n",
    "            removed = heapq.heappop(self.max_q)\n",
    "            self.__log[removed[1]] = False\n",
    "\n",
    "    def pop_min(self):\n",
    "        while self.min_q and not self.__log[self.min_q[0][1]]:  # id 가 큐에 남아 있지 않으면 제거\n",
    "            async_id = heapq.heappop(self.min_q)  # Sync\n",
    "            del self.__log[async_id[1]]  # log 에서 제거\n",
    "        if self.min_q:\n",
    "            removed = heapq.heappop(self.min_q)\n",
    "            self.__log[removed[1]] = False\n",
    "\n",
    "    def max_min(self):\n",
    "        while self.min_q and not self.__log[self.min_q[0][1]]:\n",
    "            heapq.heappop(self.min_q)  # Sync min Q\n",
    "        while self.max_q and not self.__log[self.max_q[0][1]]:\n",
    "            heapq.heappop(self.max_q)  # Sync max Q\n",
    "        return f\"{-self.max_q[0][0]} {self.min_q[0][0]}\" if (self.min_q and self.max_q) else \"EMPTY\"\n",
    "\n",
    "\n",
    "for _ in range(int(input())):\n",
    "    q = MyHeap()\n",
    "\n",
    "    for _ in range(int(input())):\n",
    "        cmd, n = input().split()\n",
    "        num = int(n)\n",
    "        if cmd == 'I':\n",
    "            q.push(num)\n",
    "        elif cmd == 'D':\n",
    "            if num == 1:  # 최댓값 제거\n",
    "                q.pop_max()\n",
    "            elif num == -1:  # 최솟값 제거\n",
    "                q.pop_min()\n",
    "\n",
    "    print(q.max_min()) # 출력"
   ],
   "metadata": {
    "collapsed": false,
    "pycharm": {
     "name": "#%%\n"
    }
   }
  }
 ],
 "metadata": {
  "kernelspec": {
   "display_name": "Python 3",
   "language": "python",
   "name": "python3"
  },
  "language_info": {
   "codemirror_mode": {
    "name": "ipython",
    "version": 3
   },
   "file_extension": ".py",
   "mimetype": "text/x-python",
   "name": "python",
   "nbconvert_exporter": "python",
   "pygments_lexer": "ipython3",
   "version": "3.8.5"
  }
 },
 "nbformat": 4,
 "nbformat_minor": 5
}