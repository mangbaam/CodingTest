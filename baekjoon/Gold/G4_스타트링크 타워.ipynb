{
 "cells": [
  {
   "cell_type": "markdown",
   "source": [
    "https://www.acmicpc.net/problem/1089\n",
    "## [해설](https://latte-is-horse.tistory.com/362)"
   ],
   "metadata": {
    "collapsed": false,
    "pycharm": {
     "name": "#%% md\n"
    }
   }
  },
  {
   "cell_type": "code",
   "execution_count": 41,
   "outputs": [
    {
     "name": "stdout",
     "output_type": "stream",
     "text": [
      "48.5\n"
     ]
    }
   ],
   "source": [
    "n = int(input())\n",
    "nums = [input() for _ in range(5)]\n",
    "decimal = [\"###...#.###.###.#.#.###.###.###.###.###\",\n",
    "           \"#.#...#...#...#.#.#.#...#.....#.#.#.#.#\",\n",
    "           \"#.#...#.###.###.###.###.###...#.###.###\",\n",
    "           \"#.#...#.#.....#...#...#.#.#...#.#.#...#\",\n",
    "           \"###...#.###.###...#.###.###...#.###.###\"]\n",
    "\n",
    "\n",
    "def split_nums(li):\n",
    "    n = (len(li[0]) + 1) // 4\n",
    "    ret = [[] for _ in range(n)]\n",
    "    for i in range(5):\n",
    "        row = li[i]\n",
    "        for j in range(n):\n",
    "            start = j * 4\n",
    "            ret[j].append(row[start:start + 3])\n",
    "\n",
    "    return ret\n",
    "\n",
    "\n",
    "def pos(li):\n",
    "    ret = set()\n",
    "    for i in range(5):\n",
    "        for j in range(3):\n",
    "            if li[i][j] == '#':\n",
    "                ret.add((i, j))\n",
    "    return ret\n",
    "\n",
    "\n",
    "def init():\n",
    "    global nums, decimal\n",
    "    nums = split_nums(nums)\n",
    "    nums = list(map(pos, nums))\n",
    "    decimal = split_nums(decimal)\n",
    "    decimal = list(map(pos, decimal))\n",
    "\n",
    "\n",
    "def get_answer(li):\n",
    "    if [] in li: return -1\n",
    "    count = 1\n",
    "    for i in range(n):\n",
    "        count *= len(li[i])\n",
    "    ret = 0\n",
    "    for i in range(n):\n",
    "        ret += sum(li[i]) * (count // len(li[i])) * 10 ** (n - i - 1)\n",
    "    return ret / count\n",
    "\n",
    "\n",
    "def solution():\n",
    "    tmp = [[] for _ in range(n)]\n",
    "    for i in range(n):\n",
    "        for j in range(10):\n",
    "            if nums[i].issubset(decimal[j]):\n",
    "                tmp[i].append(j)\n",
    "    print(get_answer(tmp))\n",
    "\n",
    "\n",
    "init()\n",
    "solution()"
   ],
   "metadata": {
    "collapsed": false,
    "pycharm": {
     "name": "#%%\n"
    }
   }
  }
 ],
 "metadata": {
  "kernelspec": {
   "display_name": "Python 3",
   "language": "python",
   "name": "python3"
  },
  "language_info": {
   "codemirror_mode": {
    "name": "ipython",
    "version": 2
   },
   "file_extension": ".py",
   "mimetype": "text/x-python",
   "name": "python",
   "nbconvert_exporter": "python",
   "pygments_lexer": "ipython2",
   "version": "2.7.6"
  }
 },
 "nbformat": 4,
 "nbformat_minor": 0
}