{
 "cells": [
  {
   "cell_type": "markdown",
   "source": [
    "https://www.acmicpc.net/problem/1430\n",
    "## [해설](https://latte-is-horse.tistory.com/375)"
   ],
   "metadata": {
    "collapsed": false,
    "pycharm": {
     "name": "#%% md\n"
    }
   }
  },
  {
   "cell_type": "code",
   "execution_count": 19,
   "outputs": [
    {
     "name": "stdout",
     "output_type": "stream",
     "text": [
      "0.0\n"
     ]
    }
   ],
   "source": [
    "from collections import deque\n",
    "\n",
    "n, r, e, ex, ey = map(int, input().split())\n",
    "tops = {tuple(map(int, input().split())) for _ in range(n)}\n",
    "answer = 0\n",
    "\n",
    "def bfs(x, y):\n",
    "    global answer, tops\n",
    "\n",
    "    q = deque([(x, y, 0)])\n",
    "\n",
    "    while q:\n",
    "        x, y, depth = q.popleft()\n",
    "        if depth:\n",
    "            answer += e / (2 ** (depth - 1))\n",
    "\n",
    "        # 거리 내에 있는 탑 찾기\n",
    "        candidate = []\n",
    "        for top in tops:\n",
    "            if (x - top[0]) ** 2 + (y - top[1]) ** 2 <= r ** 2:\n",
    "                candidate.append(top)\n",
    "        # 탑 추가\n",
    "        for top in candidate:\n",
    "            q.append((top[0], top[1], depth + 1))\n",
    "        # 탑 제거\n",
    "        tops -= set(candidate)\n",
    "\n",
    "bfs(ex, ey)\n",
    "print(round(answer, 2)) if int(answer) != answer else print(f'{answer}.0')"
   ],
   "metadata": {
    "collapsed": false,
    "pycharm": {
     "name": "#%%\n"
    }
   }
  }
 ],
 "metadata": {
  "kernelspec": {
   "display_name": "Python 3",
   "language": "python",
   "name": "python3"
  },
  "language_info": {
   "codemirror_mode": {
    "name": "ipython",
    "version": 2
   },
   "file_extension": ".py",
   "mimetype": "text/x-python",
   "name": "python",
   "nbconvert_exporter": "python",
   "pygments_lexer": "ipython2",
   "version": "2.7.6"
  }
 },
 "nbformat": 4,
 "nbformat_minor": 0
}