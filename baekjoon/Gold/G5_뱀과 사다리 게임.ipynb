{
 "cells": [
  {
   "cell_type": "markdown",
   "source": [
    "## https://latte-is-horse.tistory.com/335\n",
    "https://www.acmicpc.net/problem/16928"
   ],
   "metadata": {
    "collapsed": false,
    "pycharm": {
     "name": "#%% md\n"
    }
   }
  },
  {
   "cell_type": "code",
   "execution_count": 4,
   "outputs": [
    {
     "name": "stdout",
     "output_type": "stream",
     "text": [
      "3\n"
     ]
    }
   ],
   "source": [
    "from collections import deque\n",
    "\n",
    "n, m = map(int, input().split())\n",
    "board = {i: i for i in range(1, 101)}\n",
    "for _ in range(n + m):\n",
    "    a, b = map(int, input().split())\n",
    "    board[a] = b\n",
    "\n",
    "q = deque([(1, 0)]) # (시작점, 횟수)\n",
    "visited = [False] * 101\n",
    "visited[1] = True\n",
    "while q:\n",
    "    now, count = q.popleft()\n",
    "    if now == 100:\n",
    "        print(count)\n",
    "        break\n",
    "    for i in range(1, 7):\n",
    "        if board.get(now + i) is not None and not visited[board[now + i]]:\n",
    "            q.append((board[now + i], count + 1))\n",
    "            visited[board[now + i]] = True"
   ],
   "metadata": {
    "collapsed": false,
    "pycharm": {
     "name": "#%%\n"
    }
   }
  }
 ],
 "metadata": {
  "kernelspec": {
   "display_name": "Python 3",
   "language": "python",
   "name": "python3"
  },
  "language_info": {
   "codemirror_mode": {
    "name": "ipython",
    "version": 2
   },
   "file_extension": ".py",
   "mimetype": "text/x-python",
   "name": "python",
   "nbconvert_exporter": "python",
   "pygments_lexer": "ipython2",
   "version": "2.7.6"
  }
 },
 "nbformat": 4,
 "nbformat_minor": 0
}