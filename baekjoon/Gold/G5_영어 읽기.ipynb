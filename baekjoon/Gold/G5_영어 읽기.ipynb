{
 "cells": [
  {
   "cell_type": "markdown",
   "source": [
    "https://www.acmicpc.net/problem/1501\n",
    "## https://latte-is-horse.tistory.com/325"
   ],
   "metadata": {
    "collapsed": false,
    "pycharm": {
     "name": "#%% md\n"
    }
   }
  },
  {
   "cell_type": "code",
   "execution_count": 20,
   "outputs": [
    {
     "name": "stdout",
     "output_type": "stream",
     "text": [
      "4\n",
      "0\n"
     ]
    }
   ],
   "source": [
    "def parse_word(word):\n",
    "    last_char = ''\n",
    "    rtn = \"\"\n",
    "    count = 0\n",
    "    chars = sorted(word)\n",
    "    for char in chars:\n",
    "        if last_char == char:\n",
    "            count += 1\n",
    "        else:\n",
    "            rtn += f'{last_char}{count}'\n",
    "            count = 1\n",
    "        last_char = char\n",
    "    else:\n",
    "        rtn += f'{last_char}{count}'\n",
    "    return rtn[1:]\n",
    "\n",
    "\n",
    "def hashing_word(word):\n",
    "    if len(word) == 1: return word\n",
    "    return word[0] + word[-1] + parse_word(word[1:-1])\n",
    "\n",
    "\n",
    "dictionary = {}\n",
    "for _ in range(int(input())):\n",
    "    key = hashing_word(input())\n",
    "    if key in dictionary.keys():\n",
    "        dictionary[key] += 1\n",
    "    else:\n",
    "        dictionary[key] = 1\n",
    "\n",
    "for _ in range(int(input())):\n",
    "    sentence = input().split()\n",
    "    answer = 1\n",
    "    for s in sentence:\n",
    "        key = hashing_word(s)\n",
    "        if key in dictionary.keys():\n",
    "            answer *= dictionary[key]\n",
    "        else:\n",
    "            answer = 0\n",
    "            break\n",
    "    print(answer)"
   ],
   "metadata": {
    "collapsed": false,
    "pycharm": {
     "name": "#%%\n"
    }
   }
  }
 ],
 "metadata": {
  "kernelspec": {
   "display_name": "Python 3",
   "language": "python",
   "name": "python3"
  },
  "language_info": {
   "codemirror_mode": {
    "name": "ipython",
    "version": 2
   },
   "file_extension": ".py",
   "mimetype": "text/x-python",
   "name": "python",
   "nbconvert_exporter": "python",
   "pygments_lexer": "ipython2",
   "version": "2.7.6"
  }
 },
 "nbformat": 4,
 "nbformat_minor": 0
}