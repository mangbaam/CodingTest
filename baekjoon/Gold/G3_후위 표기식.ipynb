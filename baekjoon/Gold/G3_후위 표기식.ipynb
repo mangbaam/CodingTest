{
 "cells": [
  {
   "cell_type": "markdown",
   "source": [
    "https://www.acmicpc.net/problem/1918"
   ],
   "metadata": {
    "collapsed": false,
    "pycharm": {
     "name": "#%% md\n"
    }
   }
  },
  {
   "cell_type": "code",
   "execution_count": 63,
   "outputs": [
    {
     "name": "stdout",
     "output_type": "stream",
     "text": [
      "ABC*D++E-\n"
     ]
    }
   ],
   "source": [
    "infix = input()\n",
    "stack = []\n",
    "postfix = []\n",
    "nums = 'ABCDEFGHIJKLMNOPQRSTUVWXYZ'\n",
    "\n",
    "\n",
    "def priority(op):\n",
    "    if op in '+-': return 1\n",
    "    if op in '*/': return 2\n",
    "\n",
    "\n",
    "for s in infix: # 숫자, 괄호, 연산자\n",
    "    if s in nums:  # 숫자는 그대로 출력\n",
    "        postfix.append(s)\n",
    "    elif not stack:  # 스택 비었으면 그냥 저장\n",
    "        stack.append(s)\n",
    "    elif s == '(':  # 여는 괄호 그냥 저장\n",
    "        stack.append(s)\n",
    "    elif s == ')':  # 여는 괄호가 나올 때까지 pop. 괄호는 버림\n",
    "        while True:\n",
    "            c = stack.pop()\n",
    "            if c == '(': break\n",
    "            postfix.append(c)\n",
    "    elif stack[-1] == '(':  # 여는 괄호 다음 연산자 저장\n",
    "        stack.append(s)\n",
    "    elif priority(stack[-1]) < priority(s):  # 우선 순위 더 높으면 스택에 저장\n",
    "        stack.append(s)\n",
    "    elif priority(stack[-1]) >= priority(s):  # 우선 순위 낮거나 같으면 '(' 만날 때 까지나 높을 때까지 뽑아서 출력\n",
    "        while stack and not stack[-1] == '(' and priority(stack[-1]) >= priority(s):\n",
    "            postfix.append(stack.pop())\n",
    "        stack.append(s)\n",
    "while stack:\n",
    "    postfix.append(stack.pop())\n",
    "\n",
    "print(''.join(postfix))  # 후위 표기식 출력"
   ],
   "metadata": {
    "collapsed": false,
    "pycharm": {
     "name": "#%%\n"
    }
   }
  }
 ],
 "metadata": {
  "kernelspec": {
   "display_name": "Python 3",
   "language": "python",
   "name": "python3"
  },
  "language_info": {
   "codemirror_mode": {
    "name": "ipython",
    "version": 2
   },
   "file_extension": ".py",
   "mimetype": "text/x-python",
   "name": "python",
   "nbconvert_exporter": "python",
   "pygments_lexer": "ipython2",
   "version": "2.7.6"
  }
 },
 "nbformat": 4,
 "nbformat_minor": 0
}