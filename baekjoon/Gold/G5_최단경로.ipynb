{
 "cells": [
  {
   "cell_type": "markdown",
   "source": [
    "https://www.acmicpc.net/problem/1753"
   ],
   "metadata": {
    "collapsed": false,
    "pycharm": {
     "name": "#%% md\n"
    }
   }
  },
  {
   "cell_type": "code",
   "execution_count": 13,
   "outputs": [
    {
     "name": "stdout",
     "output_type": "stream",
     "text": [
      "0\n",
      "2\n",
      "3\n",
      "7\n",
      "INF\n"
     ]
    }
   ],
   "source": [
    "import heapq\n",
    "\n",
    "INF = 10 ** 9\n",
    "v, e = map(int, input().split())\n",
    "k = int(input())\n",
    "graph = [dict() for _ in range(v + 1)]\n",
    "distance = [INF] * (v + 1)\n",
    "\n",
    "for _ in range(e):\n",
    "    a, b, c = map(int, input().split())\n",
    "    if b in graph[a].keys():\n",
    "        graph[a][b] = min(graph[a][b], c)\n",
    "    else:\n",
    "        graph[a][b] = c\n",
    "\n",
    "\n",
    "def dijkstra(start):\n",
    "    q = []\n",
    "    heapq.heappush(q, (0, start))\n",
    "    distance[start] = 0\n",
    "\n",
    "    while q:\n",
    "        dist, now = heapq.heappop(q)\n",
    "        if dist > distance[now]: continue\n",
    "\n",
    "        for node, d in graph[now].items():\n",
    "            cost = dist + d\n",
    "            if cost < distance[node]:\n",
    "                distance[node] = cost\n",
    "                heapq.heappush(q, (cost, node))\n",
    "\n",
    "\n",
    "dijkstra(k)\n",
    "\n",
    "for i in range(1, v + 1):\n",
    "    print(distance[i]) if not distance[i] == INF else print(\"INF\")"
   ],
   "metadata": {
    "collapsed": false,
    "pycharm": {
     "name": "#%%\n"
    }
   }
  },
  {
   "cell_type": "markdown",
   "source": [
    "### 메모리 초과"
   ],
   "metadata": {
    "collapsed": false,
    "pycharm": {
     "name": "#%% md\n"
    }
   }
  },
  {
   "cell_type": "code",
   "execution_count": 11,
   "outputs": [
    {
     "name": "stdout",
     "output_type": "stream",
     "text": [
      "0\n",
      "2\n",
      "3\n",
      "7\n",
      "INF\n"
     ]
    }
   ],
   "source": [
    "import heapq\n",
    "\n",
    "INF = 100\n",
    "v, e = map(int, input().split())\n",
    "k = int(input())\n",
    "graph = [[False for _ in range(v + 1)] for _ in range(v + 1)]\n",
    "distance = [INF] * (v + 1)\n",
    "for _ in range(e):\n",
    "    a, b, c = map(int, input().split())\n",
    "    graph[a][b] = min(graph[a][b], c) if graph[a][b] else c\n",
    "\n",
    "\n",
    "def dijkstra(start):\n",
    "    q = []\n",
    "    heapq.heappush(q, (0, start))\n",
    "    distance[start] = 0\n",
    "\n",
    "    while q:\n",
    "        dist, now = heapq.heappop(q)\n",
    "        if dist > distance[now]: continue\n",
    "\n",
    "        for i in range(1, v + 1):\n",
    "            if not graph[now][i]: continue\n",
    "            cost = dist + graph[now][i]\n",
    "            if cost < distance[i]:\n",
    "                distance[i] = cost\n",
    "                heapq.heappush(q, (cost, i))\n",
    "\n",
    "\n",
    "dijkstra(k)\n",
    "\n",
    "for i in range(1, v + 1):\n",
    "    print(distance[i]) if not distance[i] == INF else print(\"INF\")"
   ],
   "metadata": {
    "collapsed": false,
    "pycharm": {
     "name": "#%%\n"
    }
   }
  }
 ],
 "metadata": {
  "kernelspec": {
   "display_name": "Python 3",
   "language": "python",
   "name": "python3"
  },
  "language_info": {
   "codemirror_mode": {
    "name": "ipython",
    "version": 2
   },
   "file_extension": ".py",
   "mimetype": "text/x-python",
   "name": "python",
   "nbconvert_exporter": "python",
   "pygments_lexer": "ipython2",
   "version": "2.7.6"
  }
 },
 "nbformat": 4,
 "nbformat_minor": 0
}