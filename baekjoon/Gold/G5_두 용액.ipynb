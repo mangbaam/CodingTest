{
 "cells": [
  {
   "cell_type": "markdown",
   "metadata": {
    "collapsed": true,
    "pycharm": {
     "name": "#%% md\n"
    }
   },
   "source": [
    "https://www.acmicpc.net/problem/2470"
   ]
  },
  {
   "cell_type": "code",
   "execution_count": 12,
   "outputs": [
    {
     "name": "stdout",
     "output_type": "stream",
     "text": [
      "-99 98\n"
     ]
    }
   ],
   "source": [
    "n = int(input())\n",
    "arr = sorted(map(int, input().split()))\n",
    "\n",
    "\n",
    "def binary_search(s, target):\n",
    "    global arr\n",
    "    res = n\n",
    "    start, end = s, n - 1\n",
    "\n",
    "    while start <= end:\n",
    "        mid = (start + end) // 2\n",
    "        if arr[mid] >= target:\n",
    "            res = mid\n",
    "            end = mid - 1\n",
    "        else:\n",
    "            start = mid + 1\n",
    "    return res\n",
    "\n",
    "\n",
    "def solution():\n",
    "    global arr\n",
    "    v1, v2 = 0, 0\n",
    "    best_sum = 10 ** 10\n",
    "    for i in range(n):\n",
    "        res = binary_search(i + 1, -arr[i])\n",
    "        if i + 1 <= res - 1 < n and abs(arr[i] + arr[res - 1]) < best_sum:\n",
    "            best_sum = abs(arr[i] + arr[res - 1])\n",
    "            v1, v2 = arr[i], arr[res - 1]\n",
    "\n",
    "        if i + 1<= res < n and abs(arr[i] + arr[res]) < best_sum:\n",
    "            best_sum = abs(arr[i] + arr[res])\n",
    "            v1, v2 = arr[i], arr[res]\n",
    "    print(v1, v2)\n",
    "\n",
    "\n",
    "solution()"
   ],
   "metadata": {
    "collapsed": false,
    "pycharm": {
     "name": "#%%\n"
    }
   }
  }
 ],
 "metadata": {
  "kernelspec": {
   "display_name": "Python 3",
   "language": "python",
   "name": "python3"
  },
  "language_info": {
   "codemirror_mode": {
    "name": "ipython",
    "version": 2
   },
   "file_extension": ".py",
   "mimetype": "text/x-python",
   "name": "python",
   "nbconvert_exporter": "python",
   "pygments_lexer": "ipython2",
   "version": "2.7.6"
  }
 },
 "nbformat": 4,
 "nbformat_minor": 0
}