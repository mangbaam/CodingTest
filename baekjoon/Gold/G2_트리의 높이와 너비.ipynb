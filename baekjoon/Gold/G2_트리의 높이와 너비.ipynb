{
 "cells": [
  {
   "cell_type": "markdown",
   "source": [
    "https://www.acmicpc.net/problem/2250"
   ],
   "metadata": {
    "collapsed": false,
    "pycharm": {
     "name": "#%% md\n"
    }
   }
  },
  {
   "cell_type": "code",
   "execution_count": 15,
   "outputs": [
    {
     "name": "stdout",
     "output_type": "stream",
     "text": [
      "distance:  [[], [10], [3, 15], [2, 8, 13, 19], [1, 5, 9, 12, 14, 18], [4, 7, 11, 16], [6, 17], [], [], [], [], [], [], [], [], [], [], [], [], []]\n",
      "\n",
      "graph:  [[0, 0], [2, 3], [4, 5], [6, 7], [8, -1], [9, 10], [11, 12], [13, -1], [-1, -1], [14, 15], [-1, -1], [16, -1], [-1, -1], [17, -1], [-1, -1], [18, -1], [-1, -1], [-1, 19], [-1, -1], [-1, -1]]\n",
      "\n",
      "3\n",
      "18\n"
     ]
    }
   ],
   "source": [
    "n = int(input())\n",
    "graph = [[0, 0] for _ in range(n + 1)] # [왼쪽 자식 노드, 오른쪽 자식 노드]\n",
    "row = [list() for _ in range(n + 1)] # 각 레벨의 노드들 저장\n",
    "root_check = [0] * (n + 1) # 루트 노드 찾기 위한 리스트\n",
    "index = 1 # row에 추가 될 노드의 번호\n",
    "\n",
    "# 그래프 연결 및 루트 노드 확인 준비\n",
    "def init_graph():\n",
    "    for _ in range(n):\n",
    "        node, left, right = map(int, input().split())\n",
    "        graph[node] = [left, right]\n",
    "        root_check[node] += 1\n",
    "        if left != -1: root_check[left] += 1\n",
    "        if right != -1: root_check[right] += 1\n",
    "\n",
    "# 루트 노드 찾기\n",
    "def find_root():\n",
    "    return root_check.index(1) # 루트 노드만 1을 가진다\n",
    "\n",
    "# 레벨 별 노드 추가\n",
    "def dfs(node, level):\n",
    "    global index\n",
    "    left, right = graph[node]\n",
    "    if graph[node][0] != -1:\n",
    "        dfs(left, level + 1)\n",
    "    row[level].append(index)\n",
    "    index += 1\n",
    "    if graph[node][1] != -1:\n",
    "        dfs(right, level + 1)\n",
    "\n",
    "# 최대 넓이를 가진 레벨 찾아서 출력\n",
    "def print_answer():\n",
    "    level = 1\n",
    "    max_dist = max(row[1]) - min(row[1]) + 1\n",
    "    for i in range(2, n + 1):\n",
    "        if not row[i]: break # 레벨이 존재하지 않으면 종료\n",
    "        distance = max(row[i]) - min(row[i]) + 1\n",
    "        if max_dist < distance:\n",
    "            max_dist = distance\n",
    "            level = i\n",
    "    print(level, max_dist) # 정답 출력\n",
    "\n",
    "\n",
    "init_graph()\n",
    "dfs(find_root(), 1)\n",
    "print_answer()"
   ],
   "metadata": {
    "collapsed": false,
    "pycharm": {
     "name": "#%%\n"
    }
   }
  }
 ],
 "metadata": {
  "kernelspec": {
   "display_name": "Python 3",
   "language": "python",
   "name": "python3"
  },
  "language_info": {
   "codemirror_mode": {
    "name": "ipython",
    "version": 2
   },
   "file_extension": ".py",
   "mimetype": "text/x-python",
   "name": "python",
   "nbconvert_exporter": "python",
   "pygments_lexer": "ipython2",
   "version": "2.7.6"
  }
 },
 "nbformat": 4,
 "nbformat_minor": 0
}