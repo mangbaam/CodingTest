{
 "cells": [
  {
   "cell_type": "code",
   "execution_count": 5,
   "metadata": {
    "collapsed": true
   },
   "outputs": [
    {
     "name": "stdout",
     "output_type": "stream",
     "text": [
      "일반ver. 0, 0\n",
      "일반ver. 0, 3\n",
      "일반ver. 1, 0\n",
      "일반ver. 2, 3\n",
      "색약ver. 0, 0\n",
      "색약ver. 0, 3\n",
      "색약ver. 2, 3\n",
      "4 3\n"
     ]
    }
   ],
   "source": [
    "from collections import deque\n",
    "\n",
    "n = int(input())\n",
    "arr = [list(input()) for _ in range(n)] # 그림\n",
    "d = [(-1, 0), (1, 0), (0, -1), (0, 1)] # 방향\n",
    "visited = list() # BFS 수행 전에 할당되어야 할 리스트\n",
    "\n",
    "normal = weakness = 0\n",
    "\n",
    "\n",
    "def bfs(weak, a, b):\n",
    "    global n, arr, normal, weakness\n",
    "\n",
    "    queue = deque([(a, b)])\n",
    "    visited[a][b] = True\n",
    "\n",
    "    if weak:\n",
    "        weakness += 1\n",
    "    else:\n",
    "        normal += 1\n",
    "\n",
    "    while queue:\n",
    "        x, y = queue.popleft()\n",
    "        for i in range(4):\n",
    "            nx, ny = x + d[i][0], y + d[i][1]\n",
    "            if nx in range(n) and ny in range(n) and not visited[nx][ny] and (arr[a][b] == arr[nx][ny] or (weak and (arr[a][b] != 'B' and arr[nx][ny] != 'B'))):\n",
    "                queue.append((nx, ny))\n",
    "                visited[nx][ny] = True\n",
    "\n",
    "\n",
    "def solution():\n",
    "    global n, visited\n",
    "\n",
    "    visited = [[False] * n for _ in range(n)]\n",
    "    for i in range(n):\n",
    "        for j in range(n):\n",
    "            if not visited[i][j]:\n",
    "                bfs(False, i, j)\n",
    "\n",
    "    visited = [[False] * n for _ in range(n)]\n",
    "    for i in range(n):\n",
    "        for j in range(n):\n",
    "            if not visited[i][j]:\n",
    "                bfs(True, i, j)\n",
    "    print(normal, weakness)\n",
    "\n",
    "\n",
    "solution()"
   ]
  }
 ],
 "metadata": {
  "kernelspec": {
   "display_name": "Python 3",
   "language": "python",
   "name": "python3"
  },
  "language_info": {
   "codemirror_mode": {
    "name": "ipython",
    "version": 2
   },
   "file_extension": ".py",
   "mimetype": "text/x-python",
   "name": "python",
   "nbconvert_exporter": "python",
   "pygments_lexer": "ipython2",
   "version": "2.7.6"
  }
 },
 "nbformat": 4,
 "nbformat_minor": 0
}