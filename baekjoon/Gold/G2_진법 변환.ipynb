{
 "cells": [
  {
   "cell_type": "markdown",
   "source": [
    "https://www.acmicpc.net/problem/1112\n",
    "## [해설](https://latte-is-horse.tistory.com/361)"
   ],
   "metadata": {
    "collapsed": false,
    "pycharm": {
     "name": "#%% md\n"
    }
   }
  },
  {
   "cell_type": "code",
   "execution_count": 32,
   "outputs": [
    {
     "name": "stdout",
     "output_type": "stream",
     "text": [
      "0\n"
     ]
    }
   ],
   "source": [
    "num, n = map(int, input().split())\n",
    "positive = n < 0 or (n >= 0 and num >= 0)\n",
    "if not positive: num *= -1\n",
    "remain = []\n",
    "while num:\n",
    "    q, r = divmod(num, n)\n",
    "    if r < 0:\n",
    "        q += 1\n",
    "        r -= n\n",
    "    remain.append(r)\n",
    "    num = q\n",
    "result = ''.join(map(str, remain[::-1]))\n",
    "if remain:\n",
    "    print(result) if positive else print(f'-{result}')\n",
    "else:\n",
    "    print(0)"
   ],
   "metadata": {
    "collapsed": false,
    "pycharm": {
     "name": "#%%\n"
    }
   }
  }
 ],
 "metadata": {
  "kernelspec": {
   "display_name": "Python 3",
   "language": "python",
   "name": "python3"
  },
  "language_info": {
   "codemirror_mode": {
    "name": "ipython",
    "version": 2
   },
   "file_extension": ".py",
   "mimetype": "text/x-python",
   "name": "python",
   "nbconvert_exporter": "python",
   "pygments_lexer": "ipython2",
   "version": "2.7.6"
  }
 },
 "nbformat": 4,
 "nbformat_minor": 0
}