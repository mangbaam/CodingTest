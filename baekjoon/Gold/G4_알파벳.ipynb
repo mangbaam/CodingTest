{
 "cells": [
  {
   "cell_type": "markdown",
   "source": [
    "https://www.acmicpc.net/problem/1987"
   ],
   "metadata": {
    "collapsed": false,
    "pycharm": {
     "name": "#%% md\n"
    }
   }
  },
  {
   "cell_type": "code",
   "execution_count": 10,
   "outputs": [
    {
     "name": "stdout",
     "output_type": "stream",
     "text": [
      "6\n"
     ]
    }
   ],
   "source": [
    "n, m = map(int, input().split())\n",
    "board = [list(input()) for _ in range(n)]\n",
    "answer = 1\n",
    "d = [(0, 1), (0, -1), (1, 0), (-1, 0)]\n",
    "\n",
    "\n",
    "def bfs():\n",
    "    global answer\n",
    "    q = {(0, 0, board[0][0])}\n",
    "\n",
    "    while q:\n",
    "        cx, cy, alpha = q.pop()\n",
    "        answer = max(answer, len(alpha))\n",
    "\n",
    "        for i in range(4):\n",
    "            nx, ny = cx + d[i][0], cy + d[i][1]\n",
    "            if nx in range(n) and ny in range(m) and board[nx][ny] not in alpha:\n",
    "                q.add((nx, ny, alpha + board[nx][ny]))\n",
    "\n",
    "\n",
    "bfs()\n",
    "print(answer)"
   ],
   "metadata": {
    "collapsed": false,
    "pycharm": {
     "name": "#%%\n"
    }
   }
  },
  {
   "cell_type": "code",
   "execution_count": 6,
   "outputs": [
    {
     "name": "stdout",
     "output_type": "stream",
     "text": [
      "10\n"
     ]
    }
   ],
   "source": [
    "import string, sys\n",
    "\n",
    "# def input():\n",
    "#     return sys.stdin.readline().rstrip()\n",
    "\n",
    "\n",
    "n, m = map(int, input().split())\n",
    "board = [list(input()) for _ in range(n)]\n",
    "visited = {c: False for c in string.ascii_uppercase}\n",
    "d = [(0, 1), (0, -1), (1, 0), (-1, 0)]\n",
    "answer = 0\n",
    "\n",
    "\n",
    "def rec_fun(x, y, count):\n",
    "    global answer\n",
    "\n",
    "    answer = max(answer, count)\n",
    "    for i in range(4):\n",
    "        nx, ny = x + d[i][0], y + d[i][1]\n",
    "        if nx in range(n) and ny in range(m) and not visited[board[nx][ny]]:\n",
    "            visited[board[nx][ny]] = True\n",
    "            rec_fun(nx, ny, count + 1)\n",
    "            visited[board[nx][ny]] = False\n",
    "\n",
    "\n",
    "visited[board[0][0]] = True\n",
    "rec_fun(0, 0, 1)\n",
    "print(answer)"
   ],
   "metadata": {
    "collapsed": false,
    "pycharm": {
     "name": "#%%\n"
    }
   }
  }
 ],
 "metadata": {
  "kernelspec": {
   "display_name": "Python 3",
   "language": "python",
   "name": "python3"
  },
  "language_info": {
   "codemirror_mode": {
    "name": "ipython",
    "version": 2
   },
   "file_extension": ".py",
   "mimetype": "text/x-python",
   "name": "python",
   "nbconvert_exporter": "python",
   "pygments_lexer": "ipython2",
   "version": "2.7.6"
  }
 },
 "nbformat": 4,
 "nbformat_minor": 0
}