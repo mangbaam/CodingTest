{
 "cells": [
  {
   "cell_type": "markdown",
   "source": [
    "https://www.acmicpc.net/problem/1520"
   ],
   "metadata": {
    "collapsed": false,
    "pycharm": {
     "name": "#%% md\n"
    }
   }
  },
  {
   "cell_type": "code",
   "execution_count": 3,
   "outputs": [
    {
     "name": "stdout",
     "output_type": "stream",
     "text": [
      "3\n"
     ]
    }
   ],
   "source": [
    "import sys\n",
    "\n",
    "sys.setrecursionlimit(10 ** 6)\n",
    "\n",
    "n, m = map(int, input().split())\n",
    "graph = [list(map(int, input().split())) for _ in range(n)]\n",
    "answer = 0\n",
    "\n",
    "d = [[-1] * m for _ in range(n)]\n",
    "\n",
    "\n",
    "def dfs(x, y):\n",
    "    global answer\n",
    "    if (x, y) == (n - 1, m - 1):\n",
    "        return 1\n",
    "    if d[x][y] != -1:\n",
    "        return d[x][y]\n",
    "\n",
    "    count = 0\n",
    "    for i, j in [(1, 0), (-1, 0), (0, 1), (0, -1)]:\n",
    "        nx, ny = x + i, y + j\n",
    "        if nx in range(n) and ny in range(m) and graph[nx][ny] < graph[x][y]:\n",
    "            count += dfs(nx, ny)\n",
    "\n",
    "    d[x][y] = count\n",
    "    return count\n",
    "\n",
    "\n",
    "print(dfs(0, 0))"
   ],
   "metadata": {
    "collapsed": false,
    "pycharm": {
     "name": "#%%\n"
    }
   }
  }
 ],
 "metadata": {
  "kernelspec": {
   "display_name": "Python 3",
   "language": "python",
   "name": "python3"
  },
  "language_info": {
   "codemirror_mode": {
    "name": "ipython",
    "version": 2
   },
   "file_extension": ".py",
   "mimetype": "text/x-python",
   "name": "python",
   "nbconvert_exporter": "python",
   "pygments_lexer": "ipython2",
   "version": "2.7.6"
  }
 },
 "nbformat": 4,
 "nbformat_minor": 0
}