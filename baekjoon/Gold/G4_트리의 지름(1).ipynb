{
 "cells": [
  {
   "cell_type": "markdown",
   "source": [
    "https://www.acmicpc.net/problem/1967"
   ],
   "metadata": {
    "collapsed": false,
    "pycharm": {
     "name": "#%% md\n"
    }
   }
  },
  {
   "cell_type": "code",
   "execution_count": 3,
   "outputs": [
    {
     "name": "stdout",
     "output_type": "stream",
     "text": [
      "45\n"
     ]
    }
   ],
   "source": [
    "import sys\n",
    "sys.setrecursionlimit(10 ** 9)\n",
    "\n",
    "def dfs(node, weight):\n",
    "    for x in graph[node]:\n",
    "        if distance[x[0]] == -1:\n",
    "            distance[x[0]] = weight + x[1]\n",
    "            dfs(x[0], weight + x[1])\n",
    "\n",
    "n = int(input())\n",
    "graph = [[] for _ in range(n)]\n",
    "distance = [-1] * n\n",
    "for _ in range(n - 1):\n",
    "    p, c, w = map(int, input().split())\n",
    "    graph[p - 1].append((c - 1, w))\n",
    "    graph[c - 1].append((p - 1, w))\n",
    "\n",
    "distance[0] = 0\n",
    "dfs(0, 0)\n",
    "\n",
    "start = distance.index(max(distance))\n",
    "distance = [-1] * n\n",
    "distance[start] = 0\n",
    "dfs(start, 0)\n",
    "\n",
    "print(max(distance))"
   ],
   "metadata": {
    "collapsed": false,
    "pycharm": {
     "name": "#%%\n"
    }
   }
  }
 ],
 "metadata": {
  "kernelspec": {
   "display_name": "Python 3",
   "language": "python",
   "name": "python3"
  },
  "language_info": {
   "codemirror_mode": {
    "name": "ipython",
    "version": 2
   },
   "file_extension": ".py",
   "mimetype": "text/x-python",
   "name": "python",
   "nbconvert_exporter": "python",
   "pygments_lexer": "ipython2",
   "version": "2.7.6"
  }
 },
 "nbformat": 4,
 "nbformat_minor": 0
}