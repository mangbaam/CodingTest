{
 "cells": [
  {
   "cell_type": "markdown",
   "source": [
    "https://www.acmicpc.net/problem/12865"
   ],
   "metadata": {
    "collapsed": false,
    "pycharm": {
     "name": "#%% md\n"
    }
   }
  },
  {
   "cell_type": "code",
   "execution_count": 19,
   "outputs": [
    {
     "name": "stdout",
     "output_type": "stream",
     "text": [
      "9\n"
     ]
    }
   ],
   "source": [
    "n, max_weight = map(int, input().split())\n",
    "things = [(0, 0)]\n",
    "for _ in range(n):\n",
    "    weight, value = map(int, input().split())\n",
    "    if weight > max_weight: continue\n",
    "    things.append((weight, value))\n",
    "\n",
    "dp = [[0] * (max_weight + 1) for _ in range(len(things))]\n",
    "\n",
    "for i in range(1, len(things)):  # things[i][0] : 무게, things[i][1] : 가치\n",
    "    for j in range(1, max_weight + 1):  # j : 현재 확인하는 무게\n",
    "        dp[i][j] = max(things[i][1] + dp[i - 1][j - things[i][0]], dp[i - 1][j]) if j - things[i][0] >= 0 else dp[i - 1][j]\n",
    "print(dp[-1][-1])"
   ],
   "metadata": {
    "collapsed": false,
    "pycharm": {
     "name": "#%%\n"
    }
   }
  }
 ],
 "metadata": {
  "kernelspec": {
   "display_name": "Python 3",
   "language": "python",
   "name": "python3"
  },
  "language_info": {
   "codemirror_mode": {
    "name": "ipython",
    "version": 2
   },
   "file_extension": ".py",
   "mimetype": "text/x-python",
   "name": "python",
   "nbconvert_exporter": "python",
   "pygments_lexer": "ipython2",
   "version": "2.7.6"
  }
 },
 "nbformat": 4,
 "nbformat_minor": 0
}