{
 "cells": [
  {
   "cell_type": "markdown",
   "source": [
    "https://www.acmicpc.net/problem/2023\n",
    "## [해설](https://latte-is-horse.tistory.com/367)"
   ],
   "metadata": {
    "collapsed": false,
    "pycharm": {
     "name": "#%% md\n"
    }
   }
  },
  {
   "cell_type": "code",
   "execution_count": 23,
   "outputs": [
    {
     "name": "stdout",
     "output_type": "stream",
     "text": [
      "2333\n",
      "2339\n",
      "2393\n",
      "2399\n",
      "2939\n",
      "3119\n",
      "3137\n",
      "3733\n",
      "3739\n",
      "3793\n",
      "3797\n",
      "5939\n",
      "7193\n",
      "7331\n",
      "7333\n",
      "7393\n"
     ]
    }
   ],
   "source": [
    "from collections import deque\n",
    "\n",
    "\n",
    "def is_prime(n):\n",
    "    for i in range(3, int(n ** (1 / 2)) + 1):\n",
    "        if not n % i: return False\n",
    "    return True\n",
    "\n",
    "\n",
    "def bfs():\n",
    "    q = deque([2, 3, 5, 7])\n",
    "    while q:\n",
    "        n = q.popleft()\n",
    "        if n // (10 ** (limit - 1)) > 0:\n",
    "            print(n)\n",
    "        else:\n",
    "            for i in range(1, 10, 2):\n",
    "                if is_prime(n * 10 + i):\n",
    "                    q.append(n * 10 + i)\n",
    "\n",
    "limit = int(input())\n",
    "bfs()"
   ],
   "metadata": {
    "collapsed": false,
    "pycharm": {
     "name": "#%%\n"
    }
   }
  }
 ],
 "metadata": {
  "kernelspec": {
   "display_name": "Python 3",
   "language": "python",
   "name": "python3"
  },
  "language_info": {
   "codemirror_mode": {
    "name": "ipython",
    "version": 2
   },
   "file_extension": ".py",
   "mimetype": "text/x-python",
   "name": "python",
   "nbconvert_exporter": "python",
   "pygments_lexer": "ipython2",
   "version": "2.7.6"
  }
 },
 "nbformat": 4,
 "nbformat_minor": 0
}