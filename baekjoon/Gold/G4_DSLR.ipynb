{
 "cells": [
  {
   "cell_type": "markdown",
   "metadata": {
    "collapsed": true,
    "pycharm": {
     "name": "#%% md\n"
    }
   },
   "source": [
    "https://www.acmicpc.net/problem/9019"
   ]
  },
  {
   "cell_type": "code",
   "execution_count": null,
   "outputs": [],
   "source": [
    "from collections import deque\n",
    "\n",
    "command = 'DSLR'\n",
    "visited = list()\n",
    "\n",
    "\n",
    "def calc(cmd, num):\n",
    "    if cmd == 0:  # D\n",
    "        return (num * 2) % 10000\n",
    "    elif cmd == 1:  # S\n",
    "        return (num - 1) % 10000\n",
    "    elif cmd == 2:  # L\n",
    "        return (num % 1000) * 10 + num // 1000\n",
    "    elif cmd == 3:  # R\n",
    "        return (num % 10) * 1000 + num // 10\n",
    "\n",
    "\n",
    "def bfs(num, target):\n",
    "    global visited\n",
    "    queue = deque([(num, \"\")])\n",
    "\n",
    "    while queue:\n",
    "        cn, cc = queue.popleft()\n",
    "\n",
    "        if cn == target: return cc\n",
    "        for i in range(4):\n",
    "            cal_num = calc(i, cn)\n",
    "            if not visited[cal_num]:\n",
    "                visited[cal_num] = True\n",
    "                queue.append((cal_num, cc + command[i]))\n",
    "\n",
    "\n",
    "for _ in range(int(input())):\n",
    "    n, t = map(int, input().split())\n",
    "    visited = [False] * 10000\n",
    "    print(bfs(n, t))"
   ],
   "metadata": {
    "collapsed": false,
    "pycharm": {
     "name": "#%%\n"
    }
   }
  }
 ],
 "metadata": {
  "kernelspec": {
   "display_name": "Python 3",
   "language": "python",
   "name": "python3"
  },
  "language_info": {
   "codemirror_mode": {
    "name": "ipython",
    "version": 2
   },
   "file_extension": ".py",
   "mimetype": "text/x-python",
   "name": "python",
   "nbconvert_exporter": "python",
   "pygments_lexer": "ipython2",
   "version": "2.7.6"
  }
 },
 "nbformat": 4,
 "nbformat_minor": 0
}