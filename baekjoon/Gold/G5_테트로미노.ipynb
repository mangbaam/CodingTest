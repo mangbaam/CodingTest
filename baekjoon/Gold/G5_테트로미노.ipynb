{
 "cells": [
  {
   "cell_type": "markdown",
   "source": [
    "https://www.acmicpc.net/problem/14500"
   ],
   "metadata": {
    "collapsed": false,
    "pycharm": {
     "name": "#%% md\n"
    }
   }
  },
  {
   "cell_type": "code",
   "execution_count": 20,
   "outputs": [
    {
     "name": "stdout",
     "output_type": "stream",
     "text": [
      "19\n"
     ]
    }
   ],
   "source": [
    "def rect(li):\n",
    "    return sum(li[0]) + sum(li[1]) - \\\n",
    "           min(\n",
    "               li[0][0] + min(li[0][1], li[0][2], li[1][0], li[1][2]),\n",
    "               li[0][1] + li[0][2],\n",
    "               li[0][2] + min(li[1][0], li[1][2]),\n",
    "               li[1][0] + min(li[1][1:]),\n",
    "               li[1][1] + li[1][2]\n",
    "            )\n",
    "\n",
    "\n",
    "answer = 0\n",
    "\n",
    "n, m = map(int, input().split())\n",
    "graph = [list(map(int, input().split())) for _ in range(n)]\n",
    "\n",
    "for i in range(n):\n",
    "    for j in range(m):\n",
    "        # 일자\n",
    "        if m - j >= 4:  # 가로\n",
    "            answer = max(answer, sum(graph[i][j:j + 4]))\n",
    "        if n - i >= 4:  # 세로\n",
    "            answer = max(answer, sum([graph[x][j] for x in range(i, i + 4)]))\n",
    "        # 나머지\n",
    "        if m - j >= 3 and n - i >= 2:  # 2 x 3 배열\n",
    "            li = [graph[x][j: j + 3] for x in range(i, i + 2)]\n",
    "            answer = max(answer, rect(li))\n",
    "        if m - j >= 2 and n - i >= 3:  # 3 x 2 배열\n",
    "            li = [graph[x][j: j + 2] for x in range(i, i + 3)]\n",
    "            answer = max(answer, rect(list(zip(*li[::-1])))) # 시계 방향 회전\n",
    "\n",
    "print(answer)"
   ],
   "metadata": {
    "collapsed": false,
    "pycharm": {
     "name": "#%%\n"
    }
   }
  }
 ],
 "metadata": {
  "kernelspec": {
   "display_name": "Python 3",
   "language": "python",
   "name": "python3"
  },
  "language_info": {
   "codemirror_mode": {
    "name": "ipython",
    "version": 2
   },
   "file_extension": ".py",
   "mimetype": "text/x-python",
   "name": "python",
   "nbconvert_exporter": "python",
   "pygments_lexer": "ipython2",
   "version": "2.7.6"
  }
 },
 "nbformat": 4,
 "nbformat_minor": 0
}