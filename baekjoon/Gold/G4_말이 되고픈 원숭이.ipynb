{
 "cells": [
  {
   "cell_type": "markdown",
   "source": [
    "https://www.acmicpc.net/problem/1600\n",
    "## https://latte-is-horse.tistory.com/352"
   ],
   "metadata": {
    "collapsed": false,
    "pycharm": {
     "name": "#%% md\n"
    }
   }
  },
  {
   "cell_type": "code",
   "execution_count": 40,
   "outputs": [
    {
     "name": "stdout",
     "output_type": "stream",
     "text": [
      "4\n"
     ]
    }
   ],
   "source": [
    "from collections import deque\n",
    "\n",
    "k = int(input())\n",
    "w, h = map(int, input().split())\n",
    "graph = [list(map(int, input().split())) for _ in range(h)]\n",
    "\n",
    "d = [(-1, 0), (1, 0), (0, -1), (0, 1)]\n",
    "dh = [(-2, -1), (-2, 1), (-1, 2), (1, 2), (2, 1), (2, -1), (1, -2), (-1, -2)]\n",
    "\n",
    "\n",
    "def bfs():\n",
    "    visited = [[[0] * (k + 1) for _ in range(w)] for _ in range(h)]\n",
    "    q = deque([(0, 0, k)])\n",
    "    visited[0][0][k] = 0\n",
    "    while q:\n",
    "        x, y, horse = q.popleft()\n",
    "        if (x, y) == (h - 1, w - 1):\n",
    "            print(visited[x][y][horse])\n",
    "            return\n",
    "        if horse >= 1: # 말 움직일 수 있을 때\n",
    "            for i in range(8):\n",
    "                nx, ny = x + dh[i][0], y + dh[i][1]\n",
    "                if nx in range(h) and ny in range(w) and not graph[nx][ny] and not visited[nx][ny][horse - 1]:\n",
    "                    visited[nx][ny][horse - 1] = visited[x][y][horse] + 1\n",
    "                    q.append((nx, ny, horse - 1))\n",
    "        for i in range(4): # 항상 수행\n",
    "            nx, ny = x + d[i][0], y + d[i][1]\n",
    "            if nx in range(h) and ny in range(w) and not graph[nx][ny] and not visited[nx][ny][horse]:\n",
    "                visited[nx][ny][horse] = visited[x][y][horse] + 1\n",
    "                q.append((nx, ny, horse))\n",
    "\n",
    "    print(-1)\n",
    "\n",
    "\n",
    "bfs()"
   ],
   "metadata": {
    "collapsed": false,
    "pycharm": {
     "name": "#%%\n"
    }
   }
  }
 ],
 "metadata": {
  "kernelspec": {
   "display_name": "Python 3",
   "language": "python",
   "name": "python3"
  },
  "language_info": {
   "codemirror_mode": {
    "name": "ipython",
    "version": 2
   },
   "file_extension": ".py",
   "mimetype": "text/x-python",
   "name": "python",
   "nbconvert_exporter": "python",
   "pygments_lexer": "ipython2",
   "version": "2.7.6"
  }
 },
 "nbformat": 4,
 "nbformat_minor": 0
}