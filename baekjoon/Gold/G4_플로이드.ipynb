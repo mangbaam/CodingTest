{
 "cells": [
  {
   "cell_type": "markdown",
   "source": [
    "## https://latte-is-horse.tistory.com/340\n",
    "https://www.acmicpc.net/problem/11404"
   ],
   "metadata": {
    "collapsed": false,
    "pycharm": {
     "name": "#%% md\n"
    }
   }
  },
  {
   "cell_type": "code",
   "execution_count": 6,
   "outputs": [
    {
     "name": "stdout",
     "output_type": "stream",
     "text": [
      "0 0 2 3 1 4 \n",
      "0 12 0 15 2 5 \n",
      "0 8 5 0 1 1 \n",
      "0 10 7 13 0 3 \n",
      "0 7 4 10 6 0 \n"
     ]
    }
   ],
   "source": [
    "INF = 10 ** 9\n",
    "n, m = int(input()), int(input())\n",
    "bus = [[INF] * (n + 1) for _ in range(n + 1)]\n",
    "# 노선 입력\n",
    "for _ in range(m):\n",
    "    a, b, c = map(int, input().split())\n",
    "    bus[a][b] = min(bus[a][b], c)\n",
    "# 플로이드-와샬\n",
    "for k in range(1, n + 1):\n",
    "    for i in range(1, n + 1):\n",
    "        for j in range(1, n + 1):\n",
    "            if i != j: bus[i][j] = min(bus[i][j], bus[i][k] + bus[k][j])\n",
    "for b in bus[1:]:\n",
    "    for cost in b[1:]:\n",
    "        print(cost, end=' ') if cost != INF else print(\"0\", end=' ')\n",
    "    print()"
   ],
   "metadata": {
    "collapsed": false,
    "pycharm": {
     "name": "#%%\n"
    }
   }
  }
 ],
 "metadata": {
  "kernelspec": {
   "display_name": "Python 3",
   "language": "python",
   "name": "python3"
  },
  "language_info": {
   "codemirror_mode": {
    "name": "ipython",
    "version": 2
   },
   "file_extension": ".py",
   "mimetype": "text/x-python",
   "name": "python",
   "nbconvert_exporter": "python",
   "pygments_lexer": "ipython2",
   "version": "2.7.6"
  }
 },
 "nbformat": 4,
 "nbformat_minor": 0
}