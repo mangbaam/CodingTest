{
 "cells": [
  {
   "cell_type": "markdown",
   "source": [
    "https://www.acmicpc.net/problem/1916"
   ],
   "metadata": {
    "collapsed": false,
    "pycharm": {
     "name": "#%% md\n"
    }
   }
  },
  {
   "cell_type": "code",
   "execution_count": 3,
   "outputs": [
    {
     "name": "stdout",
     "output_type": "stream",
     "text": [
      "graph:  [[], [(2, 2), (3, 3), (4, 1), (5, 10)], [(4, 2)], [(4, 1), (5, 1)], [(5, 3)], []]\n",
      "distance:  [1000000000, 0, 1000000000, 1000000000, 1000000000, 1000000000]\n",
      "distance:  [1000000000, 0, 2, 3, 1, 10]\n",
      "distance:  [1000000000, 0, 2, 3, 1, 4]\n",
      "distance:  [1000000000, 0, 2, 3, 1, 4]\n",
      "distance:  [1000000000, 0, 2, 3, 1, 4]\n",
      "distance:  [1000000000, 0, 2, 3, 1, 4]\n",
      "4\n"
     ]
    }
   ],
   "source": [
    "import heapq\n",
    "INF = 10 ** 9\n",
    "\n",
    "n, m = int(input()), int(input())\n",
    "graph = [[] for _ in range(n + 1)]\n",
    "distance = [INF] * (n + 1)\n",
    "for _ in range(m):\n",
    "    # a -> b 비용: c\n",
    "    a, b, c = map(int, input().split())\n",
    "    graph[a].append((b, c))\n",
    "start, target = map(int, input().split())\n",
    "\n",
    "\n",
    "def dijkstra(start):\n",
    "    q = [(0, start)]\n",
    "    distance[start] = 0\n",
    "\n",
    "    while q:\n",
    "        dist, now = heapq.heappop(q)\n",
    "        if distance[now] < dist: continue\n",
    "\n",
    "        for move_to, cost in graph[now]:\n",
    "            if distance[move_to] > distance[now] + cost:\n",
    "                distance[move_to] = distance[now] + cost\n",
    "                heapq.heappush(q, (distance[now] + cost, move_to))\n",
    "\n",
    "dijkstra(start)\n",
    "print(distance[target])"
   ],
   "metadata": {
    "collapsed": false,
    "pycharm": {
     "name": "#%%\n"
    }
   }
  }
 ],
 "metadata": {
  "kernelspec": {
   "display_name": "Python 3",
   "language": "python",
   "name": "python3"
  },
  "language_info": {
   "codemirror_mode": {
    "name": "ipython",
    "version": 2
   },
   "file_extension": ".py",
   "mimetype": "text/x-python",
   "name": "python",
   "nbconvert_exporter": "python",
   "pygments_lexer": "ipython2",
   "version": "2.7.6"
  }
 },
 "nbformat": 4,
 "nbformat_minor": 0
}