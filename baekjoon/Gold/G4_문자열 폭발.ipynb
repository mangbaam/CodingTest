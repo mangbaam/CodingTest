{
 "cells": [
  {
   "cell_type": "markdown",
   "source": [
    "## https://latte-is-horse.tistory.com/339\n",
    "https://www.acmicpc.net/problem/9935"
   ],
   "metadata": {
    "collapsed": false,
    "pycharm": {
     "name": "#%% md\n"
    }
   }
  },
  {
   "cell_type": "code",
   "execution_count": 5,
   "outputs": [
    {
     "name": "stdout",
     "output_type": "stream",
     "text": [
      "mirkovniz\n"
     ]
    }
   ],
   "source": [
    "s, bomb = input(), input()\n",
    "bl = len(bomb)\n",
    "stack = []\n",
    "\n",
    "for c in s:\n",
    "    stack.append(c)\n",
    "    if len(stack) >= bl and c == bomb[-1] and ''.join(stack[-bl:]) == bomb:\n",
    "        del stack[-bl:]\n",
    "\n",
    "print(''.join(stack)) if stack else print('FRULA')"
   ],
   "metadata": {
    "collapsed": false,
    "pycharm": {
     "name": "#%%\n"
    }
   }
  }
 ],
 "metadata": {
  "kernelspec": {
   "display_name": "Python 3",
   "language": "python",
   "name": "python3"
  },
  "language_info": {
   "codemirror_mode": {
    "name": "ipython",
    "version": 2
   },
   "file_extension": ".py",
   "mimetype": "text/x-python",
   "name": "python",
   "nbconvert_exporter": "python",
   "pygments_lexer": "ipython2",
   "version": "2.7.6"
  }
 },
 "nbformat": 4,
 "nbformat_minor": 0
}