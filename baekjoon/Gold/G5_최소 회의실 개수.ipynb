{
 "cells": [
  {
   "cell_type": "markdown",
   "source": [
    "https://www.acmicpc.net/problem/19598"
   ],
   "metadata": {
    "collapsed": false,
    "pycharm": {
     "name": "#%% md\n"
    }
   }
  },
  {
   "cell_type": "code",
   "execution_count": 5,
   "outputs": [
    {
     "name": "stdout",
     "output_type": "stream",
     "text": [
      "1\n"
     ]
    }
   ],
   "source": [
    "import heapq\n",
    "c = sorted([list(map(int, input().split())) for _ in range(int(input()))])\n",
    "room = [c[0][1]]\n",
    "for i in range(1, len(c)):\n",
    "    if room[0] <= c[i][0]: # 안 겹침\n",
    "        heapq.heappushpop(room, c[i][1])\n",
    "    else:\n",
    "        heapq.heappush(room, c[i][1])\n",
    "print(len(room))"
   ],
   "metadata": {
    "collapsed": false,
    "pycharm": {
     "name": "#%%\n"
    }
   }
  }
 ],
 "metadata": {
  "kernelspec": {
   "display_name": "Python 3",
   "language": "python",
   "name": "python3"
  },
  "language_info": {
   "codemirror_mode": {
    "name": "ipython",
    "version": 2
   },
   "file_extension": ".py",
   "mimetype": "text/x-python",
   "name": "python",
   "nbconvert_exporter": "python",
   "pygments_lexer": "ipython2",
   "version": "2.7.6"
  }
 },
 "nbformat": 4,
 "nbformat_minor": 0
}