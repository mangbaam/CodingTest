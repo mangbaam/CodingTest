{
 "cells": [
  {
   "cell_type": "markdown",
   "source": [
    "https://www.acmicpc.net/problem/1107"
   ],
   "metadata": {
    "collapsed": false
   }
  },
  {
   "cell_type": "markdown",
   "source": [
    "### 정답 코드"
   ],
   "metadata": {
    "collapsed": false,
    "pycharm": {
     "name": "#%% md\n"
    }
   }
  },
  {
   "cell_type": "code",
   "execution_count": 75,
   "outputs": [
    {
     "name": "stdout",
     "output_type": "stream",
     "text": [
      "11117\n"
     ]
    }
   ],
   "source": [
    "n, m = int(input()), int(input())\n",
    "broken = list()\n",
    "if m != 0: broken = list(map(int, input().split()))\n",
    "buttons = set([str(b) for b in range(10) if b not in broken])\n",
    "\n",
    "diff = 10e6\n",
    "channel = 100\n",
    "\n",
    "for target in range(999999):\n",
    "    if set(str(target)).issubset(buttons) and diff > abs(n-target):\n",
    "        diff = abs(n-target)\n",
    "        channel = target\n",
    "\n",
    "answer = min(len(str(channel)) + abs(n-channel), abs(100-n))\n",
    "print(answer)"
   ],
   "metadata": {
    "collapsed": false,
    "pycharm": {
     "name": "#%%\n"
    }
   }
  },
  {
   "cell_type": "markdown",
   "source": [
    "### 이하 메모리 초과 코드"
   ],
   "metadata": {
    "collapsed": false,
    "pycharm": {
     "name": "#%% md\n"
    }
   }
  },
  {
   "cell_type": "code",
   "execution_count": 44,
   "outputs": [
    {
     "name": "stdout",
     "output_type": "stream",
     "text": [
      "5\n"
     ]
    }
   ],
   "source": [
    "from itertools import product\n",
    "\n",
    "n, m = int(input()), int(input())\n",
    "channel = 100\n",
    "broken = list()\n",
    "if m!=0: broken = list(map(int, input().split()))\n",
    "buttons = [b for b in range(10) if b not in broken]\n",
    "\n",
    "length = len(str(n))\n",
    "diff = 10e6\n",
    "for i in (length-1, length, length+1):\n",
    "    if i == 0: continue\n",
    "    for nums in list(product(buttons, repeat=i)):\n",
    "        num = int(''.join(map(str, nums)))\n",
    "        if diff > abs(n - num):\n",
    "            diff = abs(n - num)\n",
    "            channel = num\n",
    "\n",
    "answer = min(len(str(channel)) + abs(n-channel), abs(100-n))\n",
    "print(answer)"
   ],
   "metadata": {
    "collapsed": false,
    "pycharm": {
     "name": "#%%\n"
    }
   }
  },
  {
   "cell_type": "code",
   "execution_count": 56,
   "outputs": [
    {
     "name": "stdout",
     "output_type": "stream",
     "text": [
      "5\n"
     ]
    }
   ],
   "source": [
    "n, m = int(input()), int(input())\n",
    "broken = list()\n",
    "if m != 0: broken = list(map(int, input().split()))\n",
    "buttons = [b for b in range(10) if b not in broken]\n",
    "m = 10 - m # 누를 수 있는 버튼의 수\n",
    "diff = 10e6\n",
    "channel = 100\n",
    "\n",
    "def rec_func(c, k, num):    # buttons 중 k개를 선택\n",
    "    if c==k+1:\n",
    "        # 다 고름\n",
    "        global diff, channel\n",
    "        if diff > abs(n-int(num)):\n",
    "            diff = abs(n-int(num))\n",
    "            channel = int(num)\n",
    "        if diff == 0: return\n",
    "    else:\n",
    "        for i in range(m):\n",
    "            rec_func(c+1, k, num+str(buttons[i]))\n",
    "\n",
    "length = len(str(n))\n",
    "for i in (length-1, length, length+1):\n",
    "    rec_func(0, i, \"\")\n",
    "\n",
    "answer = min(len(str(channel)) + abs(n-channel), abs(100-n))\n",
    "print(answer)"
   ],
   "metadata": {
    "collapsed": false,
    "pycharm": {
     "name": "#%%\n"
    }
   }
  }
 ],
 "metadata": {
  "kernelspec": {
   "display_name": "Python 3",
   "language": "python",
   "name": "python3"
  },
  "language_info": {
   "codemirror_mode": {
    "name": "ipython",
    "version": 2
   },
   "file_extension": ".py",
   "mimetype": "text/x-python",
   "name": "python",
   "nbconvert_exporter": "python",
   "pygments_lexer": "ipython2",
   "version": "2.7.6"
  }
 },
 "nbformat": 4,
 "nbformat_minor": 0
}