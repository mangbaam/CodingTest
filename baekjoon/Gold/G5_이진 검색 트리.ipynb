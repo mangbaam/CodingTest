{
 "cells": [
  {
   "cell_type": "markdown",
   "source": [
    "https://www.acmicpc.net/problem/5639"
   ],
   "metadata": {
    "collapsed": false,
    "pycharm": {
     "name": "#%% md\n"
    }
   }
  },
  {
   "cell_type": "code",
   "execution_count": 1,
   "outputs": [
    {
     "name": "stdout",
     "output_type": "stream",
     "text": [
      "6\n",
      "28\n",
      "24\n",
      "45\n",
      "30\n",
      "60\n",
      "52\n",
      "98\n",
      "50\n"
     ]
    }
   ],
   "source": [
    "import sys\n",
    "\n",
    "sys.setrecursionlimit(10 ** 4)\n",
    "# input = sys.stdin.readline\n",
    "\n",
    "tree = list()\n",
    "for _ in range(10000):\n",
    "    try:\n",
    "        tree.append(int(input()))\n",
    "    except:\n",
    "        break\n",
    "\n",
    "\n",
    "def post_order(start, end):\n",
    "    if start > end: return\n",
    "    mid = end + 1\n",
    "    for i in range(start + 1, end + 1):\n",
    "        if tree[start] < tree[i]:\n",
    "            mid = i\n",
    "            break\n",
    "    post_order(start + 1, mid - 1)\n",
    "    post_order(mid, end)\n",
    "    print(tree[start])\n",
    "\n",
    "\n",
    "post_order(0, len(tree) - 1)"
   ],
   "metadata": {
    "collapsed": false,
    "pycharm": {
     "name": "#%%\n"
    }
   }
  }
 ],
 "metadata": {
  "kernelspec": {
   "display_name": "Python 3",
   "language": "python",
   "name": "python3"
  },
  "language_info": {
   "codemirror_mode": {
    "name": "ipython",
    "version": 2
   },
   "file_extension": ".py",
   "mimetype": "text/x-python",
   "name": "python",
   "nbconvert_exporter": "python",
   "pygments_lexer": "ipython2",
   "version": "2.7.6"
  }
 },
 "nbformat": 4,
 "nbformat_minor": 0
}