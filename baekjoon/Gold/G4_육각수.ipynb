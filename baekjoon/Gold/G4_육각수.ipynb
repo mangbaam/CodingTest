{
 "cells": [
  {
   "cell_type": "markdown",
   "source": [
    "https://www.acmicpc.net/problem/1229"
   ],
   "metadata": {
    "collapsed": false,
    "pycharm": {
     "name": "#%% md\n"
    }
   }
  },
  {
   "cell_type": "code",
   "execution_count": 16,
   "outputs": [
    {
     "name": "stdout",
     "output_type": "stream",
     "text": [
      "4\n"
     ]
    }
   ],
   "source": [
    "INF = 10 ** 9\n",
    "h = 0\n",
    "d = [0, 1, 2, 3, 4, 5, 1, 2, 3, 4, 5, 6, 2] + [INF] * 1_000_000\n",
    "\n",
    "def get_hex(limit): # limit 이하의 육각수 구하기\n",
    "    n = 1\n",
    "    current = 0\n",
    "    ans = []\n",
    "    while current <= limit:\n",
    "        current = n * (2 * n - 1)\n",
    "        ans.append(current)\n",
    "        n += 1\n",
    "    return ans[:-1]\n",
    "\n",
    "get_hex(435)\n",
    "\n",
    "def solution():\n",
    "    n = int(input())\n",
    "    if n < 13:\n",
    "        print(d[n])\n",
    "        return\n",
    "\n",
    "    hex = get_hex(n)\n",
    "    for i in range(13, n+1):\n",
    "        min_val = INF\n",
    "        for h in hex:\n",
    "            if h > i: break\n",
    "            min_val = min(min_val, d[i-h])\n",
    "        d[i] = min_val + 1\n",
    "    print(d[n])\n",
    "solution()"
   ],
   "metadata": {
    "collapsed": false,
    "pycharm": {
     "name": "#%%\n"
    }
   }
  }
 ],
 "metadata": {
  "kernelspec": {
   "display_name": "Python 3",
   "language": "python",
   "name": "python3"
  },
  "language_info": {
   "codemirror_mode": {
    "name": "ipython",
    "version": 2
   },
   "file_extension": ".py",
   "mimetype": "text/x-python",
   "name": "python",
   "nbconvert_exporter": "python",
   "pygments_lexer": "ipython2",
   "version": "2.7.6"
  }
 },
 "nbformat": 4,
 "nbformat_minor": 0
}