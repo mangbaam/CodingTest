{
 "cells": [
  {
   "cell_type": "markdown",
   "source": [
    "https://www.acmicpc.net/problem/1036"
   ],
   "metadata": {
    "collapsed": false,
    "pycharm": {
     "name": "#%% md\n"
    }
   }
  },
  {
   "cell_type": "code",
   "execution_count": 71,
   "outputs": [
    {
     "name": "stdout",
     "output_type": "stream",
     "text": [
      "31YUB\n"
     ]
    }
   ],
   "source": [
    "number_key = list(map(str, range(10))) + list('ABCDEFGHIJKLMNOPQRSTUVWXYZ')\n",
    "number = {number_key[k]: k for k in range(0, 36)}\n",
    "\n",
    "\n",
    "def plus(a, b):\n",
    "    result = \"\"\n",
    "    size = max(len(a), len(b))\n",
    "    num1, num2 = list(reversed(a)), list(reversed(b))\n",
    "    num1 += ['0'] * (size - len(a))\n",
    "    num2 += ['0'] * (size - len(b))\n",
    "\n",
    "    up = 0\n",
    "    for i in range(size):\n",
    "        sum_decimal = number[num1[i]] + number[num2[i]] + up\n",
    "        q, n = divmod(sum_decimal, 36)  # q: 올림 수, n: 더한 수\n",
    "        up = q\n",
    "        result += number_key[n]\n",
    "    result += number_key[up]\n",
    "\n",
    "    return ''.join(result.rstrip('0')[::-1])\n",
    "\n",
    "\n",
    "convert_z = ['0'] * 36\n",
    "answer = ''\n",
    "for _ in range(int(input())):\n",
    "    user_input = input()\n",
    "    answer = plus(answer, user_input)\n",
    "    origin = user_input[::-1]\n",
    "    convert_z[number[origin[0]]] = \\\n",
    "        plus(convert_z[number[origin[0]]], number_key[35 - number[origin[0]]])\n",
    "    for i, c in enumerate(origin[1:]):\n",
    "        expo = '0' * (i + 1)\n",
    "        convert_z[number[c]] = plus(number_key[35 - number[c]] + expo, convert_z[number[c]])\n",
    "\n",
    "candidates = sorted(convert_z, reverse=True, key=lambda x: (len(x), x))[:int(input())]\n",
    "\n",
    "answer = plus(answer, candidates[0]) if candidates else answer\n",
    "for i in range(1, len(candidates)):\n",
    "    answer = plus(answer, candidates[i])\n",
    "\n",
    "print(answer) if answer else print('0')"
   ],
   "metadata": {
    "collapsed": false,
    "pycharm": {
     "name": "#%%\n"
    }
   }
  }
 ],
 "metadata": {
  "kernelspec": {
   "display_name": "Python 3",
   "language": "python",
   "name": "python3"
  },
  "language_info": {
   "codemirror_mode": {
    "name": "ipython",
    "version": 2
   },
   "file_extension": ".py",
   "mimetype": "text/x-python",
   "name": "python",
   "nbconvert_exporter": "python",
   "pygments_lexer": "ipython2",
   "version": "2.7.6"
  }
 },
 "nbformat": 4,
 "nbformat_minor": 0
}