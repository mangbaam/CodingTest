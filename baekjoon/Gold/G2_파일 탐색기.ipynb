{
 "cells": [
  {
   "cell_type": "markdown",
   "source": [
    "https://www.acmicpc.net/problem/20210\n",
    "## [해설](https://latte-is-horse.tistory.com/359)"
   ],
   "metadata": {
    "collapsed": false,
    "pycharm": {
     "name": "#%% md\n"
    }
   }
  },
  {
   "cell_type": "code",
   "execution_count": 102,
   "outputs": [
    {
     "name": "stdout",
     "output_type": "stream",
     "text": [
      "01\n",
      "001\n"
     ]
    }
   ],
   "source": [
    "from functools import cmp_to_key\n",
    "\n",
    "\n",
    "def to_list(word):\n",
    "    li = list(word)\n",
    "    i = 0\n",
    "    while i < len(li):\n",
    "        if li[i].isdigit():\n",
    "            end = i\n",
    "            while end < len(li) and li[end].isdigit():\n",
    "                end += 1\n",
    "            li[i:end] = [''.join(li[i:end])]\n",
    "            i = end - 1\n",
    "        i += 1\n",
    "    return li\n",
    "\n",
    "\n",
    "def diff(w1, w2):\n",
    "    w1 = to_list(w1)\n",
    "    w2 = to_list(w2)\n",
    "    i = 0\n",
    "    while i < min(len(w1), len(w2)):\n",
    "        if w1[i] == w2[i]:\n",
    "            i += 1\n",
    "            continue\n",
    "        # 숫자와 문자 비교\n",
    "        if w1[i].isdigit() and w2[i].isalpha():\n",
    "            return -1\n",
    "        elif w1[i].isalpha() and w2[i].isdigit():\n",
    "            return 1\n",
    "        # 문자와 문자 비교\n",
    "        elif w1[i].isalpha() and w2[i].isalpha():\n",
    "            if w1[i].lower() == w2[i].lower():\n",
    "                return -1 if w1[i] < w2[i] else 1\n",
    "            return -1 if w1[i].lower() < w2[i].lower() else 1\n",
    "        # 숫자와 숫자 비교\n",
    "        elif w1[i].isdigit() and w2[i].isdigit():\n",
    "            if int(w1[i]) == int(w2[i]):\n",
    "                z1 = len(w1[i])-len(w1[i].lstrip('0'))\n",
    "                z2 = len(w2[i])-len(w2[i].lstrip('0'))\n",
    "                return -1 if z1 < z2 else 1\n",
    "            else:\n",
    "                return -1 if int(w1[i]) < int(w2[i]) else 1\n",
    "        i += 1\n",
    "    return -1 if len(w1) < len(w2) else 1\n",
    "\n",
    "# answer\n",
    "print(*sorted([input() for _ in range(int(input()))], key=cmp_to_key(diff)), sep='\\n')"
   ],
   "metadata": {
    "collapsed": false,
    "pycharm": {
     "name": "#%%\n"
    }
   }
  }
 ],
 "metadata": {
  "kernelspec": {
   "display_name": "Python 3",
   "language": "python",
   "name": "python3"
  },
  "language_info": {
   "codemirror_mode": {
    "name": "ipython",
    "version": 2
   },
   "file_extension": ".py",
   "mimetype": "text/x-python",
   "name": "python",
   "nbconvert_exporter": "python",
   "pygments_lexer": "ipython2",
   "version": "2.7.6"
  }
 },
 "nbformat": 4,
 "nbformat_minor": 0
}