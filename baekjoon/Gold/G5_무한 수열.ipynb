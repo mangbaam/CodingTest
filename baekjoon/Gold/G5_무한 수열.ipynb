{
 "cells": [
  {
   "cell_type": "markdown",
   "metadata": {
    "collapsed": true,
    "pycharm": {
     "name": "#%% md\n"
    }
   },
   "source": [
    "## https://latte-is-horse.tistory.com/332\n",
    "https://www.acmicpc.net/problem/1351"
   ]
  },
  {
   "cell_type": "code",
   "execution_count": 11,
   "outputs": [
    {
     "name": "stdout",
     "output_type": "stream",
     "text": [
      "32768\n"
     ]
    }
   ],
   "source": [
    "n, p, q = map(int, input().split())\n",
    "\n",
    "d = {0: 1}\n",
    "\n",
    "def rec_fun(start):\n",
    "    if d.get(start) is not None: # 찾는 값이 이미 사전에 있는 경우\n",
    "        return d[start]\n",
    "    if d.get(start // p) is not None and d.get(start // q) is not None: # P로 나눈 값과 Q로 나눈 값이 사전에 있는 경우\n",
    "        d[start] = d[start // p] + d[start // q] # 사전에 값을 저장\n",
    "        return d[start]\n",
    "    if d.get(start // p) is not None: # P로 나눈 값만 사전에 있는 경우\n",
    "        return d[start // p] + rec_fun(start // q)\n",
    "    if d.get(start // q) is not None: # Q로 나눈 값만 사전에 있는 경우\n",
    "        return rec_fun(start // p) + d[start // q]\n",
    "    else: # 둘 다 사전에 없는 경우\n",
    "        return rec_fun(start // p) + rec_fun(start // q)\n",
    "\n",
    "print(rec_fun(n))"
   ],
   "metadata": {
    "collapsed": false,
    "pycharm": {
     "name": "#%%\n"
    }
   }
  }
 ],
 "metadata": {
  "kernelspec": {
   "display_name": "Python 3",
   "language": "python",
   "name": "python3"
  },
  "language_info": {
   "codemirror_mode": {
    "name": "ipython",
    "version": 2
   },
   "file_extension": ".py",
   "mimetype": "text/x-python",
   "name": "python",
   "nbconvert_exporter": "python",
   "pygments_lexer": "ipython2",
   "version": "2.7.6"
  }
 },
 "nbformat": 4,
 "nbformat_minor": 0
}