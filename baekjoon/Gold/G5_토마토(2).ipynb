{
 "cells": [
  {
   "cell_type": "markdown",
   "source": [
    "https://www.acmicpc.net/problem/7569"
   ],
   "metadata": {
    "collapsed": false,
    "pycharm": {
     "name": "#%% md\n"
    }
   }
  },
  {
   "cell_type": "code",
   "execution_count": 36,
   "outputs": [
    {
     "name": "stdout",
     "output_type": "stream",
     "text": [
      "2\n"
     ]
    }
   ],
   "source": [
    "from collections import deque\n",
    "\n",
    "m, n, h = map(int, input().split())\n",
    "q, empty, visited = deque(), 0, dict()\n",
    "\n",
    "graph = [[list(map(int, input().split())) for _ in range(n)] for _ in range(h)]\n",
    "for k in range(h):\n",
    "    for x in range(n):\n",
    "        for y in range(m):\n",
    "            if graph[k][x][y] == 1:\n",
    "                q.append((x, y, k, 0))\n",
    "                visited[f'{x}{y}{k}'] = True\n",
    "            elif graph[k][x][y] == 0:\n",
    "                empty += 1\n",
    "\n",
    "answer = 0\n",
    "\n",
    "def bfs():\n",
    "    global answer, empty\n",
    "    d = [(1, 0, 0), (-1, 0, 0), (0, 1, 0), (0, -1, 0), (0, 0, 1), (0, 0, -1)]\n",
    "\n",
    "    while q:\n",
    "        x, y, z, day = q.popleft()\n",
    "        answer = max(answer, day)\n",
    "\n",
    "        for i in range(6):\n",
    "            nx, ny, nz = x + d[i][0], y + d[i][1], z + d[i][2]\n",
    "            if nx in range(n) and ny in range(m) and nz in range(h) and visited.get(f'{nx}{ny}{nz}') is None and graph[nz][nx][ny] == 0:\n",
    "                visited[f'{nx}{ny}{nz}'] = True\n",
    "                graph[nz][nx][ny] = 1\n",
    "                empty -= 1\n",
    "                q.append((nx, ny, nz, day + 1))\n",
    "\n",
    "    if empty > 0: answer = -1\n",
    "\n",
    "if empty: bfs()\n",
    "print(answer)"
   ],
   "metadata": {
    "collapsed": false,
    "pycharm": {
     "name": "#%%\n"
    }
   }
  },
  {
   "cell_type": "code",
   "execution_count": 38,
   "outputs": [
    {
     "name": "stdout",
     "output_type": "stream",
     "text": [
      "4\n"
     ]
    }
   ],
   "source": [
    "from collections import deque\n",
    "\n",
    "m, n, h = map(int, input().split())\n",
    "q, empty = deque(), 0\n",
    "\n",
    "graph = [[list(map(int, input().split())) for _ in range(n)] for _ in range(h)]\n",
    "for k in range(h):\n",
    "    for x in range(n):\n",
    "        for y in range(m):\n",
    "            if graph[k][x][y] == 1:\n",
    "                q.append((x, y, k, 0))\n",
    "            elif graph[k][x][y] == 0:\n",
    "                empty += 1\n",
    "\n",
    "answer = 0\n",
    "\n",
    "def bfs():\n",
    "    global answer, empty\n",
    "    d = [(1, 0, 0), (-1, 0, 0), (0, 1, 0), (0, -1, 0), (0, 0, 1), (0, 0, -1)]\n",
    "\n",
    "    while q:\n",
    "        x, y, z, day = q.popleft()\n",
    "        answer = max(answer, day)\n",
    "\n",
    "        for i in range(6):\n",
    "            nx, ny, nz = x + d[i][0], y + d[i][1], z + d[i][2]\n",
    "            if nx in range(n) and ny in range(m) and nz in range(h) and graph[nz][nx][ny] == 0:\n",
    "                graph[nz][nx][ny] = 1\n",
    "                empty -= 1\n",
    "                q.append((nx, ny, nz, day + 1))\n",
    "\n",
    "    if empty > 0: answer = -1\n",
    "\n",
    "if empty: bfs()\n",
    "print(answer)"
   ],
   "metadata": {
    "collapsed": false,
    "pycharm": {
     "name": "#%%\n"
    }
   }
  }
 ],
 "metadata": {
  "kernelspec": {
   "display_name": "Python 3",
   "language": "python",
   "name": "python3"
  },
  "language_info": {
   "codemirror_mode": {
    "name": "ipython",
    "version": 2
   },
   "file_extension": ".py",
   "mimetype": "text/x-python",
   "name": "python",
   "nbconvert_exporter": "python",
   "pygments_lexer": "ipython2",
   "version": "2.7.6"
  }
 },
 "nbformat": 4,
 "nbformat_minor": 0
}