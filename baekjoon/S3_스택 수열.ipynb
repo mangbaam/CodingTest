{
 "cells": [
  {
   "cell_type": "markdown",
   "id": "available-protest",
   "metadata": {},
   "source": [
    "https://www.acmicpc.net/problem/1874"
   ]
  },
  {
   "cell_type": "code",
   "execution_count": 25,
   "id": "mental-testimony",
   "metadata": {},
   "outputs": [
    {
     "name": "stdout",
     "output_type": "stream",
     "text": [
      "5\n",
      "1\n",
      "#01\n",
      "stack: []\n",
      "2\n",
      "#01\n",
      "stack: []\n",
      "5\n",
      "#01\n",
      "stack: [3, 4]\n",
      "3\n",
      "#02\n",
      "NO\n"
     ]
    }
   ],
   "source": [
    "n = int(input())\n",
    "i = 1\n",
    "\n",
    "def push(i):\n",
    "    stack.append(i)\n",
    "    answer.append('+')\n",
    "def pop():\n",
    "    if stack: \n",
    "        stack.pop()\n",
    "        answer.append('-')\n",
    "        return True\n",
    "    else: return False\n",
    "    \n",
    "stack, answer = [], []\n",
    "for _ in range(n):\n",
    "    num = int(input())\n",
    "    if not num in stack:\n",
    "        while i < num:\n",
    "            push(i)\n",
    "            i += 1\n",
    "        push(i)\n",
    "        i +=1\n",
    "        if not pop():\n",
    "            answer = \"NO\"\n",
    "            break\n",
    "    elif stack and num in stack[:-1]:\n",
    "        answer = \"NO\"\n",
    "        break\n",
    "    elif stack and num == stack[-1]:\n",
    "        pop()\n",
    "            \n",
    "if answer == \"NO\": print(answer)\n",
    "else:\n",
    "    for c in answer: print(c)"
   ]
  }
 ],
 "metadata": {
  "kernelspec": {
   "display_name": "Python 3",
   "language": "python",
   "name": "python3"
  },
  "language_info": {
   "codemirror_mode": {
    "name": "ipython",
    "version": 3
   },
   "file_extension": ".py",
   "mimetype": "text/x-python",
   "name": "python",
   "nbconvert_exporter": "python",
   "pygments_lexer": "ipython3",
   "version": "3.8.5"
  }
 },
 "nbformat": 4,
 "nbformat_minor": 5
}
