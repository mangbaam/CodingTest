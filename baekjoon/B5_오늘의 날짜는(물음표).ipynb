{
 "cells": [
  {
   "cell_type": "markdown",
   "id": "magnetic-retreat",
   "metadata": {},
   "source": [
    "https://www.acmicpc.net/problem/16170"
   ]
  },
  {
   "cell_type": "code",
   "execution_count": 29,
   "id": "historical-brass",
   "metadata": {},
   "outputs": [
    {
     "name": "stdout",
     "output_type": "stream",
     "text": [
      "today :  20210924\n",
      "2021\n",
      "09\n",
      "24\n"
     ]
    }
   ],
   "source": [
    "from datetime import datetime\n",
    "today = str(datetime.now().strftime('%Y%m%d'))\n",
    "print(today[:4])\n",
    "print(today[4:6])\n",
    "print(today[6:])"
   ]
  }
 ],
 "metadata": {
  "kernelspec": {
   "display_name": "Python 3",
   "language": "python",
   "name": "python3"
  },
  "language_info": {
   "codemirror_mode": {
    "name": "ipython",
    "version": 3
   },
   "file_extension": ".py",
   "mimetype": "text/x-python",
   "name": "python",
   "nbconvert_exporter": "python",
   "pygments_lexer": "ipython3",
   "version": "3.8.5"
  }
 },
 "nbformat": 4,
 "nbformat_minor": 5
}
