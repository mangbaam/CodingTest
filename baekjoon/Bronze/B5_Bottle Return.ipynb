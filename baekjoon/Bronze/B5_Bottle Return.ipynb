{
 "cells": [
  {
   "cell_type": "markdown",
   "id": "german-fishing",
   "metadata": {},
   "source": [
    "https://www.acmicpc.net/problem/21300"
   ]
  },
  {
   "cell_type": "code",
   "execution_count": 1,
   "id": "planned-registrar",
   "metadata": {},
   "outputs": [
    {
     "name": "stdout",
     "output_type": "stream",
     "text": [
      "0 0 0 23 3 100\n",
      "630\n"
     ]
    }
   ],
   "source": [
    "print(5*sum(map(int, input().split())))"
   ]
  }
 ],
 "metadata": {
  "kernelspec": {
   "display_name": "Python 3",
   "language": "python",
   "name": "python3"
  },
  "language_info": {
   "codemirror_mode": {
    "name": "ipython",
    "version": 3
   },
   "file_extension": ".py",
   "mimetype": "text/x-python",
   "name": "python",
   "nbconvert_exporter": "python",
   "pygments_lexer": "ipython3",
   "version": "3.8.5"
  }
 },
 "nbformat": 4,
 "nbformat_minor": 5
}
