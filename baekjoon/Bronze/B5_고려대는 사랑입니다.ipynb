{
 "cells": [
  {
   "cell_type": "markdown",
   "id": "backed-zealand",
   "metadata": {},
   "source": [
    "https://www.acmicpc.net/problem/11942"
   ]
  },
  {
   "cell_type": "code",
   "execution_count": 1,
   "id": "incorrect-lending",
   "metadata": {},
   "outputs": [
    {
     "name": "stdout",
     "output_type": "stream",
     "text": [
      "고려대학교\n"
     ]
    }
   ],
   "source": [
    "print(\"고려대학교\")"
   ]
  }
 ],
 "metadata": {
  "kernelspec": {
   "display_name": "Python 3",
   "language": "python",
   "name": "python3"
  },
  "language_info": {
   "codemirror_mode": {
    "name": "ipython",
    "version": 3
   },
   "file_extension": ".py",
   "mimetype": "text/x-python",
   "name": "python",
   "nbconvert_exporter": "python",
   "pygments_lexer": "ipython3",
   "version": "3.8.5"
  }
 },
 "nbformat": 4,
 "nbformat_minor": 5
}
