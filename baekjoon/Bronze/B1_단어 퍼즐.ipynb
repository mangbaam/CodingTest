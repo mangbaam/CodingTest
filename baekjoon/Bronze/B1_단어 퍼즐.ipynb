{
 "cells": [
  {
   "cell_type": "markdown",
   "metadata": {
    "collapsed": true,
    "pycharm": {
     "name": "#%% md\n"
    }
   },
   "source": [
    "https://www.acmicpc.net/problem/9946"
   ]
  },
  {
   "cell_type": "code",
   "execution_count": 1,
   "outputs": [
    {
     "name": "stdout",
     "output_type": "stream",
     "text": [
      "Case 1: same\n",
      "Case 1: different\n",
      "Case 1: same\n",
      "Case 1: different\n"
     ]
    }
   ],
   "source": [
    "i = 1\n",
    "while True:\n",
    "    a, b = input(), input()\n",
    "    if a==b==\"END\": break\n",
    "    sa, sb = sorted(a), sorted(b)\n",
    "    print(f\"Case {i}:\", end=' ')\n",
    "    print(\"same\") if sa==sb else print(\"different\")\n",
    "    i += 1"
   ],
   "metadata": {
    "collapsed": false,
    "pycharm": {
     "name": "#%%\n"
    }
   }
  }
 ],
 "metadata": {
  "kernelspec": {
   "display_name": "Python 3",
   "language": "python",
   "name": "python3"
  },
  "language_info": {
   "codemirror_mode": {
    "name": "ipython",
    "version": 2
   },
   "file_extension": ".py",
   "mimetype": "text/x-python",
   "name": "python",
   "nbconvert_exporter": "python",
   "pygments_lexer": "ipython2",
   "version": "2.7.6"
  }
 },
 "nbformat": 4,
 "nbformat_minor": 0
}