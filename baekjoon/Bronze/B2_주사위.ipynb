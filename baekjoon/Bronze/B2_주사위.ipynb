{
 "cells": [
  {
   "cell_type": "markdown",
   "metadata": {
    "collapsed": true,
    "pycharm": {
     "name": "#%% md\n"
    }
   },
   "source": [
    "https://www.acmicpc.net/problem/1233"
   ]
  },
  {
   "cell_type": "code",
   "execution_count": 9,
   "outputs": [
    {
     "name": "stdout",
     "output_type": "stream",
     "text": [
      "5\n"
     ]
    }
   ],
   "source": [
    "ss = [0] + list(map(int, input().split()))\n",
    "dices = [0, 0, 0, 0]\n",
    "count = dict()\n",
    "\n",
    "def rec_fun(k):\n",
    "    if k == 4:\n",
    "        val = sum(dices)\n",
    "        if val in count.keys():\n",
    "            count[val] += 1\n",
    "        else:\n",
    "            count[val] = 1\n",
    "    else:\n",
    "        for c in range(1, ss[k]+1):\n",
    "            dices[k] = c\n",
    "            rec_fun(k+1)\n",
    "            dices[k] = 0\n",
    "\n",
    "rec_fun(1)\n",
    "print(sorted(count.items(), key=lambda x: (x[1], -x[0]), reverse=True)[0][0])"
   ],
   "metadata": {
    "collapsed": false,
    "pycharm": {
     "name": "#%%\n"
    }
   }
  }
 ],
 "metadata": {
  "kernelspec": {
   "display_name": "Python 3",
   "language": "python",
   "name": "python3"
  },
  "language_info": {
   "codemirror_mode": {
    "name": "ipython",
    "version": 2
   },
   "file_extension": ".py",
   "mimetype": "text/x-python",
   "name": "python",
   "nbconvert_exporter": "python",
   "pygments_lexer": "ipython2",
   "version": "2.7.6"
  }
 },
 "nbformat": 4,
 "nbformat_minor": 0
}