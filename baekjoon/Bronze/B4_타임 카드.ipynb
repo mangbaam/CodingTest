{
 "cells": [
  {
   "cell_type": "markdown",
   "id": "israeli-central",
   "metadata": {},
   "source": [
    "https://www.acmicpc.net/problem/5575"
   ]
  },
  {
   "cell_type": "code",
   "execution_count": 2,
   "id": "heard-somalia",
   "metadata": {},
   "outputs": [
    {
     "name": "stdout",
     "output_type": "stream",
     "text": [
      "9 0 0 18 0 0\n",
      "9 0 1 18 0 0\n",
      "12 14 52 12 15 30\n",
      "9 0 0\n",
      "8 59 59\n",
      "0 0 38\n"
     ]
    }
   ],
   "source": [
    "ash, asm, ass, aeh, aem, aes = map(int, input().split())\n",
    "bsh, bsm, bss, beh, bem, bes = map(int, input().split())\n",
    "csh, csm, css, ceh, cem, ces = map(int, input().split())\n",
    "\n",
    "a_start = ash*3600 + asm*60 + ass\n",
    "a_end = aeh*3600 + aem*60 + aes\n",
    "b_start = bsh*3600 + bsm*60 + bss\n",
    "b_end = beh*3600 + bem*60 + bes\n",
    "c_start = csh*3600 + csm*60 + css\n",
    "c_end = ceh*3600 + cem*60 + ces\n",
    "\n",
    "a = a_end - a_start\n",
    "b = b_end - b_start\n",
    "c = c_end - c_start\n",
    "\n",
    "print(a//3600, (a%3600)//60, a%60)\n",
    "print(b//3600, (b%3600)//60, b%60)\n",
    "print(c//3600, (c%3600)//60, c%60)"
   ]
  }
 ],
 "metadata": {
  "kernelspec": {
   "display_name": "Python 3",
   "language": "python",
   "name": "python3"
  },
  "language_info": {
   "codemirror_mode": {
    "name": "ipython",
    "version": 3
   },
   "file_extension": ".py",
   "mimetype": "text/x-python",
   "name": "python",
   "nbconvert_exporter": "python",
   "pygments_lexer": "ipython3",
   "version": "3.8.5"
  }
 },
 "nbformat": 4,
 "nbformat_minor": 5
}
