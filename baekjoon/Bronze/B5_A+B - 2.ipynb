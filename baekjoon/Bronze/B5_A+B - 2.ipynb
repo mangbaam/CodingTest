{
 "cells": [
  {
   "cell_type": "markdown",
   "id": "sweet-ground",
   "metadata": {},
   "source": [
    "https://www.acmicpc.net/problem/2558"
   ]
  },
  {
   "cell_type": "code",
   "execution_count": null,
   "id": "specialized-steal",
   "metadata": {},
   "outputs": [],
   "source": [
    "import sys\n",
    "a = int(sys.stdin.readline())\n",
    "b = int(sys.stdin.readline())\n",
    "print(a+b)"
   ]
  }
 ],
 "metadata": {
  "kernelspec": {
   "display_name": "Python 3",
   "language": "python",
   "name": "python3"
  },
  "language_info": {
   "codemirror_mode": {
    "name": "ipython",
    "version": 3
   },
   "file_extension": ".py",
   "mimetype": "text/x-python",
   "name": "python",
   "nbconvert_exporter": "python",
   "pygments_lexer": "ipython3",
   "version": "3.8.5"
  }
 },
 "nbformat": 4,
 "nbformat_minor": 5
}
