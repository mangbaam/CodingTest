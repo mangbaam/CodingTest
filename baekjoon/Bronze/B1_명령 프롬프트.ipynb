{
 "cells": [
  {
   "cell_type": "markdown",
   "metadata": {
    "collapsed": true,
    "pycharm": {
     "name": "#%% md\n"
    }
   },
   "source": [
    "https://www.acmicpc.net/problem/1032"
   ]
  },
  {
   "cell_type": "code",
   "execution_count": 2,
   "outputs": [
    {
     "name": "stdout",
     "output_type": "stream",
     "text": [
      "config????\n"
     ]
    }
   ],
   "source": [
    "k = int(input())\n",
    "words = []\n",
    "for _ in range(k):\n",
    "    words.append(input())\n",
    "\n",
    "first = words[0]\n",
    "answer = \"\"\n",
    "\n",
    "for c in range(len(first)):\n",
    "    flag = True\n",
    "    for i in range(1, k):\n",
    "        if first[c] != words[i][c]:\n",
    "            flag = False\n",
    "            break\n",
    "    answer += first[c] if flag else \"?\"\n",
    "print(answer)"
   ],
   "metadata": {
    "collapsed": false,
    "pycharm": {
     "name": "#%%\n"
    }
   }
  }
 ],
 "metadata": {
  "kernelspec": {
   "display_name": "Python 3",
   "language": "python",
   "name": "python3"
  },
  "language_info": {
   "codemirror_mode": {
    "name": "ipython",
    "version": 2
   },
   "file_extension": ".py",
   "mimetype": "text/x-python",
   "name": "python",
   "nbconvert_exporter": "python",
   "pygments_lexer": "ipython2",
   "version": "2.7.6"
  }
 },
 "nbformat": 4,
 "nbformat_minor": 0
}