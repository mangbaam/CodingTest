{
 "cells": [
  {
   "cell_type": "markdown",
   "id": "worth-childhood",
   "metadata": {},
   "source": [
    "https://www.acmicpc.net/problem/17256"
   ]
  },
  {
   "cell_type": "code",
   "execution_count": 1,
   "id": "awful-visiting",
   "metadata": {},
   "outputs": [
    {
     "name": "stdout",
     "output_type": "stream",
     "text": [
      "15 8 15\n",
      "22 8 22\n",
      "7 1 7\n"
     ]
    }
   ],
   "source": [
    "a, b, c = map(int, input().split())\n",
    "d, e, f = map(int, input().split())\n",
    "print(d-c, e//b, f-a)"
   ]
  }
 ],
 "metadata": {
  "kernelspec": {
   "display_name": "Python 3",
   "language": "python",
   "name": "python3"
  },
  "language_info": {
   "codemirror_mode": {
    "name": "ipython",
    "version": 3
   },
   "file_extension": ".py",
   "mimetype": "text/x-python",
   "name": "python",
   "nbconvert_exporter": "python",
   "pygments_lexer": "ipython3",
   "version": "3.8.5"
  }
 },
 "nbformat": 4,
 "nbformat_minor": 5
}
