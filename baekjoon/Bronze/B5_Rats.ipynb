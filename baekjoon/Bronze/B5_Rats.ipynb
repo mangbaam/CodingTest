{
 "cells": [
  {
   "cell_type": "markdown",
   "id": "chronic-tribute",
   "metadata": {},
   "source": [
    "https://www.acmicpc.net/problem/18301"
   ]
  },
  {
   "cell_type": "code",
   "execution_count": 6,
   "id": "altered-purpose",
   "metadata": {},
   "outputs": [
    {
     "name": "stdout",
     "output_type": "stream",
     "text": [
      "15 18 11\n",
      "24\n"
     ]
    }
   ],
   "source": [
    "from math import floor\n",
    "a, b, c = map(int, input().split())\n",
    "print(floor((a+1)*(b+1)/(c+1)-1))"
   ]
  }
 ],
 "metadata": {
  "kernelspec": {
   "display_name": "Python 3",
   "language": "python",
   "name": "python3"
  },
  "language_info": {
   "codemirror_mode": {
    "name": "ipython",
    "version": 3
   },
   "file_extension": ".py",
   "mimetype": "text/x-python",
   "name": "python",
   "nbconvert_exporter": "python",
   "pygments_lexer": "ipython3",
   "version": "3.8.5"
  }
 },
 "nbformat": 4,
 "nbformat_minor": 5
}
