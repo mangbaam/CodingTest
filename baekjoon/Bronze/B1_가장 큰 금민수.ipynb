{
 "cells": [
  {
   "cell_type": "markdown",
   "metadata": {
    "collapsed": true,
    "pycharm": {
     "name": "#%% md\n"
    }
   },
   "source": [
    "https://www.acmicpc.net/problem/1526"
   ]
  },
  {
   "cell_type": "code",
   "execution_count": 77,
   "outputs": [
    {
     "name": "stdout",
     "output_type": "stream",
     "text": [
      "[0, 4, 7, 44, 47, 74, 77]\n",
      "44\n"
     ]
    }
   ],
   "source": [
    "from itertools import product\n",
    "\n",
    "n = input()\n",
    "length = len(n)\n",
    "candidates = [0]\n",
    "\n",
    "for i in range(max(1, length-1), length+1):\n",
    "    candidates.extend(list(map(lambda x: int(''.join(x)), product(['4','7'], repeat = i))))\n",
    "\n",
    "for i in range(len(candidates)-1, 0, -1):\n",
    "    if candidates[i] <= int(n):\n",
    "        print(candidates[i])\n",
    "        break"
   ],
   "metadata": {
    "collapsed": false,
    "pycharm": {
     "name": "#%%\n"
    }
   }
  }
 ],
 "metadata": {
  "kernelspec": {
   "display_name": "Python 3",
   "language": "python",
   "name": "python3"
  },
  "language_info": {
   "codemirror_mode": {
    "name": "ipython",
    "version": 2
   },
   "file_extension": ".py",
   "mimetype": "text/x-python",
   "name": "python",
   "nbconvert_exporter": "python",
   "pygments_lexer": "ipython2",
   "version": "2.7.6"
  }
 },
 "nbformat": 4,
 "nbformat_minor": 0
}