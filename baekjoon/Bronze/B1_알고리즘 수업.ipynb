{
 "cells": [
  {
   "cell_type": "markdown",
   "metadata": {
    "collapsed": true,
    "pycharm": {
     "name": "#%% md\n"
    }
   },
   "source": [
    "https://www.acmicpc.net/problem/24416"
   ]
  },
  {
   "cell_type": "markdown",
   "source": [
    "Python3로 제출하면 시간초과\n",
    "PyPy3로 제출하면 통과"
   ],
   "metadata": {
    "collapsed": false,
    "pycharm": {
     "name": "#%% md\n"
    }
   }
  },
  {
   "cell_type": "code",
   "execution_count": 6,
   "outputs": [
    {
     "name": "stdout",
     "output_type": "stream",
     "text": [
      "832039 28\n"
     ]
    }
   ],
   "source": [
    "n = int(input())\n",
    "rec = dp = 0\n",
    "\n",
    "def fib(k):\n",
    "    global rec\n",
    "    if k in (1, 2): return 1\n",
    "    else: rec += 1 ; return fib(k-1)+fib(k-2)\n",
    "\n",
    "f = [0] * (n+1)\n",
    "def fibonacci(k):\n",
    "    global dp\n",
    "    f[1]=f[2]=1\n",
    "    for i in range(3, n+1):\n",
    "        dp += 1\n",
    "        f[i] = f[i-1]+f[i-2]\n",
    "    return f[k]\n",
    "\n",
    "fib(n)\n",
    "fibonacci(n)\n",
    "\n",
    "print(rec+1, dp)"
   ],
   "metadata": {
    "collapsed": false,
    "pycharm": {
     "name": "#%%\n"
    }
   }
  }
 ],
 "metadata": {
  "kernelspec": {
   "display_name": "Python 3",
   "language": "python",
   "name": "python3"
  },
  "language_info": {
   "codemirror_mode": {
    "name": "ipython",
    "version": 2
   },
   "file_extension": ".py",
   "mimetype": "text/x-python",
   "name": "python",
   "nbconvert_exporter": "python",
   "pygments_lexer": "ipython2",
   "version": "2.7.6"
  }
 },
 "nbformat": 4,
 "nbformat_minor": 0
}