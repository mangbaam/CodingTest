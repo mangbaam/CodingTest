{
 "cells": [
  {
   "cell_type": "markdown",
   "id": "defined-tomato",
   "metadata": {},
   "source": [
    "https://www.acmicpc.net/problem/2845"
   ]
  },
  {
   "cell_type": "code",
   "execution_count": 1,
   "id": "acoustic-tenant",
   "metadata": {},
   "outputs": [
    {
     "name": "stdout",
     "output_type": "stream",
     "text": [
      "5 20\n",
      "99 101 1000 0 97\n",
      "-1\n",
      "1\n",
      "900\n",
      "-100\n",
      "-3\n"
     ]
    }
   ],
   "source": [
    "l, p = map(int, input().split())\n",
    "members = list(map(int, input().split()))\n",
    "a = l * p\n",
    "for i in members:\n",
    "    print(i-a, end=' ')"
   ]
  }
 ],
 "metadata": {
  "kernelspec": {
   "display_name": "Python 3",
   "language": "python",
   "name": "python3"
  },
  "language_info": {
   "codemirror_mode": {
    "name": "ipython",
    "version": 3
   },
   "file_extension": ".py",
   "mimetype": "text/x-python",
   "name": "python",
   "nbconvert_exporter": "python",
   "pygments_lexer": "ipython3",
   "version": "3.8.5"
  }
 },
 "nbformat": 4,
 "nbformat_minor": 5
}
