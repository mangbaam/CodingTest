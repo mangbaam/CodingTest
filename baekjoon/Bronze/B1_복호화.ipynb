{
 "cells": [
  {
   "cell_type": "markdown",
   "source": [
    "https://www.acmicpc.net/problem/9046"
   ],
   "metadata": {
    "collapsed": false,
    "pycharm": {
     "name": "#%% md\n"
    }
   }
  },
  {
   "cell_type": "code",
   "execution_count": 2,
   "outputs": [
    {
     "name": "stdout",
     "output_type": "stream",
     "text": [
      "f\n",
      "v\n",
      "?\n"
     ]
    }
   ],
   "source": [
    "import string\n",
    "\n",
    "for _ in range(int(input())):\n",
    "    cache = {alpha: 0 for alpha in string.ascii_lowercase}\n",
    "    for c in input():\n",
    "        if c == ' ': continue\n",
    "        cache[c] += 1\n",
    "    sc = sorted(cache.items(), key=lambda x: x[1], reverse=True)\n",
    "    print(sc[0][0]) if sc[0][1] != sc[1][1] else print('?')"
   ],
   "metadata": {
    "collapsed": false,
    "pycharm": {
     "name": "#%%\n"
    }
   }
  }
 ],
 "metadata": {
  "kernelspec": {
   "display_name": "Python 3",
   "language": "python",
   "name": "python3"
  },
  "language_info": {
   "codemirror_mode": {
    "name": "ipython",
    "version": 2
   },
   "file_extension": ".py",
   "mimetype": "text/x-python",
   "name": "python",
   "nbconvert_exporter": "python",
   "pygments_lexer": "ipython2",
   "version": "2.7.6"
  }
 },
 "nbformat": 4,
 "nbformat_minor": 0
}