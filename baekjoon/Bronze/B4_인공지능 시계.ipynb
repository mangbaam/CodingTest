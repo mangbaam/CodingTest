{
 "cells": [
  {
   "cell_type": "markdown",
   "id": "brown-disease",
   "metadata": {},
   "source": [
    "https://www.acmicpc.net/problem/2530"
   ]
  },
  {
   "cell_type": "code",
   "execution_count": 5,
   "id": "simplified-sewing",
   "metadata": {},
   "outputs": [
    {
     "name": "stdout",
     "output_type": "stream",
     "text": [
      "23 48 59\n",
      "2515\n",
      "0 30 54\n"
     ]
    }
   ],
   "source": [
    "h, m, s = map(int, input().split())\n",
    "c = int(input())\n",
    "\n",
    "time = h*3600 + m*60 + s + c\n",
    "time, seconds = divmod(time, 60)\n",
    "hours, minutes = divmod(time, 60)\n",
    "\n",
    "hours = hours%24\n",
    "print(hours, minutes, seconds)"
   ]
  }
 ],
 "metadata": {
  "kernelspec": {
   "display_name": "Python 3",
   "language": "python",
   "name": "python3"
  },
  "language_info": {
   "codemirror_mode": {
    "name": "ipython",
    "version": 3
   },
   "file_extension": ".py",
   "mimetype": "text/x-python",
   "name": "python",
   "nbconvert_exporter": "python",
   "pygments_lexer": "ipython3",
   "version": "3.8.5"
  }
 },
 "nbformat": 4,
 "nbformat_minor": 5
}
