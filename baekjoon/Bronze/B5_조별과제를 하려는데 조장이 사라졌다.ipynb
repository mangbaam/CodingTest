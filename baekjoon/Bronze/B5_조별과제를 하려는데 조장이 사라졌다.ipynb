{
 "cells": [
  {
   "cell_type": "markdown",
   "id": "located-handling",
   "metadata": {},
   "source": [
    "https://www.acmicpc.net/problem/15727"
   ]
  },
  {
   "cell_type": "code",
   "execution_count": 1,
   "id": "broke-subdivision",
   "metadata": {},
   "outputs": [
    {
     "name": "stdout",
     "output_type": "stream",
     "text": [
      "12\n",
      "3\n"
     ]
    }
   ],
   "source": [
    "from math import ceil\n",
    "print(ceil(int(input())/5))"
   ]
  }
 ],
 "metadata": {
  "kernelspec": {
   "display_name": "Python 3",
   "language": "python",
   "name": "python3"
  },
  "language_info": {
   "codemirror_mode": {
    "name": "ipython",
    "version": 3
   },
   "file_extension": ".py",
   "mimetype": "text/x-python",
   "name": "python",
   "nbconvert_exporter": "python",
   "pygments_lexer": "ipython3",
   "version": "3.8.5"
  }
 },
 "nbformat": 4,
 "nbformat_minor": 5
}
