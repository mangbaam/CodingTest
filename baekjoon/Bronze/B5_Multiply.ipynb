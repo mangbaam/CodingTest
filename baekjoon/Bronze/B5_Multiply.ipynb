{
 "cells": [
  {
   "cell_type": "markdown",
   "id": "thirty-quilt",
   "metadata": {},
   "source": [
    "https://www.acmicpc.net/problem/22193"
   ]
  },
  {
   "cell_type": "code",
   "execution_count": 2,
   "id": "lesbian-trick",
   "metadata": {},
   "outputs": [
    {
     "name": "stdout",
     "output_type": "stream",
     "text": [
      "3 4\n",
      "123\n",
      "4567\n",
      "561741\n"
     ]
    }
   ],
   "source": [
    "input()\n",
    "a = int(input())\n",
    "b = int(input())\n",
    "print(a*b)"
   ]
  }
 ],
 "metadata": {
  "kernelspec": {
   "display_name": "Python 3",
   "language": "python",
   "name": "python3"
  },
  "language_info": {
   "codemirror_mode": {
    "name": "ipython",
    "version": 3
   },
   "file_extension": ".py",
   "mimetype": "text/x-python",
   "name": "python",
   "nbconvert_exporter": "python",
   "pygments_lexer": "ipython3",
   "version": "3.8.5"
  }
 },
 "nbformat": 4,
 "nbformat_minor": 5
}
