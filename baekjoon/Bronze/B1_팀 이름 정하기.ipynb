{
 "cells": [
  {
   "cell_type": "markdown",
   "metadata": {
    "collapsed": true,
    "pycharm": {
     "name": "#%% md\n"
    }
   },
   "source": [
    "https://www.acmicpc.net/problem/1296"
   ]
  },
  {
   "cell_type": "code",
   "execution_count": 13,
   "outputs": [
    {
     "name": "stdout",
     "output_type": "stream",
     "text": [
      "VLOLUVCBLLQVESWHEEKC\n"
     ]
    }
   ],
   "source": [
    "def count_love(word):\n",
    "    l = o = v = e = 0\n",
    "    for c in word:\n",
    "        if c=='L': l+=1\n",
    "        if c=='O': o+=1\n",
    "        if c=='V': v+=1\n",
    "        if c=='E': e+=1\n",
    "    return l, o, v, e\n",
    "\n",
    "yd = input()\n",
    "yl, yo, yv, ye = count_love(yd)\n",
    "\n",
    "teams = []\n",
    "n = int(input())\n",
    "for _ in range(n): teams.append(input())\n",
    "candidate = []\n",
    "cur_max = 0\n",
    "\n",
    "for name in teams:\n",
    "    l, o, v, e = count_love(name)\n",
    "    l+=yl; o+=yo; v+=yv; e+=ye\n",
    "    value = ((l+o)*(l+v)*(l+e)*(o+v)*(o+e)*(v+e))%100\n",
    "\n",
    "    if value > cur_max:\n",
    "        cur_max = value\n",
    "        candidate = [name]\n",
    "    elif value == cur_max:\n",
    "        candidate.append(name)\n",
    "\n",
    "print(sorted(candidate)[0])"
   ],
   "metadata": {
    "collapsed": false,
    "pycharm": {
     "name": "#%%\n"
    }
   }
  }
 ],
 "metadata": {
  "kernelspec": {
   "display_name": "Python 3",
   "language": "python",
   "name": "python3"
  },
  "language_info": {
   "codemirror_mode": {
    "name": "ipython",
    "version": 2
   },
   "file_extension": ".py",
   "mimetype": "text/x-python",
   "name": "python",
   "nbconvert_exporter": "python",
   "pygments_lexer": "ipython2",
   "version": "2.7.6"
  }
 },
 "nbformat": 4,
 "nbformat_minor": 0
}