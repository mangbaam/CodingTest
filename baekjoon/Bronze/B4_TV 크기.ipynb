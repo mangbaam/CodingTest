{
 "cells": [
  {
   "cell_type": "markdown",
   "id": "atlantic-integration",
   "metadata": {},
   "source": [
    "https://www.acmicpc.net/problem/1297"
   ]
  },
  {
   "cell_type": "code",
   "execution_count": 13,
   "id": "suffering-vulnerability",
   "metadata": {},
   "outputs": [
    {
     "name": "stdout",
     "output_type": "stream",
     "text": [
      "11 15 16\n",
      "7 8\n"
     ]
    }
   ],
   "source": [
    "a, b, c = map(int, input().split())\n",
    "x = a / (b*b + c*c) ** (1/2)\n",
    "print(int(b*x), int(c*x))"
   ]
  }
 ],
 "metadata": {
  "kernelspec": {
   "display_name": "Python 3",
   "language": "python",
   "name": "python3"
  },
  "language_info": {
   "codemirror_mode": {
    "name": "ipython",
    "version": 3
   },
   "file_extension": ".py",
   "mimetype": "text/x-python",
   "name": "python",
   "nbconvert_exporter": "python",
   "pygments_lexer": "ipython3",
   "version": "3.8.5"
  }
 },
 "nbformat": 4,
 "nbformat_minor": 5
}
