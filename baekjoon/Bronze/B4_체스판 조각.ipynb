{
 "cells": [
  {
   "cell_type": "markdown",
   "id": "reported-latex",
   "metadata": {},
   "source": [
    "https://www.acmicpc.net/problem/3004"
   ]
  },
  {
   "cell_type": "code",
   "execution_count": 3,
   "id": "rotary-replacement",
   "metadata": {},
   "outputs": [
    {
     "name": "stdout",
     "output_type": "stream",
     "text": [
      "3\n",
      "6\n"
     ]
    }
   ],
   "source": [
    "n = int(input())\n",
    "a = n//2\n",
    "b = n-a\n",
    "print((a+1)*(b+1))"
   ]
  }
 ],
 "metadata": {
  "kernelspec": {
   "display_name": "Python 3",
   "language": "python",
   "name": "python3"
  },
  "language_info": {
   "codemirror_mode": {
    "name": "ipython",
    "version": 3
   },
   "file_extension": ".py",
   "mimetype": "text/x-python",
   "name": "python",
   "nbconvert_exporter": "python",
   "pygments_lexer": "ipython3",
   "version": "3.8.5"
  }
 },
 "nbformat": 4,
 "nbformat_minor": 5
}
