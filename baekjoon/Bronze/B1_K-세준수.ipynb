{
 "cells": [
  {
   "cell_type": "markdown",
   "metadata": {
    "collapsed": true,
    "pycharm": {
     "name": "#%% md\n"
    }
   },
   "source": [
    "https://www.acmicpc.net/problem/1418"
   ]
  },
  {
   "cell_type": "code",
   "execution_count": 31,
   "outputs": [
    {
     "name": "stdout",
     "output_type": "stream",
     "text": [
      "17442\n"
     ]
    }
   ],
   "source": [
    "n, k = int(input()), int(input())\n",
    "answer = 0\n",
    "\n",
    "def get_prime(num):\n",
    "    for n in range(2, num//2+1):\n",
    "        if num%n==0:\n",
    "            return get_prime(num//n)\n",
    "    return num\n",
    "\n",
    "for i in range(1, n+1):\n",
    "    if k >= get_prime(i):\n",
    "        answer += 1\n",
    "print(answer)"
   ],
   "metadata": {
    "collapsed": false,
    "pycharm": {
     "name": "#%%\n"
    }
   }
  },
  {
   "cell_type": "code",
   "execution_count": 49,
   "outputs": [
    {
     "name": "stdout",
     "output_type": "stream",
     "text": [
      "primes: [2, 3, 5, 7, 11, 13, 17, 19, 23, 29, 31, 37, 41, 43, 47, 53, 59, 61, 67, 71, 73, 79, 83, 89, 97]\n",
      "17442\n"
     ]
    }
   ],
   "source": [
    "n, k = int(input()), int(input())\n",
    "answer = 0\n",
    "\n",
    "aristo = [1 for _ in range(k+1)]\n",
    "aristo[0] = aristo[1] = 0\n",
    "for i in range(2, int(k**0.5)+1):\n",
    "    if aristo[i] == 1:\n",
    "        for j in range(i+i, k+1, i):\n",
    "            aristo[j] = 0\n",
    "\n",
    "primes = [x[0] for x in enumerate(aristo) if x[1]==1]\n",
    "\n",
    "def get_prime(num):\n",
    "    global primes\n",
    "    for n in primes:\n",
    "        if num%n==0:\n",
    "            return get_prime(num//n)\n",
    "    return num\n",
    "\n",
    "for i in range(1, n+1):\n",
    "    if k >= get_prime(i):\n",
    "        answer += 1\n",
    "print(answer)"
   ],
   "metadata": {
    "collapsed": false,
    "pycharm": {
     "name": "#%%\n"
    }
   }
  },
  {
   "cell_type": "code",
   "execution_count": null,
   "outputs": [],
   "source": [],
   "metadata": {
    "collapsed": false,
    "pycharm": {
     "name": "#%%\n"
    }
   }
  }
 ],
 "metadata": {
  "kernelspec": {
   "display_name": "Python 3",
   "language": "python",
   "name": "python3"
  },
  "language_info": {
   "codemirror_mode": {
    "name": "ipython",
    "version": 2
   },
   "file_extension": ".py",
   "mimetype": "text/x-python",
   "name": "python",
   "nbconvert_exporter": "python",
   "pygments_lexer": "ipython2",
   "version": "2.7.6"
  }
 },
 "nbformat": 4,
 "nbformat_minor": 0
}