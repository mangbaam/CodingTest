{
 "cells": [
  {
   "cell_type": "markdown",
   "id": "operating-minister",
   "metadata": {},
   "source": [
    "https://www.acmicpc.net/problem/21918"
   ]
  },
  {
   "cell_type": "code",
   "execution_count": 2,
   "id": "immune-apartment",
   "metadata": {},
   "outputs": [
    {
     "name": "stdout",
     "output_type": "stream",
     "text": [
      "8 3\n",
      "0 0 0 0 0 0 0 0\n",
      "1 2 1\n",
      "1 4 1\n",
      "2 2 4\n",
      "0 0 1 0 0 0 0 0\n"
     ]
    }
   ],
   "source": [
    "n, m = map(int, input().split())\n",
    "li = list(map(int, input().split()))\n",
    "for _ in range(m):\n",
    "    a, b, c = map(int, input().split())\n",
    "    if a==1:\n",
    "        li[b-1] = c\n",
    "    elif a==2:\n",
    "        for i in range(b-1, c):\n",
    "            li[i]=1-li[i]\n",
    "    elif a == 3:\n",
    "        for i in range(b-1, c):\n",
    "            li[i] = 0\n",
    "    elif a == 4:\n",
    "        for i in range(b-1, c):\n",
    "            li[i] = 1\n",
    "li = list(map(str, li))\n",
    "print(' '.join(li))"
   ]
  }
 ],
 "metadata": {
  "kernelspec": {
   "display_name": "Python 3",
   "language": "python",
   "name": "python3"
  },
  "language_info": {
   "codemirror_mode": {
    "name": "ipython",
    "version": 3
   },
   "file_extension": ".py",
   "mimetype": "text/x-python",
   "name": "python",
   "nbconvert_exporter": "python",
   "pygments_lexer": "ipython3",
   "version": "3.8.5"
  }
 },
 "nbformat": 4,
 "nbformat_minor": 5
}
