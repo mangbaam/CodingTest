{
 "cells": [
  {
   "cell_type": "markdown",
   "id": "thirty-audience",
   "metadata": {},
   "source": [
    "https://www.acmicpc.net/problem/18096"
   ]
  },
  {
   "cell_type": "markdown",
   "id": "thirty-college",
   "metadata": {},
   "source": [
    "((x+1)*(y+1)-xy-x-y)^n\n",
    "=  (xy + x + y + 1 - xy - x - y)^n = 1^n\n",
    "= 항상 1"
   ]
  },
  {
   "cell_type": "code",
   "execution_count": 1,
   "id": "devoted-mississippi",
   "metadata": {},
   "outputs": [
    {
     "name": "stdout",
     "output_type": "stream",
     "text": [
      "1\n"
     ]
    }
   ],
   "source": [
    "print(1)"
   ]
  }
 ],
 "metadata": {
  "kernelspec": {
   "display_name": "Python 3",
   "language": "python",
   "name": "python3"
  },
  "language_info": {
   "codemirror_mode": {
    "name": "ipython",
    "version": 3
   },
   "file_extension": ".py",
   "mimetype": "text/x-python",
   "name": "python",
   "nbconvert_exporter": "python",
   "pygments_lexer": "ipython3",
   "version": "3.8.5"
  }
 },
 "nbformat": 4,
 "nbformat_minor": 5
}
