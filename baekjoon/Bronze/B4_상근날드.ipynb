{
 "cells": [
  {
   "cell_type": "markdown",
   "id": "female-consumption",
   "metadata": {},
   "source": [
    "https://www.acmicpc.net/problem/5543"
   ]
  },
  {
   "cell_type": "code",
   "execution_count": 2,
   "id": "floating-shame",
   "metadata": {},
   "outputs": [
    {
     "name": "stdout",
     "output_type": "stream",
     "text": [
      "1999\n",
      "1999\n",
      "100\n",
      "189\n",
      "100\n",
      "150\n"
     ]
    }
   ],
   "source": [
    "sang, joong, ha, coke, cyder = int(input()), int(input()), int(input()), int(input()), int(input())\n",
    "print(min(sang, joong, ha)+min(coke, cyder) - 50)"
   ]
  }
 ],
 "metadata": {
  "kernelspec": {
   "display_name": "Python 3",
   "language": "python",
   "name": "python3"
  },
  "language_info": {
   "codemirror_mode": {
    "name": "ipython",
    "version": 3
   },
   "file_extension": ".py",
   "mimetype": "text/x-python",
   "name": "python",
   "nbconvert_exporter": "python",
   "pygments_lexer": "ipython3",
   "version": "3.8.5"
  }
 },
 "nbformat": 4,
 "nbformat_minor": 5
}
