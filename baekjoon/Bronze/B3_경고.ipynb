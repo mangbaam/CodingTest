{
 "cells": [
  {
   "cell_type": "markdown",
   "metadata": {
    "collapsed": true,
    "pycharm": {
     "name": "#%% md\n"
    }
   },
   "source": [
    "https://www.acmicpc.net/problem/3029"
   ]
  },
  {
   "cell_type": "code",
   "execution_count": 2,
   "outputs": [
    {
     "name": "stdout",
     "output_type": "stream",
     "text": [
      "02:01:26\n"
     ]
    }
   ],
   "source": [
    "current = list(map(int, input().split(\":\")))\n",
    "time = list(map(int, input().split(\":\")))\n",
    "current = current[0]*3600 + current[1]*60 + current[2]\n",
    "time = time[0]*3600 + time[1]*60 + time[2]\n",
    "answer = time - current if time>current else 3600*24+time-current\n",
    "\n",
    "h = str(answer//3600).zfill(2)\n",
    "answer %= 3600\n",
    "m = str(answer//60).zfill(2)\n",
    "answer %= 60\n",
    "s = str(answer).zfill(2)\n",
    "print(f'{h}:{m}:{s}')"
   ],
   "metadata": {
    "collapsed": false,
    "pycharm": {
     "name": "#%%\n"
    }
   }
  }
 ],
 "metadata": {
  "kernelspec": {
   "display_name": "Python 3",
   "language": "python",
   "name": "python3"
  },
  "language_info": {
   "codemirror_mode": {
    "name": "ipython",
    "version": 2
   },
   "file_extension": ".py",
   "mimetype": "text/x-python",
   "name": "python",
   "nbconvert_exporter": "python",
   "pygments_lexer": "ipython2",
   "version": "2.7.6"
  }
 },
 "nbformat": 4,
 "nbformat_minor": 0
}