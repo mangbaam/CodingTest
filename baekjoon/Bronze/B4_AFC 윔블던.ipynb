{
 "cells": [
  {
   "cell_type": "markdown",
   "id": "contained-nature",
   "metadata": {},
   "source": [
    "https://www.acmicpc.net/problem/4299"
   ]
  },
  {
   "cell_type": "code",
   "execution_count": 1,
   "id": "helpful-frequency",
   "metadata": {},
   "outputs": [
    {
     "name": "stdout",
     "output_type": "stream",
     "text": [
      "3 1\n",
      "2 1\n"
     ]
    }
   ],
   "source": [
    "def solution():\n",
    "    x, y = map(int, input().split())\n",
    "    if (x+y)%2 or (x-y)%2: \n",
    "        print(-1)\n",
    "        return\n",
    "    a = (x+y)//2\n",
    "    b = (x-y)//2\n",
    "    if a+b==x and abs(a-b) == y:\n",
    "        print(max(a, b), min(a, b))\n",
    "    else:\n",
    "        print(-1)\n",
    "solution()"
   ]
  },
  {
   "cell_type": "code",
   "execution_count": null,
   "id": "handmade-creek",
   "metadata": {},
   "outputs": [],
   "source": []
  }
 ],
 "metadata": {
  "kernelspec": {
   "display_name": "Python 3",
   "language": "python",
   "name": "python3"
  },
  "language_info": {
   "codemirror_mode": {
    "name": "ipython",
    "version": 3
   },
   "file_extension": ".py",
   "mimetype": "text/x-python",
   "name": "python",
   "nbconvert_exporter": "python",
   "pygments_lexer": "ipython3",
   "version": "3.8.5"
  }
 },
 "nbformat": 4,
 "nbformat_minor": 5
}
