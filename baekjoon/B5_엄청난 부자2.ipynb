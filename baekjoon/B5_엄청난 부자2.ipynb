{
 "cells": [
  {
   "cell_type": "markdown",
   "id": "sacred-warehouse",
   "metadata": {},
   "source": [
    "https://www.acmicpc.net/problem/1271"
   ]
  },
  {
   "cell_type": "code",
   "execution_count": 1,
   "id": "proprietary-order",
   "metadata": {},
   "outputs": [
    {
     "name": "stdout",
     "output_type": "stream",
     "text": [
      "1000 100\n",
      "10\n",
      "0\n"
     ]
    }
   ],
   "source": [
    "n, m = map(int, input().split())\n",
    "print(n//m)\n",
    "print(n%m)"
   ]
  }
 ],
 "metadata": {
  "kernelspec": {
   "display_name": "Python 3",
   "language": "python",
   "name": "python3"
  },
  "language_info": {
   "codemirror_mode": {
    "name": "ipython",
    "version": 3
   },
   "file_extension": ".py",
   "mimetype": "text/x-python",
   "name": "python",
   "nbconvert_exporter": "python",
   "pygments_lexer": "ipython3",
   "version": "3.8.5"
  }
 },
 "nbformat": 4,
 "nbformat_minor": 5
}
