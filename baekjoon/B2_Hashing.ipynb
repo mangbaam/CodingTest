{
 "cells": [
  {
   "cell_type": "markdown",
   "id": "hidden-precipitation",
   "metadata": {},
   "source": [
    "https://www.acmicpc.net/problem/15829"
   ]
  },
  {
   "cell_type": "code",
   "execution_count": 12,
   "id": "negative-boost",
   "metadata": {},
   "outputs": [
    {
     "name": "stdout",
     "output_type": "stream",
     "text": [
      "3\n",
      "zzz\n",
      "25818\n"
     ]
    }
   ],
   "source": [
    "n = int(input())\n",
    "value = input()\n",
    "print(sum([(ord(v)-ord('a')+1)*(31**i)%1234567891 for i,v in enumerate(value)])%1234567891)"
   ]
  }
 ],
 "metadata": {
  "kernelspec": {
   "display_name": "Python 3",
   "language": "python",
   "name": "python3"
  },
  "language_info": {
   "codemirror_mode": {
    "name": "ipython",
    "version": 3
   },
   "file_extension": ".py",
   "mimetype": "text/x-python",
   "name": "python",
   "nbconvert_exporter": "python",
   "pygments_lexer": "ipython3",
   "version": "3.8.5"
  }
 },
 "nbformat": 4,
 "nbformat_minor": 5
}
