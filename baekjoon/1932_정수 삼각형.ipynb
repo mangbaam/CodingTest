{
 "cells": [
  {
   "cell_type": "markdown",
   "id": "sweet-portfolio",
   "metadata": {},
   "source": [
    "https://www.acmicpc.net/problem/1932"
   ]
  },
  {
   "cell_type": "code",
   "execution_count": 4,
   "id": "occupational-blowing",
   "metadata": {},
   "outputs": [
    {
     "name": "stdout",
     "output_type": "stream",
     "text": [
      "5\n",
      "7\n",
      "3 8\n",
      "8 1 0\n",
      "2 7 4 4\n",
      "4 5 2 6 5\n",
      "[30]\n"
     ]
    }
   ],
   "source": [
    "n = int(input())\n",
    "triangle = []\n",
    "for _ in range(n):\n",
    "    triangle.append(list(map(int, input().split())))\n",
    "for i in range(n-1, 0, -1):\n",
    "    for j in range(len(triangle[i])-1):\n",
    "        triangle[i-1][j] += max(triangle[i][j], triangle[i][j+1])\n",
    "print(triangle[0][0])"
   ]
  }
 ],
 "metadata": {
  "kernelspec": {
   "display_name": "Python 3",
   "language": "python",
   "name": "python3"
  },
  "language_info": {
   "codemirror_mode": {
    "name": "ipython",
    "version": 3
   },
   "file_extension": ".py",
   "mimetype": "text/x-python",
   "name": "python",
   "nbconvert_exporter": "python",
   "pygments_lexer": "ipython3",
   "version": "3.8.5"
  }
 },
 "nbformat": 4,
 "nbformat_minor": 5
}
