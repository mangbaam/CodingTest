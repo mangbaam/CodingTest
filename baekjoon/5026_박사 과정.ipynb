{
 "cells": [
  {
   "cell_type": "markdown",
   "id": "wooden-consolidation",
   "metadata": {},
   "source": [
    "https://www.acmicpc.net/problem/5026"
   ]
  },
  {
   "cell_type": "code",
   "execution_count": 1,
   "id": "statistical-inside",
   "metadata": {},
   "outputs": [
    {
     "name": "stdout",
     "output_type": "stream",
     "text": [
      "4\n",
      "2+2\n",
      "4\n",
      "1+2\n",
      "3\n",
      "P=NP\n",
      "skipped\n",
      "0+0\n",
      "0\n"
     ]
    }
   ],
   "source": [
    "t = int(input())\n",
    "for i in range(t):\n",
    "    s = input()\n",
    "    if s == 'P=NP':\n",
    "        print(\"skipped\")\n",
    "    else:\n",
    "        s = s.split(\"+\")\n",
    "        print(int(s[0])+int(s[1]))"
   ]
  }
 ],
 "metadata": {
  "kernelspec": {
   "display_name": "Python 3",
   "language": "python",
   "name": "python3"
  },
  "language_info": {
   "codemirror_mode": {
    "name": "ipython",
    "version": 3
   },
   "file_extension": ".py",
   "mimetype": "text/x-python",
   "name": "python",
   "nbconvert_exporter": "python",
   "pygments_lexer": "ipython3",
   "version": "3.8.5"
  }
 },
 "nbformat": 4,
 "nbformat_minor": 5
}
