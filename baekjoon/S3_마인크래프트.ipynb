{
 "cells": [
  {
   "cell_type": "markdown",
   "id": "signal-german",
   "metadata": {},
   "source": [
    "https://www.acmicpc.net/problem/18111"
   ]
  },
  {
   "cell_type": "code",
   "execution_count": null,
   "id": "recent-crash",
   "metadata": {},
   "outputs": [],
   "source": [
    "def flatten(graph, n, m, h):\n",
    "    time = 0\n",
    "    for r in range(n):\n",
    "        for c in range(m):\n",
    "            if graph[r][c] > h:\n",
    "                time += (graph[r][c] - h) * 2 # 블록 제거\n",
    "            elif graph[r][c] < h: \n",
    "                time += h-graph[r][c] # 블록 추가\n",
    "    return time\n",
    "\n",
    "''' --- [main] --- '''\n",
    "n, m, b = map(int, input().split())\n",
    "minH, maxH = 300, 0 # 최소 높이, 최대 높이\n",
    "totalBlocks = 0 # 현재 총 블록 수\n",
    "graph = [] # 맵\n",
    "answer = [] # 시간, 높이\n",
    "\n",
    "for _ in range(n):\n",
    "    row = list(map(int, input().split()))\n",
    "    graph.append(row)\n",
    "    totalBlocks += sum(row)\n",
    "    minH, maxH = min(minH, min(row)), max(maxH, max(row))\n",
    "    \n",
    "for h in range(minH, maxH+1):\n",
    "    block = totalBlocks - h*n*m # 추가 블록 개수 (부족하면 음수)\n",
    "    if block >= 0 or block+b >= 0: # 블록이 더 많은 경우\n",
    "        time = flatten(graph, n, m, h)\n",
    "        answer.append((time, h))\n",
    "            \n",
    "answer = min(answer, key=lambda x: (x[0],-x[1]))\n",
    "for i in answer: print(i, end=' ')"
   ]
  }
 ],
 "metadata": {
  "kernelspec": {
   "display_name": "Python 3",
   "language": "python",
   "name": "python3"
  },
  "language_info": {
   "codemirror_mode": {
    "name": "ipython",
    "version": 3
   },
   "file_extension": ".py",
   "mimetype": "text/x-python",
   "name": "python",
   "nbconvert_exporter": "python",
   "pygments_lexer": "ipython3",
   "version": "3.8.5"
  }
 },
 "nbformat": 4,
 "nbformat_minor": 5
}
