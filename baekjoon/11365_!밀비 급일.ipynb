{
 "cells": [
  {
   "cell_type": "markdown",
   "id": "decimal-architect",
   "metadata": {},
   "source": [
    "https://www.acmicpc.net/problem/11365"
   ]
  },
  {
   "cell_type": "code",
   "execution_count": null,
   "id": "informal-despite",
   "metadata": {},
   "outputs": [],
   "source": [
    "while True:\n",
    "    line = input()\n",
    "    if line == \"END\": break\n",
    "    print(line[::-1])"
   ]
  }
 ],
 "metadata": {
  "kernelspec": {
   "display_name": "Python 3",
   "language": "python",
   "name": "python3"
  },
  "language_info": {
   "codemirror_mode": {
    "name": "ipython",
    "version": 3
   },
   "file_extension": ".py",
   "mimetype": "text/x-python",
   "name": "python",
   "nbconvert_exporter": "python",
   "pygments_lexer": "ipython3",
   "version": "3.8.5"
  }
 },
 "nbformat": 4,
 "nbformat_minor": 5
}
