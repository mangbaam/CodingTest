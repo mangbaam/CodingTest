{
 "cells": [
  {
   "cell_type": "markdown",
   "id": "opposed-terrorism",
   "metadata": {},
   "source": [
    "https://www.acmicpc.net/problem/2108"
   ]
  },
  {
   "cell_type": "code",
   "execution_count": 16,
   "id": "adult-cancellation",
   "metadata": {},
   "outputs": [
    {
     "name": "stdout",
     "output_type": "stream",
     "text": [
      "5\n",
      "-1\n",
      "-2\n",
      "-3\n",
      "-1\n",
      "-2\n",
      "-2\n",
      "-2\n",
      "-1\n",
      "2\n"
     ]
    }
   ],
   "source": [
    "n = int(input())\n",
    "nums = []\n",
    "count = {}\n",
    "total = 0\n",
    "for _ in range(n):\n",
    "    num = int(input())\n",
    "    nums.append(num)\n",
    "    total += num\n",
    "    if num in count.keys():\n",
    "        count[num] += 1\n",
    "    else:\n",
    "        count[num] = 1\n",
    "nums.sort()\n",
    "maxCount = max(count.values())\n",
    "count = [(item[0], item[1]) for item in count.items() if item[1] == maxCount ]\n",
    "count.sort(key=lambda x: (x[1],x[0]))\n",
    "print(round(total/n)) # 산술평균\n",
    "print(nums[len(nums)//2]) # 중앙값\n",
    "# 최빈값\n",
    "if len(count) > 1: print(count[1][0])\n",
    "else: print(count[0][0])\n",
    "print(nums[-1]-nums[0]) # 범위"
   ]
  }
 ],
 "metadata": {
  "kernelspec": {
   "display_name": "Python 3",
   "language": "python",
   "name": "python3"
  },
  "language_info": {
   "codemirror_mode": {
    "name": "ipython",
    "version": 3
   },
   "file_extension": ".py",
   "mimetype": "text/x-python",
   "name": "python",
   "nbconvert_exporter": "python",
   "pygments_lexer": "ipython3",
   "version": "3.8.5"
  }
 },
 "nbformat": 4,
 "nbformat_minor": 5
}
