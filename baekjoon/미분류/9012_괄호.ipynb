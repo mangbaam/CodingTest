{
 "cells": [
  {
   "cell_type": "markdown",
   "id": "interested-reward",
   "metadata": {},
   "source": [
    "https://www.acmicpc.net/problem/9012"
   ]
  },
  {
   "cell_type": "code",
   "execution_count": 11,
   "id": "spatial-resistance",
   "metadata": {},
   "outputs": [
    {
     "name": "stdout",
     "output_type": "stream",
     "text": [
      "6\n",
      "(())())\n",
      "(((()())()\n",
      "(()())((()))\n",
      "((()()(()))(((())))()\n",
      "()()()()(()()())()\n",
      "(()((())()(\n",
      "NO\n",
      "NO\n",
      "YES\n",
      "NO\n",
      "YES\n",
      "NO\n"
     ]
    }
   ],
   "source": [
    "n = int(input())\n",
    "\n",
    "brackets = []\n",
    "answer = []\n",
    "\n",
    "for i in range(n):\n",
    "    brackets.append(input())\n",
    "    \n",
    "for bracket in brackets:\n",
    "    stack = []\n",
    "    boolean = \"\"\n",
    "    for b in bracket:\n",
    "        if b == '(':\n",
    "            stack.append(b)\n",
    "        elif b == ')':\n",
    "            if len(stack):\n",
    "                stack.pop()\n",
    "            else:\n",
    "                boolean = \"NO\"\n",
    "                break\n",
    "    boolean = \"NO\" if len(stack) or boolean == \"NO\" else \"YES\"\n",
    "    answer.append(boolean)\n",
    "for i in answer:\n",
    "    print(i)"
   ]
  },
  {
   "cell_type": "code",
   "execution_count": null,
   "id": "subsequent-commerce",
   "metadata": {},
   "outputs": [],
   "source": []
  }
 ],
 "metadata": {
  "kernelspec": {
   "display_name": "Python 3",
   "language": "python",
   "name": "python3"
  },
  "language_info": {
   "codemirror_mode": {
    "name": "ipython",
    "version": 3
   },
   "file_extension": ".py",
   "mimetype": "text/x-python",
   "name": "python",
   "nbconvert_exporter": "python",
   "pygments_lexer": "ipython3",
   "version": "3.8.5"
  }
 },
 "nbformat": 4,
 "nbformat_minor": 5
}
