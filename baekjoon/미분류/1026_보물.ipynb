{
 "cells": [
  {
   "cell_type": "markdown",
   "id": "better-negotiation",
   "metadata": {},
   "source": [
    "https://www.acmicpc.net/problem/1026"
   ]
  },
  {
   "cell_type": "code",
   "execution_count": 2,
   "id": "dressed-guitar",
   "metadata": {},
   "outputs": [
    {
     "name": "stdout",
     "output_type": "stream",
     "text": [
      "5\n",
      "1 1 1 6 0\n",
      "2 7 8 3 1\n",
      "18\n"
     ]
    }
   ],
   "source": [
    "n = int(input())\n",
    "a, b = [], []\n",
    "a = list(map(int, input().split()))\n",
    "b = list(map(int, input().split()))\n",
    "a = sorted(a)\n",
    "b = sorted(b, reverse=True)\n",
    "answer = 0\n",
    "for i in range(n):\n",
    "    answer += (a[i] * b[i])\n",
    "print(answer)"
   ]
  }
 ],
 "metadata": {
  "kernelspec": {
   "display_name": "Python 3",
   "language": "python",
   "name": "python3"
  },
  "language_info": {
   "codemirror_mode": {
    "name": "ipython",
    "version": 3
   },
   "file_extension": ".py",
   "mimetype": "text/x-python",
   "name": "python",
   "nbconvert_exporter": "python",
   "pygments_lexer": "ipython3",
   "version": "3.8.5"
  }
 },
 "nbformat": 4,
 "nbformat_minor": 5
}
