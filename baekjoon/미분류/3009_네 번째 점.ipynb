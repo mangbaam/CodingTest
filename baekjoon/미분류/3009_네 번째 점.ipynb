{
 "cells": [
  {
   "cell_type": "markdown",
   "id": "acceptable-marina",
   "metadata": {},
   "source": [
    "https://www.acmicpc.net/problem/3009"
   ]
  },
  {
   "cell_type": "code",
   "execution_count": 4,
   "id": "purple-spare",
   "metadata": {},
   "outputs": [
    {
     "name": "stdout",
     "output_type": "stream",
     "text": [
      "5 7\n",
      "[5] [7]\n",
      "5 5\n",
      "[] [7, 5]\n",
      "7 5\n",
      "[7] [7]\n",
      "7 7\n"
     ]
    }
   ],
   "source": [
    "px, py = [], []\n",
    "for _ in range(3):\n",
    "    x, y = map(int, input().split())\n",
    "    if x in px: px.remove(x)\n",
    "    else: px.append(x)\n",
    "    if y in py: py.remove(y)\n",
    "    else: py.append(y)\n",
    "print(px[0], py[0])"
   ]
  },
  {
   "cell_type": "code",
   "execution_count": null,
   "id": "computational-vitamin",
   "metadata": {},
   "outputs": [],
   "source": []
  }
 ],
 "metadata": {
  "kernelspec": {
   "display_name": "Python 3",
   "language": "python",
   "name": "python3"
  },
  "language_info": {
   "codemirror_mode": {
    "name": "ipython",
    "version": 3
   },
   "file_extension": ".py",
   "mimetype": "text/x-python",
   "name": "python",
   "nbconvert_exporter": "python",
   "pygments_lexer": "ipython3",
   "version": "3.8.5"
  }
 },
 "nbformat": 4,
 "nbformat_minor": 5
}
