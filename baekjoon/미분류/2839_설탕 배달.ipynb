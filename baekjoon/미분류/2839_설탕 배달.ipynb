{
 "cells": [
  {
   "cell_type": "markdown",
   "id": "noble-access",
   "metadata": {},
   "source": [
    "https://www.acmicpc.net/problem/2839"
   ]
  },
  {
   "cell_type": "code",
   "execution_count": 8,
   "id": "official-filename",
   "metadata": {},
   "outputs": [
    {
     "name": "stdout",
     "output_type": "stream",
     "text": [
      "18\n",
      "4\n"
     ]
    }
   ],
   "source": [
    "n = int(input())\n",
    "count = [-1] * 5001\n",
    "count[3], count[5] = 1, 1\n",
    "for i in range(n+1):\n",
    "    if count[i] != -1:\n",
    "        for num in (3, 5):\n",
    "            if i+num > 5000: continue\n",
    "            if count[i+num] == -1:\n",
    "                count[i+num] = count[i] + 1\n",
    "            else:\n",
    "                count[i+num] = min(count[i+num], count[i] + 1)\n",
    "print(count[n])"
   ]
  }
 ],
 "metadata": {
  "kernelspec": {
   "display_name": "Python 3",
   "language": "python",
   "name": "python3"
  },
  "language_info": {
   "codemirror_mode": {
    "name": "ipython",
    "version": 3
   },
   "file_extension": ".py",
   "mimetype": "text/x-python",
   "name": "python",
   "nbconvert_exporter": "python",
   "pygments_lexer": "ipython3",
   "version": "3.8.5"
  }
 },
 "nbformat": 4,
 "nbformat_minor": 5
}
