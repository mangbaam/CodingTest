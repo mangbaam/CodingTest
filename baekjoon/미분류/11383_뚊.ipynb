{
 "cells": [
  {
   "cell_type": "markdown",
   "id": "enclosed-patch",
   "metadata": {},
   "source": [
    "https://www.acmicpc.net/problem/11383"
   ]
  },
  {
   "cell_type": "code",
   "execution_count": 7,
   "id": "laughing-festival",
   "metadata": {},
   "outputs": [
    {
     "name": "stdout",
     "output_type": "stream",
     "text": [
      "1 5\n",
      "ABCDE\n",
      "AABBCCDEF\n",
      "Not Eyfa\n"
     ]
    }
   ],
   "source": [
    "count, length = map(int, input().split())\n",
    "answers = []\n",
    "for c in range(count):\n",
    "    double = \"\"\n",
    "    s = input()\n",
    "    for c in s:\n",
    "        double+=(c+c)\n",
    "    answers.append(double)\n",
    "    \n",
    "for c in range(count):\n",
    "    compare = input()\n",
    "    if answers[c] != compare:\n",
    "        answers[c] = \"Not Eyfa\"\n",
    "    else:\n",
    "        answers[c] = \"Eyfa\"\n",
    "if \"Not Eyfa\" in answers:\n",
    "    print(\"Not Eyfa\")\n",
    "else:\n",
    "    print(\"Eyfa\")"
   ]
  }
 ],
 "metadata": {
  "kernelspec": {
   "display_name": "Python 3",
   "language": "python",
   "name": "python3"
  },
  "language_info": {
   "codemirror_mode": {
    "name": "ipython",
    "version": 3
   },
   "file_extension": ".py",
   "mimetype": "text/x-python",
   "name": "python",
   "nbconvert_exporter": "python",
   "pygments_lexer": "ipython3",
   "version": "3.8.5"
  }
 },
 "nbformat": 4,
 "nbformat_minor": 5
}
