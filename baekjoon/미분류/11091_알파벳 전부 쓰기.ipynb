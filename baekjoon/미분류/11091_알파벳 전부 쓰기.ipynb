{
 "cells": [
  {
   "cell_type": "markdown",
   "id": "excellent-machinery",
   "metadata": {},
   "source": [
    "https://www.acmicpc.net/problem/11091"
   ]
  },
  {
   "cell_type": "code",
   "execution_count": 7,
   "id": "qualified-stationery",
   "metadata": {},
   "outputs": [
    {
     "name": "stdout",
     "output_type": "stream",
     "text": [
      "3\n",
      "The quick brown fox jumps over the lazy dog.\n",
      "pangram\n",
      "ZYXW, vu TSR Ponm lkj ihgfd CBA.\n",
      "missing eq\n",
      ".,?!'\" 92384 abcde FGHIJ\n",
      "missing klmnopqrstuvwxyz\n"
     ]
    }
   ],
   "source": [
    "import string\n",
    "n = int(input())\n",
    "for i in range(n):\n",
    "    ss = input().lower()\n",
    "    s = set()\n",
    "    for c in ss:\n",
    "        if c.isalpha():\n",
    "            s.add(c)\n",
    "    if len(s) == 26:\n",
    "        print(\"pangram\")\n",
    "    else:\n",
    "        print(\"missing\", end=' ')\n",
    "        remain = set(string.ascii_lowercase) - s\n",
    "        print(''.join(sorted(remain)))"
   ]
  }
 ],
 "metadata": {
  "kernelspec": {
   "display_name": "Python 3",
   "language": "python",
   "name": "python3"
  },
  "language_info": {
   "codemirror_mode": {
    "name": "ipython",
    "version": 3
   },
   "file_extension": ".py",
   "mimetype": "text/x-python",
   "name": "python",
   "nbconvert_exporter": "python",
   "pygments_lexer": "ipython3",
   "version": "3.8.5"
  }
 },
 "nbformat": 4,
 "nbformat_minor": 5
}
