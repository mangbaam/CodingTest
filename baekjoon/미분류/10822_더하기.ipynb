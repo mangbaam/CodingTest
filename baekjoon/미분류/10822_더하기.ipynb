{
 "cells": [
  {
   "cell_type": "markdown",
   "id": "dated-provision",
   "metadata": {},
   "source": [
    "https://www.acmicpc.net/problem/10822"
   ]
  },
  {
   "cell_type": "code",
   "execution_count": 3,
   "id": "apparent-creativity",
   "metadata": {},
   "outputs": [
    {
     "name": "stdout",
     "output_type": "stream",
     "text": [
      "10,20,30,50,100\n",
      "210\n"
     ]
    }
   ],
   "source": [
    "print(sum(map(int, input().split(','))))"
   ]
  }
 ],
 "metadata": {
  "kernelspec": {
   "display_name": "Python 3",
   "language": "python",
   "name": "python3"
  },
  "language_info": {
   "codemirror_mode": {
    "name": "ipython",
    "version": 3
   },
   "file_extension": ".py",
   "mimetype": "text/x-python",
   "name": "python",
   "nbconvert_exporter": "python",
   "pygments_lexer": "ipython3",
   "version": "3.8.5"
  }
 },
 "nbformat": 4,
 "nbformat_minor": 5
}
