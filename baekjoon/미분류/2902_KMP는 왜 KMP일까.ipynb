{
 "cells": [
  {
   "cell_type": "markdown",
   "id": "liable-winter",
   "metadata": {},
   "source": [
    "https://www.acmicpc.net/problem/2902"
   ]
  },
  {
   "cell_type": "code",
   "execution_count": 1,
   "id": "prerequisite-symbol",
   "metadata": {},
   "outputs": [
    {
     "name": "stdout",
     "output_type": "stream",
     "text": [
      "Knuth-Morris-Pratt\n",
      "KMP"
     ]
    }
   ],
   "source": [
    "signature = input()\n",
    "li = signature.split('-')\n",
    "for i in li:\n",
    "    print(i[0].upper(), end='')"
   ]
  },
  {
   "cell_type": "code",
   "execution_count": null,
   "id": "constitutional-single",
   "metadata": {},
   "outputs": [],
   "source": []
  }
 ],
 "metadata": {
  "kernelspec": {
   "display_name": "Python 3",
   "language": "python",
   "name": "python3"
  },
  "language_info": {
   "codemirror_mode": {
    "name": "ipython",
    "version": 3
   },
   "file_extension": ".py",
   "mimetype": "text/x-python",
   "name": "python",
   "nbconvert_exporter": "python",
   "pygments_lexer": "ipython3",
   "version": "3.8.5"
  }
 },
 "nbformat": 4,
 "nbformat_minor": 5
}
