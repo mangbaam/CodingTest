{
 "cells": [
  {
   "cell_type": "code",
   "execution_count": 1,
   "id": "industrial-primary",
   "metadata": {},
   "outputs": [
    {
     "name": "stdout",
     "output_type": "stream",
     "text": [
      "26\n",
      "5\n"
     ]
    }
   ],
   "source": [
    "x = int(input())\n",
    "d = [0] * 1000001\n",
    "\n",
    "for i in range(2, x+1):\n",
    "    li = [d[i-1]]\n",
    "    if i % 3 == 0:\n",
    "        li.append(d[i//3])\n",
    "    if i % 2 == 0:\n",
    "        li.append(d[i//2])\n",
    "    d[i] = min(li) + 1\n",
    "print(d[x])"
   ]
  },
  {
   "cell_type": "code",
   "execution_count": null,
   "id": "seasonal-statistics",
   "metadata": {},
   "outputs": [],
   "source": []
  }
 ],
 "metadata": {
  "kernelspec": {
   "display_name": "Python 3",
   "language": "python",
   "name": "python3"
  },
  "language_info": {
   "codemirror_mode": {
    "name": "ipython",
    "version": 3
   },
   "file_extension": ".py",
   "mimetype": "text/x-python",
   "name": "python",
   "nbconvert_exporter": "python",
   "pygments_lexer": "ipython3",
   "version": "3.8.5"
  }
 },
 "nbformat": 4,
 "nbformat_minor": 5
}
