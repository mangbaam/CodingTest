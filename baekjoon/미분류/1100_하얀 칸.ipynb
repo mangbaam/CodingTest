{
 "cells": [
  {
   "cell_type": "markdown",
   "id": "unexpected-enzyme",
   "metadata": {},
   "source": [
    "https://www.acmicpc.net/problem/1100"
   ]
  },
  {
   "cell_type": "code",
   "execution_count": null,
   "id": "representative-citizenship",
   "metadata": {},
   "outputs": [],
   "source": [
    "chess = []\n",
    "for i in range(8):\n",
    "    chess.append(input())\n",
    "    \n",
    "answer = 0\n",
    "for i in range(0, 8):\n",
    "    for j in range(0, 8):\n",
    "        if (i+j)%2==0 and chess[i][j] == 'F':\n",
    "            answer += 1\n",
    "            \n",
    "print(answer)"
   ]
  }
 ],
 "metadata": {
  "kernelspec": {
   "display_name": "Python 3",
   "language": "python",
   "name": "python3"
  },
  "language_info": {
   "codemirror_mode": {
    "name": "ipython",
    "version": 3
   },
   "file_extension": ".py",
   "mimetype": "text/x-python",
   "name": "python",
   "nbconvert_exporter": "python",
   "pygments_lexer": "ipython3",
   "version": "3.8.5"
  }
 },
 "nbformat": 4,
 "nbformat_minor": 5
}
