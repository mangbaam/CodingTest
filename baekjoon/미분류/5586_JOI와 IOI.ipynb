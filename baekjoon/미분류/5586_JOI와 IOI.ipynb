{
 "cells": [
  {
   "cell_type": "markdown",
   "id": "southwest-involvement",
   "metadata": {},
   "source": [
    "https://www.acmicpc.net/problem/5586"
   ]
  },
  {
   "cell_type": "code",
   "execution_count": 3,
   "id": "plain-bibliography",
   "metadata": {},
   "outputs": [
    {
     "name": "stdout",
     "output_type": "stream",
     "text": [
      "JOIOIJOINXNXJIOIOIOJ\n",
      "2\n",
      "3\n"
     ]
    }
   ],
   "source": [
    "s = input()\n",
    "joi, ioi = 0, 0\n",
    "for i in range(len(s)-2):\n",
    "    sub = s[i]+s[i+1]+s[i+2] \n",
    "    if sub == \"JOI\":\n",
    "        joi += 1\n",
    "    elif sub == 'IOI':\n",
    "        ioi += 1\n",
    "print(joi)\n",
    "print(ioi)"
   ]
  },
  {
   "cell_type": "code",
   "execution_count": null,
   "id": "engaging-ceiling",
   "metadata": {},
   "outputs": [],
   "source": []
  }
 ],
 "metadata": {
  "kernelspec": {
   "display_name": "Python 3",
   "language": "python",
   "name": "python3"
  },
  "language_info": {
   "codemirror_mode": {
    "name": "ipython",
    "version": 3
   },
   "file_extension": ".py",
   "mimetype": "text/x-python",
   "name": "python",
   "nbconvert_exporter": "python",
   "pygments_lexer": "ipython3",
   "version": "3.8.5"
  }
 },
 "nbformat": 4,
 "nbformat_minor": 5
}
