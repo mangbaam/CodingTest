{
 "cells": [
  {
   "cell_type": "markdown",
   "id": "cloudy-strike",
   "metadata": {},
   "source": [
    "https://www.acmicpc.net/problem/11816"
   ]
  },
  {
   "cell_type": "code",
   "execution_count": 7,
   "id": "blessed-contemporary",
   "metadata": {},
   "outputs": [
    {
     "name": "stdout",
     "output_type": "stream",
     "text": [
      "0x3f6\n",
      "1014\n"
     ]
    }
   ],
   "source": [
    "x = input()\n",
    "\n",
    "# 16진수\n",
    "if len(x) > 2 and x[:2]==\"0x\":\n",
    "    result = int(x, 16)\n",
    "# 8진수\n",
    "elif len(x) > 1 and x[0] == '0':\n",
    "    result = int(x, 8)\n",
    "# 10진수\n",
    "else:\n",
    "    result = int(x)\n",
    "    \n",
    "print(result)"
   ]
  },
  {
   "cell_type": "code",
   "execution_count": null,
   "id": "devoted-istanbul",
   "metadata": {},
   "outputs": [],
   "source": []
  }
 ],
 "metadata": {
  "kernelspec": {
   "display_name": "Python 3",
   "language": "python",
   "name": "python3"
  },
  "language_info": {
   "codemirror_mode": {
    "name": "ipython",
    "version": 3
   },
   "file_extension": ".py",
   "mimetype": "text/x-python",
   "name": "python",
   "nbconvert_exporter": "python",
   "pygments_lexer": "ipython3",
   "version": "3.8.5"
  }
 },
 "nbformat": 4,
 "nbformat_minor": 5
}
