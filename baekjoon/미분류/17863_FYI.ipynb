{
 "cells": [
  {
   "cell_type": "markdown",
   "id": "random-heaven",
   "metadata": {},
   "source": [
    "https://www.acmicpc.net/problem/17863"
   ]
  },
  {
   "cell_type": "code",
   "execution_count": 2,
   "id": "hazardous-sucking",
   "metadata": {
    "scrolled": true
   },
   "outputs": [
    {
     "name": "stdout",
     "output_type": "stream",
     "text": [
      "5519876\n",
      "NO\n"
     ]
    }
   ],
   "source": [
    "phone = input()\n",
    "answer = \"YES\" if len(phone) == 7 and phone[:3] == '555' else \"NO\"\n",
    "print(answer)"
   ]
  }
 ],
 "metadata": {
  "kernelspec": {
   "display_name": "Python 3",
   "language": "python",
   "name": "python3"
  },
  "language_info": {
   "codemirror_mode": {
    "name": "ipython",
    "version": 3
   },
   "file_extension": ".py",
   "mimetype": "text/x-python",
   "name": "python",
   "nbconvert_exporter": "python",
   "pygments_lexer": "ipython3",
   "version": "3.8.5"
  }
 },
 "nbformat": 4,
 "nbformat_minor": 5
}
