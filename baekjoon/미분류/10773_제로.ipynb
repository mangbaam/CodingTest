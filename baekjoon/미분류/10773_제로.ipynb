{
 "cells": [
  {
   "cell_type": "markdown",
   "id": "intended-mentor",
   "metadata": {},
   "source": [
    "https://www.acmicpc.net/problem/10773"
   ]
  },
  {
   "cell_type": "code",
   "execution_count": 2,
   "id": "suspected-birth",
   "metadata": {},
   "outputs": [
    {
     "name": "stdout",
     "output_type": "stream",
     "text": [
      "10\n",
      "1\n",
      "3\n",
      "5\n",
      "4\n",
      "0\n",
      "0\n",
      "7\n",
      "0\n",
      "0\n",
      "7\n",
      "8\n"
     ]
    }
   ],
   "source": [
    "li = []\n",
    "n = int(input())\n",
    "for i in range(n):\n",
    "    num = int(input())\n",
    "    if len(li) and num == 0:\n",
    "        li.pop()\n",
    "    else:\n",
    "        li.append(num)\n",
    "if len(li) == 0 : li.append(0)\n",
    "print(sum(li))"
   ]
  },
  {
   "cell_type": "code",
   "execution_count": null,
   "id": "judicial-boulder",
   "metadata": {},
   "outputs": [],
   "source": []
  }
 ],
 "metadata": {
  "kernelspec": {
   "display_name": "Python 3",
   "language": "python",
   "name": "python3"
  },
  "language_info": {
   "codemirror_mode": {
    "name": "ipython",
    "version": 3
   },
   "file_extension": ".py",
   "mimetype": "text/x-python",
   "name": "python",
   "nbconvert_exporter": "python",
   "pygments_lexer": "ipython3",
   "version": "3.8.5"
  }
 },
 "nbformat": 4,
 "nbformat_minor": 5
}
