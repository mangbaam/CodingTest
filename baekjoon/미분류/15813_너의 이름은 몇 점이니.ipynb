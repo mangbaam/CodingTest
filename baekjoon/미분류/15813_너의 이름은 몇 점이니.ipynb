{
 "cells": [
  {
   "cell_type": "markdown",
   "id": "signed-heaven",
   "metadata": {},
   "source": [
    "https://www.acmicpc.net/problem/15813"
   ]
  },
  {
   "cell_type": "code",
   "execution_count": 1,
   "id": "sitting-reset",
   "metadata": {},
   "outputs": [
    {
     "name": "stdout",
     "output_type": "stream",
     "text": [
      "7\n",
      "SUNGPIL\n",
      "98\n"
     ]
    }
   ],
   "source": [
    "count = int(input())\n",
    "name = input()\n",
    "answer = 0\n",
    "for i in range(count):\n",
    "    answer += ord(name[i]) - ord('A') + 1\n",
    "print(answer)"
   ]
  }
 ],
 "metadata": {
  "kernelspec": {
   "display_name": "Python 3",
   "language": "python",
   "name": "python3"
  },
  "language_info": {
   "codemirror_mode": {
    "name": "ipython",
    "version": 3
   },
   "file_extension": ".py",
   "mimetype": "text/x-python",
   "name": "python",
   "nbconvert_exporter": "python",
   "pygments_lexer": "ipython3",
   "version": "3.8.5"
  }
 },
 "nbformat": 4,
 "nbformat_minor": 5
}
