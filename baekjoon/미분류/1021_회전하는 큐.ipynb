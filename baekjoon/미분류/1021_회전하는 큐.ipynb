{
 "cells": [
  {
   "cell_type": "markdown",
   "id": "chicken-windsor",
   "metadata": {},
   "source": [
    "https://www.acmicpc.net/problem/1021"
   ]
  },
  {
   "cell_type": "code",
   "execution_count": 6,
   "id": "configured-columbia",
   "metadata": {},
   "outputs": [
    {
     "name": "stdout",
     "output_type": "stream",
     "text": [
      "1 2 3\n",
      "3\n"
     ]
    }
   ],
   "source": [
    "from collections import deque\n",
    "# n, m = map(int, input().split())\n",
    "n, m = 10, 3\n",
    "cmds = list(map(int, input().split()))\n",
    "answer = 0\n",
    "\n",
    "def find(queue, n):\n",
    "    left, right = 0, 0\n",
    "    l = len(queue)\n",
    "    for i in range(len(queue)):\n",
    "        if queue[i] == n: left = i; break\n",
    "    for i in range(len(queue)):\n",
    "        if queue[l-i-1] == n: right = l-i-1; break\n",
    "    return 2 if left <= right else 3\n",
    "\n",
    "queue = deque([i for i in range(1, n+1)])\n",
    "for i in cmds:\n",
    "    i = i - 1\n",
    "    if find(queue, i)==2:\n",
    "        for _ in range(i): \n",
    "            queue.rotate(-1)\n",
    "        answer += i\n",
    "    else:\n",
    "        for _ in range(i):\n",
    "            queue.rotate()\n",
    "        answer += n-i\n",
    "    queue.popleft()\n",
    "    n -= 1\n",
    "print(answer)"
   ]
  },
  {
   "cell_type": "code",
   "execution_count": null,
   "id": "proved-premium",
   "metadata": {},
   "outputs": [],
   "source": []
  }
 ],
 "metadata": {
  "kernelspec": {
   "display_name": "Python 3",
   "language": "python",
   "name": "python3"
  },
  "language_info": {
   "codemirror_mode": {
    "name": "ipython",
    "version": 3
   },
   "file_extension": ".py",
   "mimetype": "text/x-python",
   "name": "python",
   "nbconvert_exporter": "python",
   "pygments_lexer": "ipython3",
   "version": "3.8.5"
  }
 },
 "nbformat": 4,
 "nbformat_minor": 5
}
