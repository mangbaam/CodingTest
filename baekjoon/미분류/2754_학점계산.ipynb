{
 "cells": [
  {
   "cell_type": "markdown",
   "id": "owned-france",
   "metadata": {},
   "source": [
    "https://www.acmicpc.net/problem/2754"
   ]
  },
  {
   "cell_type": "code",
   "execution_count": 1,
   "id": "dense-luther",
   "metadata": {},
   "outputs": [
    {
     "name": "stdout",
     "output_type": "stream",
     "text": [
      "A0\n",
      "4.0\n"
     ]
    }
   ],
   "source": [
    "grade = {\n",
    "    'A+': 4.3,    'A0': 4.0,    'A-': 3.7,\n",
    "    'B+': 3.3,    'B0': 3.0,    'B-': 2.7,\n",
    "    'C+': 2.3,    'C0': 2.0,    'C-': 1.7,\n",
    "    'D+': 1.3,    'D0': 1.0,    'D-': 0.7,\n",
    "    'F': 0.0\n",
    "}\n",
    "\n",
    "my = input()\n",
    "print(grade[my])"
   ]
  },
  {
   "cell_type": "code",
   "execution_count": null,
   "id": "important-explosion",
   "metadata": {},
   "outputs": [],
   "source": []
  }
 ],
 "metadata": {
  "kernelspec": {
   "display_name": "Python 3",
   "language": "python",
   "name": "python3"
  },
  "language_info": {
   "codemirror_mode": {
    "name": "ipython",
    "version": 3
   },
   "file_extension": ".py",
   "mimetype": "text/x-python",
   "name": "python",
   "nbconvert_exporter": "python",
   "pygments_lexer": "ipython3",
   "version": "3.8.5"
  }
 },
 "nbformat": 4,
 "nbformat_minor": 5
}
