{
 "cells": [
  {
   "cell_type": "markdown",
   "id": "needed-locking",
   "metadata": {},
   "source": [
    "https://www.acmicpc.net/problem/2684"
   ]
  },
  {
   "cell_type": "code",
   "execution_count": 10,
   "id": "developmental-pregnancy",
   "metadata": {},
   "outputs": [
    {
     "name": "stdout",
     "output_type": "stream",
     "text": [
      "4\n",
      "HHHHHHHHHHHHHHHHHHHHHHHHHHHHHHHHHHHHHHHH\n",
      "0 0 0 0 0 0 0 38 \n",
      "TTTTTTTTTTTTTTTTTTTTTTTTTTTTTTTTTTTTTTTT\n",
      "38 0 0 0 0 0 0 0 \n",
      "HHTTTHHTTTHTHHTHHTTHTTTHHHTHTTHTTHTTTHTH\n",
      "4 7 6 4 7 4 5 1 \n",
      "HTHTHHHTHHHTHTHHHHTTTHTTTTTHHTTTTHTHHHHT\n",
      "6 3 4 5 3 6 5 6 \n"
     ]
    }
   ],
   "source": [
    "case = ['TTT', 'TTH', 'THT', 'THH', 'HTT', 'HTH','HHT', 'HHH']\n",
    "\n",
    "t = int(input())\n",
    "for i in range(t):\n",
    "    caseDic = {case[i]: 0 for i in range(len(case))}\n",
    "    s = input()\n",
    "    for j in range(len(s)-2):\n",
    "        sub = s[j]+s[j+1]+s[j+2]\n",
    "        if sub in caseDic.keys():\n",
    "            caseDic[sub] += 1\n",
    "    caseValues = sorted(caseDic.values(), key=lambda x: caseDic.keys(), reverse=True)\n",
    "\n",
    "    for d in caseValues:\n",
    "        print(d, end=' ')\n",
    "    print()"
   ]
  }
 ],
 "metadata": {
  "kernelspec": {
   "display_name": "Python 3",
   "language": "python",
   "name": "python3"
  },
  "language_info": {
   "codemirror_mode": {
    "name": "ipython",
    "version": 3
   },
   "file_extension": ".py",
   "mimetype": "text/x-python",
   "name": "python",
   "nbconvert_exporter": "python",
   "pygments_lexer": "ipython3",
   "version": "3.8.5"
  }
 },
 "nbformat": 4,
 "nbformat_minor": 5
}
