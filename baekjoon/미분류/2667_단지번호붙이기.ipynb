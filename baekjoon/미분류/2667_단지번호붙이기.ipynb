{
 "cells": [
  {
   "cell_type": "markdown",
   "id": "smoking-hometown",
   "metadata": {},
   "source": [
    "https://www.acmicpc.net/problem/2667"
   ]
  },
  {
   "cell_type": "code",
   "execution_count": 60,
   "id": "specialized-basin",
   "metadata": {},
   "outputs": [],
   "source": [
    "from collections import deque\n",
    "\n",
    "def bfs(x, y):\n",
    "    if graph[x][y]=='0' or visited[x][y]: return\n",
    "    dx = [1, -1, 0, 0]\n",
    "    dy = [0, 0, -1, 1]\n",
    "    queue = deque([(x, y)])\n",
    "    visited[x][y] = True\n",
    "    count = 0\n",
    "    while queue:\n",
    "        x, y = queue.popleft()\n",
    "        for i in range(4):\n",
    "            nx = x + dx[i]\n",
    "            ny = y + dy[i]\n",
    "            if 0 <= nx < n and 0 <= ny < n and not visited[nx][ny] and graph[nx][ny]=='1':\n",
    "                queue.append((nx, ny))\n",
    "                visited[nx][ny] = True\n",
    "        count += 1\n",
    "    counts.append(count)"
   ]
  },
  {
   "cell_type": "code",
   "execution_count": 61,
   "id": "focused-rebecca",
   "metadata": {},
   "outputs": [
    {
     "name": "stdout",
     "output_type": "stream",
     "text": [
      "7\n",
      "0110100\n",
      "0110101\n",
      "1110101\n",
      "0000111\n",
      "0100000\n",
      "0111110\n",
      "0111000\n",
      "3\n",
      "7\n",
      "8\n",
      "9\n"
     ]
    }
   ],
   "source": [
    "n = int(input())\n",
    "graph = [input() for _ in range(n)]\n",
    "visited = [[False] * n for _ in range(n)]\n",
    "counts = []\n",
    "for i in range(n):\n",
    "    for j in range(n):\n",
    "        bfs(i, j)\n",
    "print(len(counts))\n",
    "for c in sorted(counts):\n",
    "    print(c)"
   ]
  },
  {
   "cell_type": "code",
   "execution_count": null,
   "id": "minimal-territory",
   "metadata": {},
   "outputs": [],
   "source": []
  }
 ],
 "metadata": {
  "kernelspec": {
   "display_name": "Python 3",
   "language": "python",
   "name": "python3"
  },
  "language_info": {
   "codemirror_mode": {
    "name": "ipython",
    "version": 3
   },
   "file_extension": ".py",
   "mimetype": "text/x-python",
   "name": "python",
   "nbconvert_exporter": "python",
   "pygments_lexer": "ipython3",
   "version": "3.8.5"
  }
 },
 "nbformat": 4,
 "nbformat_minor": 5
}
