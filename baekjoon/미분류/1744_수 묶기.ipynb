{
 "cells": [
  {
   "cell_type": "markdown",
   "id": "handy-clinton",
   "metadata": {},
   "source": [
    "https://www.acmicpc.net/problem/1744"
   ]
  },
  {
   "cell_type": "code",
   "execution_count": 23,
   "id": "resistant-facial",
   "metadata": {},
   "outputs": [
    {
     "name": "stdout",
     "output_type": "stream",
     "text": [
      "6\n",
      "-300\n",
      "-200\n",
      "0\n",
      "10\n",
      "20\n",
      "30\n",
      "60610\n"
     ]
    }
   ],
   "source": [
    "answer = 0\n",
    "li = []\n",
    "n = int(input())\n",
    "\n",
    "for _ in range(n):\n",
    "    li.append(int(input()))\n",
    "positive, negative = [], []\n",
    "for i in li:\n",
    "    if i > 0: positive.append(i)\n",
    "    else: negative.append(i)\n",
    "positive.sort(reverse=True)\n",
    "negative.sort()\n",
    "# 양수\n",
    "for i in range(1, len(positive), 2):\n",
    "    if positive[i] == 1 or positive[i-1]:\n",
    "        answer += (positive[i-1] + positive[i])\n",
    "    else: answer += positive[i-1]*positive[i]\n",
    "if len(positive)%2:\n",
    "    answer += positive[-1]\n",
    "# 음수    \n",
    "for i in range(1, len(negative), 2):\n",
    "    answer += negative[i-1]*negative[i]\n",
    "if len(negative)%2:\n",
    "    answer += negative[-1]\n",
    "print(answer)"
   ]
  }
 ],
 "metadata": {
  "kernelspec": {
   "display_name": "Python 3",
   "language": "python",
   "name": "python3"
  },
  "language_info": {
   "codemirror_mode": {
    "name": "ipython",
    "version": 3
   },
   "file_extension": ".py",
   "mimetype": "text/x-python",
   "name": "python",
   "nbconvert_exporter": "python",
   "pygments_lexer": "ipython3",
   "version": "3.8.5"
  }
 },
 "nbformat": 4,
 "nbformat_minor": 5
}
