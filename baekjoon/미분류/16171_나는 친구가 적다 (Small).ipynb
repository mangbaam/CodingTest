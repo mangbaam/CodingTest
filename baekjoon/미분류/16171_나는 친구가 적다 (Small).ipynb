{
 "cells": [
  {
   "cell_type": "markdown",
   "id": "persistent-bulgarian",
   "metadata": {},
   "source": [
    "https://www.acmicpc.net/problem/16171"
   ]
  },
  {
   "cell_type": "code",
   "execution_count": 2,
   "id": "strategic-dylan",
   "metadata": {},
   "outputs": [
    {
     "name": "stdout",
     "output_type": "stream",
     "text": [
      "1ovey0uS2\\\n",
      "veS\n",
      "0\n"
     ]
    }
   ],
   "source": [
    "mixed = input()\n",
    "al = \"\"\n",
    "for c in mixed:\n",
    "    if c.isalpha(): al+=c\n",
    "find = input()\n",
    "if find in al:\n",
    "    print(\"1\")\n",
    "else:\n",
    "    print(\"0\")"
   ]
  }
 ],
 "metadata": {
  "kernelspec": {
   "display_name": "Python 3",
   "language": "python",
   "name": "python3"
  },
  "language_info": {
   "codemirror_mode": {
    "name": "ipython",
    "version": 3
   },
   "file_extension": ".py",
   "mimetype": "text/x-python",
   "name": "python",
   "nbconvert_exporter": "python",
   "pygments_lexer": "ipython3",
   "version": "3.8.5"
  }
 },
 "nbformat": 4,
 "nbformat_minor": 5
}
