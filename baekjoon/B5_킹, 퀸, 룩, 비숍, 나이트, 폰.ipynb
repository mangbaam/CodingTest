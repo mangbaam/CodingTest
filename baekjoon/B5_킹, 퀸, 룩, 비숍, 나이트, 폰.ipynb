{
 "cells": [
  {
   "cell_type": "markdown",
   "id": "alpine-apple",
   "metadata": {},
   "source": [
    "https://www.acmicpc.net/problem/3003"
   ]
  },
  {
   "cell_type": "code",
   "execution_count": 5,
   "id": "pregnant-sewing",
   "metadata": {},
   "outputs": [
    {
     "name": "stdout",
     "output_type": "stream",
     "text": [
      "0 1 2 2 2 7\n",
      "1 0 0 0 0 1\n"
     ]
    }
   ],
   "source": [
    "full = [1, 1, 2, 2, 2, 8]\n",
    "white = list(map(int, input().split()))\n",
    "print((' '.join([str(full[i]-white[i]) for i in range(6)])))"
   ]
  }
 ],
 "metadata": {
  "kernelspec": {
   "display_name": "Python 3",
   "language": "python",
   "name": "python3"
  },
  "language_info": {
   "codemirror_mode": {
    "name": "ipython",
    "version": 3
   },
   "file_extension": ".py",
   "mimetype": "text/x-python",
   "name": "python",
   "nbconvert_exporter": "python",
   "pygments_lexer": "ipython3",
   "version": "3.8.5"
  }
 },
 "nbformat": 4,
 "nbformat_minor": 5
}
