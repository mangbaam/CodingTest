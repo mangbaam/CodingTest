{
 "cells": [
  {
   "cell_type": "code",
   "execution_count": 3,
   "id": "fixed-trinidad",
   "metadata": {},
   "outputs": [
    {
     "name": "stdout",
     "output_type": "stream",
     "text": [
      "6 8 10\n",
      "right\n",
      "25 52 60\n",
      "wrong\n",
      "5 12 13\n",
      "right\n",
      "0 0 0\n"
     ]
    }
   ],
   "source": [
    "tri = list(map(int, input().split()))\n",
    "while tri != [0, 0, 0]:\n",
    "    tri.sort()\n",
    "    if tri[0]**2 + tri[1]**2 == tri[2]**2:\n",
    "        print(\"right\")\n",
    "    else: print(\"wrong\")\n",
    "    tri = list(map(int, input().split()))"
   ]
  }
 ],
 "metadata": {
  "kernelspec": {
   "display_name": "Python 3",
   "language": "python",
   "name": "python3"
  },
  "language_info": {
   "codemirror_mode": {
    "name": "ipython",
    "version": 3
   },
   "file_extension": ".py",
   "mimetype": "text/x-python",
   "name": "python",
   "nbconvert_exporter": "python",
   "pygments_lexer": "ipython3",
   "version": "3.8.5"
  }
 },
 "nbformat": 4,
 "nbformat_minor": 5
}
