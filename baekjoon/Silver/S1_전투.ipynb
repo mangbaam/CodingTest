{
 "cells": [
  {
   "cell_type": "markdown",
   "metadata": {
    "collapsed": true,
    "pycharm": {
     "name": "#%% md\n"
    }
   },
   "source": [
    "https://www.acmicpc.net/problem/1303"
   ]
  },
  {
   "cell_type": "code",
   "execution_count": 1,
   "outputs": [
    {
     "name": "stdout",
     "output_type": "stream",
     "text": [
      "130 65\n"
     ]
    }
   ],
   "source": [
    "from collections import deque\n",
    "\n",
    "m, n = map(int, input().split())\n",
    "arr = [list(input()) for _ in range(n)]\n",
    "visited = [[False] * m for _ in range(n)]\n",
    "\n",
    "W, B = 0, 0\n",
    "d = [(-1, 0), (0, -1), (1, 0), (0, 1)]\n",
    "\n",
    "\n",
    "def bfs(a, b, c):\n",
    "    global arr, d, visited\n",
    "    count = 1\n",
    "    queue = deque([(a, b)])\n",
    "    visited[a][b] = True\n",
    "\n",
    "    while queue:\n",
    "        x, y = queue.popleft()\n",
    "        for i in range(4):\n",
    "            nx, ny = x + d[i][0], y + d[i][1]\n",
    "            if nx in range(n) and ny in range(m) and arr[nx][ny] == c and not visited[nx][ny]:\n",
    "                visited[nx][ny] = True\n",
    "                count += 1\n",
    "                queue.append((nx, ny))\n",
    "\n",
    "    return count\n",
    "\n",
    "\n",
    "def solution():\n",
    "    global n, m, visited, W, B\n",
    "\n",
    "    for x in range(n):\n",
    "        for y in range(m):\n",
    "            if visited[x][y]: continue\n",
    "\n",
    "            if arr[x][y] == 'W':\n",
    "                W += bfs(x, y, 'W') ** 2\n",
    "            elif arr[x][y] == 'B':\n",
    "                B += bfs(x, y, 'B') ** 2\n",
    "\n",
    "    print(W, B)\n",
    "\n",
    "solution()"
   ],
   "metadata": {
    "collapsed": false,
    "pycharm": {
     "name": "#%%\n"
    }
   }
  }
 ],
 "metadata": {
  "kernelspec": {
   "display_name": "Python 3",
   "language": "python",
   "name": "python3"
  },
  "language_info": {
   "codemirror_mode": {
    "name": "ipython",
    "version": 2
   },
   "file_extension": ".py",
   "mimetype": "text/x-python",
   "name": "python",
   "nbconvert_exporter": "python",
   "pygments_lexer": "ipython2",
   "version": "2.7.6"
  }
 },
 "nbformat": 4,
 "nbformat_minor": 0
}