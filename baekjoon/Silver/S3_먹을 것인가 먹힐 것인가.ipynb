{
 "cells": [
  {
   "cell_type": "markdown",
   "metadata": {
    "collapsed": true,
    "pycharm": {
     "name": "#%% md\n"
    }
   },
   "source": [
    "https://www.acmicpc.net/problem/7795"
   ]
  },
  {
   "cell_type": "markdown",
   "source": [
    "1 1 3 7 8\n",
    "1 3 6\n",
    "\n",
    "2 7 13\n",
    "11 103 215 290"
   ],
   "metadata": {
    "collapsed": false,
    "pycharm": {
     "name": "#%% md\n"
    }
   }
  },
  {
   "cell_type": "code",
   "execution_count": 19,
   "outputs": [
    {
     "name": "stdout",
     "output_type": "stream",
     "text": [
      "1\n"
     ]
    }
   ],
   "source": [
    "t = int(input())\n",
    "for _ in range(t):\n",
    "    n, m = map(int, input().split())\n",
    "    A = sorted(map(int, input().split()), reverse=True)\n",
    "    B = sorted(map(int, input().split()), reverse=True)\n",
    "    answer = 0\n",
    "\n",
    "    a, b = 0, 0\n",
    "    while a < n and b < m:\n",
    "        if A[a] > B[b]:\n",
    "            answer += m - b\n",
    "            a += 1\n",
    "        else:\n",
    "            b += 1\n",
    "\n",
    "    print(answer)"
   ],
   "metadata": {
    "collapsed": false,
    "pycharm": {
     "name": "#%%\n"
    }
   }
  }
 ],
 "metadata": {
  "kernelspec": {
   "display_name": "Python 3",
   "language": "python",
   "name": "python3"
  },
  "language_info": {
   "codemirror_mode": {
    "name": "ipython",
    "version": 2
   },
   "file_extension": ".py",
   "mimetype": "text/x-python",
   "name": "python",
   "nbconvert_exporter": "python",
   "pygments_lexer": "ipython2",
   "version": "2.7.6"
  }
 },
 "nbformat": 4,
 "nbformat_minor": 0
}