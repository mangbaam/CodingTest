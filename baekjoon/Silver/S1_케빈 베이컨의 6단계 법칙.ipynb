{
 "cells": [
  {
   "cell_type": "markdown",
   "source": [
    "https://www.acmicpc.net/problem/1389"
   ],
   "metadata": {
    "collapsed": false,
    "pycharm": {
     "name": "#%% md\n"
    }
   }
  },
  {
   "cell_type": "code",
   "execution_count": 10,
   "outputs": [
    {
     "name": "stdout",
     "output_type": "stream",
     "text": [
      "3\n"
     ]
    }
   ],
   "source": [
    "n, m = map(int, input().split())\n",
    "graph = [[0] * n for _ in range(n)]\n",
    "for _ in range(m):\n",
    "    a, b = map(int, input().split())\n",
    "    graph[a - 1][b - 1], graph[b - 1][a - 1] = 1, 1\n",
    "\n",
    "for k in range(n):\n",
    "    for i in range(n):\n",
    "        for j in range(n):\n",
    "            if i == j: continue\n",
    "            elif graph[i][k] and graph[k][j]:\n",
    "                t = graph[i][k] + graph[k][j]\n",
    "                graph[i][j] = min(graph[i][j], t) if graph[i][j] else t\n",
    "\n",
    "least = 10 ** 9\n",
    "answer = 0\n",
    "for i in range(n):\n",
    "    total = 0\n",
    "    for j in range(n):\n",
    "        total += graph[i][j]\n",
    "    if least > total:\n",
    "        least = total\n",
    "        answer = i\n",
    "print(answer + 1)"
   ],
   "metadata": {
    "collapsed": false,
    "pycharm": {
     "name": "#%%\n"
    }
   }
  }
 ],
 "metadata": {
  "kernelspec": {
   "display_name": "Python 3",
   "language": "python",
   "name": "python3"
  },
  "language_info": {
   "codemirror_mode": {
    "name": "ipython",
    "version": 2
   },
   "file_extension": ".py",
   "mimetype": "text/x-python",
   "name": "python",
   "nbconvert_exporter": "python",
   "pygments_lexer": "ipython2",
   "version": "2.7.6"
  }
 },
 "nbformat": 4,
 "nbformat_minor": 0
}