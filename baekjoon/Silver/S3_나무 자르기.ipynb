{
 "cells": [
  {
   "cell_type": "markdown",
   "id": "respected-counter",
   "metadata": {},
   "source": [
    "https://www.acmicpc.net/problem/2805"
   ]
  },
  {
   "cell_type": "code",
   "execution_count": 21,
   "id": "charming-backup",
   "metadata": {},
   "outputs": [
    {
     "name": "stdout",
     "output_type": "stream",
     "text": [
      "5 19\n",
      "4 42 40 24 46\n",
      "36\n"
     ]
    }
   ],
   "source": [
    "n, m = map(int, input().split())\n",
    "trees = list(map(int, input().split()))\n",
    "start, end = 0, max(trees)\n",
    "answer = 0\n",
    "while start <= end:\n",
    "    mid = (start + end) // 2\n",
    "    cut = 0\n",
    "    for i in range(n):\n",
    "        cut += max(0, trees[i] - mid)\n",
    "    if cut >= m:\n",
    "        answer = max(answer, mid)\n",
    "        start = mid + 1\n",
    "    elif cut < m:\n",
    "        end = mid-1\n",
    "print(answer)"
   ]
  }
 ],
 "metadata": {
  "kernelspec": {
   "display_name": "Python 3",
   "language": "python",
   "name": "python3"
  },
  "language_info": {
   "codemirror_mode": {
    "name": "ipython",
    "version": 3
   },
   "file_extension": ".py",
   "mimetype": "text/x-python",
   "name": "python",
   "nbconvert_exporter": "python",
   "pygments_lexer": "ipython3",
   "version": "3.8.5"
  }
 },
 "nbformat": 4,
 "nbformat_minor": 5
}
