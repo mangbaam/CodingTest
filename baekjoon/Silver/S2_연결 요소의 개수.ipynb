{
 "cells": [
  {
   "cell_type": "markdown",
   "source": [
    "https://www.acmicpc.net/problem/11724"
   ],
   "metadata": {
    "collapsed": false,
    "pycharm": {
     "name": "#%% md\n"
    }
   }
  },
  {
   "cell_type": "code",
   "execution_count": 7,
   "outputs": [
    {
     "name": "stdout",
     "output_type": "stream",
     "text": [
      "graph:  [[], [2, 5], [1, 5, 4, 3], [4, 2], [3, 6, 5, 2], [2, 1, 4], [4]]\n",
      "[False, True, True, True, True, True, True]\n",
      "1\n"
     ]
    }
   ],
   "source": [
    "from collections import deque\n",
    "import sys\n",
    "\n",
    "input = sys.stdin.readline\n",
    "\n",
    "n, m = map(int, input().split())\n",
    "graph = [[] for _ in range(n + 1)]\n",
    "for _ in range(m):\n",
    "    u, v = map(int, input().split())\n",
    "    graph[u].append(v)\n",
    "    graph[v].append(u)\n",
    "\n",
    "\n",
    "def bfs(start):\n",
    "    q = deque([start])\n",
    "    visited[start] = True\n",
    "    while q:\n",
    "        now = q.popleft()\n",
    "        for i in graph[now]:\n",
    "            if not visited[i]:\n",
    "                q.append(i)\n",
    "                visited[i] = True\n",
    "    for i in range(1, n + 1):\n",
    "        if not visited[i]: return False\n",
    "    return True\n",
    "\n",
    "\n",
    "count = 0\n",
    "visited = [False] * (n + 1)\n",
    "for i in range(1, n + 1):\n",
    "    if not visited[i]:\n",
    "        count += 1\n",
    "        bfs(i)\n",
    "print(count)"
   ],
   "metadata": {
    "collapsed": false,
    "pycharm": {
     "name": "#%%\n"
    }
   }
  }
 ],
 "metadata": {
  "kernelspec": {
   "display_name": "Python 3",
   "language": "python",
   "name": "python3"
  },
  "language_info": {
   "codemirror_mode": {
    "name": "ipython",
    "version": 2
   },
   "file_extension": ".py",
   "mimetype": "text/x-python",
   "name": "python",
   "nbconvert_exporter": "python",
   "pygments_lexer": "ipython2",
   "version": "2.7.6"
  }
 },
 "nbformat": 4,
 "nbformat_minor": 0
}