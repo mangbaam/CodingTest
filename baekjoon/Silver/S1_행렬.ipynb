{
 "cells": [
  {
   "cell_type": "markdown",
   "source": [
    "https://www.acmicpc.net/problem/1080"
   ],
   "metadata": {
    "collapsed": false,
    "pycharm": {
     "name": "#%% md\n"
    }
   }
  },
  {
   "cell_type": "code",
   "execution_count": 15,
   "outputs": [
    {
     "name": "stdout",
     "output_type": "stream",
     "text": [
      "a:  [[0, 0, 1], [1, 0, 0], [1, 0, 0], [0, 0, 0], [0, 1, 1], [0, 1, 0], [1, 0, 0], [1, 0, 0], [0, 1, 0], [0, 1, 0], [0, 1, 0], [1, 1, 0], [1, 0, 1], [1, 0, 1], [0, 0, 0], [1, 1, 0], [0, 0, 0], [1, 1, 0]]\n",
      "b:  [[0, 0, 1], [1, 0, 0], [0, 1, 1], [0, 0, 0], [1, 0, 0], [0, 1, 0], [0, 1, 1], [1, 0, 0], [1, 0, 1], [1, 0, 1], [0, 1, 0], [0, 0, 1], [0, 1, 0], [0, 1, 0], [1, 1, 1], [1, 1, 0], [1, 1, 1], [0, 0, 1]]\n",
      "7\n"
     ]
    }
   ],
   "source": [
    "n, m = map(int, input().split())\n",
    "a = [list(map(int, list(input()))) for _ in range(n)]\n",
    "b = [list(map(int, list(input()))) for _ in range(n)]\n",
    "\n",
    "\n",
    "def inverse(x, y):\n",
    "    for i in range(x, x + 3):\n",
    "        for j in range(y, y + 3):\n",
    "            a[i][j] = 0 if a[i][j] else 1\n",
    "\n",
    "\n",
    "count = 0\n",
    "for i in range(n - 2):\n",
    "    for j in range(m - 2):\n",
    "        if a[i][j] != b[i][j]:\n",
    "            inverse(i, j)\n",
    "            count += 1\n",
    "\n",
    "print(count) if a == b else print(-1)"
   ],
   "metadata": {
    "collapsed": false,
    "pycharm": {
     "name": "#%%\n"
    }
   }
  }
 ],
 "metadata": {
  "kernelspec": {
   "display_name": "Python 3",
   "language": "python",
   "name": "python3"
  },
  "language_info": {
   "codemirror_mode": {
    "name": "ipython",
    "version": 2
   },
   "file_extension": ".py",
   "mimetype": "text/x-python",
   "name": "python",
   "nbconvert_exporter": "python",
   "pygments_lexer": "ipython2",
   "version": "2.7.6"
  }
 },
 "nbformat": 4,
 "nbformat_minor": 0
}