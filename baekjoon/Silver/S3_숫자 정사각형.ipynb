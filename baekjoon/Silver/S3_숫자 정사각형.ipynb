{
 "cells": [
  {
   "cell_type": "markdown",
   "metadata": {
    "collapsed": true,
    "pycharm": {
     "name": "#%% md\n"
    }
   },
   "source": [
    "https://www.acmicpc.net/problem/1051"
   ]
  },
  {
   "cell_type": "code",
   "execution_count": 15,
   "outputs": [
    {
     "name": "stdout",
     "output_type": "stream",
     "text": [
      "c: 0, r: 0, length: 10\n",
      "(0, 0) = 9 / (9, 0) = 8 / (0, 9) = 7 / (9, 9) = 9\n",
      "c: 0, r: 1, length: 10\n",
      "(1, 0) = 2 / (10, 0) = 4 / (1, 9) = 4 / (10, 9) = 2\n",
      "c: 0, r: 0, length: 9\n",
      "(0, 0) = 9 / (8, 0) = 1 / (0, 8) = 0 / (8, 8) = 9\n",
      "c: 0, r: 1, length: 9\n",
      "(1, 0) = 2 / (9, 0) = 8 / (1, 8) = 9 / (9, 8) = 8\n",
      "c: 0, r: 2, length: 9\n",
      "(2, 0) = 0 / (10, 0) = 4 / (2, 8) = 6 / (10, 8) = 7\n",
      "c: 1, r: 0, length: 9\n",
      "(0, 1) = 7 / (8, 1) = 6 / (0, 9) = 7 / (8, 9) = 5\n",
      "c: 1, r: 1, length: 9\n",
      "(1, 1) = 0 / (9, 1) = 8 / (1, 9) = 4 / (9, 9) = 9\n",
      "c: 1, r: 2, length: 9\n",
      "(2, 1) = 8 / (10, 1) = 0 / (2, 9) = 1 / (10, 9) = 2\n",
      "c: 0, r: 0, length: 8\n",
      "(0, 0) = 9 / (7, 0) = 7 / (0, 7) = 5 / (7, 7) = 0\n",
      "c: 0, r: 1, length: 8\n",
      "(1, 0) = 2 / (8, 0) = 1 / (1, 7) = 6 / (8, 7) = 0\n",
      "c: 0, r: 2, length: 8\n",
      "(2, 0) = 0 / (9, 0) = 8 / (2, 7) = 7 / (9, 7) = 8\n",
      "c: 0, r: 3, length: 8\n",
      "(3, 0) = 3 / (10, 0) = 4 / (3, 7) = 6 / (10, 7) = 0\n",
      "c: 1, r: 0, length: 8\n",
      "(0, 1) = 7 / (7, 1) = 9 / (0, 8) = 0 / (7, 8) = 0\n",
      "c: 1, r: 1, length: 8\n",
      "(1, 1) = 0 / (8, 1) = 6 / (1, 8) = 9 / (8, 8) = 9\n",
      "c: 1, r: 2, length: 8\n",
      "(2, 1) = 8 / (9, 1) = 8 / (2, 8) = 6 / (9, 8) = 8\n",
      "c: 1, r: 3, length: 8\n",
      "(3, 1) = 0 / (10, 1) = 0 / (3, 8) = 6 / (10, 8) = 7\n",
      "c: 2, r: 0, length: 8\n",
      "(0, 2) = 8 / (7, 2) = 8 / (0, 9) = 7 / (7, 9) = 1\n",
      "c: 2, r: 1, length: 8\n",
      "(1, 2) = 5 / (8, 2) = 7 / (1, 9) = 4 / (8, 9) = 5\n",
      "c: 2, r: 2, length: 8\n",
      "(2, 2) = 6 / (9, 2) = 9 / (2, 9) = 1 / (9, 9) = 9\n",
      "c: 2, r: 3, length: 8\n",
      "(3, 2) = 7 / (10, 2) = 5 / (3, 9) = 9 / (10, 9) = 2\n",
      "c: 0, r: 0, length: 7\n",
      "(0, 0) = 9 / (6, 0) = 9 / (0, 6) = 9 / (6, 6) = 9\n",
      "49\n"
     ]
    }
   ],
   "source": [
    "n, m = map(int, input().split())\n",
    "table = [list(input()) for _ in range(n)]\n",
    "\n",
    "def solution():\n",
    "    length = min(n, m)\n",
    "    while length > 1:\n",
    "        for c in range(m-length+1):\n",
    "            for r in range(n-length+1):\n",
    "                if table[r][c] == table[r+length-1][c] == table[r][c+length-1] == table[r+length-1][c+length-1]:\n",
    "                    return length\n",
    "        length -= 1\n",
    "    return 1\n",
    "\n",
    "answer = solution()\n",
    "print(answer * answer)"
   ],
   "metadata": {
    "collapsed": false,
    "pycharm": {
     "name": "#%%\n"
    }
   }
  },
  {
   "cell_type": "code",
   "execution_count": null,
   "outputs": [],
   "source": [],
   "metadata": {
    "collapsed": false,
    "pycharm": {
     "name": "#%%\n"
    }
   }
  }
 ],
 "metadata": {
  "kernelspec": {
   "display_name": "Python 3",
   "language": "python",
   "name": "python3"
  },
  "language_info": {
   "codemirror_mode": {
    "name": "ipython",
    "version": 2
   },
   "file_extension": ".py",
   "mimetype": "text/x-python",
   "name": "python",
   "nbconvert_exporter": "python",
   "pygments_lexer": "ipython2",
   "version": "2.7.6"
  }
 },
 "nbformat": 4,
 "nbformat_minor": 0
}