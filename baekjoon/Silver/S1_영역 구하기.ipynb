{
 "cells": [
  {
   "cell_type": "markdown",
   "source": [
    "https://www.acmicpc.net/problem/2583"
   ],
   "metadata": {
    "collapsed": false,
    "pycharm": {
     "name": "#%% md\n"
    }
   }
  },
  {
   "cell_type": "code",
   "execution_count": 6,
   "outputs": [
    {
     "name": "stdout",
     "output_type": "stream",
     "text": [
      "3\n",
      "1 7 13 "
     ]
    }
   ],
   "source": [
    "d = [(-1, 0), (1, 0), (0, -1), (0, 1)]\n",
    "\n",
    "\n",
    "def dfs(x, y):\n",
    "    global area\n",
    "    visited[x][y] = True\n",
    "    area += 1\n",
    "    for i in range(4):\n",
    "        nx, ny = x + d[i][0], y + d[i][1]\n",
    "        if nx in range(n) and ny in range(m) and not visited[nx][ny]:\n",
    "            dfs(nx, ny)\n",
    "\n",
    "\n",
    "n, m, k = map(int, input().split())\n",
    "visited = [[False] * m for _ in range(n)]\n",
    "for _ in range(k):\n",
    "    y1, x1, y2, x2 = map(int, input().split())\n",
    "    for i in range(x1, x2):\n",
    "        for j in range(y1, y2):\n",
    "            visited[i][j] = True\n",
    "\n",
    "count = 0\n",
    "areas = []\n",
    "for i in range(n):\n",
    "    for j in range(m):\n",
    "        if not visited[i][j]:\n",
    "            count += 1\n",
    "            area = 0\n",
    "            dfs(i, j)\n",
    "            areas.append(area)\n",
    "\n",
    "print(count)\n",
    "for a in sorted(areas): print(a, end=' ')"
   ],
   "metadata": {
    "collapsed": false,
    "pycharm": {
     "name": "#%%\n"
    }
   }
  }
 ],
 "metadata": {
  "kernelspec": {
   "display_name": "Python 3",
   "language": "python",
   "name": "python3"
  },
  "language_info": {
   "codemirror_mode": {
    "name": "ipython",
    "version": 2
   },
   "file_extension": ".py",
   "mimetype": "text/x-python",
   "name": "python",
   "nbconvert_exporter": "python",
   "pygments_lexer": "ipython2",
   "version": "2.7.6"
  }
 },
 "nbformat": 4,
 "nbformat_minor": 0
}