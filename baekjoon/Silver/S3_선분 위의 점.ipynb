{
 "cells": [
  {
   "cell_type": "markdown",
   "metadata": {
    "collapsed": true,
    "pycharm": {
     "name": "#%% md\n"
    }
   },
   "source": [
    "https://www.acmicpc.net/problem/11663"
   ]
  },
  {
   "cell_type": "code",
   "execution_count": 17,
   "outputs": [
    {
     "name": "stdout",
     "output_type": "stream",
     "text": [
      "3\n",
      "2\n",
      "4\n",
      "2\n",
      "0\n"
     ]
    }
   ],
   "source": [
    "def find(n, points, target):\n",
    "    start, end = 0, n - 1\n",
    "    while start < end:\n",
    "        mid = (start + end) // 2\n",
    "        if target < points[mid]:\n",
    "            end = mid - 1\n",
    "        elif target > points[mid]:\n",
    "            start = mid + 1\n",
    "        else:\n",
    "            return mid\n",
    "    return start\n",
    "\n",
    "n, m = sorted(map(int, input().split()))\n",
    "points = sorted(map(int, input().split()))\n",
    "\n",
    "for _ in range(m):\n",
    "    s, e = map(int, input().split())\n",
    "\n",
    "    # find s's index\n",
    "    result = find(n, points, s)\n",
    "    si = result if points[result] >= s else result + 1\n",
    "\n",
    "    # find e's index\n",
    "    result = find(n, points, e)\n",
    "    ei = result if points[result] <= e else result - 1\n",
    "\n",
    "    print(ei - si + 1)"
   ],
   "metadata": {
    "collapsed": false,
    "pycharm": {
     "name": "#%%\n"
    }
   }
  },
  {
   "cell_type": "markdown",
   "source": [
    "0 2\n",
    "3 4\n",
    "1 4\n",
    "1 2\n",
    "2 1"
   ],
   "metadata": {
    "collapsed": false,
    "pycharm": {
     "name": "#%% md\n"
    }
   }
  }
 ],
 "metadata": {
  "kernelspec": {
   "display_name": "Python 3",
   "language": "python",
   "name": "python3"
  },
  "language_info": {
   "codemirror_mode": {
    "name": "ipython",
    "version": 2
   },
   "file_extension": ".py",
   "mimetype": "text/x-python",
   "name": "python",
   "nbconvert_exporter": "python",
   "pygments_lexer": "ipython2",
   "version": "2.7.6"
  }
 },
 "nbformat": 4,
 "nbformat_minor": 0
}