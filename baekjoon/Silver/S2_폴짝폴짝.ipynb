{
 "cells": [
  {
   "cell_type": "markdown",
   "source": [
    "https://www.acmicpc.net/problem/1326\n",
    "## [해설](https://latte-is-horse.tistory.com/368)"
   ],
   "metadata": {
    "collapsed": false,
    "pycharm": {
     "name": "#%% md\n"
    }
   }
  },
  {
   "cell_type": "code",
   "execution_count": 1,
   "outputs": [
    {
     "name": "stdout",
     "output_type": "stream",
     "text": [
      "1\n"
     ]
    }
   ],
   "source": [
    "from collections import deque\n",
    "import sys\n",
    "\n",
    "\n",
    "def input():\n",
    "    return sys.stdin.readline().rstrip()\n",
    "\n",
    "\n",
    "n = int(input())\n",
    "bridge = [0] + list(map(int, input().split()))\n",
    "start, end = map(int, input().split())\n",
    "\n",
    "\n",
    "def bfs(s, e):\n",
    "    q = deque([s])\n",
    "    visited = [-1] * (n + 1)\n",
    "    visited[s] = 0\n",
    "    while q:\n",
    "        now = q.popleft()\n",
    "        for i in range(now, n + 1, bridge[now]):\n",
    "            if visited[i] == -1:\n",
    "                q.append(i)\n",
    "                visited[i] = visited[now] + 1\n",
    "                if i == e:\n",
    "                    return visited[i]\n",
    "        for i in range(now, 0, -bridge[now]):\n",
    "            if visited[i] == -1:\n",
    "                q.append(i)\n",
    "                visited[i] = visited[now] + 1\n",
    "                if i == e:\n",
    "                    return visited[i]\n",
    "    return -1\n",
    "\n",
    "\n",
    "print(bfs(start, end))"
   ],
   "metadata": {
    "collapsed": false,
    "pycharm": {
     "name": "#%%\n"
    }
   }
  }
 ],
 "metadata": {
  "kernelspec": {
   "display_name": "Python 3",
   "language": "python",
   "name": "python3"
  },
  "language_info": {
   "codemirror_mode": {
    "name": "ipython",
    "version": 2
   },
   "file_extension": ".py",
   "mimetype": "text/x-python",
   "name": "python",
   "nbconvert_exporter": "python",
   "pygments_lexer": "ipython2",
   "version": "2.7.6"
  }
 },
 "nbformat": 4,
 "nbformat_minor": 0
}