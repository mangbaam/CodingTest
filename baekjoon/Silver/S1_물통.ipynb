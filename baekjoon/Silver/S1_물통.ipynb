{
 "cells": [
  {
   "cell_type": "markdown",
   "id": "deadly-nepal",
   "metadata": {},
   "source": [
    "## https://latte-is-horse.tistory.com/270\n",
    "https://www.acmicpc.net/problem/2251"
   ]
  },
  {
   "cell_type": "code",
   "execution_count": 14,
   "id": "retired-ebony",
   "metadata": {},
   "outputs": [
    {
     "name": "stdout",
     "output_type": "stream",
     "text": [
      "8 9 10\n",
      "1 2 8 9 10 "
     ]
    }
   ],
   "source": [
    "from collections import deque\n",
    "\n",
    "A, B, C = map(int, input().split())\n",
    "\n",
    "def move(state):\n",
    "    a, b, c = state\n",
    "    answer = set()\n",
    "    # A -> B\n",
    "    amount = min(a, B-b)\n",
    "    answer.add((a-amount, b+amount, c))\n",
    "    # A -> C\n",
    "    amount = min(a, C-c)\n",
    "    answer.add((a-amount, b, c+amount))\n",
    "    # B -> A\n",
    "    amount = min(b, A-a)\n",
    "    answer.add((a+amount, b-amount, c))\n",
    "    # B -> C\n",
    "    amount = min(b, C-c)\n",
    "    answer.add((a, b-amount, c+amount))\n",
    "    # C -> A\n",
    "    amount = min(c, A-a)\n",
    "    answer.add((a+amount, b, c-amount))\n",
    "    # C -> B\n",
    "    amount = min(c, B-b)\n",
    "    answer.add((a, b+amount, c-amount))\n",
    "    return sorted(answer)\n",
    "\n",
    "graph = {(A,B,C):move((0, 0, C))}\n",
    "\n",
    "queue = deque([(0, 0, C)])\n",
    "while queue:\n",
    "    x = queue.popleft()\n",
    "    if x not in graph.keys():\n",
    "        graph[x] = move(x)\n",
    "        for state in move(x):\n",
    "            queue.append(state)\n",
    "for k in sorted(graph.keys(), key=lambda x: x[2]):\n",
    "    if k[0] == 0: print(k[2], end=' ')"
   ]
  }
 ],
 "metadata": {
  "kernelspec": {
   "display_name": "Python 3",
   "language": "python",
   "name": "python3"
  },
  "language_info": {
   "codemirror_mode": {
    "name": "ipython",
    "version": 3
   },
   "file_extension": ".py",
   "mimetype": "text/x-python",
   "name": "python",
   "nbconvert_exporter": "python",
   "pygments_lexer": "ipython3",
   "version": "3.8.5"
  }
 },
 "nbformat": 4,
 "nbformat_minor": 5
}
