{
 "cells": [
  {
   "cell_type": "markdown",
   "source": [
    "https://www.acmicpc.net/problem/21758"
   ],
   "metadata": {
    "collapsed": false,
    "pycharm": {
     "name": "#%% md\n"
    }
   }
  },
  {
   "cell_type": "markdown",
   "source": [
    "## 시나리오\n",
    "공통: 누적 합을 구한다.\n",
    "\n",
    "1. 벌 둘 다 왼쪽에\n",
    "- 꿀통을 가장 오른쪽에 둔다.\n",
    "- 한 마리는 무조건 제일 왼쪽에 둔다.\n",
    "- 다른 한 마리는 누적 합에서 한 칸씩 이동하며 가장 좋은 위치 찾기.\n",
    "\n",
    "2. 벌 양쪽으로\n",
    "- 무조건 양쪽 끝에 벌을 둔다.\n",
    "- 누적 합에서 가장 좋은 꿀통 위치 찾기.\n",
    "\n",
    "3. 벌 둘 다 오른쪽에\n",
    "- 꿀통을 가장 왼쪽에 둔다.\n",
    "- 한 마리는 무조건 제일 오른쪽에 둔다.\n",
    "- 다른 한 마리는 누적 합에서 한 칸씩 이동하며 가장 좋은 위치 찾기."
   ],
   "metadata": {
    "collapsed": false,
    "pycharm": {
     "name": "#%% md\n"
    }
   }
  },
  {
   "cell_type": "code",
   "execution_count": 12,
   "outputs": [
    {
     "name": "stdout",
     "output_type": "stream",
     "text": [
      "[2, 7, 11]\n",
      "10\n"
     ]
    }
   ],
   "source": [
    "n, h = int(input()), list(map(int, input().split()))\n",
    "honey = [h[0]]\n",
    "for x in h[1:]:\n",
    "    honey.append(honey[-1] + x)\n",
    "answer = 0\n",
    "# 벌 둘 다 왼쪽에\n",
    "for i in range(1, n - 1):\n",
    "    answer = max(answer, (honey[-1] - h[0] - h[i]) + (honey[-1] - honey[i]))\n",
    "# 벌 둘 다 오른쪽에\n",
    "for i in range(n - 2, 0, -1):\n",
    "    answer = max(answer, (honey[-1] - h[-1] - h[i]) + (honey[i - 1]))\n",
    "# 벌 양쪽에\n",
    "for i in range(1, n - 1):\n",
    "    answer = max(answer, honey[i] - h[0] + honey[-2] - honey[i - 1])\n",
    "print(answer)"
   ],
   "metadata": {
    "collapsed": false,
    "pycharm": {
     "name": "#%%\n"
    }
   }
  }
 ],
 "metadata": {
  "kernelspec": {
   "display_name": "Python 3",
   "language": "python",
   "name": "python3"
  },
  "language_info": {
   "codemirror_mode": {
    "name": "ipython",
    "version": 2
   },
   "file_extension": ".py",
   "mimetype": "text/x-python",
   "name": "python",
   "nbconvert_exporter": "python",
   "pygments_lexer": "ipython2",
   "version": "2.7.6"
  }
 },
 "nbformat": 4,
 "nbformat_minor": 0
}