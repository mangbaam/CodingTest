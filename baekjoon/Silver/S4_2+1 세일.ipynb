{
 "cells": [
  {
   "cell_type": "markdown",
   "source": [
    "https://www.acmicpc.net/problem/11508\n",
    "## https://latte-is-horse.tistory.com/350"
   ],
   "metadata": {
    "collapsed": false,
    "pycharm": {
     "name": "#%% md\n"
    }
   }
  },
  {
   "cell_type": "code",
   "execution_count": 3,
   "outputs": [
    {
     "name": "stdout",
     "output_type": "stream",
     "text": [
      "21\n"
     ]
    }
   ],
   "source": [
    "print(sum([x for i, x in enumerate(sorted([int(input()) for _ in range(int(input()))], reverse=True)) if (i + 1) % 3]))"
   ],
   "metadata": {
    "collapsed": false,
    "pycharm": {
     "name": "#%%\n"
    }
   }
  },
  {
   "cell_type": "code",
   "execution_count": 7,
   "outputs": [
    {
     "name": "stdout",
     "output_type": "stream",
     "text": [
      "21\n"
     ]
    }
   ],
   "source": [
    "n = int(input())\n",
    "items = [] # 유제품 리스트\n",
    "for _ in range(n): # n 번 반복\n",
    "    item = int(input())\n",
    "    items.append(item) # 유제품 리스트에 추가\n",
    "items.sort(reverse=True) # 내림차순으로 정렬\n",
    "\n",
    "for i in range(n):\n",
    "    if not (i + 1) % 3:\n",
    "        items[i] = 0 # 3개 마다 가격을 0으로 만듦\n",
    "\n",
    "answer = sum(items)\n",
    "print(answer)"
   ],
   "metadata": {
    "collapsed": false,
    "pycharm": {
     "name": "#%%\n"
    }
   }
  }
 ],
 "metadata": {
  "kernelspec": {
   "display_name": "Python 3",
   "language": "python",
   "name": "python3"
  },
  "language_info": {
   "codemirror_mode": {
    "name": "ipython",
    "version": 2
   },
   "file_extension": ".py",
   "mimetype": "text/x-python",
   "name": "python",
   "nbconvert_exporter": "python",
   "pygments_lexer": "ipython2",
   "version": "2.7.6"
  }
 },
 "nbformat": 4,
 "nbformat_minor": 0
}