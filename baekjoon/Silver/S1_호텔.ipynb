{
 "cells": [
  {
   "cell_type": "markdown",
   "metadata": {
    "collapsed": true,
    "pycharm": {
     "name": "#%% md\n"
    }
   },
   "source": [
    "https://www.acmicpc.net/problem/1106"
   ]
  },
  {
   "cell_type": "code",
   "execution_count": 11,
   "outputs": [
    {
     "name": "stdout",
     "output_type": "stream",
     "text": [
      "45\n"
     ]
    }
   ],
   "source": [
    "c, n = map(int, input().split())\n",
    "SIZE = c+100\n",
    "INF = 10e9\n",
    "dp = [INF] * SIZE\n",
    "dp[0] = 0\n",
    "data = []\n",
    "for _ in range(n):\n",
    "    data.append(tuple(map(int, input().split())))\n",
    "data.sort()\n",
    "\n",
    "for cost, customer in data:\n",
    "    for i in range(customer, SIZE):\n",
    "        dp[i] = min(dp[i], dp[i-customer] + cost)\n",
    "\n",
    "print(min(dp[c:]))"
   ],
   "metadata": {
    "collapsed": false,
    "pycharm": {
     "name": "#%%\n"
    }
   }
  }
 ],
 "metadata": {
  "kernelspec": {
   "display_name": "Python 3",
   "language": "python",
   "name": "python3"
  },
  "language_info": {
   "codemirror_mode": {
    "name": "ipython",
    "version": 2
   },
   "file_extension": ".py",
   "mimetype": "text/x-python",
   "name": "python",
   "nbconvert_exporter": "python",
   "pygments_lexer": "ipython2",
   "version": "2.7.6"
  }
 },
 "nbformat": 4,
 "nbformat_minor": 0
}