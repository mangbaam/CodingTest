{
 "cells": [
  {
   "cell_type": "markdown",
   "id": "associate-dispute",
   "metadata": {},
   "source": [
    "### https://latte-is-horse.tistory.com/243\n",
    "https://www.acmicpc.net/problem/1541"
   ]
  },
  {
   "cell_type": "code",
   "execution_count": 32,
   "id": "indonesian-defense",
   "metadata": {},
   "outputs": [
    {
     "name": "stdout",
     "output_type": "stream",
     "text": [
      "2+2\n",
      "4\n"
     ]
    }
   ],
   "source": [
    "def solution(expression):\n",
    "    calc = lambda exp: sum(map(int, exp.split('+')))\n",
    "    expressions = expression.split('-')\n",
    "    answer = calc(expressions[0])\n",
    "    if len(expressions) == 1: return answer\n",
    "    for e in expressions[1:]:\n",
    "        answer -= calc(e)\n",
    "    return answer\n",
    "print(solution(input()))"
   ]
  }
 ],
 "metadata": {
  "kernelspec": {
   "display_name": "Python 3",
   "language": "python",
   "name": "python3"
  },
  "language_info": {
   "codemirror_mode": {
    "name": "ipython",
    "version": 3
   },
   "file_extension": ".py",
   "mimetype": "text/x-python",
   "name": "python",
   "nbconvert_exporter": "python",
   "pygments_lexer": "ipython3",
   "version": "3.8.5"
  }
 },
 "nbformat": 4,
 "nbformat_minor": 5
}
