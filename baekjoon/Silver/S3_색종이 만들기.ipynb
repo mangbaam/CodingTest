{
 "cells": [
  {
   "cell_type": "markdown",
   "id": "proud-perfume",
   "metadata": {},
   "source": [
    "### https://latte-is-horse.tistory.com/242\n",
    "https://www.acmicpc.net/problem/2630"
   ]
  },
  {
   "cell_type": "code",
   "execution_count": 32,
   "id": "introductory-policy",
   "metadata": {},
   "outputs": [
    {
     "name": "stdout",
     "output_type": "stream",
     "text": [
      "4\n",
      "1 1 0 0\n",
      "1 1 0 0\n",
      "0 0 0 0\n",
      "0 0 0 0\n",
      "3\n",
      "1\n"
     ]
    }
   ],
   "source": [
    "def cut(arr, n):\n",
    "    white = [[0]*n for _ in range(n)]\n",
    "    blue = [[1]*n for _ in range(n)]\n",
    "    if arr == white:\n",
    "        return 100000\n",
    "    elif arr == blue:\n",
    "        return 1\n",
    "    m = n//2\n",
    "    paper = [\n",
    "        [row[:m] for row in arr[:m]], # 왼쪽 위\n",
    "        [row[m:] for row in arr[:m]], # 오른쪽 위\n",
    "        [row[:m] for row in arr[m:]], # 왼쪽 아래\n",
    "        [row[m:] for row in arr[m:]]  # 오른쪽 아래\n",
    "    ]\n",
    "    total = 0\n",
    "    for p in paper:\n",
    "        total += cut(p, m)\n",
    "    return total\n",
    "    \n",
    "n = int(input())\n",
    "paper= []\n",
    "for _ in range(n):\n",
    "    paper.append(list(map(int, input().split())))\n",
    "\n",
    "answer = cut(paper, n)\n",
    "for i in divmod(answer, 100000):\n",
    "    print(i)"
   ]
  }
 ],
 "metadata": {
  "kernelspec": {
   "display_name": "Python 3",
   "language": "python",
   "name": "python3"
  },
  "language_info": {
   "codemirror_mode": {
    "name": "ipython",
    "version": 3
   },
   "file_extension": ".py",
   "mimetype": "text/x-python",
   "name": "python",
   "nbconvert_exporter": "python",
   "pygments_lexer": "ipython3",
   "version": "3.8.5"
  }
 },
 "nbformat": 4,
 "nbformat_minor": 5
}
