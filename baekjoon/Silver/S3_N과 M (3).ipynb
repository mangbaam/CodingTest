{
 "cells": [
  {
   "cell_type": "markdown",
   "id": "chinese-waterproof",
   "metadata": {},
   "source": [
    "https://www.acmicpc.net/problem/15651"
   ]
  },
  {
   "cell_type": "code",
   "execution_count": 16,
   "id": "norman-venue",
   "metadata": {},
   "outputs": [
    {
     "name": "stdout",
     "output_type": "stream",
     "text": [
      "4 2\n",
      "1 1 \n",
      "1 2 \n",
      "1 3 \n",
      "1 4 \n",
      "2 1 \n",
      "2 2 \n",
      "2 3 \n",
      "2 4 \n",
      "3 1 \n",
      "3 2 \n",
      "3 3 \n",
      "3 4 \n",
      "4 1 \n",
      "4 2 \n",
      "4 3 \n",
      "4 4 \n"
     ]
    }
   ],
   "source": [
    "n, m = map(int, input().split())\n",
    "selected = [0] * (m+1)\n",
    "def rec_fun(k):\n",
    "    if (k == m+1):\n",
    "        for i in selected[1:]: print(i, end=' ')\n",
    "        print()\n",
    "    else:\n",
    "        for cand in range(1, n+1):\n",
    "            selected[k] = cand\n",
    "            rec_fun(k+1)\n",
    "            selected[k] = 0\n",
    "\n",
    "def solution():\n",
    "    rec_fun(1)\n",
    "    \n",
    "solution()"
   ]
  }
 ],
 "metadata": {
  "kernelspec": {
   "display_name": "Python 3",
   "language": "python",
   "name": "python3"
  },
  "language_info": {
   "codemirror_mode": {
    "name": "ipython",
    "version": 3
   },
   "file_extension": ".py",
   "mimetype": "text/x-python",
   "name": "python",
   "nbconvert_exporter": "python",
   "pygments_lexer": "ipython3",
   "version": "3.8.5"
  }
 },
 "nbformat": 4,
 "nbformat_minor": 5
}
