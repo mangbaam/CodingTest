{
 "cells": [
  {
   "cell_type": "markdown",
   "source": [
    "https://www.acmicpc.net/problem/6581"
   ],
   "metadata": {
    "collapsed": false,
    "pycharm": {
     "name": "#%% md\n"
    }
   }
  },
  {
   "cell_type": "code",
   "execution_count": 14,
   "outputs": [
    {
     "name": "stdout",
     "output_type": "stream",
     "text": [
      "Hallo, dies ist eine ziemlich lange Zeile, die in Html aber nicht umgebrochen\n",
      "wird.\n",
      "Zwei\n",
      "\n",
      "produzieren zwei Newlines. Es gibt auch noch das tag\n",
      "--------------------------------------------------------------------------------\n",
      "was einen Trenner darstellt. Zwei\n",
      "--------------------------------------------------------------------------------\n",
      "--------------------------------------------------------------------------------\n",
      "produzieren zwei Horizontal Rulers. Achtung mehrere Leerzeichen irritieren Html\n",
      "genauso wenig wie mehrere Leerzeilen.\n"
     ]
    }
   ],
   "source": [
    "import sys\n",
    "\n",
    "def print_line():\n",
    "    global line, words_stack\n",
    "    line = ' '.join(words_stack)\n",
    "    words_stack = []\n",
    "    print(line)\n",
    "\n",
    "html = \"\"\n",
    "for sentence in sys.stdin:\n",
    "    html += sentence\n",
    "\n",
    "# 연속된 공백 문자 제거, 단어 단위로 쪼개기\n",
    "html = html.split()\n",
    "words_stack = []\n",
    "line = \"\"\n",
    "\n",
    "for word in html:\n",
    "    if word == '<br>':  # 출력 후 개행\n",
    "        print_line()\n",
    "    elif word == '<hr>':  # 구분선 출력\n",
    "        if words_stack: print_line()\n",
    "        print('-' * 80)\n",
    "    else:\n",
    "        line = ' '.join(words_stack)\n",
    "        if len(line) + len(word) + 1 > 80:\n",
    "            print_line()\n",
    "        words_stack.append(word)\n",
    "line = ' '.join(words_stack)  # 마지막 줄 출력\n",
    "print(line)"
   ],
   "metadata": {
    "collapsed": false,
    "pycharm": {
     "name": "#%%\n"
    }
   }
  }
 ],
 "metadata": {
  "kernelspec": {
   "display_name": "Python 3",
   "language": "python",
   "name": "python3"
  },
  "language_info": {
   "codemirror_mode": {
    "name": "ipython",
    "version": 2
   },
   "file_extension": ".py",
   "mimetype": "text/x-python",
   "name": "python",
   "nbconvert_exporter": "python",
   "pygments_lexer": "ipython2",
   "version": "2.7.6"
  }
 },
 "nbformat": 4,
 "nbformat_minor": 0
}