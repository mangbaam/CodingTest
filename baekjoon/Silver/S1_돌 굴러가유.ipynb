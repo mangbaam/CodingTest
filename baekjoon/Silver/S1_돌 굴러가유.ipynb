{
 "cells": [
  {
   "cell_type": "markdown",
   "source": [
    "https://www.acmicpc.net/problem/23889"
   ],
   "metadata": {
    "collapsed": false,
    "pycharm": {
     "name": "#%% md\n"
    }
   }
  },
  {
   "cell_type": "code",
   "execution_count": 10,
   "outputs": [
    {
     "name": "stdout",
     "output_type": "stream",
     "text": [
      "[2, 5, 3]\n",
      "[7]\n",
      "[(1, 10), (4, 7), (5, 15)]\n",
      "1\n",
      "5\n"
     ]
    }
   ],
   "source": [
    "n, m, k = map(int, input().split())\n",
    "castle = list(map(int, input().split()))\n",
    "stone = sorted(map(int, input().split()))\n",
    "graph = []\n",
    "for i in range(k - 1):\n",
    "    graph.append((stone[i], sum(castle[stone[i] - 1:stone[i + 1] - 1])))\n",
    "graph.append((stone[k - 1], sum(castle[stone[-1] - 1:])))\n",
    "\n",
    "graph.sort(key=lambda x: (-x[1], x[0]))\n",
    "graph = sorted([x[0] for x in graph[:m]])\n",
    "for x in graph: print(x)"
   ],
   "metadata": {
    "collapsed": false,
    "pycharm": {
     "name": "#%%\n"
    }
   }
  }
 ],
 "metadata": {
  "kernelspec": {
   "display_name": "Python 3",
   "language": "python",
   "name": "python3"
  },
  "language_info": {
   "codemirror_mode": {
    "name": "ipython",
    "version": 2
   },
   "file_extension": ".py",
   "mimetype": "text/x-python",
   "name": "python",
   "nbconvert_exporter": "python",
   "pygments_lexer": "ipython2",
   "version": "2.7.6"
  }
 },
 "nbformat": 4,
 "nbformat_minor": 0
}