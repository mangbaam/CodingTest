{
 "cells": [
  {
   "cell_type": "markdown",
   "source": [
    "https://www.acmicpc.net/problem/15657"
   ],
   "metadata": {
    "collapsed": false,
    "pycharm": {
     "name": "#%% md\n"
    }
   }
  },
  {
   "cell_type": "code",
   "execution_count": 3,
   "outputs": [
    {
     "name": "stdout",
     "output_type": "stream",
     "text": [
      "1 1\n",
      "1 7\n",
      "1 8\n",
      "1 9\n",
      "7 7\n",
      "7 8\n",
      "7 9\n",
      "8 8\n",
      "8 9\n",
      "9 9\n"
     ]
    }
   ],
   "source": [
    "n, m = map(int, input().split())\n",
    "nums = sorted(map(int, input().split()))\n",
    "answer = []\n",
    "\n",
    "def rec_fun(c, d):\n",
    "    if d == m:\n",
    "        print(*answer, sep=' ')\n",
    "        return\n",
    "    for i in range(c, n):\n",
    "        answer.append(nums[i])\n",
    "        rec_fun(i, d + 1)\n",
    "        answer.pop()\n",
    "\n",
    "rec_fun(0, 0)"
   ],
   "metadata": {
    "collapsed": false,
    "pycharm": {
     "name": "#%%\n"
    }
   }
  }
 ],
 "metadata": {
  "kernelspec": {
   "display_name": "Python 3",
   "language": "python",
   "name": "python3"
  },
  "language_info": {
   "codemirror_mode": {
    "name": "ipython",
    "version": 2
   },
   "file_extension": ".py",
   "mimetype": "text/x-python",
   "name": "python",
   "nbconvert_exporter": "python",
   "pygments_lexer": "ipython2",
   "version": "2.7.6"
  }
 },
 "nbformat": 4,
 "nbformat_minor": 0
}