{
 "cells": [
  {
   "cell_type": "markdown",
   "metadata": {
    "collapsed": true,
    "pycharm": {
     "name": "#%% md\n"
    }
   },
   "source": [
    "https://www.acmicpc.net/problem/1912"
   ]
  },
  {
   "cell_type": "code",
   "execution_count": null,
   "outputs": [],
   "source": [
    "n = int(input())\n",
    "arr = list(map(int, input().split()))\n",
    "cumulated = [arr[0]]  # 누적 합\n",
    "for i in range(1, n):\n",
    "    cumulated.append(cumulated[-1] + arr[i])\n",
    "\n",
    "d = cumulated[:]  # 누적 합 복제\n",
    "\n",
    "for i in range(n):\n",
    "    for j in range(i):\n",
    "        d[i] = max(d[i], cumulated[i] - cumulated[j])\n",
    "print(max(d))"
   ],
   "metadata": {
    "collapsed": false,
    "pycharm": {
     "name": "#%%\n"
    }
   }
  },
  {
   "cell_type": "code",
   "execution_count": 37,
   "outputs": [
    {
     "name": "stdout",
     "output_type": "stream",
     "text": [
      "min: 6\n",
      "min: -14\n",
      "33\n"
     ]
    }
   ],
   "source": [
    "n = int(input())\n",
    "arr = list(map(int, input().split()))\n",
    "cumulated = [arr[0]]  # 누적 합\n",
    "for i in range(1, n):\n",
    "    cumulated.append(cumulated[-1] + arr[i])\n",
    "\n",
    "d = cumulated[:]  # 누적 합 복제\n",
    "\n",
    "min_idx = 0\n",
    "answer = d[0]\n",
    "for i in range(1, n):\n",
    "    d[i] = max(d[i], d[i] - cumulated[min_idx])\n",
    "    if i < n - 1 and cumulated[i] < cumulated[min_idx]:\n",
    "        min_idx = i\n",
    "    if d[i] > answer:\n",
    "        answer = d[i]\n",
    "print(answer)"
   ],
   "metadata": {
    "collapsed": false,
    "pycharm": {
     "name": "#%%\n"
    }
   }
  }
 ],
 "metadata": {
  "kernelspec": {
   "display_name": "Python 3",
   "language": "python",
   "name": "python3"
  },
  "language_info": {
   "codemirror_mode": {
    "name": "ipython",
    "version": 2
   },
   "file_extension": ".py",
   "mimetype": "text/x-python",
   "name": "python",
   "nbconvert_exporter": "python",
   "pygments_lexer": "ipython2",
   "version": "2.7.6"
  }
 },
 "nbformat": 4,
 "nbformat_minor": 0
}