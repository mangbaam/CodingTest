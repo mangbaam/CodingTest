{
 "cells": [
  {
   "cell_type": "markdown",
   "source": [
    "https://www.acmicpc.net/problem/16953"
   ],
   "metadata": {
    "collapsed": false,
    "pycharm": {
     "name": "#%% md\n"
    }
   }
  },
  {
   "cell_type": "code",
   "execution_count": 12,
   "outputs": [
    {
     "name": "stdout",
     "output_type": "stream",
     "text": [
      "5\n"
     ]
    }
   ],
   "source": [
    "from collections import deque\n",
    "\n",
    "a, b = map(int, input().split())\n",
    "\n",
    "q = deque([(a, 1)])\n",
    "visited = {a}\n",
    "answer = -1\n",
    "\n",
    "while q:\n",
    "    n, count = q.popleft()\n",
    "    if n == b:\n",
    "        answer = count\n",
    "        break\n",
    "    c1, c2 = n * 2, n * 10 + 1\n",
    "    if c1 <= b and c1 not in visited:\n",
    "        visited.add(c1)\n",
    "        q.append((c1, count + 1))\n",
    "    if c2 <= b and c2 not in visited:\n",
    "        visited.add(c2)\n",
    "        q.append((c2, count + 1))\n",
    "print(answer)"
   ],
   "metadata": {
    "collapsed": false,
    "pycharm": {
     "name": "#%%\n"
    }
   }
  }
 ],
 "metadata": {
  "kernelspec": {
   "display_name": "Python 3",
   "language": "python",
   "name": "python3"
  },
  "language_info": {
   "codemirror_mode": {
    "name": "ipython",
    "version": 2
   },
   "file_extension": ".py",
   "mimetype": "text/x-python",
   "name": "python",
   "nbconvert_exporter": "python",
   "pygments_lexer": "ipython2",
   "version": "2.7.6"
  }
 },
 "nbformat": 4,
 "nbformat_minor": 0
}