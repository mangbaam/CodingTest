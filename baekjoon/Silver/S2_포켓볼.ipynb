{
 "cells": [
  {
   "cell_type": "markdown",
   "metadata": {
    "collapsed": true,
    "pycharm": {
     "name": "#%% md\n"
    }
   },
   "source": [
    "https://www.acmicpc.net/problem/4030"
   ]
  },
  {
   "cell_type": "code",
   "execution_count": 13,
   "outputs": [
    {
     "name": "stdout",
     "output_type": "stream",
     "text": [
      "Case 1: 1\n",
      "Case 2: 0\n",
      "Case 3: 2\n"
     ]
    }
   ],
   "source": [
    "case = 1\n",
    "while True:\n",
    "    a, b = map(int, input().split())\n",
    "    if a == b == 0: break\n",
    "    n = answer = 0\n",
    "    while (n + 1) * n // 2 < a:\n",
    "        n += 1\n",
    "    while (n + 1) * n // 2 < b - 1:\n",
    "        test = (n + 1) * n // 2 + 1\n",
    "        if test ** (1/2) == int(test ** (1/2)):\n",
    "            answer += 1\n",
    "        n += 1\n",
    "    print(f'Case {case}: {answer}')\n",
    "    case += 1"
   ],
   "metadata": {
    "collapsed": false,
    "pycharm": {
     "name": "#%%\n"
    }
   }
  }
 ],
 "metadata": {
  "kernelspec": {
   "display_name": "Python 3",
   "language": "python",
   "name": "python3"
  },
  "language_info": {
   "codemirror_mode": {
    "name": "ipython",
    "version": 2
   },
   "file_extension": ".py",
   "mimetype": "text/x-python",
   "name": "python",
   "nbconvert_exporter": "python",
   "pygments_lexer": "ipython2",
   "version": "2.7.6"
  }
 },
 "nbformat": 4,
 "nbformat_minor": 0
}