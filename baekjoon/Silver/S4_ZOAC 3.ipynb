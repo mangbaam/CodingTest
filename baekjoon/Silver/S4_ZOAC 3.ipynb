{
 "cells": [
  {
   "cell_type": "markdown",
   "source": [
    "https://www.acmicpc.net/problem/20436"
   ],
   "metadata": {
    "collapsed": false,
    "pycharm": {
     "name": "#%% md\n"
    }
   }
  },
  {
   "cell_type": "code",
   "execution_count": 3,
   "outputs": [
    {
     "name": "stdout",
     "output_type": "stream",
     "text": [
      "8\n"
     ]
    }
   ],
   "source": [
    "_keyboard = ['qwertyuiop', 'asdfghjkl', 'zxcvbnm']\n",
    "board = dict()\n",
    "for i in range(3):\n",
    "    board.update({_keyboard[i][j]: (i, j) for j in range(len(_keyboard[i]))})\n",
    "\n",
    "def dist(finger, target):\n",
    "    cx, cy = board[finger]\n",
    "    tx, ty = board[target]\n",
    "    return abs(cx - tx) + abs(cy - ty)\n",
    "\n",
    "left, right = input().split()\n",
    "word = input()\n",
    "answer = 0\n",
    "for c in word:\n",
    "    # 자음 입력\n",
    "    if (board[c][0] < 2 and board[c][1] < 5) or (board[c][0]==2 and board[c][1] < 4):\n",
    "        answer += dist(left, c)\n",
    "        left = c\n",
    "    # 모음 입력\n",
    "    else:\n",
    "        answer += dist(right, c)\n",
    "        right = c\n",
    "    answer += 1\n",
    "print(answer)"
   ],
   "metadata": {
    "collapsed": false,
    "pycharm": {
     "name": "#%%\n"
    }
   }
  }
 ],
 "metadata": {
  "kernelspec": {
   "display_name": "Python 3",
   "language": "python",
   "name": "python3"
  },
  "language_info": {
   "codemirror_mode": {
    "name": "ipython",
    "version": 2
   },
   "file_extension": ".py",
   "mimetype": "text/x-python",
   "name": "python",
   "nbconvert_exporter": "python",
   "pygments_lexer": "ipython2",
   "version": "2.7.6"
  }
 },
 "nbformat": 4,
 "nbformat_minor": 0
}