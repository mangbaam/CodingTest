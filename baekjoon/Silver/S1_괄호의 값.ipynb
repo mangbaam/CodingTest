{
 "cells": [
  {
   "cell_type": "markdown",
   "source": [
    "https://www.acmicpc.net/problem/2504"
   ],
   "metadata": {
    "collapsed": false,
    "pycharm": {
     "name": "#%% md\n"
    }
   }
  },
  {
   "cell_type": "code",
   "execution_count": null,
   "outputs": [],
   "source": [
    "s = list(input())\n",
    "stack = []\n",
    "answer, tmp = 0, 1\n",
    "for i in range(len(s)):\n",
    "    if s[i] == '(':\n",
    "        stack.append(s[i])\n",
    "        tmp *= 2\n",
    "    elif s[i] == '[':\n",
    "        stack.append(s[i])\n",
    "        tmp *= 3\n",
    "    elif s[i] == ')':\n",
    "        if not stack or stack[-1] == '[':\n",
    "            answer = 0\n",
    "            break\n",
    "        elif s[i-1] == '(':\n",
    "            answer += tmp\n",
    "        stack.pop()\n",
    "        tmp //= 2\n",
    "    else:\n",
    "        if not stack or stack[-1] == '(':\n",
    "            answer = 0\n",
    "            break\n",
    "        if s[i-1] == '[':\n",
    "            answer += tmp\n",
    "        stack.pop()\n",
    "        tmp //= 3\n",
    "\n",
    "print(0) if stack else print(answer)"
   ],
   "metadata": {
    "collapsed": false,
    "pycharm": {
     "name": "#%%\n"
    }
   }
  }
 ],
 "metadata": {
  "kernelspec": {
   "display_name": "Python 3",
   "language": "python",
   "name": "python3"
  },
  "language_info": {
   "codemirror_mode": {
    "name": "ipython",
    "version": 2
   },
   "file_extension": ".py",
   "mimetype": "text/x-python",
   "name": "python",
   "nbconvert_exporter": "python",
   "pygments_lexer": "ipython2",
   "version": "2.7.6"
  }
 },
 "nbformat": 4,
 "nbformat_minor": 0
}