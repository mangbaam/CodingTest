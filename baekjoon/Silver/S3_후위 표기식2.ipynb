{
 "cells": [
  {
   "cell_type": "markdown",
   "source": [
    "https://www.acmicpc.net/problem/1935"
   ],
   "metadata": {
    "collapsed": false,
    "pycharm": {
     "name": "#%% md\n"
    }
   }
  },
  {
   "cell_type": "code",
   "execution_count": 19,
   "outputs": [
    {
     "name": "stdout",
     "output_type": "stream",
     "text": [
      "6.20\n"
     ]
    }
   ],
   "source": [
    "n = int(input())\n",
    "s = input()\n",
    "cmd = [int(input()) for _ in range(n)]\n",
    "\n",
    "stack = []\n",
    "for c in s:\n",
    "    if c == '*':\n",
    "        last = stack.pop()\n",
    "        stack[-1] *= last\n",
    "    elif c == '+':\n",
    "        last = stack.pop()\n",
    "        stack[-1] += last\n",
    "    elif c == '/':\n",
    "        last = stack.pop()\n",
    "        stack[-1] /= last\n",
    "    elif c == '-':\n",
    "        last = stack.pop()\n",
    "        stack[-1] -= last\n",
    "    else:\n",
    "        stack.append(cmd[ord(c) - ord('A')])\n",
    "print('{:.2f}'.format(stack[0]))"
   ],
   "metadata": {
    "collapsed": false,
    "pycharm": {
     "name": "#%%\n"
    }
   }
  },
  {
   "cell_type": "code",
   "execution_count": 17,
   "outputs": [
    {
     "name": "stdout",
     "output_type": "stream",
     "text": [
      "10.56\n"
     ]
    }
   ],
   "source": [
    "print('{:.2f}'.format(10.559))"
   ],
   "metadata": {
    "collapsed": false,
    "pycharm": {
     "name": "#%%\n"
    }
   }
  }
 ],
 "metadata": {
  "kernelspec": {
   "display_name": "Python 3",
   "language": "python",
   "name": "python3"
  },
  "language_info": {
   "codemirror_mode": {
    "name": "ipython",
    "version": 2
   },
   "file_extension": ".py",
   "mimetype": "text/x-python",
   "name": "python",
   "nbconvert_exporter": "python",
   "pygments_lexer": "ipython2",
   "version": "2.7.6"
  }
 },
 "nbformat": 4,
 "nbformat_minor": 0
}