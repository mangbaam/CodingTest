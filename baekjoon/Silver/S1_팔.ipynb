{
 "cells": [
  {
   "cell_type": "markdown",
   "source": [
    "https://www.acmicpc.net/problem/1105\n",
    "## [해설](https://latte-is-horse.tistory.com/371)"
   ],
   "metadata": {
    "collapsed": false,
    "pycharm": {
     "name": "#%% md\n"
    }
   }
  },
  {
   "cell_type": "code",
   "execution_count": 55,
   "outputs": [
    {
     "name": "stdout",
     "output_type": "stream",
     "text": [
      "1\n"
     ]
    }
   ],
   "source": [
    "a, b = input().split()\n",
    "if len(a) == len(b):\n",
    "    count = 0\n",
    "    for i in range(len(a)):\n",
    "        if a[i] != b[i]: break\n",
    "        if a[i] == '8': count += 1\n",
    "    print(count)\n",
    "else:\n",
    "    print(0)"
   ],
   "metadata": {
    "collapsed": false,
    "pycharm": {
     "name": "#%%\n"
    }
   }
  }
 ],
 "metadata": {
  "kernelspec": {
   "display_name": "Python 3",
   "language": "python",
   "name": "python3"
  },
  "language_info": {
   "codemirror_mode": {
    "name": "ipython",
    "version": 2
   },
   "file_extension": ".py",
   "mimetype": "text/x-python",
   "name": "python",
   "nbconvert_exporter": "python",
   "pygments_lexer": "ipython2",
   "version": "2.7.6"
  }
 },
 "nbformat": 4,
 "nbformat_minor": 0
}