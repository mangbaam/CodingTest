{
 "cells": [
  {
   "cell_type": "markdown",
   "metadata": {
    "collapsed": true,
    "pycharm": {
     "name": "#%% md\n"
    }
   },
   "source": [
    "https://www.acmicpc.net/problem/1072"
   ]
  },
  {
   "cell_type": "code",
   "execution_count": 50,
   "outputs": [
    {
     "name": "stdout",
     "output_type": "stream",
     "text": [
      "19230770\n"
     ]
    }
   ],
   "source": [
    "calc = lambda sub, total: int(sub * 100 / total)\n",
    "\n",
    "x, y = map(int, input().split())\n",
    "z = calc(y, x)\n",
    "\n",
    "start, end = 0, x\n",
    "current = 0\n",
    "answer = 0\n",
    "\n",
    "while start <= end:\n",
    "    mid = (start + end) // 2\n",
    "\n",
    "    if calc(y + mid, x + mid) > z:\n",
    "        answer = mid\n",
    "        end = mid - 1\n",
    "    else:\n",
    "        start = mid + 1\n",
    "\n",
    "print(answer) if answer > 0 else print(-1)"
   ],
   "metadata": {
    "collapsed": false,
    "pycharm": {
     "name": "#%%\n"
    }
   }
  },
  {
   "cell_type": "markdown",
   "source": [
    "100 80 ->\n",
    "    start: 6, end: 5, mid: 6\n",
    "    z: 80, current: 81\n",
    "\n",
    "10 8 ->\n",
    "    start: 1, end: 0, mid: 1\n",
    "    z: 80, current: 81\n",
    "\n",
    "99000 0 ->\n",
    "    start: 1000, end: 999, mid: 1000\n",
    "    z: 0, current: 1\n",
    "\n",
    "1000000000 470000000 ->\n",
    "    start: 19230770, end: 19230769, mid: 19230770\n",
    "    z: 47, current: 48"
   ],
   "metadata": {
    "collapsed": false,
    "pycharm": {
     "name": "#%% md\n"
    }
   }
  }
 ],
 "metadata": {
  "kernelspec": {
   "display_name": "Python 3",
   "language": "python",
   "name": "python3"
  },
  "language_info": {
   "codemirror_mode": {
    "name": "ipython",
    "version": 2
   },
   "file_extension": ".py",
   "mimetype": "text/x-python",
   "name": "python",
   "nbconvert_exporter": "python",
   "pygments_lexer": "ipython2",
   "version": "2.7.6"
  }
 },
 "nbformat": 4,
 "nbformat_minor": 0
}