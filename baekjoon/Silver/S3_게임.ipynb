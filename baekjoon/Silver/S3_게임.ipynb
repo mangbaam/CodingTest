{
 "cells": [
  {
   "cell_type": "markdown",
   "metadata": {
    "collapsed": true,
    "pycharm": {
     "name": "#%% md\n"
    }
   },
   "source": [
    "https://www.acmicpc.net/problem/1072"
   ]
  },
  {
   "cell_type": "code",
   "execution_count": 44,
   "outputs": [
    {
     "name": "stdout",
     "output_type": "stream",
     "text": [
      "z:  80 \n",
      "\n",
      "start: 0, end: 4, mid: 5\n",
      "z: 80, current: 86\n",
      "\n",
      "start: 0, end: 1, mid: 2\n",
      "z: 80, current: 83\n",
      "\n",
      "start: 1, end: 1, mid: 0\n",
      "z: 80, current: 80\n",
      "\n",
      "start: 1, end: 0, mid: 1\n",
      "z: 80, current: 81\n",
      "\n",
      "1\n"
     ]
    }
   ],
   "source": [
    "def calc(sub, total):\n",
    "    return int((sub / total) * 100)\n",
    "\n",
    "\n",
    "x, y = map(int, input().split())\n",
    "z = calc(y, x)\n",
    "\n",
    "start, end = 0, x\n",
    "current = 0\n",
    "\n",
    "while start <= end:\n",
    "    mid = (start + end) // 2\n",
    "    current = calc(y + mid, x + mid)\n",
    "\n",
    "    if current > z:\n",
    "        end = mid - 1\n",
    "    else:\n",
    "        start = mid + 1\n",
    "\n",
    "print(start) if z != current else print(-1)"
   ],
   "metadata": {
    "collapsed": false,
    "pycharm": {
     "name": "#%%\n"
    }
   }
  },
  {
   "cell_type": "markdown",
   "source": [
    "100 80 ->\n",
    "    start: 6, end: 5, mid: 6\n",
    "    z: 80, current: 81\n",
    "\n",
    "10 8 ->\n",
    "    start: 1, end: 0, mid: 1\n",
    "    z: 80, current: 81\n",
    "\n",
    "99000 0 ->\n",
    "    start: 1000, end: 999, mid: 1000\n",
    "    z: 0, current: 1\n",
    "\n",
    "1000000000 470000000 ->\n",
    "    start: 19230770, end: 19230769, mid: 19230770\n",
    "    z: 47, current: 48"
   ],
   "metadata": {
    "collapsed": false,
    "pycharm": {
     "name": "#%% md\n"
    }
   }
  }
 ],
 "metadata": {
  "kernelspec": {
   "display_name": "Python 3",
   "language": "python",
   "name": "python3"
  },
  "language_info": {
   "codemirror_mode": {
    "name": "ipython",
    "version": 2
   },
   "file_extension": ".py",
   "mimetype": "text/x-python",
   "name": "python",
   "nbconvert_exporter": "python",
   "pygments_lexer": "ipython2",
   "version": "2.7.6"
  }
 },
 "nbformat": 4,
 "nbformat_minor": 0
}