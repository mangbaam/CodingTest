{
 "cells": [
  {
   "cell_type": "markdown",
   "metadata": {
    "collapsed": true,
    "pycharm": {
     "name": "#%% md\n"
    }
   },
   "source": [
    "https://www.acmicpc.net/problem/9465"
   ]
  },
  {
   "cell_type": "code",
   "execution_count": 7,
   "outputs": [
    {
     "name": "stdout",
     "output_type": "stream",
     "text": [
      "290\n"
     ]
    }
   ],
   "source": [
    "for _ in range(int(input())):\n",
    "    n = int(input())\n",
    "    sticker = [list(map(int, input().split())) for _ in range(2)]\n",
    "    dp = [[0] * n for _ in range(2)]\n",
    "    dp[0][0], dp[1][0] = sticker[0][0], sticker[1][0]\n",
    "    if n >= 2:\n",
    "        dp[0][1], dp[1][1] = dp[1][0] + sticker[0][1], dp[0][0] + sticker[1][1]\n",
    "    for i in range(2, n):\n",
    "        dp[0][i] = sticker[0][i] + max(dp[1][i - 1], dp[1][i - 2])\n",
    "        dp[1][i] = sticker[1][i] + max(dp[0][i - 1], dp[0][i - 2])\n",
    "    print(max(dp[0][n-1], dp[1][n-1]))"
   ],
   "metadata": {
    "collapsed": false,
    "pycharm": {
     "name": "#%%\n"
    }
   }
  }
 ],
 "metadata": {
  "kernelspec": {
   "display_name": "Python 3",
   "language": "python",
   "name": "python3"
  },
  "language_info": {
   "codemirror_mode": {
    "name": "ipython",
    "version": 2
   },
   "file_extension": ".py",
   "mimetype": "text/x-python",
   "name": "python",
   "nbconvert_exporter": "python",
   "pygments_lexer": "ipython2",
   "version": "2.7.6"
  }
 },
 "nbformat": 4,
 "nbformat_minor": 0
}