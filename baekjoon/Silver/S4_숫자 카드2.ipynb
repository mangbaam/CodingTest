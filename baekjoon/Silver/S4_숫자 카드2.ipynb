{
 "cells": [
  {
   "cell_type": "markdown",
   "id": "quantitative-activity",
   "metadata": {},
   "source": [
    "https://www.acmicpc.net/problem/10816"
   ]
  },
  {
   "cell_type": "markdown",
   "id": "alone-parks",
   "metadata": {},
   "source": [
    "**통과한 코드**"
   ]
  },
  {
   "cell_type": "code",
   "execution_count": 7,
   "id": "efficient-motorcycle",
   "metadata": {},
   "outputs": [
    {
     "name": "stdout",
     "output_type": "stream",
     "text": [
      "10\n",
      "6 3 2 10 10 10 -10 -10 7 3\n",
      "8\n",
      "10 9 -5 2 3 4 5 -10\n",
      "{'10': 3, '9': 0, '-5': 0, '2': 1, '3': 2, '4': 0, '5': 0, '-10': 2}\n",
      "3 0 0 1 2 0 0 2 "
     ]
    }
   ],
   "source": [
    "my = int(input())\n",
    "myCards = list(input().split())\n",
    "your = int(input())\n",
    "yourCards = list(input().split())\n",
    "answer = {k:0 for k in yourCards}\n",
    "for card in myCards:\n",
    "    if card in answer.keys():\n",
    "        answer[card] += 1\n",
    "for i in yourCards:\n",
    "    print(answer[i], end=' ')"
   ]
  },
  {
   "cell_type": "markdown",
   "id": "falling-recovery",
   "metadata": {},
   "source": [
    "시간초과 난 코드"
   ]
  },
  {
   "cell_type": "code",
   "execution_count": null,
   "id": "stuffed-solution",
   "metadata": {},
   "outputs": [],
   "source": [
    "my = int(input())\n",
    "myCards = list(input().split())\n",
    "your = int(input())\n",
    "yourCards = list(input().split())\n",
    "answer = [0] * your\n",
    "for i in range(your):\n",
    "    answer[i] = myCards.count(yourCards[i])\n",
    "for n in answer: print(n, end=' ')"
   ]
  }
 ],
 "metadata": {
  "kernelspec": {
   "display_name": "Python 3",
   "language": "python",
   "name": "python3"
  },
  "language_info": {
   "codemirror_mode": {
    "name": "ipython",
    "version": 3
   },
   "file_extension": ".py",
   "mimetype": "text/x-python",
   "name": "python",
   "nbconvert_exporter": "python",
   "pygments_lexer": "ipython3",
   "version": "3.8.5"
  }
 },
 "nbformat": 4,
 "nbformat_minor": 5
}
