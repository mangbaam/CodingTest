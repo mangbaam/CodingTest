{
 "cells": [
  {
   "cell_type": "markdown",
   "id": "supported-transport",
   "metadata": {},
   "source": [
    "### https://latte-is-horse.tistory.com/253\n",
    "https://www.acmicpc.net/problem/1074"
   ]
  },
  {
   "cell_type": "code",
   "execution_count": 23,
   "id": "meaning-basics",
   "metadata": {},
   "outputs": [
    {
     "name": "stdout",
     "output_type": "stream",
     "text": [
      "3 7 7\n",
      "63\n"
     ]
    }
   ],
   "source": [
    "n, r, c = map(int, input().split())\n",
    "start = 0\n",
    "for i in range(n-1, -1, -1):\n",
    "    nums = (2**(i+1))**2\n",
    "    rc, cc = 2**i, 2**i\n",
    "    if r >= rc:\n",
    "        start += nums//2\n",
    "        r -= rc\n",
    "    if c >= cc:\n",
    "        start += nums//4\n",
    "        c -= cc\n",
    "print(start)"
   ]
  }
 ],
 "metadata": {
  "kernelspec": {
   "display_name": "Python 3",
   "language": "python",
   "name": "python3"
  },
  "language_info": {
   "codemirror_mode": {
    "name": "ipython",
    "version": 3
   },
   "file_extension": ".py",
   "mimetype": "text/x-python",
   "name": "python",
   "nbconvert_exporter": "python",
   "pygments_lexer": "ipython3",
   "version": "3.8.5"
  }
 },
 "nbformat": 4,
 "nbformat_minor": 5
}
