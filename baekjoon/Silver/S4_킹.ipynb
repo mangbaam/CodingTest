{
 "cells": [
  {
   "cell_type": "markdown",
   "source": [
    "https://www.acmicpc.net/problem/1063"
   ],
   "metadata": {
    "collapsed": false,
    "pycharm": {
     "name": "#%% md\n"
    }
   }
  },
  {
   "cell_type": "code",
   "execution_count": 18,
   "outputs": [
    {
     "name": "stdout",
     "output_type": "stream",
     "text": [
      "A4\n",
      "C4\n"
     ]
    }
   ],
   "source": [
    "k, s, n = input().split()\n",
    "kx, ky = int(k[1]), '.ABCDEFGH'.index(k[0])\n",
    "sx, sy = int(s[1]), '.ABCDEFGH'.index(s[0])\n",
    "\n",
    "\n",
    "def valid(x, y):\n",
    "    return True if x in range(1, 9) and y in range(1, 9) else False\n",
    "\n",
    "\n",
    "for _ in range(int(n)):\n",
    "    c = input()\n",
    "    if c == 'R':  # 오른쪽\n",
    "        if (kx, ky + 1) == (sx, sy):  # 오른쪽 돌\n",
    "            if valid(sx, sy + 1):\n",
    "                ky, sy = ky + 1, sy + 1\n",
    "        else:\n",
    "            if valid(kx, ky + 1):\n",
    "                ky += 1\n",
    "    elif c == 'L':  # 왼쪽\n",
    "        if (kx, ky - 1) == (sx, sy):  # 왼쪽 돌\n",
    "            if valid(sx, sy - 1):\n",
    "                ky, sy = ky - 1, sy - 1\n",
    "        else:\n",
    "            if valid(kx, ky - 1):\n",
    "                ky -= 1\n",
    "    elif c == 'B':  # 아래\n",
    "        if (kx - 1, ky) == (sx, sy):  # 아래 돌\n",
    "            if valid(sx - 1, sy):\n",
    "                kx, sx = kx - 1, sx - 1\n",
    "        else:\n",
    "            if valid(kx - 1, ky):\n",
    "                kx -= 1\n",
    "    elif c == 'T':  # 위\n",
    "        if (kx + 1, ky) == (sx, sy):  # 위 돌\n",
    "            if valid(sx + 1, sy):\n",
    "                kx, sx = kx + 1, sx + 1\n",
    "        else:\n",
    "            if valid(kx + 1, ky):\n",
    "                kx += 1\n",
    "    elif c == 'RT':  # 오른쪽 위\n",
    "        if (kx + 1, ky + 1) == (sx, sy):  # 오른쪽 위 돌\n",
    "            if valid(sx + 1, sy + 1):\n",
    "                kx, sx = kx + 1, sx + 1\n",
    "                ky, sy = ky + 1, sy + 1\n",
    "        else:\n",
    "            if valid(kx + 1, ky + 1):\n",
    "                kx, ky = kx + 1, ky + 1\n",
    "    elif c == 'LT':  # 왼쪽 위\n",
    "        if (kx + 1, ky - 1) == (sx, sy):  # 왼쪽 위 돌\n",
    "            if valid(sx + 1, sy - 1):\n",
    "                kx, sx = kx + 1, sx + 1\n",
    "                ky, sy = ky - 1, sy - 1\n",
    "        else:\n",
    "            if valid(kx + 1, ky - 1):\n",
    "                kx, ky = kx + 1, ky - 1\n",
    "    elif c == 'RB':  # 오른쪽 아래\n",
    "        if (kx - 1, ky + 1) == (sx, sy):  # 오른쪽 아래 돌\n",
    "            if valid(sx - 1, sy + 1):\n",
    "                kx, sx = kx - 1, sx - 1\n",
    "                ky, sy = ky + 1, sy + 1\n",
    "        else:\n",
    "            if valid(kx - 1, ky + 1):\n",
    "                kx, ky = kx - 1, ky + 1\n",
    "    elif c == 'LB':  # 왼쪽 아래\n",
    "        if (kx - 1, ky - 1) == (sx, sy):  # 왼쪽 아래 돌\n",
    "            if valid(sx - 1, sy - 1):\n",
    "                kx, sx = kx - 1, sx - 1\n",
    "                ky, sy = ky - 1, sy - 1\n",
    "        else:\n",
    "            if valid(kx - 1, ky - 1):\n",
    "                kx, ky = kx - 1, ky - 1\n",
    "\n",
    "print('.ABCDEFGH'[ky] + str(kx))\n",
    "print('.ABCDEFGH'[sy] + str(sx))"
   ],
   "metadata": {
    "collapsed": false,
    "pycharm": {
     "name": "#%%\n"
    }
   }
  }
 ],
 "metadata": {
  "kernelspec": {
   "display_name": "Python 3",
   "language": "python",
   "name": "python3"
  },
  "language_info": {
   "codemirror_mode": {
    "name": "ipython",
    "version": 2
   },
   "file_extension": ".py",
   "mimetype": "text/x-python",
   "name": "python",
   "nbconvert_exporter": "python",
   "pygments_lexer": "ipython2",
   "version": "2.7.6"
  }
 },
 "nbformat": 4,
 "nbformat_minor": 0
}