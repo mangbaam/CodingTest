{
 "cells": [
  {
   "cell_type": "markdown",
   "source": [
    "https://www.acmicpc.net/problem/24444"
   ],
   "metadata": {
    "collapsed": false,
    "pycharm": {
     "name": "#%% md\n"
    }
   }
  },
  {
   "cell_type": "code",
   "execution_count": 5,
   "outputs": [
    {
     "name": "stdout",
     "output_type": "stream",
     "text": [
      "1\n",
      "2\n",
      "4\n",
      "3\n",
      "0\n"
     ]
    }
   ],
   "source": [
    "from collections import deque\n",
    "import sys\n",
    "\n",
    "\n",
    "def input():\n",
    "    return sys.stdin.readline().rstrip()\n",
    "\n",
    "\n",
    "N, M, R = map(int, input().split())\n",
    "graph = [[] for _ in range(N + 1)]\n",
    "visited = [False] * (N + 1)\n",
    "answer = [0] * (N + 1)\n",
    "\n",
    "# 그래프 그리기\n",
    "for _ in range(M):\n",
    "    a, b = map(int, input().split())\n",
    "    graph[a].append(b)\n",
    "    graph[b].append(a)\n",
    "\n",
    "# 그래프 정렬\n",
    "for i in range(1, N + 1):\n",
    "    graph[i].sort()\n",
    "\n",
    "\n",
    "def bfs(start):\n",
    "    order = 1\n",
    "    q = deque([(start, order)])\n",
    "    visited[start] = True\n",
    "\n",
    "    while q:\n",
    "        cur, now = q.popleft()\n",
    "        answer[cur] = now\n",
    "        for nxt in graph[cur]:\n",
    "            if not visited[nxt]:\n",
    "                visited[nxt] = True\n",
    "                order += 1\n",
    "                q.append((nxt, order))\n",
    "\n",
    "\n",
    "bfs(R)\n",
    "print(*answer[1:], sep='\\n')"
   ],
   "metadata": {
    "collapsed": false,
    "pycharm": {
     "name": "#%%\n"
    }
   }
  }
 ],
 "metadata": {
  "kernelspec": {
   "display_name": "Python 3",
   "language": "python",
   "name": "python3"
  },
  "language_info": {
   "codemirror_mode": {
    "name": "ipython",
    "version": 2
   },
   "file_extension": ".py",
   "mimetype": "text/x-python",
   "name": "python",
   "nbconvert_exporter": "python",
   "pygments_lexer": "ipython2",
   "version": "2.7.6"
  }
 },
 "nbformat": 4,
 "nbformat_minor": 0
}