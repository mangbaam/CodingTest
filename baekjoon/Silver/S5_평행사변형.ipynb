{
 "cells": [
  {
   "cell_type": "markdown",
   "source": [
    "https://www.acmicpc.net/problem/1064"
   ],
   "metadata": {
    "collapsed": false,
    "pycharm": {
     "name": "#%% md\n"
    }
   }
  },
  {
   "cell_type": "code",
   "execution_count": 1,
   "outputs": [
    {
     "name": "stdout",
     "output_type": "stream",
     "text": [
      "0.8284271247461903\n"
     ]
    }
   ],
   "source": [
    "def available(x1, y1, x2, y2, x3, y3):\n",
    "    return (x1 - x2) * (y1 - y3) != (y1 - y2) * (x1 - x3)\n",
    "\n",
    "def getLength(x1, y1, x2, y2):\n",
    "    return (abs((x2 - x1) ** 2 + (y2 - y1) ** 2)) ** (1/2)\n",
    "\n",
    "xa, ya, xb, yb, xc, yc = map(int, input().split())\n",
    "\n",
    "if available(xa, ya, xb, yb, xc, yc):\n",
    "    ab = getLength(xa, ya, xb, yb)\n",
    "    ac = getLength(xa, ya, xc, yc)\n",
    "    bc = getLength(xb, yb, xc, yc)\n",
    "    print(2 * (max(ab, ac, bc) - min(ab, ac, bc)))\n",
    "else:\n",
    "    print(-1.0)"
   ],
   "metadata": {
    "collapsed": false,
    "pycharm": {
     "name": "#%%\n"
    }
   }
  }
 ],
 "metadata": {
  "kernelspec": {
   "display_name": "Python 3",
   "language": "python",
   "name": "python3"
  },
  "language_info": {
   "codemirror_mode": {
    "name": "ipython",
    "version": 2
   },
   "file_extension": ".py",
   "mimetype": "text/x-python",
   "name": "python",
   "nbconvert_exporter": "python",
   "pygments_lexer": "ipython2",
   "version": "2.7.6"
  }
 },
 "nbformat": 4,
 "nbformat_minor": 0
}