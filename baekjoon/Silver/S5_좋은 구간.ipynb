{
 "cells": [
  {
   "cell_type": "markdown",
   "id": "identical-avatar",
   "metadata": {},
   "source": [
    "https://www.acmicpc.net/problem/1059"
   ]
  },
  {
   "cell_type": "code",
   "execution_count": 14,
   "id": "professional-miami",
   "metadata": {
    "pycharm": {
     "name": "#%%\n"
    }
   },
   "outputs": [
    {
     "name": "stdout",
     "output_type": "stream",
     "text": [
      "5\n"
     ]
    }
   ],
   "source": [
    "L = int(input())\n",
    "S = [0] + list(sorted(map(int, input().split())))\n",
    "N = int(input())\n",
    "answer = 0\n",
    "\n",
    "for i in range(L):\n",
    "    if N not in range(S[i]+1, S[i+1]): continue\n",
    "    answer = (N-S[i]) * (S[i+1]-N) - 1\n",
    "    break\n",
    "print(answer)"
   ]
  }
 ],
 "metadata": {
  "kernelspec": {
   "display_name": "Python 3",
   "language": "python",
   "name": "python3"
  },
  "language_info": {
   "codemirror_mode": {
    "name": "ipython",
    "version": 3
   },
   "file_extension": ".py",
   "mimetype": "text/x-python",
   "name": "python",
   "nbconvert_exporter": "python",
   "pygments_lexer": "ipython3",
   "version": "3.8.5"
  }
 },
 "nbformat": 4,
 "nbformat_minor": 5
}