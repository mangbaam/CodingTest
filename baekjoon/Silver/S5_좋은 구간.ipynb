{
 "cells": [
  {
   "cell_type": "markdown",
   "id": "identical-avatar",
   "metadata": {},
   "source": [
    "https://www.acmicpc.net/problem/1059"
   ]
  },
  {
   "cell_type": "code",
   "execution_count": 24,
   "id": "authentic-arkansas",
   "metadata": {},
   "outputs": [
    {
     "name": "stdout",
     "output_type": "stream",
     "text": [
      "8\n",
      "3 7 12 18 25 100 33 1000\n",
      "2\n",
      "1\n"
     ]
    }
   ],
   "source": [
    "import sys\n",
    "\n",
    "l = int(input())\n",
    "nums = [0] + sorted(list(map(int, input().split())))\n",
    "n = int(input())\n",
    "\n",
    "i = 0\n",
    "while i < l and nums[i] < n:\n",
    "    i += 1\n",
    "\n",
    "start = nums[i-1] + 1\n",
    "end = nums[i] - 1 if i < l else nums[-1] - 1\n",
    "\n",
    "answer = 0\n",
    "for s in range(start, n):\n",
    "    for e in range(n, end+1):\n",
    "        answer += 1\n",
    "for _ in range(n+1, end+1):\n",
    "    answer += 1\n",
    "\n",
    "print(answer)"
   ]
  },
  {
   "cell_type": "code",
   "execution_count": null,
   "id": "controversial-bowling",
   "metadata": {},
   "outputs": [],
   "source": [
    "answer = (n-start) * (end-n+1) + end - n"
   ]
  },
  {
   "cell_type": "code",
   "execution_count": 26,
   "id": "sealed-smoke",
   "metadata": {},
   "outputs": [
    {
     "name": "stdout",
     "output_type": "stream",
     "text": [
      "8\n",
      "3 7 12 18 25 100 33 1000\n",
      "59\n",
      "1065\n"
     ]
    }
   ],
   "source": [
    "import sys\n",
    "\n",
    "l = int(input())\n",
    "nums = [0] + sorted(list(map(int, input().split())))\n",
    "n = int(input())\n",
    "\n",
    "i = 0\n",
    "while i < l and nums[i] < n:\n",
    "    i += 1\n",
    "\n",
    "start = nums[i-1] + 1\n",
    "end = nums[i] - 1 if i < l else nums[-1] - 1\n",
    "\n",
    "print((n-start) * (end-n+1) + end - n)"
   ]
  },
  {
   "cell_type": "code",
   "execution_count": null,
   "id": "professional-miami",
   "metadata": {},
   "outputs": [],
   "source": []
  }
 ],
 "metadata": {
  "kernelspec": {
   "display_name": "Python 3",
   "language": "python",
   "name": "python3"
  },
  "language_info": {
   "codemirror_mode": {
    "name": "ipython",
    "version": 3
   },
   "file_extension": ".py",
   "mimetype": "text/x-python",
   "name": "python",
   "nbconvert_exporter": "python",
   "pygments_lexer": "ipython3",
   "version": "3.8.5"
  }
 },
 "nbformat": 4,
 "nbformat_minor": 5
}
