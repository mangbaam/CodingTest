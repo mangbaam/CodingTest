{
 "cells": [
  {
   "cell_type": "markdown",
   "source": [
    "https://www.acmicpc.net/problem/1992"
   ],
   "metadata": {
    "collapsed": false,
    "pycharm": {
     "name": "#%% md\n"
    }
   }
  },
  {
   "cell_type": "code",
   "execution_count": 1,
   "outputs": [
    {
     "name": "stdout",
     "output_type": "stream",
     "text": [
      "((111(1111))(1111)1(1111))"
     ]
    }
   ],
   "source": [
    "import sys\n",
    "sys.setrecursionlimit(5000)\n",
    "\n",
    "INVALID = -1\n",
    "n = int(input())\n",
    "graph = [list(map(int, input())) for _ in range(n)]\n",
    "\n",
    "\n",
    "def rec_fun(x, y, w):\n",
    "    start = graph[x][y]\n",
    "    for i in range(x, x + w):\n",
    "        for j in range(y, y + w):\n",
    "            if start != graph[i][j]:\n",
    "                start = INVALID\n",
    "                break\n",
    "    if start == INVALID:\n",
    "        print('(', end='')\n",
    "        s = w // 2\n",
    "        rec_fun(x, y, s)\n",
    "        rec_fun(x, y + s, s)\n",
    "        rec_fun(x + s, y, s)\n",
    "        rec_fun(x + s, y + s, s)\n",
    "        print(')', end='')\n",
    "    elif start == 1:\n",
    "        print(1, end='')\n",
    "    else:\n",
    "        print(0, end='')\n",
    "\n",
    "\n",
    "rec_fun(0, 0, n)"
   ],
   "metadata": {
    "collapsed": false,
    "pycharm": {
     "name": "#%%\n"
    }
   }
  }
 ],
 "metadata": {
  "kernelspec": {
   "display_name": "Python 3",
   "language": "python",
   "name": "python3"
  },
  "language_info": {
   "codemirror_mode": {
    "name": "ipython",
    "version": 2
   },
   "file_extension": ".py",
   "mimetype": "text/x-python",
   "name": "python",
   "nbconvert_exporter": "python",
   "pygments_lexer": "ipython2",
   "version": "2.7.6"
  }
 },
 "nbformat": 4,
 "nbformat_minor": 0
}