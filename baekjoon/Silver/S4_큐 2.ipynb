{
 "cells": [
  {
   "cell_type": "markdown",
   "source": [
    "https://www.acmicpc.net/problem/18258"
   ],
   "metadata": {
    "collapsed": false,
    "pycharm": {
     "name": "#%% md\n"
    }
   }
  },
  {
   "cell_type": "code",
   "execution_count": 1,
   "outputs": [
    {
     "name": "stdout",
     "output_type": "stream",
     "text": [
      "1\n",
      "2\n",
      "2\n",
      "0\n",
      "1\n",
      "2\n",
      "-1\n",
      "0\n",
      "1\n",
      "-1\n",
      "0\n",
      "3\n"
     ]
    }
   ],
   "source": [
    "from _collections import deque\n",
    "import sys\n",
    "\n",
    "\n",
    "def input():\n",
    "    return sys.stdin.readline().rstrip()\n",
    "\n",
    "\n",
    "q = deque()\n",
    "for _ in range(int(input())):\n",
    "    cmd = input().split()\n",
    "    if cmd[0] == 'push':\n",
    "        q.append(cmd[1])\n",
    "    elif cmd[0] == 'pop':\n",
    "        print(q.popleft()) if q else print(-1)\n",
    "    elif cmd[0] == 'size':\n",
    "        print(len(q))\n",
    "    elif cmd[0] == 'empty':\n",
    "        print(0) if q else print(1)\n",
    "    elif cmd[0] == 'front':\n",
    "        print(q[0]) if q else print(-1)\n",
    "    elif cmd[0] == 'back':\n",
    "        print(q[-1]) if q else print(-1)"
   ],
   "metadata": {
    "collapsed": false,
    "pycharm": {
     "name": "#%%\n"
    }
   }
  }
 ],
 "metadata": {
  "kernelspec": {
   "display_name": "Python 3",
   "language": "python",
   "name": "python3"
  },
  "language_info": {
   "codemirror_mode": {
    "name": "ipython",
    "version": 2
   },
   "file_extension": ".py",
   "mimetype": "text/x-python",
   "name": "python",
   "nbconvert_exporter": "python",
   "pygments_lexer": "ipython2",
   "version": "2.7.6"
  }
 },
 "nbformat": 4,
 "nbformat_minor": 0
}