{
 "cells": [
  {
   "cell_type": "markdown",
   "source": [
    "https://www.acmicpc.net/problem/11660\n",
    "\n",
    "*pypy3, `sys.stdin.readline`*"
   ],
   "metadata": {
    "collapsed": false,
    "pycharm": {
     "name": "#%% md\n"
    }
   }
  },
  {
   "cell_type": "code",
   "execution_count": 18,
   "outputs": [
    {
     "name": "stdout",
     "output_type": "stream",
     "text": [
      "graph:  [[1, 3, 6, 10], [2, 5, 9, 14], [3, 7, 12, 18], [4, 9, 15, 22]]\n",
      "27\n",
      "6\n",
      "64\n"
     ]
    }
   ],
   "source": [
    "n, m = map(int, input().split())\n",
    "graph = []\n",
    "for _ in range(n):\n",
    "    tmp_row = list(map(int, input().split()))\n",
    "    row = [tmp_row[0]]\n",
    "    for i in range(1, n):\n",
    "        row.append(row[i-1] + tmp_row[i])\n",
    "    graph.append(row)\n",
    "\n",
    "for _ in range(m):\n",
    "    x1, y1, x2, y2 = map(lambda x: int(x) - 1, input().split())\n",
    "    answer = 0\n",
    "    for r in range(x1, x2 + 1):\n",
    "        answer += (graph[r][y2] - graph[r][y1 - 1]) if y1 > 0 else graph[r][y2]\n",
    "    print(answer)"
   ],
   "metadata": {
    "collapsed": false,
    "pycharm": {
     "name": "#%%\n"
    }
   }
  }
 ],
 "metadata": {
  "kernelspec": {
   "display_name": "Python 3",
   "language": "python",
   "name": "python3"
  },
  "language_info": {
   "codemirror_mode": {
    "name": "ipython",
    "version": 2
   },
   "file_extension": ".py",
   "mimetype": "text/x-python",
   "name": "python",
   "nbconvert_exporter": "python",
   "pygments_lexer": "ipython2",
   "version": "2.7.6"
  }
 },
 "nbformat": 4,
 "nbformat_minor": 0
}