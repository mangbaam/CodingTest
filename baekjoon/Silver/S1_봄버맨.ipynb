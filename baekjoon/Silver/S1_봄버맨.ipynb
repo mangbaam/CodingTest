{
 "cells": [
  {
   "cell_type": "markdown",
   "source": [
    "https://www.acmicpc.net/problem/16918"
   ],
   "metadata": {
    "collapsed": false,
    "pycharm": {
     "name": "#%% md\n"
    }
   }
  },
  {
   "cell_type": "code",
   "execution_count": 26,
   "outputs": [
    {
     "name": "stdout",
     "output_type": "stream",
     "text": [
      "OOO.OOO\n",
      "OO...OO\n",
      "OOO...O\n",
      "..OO.OO\n",
      "...OOOO\n",
      "...OOOO\n"
     ]
    }
   ],
   "source": [
    "r, c, n = map(int, input().split())\n",
    "arr = [list(input()) for _ in range(r)]\n",
    "d = [(-1, 0), (1, 0), (0, -1), (0, 1)]\n",
    "find_bomb = lambda li: [(i, j) for j in range(c) for i in range(r) if li[i][j] == 'O']  # 현재 폭탄 위치\n",
    "bombs = []\n",
    "\n",
    "\n",
    "def pung(): # 폭탄 펑!\n",
    "    global arr, bombs\n",
    "    for bx, by in bombs:\n",
    "        arr[bx][by] = '.'\n",
    "        for i in range(4):\n",
    "            nx, ny = bx + d[i][0], by + d[i][1]\n",
    "            if nx in range(r) and ny in range(c):\n",
    "                arr[nx][ny] = '.'\n",
    "\n",
    "\n",
    "def fill_bombs(): # 폭탄으로 채우기\n",
    "    global arr\n",
    "    arr = [['O'] * c for _ in range(r)]\n",
    "\n",
    "\n",
    "def print_answer(li): # 결과 출력\n",
    "    for line in li:\n",
    "        print(''.join(line))\n",
    "\n",
    "\n",
    "for second in range(1, n): # 1초 ~ N-1초 수행\n",
    "    if second % 2 == 1:\n",
    "        bombs = find_bomb(arr) # 폭탄 위치 찾고\n",
    "        fill_bombs() # 폭탄 채우기\n",
    "    else:\n",
    "        pung() # 폭탄 펑!\n",
    "\n",
    "print_answer(arr)"
   ],
   "metadata": {
    "collapsed": false,
    "pycharm": {
     "name": "#%%\n"
    }
   }
  }
 ],
 "metadata": {
  "kernelspec": {
   "display_name": "Python 3",
   "language": "python",
   "name": "python3"
  },
  "language_info": {
   "codemirror_mode": {
    "name": "ipython",
    "version": 2
   },
   "file_extension": ".py",
   "mimetype": "text/x-python",
   "name": "python",
   "nbconvert_exporter": "python",
   "pygments_lexer": "ipython2",
   "version": "2.7.6"
  }
 },
 "nbformat": 4,
 "nbformat_minor": 0
}