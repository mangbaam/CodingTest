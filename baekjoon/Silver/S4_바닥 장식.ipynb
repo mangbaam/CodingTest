{
 "cells": [
  {
   "cell_type": "markdown",
   "metadata": {
    "collapsed": true,
    "pycharm": {
     "name": "#%% md\n"
    }
   },
   "source": [
    "https://www.acmicpc.net/problem/1388"
   ]
  },
  {
   "cell_type": "code",
   "execution_count": 5,
   "outputs": [
    {
     "name": "stdout",
     "output_type": "stream",
     "text": [
      "19\n"
     ]
    }
   ],
   "source": [
    "row, col = map(int, input().split())\n",
    "arr = [list(input()) for _ in range(row)]\n",
    "answer = 0\n",
    "\n",
    "# - check\n",
    "for i in range(row):\n",
    "    pre = '.'\n",
    "    for j in range(col):\n",
    "        if arr[i][j] == '-':\n",
    "            if arr[i][j] != pre: answer += 1\n",
    "        pre = arr[i][j]\n",
    "\n",
    "# | check\n",
    "for j in range(col):\n",
    "    pre = '.'\n",
    "    for i in range(row):\n",
    "        if arr[i][j] == '|':\n",
    "            if arr[i][j] != pre: answer += 1\n",
    "        pre = arr[i][j]\n",
    "\n",
    "print(answer)"
   ],
   "metadata": {
    "collapsed": false,
    "pycharm": {
     "name": "#%%\n"
    }
   }
  }
 ],
 "metadata": {
  "kernelspec": {
   "display_name": "Python 3",
   "language": "python",
   "name": "python3"
  },
  "language_info": {
   "codemirror_mode": {
    "name": "ipython",
    "version": 2
   },
   "file_extension": ".py",
   "mimetype": "text/x-python",
   "name": "python",
   "nbconvert_exporter": "python",
   "pygments_lexer": "ipython2",
   "version": "2.7.6"
  }
 },
 "nbformat": 4,
 "nbformat_minor": 0
}