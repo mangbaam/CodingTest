{
 "cells": [
  {
   "cell_type": "markdown",
   "source": [
    "https://www.acmicpc.net/problem/4659"
   ],
   "metadata": {
    "collapsed": false,
    "pycharm": {
     "name": "#%% md\n"
    }
   }
  },
  {
   "cell_type": "code",
   "execution_count": 54,
   "outputs": [
    {
     "name": "stdout",
     "output_type": "stream",
     "text": [
      "<app> is not acceptable.\n"
     ]
    }
   ],
   "source": [
    "def test(word):\n",
    "    # 모음 하나 포함\n",
    "    acceptable = False\n",
    "    for c in \"aeiou\":\n",
    "        if word.find(c) != -1:\n",
    "            acceptable = True\n",
    "            break\n",
    "    if not acceptable: return False\n",
    "\n",
    "    # 모음 3개 혹은 자음 3개 연속 불가\n",
    "    for i in range(len(word) - 2):\n",
    "        if word[i] in \"aeiou\" and word[i + 1] in \"aeiou\" and word[i + 2] in \"aeiou\":\n",
    "            return False\n",
    "        if word[i] not in \"aeiou\" and word[i + 1] not in \"aeiou\" and word[i + 2] not in \"aeiou\":\n",
    "            return False\n",
    "    # 같은 글자 연속으로 두번 오면 안됨. ee, oo 허용\n",
    "    for i in range(len(word) - 1):\n",
    "        if word[i] not in \"eo\" and word[i] == word[i + 1]:\n",
    "            return False\n",
    "    return True\n",
    "\n",
    "\n",
    "while True:\n",
    "    test_case = input()\n",
    "    if test_case == 'end': break\n",
    "    print(f'<{test_case}> is acceptable.') if test(test_case) else print(f'<{test_case}> is not acceptable.')"
   ],
   "metadata": {
    "collapsed": false,
    "pycharm": {
     "name": "#%%\n"
    }
   }
  }
 ],
 "metadata": {
  "kernelspec": {
   "display_name": "Python 3",
   "language": "python",
   "name": "python3"
  },
  "language_info": {
   "codemirror_mode": {
    "name": "ipython",
    "version": 2
   },
   "file_extension": ".py",
   "mimetype": "text/x-python",
   "name": "python",
   "nbconvert_exporter": "python",
   "pygments_lexer": "ipython2",
   "version": "2.7.6"
  }
 },
 "nbformat": 4,
 "nbformat_minor": 0
}