{
 "cells": [
  {
   "cell_type": "markdown",
   "source": [
    "https://www.acmicpc.net/problem/16173"
   ],
   "metadata": {
    "collapsed": false,
    "pycharm": {
     "name": "#%% md\n"
    }
   }
  },
  {
   "cell_type": "code",
   "execution_count": 5,
   "outputs": [
    {
     "name": "stdout",
     "output_type": "stream",
     "text": [
      "Hing\n"
     ]
    }
   ],
   "source": [
    "from collections import deque\n",
    "\n",
    "n = int(input())\n",
    "arr = [list(map(int, input().split())) for _ in range(n)]\n",
    "visited = [[False] * n for _ in range(n)]\n",
    "avail = False\n",
    "\n",
    "visited[0][0] = True\n",
    "queue = deque([(0, 0)])\n",
    "\n",
    "while queue:\n",
    "    x, y = queue.popleft()\n",
    "    if arr[x][y] == -1: avail = True\n",
    "    step = arr[x][y]\n",
    "    nx, ny = x + step, y + step\n",
    "    if nx in range(n) and not visited[nx][y]: # 아래 이동\n",
    "        visited[nx][y] = True\n",
    "        queue.append((nx, y))\n",
    "    if ny in range(n) and not visited[x][ny]:\n",
    "        visited[x][ny] = True\n",
    "        queue.append((x, ny))\n",
    "\n",
    "print(\"HaruHaru\") if avail else print(\"Hing\")"
   ],
   "metadata": {
    "collapsed": false,
    "pycharm": {
     "name": "#%%\n"
    }
   }
  }
 ],
 "metadata": {
  "kernelspec": {
   "display_name": "Python 3",
   "language": "python",
   "name": "python3"
  },
  "language_info": {
   "codemirror_mode": {
    "name": "ipython",
    "version": 2
   },
   "file_extension": ".py",
   "mimetype": "text/x-python",
   "name": "python",
   "nbconvert_exporter": "python",
   "pygments_lexer": "ipython2",
   "version": "2.7.6"
  }
 },
 "nbformat": 4,
 "nbformat_minor": 0
}