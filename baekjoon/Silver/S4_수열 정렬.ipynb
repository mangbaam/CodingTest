{
 "cells": [
  {
   "cell_type": "markdown",
   "metadata": {
    "collapsed": true,
    "pycharm": {
     "name": "#%% md\n"
    }
   },
   "source": [
    "https://www.acmicpc.net/problem/1015"
   ]
  },
  {
   "cell_type": "code",
   "execution_count": 9,
   "outputs": [
    {
     "name": "stdout",
     "output_type": "stream",
     "text": [
      "4 0 6 1 3 7 2 5 "
     ]
    }
   ],
   "source": [
    "n = int(input())\n",
    "p = [0] * n\n",
    "li = [(idx, value) for idx, value in enumerate(map(int, input().split()))]\n",
    "b_list = sorted(li, key=lambda x: (x[1], x[0]))\n",
    "\n",
    "for i in range(n):\n",
    "    p[b_list[i][0]] = i\n",
    "\n",
    "for i in range(n):\n",
    "    print(p[i], end=' ')"
   ],
   "metadata": {
    "collapsed": false,
    "pycharm": {
     "name": "#%%\n"
    }
   }
  }
 ],
 "metadata": {
  "kernelspec": {
   "display_name": "Python 3",
   "language": "python",
   "name": "python3"
  },
  "language_info": {
   "codemirror_mode": {
    "name": "ipython",
    "version": 2
   },
   "file_extension": ".py",
   "mimetype": "text/x-python",
   "name": "python",
   "nbconvert_exporter": "python",
   "pygments_lexer": "ipython2",
   "version": "2.7.6"
  }
 },
 "nbformat": 4,
 "nbformat_minor": 0
}