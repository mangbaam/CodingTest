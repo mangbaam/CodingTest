{
 "cells": [
  {
   "cell_type": "markdown",
   "source": [
    "https://www.acmicpc.net/problem/1343"
   ],
   "metadata": {
    "collapsed": false,
    "pycharm": {
     "name": "#%% md\n"
    }
   }
  },
  {
   "cell_type": "code",
   "execution_count": 18,
   "outputs": [
    {
     "name": "stdout",
     "output_type": "stream",
     "text": [
      "poly:  ['', '', '', '', '', 'XX']\n",
      ".....BB\n"
     ]
    }
   ],
   "source": [
    "answer = \"\"\n",
    "\n",
    "\n",
    "def solution():\n",
    "    global answer\n",
    "    poly = input().split('.')\n",
    "\n",
    "    for p in poly:\n",
    "        # if not p: answer += '.'\n",
    "        part = p\n",
    "        if len(part) % 2:\n",
    "            print(-1)\n",
    "            answer = \"\"\n",
    "            return\n",
    "        while part:\n",
    "            if len(part) >= 4:\n",
    "                answer += 'AAAA'\n",
    "                part = part[4:]\n",
    "            elif len(part) >= 2:\n",
    "                answer += 'BB'\n",
    "                part = part[2:]\n",
    "\n",
    "        answer += '.'\n",
    "\n",
    "\n",
    "solution()\n",
    "if answer: print(answer[:-1])"
   ],
   "metadata": {
    "collapsed": false,
    "pycharm": {
     "name": "#%%\n"
    }
   }
  }
 ],
 "metadata": {
  "kernelspec": {
   "display_name": "Python 3",
   "language": "python",
   "name": "python3"
  },
  "language_info": {
   "codemirror_mode": {
    "name": "ipython",
    "version": 2
   },
   "file_extension": ".py",
   "mimetype": "text/x-python",
   "name": "python",
   "nbconvert_exporter": "python",
   "pygments_lexer": "ipython2",
   "version": "2.7.6"
  }
 },
 "nbformat": 4,
 "nbformat_minor": 0
}