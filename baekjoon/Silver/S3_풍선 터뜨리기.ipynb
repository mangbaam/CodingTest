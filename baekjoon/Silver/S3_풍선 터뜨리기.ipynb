{
 "cells": [
  {
   "cell_type": "markdown",
   "source": [
    "https://www.acmicpc.net/problem/2346"
   ],
   "metadata": {
    "collapsed": false,
    "pycharm": {
     "name": "#%% md\n"
    }
   }
  },
  {
   "cell_type": "markdown",
   "source": [
    "## LinkedList 풀이\n",
    "\n",
    "메모리: 30840 KB\n",
    "시간: 112 ms\n",
    "언어: Python 3\n",
    "코드 길이: 698 B"
   ],
   "metadata": {
    "collapsed": false,
    "pycharm": {
     "name": "#%% md\n"
    }
   }
  },
  {
   "cell_type": "code",
   "execution_count": 7,
   "outputs": [
    {
     "name": "stdout",
     "output_type": "stream",
     "text": [
      "1 4 3 2 2\n"
     ]
    }
   ],
   "source": [
    "n = int(input())\n",
    "balloon = [[i - 1, i + 1] if i in range(1, n - 1) else ([n - 1, 1] if i == 0 else [n - 2, 0]) for i in range(n)]\n",
    "memos = list(map(int, input().split()))\n",
    "current = 0\n",
    "answer = []\n",
    "\n",
    "\n",
    "def bomb(i):\n",
    "    answer.append(i + 1)\n",
    "    balloon[balloon[i][0]][1] = balloon[i][1]\n",
    "    balloon[balloon[i][1]][0] = balloon[i][0]\n",
    "\n",
    "\n",
    "def move(step):\n",
    "    global current\n",
    "    if step > 0:\n",
    "        for _ in range(step):\n",
    "            current = balloon[current][1]\n",
    "    elif step < 0:\n",
    "        for _ in range(-step):\n",
    "            current = balloon[current][0]\n",
    "\n",
    "\n",
    "def solution():\n",
    "    bomb(0)\n",
    "    move(memos[0])\n",
    "    while len(answer) < n:\n",
    "        bomb(current)\n",
    "        move(memos[current])\n",
    "    print(*answer)\n",
    "\n",
    "\n",
    "solution()"
   ],
   "metadata": {
    "collapsed": false,
    "pycharm": {
     "name": "#%%\n"
    }
   }
  }
 ],
 "metadata": {
  "kernelspec": {
   "display_name": "Python 3",
   "language": "python",
   "name": "python3"
  },
  "language_info": {
   "codemirror_mode": {
    "name": "ipython",
    "version": 2
   },
   "file_extension": ".py",
   "mimetype": "text/x-python",
   "name": "python",
   "nbconvert_exporter": "python",
   "pygments_lexer": "ipython2",
   "version": "2.7.6"
  }
 },
 "nbformat": 4,
 "nbformat_minor": 0
}