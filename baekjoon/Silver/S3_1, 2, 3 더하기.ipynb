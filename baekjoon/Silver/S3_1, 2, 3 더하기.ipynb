{
 "cells": [
  {
   "cell_type": "markdown",
   "id": "scientific-hanging",
   "metadata": {},
   "source": [
    "### https://latte-is-horse.tistory.com/251\n",
    "https://www.acmicpc.net/problem/9095"
   ]
  },
  {
   "cell_type": "code",
   "execution_count": 5,
   "id": "aggressive-stockholm",
   "metadata": {
    "scrolled": true
   },
   "outputs": [
    {
     "name": "stdout",
     "output_type": "stream",
     "text": [
      "3\n",
      "4\n",
      "7\n",
      "7\n",
      "44\n",
      "10\n",
      "274\n"
     ]
    }
   ],
   "source": [
    "t = int(input())\n",
    "d = [0] * 11\n",
    "d[0], d[1], d[2] = 1, 1, 2\n",
    "for i in range(3, 11):\n",
    "    d[i] = d[i-1] + d[i-2] + d[i-3]\n",
    "for _ in range(t):\n",
    "    print(d[int(input())])"
   ]
  }
 ],
 "metadata": {
  "kernelspec": {
   "display_name": "Python 3",
   "language": "python",
   "name": "python3"
  },
  "language_info": {
   "codemirror_mode": {
    "name": "ipython",
    "version": 3
   },
   "file_extension": ".py",
   "mimetype": "text/x-python",
   "name": "python",
   "nbconvert_exporter": "python",
   "pygments_lexer": "ipython3",
   "version": "3.8.5"
  }
 },
 "nbformat": 4,
 "nbformat_minor": 5
}
