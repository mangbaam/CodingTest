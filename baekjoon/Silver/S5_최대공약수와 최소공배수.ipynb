{
 "cells": [
  {
   "cell_type": "markdown",
   "id": "broadband-september",
   "metadata": {},
   "source": [
    "https://www.acmicpc.net/problem/2609"
   ]
  },
  {
   "cell_type": "code",
   "execution_count": 2,
   "id": "chicken-shareware",
   "metadata": {
    "scrolled": true
   },
   "outputs": [
    {
     "name": "stdout",
     "output_type": "stream",
     "text": [
      "24 18\n",
      "6\n",
      "72\n"
     ]
    }
   ],
   "source": [
    "from math import gcd\n",
    "a, b = map(int, input().split())\n",
    "print(gcd(a,b))\n",
    "print(a*b//gcd(a,b))"
   ]
  },
  {
   "cell_type": "code",
   "execution_count": 4,
   "id": "affiliated-lightning",
   "metadata": {},
   "outputs": [
    {
     "name": "stdout",
     "output_type": "stream",
     "text": [
      "24 18\n",
      "6\n",
      "72\n"
     ]
    }
   ],
   "source": [
    "gcd = lambda a, b: a if not b else gcd(b, a%b)\n",
    "a, b = map(int, input().split())\n",
    "print(gcd(a,b))\n",
    "print(a*b//gcd(a,b))"
   ]
  }
 ],
 "metadata": {
  "kernelspec": {
   "display_name": "Python 3",
   "language": "python",
   "name": "python3"
  },
  "language_info": {
   "codemirror_mode": {
    "name": "ipython",
    "version": 3
   },
   "file_extension": ".py",
   "mimetype": "text/x-python",
   "name": "python",
   "nbconvert_exporter": "python",
   "pygments_lexer": "ipython3",
   "version": "3.8.5"
  }
 },
 "nbformat": 4,
 "nbformat_minor": 5
}
