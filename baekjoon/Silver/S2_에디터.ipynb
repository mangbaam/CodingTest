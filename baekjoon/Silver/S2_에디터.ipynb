{
 "cells": [
  {
   "cell_type": "markdown",
   "source": [
    "https://www.acmicpc.net/problem/1406"
   ],
   "metadata": {
    "collapsed": false,
    "pycharm": {
     "name": "#%% md\n"
    }
   }
  },
  {
   "cell_type": "code",
   "execution_count": 19,
   "outputs": [
    {
     "name": "stdout",
     "output_type": "stream",
     "text": [
      "start: 0, end: 4, cursor init: 4\n",
      "dmi 3\n",
      "dm 2\n",
      "dmx 3\n",
      "dmx 2\n",
      "dx 1\n",
      "x 0\n",
      "x 0\n",
      "yx 1\n",
      "yx 2\n",
      "yx 3\n",
      "yxz 4\n",
      "yxz\n"
     ]
    }
   ],
   "source": [
    "word = input()\n",
    "start, end = 0, len(word)\n",
    "cursor = end\n",
    "for _ in range(int(input())):\n",
    "    cmd = input().split()\n",
    "    if cmd[0] == 'L' and start < cursor:\n",
    "        cursor -= 1\n",
    "    elif cmd[0] == 'D' and end > cursor:\n",
    "        cursor += 1\n",
    "    elif cmd[0] == 'B' and start < cursor:\n",
    "        word = word[:cursor - 1] + word[cursor:]\n",
    "        cursor -= 1\n",
    "    elif cmd[0] == 'P':\n",
    "        word = word[:cursor] + cmd[1] + word[cursor:]\n",
    "        cursor += 1\n",
    "print(word)"
   ],
   "metadata": {
    "collapsed": false,
    "pycharm": {
     "name": "#%%\n"
    }
   }
  },
  {
   "cell_type": "code",
   "execution_count": 30,
   "outputs": [
    {
     "name": "stdout",
     "output_type": "stream",
     "text": [
      "abcd123\n"
     ]
    }
   ],
   "source": [
    "from collections import deque\n",
    "\n",
    "q1, q2 = deque(input()), deque()\n",
    "for _ in range(int(input())):\n",
    "    cmd = input().split()\n",
    "    if cmd[0] == 'L':\n",
    "        if q1: q2.appendleft(q1.pop())\n",
    "    elif cmd[0] == 'D':\n",
    "        if q2: q1.append(q2.popleft())\n",
    "    elif cmd[0] == 'B':\n",
    "        if q1: q1.pop()\n",
    "    elif cmd[0] == 'P':\n",
    "        q1.append(cmd[1])\n",
    "print(''.join(q1) + ''.join(q2))"
   ],
   "metadata": {
    "collapsed": false,
    "pycharm": {
     "name": "#%%\n"
    }
   }
  }
 ],
 "metadata": {
  "kernelspec": {
   "display_name": "Python 3",
   "language": "python",
   "name": "python3"
  },
  "language_info": {
   "codemirror_mode": {
    "name": "ipython",
    "version": 2
   },
   "file_extension": ".py",
   "mimetype": "text/x-python",
   "name": "python",
   "nbconvert_exporter": "python",
   "pygments_lexer": "ipython2",
   "version": "2.7.6"
  }
 },
 "nbformat": 4,
 "nbformat_minor": 0
}