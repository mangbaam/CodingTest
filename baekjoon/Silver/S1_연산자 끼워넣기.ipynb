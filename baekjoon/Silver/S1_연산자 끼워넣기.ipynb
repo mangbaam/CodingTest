{
 "cells": [
  {
   "cell_type": "markdown",
   "id": "muslim-scientist",
   "metadata": {},
   "source": [
    "https://www.acmicpc.net/problem/14888"
   ]
  },
  {
   "cell_type": "code",
   "execution_count": 30,
   "id": "inner-allah",
   "metadata": {},
   "outputs": [
    {
     "name": "stdout",
     "output_type": "stream",
     "text": [
      "6\n",
      "1 2 3 4 5 6\n",
      "2 1 1 1\n",
      "54\n",
      "-24\n"
     ]
    }
   ],
   "source": [
    "max_num, min_num = -(10e+9), 10e+9\n",
    "\n",
    "n = int(input())\n",
    "nums = [0] + list(map(int, input().split()))\n",
    "operators = [0] + list(map(int, input().split()))\n",
    "order = [0] + [0] * (n-1)\n",
    "\n",
    "def calc():\n",
    "    result = nums[1]\n",
    "    for i in range(1, n):\n",
    "        if order[i] == 1: # '+'\n",
    "            result += nums[i+1]\n",
    "        elif order[i] == 2: # '-'\n",
    "            result -= nums[i+1]\n",
    "        elif order[i] == 3: # '*'\n",
    "            result *= nums[i+1]\n",
    "        elif order[i] == 4: # '/'\n",
    "            result = result // nums[i+1] if result >= 0 else -(-result // nums[i+1])\n",
    "    return result\n",
    "\n",
    "# order[1...n-1] : 연산자들 순서대로 저장\n",
    "def rec_fun(k):\n",
    "    if k == n:\n",
    "        result = calc()\n",
    "        global max_num, min_num\n",
    "        max_num = max(max_num, result)\n",
    "        min_num = min(min_num, result)\n",
    "    else:\n",
    "        for cand in range(1, 5):\n",
    "            if operators[cand] >= 1:\n",
    "                operators[cand] -= 1\n",
    "                order[k] = cand\n",
    "                rec_fun(k+1)\n",
    "                operators[cand] += 1\n",
    "                order[k] = 0\n",
    "        \n",
    "        \n",
    "def solution():    \n",
    "    rec_fun(1)\n",
    "    print(max_num)\n",
    "    print(min_num)\n",
    "    \n",
    "solution()"
   ]
  },
  {
   "cell_type": "code",
   "execution_count": 4,
   "id": "distant-coalition",
   "metadata": {},
   "outputs": [
    {
     "name": "stdout",
     "output_type": "stream",
     "text": [
      "6\n",
      "1 2 3 4 5 6\n",
      "2 1 1 1\n",
      "54\n",
      "-24\n"
     ]
    }
   ],
   "source": [
    "max_num, min_num = -(10e+9), 10e+9\n",
    "\n",
    "n = int(input())\n",
    "nums = [0] + list(map(int, input().split()))\n",
    "operators = [0] + list(map(int, input().split()))\n",
    "order = [0] + [0] * (n-1)\n",
    "\n",
    "def calc(num1, op, num2):\n",
    "    if (op == 1):\n",
    "        return num1 + num2\n",
    "    elif (op == 2):\n",
    "        return num1 - num2\n",
    "    elif (op == 3):\n",
    "        return num1 * num2\n",
    "    elif (op == 4):\n",
    "        return num1 // num2 if num1 >= 0 else -(-num1 // num2)\n",
    "\n",
    "# order[1...n-1] : 연산자들 순서대로 저장\n",
    "def rec_fun(k, value):\n",
    "    if k == n:\n",
    "        global max_num, min_num\n",
    "        max_num = max(max_num, value)\n",
    "        min_num = min(min_num, value)\n",
    "    else:\n",
    "        for cand in range(1, 5):\n",
    "            if operators[cand] >= 1:\n",
    "                operators[cand] -= 1\n",
    "                order[k] = cand\n",
    "                rec_fun(k+1, calc(value, cand, nums[k+1]))\n",
    "                operators[cand] += 1\n",
    "                order[k] = 0\n",
    "        \n",
    "def solution():    \n",
    "    rec_fun(1, nums[1])\n",
    "    print(max_num)\n",
    "    print(min_num)\n",
    "    \n",
    "solution()"
   ]
  },
  {
   "cell_type": "code",
   "execution_count": 6,
   "id": "underlying-ireland",
   "metadata": {},
   "outputs": [
    {
     "name": "stdout",
     "output_type": "stream",
     "text": [
      "6\n",
      "1 2 3 4 5 6\n",
      "2 1 1 1\n",
      "54\n",
      "-24\n"
     ]
    }
   ],
   "source": [
    "max_num, min_num = -(10e+9), 10e+9\n",
    "\n",
    "n = int(input())\n",
    "nums = [0] + list(map(int, input().split()))\n",
    "operators = [0] + list(map(int, input().split()))\n",
    "\n",
    "def calc(num1, op, num2):\n",
    "    if (op == 1):\n",
    "        return num1 + num2\n",
    "    elif (op == 2):\n",
    "        return num1 - num2\n",
    "    elif (op == 3):\n",
    "        return num1 * num2\n",
    "    elif (op == 4):\n",
    "        return num1 // num2 if num1 >= 0 else -(-num1 // num2)\n",
    "\n",
    "def rec_fun(k, value):\n",
    "    if k == n:\n",
    "        global max_num, min_num\n",
    "        max_num = max(max_num, value)\n",
    "        min_num = min(min_num, value)\n",
    "    else:\n",
    "        for cand in range(1, 5):\n",
    "            if operators[cand] >= 1:\n",
    "                operators[cand] -= 1\n",
    "                rec_fun(k+1, calc(value, cand, nums[k+1]))\n",
    "                operators[cand] += 1\n",
    "        \n",
    "def solution():    \n",
    "    rec_fun(1, nums[1])\n",
    "    print(max_num)\n",
    "    print(min_num)\n",
    "    \n",
    "solution()"
   ]
  },
  {
   "cell_type": "code",
   "execution_count": null,
   "id": "productive-register",
   "metadata": {},
   "outputs": [],
   "source": []
  }
 ],
 "metadata": {
  "kernelspec": {
   "display_name": "Python 3",
   "language": "python",
   "name": "python3"
  },
  "language_info": {
   "codemirror_mode": {
    "name": "ipython",
    "version": 3
   },
   "file_extension": ".py",
   "mimetype": "text/x-python",
   "name": "python",
   "nbconvert_exporter": "python",
   "pygments_lexer": "ipython3",
   "version": "3.8.5"
  }
 },
 "nbformat": 4,
 "nbformat_minor": 5
}
