{
 "cells": [
  {
   "cell_type": "markdown",
   "source": [
    "https://www.acmicpc.net/problem/1495"
   ],
   "metadata": {
    "collapsed": false,
    "pycharm": {
     "name": "#%% md\n"
    }
   }
  },
  {
   "cell_type": "code",
   "execution_count": 1,
   "outputs": [
    {
     "name": "stdout",
     "output_type": "stream",
     "text": [
      "10\n"
     ]
    }
   ],
   "source": [
    "n, s, m = map(int, input().split())\n",
    "volume = list(map(int, input().split()))\n",
    "d = [[0] * (m + 1) for _ in range(n + 1)]\n",
    "d[0][s] = 1\n",
    "\n",
    "for i in range(n):\n",
    "    for j in range(m + 1):\n",
    "        if d[i][j] == 1:\n",
    "            if j + volume[i] <= m:\n",
    "                d[i + 1][j + volume[i]] = 1\n",
    "            if j - volume[i] >= 0:\n",
    "                d[i + 1][j - volume[i]] = 1\n",
    "\n",
    "try: print(m - d[n][::-1].index(1))\n",
    "except: print(-1)"
   ],
   "metadata": {
    "collapsed": false,
    "pycharm": {
     "name": "#%%\n"
    }
   }
  }
 ],
 "metadata": {
  "kernelspec": {
   "display_name": "Python 3",
   "language": "python",
   "name": "python3"
  },
  "language_info": {
   "codemirror_mode": {
    "name": "ipython",
    "version": 2
   },
   "file_extension": ".py",
   "mimetype": "text/x-python",
   "name": "python",
   "nbconvert_exporter": "python",
   "pygments_lexer": "ipython2",
   "version": "2.7.6"
  }
 },
 "nbformat": 4,
 "nbformat_minor": 0
}