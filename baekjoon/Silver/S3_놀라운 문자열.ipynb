{
 "cells": [
  {
   "cell_type": "markdown",
   "source": [
    "https://www.acmicpc.net/problem/1972"
   ],
   "metadata": {
    "collapsed": false,
    "pycharm": {
     "name": "#%% md\n"
    }
   }
  },
  {
   "cell_type": "code",
   "execution_count": 2,
   "outputs": [
    {
     "name": "stdout",
     "output_type": "stream",
     "text": [
      "ZGBG is surprising.\n",
      "X is surprising.\n",
      "EE is surprising.\n",
      "AAB is surprising.\n",
      "AABA is surprising.\n",
      "AB is NOT surprising.\n",
      "BC is NOT surprising.\n"
     ]
    }
   ],
   "source": [
    "while True:\n",
    "    s = input()\n",
    "    if s == '*': break\n",
    "    for d in range(1, len(s) - 1):\n",
    "        check = set()\n",
    "        for i in range(len(s) - d):\n",
    "            tmp = s[i] + s[i + d]\n",
    "            if tmp in check:\n",
    "                print(f'{s} is NOT surprising.')\n",
    "                break\n",
    "            else:\n",
    "                check.add(tmp)\n",
    "        else: continue\n",
    "        break\n",
    "    else: print(f'{s} is surprising.')"
   ],
   "metadata": {
    "collapsed": false,
    "pycharm": {
     "name": "#%%\n"
    }
   }
  }
 ],
 "metadata": {
  "kernelspec": {
   "display_name": "Python 3",
   "language": "python",
   "name": "python3"
  },
  "language_info": {
   "codemirror_mode": {
    "name": "ipython",
    "version": 2
   },
   "file_extension": ".py",
   "mimetype": "text/x-python",
   "name": "python",
   "nbconvert_exporter": "python",
   "pygments_lexer": "ipython2",
   "version": "2.7.6"
  }
 },
 "nbformat": 4,
 "nbformat_minor": 0
}