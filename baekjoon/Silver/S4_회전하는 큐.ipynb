{
 "cells": [
  {
   "cell_type": "markdown",
   "source": [
    "https://www.acmicpc.net/problem/1021"
   ],
   "metadata": {
    "collapsed": false,
    "pycharm": {
     "name": "#%% md\n"
    }
   }
  },
  {
   "cell_type": "code",
   "execution_count": 2,
   "outputs": [
    {
     "name": "stdout",
     "output_type": "stream",
     "text": [
      "59\n"
     ]
    }
   ],
   "source": [
    "from collections import deque\n",
    "\n",
    "n, m = map(int, input().split())\n",
    "find = list(map(int, input().split()))\n",
    "q = deque(range(1, n + 1))\n",
    "answer = 0\n",
    "\n",
    "for num in find:\n",
    "    i = q.index(num)\n",
    "    if i < len(q) - i:\n",
    "        while True:\n",
    "            if q[0] == num:\n",
    "                q.popleft()\n",
    "                break\n",
    "            else:\n",
    "                q.append(q.popleft())\n",
    "                answer += 1\n",
    "    else:\n",
    "        while True:\n",
    "            if q[0] == num:\n",
    "                q.popleft()\n",
    "                break\n",
    "            else:\n",
    "                q.appendleft(q.pop())\n",
    "                answer += 1\n",
    "print(answer)"
   ],
   "metadata": {
    "collapsed": false,
    "pycharm": {
     "name": "#%%\n"
    }
   }
  }
 ],
 "metadata": {
  "kernelspec": {
   "display_name": "Python 3",
   "language": "python",
   "name": "python3"
  },
  "language_info": {
   "codemirror_mode": {
    "name": "ipython",
    "version": 2
   },
   "file_extension": ".py",
   "mimetype": "text/x-python",
   "name": "python",
   "nbconvert_exporter": "python",
   "pygments_lexer": "ipython2",
   "version": "2.7.6"
  }
 },
 "nbformat": 4,
 "nbformat_minor": 0
}