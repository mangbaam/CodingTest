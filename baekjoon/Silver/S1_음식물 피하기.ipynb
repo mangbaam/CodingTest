{
 "cells": [
  {
   "cell_type": "markdown",
   "source": [
    "https://www.acmicpc.net/problem/1743"
   ],
   "metadata": {
    "collapsed": false,
    "pycharm": {
     "name": "#%% md\n"
    }
   }
  },
  {
   "cell_type": "code",
   "execution_count": 4,
   "outputs": [
    {
     "name": "stdout",
     "output_type": "stream",
     "text": [
      "4\n"
     ]
    }
   ],
   "source": [
    "from collections import deque\n",
    "n, m, k = map(int, input().split())\n",
    "trash = [[False] * m for _ in range(n)]\n",
    "for _ in range(k):\n",
    "    tx, ty = map(int, input().split())\n",
    "    trash[tx - 1][ty - 1] = True\n",
    "visited = [[False] * m for _ in range(n)]\n",
    "d = [(-1, 0), (1, 0), (0, -1), (0, 1)]\n",
    "\n",
    "def bfs(x, y):\n",
    "    q = deque([(x, y)])\n",
    "    size = 0\n",
    "    while q:\n",
    "        cx, cy = q.popleft()\n",
    "        for i in range(4):\n",
    "            nx, ny = cx + d[i][0], cy + d[i][1]\n",
    "            if nx in range(n) and ny in range(m) and not visited[nx][ny] and trash[nx][ny]:\n",
    "                size += 1\n",
    "                visited[nx][ny] = True\n",
    "                q.append((nx, ny))\n",
    "    return size\n",
    "\n",
    "answer = 0\n",
    "for i in range(n):\n",
    "    for j in range(m):\n",
    "        if trash[i][j] and not visited[i][j]:\n",
    "            answer = max(answer, bfs(i, j))\n",
    "\n",
    "print(answer)"
   ],
   "metadata": {
    "collapsed": false,
    "pycharm": {
     "name": "#%%\n"
    }
   }
  }
 ],
 "metadata": {
  "kernelspec": {
   "display_name": "Python 3",
   "language": "python",
   "name": "python3"
  },
  "language_info": {
   "codemirror_mode": {
    "name": "ipython",
    "version": 2
   },
   "file_extension": ".py",
   "mimetype": "text/x-python",
   "name": "python",
   "nbconvert_exporter": "python",
   "pygments_lexer": "ipython2",
   "version": "2.7.6"
  }
 },
 "nbformat": 4,
 "nbformat_minor": 0
}