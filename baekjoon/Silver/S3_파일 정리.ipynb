{
 "cells": [
  {
   "cell_type": "markdown",
   "metadata": {
    "collapsed": true,
    "pycharm": {
     "name": "#%% md\n"
    }
   },
   "source": [
    "https://www.acmicpc.net/problem/20291"
   ]
  },
  {
   "cell_type": "code",
   "execution_count": 6,
   "outputs": [
    {
     "name": "stdout",
     "output_type": "stream",
     "text": [
      "files: [('icpc', 2), ('spc', 2), ('txt', 3), ('world', 1)]\n",
      "icpc 2\n",
      "spc 2\n",
      "txt 3\n",
      "world 1\n"
     ]
    }
   ],
   "source": [
    "n = int(input())\n",
    "files = dict()\n",
    "for _ in range(n):\n",
    "    file = input().split('.')[1]\n",
    "    try:\n",
    "        files[file] += 1\n",
    "    except:\n",
    "        files[file] = 1\n",
    "files = sorted(files.items())\n",
    "\n",
    "for file in files:\n",
    "    print(file[0], file[1])"
   ],
   "metadata": {
    "collapsed": false,
    "pycharm": {
     "name": "#%%\n"
    }
   }
  }
 ],
 "metadata": {
  "kernelspec": {
   "display_name": "Python 3",
   "language": "python",
   "name": "python3"
  },
  "language_info": {
   "codemirror_mode": {
    "name": "ipython",
    "version": 2
   },
   "file_extension": ".py",
   "mimetype": "text/x-python",
   "name": "python",
   "nbconvert_exporter": "python",
   "pygments_lexer": "ipython2",
   "version": "2.7.6"
  }
 },
 "nbformat": 4,
 "nbformat_minor": 0
}