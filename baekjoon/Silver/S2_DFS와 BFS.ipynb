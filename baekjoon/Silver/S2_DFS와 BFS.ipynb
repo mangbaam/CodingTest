{
 "cells": [
  {
   "cell_type": "code",
   "execution_count": 16,
   "metadata": {
    "collapsed": true,
    "pycharm": {
     "name": "#%%\n"
    }
   },
   "outputs": [
    {
     "name": "stdout",
     "output_type": "stream",
     "text": [
      "1 2 4 3 \n",
      "1 2 3 4 "
     ]
    }
   ],
   "source": [
    "from collections import deque as queue\n",
    "\n",
    "n, m, v = 0, 0, 0\n",
    "arr, visited = [], []\n",
    "q = queue([])\n",
    "\n",
    "def dfs(x):\n",
    "    visited[x] = True\n",
    "    print(x, end=' ')\n",
    "    for i in arr[x]:\n",
    "        if not visited[i]:\n",
    "            visited[i] = True\n",
    "            dfs(i)\n",
    "\n",
    "def bfs():\n",
    "    q.append(v)\n",
    "    while q:\n",
    "        x = q.popleft()\n",
    "        visited[x] = True\n",
    "        print(x, end=' ')\n",
    "        for i in arr[x]:\n",
    "            if not visited[i]:\n",
    "                visited[i] = True\n",
    "                q.append(i)\n",
    "\n",
    "def user_input():\n",
    "    global n, m, v, arr\n",
    "\n",
    "    n, m, v = map(int, input().split())\n",
    "    arr = [set() for _ in range(n + 1)]\n",
    "\n",
    "    # arr 입력\n",
    "    for _ in range(m):\n",
    "        a, b = map(int, input().split())\n",
    "        arr[a].add(b)\n",
    "        arr[b].add(a)\n",
    "\n",
    "    # arr 정렬\n",
    "    for i in range(n + 1):\n",
    "        arr[i] = sorted(arr[i])\n",
    "\n",
    "def solution():\n",
    "    global arr, visited\n",
    "\n",
    "    user_input()\n",
    "\n",
    "    visited = [False] * (n + 1)\n",
    "    dfs(v)\n",
    "\n",
    "    print()\n",
    "\n",
    "    visited = [False] * (n + 1)\n",
    "    bfs()\n",
    "\n",
    "solution()"
   ]
  }
 ],
 "metadata": {
  "kernelspec": {
   "display_name": "Python 3",
   "language": "python",
   "name": "python3"
  },
  "language_info": {
   "codemirror_mode": {
    "name": "ipython",
    "version": 2
   },
   "file_extension": ".py",
   "mimetype": "text/x-python",
   "name": "python",
   "nbconvert_exporter": "python",
   "pygments_lexer": "ipython2",
   "version": "2.7.6"
  }
 },
 "nbformat": 4,
 "nbformat_minor": 0
}