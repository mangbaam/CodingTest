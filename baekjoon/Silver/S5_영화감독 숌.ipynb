{
 "cells": [
  {
   "cell_type": "code",
   "execution_count": 25,
   "id": "veterinary-tongue",
   "metadata": {},
   "outputs": [
    {
     "name": "stdout",
     "output_type": "stream",
     "text": [
      "10000\n",
      "2666799\n"
     ]
    }
   ],
   "source": [
    "hell = set()\n",
    "num = 666\n",
    "while len(hell) < 10000:\n",
    "    if \"666\" in str(num):\n",
    "        hell.add(num)\n",
    "    num += 1\n",
    "n = int(input())\n",
    "print(sorted(list(hell))[n-1])"
   ]
  }
 ],
 "metadata": {
  "kernelspec": {
   "display_name": "Python 3",
   "language": "python",
   "name": "python3"
  },
  "language_info": {
   "codemirror_mode": {
    "name": "ipython",
    "version": 3
   },
   "file_extension": ".py",
   "mimetype": "text/x-python",
   "name": "python",
   "nbconvert_exporter": "python",
   "pygments_lexer": "ipython3",
   "version": "3.8.5"
  }
 },
 "nbformat": 4,
 "nbformat_minor": 5
}
