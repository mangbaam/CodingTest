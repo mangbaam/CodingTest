{
 "cells": [
  {
   "cell_type": "markdown",
   "source": [
    "## https://latte-is-horse.tistory.com/334\n",
    "https://www.acmicpc.net/problem/1149"
   ],
   "metadata": {
    "collapsed": false,
    "pycharm": {
     "name": "#%% md\n"
    }
   }
  },
  {
   "cell_type": "markdown",
   "source": [
    "### 정답 코드 (DP 풀이)"
   ],
   "metadata": {
    "collapsed": false,
    "pycharm": {
     "name": "#%% md\n"
    }
   }
  },
  {
   "cell_type": "code",
   "execution_count": 16,
   "outputs": [
    {
     "name": "stdout",
     "output_type": "stream",
     "text": [
      "208\n"
     ]
    }
   ],
   "source": [
    "n = int(input())\n",
    "d = [list(map(int, input().split())) for _ in range(n)]\n",
    "for i in range(1, n):\n",
    "    d[i][0] += min(d[i - 1][1], d[i - 1][2])\n",
    "    d[i][1] += min(d[i - 1][0], d[i - 1][2])\n",
    "    d[i][2] += min(d[i - 1][0], d[i - 1][1])\n",
    "print(min(d[n - 1][0], d[n - 1][1], d[n - 1][2]))"
   ],
   "metadata": {
    "collapsed": false,
    "pycharm": {
     "name": "#%%\n"
    }
   }
  },
  {
   "cell_type": "markdown",
   "source": [
    "### 시간 초과(재귀 + 백트래킹 풀이)"
   ],
   "metadata": {
    "collapsed": false,
    "pycharm": {
     "name": "#%% md\n"
    }
   }
  },
  {
   "cell_type": "code",
   "execution_count": null,
   "outputs": [],
   "source": [
    "import sys\n",
    "\n",
    "sys.setrecursionlimit(10 ** 4)\n",
    "\n",
    "\n",
    "def rec_fun(r, ci, total):\n",
    "    global answer\n",
    "    if r == n:\n",
    "        answer = min(answer, total)\n",
    "        return\n",
    "    for i in range(3):\n",
    "        if i == ci: continue\n",
    "        rec_fun(r + 1, i, total + costs[r][ci])\n",
    "\n",
    "\n",
    "n = int(input())\n",
    "costs = [list(map(int, input().split())) for _ in range(n)]\n",
    "answer = 10 ** 9\n",
    "for i in range(3):\n",
    "    rec_fun(0, i, 0)\n",
    "print(answer)"
   ],
   "metadata": {
    "collapsed": false,
    "pycharm": {
     "name": "#%%\n"
    }
   }
  }
 ],
 "metadata": {
  "kernelspec": {
   "display_name": "Python 3",
   "language": "python",
   "name": "python3"
  },
  "language_info": {
   "codemirror_mode": {
    "name": "ipython",
    "version": 2
   },
   "file_extension": ".py",
   "mimetype": "text/x-python",
   "name": "python",
   "nbconvert_exporter": "python",
   "pygments_lexer": "ipython2",
   "version": "2.7.6"
  }
 },
 "nbformat": 4,
 "nbformat_minor": 0
}