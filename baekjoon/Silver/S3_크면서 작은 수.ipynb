{
 "cells": [
  {
   "cell_type": "markdown",
   "source": [
    "https://www.acmicpc.net/problem/2992"
   ],
   "metadata": {
    "collapsed": false,
    "pycharm": {
     "name": "#%% md\n"
    }
   }
  },
  {
   "cell_type": "code",
   "execution_count": 19,
   "outputs": [
    {
     "name": "stdout",
     "output_type": "stream",
     "text": [
      "['11277', '11727', '11772', '12177', '12717', '12771', '17127', '17172', '17217', '17271', '17712', '17721', '21177', '21717', '21771', '27117', '27171', '27711', '71127', '71172', '71217', '71271', '71712', '71721', '72117', '72171', '72711', '77112', '77121', '77211']\n"
     ]
    }
   ],
   "source": [
    "from itertools import permutations\n",
    "n = input()\n",
    "permu = (sorted(set(map(lambda x: ''.join(x), permutations(n, len(n))))))\n",
    "print(permu)"
   ],
   "metadata": {
    "collapsed": false,
    "pycharm": {
     "name": "#%%\n"
    }
   }
  }
 ],
 "metadata": {
  "kernelspec": {
   "display_name": "Python 3",
   "language": "python",
   "name": "python3"
  },
  "language_info": {
   "codemirror_mode": {
    "name": "ipython",
    "version": 2
   },
   "file_extension": ".py",
   "mimetype": "text/x-python",
   "name": "python",
   "nbconvert_exporter": "python",
   "pygments_lexer": "ipython2",
   "version": "2.7.6"
  }
 },
 "nbformat": 4,
 "nbformat_minor": 0
}