{
 "cells": [
  {
   "cell_type": "markdown",
   "source": [
    "https://www.acmicpc.net/problem/11725"
   ],
   "metadata": {
    "collapsed": false,
    "pycharm": {
     "name": "#%% md\n"
    }
   }
  },
  {
   "cell_type": "code",
   "execution_count": 10,
   "outputs": [
    {
     "name": "stdout",
     "output_type": "stream",
     "text": [
      "4\n",
      "6\n",
      "1\n",
      "3\n",
      "1\n",
      "4\n"
     ]
    }
   ],
   "source": [
    "# import sys\n",
    "# sys.setrecursionlimit(100001)\n",
    "# 백준에서 실행 시 재귀가 1000까지만 가능하기 때문에 늘려줘야 함\n",
    "\n",
    "n = int(input())\n",
    "arr = [[] for _ in range(n + 1)]\n",
    "visited = [False] * (n + 1)\n",
    "answer = [0] * (n + 1)\n",
    "for _ in range(n - 1):\n",
    "    a, b = map(int, input().split())\n",
    "    arr[a].append(b)\n",
    "    arr[b].append(a)\n",
    "\n",
    "\n",
    "def dfs(start):\n",
    "    if visited[start]: return\n",
    "    visited[start] = True\n",
    "    for x in arr[start]:\n",
    "        if not visited[x]:\n",
    "            answer[x] = start\n",
    "            dfs(x)\n",
    "\n",
    "dfs(1)\n",
    "for i in answer[2:]:\n",
    "    print(i)"
   ],
   "metadata": {
    "collapsed": false,
    "pycharm": {
     "name": "#%%\n"
    }
   }
  }
 ],
 "metadata": {
  "kernelspec": {
   "display_name": "Python 3",
   "language": "python",
   "name": "python3"
  },
  "language_info": {
   "codemirror_mode": {
    "name": "ipython",
    "version": 2
   },
   "file_extension": ".py",
   "mimetype": "text/x-python",
   "name": "python",
   "nbconvert_exporter": "python",
   "pygments_lexer": "ipython2",
   "version": "2.7.6"
  }
 },
 "nbformat": 4,
 "nbformat_minor": 0
}