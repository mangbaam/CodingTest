{
 "cells": [
  {
   "cell_type": "markdown",
   "source": [
    "https://www.acmicpc.net/problem/14426\n",
    "## [해설](https://latte-is-horse.tistory.com/363)"
   ],
   "metadata": {
    "collapsed": false,
    "pycharm": {
     "name": "#%% md\n"
    }
   }
  },
  {
   "cell_type": "markdown",
   "source": [
    "## 평범한 풀이"
   ],
   "metadata": {
    "collapsed": false,
    "pycharm": {
     "name": "#%% md\n"
    }
   }
  },
  {
   "cell_type": "code",
   "execution_count": 1,
   "outputs": [
    {
     "name": "stdout",
     "output_type": "stream",
     "text": [
      "7\n"
     ]
    }
   ],
   "source": [
    "n, m = map(int, input().split())\n",
    "words = [input() for _ in range(n)]\n",
    "test = [input() for _ in range(m)]\n",
    "answer = 0\n",
    "for i in range(m):\n",
    "    for j in range(n):\n",
    "        if words[j].startswith(test[i]):\n",
    "            answer += 1\n",
    "            break\n",
    "print(answer)"
   ],
   "metadata": {
    "collapsed": false,
    "pycharm": {
     "name": "#%%\n"
    }
   }
  },
  {
   "cell_type": "markdown",
   "source": [
    "## dict를 이용한 빠른 풀이"
   ],
   "metadata": {
    "collapsed": false,
    "pycharm": {
     "name": "#%% md\n"
    }
   }
  },
  {
   "cell_type": "code",
   "execution_count": 2,
   "outputs": [
    {
     "name": "stdout",
     "output_type": "stream",
     "text": [
      "7\n"
     ]
    }
   ],
   "source": [
    "import string\n",
    "\n",
    "n, m = map(int, input().split())\n",
    "words = {x: [] for x in string.ascii_lowercase}\n",
    "for _ in range(n):\n",
    "    word = input()\n",
    "    words[word[0]].append(word)\n",
    "test = sorted([input() for _ in range(m)])\n",
    "answer = 0\n",
    "for i in range(m):\n",
    "    for word in words[test[i][0]]:\n",
    "        if word.startswith(test[i]):\n",
    "            answer += 1\n",
    "            break\n",
    "print(answer)"
   ],
   "metadata": {
    "collapsed": false,
    "pycharm": {
     "name": "#%%\n"
    }
   }
  }
 ],
 "metadata": {
  "kernelspec": {
   "display_name": "Python 3",
   "language": "python",
   "name": "python3"
  },
  "language_info": {
   "codemirror_mode": {
    "name": "ipython",
    "version": 2
   },
   "file_extension": ".py",
   "mimetype": "text/x-python",
   "name": "python",
   "nbconvert_exporter": "python",
   "pygments_lexer": "ipython2",
   "version": "2.7.6"
  }
 },
 "nbformat": 4,
 "nbformat_minor": 0
}