{
 "cells": [
  {
   "cell_type": "markdown",
   "source": [
    "https://www.acmicpc.net/problem/1926"
   ],
   "metadata": {
    "collapsed": false,
    "pycharm": {
     "name": "#%% md\n"
    }
   }
  },
  {
   "cell_type": "code",
   "execution_count": 5,
   "outputs": [
    {
     "name": "stdout",
     "output_type": "stream",
     "text": [
      "4\n",
      "2\n",
      "1\n",
      "9\n",
      "4\n",
      "9\n"
     ]
    }
   ],
   "source": [
    "from collections import deque\n",
    "\n",
    "n, m = map(int, input().split())\n",
    "paper = [list(map(int, input().split())) for _ in range(n)]\n",
    "visited = [[False] * m for _ in range(n)]\n",
    "d = [(-1, 0), (1, 0), (0, -1), (0, 1)]\n",
    "\n",
    "\n",
    "def dfs(x, y):\n",
    "    q = deque([(x, y)])\n",
    "    size = 0\n",
    "    while q:\n",
    "        cx, cy = q.popleft()\n",
    "        for i in range(4):\n",
    "            nx, ny = cx + d[i][0], cy + d[i][1]\n",
    "            if nx in range(n) and ny in range(m) and paper[nx][ny] and not visited[nx][ny]:\n",
    "                size += 1\n",
    "                visited[nx][ny] = True\n",
    "                q.append((nx, ny))\n",
    "    return size if size else 1\n",
    "\n",
    "\n",
    "max_size = count = 0\n",
    "for i in range(n):\n",
    "    for j in range(m):\n",
    "        if paper[i][j] and not visited[i][j]:\n",
    "            count += 1\n",
    "            max_size = max(max_size, dfs(i, j))\n",
    "print(count)\n",
    "print(max_size)"
   ],
   "metadata": {
    "collapsed": false,
    "pycharm": {
     "name": "#%%\n"
    }
   }
  }
 ],
 "metadata": {
  "kernelspec": {
   "display_name": "Python 3",
   "language": "python",
   "name": "python3"
  },
  "language_info": {
   "codemirror_mode": {
    "name": "ipython",
    "version": 2
   },
   "file_extension": ".py",
   "mimetype": "text/x-python",
   "name": "python",
   "nbconvert_exporter": "python",
   "pygments_lexer": "ipython2",
   "version": "2.7.6"
  }
 },
 "nbformat": 4,
 "nbformat_minor": 0
}