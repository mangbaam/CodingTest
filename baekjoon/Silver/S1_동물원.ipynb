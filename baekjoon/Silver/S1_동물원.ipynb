{
 "cells": [
  {
   "cell_type": "markdown",
   "source": [
    "https://www.acmicpc.net/problem/1309"
   ],
   "metadata": {
    "collapsed": false,
    "pycharm": {
     "name": "#%% md\n"
    }
   }
  },
  {
   "cell_type": "code",
   "execution_count": 23,
   "outputs": [
    {
     "name": "stdout",
     "output_type": "stream",
     "text": [
      "41\n"
     ]
    }
   ],
   "source": [
    "d = [(0, 0, 1)]  # (왼쪽, 오른쪽, 아무것도)\n",
    "for i in range(1, int(input()) + 1):\n",
    "    left = (d[i - 1][1] + d[i - 1][2]) % 9901\n",
    "    right = (d[i - 1][0] + d[i - 1][2]) % 9901\n",
    "    none = (d[i - 1][0] + d[i - 1][1] + d[i - 1][2]) % 9901\n",
    "    d.append((left, right, none))\n",
    "print(sum(d[-1]) % 9901)"
   ],
   "metadata": {
    "collapsed": false,
    "pycharm": {
     "name": "#%%\n"
    }
   }
  }
 ],
 "metadata": {
  "kernelspec": {
   "display_name": "Python 3",
   "language": "python",
   "name": "python3"
  },
  "language_info": {
   "codemirror_mode": {
    "name": "ipython",
    "version": 2
   },
   "file_extension": ".py",
   "mimetype": "text/x-python",
   "name": "python",
   "nbconvert_exporter": "python",
   "pygments_lexer": "ipython2",
   "version": "2.7.6"
  }
 },
 "nbformat": 4,
 "nbformat_minor": 0
}