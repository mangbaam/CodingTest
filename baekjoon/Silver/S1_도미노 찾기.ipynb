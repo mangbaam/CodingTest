{
 "cells": [
  {
   "cell_type": "markdown",
   "source": [
    "https://www.acmicpc.net/problem/1553"
   ],
   "metadata": {
    "collapsed": false,
    "pycharm": {
     "name": "#%% md\n"
    }
   }
  },
  {
   "cell_type": "code",
   "execution_count": 16,
   "outputs": [
    {
     "name": "stdout",
     "output_type": "stream",
     "text": [
      "120\n"
     ]
    }
   ],
   "source": [
    "graph = [list(map(int, list(input()))) for _ in range(8)]\n",
    "visited = [[False] * 7 for _ in range(8)]\n",
    "domino = [[False] * 7 for _ in range(7)]\n",
    "\n",
    "\n",
    "def rec_fun(x, y):\n",
    "    if x == 8: return 1  # 탐색 완료\n",
    "    count = 0\n",
    "    nx, ny = x, y + 1  # 오른쪽으로 이동\n",
    "    if ny == 7:  # 오른쪽 끝이라면 개행\n",
    "        nx, ny = x + 1, 0\n",
    "    if visited[x][y]:\n",
    "        return rec_fun(nx, ny)  # 다음 위치로 이동\n",
    "    else:\n",
    "        now = graph[x][y]\n",
    "        visited[x][y] = True\n",
    "        for dx, dy in ((0, 1), (1, 0)):  # 오른쪽, 아래 확인\n",
    "            mx, my = x + dx, y + dy\n",
    "            if mx in range(8) and my in range(7):\n",
    "                pair = graph[mx][my]  # 오른쪽이나 아래 값\n",
    "\n",
    "                if not visited[mx][my] and not domino[now][pair]:  # 놓을 수 있고, 사용되지 않은 도미노\n",
    "                    domino[now][pair] = domino[pair][now] = True\n",
    "                    visited[mx][my] = True\n",
    "\n",
    "                    count += rec_fun(nx, ny)  # 다음 위치로 이동\n",
    "\n",
    "                    visited[mx][my] = False\n",
    "                    domino[now][pair] = domino[pair][now] = False\n",
    "\n",
    "        visited[x][y] = False\n",
    "        return count\n",
    "\n",
    "\n",
    "print(rec_fun(0, 0))  # start"
   ],
   "metadata": {
    "collapsed": false,
    "pycharm": {
     "name": "#%%\n"
    }
   }
  }
 ],
 "metadata": {
  "kernelspec": {
   "display_name": "Python 3",
   "language": "python",
   "name": "python3"
  },
  "language_info": {
   "codemirror_mode": {
    "name": "ipython",
    "version": 2
   },
   "file_extension": ".py",
   "mimetype": "text/x-python",
   "name": "python",
   "nbconvert_exporter": "python",
   "pygments_lexer": "ipython2",
   "version": "2.7.6"
  }
 },
 "nbformat": 4,
 "nbformat_minor": 0
}