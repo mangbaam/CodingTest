{
 "cells": [
  {
   "cell_type": "markdown",
   "source": [
    "https://www.acmicpc.net/problem/2178"
   ],
   "metadata": {
    "collapsed": false,
    "pycharm": {
     "name": "#%% md\n"
    }
   }
  },
  {
   "cell_type": "code",
   "execution_count": 16,
   "outputs": [
    {
     "name": "stdout",
     "output_type": "stream",
     "text": [
      "17\n"
     ]
    }
   ],
   "source": [
    "from collections import deque\n",
    "\n",
    "n, m = map(int, input().split())\n",
    "arr = [list(input()) for _ in range(n)]\n",
    "visited = [[False] * m for _ in range(n)]\n",
    "d = [(-1, 0), (1, 0), (0, -1), (0, 1)]\n",
    "\n",
    "\n",
    "def bfs(r, c, count):\n",
    "    queue = deque([(r, c, count)])\n",
    "\n",
    "    while queue:\n",
    "        x, y, cnt = queue.popleft()\n",
    "        if x == n - 1 and y == m - 1:\n",
    "            print(cnt)\n",
    "            break\n",
    "        for i in range(4):\n",
    "            nx, ny = x + d[i][0], y + d[i][1]\n",
    "            if nx in range(n) and ny in range(m) and arr[nx][ny] == '1' and not visited[nx][ny]:\n",
    "                visited[nx][ny] = True\n",
    "                queue.append((nx, ny, cnt + 1))\n",
    "\n",
    "\n",
    "bfs(0, 0, 1)"
   ],
   "metadata": {
    "collapsed": false,
    "pycharm": {
     "name": "#%%\n"
    }
   }
  }
 ],
 "metadata": {
  "kernelspec": {
   "display_name": "Python 3",
   "language": "python",
   "name": "python3"
  },
  "language_info": {
   "codemirror_mode": {
    "name": "ipython",
    "version": 2
   },
   "file_extension": ".py",
   "mimetype": "text/x-python",
   "name": "python",
   "nbconvert_exporter": "python",
   "pygments_lexer": "ipython2",
   "version": "2.7.6"
  }
 },
 "nbformat": 4,
 "nbformat_minor": 0
}