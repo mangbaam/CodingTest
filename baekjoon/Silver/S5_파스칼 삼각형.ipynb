{
 "cells": [
  {
   "cell_type": "markdown",
   "metadata": {
    "collapsed": true,
    "pycharm": {
     "name": "#%% md\n"
    }
   },
   "source": [
    "https://www.acmicpc.net/problem/15489"
   ]
  },
  {
   "cell_type": "code",
   "execution_count": 12,
   "outputs": [
    {
     "name": "stdout",
     "output_type": "stream",
     "text": [
      "42\n"
     ]
    }
   ],
   "source": [
    "r, c, w = map(int, input().split())\n",
    "d = [[1]]\n",
    "for i in range(1, 30):\n",
    "    tmp = [1]\n",
    "    for j in range(1, i):\n",
    "        tmp.append(d[i-1][j-1]+d[i-1][j])\n",
    "    tmp.append(1)\n",
    "    d.append(tmp)\n",
    "\n",
    "answer = 0\n",
    "for k in range(w):\n",
    "    answer += sum(d[r+k-1][c-1:c+k])\n",
    "print(answer)"
   ],
   "metadata": {
    "collapsed": false,
    "pycharm": {
     "name": "#%%\n"
    }
   }
  }
 ],
 "metadata": {
  "kernelspec": {
   "display_name": "Python 3",
   "language": "python",
   "name": "python3"
  },
  "language_info": {
   "codemirror_mode": {
    "name": "ipython",
    "version": 2
   },
   "file_extension": ".py",
   "mimetype": "text/x-python",
   "name": "python",
   "nbconvert_exporter": "python",
   "pygments_lexer": "ipython2",
   "version": "2.7.6"
  }
 },
 "nbformat": 4,
 "nbformat_minor": 0
}