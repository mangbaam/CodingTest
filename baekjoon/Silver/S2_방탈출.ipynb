{
 "cells": [
  {
   "cell_type": "markdown",
   "source": [
    "https://www.acmicpc.net/problem/15729"
   ],
   "metadata": {
    "collapsed": false,
    "pycharm": {
     "name": "#%% md\n"
    }
   }
  },
  {
   "cell_type": "code",
   "execution_count": 2,
   "outputs": [
    {
     "name": "stdout",
     "output_type": "stream",
     "text": [
      "2\n"
     ]
    }
   ],
   "source": [
    "n = int(input())\n",
    "light = list(map(int, input().split()))\n",
    "count = 0\n",
    "for i in range(n):\n",
    "    if light[i]:\n",
    "        count += 1\n",
    "        if i + 1 < n:\n",
    "            light[i + 1] ^= 1\n",
    "        if i + 2 < n:\n",
    "            light[i + 2] ^= 1\n",
    "print(count)"
   ],
   "metadata": {
    "collapsed": false,
    "pycharm": {
     "name": "#%%\n"
    }
   }
  },
  {
   "cell_type": "code",
   "execution_count": 1,
   "outputs": [
    {
     "name": "stdout",
     "output_type": "stream",
     "text": [
      "2\n"
     ]
    }
   ],
   "source": [
    "n = int(input())\n",
    "light = list(map(int, input().split()))\n",
    "total = sum(light)\n",
    "count = 0\n",
    "i = 0\n",
    "while i < n and total > 0:\n",
    "    if light[i]:\n",
    "        light[i] = 0\n",
    "        total -= 1\n",
    "        if i + 1 < n:\n",
    "            if light[i + 1]:\n",
    "                total -= 1\n",
    "                light[i + 1] = 0\n",
    "            else:\n",
    "                total += 1\n",
    "                light[i + 1] = 1\n",
    "        if i + 2 < n:\n",
    "            if light[i + 2]:\n",
    "                total -= 1\n",
    "                light[i + 2] = 0\n",
    "            else:\n",
    "                total += 1\n",
    "                light[i + 2] = 1\n",
    "        count += 1\n",
    "    i += 1\n",
    "print(count)"
   ],
   "metadata": {
    "collapsed": false,
    "pycharm": {
     "name": "#%%\n"
    }
   }
  }
 ],
 "metadata": {
  "kernelspec": {
   "display_name": "Python 3",
   "language": "python",
   "name": "python3"
  },
  "language_info": {
   "codemirror_mode": {
    "name": "ipython",
    "version": 2
   },
   "file_extension": ".py",
   "mimetype": "text/x-python",
   "name": "python",
   "nbconvert_exporter": "python",
   "pygments_lexer": "ipython2",
   "version": "2.7.6"
  }
 },
 "nbformat": 4,
 "nbformat_minor": 0
}