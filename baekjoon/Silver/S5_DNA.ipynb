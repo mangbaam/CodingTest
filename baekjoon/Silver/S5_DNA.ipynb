{
 "cells": [
  {
   "cell_type": "markdown",
   "source": [
    "https://www.acmicpc.net/problem/1969"
   ],
   "metadata": {
    "collapsed": false,
    "pycharm": {
     "name": "#%% md\n"
    }
   }
  },
  {
   "cell_type": "code",
   "execution_count": 4,
   "outputs": [
    {
     "name": "stdout",
     "output_type": "stream",
     "text": [
      "ACGTACGTAA\n",
      "6\n"
     ]
    }
   ],
   "source": [
    "n, m = map(int, input().split())\n",
    "dna = [input() for _ in range(n)]\n",
    "answer = \"\"\n",
    "hamming_distance = 0\n",
    "\n",
    "for i in range(m):\n",
    "    d = {'A': 0, 'C': 0, 'G': 0, 'T': 0} # 사전 순\n",
    "    for c in range(n):\n",
    "        d[dna[c][i]] += 1\n",
    "    max_count = max(d.values())\n",
    "    for a, count in d.items():\n",
    "        if count == max_count:\n",
    "            answer += a\n",
    "            hamming_distance += n - count\n",
    "            break\n",
    "print(answer)\n",
    "print(hamming_distance)"
   ],
   "metadata": {
    "collapsed": false,
    "pycharm": {
     "name": "#%%\n"
    }
   }
  }
 ],
 "metadata": {
  "kernelspec": {
   "display_name": "Python 3",
   "language": "python",
   "name": "python3"
  },
  "language_info": {
   "codemirror_mode": {
    "name": "ipython",
    "version": 2
   },
   "file_extension": ".py",
   "mimetype": "text/x-python",
   "name": "python",
   "nbconvert_exporter": "python",
   "pygments_lexer": "ipython2",
   "version": "2.7.6"
  }
 },
 "nbformat": 4,
 "nbformat_minor": 0
}