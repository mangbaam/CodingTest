{
 "cells": [
  {
   "cell_type": "code",
   "execution_count": 3,
   "outputs": [
    {
     "name": "stdout",
     "output_type": "stream",
     "text": [
      "*********\n",
      "*       *\n",
      "* ***** *\n",
      "* *   * *\n",
      "* * * * *\n",
      "* *   * *\n",
      "* ***** *\n",
      "*       *\n",
      "*********\n"
     ]
    }
   ],
   "source": [
    "from collections import deque\n",
    "n = int(input())\n",
    "answer = deque(['*'])\n",
    "def border():\n",
    "    global answer\n",
    "    w = len(answer[0])\n",
    "    answer = deque(map(lambda x: f'* {x} *', answer))\n",
    "    # 위에 추가\n",
    "    answer.appendleft('*'+' '*(w + 2)+'*')\n",
    "    answer.appendleft('*' * (w + 4))\n",
    "    # 아래 추가\n",
    "    answer.append('*'+' '*(w + 2)+'*')\n",
    "    answer.append('*' * (w + 4))\n",
    "\n",
    "for i in range(n - 1):\n",
    "    border()\n",
    "print(*answer, sep='\\n')"
   ],
   "metadata": {
    "collapsed": false,
    "pycharm": {
     "name": "#%%\n"
    }
   }
  }
 ],
 "metadata": {
  "kernelspec": {
   "display_name": "Python 3",
   "language": "python",
   "name": "python3"
  },
  "language_info": {
   "codemirror_mode": {
    "name": "ipython",
    "version": 2
   },
   "file_extension": ".py",
   "mimetype": "text/x-python",
   "name": "python",
   "nbconvert_exporter": "python",
   "pygments_lexer": "ipython2",
   "version": "2.7.6"
  }
 },
 "nbformat": 4,
 "nbformat_minor": 0
}