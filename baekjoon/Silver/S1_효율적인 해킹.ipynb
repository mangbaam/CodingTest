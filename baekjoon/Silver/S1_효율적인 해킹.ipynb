{
 "cells": [
  {
   "cell_type": "markdown",
   "metadata": {
    "collapsed": true,
    "pycharm": {
     "name": "#%% md\n"
    }
   },
   "source": [
    "https://www.acmicpc.net/problem/1325"
   ]
  },
  {
   "cell_type": "code",
   "execution_count": 10,
   "outputs": [
    {
     "name": "stdout",
     "output_type": "stream",
     "text": [
      "1 2 "
     ]
    }
   ],
   "source": [
    "from collections import deque\n",
    "import sys\n",
    "\n",
    "input = sys.stdin.readline\n",
    "\n",
    "answer = []\n",
    "max_hacked = 0\n",
    "\n",
    "# user_input\n",
    "n, m = map(int, input().split())\n",
    "arr = [list() for _ in range(n + 1)]\n",
    "for _ in range(m):\n",
    "    a, b = map(int, input().split())\n",
    "    arr[b].append(a)\n",
    "\n",
    "\n",
    "def bfs(start):\n",
    "    avail = 0\n",
    "    visited = [False] * (n + 1)\n",
    "    visited[start] = True\n",
    "    queue = deque([start])\n",
    "\n",
    "    while queue:\n",
    "        now = queue.popleft()\n",
    "        for computer in arr[now]:\n",
    "            if visited[computer]: continue\n",
    "            visited[computer] = True\n",
    "            avail += 1\n",
    "            queue.append(computer)\n",
    "\n",
    "    return avail\n",
    "\n",
    "\n",
    "def solution():\n",
    "    global max_hacked, answer\n",
    "\n",
    "    for i in range(1, n + 1):\n",
    "        hacked = bfs(i) # 해킹 가능한 컴퓨터 수\n",
    "\n",
    "        if hacked > max_hacked:\n",
    "            max_hacked = hacked\n",
    "            answer = [i]\n",
    "        elif hacked == max_hacked:\n",
    "            answer.append(i)\n",
    "\n",
    "    # 정답 출력\n",
    "    for com in answer:\n",
    "        print(com, end=' ')\n",
    "\n",
    "solution()"
   ],
   "metadata": {
    "collapsed": false,
    "pycharm": {
     "name": "#%%\n"
    }
   }
  }
 ],
 "metadata": {
  "kernelspec": {
   "display_name": "Python 3",
   "language": "python",
   "name": "python3"
  },
  "language_info": {
   "codemirror_mode": {
    "name": "ipython",
    "version": 2
   },
   "file_extension": ".py",
   "mimetype": "text/x-python",
   "name": "python",
   "nbconvert_exporter": "python",
   "pygments_lexer": "ipython2",
   "version": "2.7.6"
  }
 },
 "nbformat": 4,
 "nbformat_minor": 0
}