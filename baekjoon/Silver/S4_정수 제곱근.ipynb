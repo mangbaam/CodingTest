{
 "cells": [
  {
   "cell_type": "markdown",
   "source": [
    "https://www.acmicpc.net/problem/2417"
   ],
   "metadata": {
    "collapsed": false,
    "pycharm": {
     "name": "#%% md\n"
    }
   }
  },
  {
   "cell_type": "code",
   "execution_count": 20,
   "outputs": [
    {
     "name": "stdout",
     "output_type": "stream",
     "text": [
      "start: 0, end: 3037000500, mid: 1518500250\n",
      "mid_val: 2305843009250062500\n",
      "\n",
      "start: 0, end: 1518500249, mid: 759250124\n",
      "mid_val: 576460750794015376\n",
      "\n",
      "start: 0, end: 759250123, mid: 379625061\n",
      "mid_val: 144115186939253721\n",
      "\n",
      "start: 0, end: 379625060, mid: 189812530\n",
      "mid_val: 36028796545000900\n",
      "\n",
      "start: 0, end: 189812529, mid: 94906264\n",
      "mid_val: 9007198946437696\n",
      "\n",
      "start: 0, end: 94906263, mid: 47453131\n",
      "mid_val: 2251799641703161\n",
      "\n",
      "start: 0, end: 47453130, mid: 23726565\n",
      "mid_val: 562949886699225\n",
      "\n",
      "start: 0, end: 23726564, mid: 11863282\n",
      "mid_val: 140737459811524\n",
      "\n",
      "start: 0, end: 11863281, mid: 5931640\n",
      "mid_val: 35184353089600\n",
      "\n",
      "start: 0, end: 5931639, mid: 2965819\n",
      "mid_val: 8796082340761\n",
      "\n",
      "start: 0, end: 2965818, mid: 1482909\n",
      "mid_val: 2199019102281\n",
      "\n",
      "start: 0, end: 1482908, mid: 741454\n",
      "mid_val: 549754034116\n",
      "\n",
      "start: 0, end: 741453, mid: 370726\n",
      "mid_val: 137437767076\n",
      "\n",
      "start: 0, end: 370725, mid: 185362\n",
      "mid_val: 34359071044\n",
      "\n",
      "start: 0, end: 185361, mid: 92680\n",
      "mid_val: 8589582400\n",
      "\n",
      "start: 0, end: 92679, mid: 46339\n",
      "mid_val: 2147302921\n",
      "\n",
      "start: 0, end: 46338, mid: 23169\n",
      "mid_val: 536802561\n",
      "\n",
      "start: 0, end: 23168, mid: 11584\n",
      "mid_val: 134189056\n",
      "\n",
      "start: 0, end: 11583, mid: 5791\n",
      "mid_val: 33535681\n",
      "\n",
      "start: 0, end: 5790, mid: 2895\n",
      "mid_val: 8381025\n",
      "\n",
      "start: 0, end: 2894, mid: 1447\n",
      "mid_val: 2093809\n",
      "\n",
      "start: 0, end: 1446, mid: 723\n",
      "mid_val: 522729\n",
      "\n",
      "start: 0, end: 722, mid: 361\n",
      "mid_val: 130321\n",
      "\n",
      "start: 0, end: 360, mid: 180\n",
      "mid_val: 32400\n",
      "\n",
      "start: 0, end: 179, mid: 89\n",
      "mid_val: 7921\n",
      "\n",
      "start: 0, end: 88, mid: 44\n",
      "mid_val: 1936\n",
      "\n",
      "start: 0, end: 43, mid: 21\n",
      "mid_val: 441\n",
      "\n",
      "start: 22, end: 43, mid: 32\n",
      "mid_val: 1024\n",
      "\n",
      "start: 33, end: 43, mid: 38\n",
      "mid_val: 1444\n",
      "\n",
      "start: 33, end: 37, mid: 35\n",
      "mid_val: 1225\n",
      "\n",
      "start: 36, end: 37, mid: 36\n",
      "mid_val: 1296\n",
      "\n",
      "start: 37, end: 37\n",
      "answer:  38\n"
     ]
    }
   ],
   "source": [
    "n = int(input())\n",
    "start, end = 0, 3037000500\n",
    "suspend = False\n",
    "answer = 0\n",
    "while start < end:\n",
    "    mid = (start + end) // 2\n",
    "    print(f'start: {start}, end: {end}, mid: {mid}')\n",
    "    print(f'mid_val: {mid**2}\\n')\n",
    "    if mid ** 2 > n:\n",
    "        end = mid - 1\n",
    "    elif mid ** 2 < n:\n",
    "        start = mid + 1\n",
    "    else:\n",
    "        answer = mid\n",
    "        suspend = True\n",
    "        break\n",
    "\n",
    "if not suspend:\n",
    "    print(f'start: {start}, end: {end}')\n",
    "    answer = end + 1 if end*end < n else end\n",
    "print('answer: ', answer)"
   ],
   "metadata": {
    "collapsed": false,
    "pycharm": {
     "name": "#%%\n"
    }
   }
  },
  {
   "cell_type": "code",
   "execution_count": 15,
   "outputs": [
    {
     "data": {
      "text/plain": "1369"
     },
     "execution_count": 15,
     "metadata": {},
     "output_type": "execute_result"
    }
   ],
   "source": [
    "n = int(input())\n",
    "start, end = 0, 3037000500\n",
    "suspend = False\n",
    "answer = 0\n",
    "while start < end:\n",
    "    mid = (start + end) // 2\n",
    "    if mid ** 2 > n:\n",
    "        end = mid - 1\n",
    "    elif mid ** 2 < n:\n",
    "        start = mid + 1\n",
    "    else:\n",
    "        answer = mid\n",
    "        suspend = True\n",
    "        break\n",
    "\n",
    "if not suspend:\n",
    "    answer = end + 1 if end*end < n else end\n",
    "print(answer)"
   ],
   "metadata": {
    "collapsed": false,
    "pycharm": {
     "name": "#%%\n"
    }
   }
  },
  {
   "cell_type": "code",
   "execution_count": 21,
   "outputs": [
    {
     "data": {
      "text/plain": "3037000499.97605"
     },
     "execution_count": 21,
     "metadata": {},
     "output_type": "execute_result"
    }
   ],
   "source": [
    "(2**63)**(1/2)"
   ],
   "metadata": {
    "collapsed": false,
    "pycharm": {
     "name": "#%%\n"
    }
   }
  },
  {
   "cell_type": "code",
   "execution_count": null,
   "outputs": [],
   "source": [],
   "metadata": {
    "collapsed": false,
    "pycharm": {
     "name": "#%%\n"
    }
   }
  }
 ],
 "metadata": {
  "kernelspec": {
   "display_name": "Python 3",
   "language": "python",
   "name": "python3"
  },
  "language_info": {
   "codemirror_mode": {
    "name": "ipython",
    "version": 2
   },
   "file_extension": ".py",
   "mimetype": "text/x-python",
   "name": "python",
   "nbconvert_exporter": "python",
   "pygments_lexer": "ipython2",
   "version": "2.7.6"
  }
 },
 "nbformat": 4,
 "nbformat_minor": 0
}