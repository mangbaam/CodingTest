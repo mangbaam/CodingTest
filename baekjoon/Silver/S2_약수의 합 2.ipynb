{
 "cells": [
  {
   "cell_type": "markdown",
   "id": "accomplished-interstate",
   "metadata": {},
   "source": [
    "https://www.acmicpc.net/problem/17427"
   ]
  },
  {
   "cell_type": "markdown",
   "id": "express-symphony",
   "metadata": {},
   "source": [
    "### 시간 초과 CASE"
   ]
  },
  {
   "cell_type": "code",
   "execution_count": 14,
   "id": "polish-lesbian",
   "metadata": {},
   "outputs": [
    {
     "name": "stdout",
     "output_type": "stream",
     "text": [
      "70\n",
      "4065\n"
     ]
    }
   ],
   "source": [
    "def solution():\n",
    "    n = int(input())\n",
    "    li = [set() for _ in range(n+1)]\n",
    "    \n",
    "    for i in range(1, int(n**0.5)+1):\n",
    "        for j in range(i, n+1, i):\n",
    "            li[j].add(i)\n",
    "            li[j].add(j//i)\n",
    "    \n",
    "    answer = 0\n",
    "    for i in li[1:]:\n",
    "        answer += sum(i)\n",
    "    print(answer)\n",
    "    \n",
    "solution()"
   ]
  },
  {
   "cell_type": "code",
   "execution_count": 39,
   "id": "blond-closer",
   "metadata": {},
   "outputs": [
    {
     "name": "stdout",
     "output_type": "stream",
     "text": [
      "10000\n",
      "82256014\n"
     ]
    }
   ],
   "source": [
    "def solution():\n",
    "    n = int(input())\n",
    "    li = [0] * (n+1)\n",
    "    for i in range(2, int(n**0.5) + 1):\n",
    "        for j in range(i+i, n+1, i):\n",
    "            if i <= int(j**0.5):\n",
    "                if i*i == j:\n",
    "                    li[j] += i\n",
    "                else:\n",
    "                    li[j] += i + j//i                \n",
    "    print(sum(li) + sum(range(2, n+1)) + n)\n",
    "    \n",
    "solution()"
   ]
  },
  {
   "cell_type": "code",
   "execution_count": 55,
   "id": "reliable-premium",
   "metadata": {},
   "outputs": [
    {
     "name": "stdout",
     "output_type": "stream",
     "text": [
      "10000\n",
      "82256014\n"
     ]
    }
   ],
   "source": [
    "def get_divisor_sum(n):\n",
    "    total = 0\n",
    "    # print(f\"{n} 들어옴\")\n",
    "    for i in range(1, int(n**0.5)+1):\n",
    "        if n%i == 0:\n",
    "            total += sum(set([i, n//i]))\n",
    "            # print(set([i, n//i]))\n",
    "    return total\n",
    "\n",
    "def solution():\n",
    "    n = int(input())\n",
    "    answer = 0\n",
    "    for i in range(1, n+1):\n",
    "        answer += get_divisor_sum(i)\n",
    "    print(answer)\n",
    "    \n",
    "solution()"
   ]
  },
  {
   "cell_type": "code",
   "execution_count": 87,
   "id": "smoking-coordinate",
   "metadata": {},
   "outputs": [
    {
     "name": "stdout",
     "output_type": "stream",
     "text": [
      "17\n",
      "238\n"
     ]
    }
   ],
   "source": [
    "def solution():\n",
    "    n = int(input())\n",
    "    answer = 0\n",
    "    for i in range(1, int(n**0.5)+1):\n",
    "        for j in range(i*i, n+1, i):\n",
    "            if not j%i:\n",
    "                answer += sum(set([i, j//i]))\n",
    "    print(answer)\n",
    "\n",
    "solution()"
   ]
  },
  {
   "cell_type": "markdown",
   "id": "vanilla-terry",
   "metadata": {},
   "source": [
    "### 성공 CASE"
   ]
  },
  {
   "cell_type": "code",
   "execution_count": 106,
   "id": "parliamentary-secret",
   "metadata": {},
   "outputs": [
    {
     "name": "stdout",
     "output_type": "stream",
     "text": [
      "10000\n",
      "82256014\n"
     ]
    }
   ],
   "source": [
    "sum_range = lambda s, e: e*(e+1)//2 - s*(s-1)//2\n",
    "\n",
    "def solution():\n",
    "    n = int(input())\n",
    "    answer = 1\n",
    "    \n",
    "    answer += sum_range(3, n+1)\n",
    "    \n",
    "    for i in range(2, int(n**0.5)+1):\n",
    "        answer += i * ((n-i*i) // i) + sum_range(i, n//i)\n",
    "    \n",
    "    print(answer)\n",
    "    \n",
    "solution()"
   ]
  }
 ],
 "metadata": {
  "kernelspec": {
   "display_name": "Python 3",
   "language": "python",
   "name": "python3"
  },
  "language_info": {
   "codemirror_mode": {
    "name": "ipython",
    "version": 3
   },
   "file_extension": ".py",
   "mimetype": "text/x-python",
   "name": "python",
   "nbconvert_exporter": "python",
   "pygments_lexer": "ipython3",
   "version": "3.8.5"
  }
 },
 "nbformat": 4,
 "nbformat_minor": 5
}
