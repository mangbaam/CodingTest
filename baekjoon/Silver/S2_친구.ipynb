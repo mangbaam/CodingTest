{
 "cells": [
  {
   "cell_type": "markdown",
   "source": [
    "https://www.acmicpc.net/problem/1058"
   ],
   "metadata": {
    "collapsed": false,
    "pycharm": {
     "name": "#%% md\n"
    }
   }
  },
  {
   "cell_type": "code",
   "execution_count": 18,
   "outputs": [
    {
     "name": "stdout",
     "output_type": "stream",
     "text": [
      "4\n"
     ]
    }
   ],
   "source": [
    "n = int(input())\n",
    "arr = [list(input()) for _ in range(n)]\n",
    "answer = 0\n",
    "\n",
    "for i in range(n): # 모든 경우 탐색\n",
    "    friend = 0\n",
    "    for j in range(n): # i와 j가 친구인가?\n",
    "        if i == j: continue # 나는 나와 친구가 될 수 없다...\n",
    "        if arr[i][j] == 'Y': # i와 j가 친구다\n",
    "            friend += 1\n",
    "        elif arr[i][j] == 'N': # i와 j가 친구가 아니다\n",
    "            for k in range(n): # j의 친구들 탐색\n",
    "                if arr[j][k] == 'Y' and arr[i][k] == 'Y': # j와 k가 친구고, i와 k도 친구다\n",
    "                    friend += 1\n",
    "                    break # 2-친구가 한 명이라도 있으면 더 찾지 않는다\n",
    "    answer = max(answer, friend)\n",
    "print(answer)"
   ],
   "metadata": {
    "collapsed": false,
    "pycharm": {
     "name": "#%%\n"
    }
   }
  }
 ],
 "metadata": {
  "kernelspec": {
   "display_name": "Python 3",
   "language": "python",
   "name": "python3"
  },
  "language_info": {
   "codemirror_mode": {
    "name": "ipython",
    "version": 2
   },
   "file_extension": ".py",
   "mimetype": "text/x-python",
   "name": "python",
   "nbconvert_exporter": "python",
   "pygments_lexer": "ipython2",
   "version": "2.7.6"
  }
 },
 "nbformat": 4,
 "nbformat_minor": 0
}