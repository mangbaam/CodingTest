{
 "cells": [
  {
   "cell_type": "markdown",
   "metadata": {
    "collapsed": true,
    "pycharm": {
     "name": "#%% md\n"
    }
   },
   "source": [
    "https://www.acmicpc.net/problem/15970"
   ]
  },
  {
   "cell_type": "code",
   "execution_count": 10,
   "outputs": [
    {
     "name": "stdout",
     "output_type": "stream",
     "text": [
      "13\n"
     ]
    }
   ],
   "source": [
    "n = int(input())\n",
    "points = dict()\n",
    "for _ in range(n):\n",
    "    pos, color = map(int, input().split())\n",
    "    try:\n",
    "        points[color].append(pos)\n",
    "    except:\n",
    "        points[color] = [pos]\n",
    "\n",
    "for key in points.keys():\n",
    "    points[key].sort()\n",
    "\n",
    "answer = 0\n",
    "for li in points.values():\n",
    "    m = len(li)\n",
    "    for i in range(m):\n",
    "        if i==0: answer += li[1]-li[0]\n",
    "        elif i==m-1: answer += li[i]-li[i-1]\n",
    "        else: answer += min(li[i]-li[i-1], li[i+1]-li[i])\n",
    "\n",
    "print(answer)"
   ],
   "metadata": {
    "collapsed": false,
    "pycharm": {
     "name": "#%%\n"
    }
   }
  }
 ],
 "metadata": {
  "kernelspec": {
   "display_name": "Python 3",
   "language": "python",
   "name": "python3"
  },
  "language_info": {
   "codemirror_mode": {
    "name": "ipython",
    "version": 2
   },
   "file_extension": ".py",
   "mimetype": "text/x-python",
   "name": "python",
   "nbconvert_exporter": "python",
   "pygments_lexer": "ipython2",
   "version": "2.7.6"
  }
 },
 "nbformat": 4,
 "nbformat_minor": 0
}