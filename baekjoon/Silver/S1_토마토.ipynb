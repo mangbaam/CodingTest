{
 "cells": [
  {
   "cell_type": "markdown",
   "id": "coordinated-breeding",
   "metadata": {},
   "source": [
    "https://www.acmicpc.net/problem/7576"
   ]
  },
  {
   "cell_type": "code",
   "execution_count": 20,
   "id": "protecting-chart",
   "metadata": {},
   "outputs": [
    {
     "name": "stdout",
     "output_type": "stream",
     "text": [
      "5 5\n",
      "-1 1 0 0 0\n",
      "0 -1 -1 -1 0\n",
      "0 -1 -1 -1 0\n",
      "0 -1 -1 -1 0\n",
      "0 0 0 0 0\n",
      "14\n"
     ]
    }
   ],
   "source": [
    "from collections import deque\n",
    "\n",
    "m,n = map(int, input().split())\n",
    "board = []\n",
    "full = []\n",
    "for _ in range(n):\n",
    "    row = list(map(int, input().split()))\n",
    "    board.append(row)\n",
    "    full.append(list(map(lambda x: -1 if x == -1 else 1, row)))\n",
    "    \n",
    "tomatos = []\n",
    "for i in range(n):\n",
    "    for j in range(m):\n",
    "        if board[i][j] == 1: tomatos.append((0, i, j))\n",
    "\n",
    "queue = deque(tomatos)\n",
    "d = 0\n",
    "\n",
    "while queue:\n",
    "    d, x, y = queue.popleft()\n",
    "    for nx, ny in ((x-1, y), (x+1, y), (x, y-1), (x, y+1)):\n",
    "        if nx in range(n) and ny in range(m) and not board[nx][ny]:\n",
    "            queue.append((d+1, nx, ny))\n",
    "            board[nx][ny] = 1\n",
    "\n",
    "print(d) if board == full else print(-1)"
   ]
  }
 ],
 "metadata": {
  "kernelspec": {
   "display_name": "Python 3",
   "language": "python",
   "name": "python3"
  },
  "language_info": {
   "codemirror_mode": {
    "name": "ipython",
    "version": 3
   },
   "file_extension": ".py",
   "mimetype": "text/x-python",
   "name": "python",
   "nbconvert_exporter": "python",
   "pygments_lexer": "ipython3",
   "version": "3.8.5"
  }
 },
 "nbformat": 4,
 "nbformat_minor": 5
}
