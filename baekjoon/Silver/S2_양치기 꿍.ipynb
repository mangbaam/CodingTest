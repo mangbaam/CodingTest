{
 "cells": [
  {
   "cell_type": "markdown",
   "metadata": {
    "collapsed": true,
    "pycharm": {
     "name": "#%% md\n"
    }
   },
   "source": [
    "https://www.acmicpc.net/problem/3187"
   ]
  },
  {
   "cell_type": "code",
   "execution_count": 10,
   "outputs": [
    {
     "name": "stdout",
     "output_type": "stream",
     "text": [
      "(0, 0)로 진입!\n",
      "양 0마리, 늑대 0마리로... 현재 양 0마리, 늑대 0마리 있음\n",
      "(0, 4)로 진입!\n",
      "양 0마리, 늑대 0마리로... 현재 양 0마리, 늑대 0마리 있음\n",
      "(0, 10)로 진입!\n",
      "양 0마리, 늑대 0마리로... 현재 양 0마리, 늑대 0마리 있음\n",
      "(1, 1)로 진입!\n",
      "양 3마리, 늑대 2마리로... 현재 양 3마리, 늑대 0마리 있음\n",
      "(1, 5)로 진입!\n",
      "양 2마리, 늑대 2마리로... 현재 양 3마리, 늑대 2마리 있음\n",
      "(4, 3)로 진입!\n",
      "양 0마리, 늑대 1마리로... 현재 양 3마리, 늑대 3마리 있음\n",
      "(7, 0)로 진입!\n",
      "양 0마리, 늑대 0마리로... 현재 양 3마리, 늑대 3마리 있음\n",
      "(7, 7)로 진입!\n",
      "양 1마리, 늑대 2마리로... 현재 양 3마리, 늑대 5마리 있음\n",
      "(8, 11)로 진입!\n",
      "양 0마리, 늑대 0마리로... 현재 양 3마리, 늑대 5마리 있음\n",
      "3 5\n"
     ]
    }
   ],
   "source": [
    "from collections import deque\n",
    "\n",
    "r, c = map(int, input().split())\n",
    "arr = [list(input()) for _ in range(r)]\n",
    "visited = [[False] * c for _ in range(r)]\n",
    "d = [(-1, 0), (0, -1), (1, 0), (0, 1)] # ↑ ← ↓ →\n",
    "v, k = 0, 0 # v: 늑대, k: 양\n",
    "\n",
    "def bfs(a, b):\n",
    "    global r, c, d, v, k\n",
    "    sheep, wolf = 0, 0\n",
    "\n",
    "    queue = deque([(a, b)])\n",
    "    visited[a][b] = True\n",
    "    if arr[a][b] == 'v': wolf += 1 # 늑대\n",
    "    if arr[a][b] == 'k': sheep += 1 # 양\n",
    "\n",
    "    while queue:\n",
    "        x, y = queue.popleft()\n",
    "        for i in range(4):\n",
    "            nx, ny = x + d[i][0], y + d[i][1]\n",
    "            if nx in range(r) and ny in range(c) and \\\n",
    "                arr[nx][ny] != '#' and not visited[nx][ny]:\n",
    "                visited[nx][ny] = True\n",
    "                if arr[nx][ny] == 'v': wolf += 1 # 늑대\n",
    "                if arr[nx][ny] == 'k': sheep += 1 # 양\n",
    "                queue.append((nx, ny))\n",
    "    if wolf >= sheep: v += wolf\n",
    "    else: k += sheep\n",
    "    print(f'양 {sheep}마리, 늑대 {wolf}마리로... 현재 양 {k}마리, 늑대 {v}마리 있음')\n",
    "\n",
    "def solution():\n",
    "    global r, c, arr\n",
    "\n",
    "    for x in range(r):\n",
    "        for y in range(c):\n",
    "            if arr[x][y] != '#' and not visited[x][y]:\n",
    "                print(f'({x}, {y})로 진입!')\n",
    "                bfs(x, y)\n",
    "\n",
    "    print(k, v)\n",
    "\n",
    "solution()"
   ],
   "metadata": {
    "collapsed": false,
    "pycharm": {
     "name": "#%%\n"
    }
   }
  }
 ],
 "metadata": {
  "kernelspec": {
   "display_name": "Python 3",
   "language": "python",
   "name": "python3"
  },
  "language_info": {
   "codemirror_mode": {
    "name": "ipython",
    "version": 2
   },
   "file_extension": ".py",
   "mimetype": "text/x-python",
   "name": "python",
   "nbconvert_exporter": "python",
   "pygments_lexer": "ipython2",
   "version": "2.7.6"
  }
 },
 "nbformat": 4,
 "nbformat_minor": 0
}