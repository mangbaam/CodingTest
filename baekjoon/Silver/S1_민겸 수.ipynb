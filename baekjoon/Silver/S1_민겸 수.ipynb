{
 "cells": [
  {
   "cell_type": "markdown",
   "source": [
    "https://www.acmicpc.net/problem/21314"
   ],
   "metadata": {
    "collapsed": false,
    "pycharm": {
     "name": "#%% md\n"
    }
   }
  },
  {
   "cell_type": "code",
   "execution_count": 20,
   "outputs": [
    {
     "name": "stdout",
     "output_type": "stream",
     "text": [
      "['MK', 'M']\n",
      "501\n",
      "151\n"
     ]
    }
   ],
   "source": [
    "s = input()\n",
    "stack, cache = list(), list()\n",
    "\n",
    "def get_min_max(mk):\n",
    "    if 'K' not in mk:\n",
    "        return str(10 ** (len(mk) - 1)), '1' * len(mk)\n",
    "    elif mk == 'K': return '5', '5'\n",
    "    return str(10 ** (len(mk) - 1) + 5), str(10 ** (len(mk) - 1) * 5)\n",
    "\n",
    "# K로 끝날 때마다 묶기\n",
    "for c in s:\n",
    "    cache.append(c)\n",
    "    if c=='K':\n",
    "        stack.append(''.join(cache))\n",
    "        cache.clear()\n",
    "if cache:\n",
    "    stack.append(''.join(cache))\n",
    "\n",
    "min_value, max_value = '', ''\n",
    "for unit in stack:\n",
    "    _min, _max = get_min_max(unit)\n",
    "    min_value += _min\n",
    "    max_value += _max\n",
    "print(max_value)\n",
    "print(min_value)"
   ],
   "metadata": {
    "collapsed": false,
    "pycharm": {
     "name": "#%%\n"
    }
   }
  }
 ],
 "metadata": {
  "kernelspec": {
   "display_name": "Python 3",
   "language": "python",
   "name": "python3"
  },
  "language_info": {
   "codemirror_mode": {
    "name": "ipython",
    "version": 2
   },
   "file_extension": ".py",
   "mimetype": "text/x-python",
   "name": "python",
   "nbconvert_exporter": "python",
   "pygments_lexer": "ipython2",
   "version": "2.7.6"
  }
 },
 "nbformat": 4,
 "nbformat_minor": 0
}