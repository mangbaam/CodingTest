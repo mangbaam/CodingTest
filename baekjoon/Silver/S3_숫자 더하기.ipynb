{
 "cells": [
  {
   "cell_type": "markdown",
   "source": [
    "https://www.acmicpc.net/problem/9440\n",
    "## [해설](https://latte-is-horse.tistory.com/357?category=904226)"
   ],
   "metadata": {
    "collapsed": false,
    "pycharm": {
     "name": "#%% md\n"
    }
   },
   "outputs": [
    {
     "ename": "SyntaxError",
     "evalue": "invalid syntax (2427300958.py, line 1)",
     "output_type": "error",
     "traceback": [
      "\u001B[1;36m  File \u001B[1;32m\"C:\\Users\\audqj\\AppData\\Local\\Temp\\ipykernel_2968\\2427300958.py\"\u001B[1;36m, line \u001B[1;32m1\u001B[0m\n\u001B[1;33m    https://www.acmicpc.net/problem/9440m\u001B[0m\n\u001B[1;37m           ^\u001B[0m\n\u001B[1;31mSyntaxError\u001B[0m\u001B[1;31m:\u001B[0m invalid syntax\n"
     ]
    }
   ],
   "execution_count": 1
  },
  {
   "cell_type": "code",
   "execution_count": 12,
   "outputs": [
    {
     "name": "stdout",
     "output_type": "stream",
     "text": [
      "34047\n"
     ]
    }
   ],
   "source": [
    "while True:\n",
    "    n = input()\n",
    "    if n == '0': break\n",
    "    li = sorted(n.split()[1:])\n",
    "    num1, num2 = str(), str()\n",
    "    for i in range(len(li)):\n",
    "        if li[i] != '0':\n",
    "            num1, num2 = li[i], li[i + 1]\n",
    "            li = li[:i] + li[i + 2:]\n",
    "            break\n",
    "    for i in range(0, len(li), 2):\n",
    "        num1 += li[i]\n",
    "        if i < len(li) - 1:\n",
    "            num2 += li[i + 1]\n",
    "\n",
    "    print(int(num1) + int(num2))"
   ],
   "metadata": {
    "collapsed": false,
    "pycharm": {
     "name": "#%%\n"
    }
   }
  }
 ],
 "metadata": {
  "kernelspec": {
   "display_name": "Python 3",
   "language": "python",
   "name": "python3"
  },
  "language_info": {
   "codemirror_mode": {
    "name": "ipython",
    "version": 2
   },
   "file_extension": ".py",
   "mimetype": "text/x-python",
   "name": "python",
   "nbconvert_exporter": "python",
   "pygments_lexer": "ipython2",
   "version": "2.7.6"
  }
 },
 "nbformat": 4,
 "nbformat_minor": 0
}