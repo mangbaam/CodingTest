{
 "cells": [
  {
   "cell_type": "markdown",
   "metadata": {
    "collapsed": true,
    "pycharm": {
     "name": "#%% md\n"
    }
   },
   "source": [
    "https://www.acmicpc.net/problem/3273"
   ]
  },
  {
   "cell_type": "code",
   "execution_count": 2,
   "outputs": [
    {
     "name": "stdout",
     "output_type": "stream",
     "text": [
      "arr: [1, 2, 3, 5, 7, 9, 10, 11, 12]\n",
      "let's find 12!... start: 1, end: 8\n",
      "found! 12 + 12 = 12\n",
      "let's find 11!... start: 2, end: 8\n",
      "found! 10 + 12 = 11\n",
      "let's find 10!... start: 3, end: 8\n",
      "found! 10 + 10 = 10\n",
      "let's find 8!... start: 4, end: 8\n",
      "let's find 6!... start: 5, end: 8\n",
      "let's find 4!... start: 6, end: 8\n",
      "let's find 3!... start: 7, end: 8\n",
      "let's find 2!... start: 8, end: 8\n",
      "let's find 1!... start: 9, end: 8\n",
      "3\n"
     ]
    }
   ],
   "source": [
    "n = int(input())\n",
    "arr = sorted(map(int, input().split()))\n",
    "x = int(input())\n",
    "answer = 0\n",
    "\n",
    "\n",
    "def lower_bound(li, start, end, target):\n",
    "    global answer\n",
    "\n",
    "    while start <= end:\n",
    "        mid = (start + end) // 2\n",
    "        if li[mid] == target:\n",
    "            answer += 1\n",
    "            break\n",
    "        elif li[mid] < target:\n",
    "            start = mid + 1\n",
    "        else:\n",
    "            end = mid - 1\n",
    "\n",
    "\n",
    "def solution():\n",
    "    for i in range(n):\n",
    "        if arr[i] > x: break\n",
    "        t = x - arr[i]\n",
    "        lower_bound(arr, i + 1, n - 1, t)\n",
    "\n",
    "\n",
    "solution()\n",
    "print(answer)"
   ],
   "metadata": {
    "collapsed": false,
    "pycharm": {
     "name": "#%%\n"
    }
   }
  }
 ],
 "metadata": {
  "kernelspec": {
   "display_name": "Python 3",
   "language": "python",
   "name": "python3"
  },
  "language_info": {
   "codemirror_mode": {
    "name": "ipython",
    "version": 2
   },
   "file_extension": ".py",
   "mimetype": "text/x-python",
   "name": "python",
   "nbconvert_exporter": "python",
   "pygments_lexer": "ipython2",
   "version": "2.7.6"
  }
 },
 "nbformat": 4,
 "nbformat_minor": 0
}