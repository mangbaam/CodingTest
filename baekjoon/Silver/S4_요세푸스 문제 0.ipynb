{
 "cells": [
  {
   "cell_type": "markdown",
   "id": "informative-burning",
   "metadata": {},
   "source": [
    "https://www.acmicpc.net/problem/11866"
   ]
  },
  {
   "cell_type": "code",
   "execution_count": 12,
   "id": "induced-housing",
   "metadata": {},
   "outputs": [
    {
     "name": "stdout",
     "output_type": "stream",
     "text": [
      "7 3\n",
      "<3, 6, 2, 7, 5, 1, 4>\n"
     ]
    }
   ],
   "source": [
    "turn = 0\n",
    "n, turm = map(int, input().split())\n",
    "people = list(map(str, range(1, n+1)))\n",
    "answer = []\n",
    "while n > 0:\n",
    "    turn = (turn + turm - 1) % n\n",
    "    answer.append(people[turn])\n",
    "    del people[turn]\n",
    "    n -= 1\n",
    "print('<' + ', '.join(answer) + '>')"
   ]
  }
 ],
 "metadata": {
  "kernelspec": {
   "display_name": "Python 3",
   "language": "python",
   "name": "python3"
  },
  "language_info": {
   "codemirror_mode": {
    "name": "ipython",
    "version": 3
   },
   "file_extension": ".py",
   "mimetype": "text/x-python",
   "name": "python",
   "nbconvert_exporter": "python",
   "pygments_lexer": "ipython3",
   "version": "3.8.5"
  }
 },
 "nbformat": 4,
 "nbformat_minor": 5
}
