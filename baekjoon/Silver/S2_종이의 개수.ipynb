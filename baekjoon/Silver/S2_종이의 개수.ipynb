{
 "cells": [
  {
   "cell_type": "markdown",
   "source": [
    "## https://latte-is-horse.tistory.com/336\n",
    "https://www.acmicpc.net/problem/1780"
   ],
   "metadata": {
    "collapsed": false,
    "pycharm": {
     "name": "#%% md\n"
    }
   }
  },
  {
   "cell_type": "code",
   "execution_count": 5,
   "outputs": [
    {
     "name": "stdout",
     "output_type": "stream",
     "text": [
      "0, 0, start: 0, length: 3\n",
      "3, 0, start: 1, length: 3\n",
      "6, 0, start: 0, length: 1\n",
      "7, 0, start: 0, length: 1\n",
      "8, 0, start: 0, length: 1\n",
      "6, 1, start: 1, length: 1\n",
      "7, 1, start: -1, length: 1\n",
      "8, 1, start: 1, length: 1\n",
      "6, 2, start: -1, length: 1\n",
      "7, 2, start: 1, length: 1\n",
      "8, 2, start: -1, length: 1\n",
      "0, 3, start: 1, length: 3\n",
      "3, 3, start: 0, length: 3\n",
      "6, 3, start: 0, length: 1\n",
      "7, 3, start: 0, length: 1\n",
      "8, 3, start: 1, length: 1\n",
      "6, 4, start: 1, length: 1\n",
      "7, 4, start: 1, length: 1\n",
      "8, 4, start: 0, length: 1\n",
      "6, 5, start: -1, length: 1\n",
      "7, 5, start: -1, length: 1\n",
      "8, 5, start: -1, length: 1\n",
      "0, 6, start: -1, length: 3\n",
      "3, 6, start: 0, length: 3\n",
      "6, 6, start: 0, length: 1\n",
      "7, 6, start: 0, length: 1\n",
      "8, 6, start: 0, length: 1\n",
      "6, 7, start: 1, length: 1\n",
      "7, 7, start: 1, length: 1\n",
      "8, 7, start: 1, length: 1\n",
      "6, 8, start: -1, length: 1\n",
      "7, 8, start: -1, length: 1\n",
      "8, 8, start: -1, length: 1\n",
      "10\n",
      "12\n",
      "11\n"
     ]
    }
   ],
   "source": [
    "import sys\n",
    "\n",
    "sys.setrecursionlimit(3 ** 8)\n",
    "input = sys.stdin.readline\n",
    "\n",
    "INVALID = 100\n",
    "\n",
    "n = int(input())\n",
    "graph = [list(map(int, input().split())) for _ in range(n)]\n",
    "answer = [0, 0, 0]\n",
    "\n",
    "\n",
    "def rec_fun(x, y, w):\n",
    "    start = graph[x][y]\n",
    "\n",
    "    for i in range(x, x + w):\n",
    "        for j in range(y, y + w):\n",
    "            if graph[i][j] != start:\n",
    "                start = INVALID\n",
    "                break\n",
    "\n",
    "    if start == INVALID:\n",
    "        k = w // 3\n",
    "        rec_fun(x, y, k)\n",
    "        rec_fun(x + k, y, k)\n",
    "        rec_fun(x + 2 * k, y, k)\n",
    "\n",
    "        rec_fun(x, y + k, k)\n",
    "        rec_fun(x + k, y + k, k)\n",
    "        rec_fun(x + 2 * k, y + k, k)\n",
    "\n",
    "        rec_fun(x, y + k * 2, k)\n",
    "        rec_fun(x + k, y + k * 2, k)\n",
    "        rec_fun(x + 2 * k, y + k * 2, k)\n",
    "    else:\n",
    "        answer[start + 1] += 1\n",
    "\n",
    "\n",
    "rec_fun(0, 0, n)\n",
    "\n",
    "for m in answer: print(m)"
   ],
   "metadata": {
    "collapsed": false,
    "pycharm": {
     "name": "#%%\n"
    }
   }
  }
 ],
 "metadata": {
  "kernelspec": {
   "display_name": "Python 3",
   "language": "python",
   "name": "python3"
  },
  "language_info": {
   "codemirror_mode": {
    "name": "ipython",
    "version": 2
   },
   "file_extension": ".py",
   "mimetype": "text/x-python",
   "name": "python",
   "nbconvert_exporter": "python",
   "pygments_lexer": "ipython2",
   "version": "2.7.6"
  }
 },
 "nbformat": 4,
 "nbformat_minor": 0
}