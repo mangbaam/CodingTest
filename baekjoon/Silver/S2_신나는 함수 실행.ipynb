{
 "cells": [
  {
   "cell_type": "markdown",
   "source": [
    "https://www.acmicpc.net/problem/9184"
   ],
   "metadata": {
    "collapsed": false,
    "pycharm": {
     "name": "#%% md\n"
    }
   }
  },
  {
   "cell_type": "code",
   "execution_count": 36,
   "outputs": [
    {
     "name": "stdout",
     "output_type": "stream",
     "text": [
      "w(1, 1, 1) = 2\n",
      "w(2, 2, 2) = 4\n",
      "w(10, 4, 6) = 523\n",
      "w(50, 50, 50) = 1048576\n",
      "w(-1, 7, 18) = 1\n"
     ]
    }
   ],
   "source": [
    "d = {}\n",
    "\n",
    "\n",
    "def dp(a, b, c):\n",
    "    if d.get((a, b, c)) is None: d[(a, b, c)] = w(a, b, c)\n",
    "    return d[(a, b, c)]\n",
    "\n",
    "\n",
    "def w(a, b, c):\n",
    "    if (a, b, c) in d.keys(): return d[(a, b, c)]\n",
    "\n",
    "    if not (a > 0 and b > 0 and c > 0):\n",
    "        d[(a, b, c)] = 1\n",
    "        return 1\n",
    "    if not (a <= 20 and b <= 20 and c <= 20):\n",
    "        d[(a, b, c)] = dp(20, 20, 20)\n",
    "        return d[(a, b, c)]\n",
    "    if a < b < c:\n",
    "        return dp(a, b, c - 1) + dp(a, b - 1, c - 1) - dp(a, b - 1, c)\n",
    "    else:\n",
    "        return dp(a - 1, b, c) + dp(a - 1, b - 1, c) + dp(a - 1, b, c - 1) - dp(a - 1, b - 1, c - 1)\n",
    "\n",
    "def solution():\n",
    "    while True:  # 진입 점\n",
    "        a, b, c = map(int, input().split())\n",
    "        if a == b == c == -1: break\n",
    "        print(f'w({a}, {b}, {c}) = {w(a, b, c)}')\n",
    "\n",
    "\n",
    "def test():\n",
    "    tc = [(1, 1, 1), (2, 2, 2), (10, 4, 6), (50, 50, 50), (-1, 7, 18)]\n",
    "    for a, b, c in tc:\n",
    "        print(f'w({a}, {b}, {c}) = {w(a, b, c)}')\n",
    "\n",
    "\n",
    "# test()\n",
    "solution()"
   ],
   "metadata": {
    "collapsed": false,
    "pycharm": {
     "name": "#%%\n"
    }
   }
  }
 ],
 "metadata": {
  "kernelspec": {
   "display_name": "Python 3",
   "language": "python",
   "name": "python3"
  },
  "language_info": {
   "codemirror_mode": {
    "name": "ipython",
    "version": 2
   },
   "file_extension": ".py",
   "mimetype": "text/x-python",
   "name": "python",
   "nbconvert_exporter": "python",
   "pygments_lexer": "ipython2",
   "version": "2.7.6"
  }
 },
 "nbformat": 4,
 "nbformat_minor": 0
}