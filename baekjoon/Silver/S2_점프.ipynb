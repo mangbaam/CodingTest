{
 "cells": [
  {
   "cell_type": "markdown",
   "source": [
    "https://www.acmicpc.net/problem/1890"
   ],
   "metadata": {
    "collapsed": false
   }
  },
  {
   "cell_type": "markdown",
   "source": [
    "## 정답 코드"
   ],
   "metadata": {
    "collapsed": false,
    "pycharm": {
     "name": "#%% md\n"
    }
   }
  },
  {
   "cell_type": "code",
   "execution_count": null,
   "outputs": [],
   "source": [
    "import sys\n",
    "input = sys.stdin.readline\n",
    "\n",
    "n = int(input())\n",
    "arr = [list(map(int, input().split())) for _ in range(n)]\n",
    "d = [[0] * n for _ in range(n)]\n",
    "d[0][0] = 1\n",
    "\n",
    "for i in range(n):\n",
    "    for j in range(n):\n",
    "        if arr[i][j] == 0: continue\n",
    "        step = arr[i][j]\n",
    "\n",
    "        if i + step in range(n):\n",
    "            d[i + step][j] += d[i][j]\n",
    "        if j + step in range(n):\n",
    "            d[i][j + step] += d[i][j]\n",
    "print(d[n - 1][n - 1])"
   ],
   "metadata": {
    "collapsed": false,
    "pycharm": {
     "name": "#%%\n"
    }
   }
  },
  {
   "cell_type": "code",
   "execution_count": 1,
   "outputs": [
    {
     "name": "stdout",
     "output_type": "stream",
     "text": [
      "3\n"
     ]
    }
   ],
   "source": [
    "from collections import deque\n",
    "\n",
    "n = int(input())\n",
    "arr = [list(map(int, input().split())) for _ in range(n)]\n",
    "\n",
    "start = 0, 0\n",
    "answer = 0\n",
    "queue = deque([start])\n",
    "while queue:\n",
    "    x, y = queue.popleft()\n",
    "    step = arr[x][y]\n",
    "    if x + step in range(n):  # 세로 이동\n",
    "        if arr[x + step][y] == 0:\n",
    "            answer += 1\n",
    "        else:\n",
    "            queue.append((x + step, y))\n",
    "    if y + step in range(n):  # 가로 이동\n",
    "        if arr[x][y + step] == 0:\n",
    "            answer += 1\n",
    "        else:\n",
    "            queue.append((x, y + step))\n",
    "print(answer)"
   ],
   "metadata": {
    "collapsed": false,
    "pycharm": {
     "name": "#%%\n"
    }
   }
  },
  {
   "cell_type": "code",
   "execution_count": null,
   "outputs": [],
   "source": [
    "n = int(input())\n",
    "arr = [list(map(int, input().split())) for _ in range(n)]\n",
    "d = [[0] * n for _ in range(n)]\n",
    "visited = [[False] * n for _ in range(n)]\n",
    "d[0][0] = 1\n",
    "visited[0][0] = True\n",
    "queue = deque([(0, 0)])\n",
    "while queue:\n",
    "    x, y = queue.popleft()\n",
    "    if x == y == n - 1: continue\n",
    "    step = arr[x][y]\n",
    "    if x + step in range(n) and not visited[x + step][y]:\n",
    "        d[x + step][y] += d[x][y]\n",
    "        queue.append((x + step, y))\n",
    "    if y + step in range(n) and not visited[x][y + step]:\n",
    "        d[x][y + step] += d[x][y]\n",
    "        queue.append((x, y + step))\n",
    "    visited[x][y] = True\n",
    "\n",
    "    print(queue)\n",
    "    for v in visited:\n",
    "        print(v)\n",
    "    for v in d:\n",
    "        print(v)\n",
    "    print()\n",
    "print(d)\n",
    "\n",
    "print(d[n - 1][n - 1])"
   ],
   "metadata": {
    "collapsed": false,
    "pycharm": {
     "name": "#%%\n"
    }
   }
  },
  {
   "cell_type": "code",
   "execution_count": 23,
   "outputs": [
    {
     "name": "stdout",
     "output_type": "stream",
     "text": [
      "deque([(2, 0), (0, 2)])\n",
      "[True, False, False, False]\n",
      "[False, False, False, False]\n",
      "[False, False, False, False]\n",
      "[False, False, False, False]\n",
      "[1, 0, 1, 0]\n",
      "[0, 0, 0, 0]\n",
      "[1, 0, 0, 0]\n",
      "[0, 0, 0, 0]\n",
      "\n",
      "deque([(0, 2), (3, 0), (2, 1)])\n",
      "[True, False, False, False]\n",
      "[False, False, False, False]\n",
      "[True, False, False, False]\n",
      "[False, False, False, False]\n",
      "[1, 0, 1, 0]\n",
      "[0, 0, 0, 0]\n",
      "[1, 1, 0, 0]\n",
      "[1, 0, 0, 0]\n",
      "\n",
      "deque([(3, 0), (2, 1), (3, 2)])\n",
      "[True, False, True, False]\n",
      "[False, False, False, False]\n",
      "[True, False, False, False]\n",
      "[False, False, False, False]\n",
      "[1, 0, 1, 0]\n",
      "[0, 0, 0, 0]\n",
      "[1, 1, 0, 0]\n",
      "[1, 0, 1, 0]\n",
      "\n",
      "deque([(2, 1), (3, 2), (3, 3)])\n",
      "[True, False, True, False]\n",
      "[False, False, False, False]\n",
      "[True, False, False, False]\n",
      "[True, False, False, False]\n",
      "[1, 0, 1, 0]\n",
      "[0, 0, 0, 0]\n",
      "[1, 1, 0, 0]\n",
      "[1, 0, 1, 1]\n",
      "\n",
      "deque([(3, 2), (3, 3), (2, 3)])\n",
      "[True, False, True, False]\n",
      "[False, False, False, False]\n",
      "[True, True, False, False]\n",
      "[True, False, False, False]\n",
      "[1, 0, 1, 0]\n",
      "[0, 0, 0, 0]\n",
      "[1, 1, 0, 1]\n",
      "[1, 0, 1, 1]\n",
      "\n",
      "deque([(3, 3), (2, 3), (3, 3)])\n",
      "[True, False, True, False]\n",
      "[False, False, False, False]\n",
      "[True, True, False, False]\n",
      "[True, False, True, False]\n",
      "[1, 0, 1, 0]\n",
      "[0, 0, 0, 0]\n",
      "[1, 1, 0, 1]\n",
      "[1, 0, 1, 2]\n",
      "\n",
      "deque([(3, 3), (3, 3)])\n",
      "[True, False, True, False]\n",
      "[False, False, False, False]\n",
      "[True, True, False, True]\n",
      "[True, False, True, False]\n",
      "[1, 0, 1, 0]\n",
      "[0, 0, 0, 0]\n",
      "[1, 1, 0, 1]\n",
      "[1, 0, 1, 3]\n",
      "\n",
      "[[1, 0, 1, 0], [0, 0, 0, 0], [1, 1, 0, 1], [1, 0, 1, 3]]\n",
      "3\n"
     ]
    }
   ],
   "source": [
    "from collections import deque\n",
    "\n",
    "# import sys\n",
    "# input = sys.stdin.readline\n",
    "\n",
    "n = int(input())\n",
    "arr = [list(map(int, input().split())) for _ in range(n)]\n",
    "\n",
    "d = [[0] * n for _ in range(n)]\n",
    "visited = [[False] * n for _ in range(n)]\n",
    "\n",
    "d[0][0] = 1\n",
    "visited[0][0] = True\n",
    "\n",
    "queue = deque([(0, 0)])\n",
    "\n",
    "while queue:\n",
    "    x, y = queue.popleft()\n",
    "    if x == y == n - 1: continue\n",
    "    step = arr[x][y]\n",
    "    if x + step in range(n) and not visited[x + step][y]:\n",
    "        d[x + step][y] += d[x][y]\n",
    "        queue.append((x + step, y))\n",
    "    if y + step in range(n) and not visited[x][y + step]:\n",
    "        d[x][y + step] += d[x][y]\n",
    "        queue.append((x, y + step))\n",
    "    visited[x][y] = True\n",
    "\n",
    "print(d[n - 1][n - 1])"
   ],
   "metadata": {
    "collapsed": false,
    "pycharm": {
     "name": "#%%\n"
    }
   }
  }
 ],
 "metadata": {
  "kernelspec": {
   "display_name": "Python 3",
   "language": "python",
   "name": "python3"
  },
  "language_info": {
   "codemirror_mode": {
    "name": "ipython",
    "version": 2
   },
   "file_extension": ".py",
   "mimetype": "text/x-python",
   "name": "python",
   "nbconvert_exporter": "python",
   "pygments_lexer": "ipython2",
   "version": "2.7.6"
  }
 },
 "nbformat": 4,
 "nbformat_minor": 0
}