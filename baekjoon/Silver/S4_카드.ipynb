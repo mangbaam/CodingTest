{
 "cells": [
  {
   "cell_type": "markdown",
   "metadata": {
    "collapsed": true,
    "pycharm": {
     "name": "#%% md\n"
    }
   },
   "source": [
    "https://www.acmicpc.net/problem/11652"
   ]
  },
  {
   "cell_type": "markdown",
   "source": [
    "### HashMap 사용한 경우"
   ],
   "metadata": {
    "collapsed": false,
    "pycharm": {
     "name": "#%% md\n"
    }
   }
  },
  {
   "cell_type": "code",
   "execution_count": 2,
   "outputs": [
    {
     "name": "stdout",
     "output_type": "stream",
     "text": [
      "1\n"
     ]
    }
   ],
   "source": [
    "n = int(input())\n",
    "cards = dict()\n",
    "for _ in range(n):\n",
    "    num = int(input())\n",
    "    try:\n",
    "        cards[num] += 1\n",
    "    except:\n",
    "        cards[num] = 1\n",
    "print(sorted(cards.items(), key=lambda x: (-x[1], x[0]))[0][0])"
   ],
   "metadata": {
    "collapsed": false,
    "pycharm": {
     "name": "#%%\n"
    }
   }
  },
  {
   "cell_type": "markdown",
   "source": [
    "### HashMap 사용 안 한 경우"
   ],
   "metadata": {
    "collapsed": false,
    "pycharm": {
     "name": "#%% md\n"
    }
   }
  },
  {
   "cell_type": "code",
   "execution_count": 4,
   "outputs": [
    {
     "name": "stdout",
     "output_type": "stream",
     "text": [
      "1\n"
     ]
    }
   ],
   "source": [
    "n = int(input())\n",
    "cards = []\n",
    "for _ in range(n): cards.append(int(input()))\n",
    "cards.sort()\n",
    "\n",
    "curCnt = 1 # 현재 숫자가 등장한 횟수\n",
    "mode = cards[0] # 현재 가장 많이 등장한 숫자\n",
    "modeCnt = 1 # 현재 가장 많이 등장한 숫자의 횟수\n",
    "for i in range(1, n):\n",
    "    # 새로운 숫자가 등장\n",
    "    if cards[i-1] != cards[i]:\n",
    "        curCnt = 1\n",
    "    # 현재 숫자 연속 등장\n",
    "    else:\n",
    "        curCnt += 1\n",
    "        if modeCnt < curCnt:\n",
    "            mode = cards[i]\n",
    "            modeCnt = curCnt\n",
    "print(mode)"
   ],
   "metadata": {
    "collapsed": false,
    "pycharm": {
     "name": "#%%\n"
    }
   }
  }
 ],
 "metadata": {
  "kernelspec": {
   "display_name": "Python 3",
   "language": "python",
   "name": "python3"
  },
  "language_info": {
   "codemirror_mode": {
    "name": "ipython",
    "version": 2
   },
   "file_extension": ".py",
   "mimetype": "text/x-python",
   "name": "python",
   "nbconvert_exporter": "python",
   "pygments_lexer": "ipython2",
   "version": "2.7.6"
  }
 },
 "nbformat": 4,
 "nbformat_minor": 0
}