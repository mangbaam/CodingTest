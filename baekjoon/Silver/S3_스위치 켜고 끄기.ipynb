{
 "cells": [
  {
   "cell_type": "markdown",
   "source": [
    "https://www.acmicpc.net/problem/1244"
   ],
   "metadata": {
    "collapsed": false,
    "pycharm": {
     "name": "#%% md\n"
    }
   },
   "outputs": [
    {
     "ename": "SyntaxError",
     "evalue": "invalid syntax (2397771675.py, line 1)",
     "output_type": "error",
     "traceback": [
      "\u001B[1;36m  Input \u001B[1;32mIn [1]\u001B[1;36m\u001B[0m\n\u001B[1;33m    https://www.acmicpc.net/problem/1244\u001B[0m\n\u001B[1;37m          ^\u001B[0m\n\u001B[1;31mSyntaxError\u001B[0m\u001B[1;31m:\u001B[0m invalid syntax\n"
     ]
    }
   ],
   "execution_count": 1
  },
  {
   "cell_type": "code",
   "execution_count": 47,
   "outputs": [
    {
     "name": "stdout",
     "output_type": "stream",
     "text": [
      "1 0 0 0 1 1 0 1\n"
     ]
    }
   ],
   "source": [
    "n = int(input())\n",
    "switch = [0] + list(map(int, input().split()))\n",
    "\n",
    "\n",
    "def apply_man(num):\n",
    "    for i in range(num, n + 1, num):\n",
    "        switch[i] ^= 1\n",
    "\n",
    "\n",
    "def apply_woman(num):\n",
    "    switch[num] ^= 1\n",
    "    for i in range(n // 2):\n",
    "        if num + i > n or num - i < 1: break\n",
    "        if switch[num + i] == switch[num - i]:\n",
    "            switch[num + i] ^= 1\n",
    "            switch[num - i] ^= 1\n",
    "        else:\n",
    "            break\n",
    "\n",
    "\n",
    "for _ in range(int(input())):\n",
    "    sex, num = map(int, input().split())\n",
    "    if sex == 1:\n",
    "        apply_man(num)\n",
    "    else:\n",
    "        apply_woman(num)\n",
    "\n",
    "del switch[0]\n",
    "for x in range(0, n, 20):\n",
    "    print(*switch[x: x + 20])"
   ],
   "metadata": {
    "collapsed": false,
    "pycharm": {
     "name": "#%%\n"
    }
   }
  },
  {
   "cell_type": "code",
   "execution_count": 45,
   "outputs": [
    {
     "name": "stdout",
     "output_type": "stream",
     "text": [
      "w:  1\n",
      "[0, 1, 0, 1, 0, 1, 1, 1]\n"
     ]
    }
   ],
   "source": [
    "# t = list(map(int, input().split()))\n",
    "t = [0] + [0, 1, 0, 1, 0, 0, 0, 1]\n",
    "\n",
    "\n",
    "def test2(num):\n",
    "    for i in range(num, len(t) + 1, num):\n",
    "        t[i] ^= 1\n",
    "\n",
    "\n",
    "def test(num):\n",
    "    w = 0\n",
    "    while num - w > 0 and num + w < len(t) and t[num - w] == t[num + w]:\n",
    "        w += 1\n",
    "    w -= 1\n",
    "    for i in range(num - w, num + w + 1):\n",
    "        t[i] ^= 1\n",
    "    print('w: ', w)\n",
    "\n",
    "\n",
    "test2(8)\n",
    "test(7)\n",
    "print(t[1:])"
   ],
   "metadata": {
    "collapsed": false,
    "pycharm": {
     "name": "#%%\n"
    }
   }
  }
 ],
 "metadata": {
  "kernelspec": {
   "display_name": "Python 3",
   "language": "python",
   "name": "python3"
  },
  "language_info": {
   "codemirror_mode": {
    "name": "ipython",
    "version": 2
   },
   "file_extension": ".py",
   "mimetype": "text/x-python",
   "name": "python",
   "nbconvert_exporter": "python",
   "pygments_lexer": "ipython2",
   "version": "2.7.6"
  }
 },
 "nbformat": 4,
 "nbformat_minor": 0
}