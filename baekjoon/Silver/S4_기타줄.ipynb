{
 "cells": [
  {
   "cell_type": "markdown",
   "source": [
    "https://www.acmicpc.net/problem/1049"
   ],
   "metadata": {
    "collapsed": false,
    "pycharm": {
     "name": "#%% md\n"
    }
   }
  },
  {
   "cell_type": "code",
   "execution_count": 25,
   "outputs": [
    {
     "name": "stdout",
     "output_type": "stream",
     "text": [
      "36\n"
     ]
    }
   ],
   "source": [
    "import math\n",
    "n, m = map(int, input().split())\n",
    "six, one = 10000, 10000\n",
    "answer = 10 ** 9\n",
    "for _ in range(m):\n",
    "    s, o = map(int, input().split())\n",
    "    six = min(six, s)\n",
    "    one = min(one, o)\n",
    "cost = min(six * (n // 6) + one * (n % 6), six * math.ceil(n / 6), one * n)\n",
    "\n",
    "print(cost)"
   ],
   "metadata": {
    "collapsed": false,
    "pycharm": {
     "name": "#%%\n"
    }
   }
  }
 ],
 "metadata": {
  "kernelspec": {
   "display_name": "Python 3",
   "language": "python",
   "name": "python3"
  },
  "language_info": {
   "codemirror_mode": {
    "name": "ipython",
    "version": 2
   },
   "file_extension": ".py",
   "mimetype": "text/x-python",
   "name": "python",
   "nbconvert_exporter": "python",
   "pygments_lexer": "ipython2",
   "version": "2.7.6"
  }
 },
 "nbformat": 4,
 "nbformat_minor": 0
}