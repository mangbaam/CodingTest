{
 "cells": [
  {
   "cell_type": "markdown",
   "source": [
    "https://www.acmicpc.net/problem/2468"
   ],
   "metadata": {
    "collapsed": false,
    "pycharm": {
     "name": "#%% md\n"
    }
   }
  },
  {
   "cell_type": "code",
   "execution_count": 2,
   "outputs": [
    {
     "name": "stdout",
     "output_type": "stream",
     "text": [
      "6\n"
     ]
    }
   ],
   "source": [
    "# sys.setrecursionlimit(100001)\n",
    "n = int(input())\n",
    "max_height = 0\n",
    "graph = []\n",
    "for _ in range(n):\n",
    "    row = list(map(int, input().split()))\n",
    "    max_height = max(max_height, max(row))\n",
    "    graph.append(row)\n",
    "\n",
    "d = [(-1, 0), (1, 0), (0, -1), (0, 1)]\n",
    "def dfs(x, y, h, visited):\n",
    "    visited[x][y] = True\n",
    "    for k in range(4):\n",
    "        nx, ny = x + d[k][0], y + d[k][1]\n",
    "        if nx in range(n) and ny in range(n) and not visited[nx][ny] and graph[nx][ny] > h:\n",
    "            dfs(nx, ny, h, visited)\n",
    "\n",
    "answer = count = 0\n",
    "for h in range(max_height):\n",
    "    visited = [[False] * n for _ in range(n)]\n",
    "    count = 0\n",
    "    for i in range(n):\n",
    "        for j in range(n):\n",
    "            if not visited[i][j] and graph[i][j] > h:\n",
    "                count += 1\n",
    "                visited[i][j] = True\n",
    "                dfs(i, j, h, visited)\n",
    "    answer = max(answer, count)\n",
    "\n",
    "print(answer)"
   ],
   "metadata": {
    "collapsed": false,
    "pycharm": {
     "name": "#%%\n"
    }
   }
  }
 ],
 "metadata": {
  "kernelspec": {
   "display_name": "Python 3",
   "language": "python",
   "name": "python3"
  },
  "language_info": {
   "codemirror_mode": {
    "name": "ipython",
    "version": 2
   },
   "file_extension": ".py",
   "mimetype": "text/x-python",
   "name": "python",
   "nbconvert_exporter": "python",
   "pygments_lexer": "ipython2",
   "version": "2.7.6"
  }
 },
 "nbformat": 4,
 "nbformat_minor": 0
}