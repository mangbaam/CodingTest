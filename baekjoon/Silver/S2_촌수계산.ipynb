{
 "cells": [
  {
   "cell_type": "markdown",
   "metadata": {
    "collapsed": true,
    "pycharm": {
     "name": "#%% md\n"
    }
   },
   "source": [
    "https://www.acmicpc.net/problem/2644"
   ]
  },
  {
   "cell_type": "code",
   "execution_count": 4,
   "outputs": [
    {
     "name": "stdout",
     "output_type": "stream",
     "text": [
      "-1\n"
     ]
    }
   ],
   "source": [
    "from collections import deque\n",
    "\n",
    "person = int(input())\n",
    "a, b = map(int, input().split())\n",
    "relation = int(input())\n",
    "\n",
    "family = [[] for _ in range(person + 1)]\n",
    "visited = [False] * (person + 1)\n",
    "\n",
    "for _ in range(relation):\n",
    "    parent, child = map(int, input().split())\n",
    "    family[parent].append(child)\n",
    "    family[child].append(parent)\n",
    "\n",
    "\n",
    "def bfs(start, answer):\n",
    "    queue = deque([(start, answer)])\n",
    "    visited[start] = True\n",
    "    while queue:\n",
    "        x, d = queue.popleft()\n",
    "        if x == b: return d\n",
    "\n",
    "        for p in family[x]:\n",
    "            if not visited[p]:\n",
    "                visited[p] = True\n",
    "                queue.append((p, d + 1))\n",
    "    return -1\n",
    "\n",
    "\n",
    "print(bfs(a, 0))"
   ],
   "metadata": {
    "collapsed": false,
    "pycharm": {
     "name": "#%%\n"
    }
   }
  }
 ],
 "metadata": {
  "kernelspec": {
   "display_name": "Python 3",
   "language": "python",
   "name": "python3"
  },
  "language_info": {
   "codemirror_mode": {
    "name": "ipython",
    "version": 2
   },
   "file_extension": ".py",
   "mimetype": "text/x-python",
   "name": "python",
   "nbconvert_exporter": "python",
   "pygments_lexer": "ipython2",
   "version": "2.7.6"
  }
 },
 "nbformat": 4,
 "nbformat_minor": 0
}