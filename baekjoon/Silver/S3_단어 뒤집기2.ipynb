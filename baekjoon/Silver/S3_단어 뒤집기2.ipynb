{
 "cells": [
  {
   "cell_type": "markdown",
   "source": [
    "https://www.acmicpc.net/problem/17413"
   ],
   "metadata": {
    "collapsed": false,
    "pycharm": {
     "name": "#%% md\n"
    }
   }
  },
  {
   "cell_type": "code",
   "execution_count": 14,
   "outputs": [
    {
     "name": "stdout",
     "output_type": "stream",
     "text": [
      "<ab cd>fe hg<ij kl>\n"
     ]
    }
   ],
   "source": [
    "s = list(input())\n",
    "i, start = 0, 0\n",
    "while i < len(s):\n",
    "    if s[i] == '<':\n",
    "        i += s[i + 1:].index('>') + 1\n",
    "    elif s[i].isalnum():\n",
    "        start = i\n",
    "        while i < len(s) and s[i].isalnum(): i += 1\n",
    "        s[start:i] = s[start:i][::-1]\n",
    "    else:\n",
    "        i += 1\n",
    "print(''.join(s))"
   ],
   "metadata": {
    "collapsed": false,
    "pycharm": {
     "name": "#%%\n"
    }
   }
  }
 ],
 "metadata": {
  "kernelspec": {
   "display_name": "Python 3",
   "language": "python",
   "name": "python3"
  },
  "language_info": {
   "codemirror_mode": {
    "name": "ipython",
    "version": 2
   },
   "file_extension": ".py",
   "mimetype": "text/x-python",
   "name": "python",
   "nbconvert_exporter": "python",
   "pygments_lexer": "ipython2",
   "version": "2.7.6"
  }
 },
 "nbformat": 4,
 "nbformat_minor": 0
}