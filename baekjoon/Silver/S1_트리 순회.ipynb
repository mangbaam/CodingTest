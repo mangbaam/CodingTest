{
 "cells": [
  {
   "cell_type": "markdown",
   "source": [
    "https://www.acmicpc.net/problem/1991"
   ],
   "metadata": {
    "collapsed": false,
    "pycharm": {
     "name": "#%% md\n"
    }
   }
  },
  {
   "cell_type": "code",
   "execution_count": 6,
   "outputs": [
    {
     "name": "stdout",
     "output_type": "stream",
     "text": [
      "ABDCEFG\n",
      "DBAECFG\n",
      "DBEGFCA\n"
     ]
    }
   ],
   "source": [
    "def pre_order():\n",
    "    li = []\n",
    "    def pre(node):\n",
    "        li.append(node)\n",
    "        for child in tree[node]:\n",
    "            if child == '.': continue\n",
    "            pre(child)\n",
    "    pre('A')\n",
    "    print(''.join(li))\n",
    "\n",
    "\n",
    "def in_order():\n",
    "    li = []\n",
    "    def rec_in(node):\n",
    "        if not tree[node][0] == '.': rec_in(tree[node][0])\n",
    "        li.append(node)\n",
    "        if not tree[node][1] == '.': rec_in(tree[node][1])\n",
    "    rec_in('A')\n",
    "    print(''.join(li))\n",
    "\n",
    "def post_order():\n",
    "    li = []\n",
    "    def post(node):\n",
    "        for child in tree[node]:\n",
    "            if child == '.': continue\n",
    "            post(child)\n",
    "        li.append(node)\n",
    "    post('A')\n",
    "    print(''.join(li))\n",
    "\n",
    "\n",
    "tree = dict()\n",
    "for _ in range(int(input())):\n",
    "    c = input().split()\n",
    "    tree[c[0]] = c[1:]\n",
    "\n",
    "pre_order()\n",
    "in_order()\n",
    "post_order()"
   ],
   "metadata": {
    "collapsed": false,
    "pycharm": {
     "name": "#%%\n"
    }
   }
  }
 ],
 "metadata": {
  "kernelspec": {
   "display_name": "Python 3",
   "language": "python",
   "name": "python3"
  },
  "language_info": {
   "codemirror_mode": {
    "name": "ipython",
    "version": 2
   },
   "file_extension": ".py",
   "mimetype": "text/x-python",
   "name": "python",
   "nbconvert_exporter": "python",
   "pygments_lexer": "ipython2",
   "version": "2.7.6"
  }
 },
 "nbformat": 4,
 "nbformat_minor": 0
}