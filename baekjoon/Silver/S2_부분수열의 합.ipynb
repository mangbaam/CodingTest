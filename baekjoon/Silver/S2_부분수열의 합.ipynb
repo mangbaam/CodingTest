{
 "cells": [
  {
   "cell_type": "markdown",
   "metadata": {
    "collapsed": true,
    "pycharm": {
     "name": "#%% md\n"
    }
   },
   "source": [
    "    https://www.acmicpc.net/problem/1182"
   ]
  },
  {
   "cell_type": "code",
   "execution_count": 19,
   "outputs": [
    {
     "name": "stdout",
     "output_type": "stream",
     "text": [
      "1\n"
     ]
    }
   ],
   "source": [
    "from itertools import combinations as combi\n",
    "\n",
    "n, s = map(int, input().split())\n",
    "answer = 0\n",
    "d = list(map(int, input().split()))\n",
    "\n",
    "for i in range(1, n+1):\n",
    "    for selector in combi(range(n), i):\n",
    "        sub_sum = 0\n",
    "        for index in selector:\n",
    "            sub_sum += d[index]\n",
    "        if sub_sum == s:\n",
    "            answer += 1\n",
    "\n",
    "print(answer)"
   ],
   "metadata": {
    "collapsed": false,
    "pycharm": {
     "name": "#%%\n"
    }
   }
  },
  {
   "cell_type": "code",
   "execution_count": 21,
   "outputs": [
    {
     "name": "stdout",
     "output_type": "stream",
     "text": [
      "1\n"
     ]
    }
   ],
   "source": [
    "n, S = map(int, input().split())\n",
    "d = list(map(int, input().split()))\n",
    "answer = 0\n",
    "\n",
    "def rec_fun(k, value):\n",
    "    global answer\n",
    "    if k == n:\n",
    "        if S == value: answer += 1\n",
    "    else:\n",
    "        rec_fun(k+1, value+d[k])\n",
    "        rec_fun(k+1, value)\n",
    "\n",
    "rec_fun(0, 0)\n",
    "if S==0: answer -= 1\n",
    "print(answer)"
   ],
   "metadata": {
    "collapsed": false,
    "pycharm": {
     "name": "#%%\n"
    }
   }
  }
 ],
 "metadata": {
  "kernelspec": {
   "display_name": "Python 3",
   "language": "python",
   "name": "python3"
  },
  "language_info": {
   "codemirror_mode": {
    "name": "ipython",
    "version": 2
   },
   "file_extension": ".py",
   "mimetype": "text/x-python",
   "name": "python",
   "nbconvert_exporter": "python",
   "pygments_lexer": "ipython2",
   "version": "2.7.6"
  }
 },
 "nbformat": 4,
 "nbformat_minor": 0
}