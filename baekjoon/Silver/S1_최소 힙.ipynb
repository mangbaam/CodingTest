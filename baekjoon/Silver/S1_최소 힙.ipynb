{
 "cells": [
  {
   "cell_type": "markdown",
   "id": "fancy-border",
   "metadata": {},
   "source": [
    "### https://latte-is-horse.tistory.com/247\n",
    "https://www.acmicpc.net/problem/1927"
   ]
  },
  {
   "cell_type": "code",
   "execution_count": 3,
   "id": "outdoor-warning",
   "metadata": {},
   "outputs": [
    {
     "name": "stdout",
     "output_type": "stream",
     "text": [
      "9\n",
      "0\n",
      "0\n",
      "12345678\n",
      "1\n",
      "2\n",
      "0\n",
      "1\n",
      "0\n",
      "2\n",
      "0\n",
      "12345678\n",
      "0\n",
      "0\n",
      "32\n"
     ]
    }
   ],
   "source": [
    "import heapq\n",
    "n = int(input())\n",
    "heap = []\n",
    "for _ in range(n):\n",
    "    cmd = int(input())\n",
    "    if cmd == 0:\n",
    "        print(heapq.heappop(heap)) if heap else print(0)\n",
    "    else:\n",
    "        heapq.heappush(heap, cmd)"
   ]
  }
 ],
 "metadata": {
  "kernelspec": {
   "display_name": "Python 3",
   "language": "python",
   "name": "python3"
  },
  "language_info": {
   "codemirror_mode": {
    "name": "ipython",
    "version": 3
   },
   "file_extension": ".py",
   "mimetype": "text/x-python",
   "name": "python",
   "nbconvert_exporter": "python",
   "pygments_lexer": "ipython3",
   "version": "3.8.5"
  }
 },
 "nbformat": 4,
 "nbformat_minor": 5
}
