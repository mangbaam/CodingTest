{
 "cells": [
  {
   "cell_type": "markdown",
   "id": "bearing-silly",
   "metadata": {},
   "source": [
    "https://www.acmicpc.net/problem/7287"
   ]
  },
  {
   "cell_type": "code",
   "execution_count": 1,
   "id": "loose-medicaid",
   "metadata": {},
   "outputs": [
    {
     "name": "stdout",
     "output_type": "stream",
     "text": [
      "179\n",
      "pmb0836\n"
     ]
    }
   ],
   "source": [
    "print(179)\n",
    "print(\"pmb0836\")"
   ]
  }
 ],
 "metadata": {
  "kernelspec": {
   "display_name": "Python 3",
   "language": "python",
   "name": "python3"
  },
  "language_info": {
   "codemirror_mode": {
    "name": "ipython",
    "version": 3
   },
   "file_extension": ".py",
   "mimetype": "text/x-python",
   "name": "python",
   "nbconvert_exporter": "python",
   "pygments_lexer": "ipython3",
   "version": "3.8.5"
  }
 },
 "nbformat": 4,
 "nbformat_minor": 5
}
