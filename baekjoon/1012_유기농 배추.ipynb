{
 "cells": [
  {
   "cell_type": "markdown",
   "id": "heard-fitting",
   "metadata": {},
   "source": [
    "https://www.acmicpc.net/problem/1012"
   ]
  },
  {
   "cell_type": "code",
   "execution_count": 13,
   "id": "local-princeton",
   "metadata": {},
   "outputs": [],
   "source": [
    "from collections import deque\n",
    "\n",
    "def bfs(board, x, y, visited):\n",
    "    if board[x][y] == 0: return False\n",
    "    width, height = len(board[0]), len(board)\n",
    "    \n",
    "    queue = deque([(x, y)])\n",
    "    visited[x][y] = True\n",
    "    while queue:\n",
    "        tx, ty = queue.popleft()\n",
    "        visited[tx][ty] = True\n",
    "        dx = [-1, 1, 0, 0]\n",
    "        dy = [0, 0, -1, 1]\n",
    "        for i in range(4):\n",
    "            nx = x + dx[i]\n",
    "            ny = y + dy[i]\n",
    "            if 0 <= nx < height and 0 <= ny < width and not visited[nx][ny] and board[nx][ny] == 1:\n",
    "                queue.append((nx, ny))\n",
    "                visited[nx][ny] = True\n",
    "    print(visited)\n",
    "    return True"
   ]
  }
 ],
 "metadata": {
  "kernelspec": {
   "display_name": "Python 3",
   "language": "python",
   "name": "python3"
  },
  "language_info": {
   "codemirror_mode": {
    "name": "ipython",
    "version": 3
   },
   "file_extension": ".py",
   "mimetype": "text/x-python",
   "name": "python",
   "nbconvert_exporter": "python",
   "pygments_lexer": "ipython3",
   "version": "3.8.5"
  }
 },
 "nbformat": 4,
 "nbformat_minor": 5
}
