{
 "cells": [
  {
   "cell_type": "markdown",
   "id": "heard-fitting",
   "metadata": {},
   "source": [
    "https://www.acmicpc.net/problem/1012"
   ]
  },
  {
   "cell_type": "code",
   "execution_count": 37,
   "id": "future-twenty",
   "metadata": {},
   "outputs": [
    {
     "name": "stdout",
     "output_type": "stream",
     "text": [
      "2\n",
      "10 8 17\n",
      "0 0\n",
      "1 0\n",
      "1 1\n",
      "4 2\n",
      "4 3\n",
      "4 5\n",
      "2 4\n",
      "3 4\n",
      "7 4\n",
      "8 4\n",
      "9 4\n",
      "7 5\n",
      "8 5\n",
      "9 5\n",
      "7 6\n",
      "8 6\n",
      "9 6\n",
      "5\n",
      "10 10 1\n",
      "5 5\n",
      "1\n"
     ]
    }
   ],
   "source": [
    "import sys\n",
    "from collections import deque\n",
    "sys.setrecursionlimit(5000)\n",
    "\n",
    "def dfs(board, x, y, visited):\n",
    "    if board[x][y]==0 or visited[x][y]: return False\n",
    "    visited[x][y] = True\n",
    "    width, height = len(board[0]), len(board)\n",
    "    \n",
    "    dx = [-1, 1, 0, 0]\n",
    "    dy = [0, 0, -1, 1]\n",
    "    for i in range(4):\n",
    "        nx = x + dx[i]\n",
    "        ny = y + dy[i]\n",
    "        if 0<=nx<height and 0<=ny<width and not visited[nx][ny] and board[nx][ny]==1:\n",
    "            dfs(board, nx, ny, visited)\n",
    "    return True\n",
    "\n",
    "t = int(input()) # 테스트 케이스 개수\n",
    "\n",
    "for _ in range(t):\n",
    "    m, n, k = map(int, input().split()) # m: 가로, n: 세로, k: 입력 개수\n",
    "    board = [[0]*m for _ in range(n)]\n",
    "    visited = [[False for _ in range(m)] for _ in range(n)]\n",
    "    for _ in range(k):\n",
    "        y, x = map(int, input().split())\n",
    "        board[x][y] = 1\n",
    "    answer = 0\n",
    "    for x in range(n):\n",
    "        for y in range(m):\n",
    "            if dfs(board, x, y, visited): answer += 1\n",
    "    print(answer)"
   ]
  }
 ],
 "metadata": {
  "kernelspec": {
   "display_name": "Python 3",
   "language": "python",
   "name": "python3"
  },
  "language_info": {
   "codemirror_mode": {
    "name": "ipython",
    "version": 3
   },
   "file_extension": ".py",
   "mimetype": "text/x-python",
   "name": "python",
   "nbconvert_exporter": "python",
   "pygments_lexer": "ipython3",
   "version": "3.8.5"
  }
 },
 "nbformat": 4,
 "nbformat_minor": 5
}
