{
 "cells": [
  {
   "cell_type": "markdown",
   "id": "latin-approval",
   "metadata": {},
   "source": [
    "https://www.acmicpc.net/problem/17219"
   ]
  },
  {
   "cell_type": "code",
   "execution_count": 1,
   "id": "furnished-registrar",
   "metadata": {},
   "outputs": [
    {
     "name": "stdout",
     "output_type": "stream",
     "text": [
      "3 1\n",
      "noj.am IU\n",
      "acmicpc.net UAENA\n",
      "startlink.io THEKINGOD\n",
      "acmicpc.net\n",
      "UAENA\n"
     ]
    }
   ],
   "source": [
    "n, m = map(int, input().split())\n",
    "finder = {}\n",
    "for _ in range(n):\n",
    "    site, pw = input().split()\n",
    "    finder[site] = pw\n",
    "for _ in range(m):\n",
    "    print(finder[input()])"
   ]
  }
 ],
 "metadata": {
  "kernelspec": {
   "display_name": "Python 3",
   "language": "python",
   "name": "python3"
  },
  "language_info": {
   "codemirror_mode": {
    "name": "ipython",
    "version": 3
   },
   "file_extension": ".py",
   "mimetype": "text/x-python",
   "name": "python",
   "nbconvert_exporter": "python",
   "pygments_lexer": "ipython3",
   "version": "3.8.5"
  }
 },
 "nbformat": 4,
 "nbformat_minor": 5
}
