{
 "cells": [
  {
   "cell_type": "markdown",
   "id": "hispanic-accordance",
   "metadata": {},
   "source": [
    "### https://latte-is-horse.tistory.com/254\n",
    "https://www.acmicpc.net/problem/5525"
   ]
  },
  {
   "cell_type": "markdown",
   "id": "metallic-variety",
   "metadata": {},
   "source": [
    "#### 50점"
   ]
  },
  {
   "cell_type": "code",
   "execution_count": 2,
   "id": "living-minute",
   "metadata": {
    "scrolled": true
   },
   "outputs": [
    {
     "name": "stdout",
     "output_type": "stream",
     "text": [
      "2\n",
      "13\n",
      "OOIOIOIOIIOII\n",
      "2\n"
     ]
    }
   ],
   "source": [
    "n = int(input())\n",
    "m = int(input())\n",
    "s = input()\n",
    "pn = 'IO'*n+'I'\n",
    "unit = 2*n+1\n",
    "answer = 0\n",
    "for i in range(0, m-unit):\n",
    "    if s[i:i+unit]==pn: answer += 1\n",
    "print(answer)"
   ]
  },
  {
   "cell_type": "markdown",
   "id": "spread-hawaii",
   "metadata": {},
   "source": [
    "#### 100점"
   ]
  },
  {
   "cell_type": "code",
   "execution_count": 26,
   "id": "laden-relative",
   "metadata": {},
   "outputs": [
    {
     "name": "stdout",
     "output_type": "stream",
     "text": [
      "2\n",
      "13\n",
      "OOIOIOIOIIOII\n",
      "2\n"
     ]
    }
   ],
   "source": [
    "n = int(input())\n",
    "m = int(input())\n",
    "s = input()\n",
    "\n",
    "stack = [i for i in range(len(s)) if s[i]=='I']\n",
    "count, answer = 0, 0\n",
    "\n",
    "for i in range(1, len(stack)):\n",
    "    if stack[i]-stack[i-1]==2: count += 1\n",
    "    else: count = 0\n",
    "    if count >= n: answer += 1\n",
    "\n",
    "print(answer)"
   ]
  }
 ],
 "metadata": {
  "kernelspec": {
   "display_name": "Python 3",
   "language": "python",
   "name": "python3"
  },
  "language_info": {
   "codemirror_mode": {
    "name": "ipython",
    "version": 3
   },
   "file_extension": ".py",
   "mimetype": "text/x-python",
   "name": "python",
   "nbconvert_exporter": "python",
   "pygments_lexer": "ipython3",
   "version": "3.8.5"
  }
 },
 "nbformat": 4,
 "nbformat_minor": 5
}
