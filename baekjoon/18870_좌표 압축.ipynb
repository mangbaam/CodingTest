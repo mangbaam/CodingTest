{
 "cells": [
  {
   "cell_type": "markdown",
   "id": "hourly-pricing",
   "metadata": {},
   "source": [
    "https://www.acmicpc.net/problem/18870"
   ]
  },
  {
   "cell_type": "code",
   "execution_count": 9,
   "id": "terminal-clark",
   "metadata": {},
   "outputs": [
    {
     "name": "stdout",
     "output_type": "stream",
     "text": [
      "5\n",
      "2 4 -10 4 -9\n",
      "정렬 후:  [-10, -9, 2, 4]\n",
      "2 3 0 3 1 "
     ]
    }
   ],
   "source": [
    "n = int(input())\n",
    "nums = list(map(int, input().split()))\n",
    "sortedNums = sorted(set(nums))\n",
    "ans = dict((sortedNums[i], i) for i in range(len(sortedNums)))\n",
    "for num in nums:\n",
    "    print(ans[num], end=' ')"
   ]
  }
 ],
 "metadata": {
  "kernelspec": {
   "display_name": "Python 3",
   "language": "python",
   "name": "python3"
  },
  "language_info": {
   "codemirror_mode": {
    "name": "ipython",
    "version": 3
   },
   "file_extension": ".py",
   "mimetype": "text/x-python",
   "name": "python",
   "nbconvert_exporter": "python",
   "pygments_lexer": "ipython3",
   "version": "3.8.5"
  }
 },
 "nbformat": 4,
 "nbformat_minor": 5
}
