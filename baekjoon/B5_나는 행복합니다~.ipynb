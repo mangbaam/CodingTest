{
 "cells": [
  {
   "cell_type": "markdown",
   "id": "floral-pavilion",
   "metadata": {},
   "source": [
    "https://www.acmicpc.net/problem/14652"
   ]
  },
  {
   "cell_type": "code",
   "execution_count": 3,
   "id": "centered-vessel",
   "metadata": {},
   "outputs": [
    {
     "name": "stdout",
     "output_type": "stream",
     "text": [
      "6 4 14\n",
      "3 2\n"
     ]
    }
   ],
   "source": [
    "n, m, k = map(int, input().split())\n",
    "row, col = divmod(k, m)\n",
    "print(row, col)"
   ]
  }
 ],
 "metadata": {
  "kernelspec": {
   "display_name": "Python 3",
   "language": "python",
   "name": "python3"
  },
  "language_info": {
   "codemirror_mode": {
    "name": "ipython",
    "version": 3
   },
   "file_extension": ".py",
   "mimetype": "text/x-python",
   "name": "python",
   "nbconvert_exporter": "python",
   "pygments_lexer": "ipython3",
   "version": "3.8.5"
  }
 },
 "nbformat": 4,
 "nbformat_minor": 5
}
