{
 "cells": [
  {
   "cell_type": "markdown",
   "id": "stable-perspective",
   "metadata": {},
   "source": [
    "https://www.acmicpc.net/problem/15351"
   ]
  },
  {
   "cell_type": "code",
   "execution_count": 3,
   "id": "friendly-narrative",
   "metadata": {},
   "outputs": [
    {
     "name": "stdout",
     "output_type": "stream",
     "text": [
      "4\n",
      "OTAKU LIFE\n",
      "PERFECT LIFE\n",
      "PRODUCER\n",
      "PERFECT LIFE\n",
      "GAMING LIFE\n",
      "83\n",
      "PROGRAMMING\n",
      "131\n"
     ]
    }
   ],
   "source": [
    "import string\n",
    "t = int(input())\n",
    "alpha = list(string.ascii_uppercase)\n",
    "score = {alpha[i]:i+1 for i in range(len(alpha))}\n",
    "for i in range(t):\n",
    "    s = input()\n",
    "    total = 0\n",
    "    for c in s:\n",
    "        if c.isalpha(): total += score[c]\n",
    "    if total == 100:\n",
    "        print(\"PERFECT LIFE\")\n",
    "    else:\n",
    "        print(total)"
   ]
  }
 ],
 "metadata": {
  "kernelspec": {
   "display_name": "Python 3",
   "language": "python",
   "name": "python3"
  },
  "language_info": {
   "codemirror_mode": {
    "name": "ipython",
    "version": 3
   },
   "file_extension": ".py",
   "mimetype": "text/x-python",
   "name": "python",
   "nbconvert_exporter": "python",
   "pygments_lexer": "ipython3",
   "version": "3.8.5"
  }
 },
 "nbformat": 4,
 "nbformat_minor": 5
}
