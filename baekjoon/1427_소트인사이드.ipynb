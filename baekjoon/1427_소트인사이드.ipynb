{
 "cells": [
  {
   "cell_type": "markdown",
   "id": "saving-accreditation",
   "metadata": {},
   "source": [
    "https://www.acmicpc.net/problem/1427"
   ]
  },
  {
   "cell_type": "code",
   "execution_count": 2,
   "id": "cellular-summit",
   "metadata": {},
   "outputs": [
    {
     "name": "stdout",
     "output_type": "stream",
     "text": [
      "2143\n",
      "4321\n"
     ]
    }
   ],
   "source": [
    "n = input()\n",
    "print(''.join(sorted(n, reverse=True)))"
   ]
  },
  {
   "cell_type": "code",
   "execution_count": null,
   "id": "solar-speed",
   "metadata": {},
   "outputs": [],
   "source": []
  }
 ],
 "metadata": {
  "kernelspec": {
   "display_name": "Python 3",
   "language": "python",
   "name": "python3"
  },
  "language_info": {
   "codemirror_mode": {
    "name": "ipython",
    "version": 3
   },
   "file_extension": ".py",
   "mimetype": "text/x-python",
   "name": "python",
   "nbconvert_exporter": "python",
   "pygments_lexer": "ipython3",
   "version": "3.8.5"
  }
 },
 "nbformat": 4,
 "nbformat_minor": 5
}
