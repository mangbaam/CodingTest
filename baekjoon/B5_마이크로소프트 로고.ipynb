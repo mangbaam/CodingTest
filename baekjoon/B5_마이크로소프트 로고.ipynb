{
 "cells": [
  {
   "cell_type": "markdown",
   "id": "coordinate-circumstances",
   "metadata": {},
   "source": [
    "https://www.acmicpc.net/problem/5338"
   ]
  },
  {
   "cell_type": "code",
   "execution_count": 1,
   "id": "heavy-campus",
   "metadata": {},
   "outputs": [
    {
     "name": "stdout",
     "output_type": "stream",
     "text": [
      "       _.-;;-._\n",
      "'-..-'|   ||   |\n",
      "'-..-'|_.-;;-._|\n",
      "'-..-'|   ||   |\n",
      "'-..-'|_.-''-._|\n"
     ]
    }
   ],
   "source": [
    "print(\"       _.-;;-._\")\n",
    "print(\"'-..-'|   ||   |\")\n",
    "print(\"'-..-'|_.-;;-._|\")\n",
    "print(\"'-..-'|   ||   |\")\n",
    "print(\"'-..-'|_.-''-._|\")"
   ]
  }
 ],
 "metadata": {
  "kernelspec": {
   "display_name": "Python 3",
   "language": "python",
   "name": "python3"
  },
  "language_info": {
   "codemirror_mode": {
    "name": "ipython",
    "version": 3
   },
   "file_extension": ".py",
   "mimetype": "text/x-python",
   "name": "python",
   "nbconvert_exporter": "python",
   "pygments_lexer": "ipython3",
   "version": "3.8.5"
  }
 },
 "nbformat": 4,
 "nbformat_minor": 5
}
