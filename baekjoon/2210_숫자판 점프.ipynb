{
 "cells": [
  {
   "cell_type": "markdown",
   "id": "revised-quarterly",
   "metadata": {},
   "source": [
    "https://www.acmicpc.net/problem/2210"
   ]
  },
  {
   "cell_type": "code",
   "execution_count": 10,
   "id": "equivalent-throw",
   "metadata": {},
   "outputs": [
    {
     "name": "stdout",
     "output_type": "stream",
     "text": [
      "15\n"
     ]
    }
   ],
   "source": [
    "#graph = [list(input().split()) for _ in range(5)]\n",
    "graph = [\n",
    "    [\"1\", \"1\", \"1\", \"1\", \"1\"],\n",
    "    [\"1\", \"1\", \"1\", '1', '1'],\n",
    "    ['1', '1', '1', '1', '1'],\n",
    "    ['1', '1', '1', '2', '1'],\n",
    "    ['1', '1', '1', '1', '1']\n",
    "]\n",
    "nums = set()\n",
    "num = \"\"\n",
    "def bfs(graph, x, y, depth, num):\n",
    "    depth += 1\n",
    "    num += graph[x][y] # 숫자 추가\n",
    "    if depth > 5:\n",
    "        nums.add(num)\n",
    "        return\n",
    "    \n",
    "    dx = [1, -1, 0, 0]\n",
    "    dy = [0, 0, -1, 1]\n",
    "    for i in range(4):\n",
    "        nx = x + dx[i]\n",
    "        ny = y + dy[i]\n",
    "        if 0 <= nx < 5 and 0 <= ny < 5:\n",
    "            bfs(graph, nx, ny, depth, num)\n",
    "for i in range(5):\n",
    "    for j in range(5):\n",
    "        num = ''\n",
    "        bfs(graph, i, j, 0, num)\n",
    "print(len(nums))"
   ]
  }
 ],
 "metadata": {
  "kernelspec": {
   "display_name": "Python 3",
   "language": "python",
   "name": "python3"
  },
  "language_info": {
   "codemirror_mode": {
    "name": "ipython",
    "version": 3
   },
   "file_extension": ".py",
   "mimetype": "text/x-python",
   "name": "python",
   "nbconvert_exporter": "python",
   "pygments_lexer": "ipython3",
   "version": "3.8.5"
  }
 },
 "nbformat": 4,
 "nbformat_minor": 5
}
