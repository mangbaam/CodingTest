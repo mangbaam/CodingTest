{
 "cells": [
  {
   "cell_type": "markdown",
   "id": "welsh-pursuit",
   "metadata": {},
   "source": [
    "https://www.acmicpc.net/problem/5525"
   ]
  },
  {
   "cell_type": "code",
   "execution_count": 2,
   "id": "great-mother",
   "metadata": {
    "scrolled": true
   },
   "outputs": [
    {
     "name": "stdout",
     "output_type": "stream",
     "text": [
      "2\n",
      "13\n",
      "OOIOIOIOIIOII\n",
      "2\n"
     ]
    }
   ],
   "source": [
    "n = int(input())\n",
    "m = int(input())\n",
    "s = input()\n",
    "pn = 'IO'*n+'I'\n",
    "unit = 2*n+1\n",
    "answer = 0\n",
    "for i in range(0, m-unit):\n",
    "    if s[i:i+unit]==pn: answer += 1\n",
    "print(answer)"
   ]
  },
  {
   "cell_type": "code",
   "execution_count": 25,
   "id": "assigned-richardson",
   "metadata": {},
   "outputs": [
    {
     "name": "stdout",
     "output_type": "stream",
     "text": [
      "2\n",
      "13\n",
      "OOIOIOIOIIOII\n",
      "2\n"
     ]
    }
   ],
   "source": [
    "n = int(input())\n",
    "m = int(input())\n",
    "s = input()\n",
    "pn = 'IO'*n+'I'\n",
    "unit = 2*n+1\n",
    "answer = 0\n",
    "for i in range(0, m-unit):\n",
    "    if s[i]=='I' and s[i:i+unit]==pn: answer += 1\n",
    "print(answer)"
   ]
  },
  {
   "cell_type": "code",
   "execution_count": null,
   "id": "tired-chester",
   "metadata": {},
   "outputs": [],
   "source": []
  }
 ],
 "metadata": {
  "kernelspec": {
   "display_name": "Python 3",
   "language": "python",
   "name": "python3"
  },
  "language_info": {
   "codemirror_mode": {
    "name": "ipython",
    "version": 3
   },
   "file_extension": ".py",
   "mimetype": "text/x-python",
   "name": "python",
   "nbconvert_exporter": "python",
   "pygments_lexer": "ipython3",
   "version": "3.8.5"
  }
 },
 "nbformat": 4,
 "nbformat_minor": 5
}
