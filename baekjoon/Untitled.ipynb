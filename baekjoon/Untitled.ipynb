{
 "cells": [
  {
   "cell_type": "code",
   "execution_count": 21,
   "id": "dominant-import",
   "metadata": {},
   "outputs": [
    {
     "name": "stdout",
     "output_type": "stream",
     "text": [
      "6\n",
      "0\n",
      "1\n",
      "2\n",
      "4\n",
      "3\n",
      "5\n",
      "\n",
      "[5, 4, 3, 2, 1]\n",
      "[0]\n",
      "\n",
      "27\n"
     ]
    }
   ],
   "source": [
    "answer = 0\n",
    "li = []\n",
    "n = int(input())\n",
    "\n",
    "for _ in range(n):\n",
    "    li.append(int(input()))\n",
    "print()\n",
    "positive, negative = [], []\n",
    "for i in li:\n",
    "    if i > 0:\n",
    "        positive.append(i)\n",
    "    else:\n",
    "        negative.append(i)\n",
    "positive.sort(reverse=True)\n",
    "negative.sort()\n",
    "print(positive)\n",
    "print(negative)\n",
    "print()\n",
    "\n",
    "for i in range(1, len(positive), 2):\n",
    "    answer += positive[i-1]*positive[i]\n",
    "if len(positive)%2:\n",
    "    answer += positive[-1]\n",
    "for i in range(1, len(negative), 2):\n",
    "    answer += negative[i-1]*negative[i]\n",
    "if len(negative)%2:\n",
    "    answer += negative[-1]\n",
    "print(answer)"
   ]
  },
  {
   "cell_type": "code",
   "execution_count": 23,
   "id": "resistant-facial",
   "metadata": {},
   "outputs": [
    {
     "name": "stdout",
     "output_type": "stream",
     "text": [
      "6\n",
      "-300\n",
      "-200\n",
      "0\n",
      "10\n",
      "20\n",
      "30\n",
      "60610\n"
     ]
    }
   ],
   "source": [
    "answer = 0\n",
    "li = []\n",
    "n = int(input())\n",
    "\n",
    "for _ in range(n):\n",
    "    li.append(int(input()))\n",
    "positive, negative = [], []\n",
    "for i in li:\n",
    "    if i > 0: positive.append(i)\n",
    "    else: negative.append(i)\n",
    "positive.sort(reverse=True)\n",
    "negative.sort()\n",
    "# 양수\n",
    "for i in range(1, len(positive), 2):\n",
    "    answer += positive[i-1]*positive[i]\n",
    "if len(positive)%2:\n",
    "    answer += positive[-1]\n",
    "# 음수    \n",
    "for i in range(1, len(negative), 2):\n",
    "    answer += negative[i-1]*negative[i]\n",
    "if len(negative)%2:\n",
    "    answer += negative[-1]\n",
    "print(answer)"
   ]
  },
  {
   "cell_type": "code",
   "execution_count": null,
   "id": "vietnamese-starter",
   "metadata": {},
   "outputs": [],
   "source": []
  }
 ],
 "metadata": {
  "kernelspec": {
   "display_name": "Python 3",
   "language": "python",
   "name": "python3"
  },
  "language_info": {
   "codemirror_mode": {
    "name": "ipython",
    "version": 3
   },
   "file_extension": ".py",
   "mimetype": "text/x-python",
   "name": "python",
   "nbconvert_exporter": "python",
   "pygments_lexer": "ipython3",
   "version": "3.8.5"
  }
 },
 "nbformat": 4,
 "nbformat_minor": 5
}
