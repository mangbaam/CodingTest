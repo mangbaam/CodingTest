{
 "cells": [
  {
   "cell_type": "markdown",
   "id": "express-typing",
   "metadata": {},
   "source": [
    "https://www.acmicpc.net/problem/2789"
   ]
  },
  {
   "cell_type": "code",
   "execution_count": 2,
   "id": "enclosed-photographer",
   "metadata": {},
   "outputs": [
    {
     "name": "stdout",
     "output_type": "stream",
     "text": [
      "KARIJERA\n",
      "KJ"
     ]
    }
   ],
   "source": [
    "cambridge = list(\"CAMBRIDGE\")\n",
    "word = input()\n",
    "for c in word:\n",
    "    if c in cambridge:\n",
    "        continue\n",
    "    print(c, end=\"\")"
   ]
  },
  {
   "cell_type": "code",
   "execution_count": null,
   "id": "phantom-applicant",
   "metadata": {},
   "outputs": [],
   "source": []
  }
 ],
 "metadata": {
  "kernelspec": {
   "display_name": "Python 3",
   "language": "python",
   "name": "python3"
  },
  "language_info": {
   "codemirror_mode": {
    "name": "ipython",
    "version": 3
   },
   "file_extension": ".py",
   "mimetype": "text/x-python",
   "name": "python",
   "nbconvert_exporter": "python",
   "pygments_lexer": "ipython3",
   "version": "3.8.5"
  }
 },
 "nbformat": 4,
 "nbformat_minor": 5
}
