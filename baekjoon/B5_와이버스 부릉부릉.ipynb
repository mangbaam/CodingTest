{
 "cells": [
  {
   "cell_type": "markdown",
   "id": "pediatric-vietnam",
   "metadata": {},
   "source": [
    "https://www.acmicpc.net/problem/14645"
   ]
  },
  {
   "cell_type": "code",
   "execution_count": 1,
   "id": "written-pickup",
   "metadata": {},
   "outputs": [
    {
     "name": "stdout",
     "output_type": "stream",
     "text": [
      "3 2\n",
      "10 3\n",
      "21 8\n",
      "0 15\n",
      "비와이\n"
     ]
    }
   ],
   "source": [
    "n, k = map(int, input().split())\n",
    "for _ in range(n): input()\n",
    "print(\"비와이\")"
   ]
  }
 ],
 "metadata": {
  "kernelspec": {
   "display_name": "Python 3",
   "language": "python",
   "name": "python3"
  },
  "language_info": {
   "codemirror_mode": {
    "name": "ipython",
    "version": 3
   },
   "file_extension": ".py",
   "mimetype": "text/x-python",
   "name": "python",
   "nbconvert_exporter": "python",
   "pygments_lexer": "ipython3",
   "version": "3.8.5"
  }
 },
 "nbformat": 4,
 "nbformat_minor": 5
}
