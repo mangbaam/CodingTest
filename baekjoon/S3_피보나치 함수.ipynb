{
 "cells": [
  {
   "cell_type": "markdown",
   "id": "strong-stephen",
   "metadata": {},
   "source": [
    "### https://latte-is-horse.tistory.com/240\n",
    "https://www.acmicpc.net/problem/1003"
   ]
  },
  {
   "cell_type": "code",
   "execution_count": 10,
   "id": "interim-laser",
   "metadata": {},
   "outputs": [
    {
     "name": "stdout",
     "output_type": "stream",
     "text": [
      "3\n",
      "0\n",
      "1 0\n",
      "1\n",
      "0 1\n",
      "3\n",
      "1 2\n"
     ]
    }
   ],
   "source": [
    "def fibonacci():\n",
    "    d = [[] for _ in range(41)]\n",
    "    d[0] = [1, 0]\n",
    "    d[1] = [0, 1]\n",
    "    for i in range(2, 41):\n",
    "        d[i] = [d[i-1][0]+d[i-2][0], d[i-1][1]+d[i-2][1]]\n",
    "    return d\n",
    "\n",
    "fibo = fibonacci()\n",
    "t = int(input())\n",
    "for _ in range(t):\n",
    "    zero, one = fibo[int(input())]\n",
    "    print(zero, one)"
   ]
  }
 ],
 "metadata": {
  "kernelspec": {
   "display_name": "Python 3",
   "language": "python",
   "name": "python3"
  },
  "language_info": {
   "codemirror_mode": {
    "name": "ipython",
    "version": 3
   },
   "file_extension": ".py",
   "mimetype": "text/x-python",
   "name": "python",
   "nbconvert_exporter": "python",
   "pygments_lexer": "ipython3",
   "version": "3.8.5"
  }
 },
 "nbformat": 4,
 "nbformat_minor": 5
}
