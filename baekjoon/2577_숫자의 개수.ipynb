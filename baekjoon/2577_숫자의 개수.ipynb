{
 "cells": [
  {
   "cell_type": "markdown",
   "id": "crude-armor",
   "metadata": {},
   "source": [
    "https://www.acmicpc.net/problem/2577"
   ]
  },
  {
   "cell_type": "code",
   "execution_count": 2,
   "id": "imported-sight",
   "metadata": {},
   "outputs": [
    {
     "name": "stdout",
     "output_type": "stream",
     "text": [
      "150\n",
      "266\n",
      "427\n",
      "3\n",
      "1\n",
      "0\n",
      "2\n",
      "0\n",
      "0\n",
      "0\n",
      "2\n",
      "0\n",
      "0\n"
     ]
    }
   ],
   "source": [
    "a = int(input())\n",
    "b = int(input())\n",
    "c = int(input())\n",
    "\n",
    "multi = str(a * b * c)\n",
    "\n",
    "record = [0] * 10\n",
    "\n",
    "for n in multi:\n",
    "    record[int(n)] += 1\n",
    "\n",
    "for i in record:\n",
    "    print(i)"
   ]
  },
  {
   "cell_type": "code",
   "execution_count": null,
   "id": "better-bruce",
   "metadata": {},
   "outputs": [],
   "source": []
  }
 ],
 "metadata": {
  "kernelspec": {
   "display_name": "Python 3",
   "language": "python",
   "name": "python3"
  },
  "language_info": {
   "codemirror_mode": {
    "name": "ipython",
    "version": 3
   },
   "file_extension": ".py",
   "mimetype": "text/x-python",
   "name": "python",
   "nbconvert_exporter": "python",
   "pygments_lexer": "ipython3",
   "version": "3.8.5"
  }
 },
 "nbformat": 4,
 "nbformat_minor": 5
}
