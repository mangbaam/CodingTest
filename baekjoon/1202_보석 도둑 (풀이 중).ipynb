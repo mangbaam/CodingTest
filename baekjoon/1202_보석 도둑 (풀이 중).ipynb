{
 "cells": [
  {
   "cell_type": "code",
   "execution_count": 7,
   "id": "opposed-value",
   "metadata": {},
   "outputs": [
    {
     "name": "stdout",
     "output_type": "stream",
     "text": [
      "2 1\n",
      "5 10\n",
      "100 100\n",
      "11\n",
      "10\n"
     ]
    }
   ],
   "source": [
    "answer = 0\n",
    "\n",
    "n, k = map(int, input().split())\n",
    "jewels, bags = [], []\n",
    "for _ in range(n):\n",
    "    jewels.append(tuple(map(int, input().split())))\n",
    "for _ in range(k):\n",
    "    bags.append(int(input()))\n",
    "\n",
    "bags.sort(reverse=True) # 내림차순 정렬\n",
    "jewels.sort(key=lambda x: (x[1], x[0]), reverse=True)\n",
    "for bag in bags:\n",
    "    for i, jewel in enumerate(jewels):\n",
    "        if jewel and bag >= jewel[0]:\n",
    "            answer += jewel[1]\n",
    "            jewels[i] = False # 훔친 보석은 False 처리\n",
    "            break # 가방에 넣었으면 다음 가방으로\n",
    "print(answer)"
   ]
  },
  {
   "cell_type": "code",
   "execution_count": null,
   "id": "spoken-tradition",
   "metadata": {},
   "outputs": [],
   "source": []
  }
 ],
 "metadata": {
  "kernelspec": {
   "display_name": "Python 3",
   "language": "python",
   "name": "python3"
  },
  "language_info": {
   "codemirror_mode": {
    "name": "ipython",
    "version": 3
   },
   "file_extension": ".py",
   "mimetype": "text/x-python",
   "name": "python",
   "nbconvert_exporter": "python",
   "pygments_lexer": "ipython3",
   "version": "3.8.5"
  }
 },
 "nbformat": 4,
 "nbformat_minor": 5
}
