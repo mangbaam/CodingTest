{
 "cells": [
  {
   "cell_type": "markdown",
   "id": "institutional-colonial",
   "metadata": {},
   "source": [
    "https://www.acmicpc.net/problem/17249"
   ]
  },
  {
   "cell_type": "code",
   "execution_count": 3,
   "id": "objective-banks",
   "metadata": {},
   "outputs": [
    {
     "name": "stdout",
     "output_type": "stream",
     "text": [
      "@===@==@=@==(^0^)==@=@===@\n",
      "4 3\n"
     ]
    }
   ],
   "source": [
    "taebo = input()\n",
    "hands = taebo.split('(^0^)')\n",
    "lefthand, righthand = hands[0], hands[1]\n",
    "left = lefthand.split(\"=\").count(\"@\")\n",
    "right = righthand.split(\"=\").count(\"@\")\n",
    "print(left, right)"
   ]
  }
 ],
 "metadata": {
  "kernelspec": {
   "display_name": "Python 3",
   "language": "python",
   "name": "python3"
  },
  "language_info": {
   "codemirror_mode": {
    "name": "ipython",
    "version": 3
   },
   "file_extension": ".py",
   "mimetype": "text/x-python",
   "name": "python",
   "nbconvert_exporter": "python",
   "pygments_lexer": "ipython3",
   "version": "3.8.5"
  }
 },
 "nbformat": 4,
 "nbformat_minor": 5
}
