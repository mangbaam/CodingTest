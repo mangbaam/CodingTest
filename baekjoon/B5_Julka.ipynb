{
 "cells": [
  {
   "cell_type": "markdown",
   "id": "broad-capacity",
   "metadata": {},
   "source": [
    "https://www.acmicpc.net/problem/8437"
   ]
  },
  {
   "cell_type": "code",
   "execution_count": 2,
   "id": "waiting-store",
   "metadata": {},
   "outputs": [
    {
     "name": "stdout",
     "output_type": "stream",
     "text": [
      "10\n",
      "2\n",
      "6\n",
      "4\n"
     ]
    }
   ],
   "source": [
    "plus = int(input())\n",
    "minus = int(input())\n",
    "a = (plus+minus)//2\n",
    "b = plus-a\n",
    "print(a)\n",
    "print(b)"
   ]
  }
 ],
 "metadata": {
  "kernelspec": {
   "display_name": "Python 3",
   "language": "python",
   "name": "python3"
  },
  "language_info": {
   "codemirror_mode": {
    "name": "ipython",
    "version": 3
   },
   "file_extension": ".py",
   "mimetype": "text/x-python",
   "name": "python",
   "nbconvert_exporter": "python",
   "pygments_lexer": "ipython3",
   "version": "3.8.5"
  }
 },
 "nbformat": 4,
 "nbformat_minor": 5
}
