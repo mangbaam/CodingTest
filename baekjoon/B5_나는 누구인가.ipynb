{
 "cells": [
  {
   "cell_type": "markdown",
   "id": "professional-telephone",
   "metadata": {},
   "source": [
    "https://www.acmicpc.net/problem/15733"
   ]
  },
  {
   "cell_type": "code",
   "execution_count": 1,
   "id": "sized-accent",
   "metadata": {},
   "outputs": [
    {
     "name": "stdout",
     "output_type": "stream",
     "text": [
      "I'm Sexy\n"
     ]
    }
   ],
   "source": [
    "print(\"I'm Sexy\")"
   ]
  }
 ],
 "metadata": {
  "kernelspec": {
   "display_name": "Python 3",
   "language": "python",
   "name": "python3"
  },
  "language_info": {
   "codemirror_mode": {
    "name": "ipython",
    "version": 3
   },
   "file_extension": ".py",
   "mimetype": "text/x-python",
   "name": "python",
   "nbconvert_exporter": "python",
   "pygments_lexer": "ipython3",
   "version": "3.8.5"
  }
 },
 "nbformat": 4,
 "nbformat_minor": 5
}
