{
 "cells": [
  {
   "cell_type": "code",
   "execution_count": 112,
   "id": "latest-mountain",
   "metadata": {},
   "outputs": [],
   "source": [
    "def solution(grid):\n",
    "    grid = [list(i) for i in grid]\n",
    "    w, h = len(grid[0]), len(grid)\n",
    "    answer = []\n",
    "    infos = []\n",
    "    \n",
    "    dx = [-1, 0, 1, 0]\n",
    "    dy = [0, 1, 0, -1]\n",
    "    \n",
    "    for i in range(4):\n",
    "        x, y = 0, 0\n",
    "        count = 0\n",
    "        direction = i\n",
    "        info = set()\n",
    "        while True:\n",
    "            count += 1\n",
    "            # print(f'x: {x}, y: {y}, count: {count}, 방향: {direction}')\n",
    "            info.add((x, y, direction))\n",
    "            \n",
    "            if grid[x][y] == 'L':\n",
    "                direction = (direction+3) % 4\n",
    "            elif grid[x][y] == 'R':\n",
    "                direction = (direction+1) % 4\n",
    "                \n",
    "            x = (x + dx[direction] + h) % h \n",
    "            y = (y + dy[direction] + w) % w\n",
    "            if (x, y) == (0, 0) and direction == i: break\n",
    "        \n",
    "        if info in infos: continue\n",
    "        else: infos.append(info); answer.append(count)\n",
    "        \n",
    "    return sorted(answer)"
   ]
  },
  {
   "cell_type": "code",
   "execution_count": 140,
   "id": "artificial-techno",
   "metadata": {},
   "outputs": [],
   "source": [
    "def solution(grid):\n",
    "    grid = [list(i) for i in grid]\n",
    "    w, h = len(grid[0]), len(grid)\n",
    "    answer = []\n",
    "    infos = []\n",
    "    \n",
    "    dx = [-1, 0, 1, 0]\n",
    "    dy = [0, 1, 0, -1]\n",
    "    \n",
    "    for ix in range(h):\n",
    "        for iy in range(w):\n",
    "            for i in range(4):\n",
    "                x, y = ix, iy\n",
    "                count = 0\n",
    "                direction = i\n",
    "                info = set()\n",
    "                while True:\n",
    "                    count += 1\n",
    "                    info.add((x, y, direction))\n",
    "\n",
    "                    # 방향 전환\n",
    "                    if grid[x][y] == 'L':\n",
    "                        direction = (direction+3) % 4\n",
    "                    elif grid[x][y] == 'R':\n",
    "                        direction = (direction+1) % 4\n",
    "\n",
    "                    # 다음 위치\n",
    "                    x = (x + dx[direction] + h) % h \n",
    "                    y = (y + dy[direction] + w) % w\n",
    "                    if (x, y) == (ix, iy) and direction == i: break\n",
    "\n",
    "                if info in infos: continue\n",
    "                else: infos.append(info); answer.append(count)\n",
    "            print(ix, iy, '에서 시작', answer)\n",
    "        \n",
    "    return sorted(answer)"
   ]
  },
  {
   "cell_type": "code",
   "execution_count": 141,
   "id": "prompt-faculty",
   "metadata": {},
   "outputs": [
    {
     "name": "stdout",
     "output_type": "stream",
     "text": [
      "0 0 에서 시작 [16]\n",
      "0 1 에서 시작 [16]\n",
      "1 0 에서 시작 [16]\n",
      "1 1 에서 시작 [16]\n"
     ]
    },
    {
     "data": {
      "text/plain": [
       "[16]"
      ]
     },
     "execution_count": 141,
     "metadata": {},
     "output_type": "execute_result"
    }
   ],
   "source": [
    "solution([\"SL\", \"LR\"])"
   ]
  },
  {
   "cell_type": "code",
   "execution_count": 142,
   "id": "painful-parliament",
   "metadata": {},
   "outputs": [
    {
     "name": "stdout",
     "output_type": "stream",
     "text": [
      "0 0 에서 시작 [1, 1, 1, 1]\n"
     ]
    },
    {
     "data": {
      "text/plain": [
       "[1, 1, 1, 1]"
      ]
     },
     "execution_count": 142,
     "metadata": {},
     "output_type": "execute_result"
    }
   ],
   "source": [
    "solution([\"S\"])"
   ]
  },
  {
   "cell_type": "code",
   "execution_count": 143,
   "id": "appointed-warehouse",
   "metadata": {},
   "outputs": [
    {
     "name": "stdout",
     "output_type": "stream",
     "text": [
      "0 0 에서 시작 [4, 4]\n",
      "1 0 에서 시작 [4, 4]\n"
     ]
    },
    {
     "data": {
      "text/plain": [
       "[4, 4]"
      ]
     },
     "execution_count": 143,
     "metadata": {},
     "output_type": "execute_result"
    }
   ],
   "source": [
    "solution([\"R\", \"R\"])"
   ]
  },
  {
   "cell_type": "markdown",
   "id": "passive-start",
   "metadata": {},
   "source": [
    "## 3번"
   ]
  },
  {
   "cell_type": "code",
   "execution_count": 121,
   "id": "reflected-gravity",
   "metadata": {},
   "outputs": [],
   "source": [
    "from collections import deque\n",
    "\n",
    "def solution(a, b, g, s, w, t):\n",
    "    answer = -1\n",
    "    cities = len(w)\n",
    "    e = [w[i] / t[i] for i in range(cities)] # 효율성\n",
    "    j = [g[i] + s[i] for i in range(cities)] # 금 + 은\n",
    "    print(e)\n",
    "    print(j)\n",
    "    start = deque([True for _ in range(cities)])\n",
    "    end = deque([False for _ in range(cities)])\n",
    "\n",
    "    \n",
    "    \n",
    "    return answer"
   ]
  },
  {
   "cell_type": "code",
   "execution_count": 122,
   "id": "objective-evaluation",
   "metadata": {},
   "outputs": [
    {
     "name": "stdout",
     "output_type": "stream",
     "text": [
      "[25.0, 12.5, 2.0]\n",
      "[70, 70, 500]\n",
      "deque([True, True, True]) deque([False, False, False])\n"
     ]
    },
    {
     "data": {
      "text/plain": [
       "-1"
      ]
     },
     "execution_count": 122,
     "metadata": {},
     "output_type": "execute_result"
    }
   ],
   "source": [
    "solution(90, 500, [70, 70, 0], [0, 0, 500], [100, 100, 2], [4, 8, 1])"
   ]
  },
  {
   "cell_type": "code",
   "execution_count": 146,
   "id": "scheduled-minnesota",
   "metadata": {},
   "outputs": [
    {
     "data": {
      "text/plain": [
       "[(0, 0, 0),\n",
       " (0, 0, 1),\n",
       " (0, 0, 2),\n",
       " (0, 0, 3),\n",
       " (0, 1, 0),\n",
       " (0, 1, 1),\n",
       " (0, 1, 2),\n",
       " (0, 1, 3),\n",
       " (0, 2, 0),\n",
       " (0, 2, 1),\n",
       " (0, 2, 2),\n",
       " (0, 2, 3),\n",
       " (1, 0, 0),\n",
       " (1, 0, 1),\n",
       " (1, 0, 2),\n",
       " (1, 0, 3),\n",
       " (1, 1, 0),\n",
       " (1, 1, 1),\n",
       " (1, 1, 2),\n",
       " (1, 1, 3),\n",
       " (1, 2, 0),\n",
       " (1, 2, 1),\n",
       " (1, 2, 2),\n",
       " (1, 2, 3)]"
      ]
     },
     "execution_count": 146,
     "metadata": {},
     "output_type": "execute_result"
    }
   ],
   "source": [
    "w, h = 2, 3\n",
    "t = [(sx, sy, d) for sx in range(w) for sy in range(h) for d in range(4)]\n",
    "t"
   ]
  },
  {
   "cell_type": "code",
   "execution_count": 156,
   "id": "actual-marketing",
   "metadata": {},
   "outputs": [],
   "source": [
    "def solution(grid):\n",
    "    grid = [list(i) for i in grid]\n",
    "    w, h = len(grid[0]), len(grid)\n",
    "    answer = []\n",
    "    infos = []\n",
    "    \n",
    "    dx = [-1, 0, 1, 0]\n",
    "    dy = [0, 1, 0, -1]\n",
    "    \n",
    "    t = [(sx, sy, d) for sx in range(h) for sy in range(w) for d in range(4)]\n",
    "    \n",
    "    for c in t:\n",
    "        x, y =  c[0], c[1]\n",
    "        i = c[2]\n",
    "        if not c or (x, y, i) in infos: continue\n",
    "        count = 0\n",
    "        direction = i\n",
    "        info = set()\n",
    "        while True:\n",
    "            count += 1\n",
    "            info.add((x, y, direction))\n",
    "\n",
    "            # 방향 전환\n",
    "            if grid[x][y] == 'L':\n",
    "                direction = (direction+3) % 4\n",
    "            elif grid[x][y] == 'R':\n",
    "                direction = (direction+1) % 4\n",
    "\n",
    "            # 다음 위치\n",
    "            x = (x + dx[direction] + h) % h \n",
    "            y = (y + dy[direction] + w) % w\n",
    "            if (x, y) == (c[0], c[1]) and direction == i: break\n",
    "\n",
    "        if info in infos: continue\n",
    "        else: infos.append(info); answer.append(count)\n",
    "        \n",
    "    return sorted(answer)"
   ]
  },
  {
   "cell_type": "code",
   "execution_count": 181,
   "id": "revised-danish",
   "metadata": {},
   "outputs": [
    {
     "name": "stdout",
     "output_type": "stream",
     "text": [
      "info:: {(1, 0, 1), (1, 1, 0), (0, 1, 0), (0, 0, 3), (1, 1, 3), (0, 0, 0), (0, 1, 3), (1, 1, 2), (1, 0, 0), (1, 0, 3), (0, 0, 2), (0, 1, 2), (1, 0, 2), (0, 0, 1), (1, 1, 1), (0, 1, 1)}\n",
      "info:: {(1, 0, 1), (1, 1, 0), (0, 1, 0), (0, 0, 3), (1, 1, 3), (0, 0, 0), (0, 1, 3), (1, 1, 2), (1, 0, 0), (1, 0, 3), (0, 0, 2), (0, 1, 2), (1, 0, 2), (0, 0, 1), (1, 1, 1), (0, 1, 1)}\n",
      "info:: {(1, 0, 1), (1, 1, 0), (0, 1, 0), (0, 0, 3), (1, 1, 3), (0, 0, 0), (0, 1, 3), (1, 1, 2), (1, 0, 0), (1, 0, 3), (0, 0, 2), (0, 1, 2), (1, 0, 2), (0, 0, 1), (1, 1, 1), (0, 1, 1)}\n",
      "info:: {(1, 0, 1), (1, 1, 0), (0, 1, 0), (0, 0, 3), (1, 1, 3), (0, 1, 3), (0, 0, 0), (1, 1, 2), (1, 0, 0), (1, 0, 3), (0, 0, 2), (0, 1, 2), (1, 0, 2), (0, 0, 1), (1, 1, 1), (0, 1, 1)}\n",
      "infos:  {((1, 0, 1), (1, 1, 0), (0, 1, 0), (0, 0, 3), (1, 1, 3), (0, 0, 0), (0, 1, 3), (1, 1, 2), (1, 0, 0), (1, 0, 3), (0, 0, 2), (0, 1, 2), (1, 0, 2), (0, 0, 1), (1, 1, 1), (0, 1, 1)), ((1, 0, 1), (1, 1, 0), (0, 1, 0), (0, 0, 3), (1, 1, 3), (0, 1, 3), (0, 0, 0), (1, 1, 2), (1, 0, 0), (1, 0, 3), (0, 0, 2), (0, 1, 2), (1, 0, 2), (0, 0, 1), (1, 1, 1), (0, 1, 1))}\n",
      "info:: {(1, 0, 1), (1, 1, 0), (0, 1, 0), (0, 0, 3), (1, 1, 3), (0, 1, 3), (0, 0, 0), (1, 1, 2), (1, 0, 0), (1, 0, 3), (0, 0, 2), (0, 1, 2), (1, 0, 2), (0, 0, 1), (1, 1, 1), (0, 1, 1)}\n",
      "info:: {(1, 0, 1), (1, 1, 0), (0, 1, 0), (0, 0, 3), (1, 1, 3), (0, 0, 0), (0, 1, 3), (1, 1, 2), (1, 0, 0), (1, 0, 3), (0, 0, 2), (0, 1, 2), (1, 0, 2), (0, 0, 1), (1, 1, 1), (0, 1, 1)}\n",
      "info:: {(1, 0, 1), (1, 1, 0), (0, 1, 0), (0, 0, 3), (1, 1, 3), (0, 0, 0), (0, 1, 3), (1, 1, 2), (1, 0, 0), (1, 0, 3), (0, 0, 2), (0, 1, 2), (1, 0, 2), (0, 0, 1), (1, 1, 1), (0, 1, 1)}\n",
      "info:: {(1, 0, 1), (1, 1, 0), (0, 1, 0), (0, 0, 3), (1, 1, 3), (0, 1, 3), (0, 0, 0), (1, 1, 2), (1, 0, 0), (1, 0, 3), (0, 0, 2), (0, 1, 2), (1, 0, 2), (0, 0, 1), (1, 1, 1), (0, 1, 1)}\n",
      "infos:  {((1, 0, 1), (1, 1, 0), (0, 1, 0), (0, 0, 3), (1, 1, 3), (0, 0, 0), (0, 1, 3), (1, 1, 2), (1, 0, 0), (1, 0, 3), (0, 0, 2), (0, 1, 2), (1, 0, 2), (0, 0, 1), (1, 1, 1), (0, 1, 1)), ((1, 0, 1), (1, 1, 0), (0, 1, 0), (0, 0, 3), (1, 1, 3), (0, 1, 3), (0, 0, 0), (1, 1, 2), (1, 0, 0), (1, 0, 3), (0, 0, 2), (0, 1, 2), (1, 0, 2), (0, 0, 1), (1, 1, 1), (0, 1, 1))}\n",
      "info:: {(1, 0, 1), (1, 1, 0), (0, 1, 0), (0, 0, 3), (1, 1, 3), (0, 1, 3), (0, 0, 0), (1, 1, 2), (1, 0, 0), (1, 0, 3), (0, 0, 2), (0, 1, 2), (1, 0, 2), (0, 0, 1), (1, 1, 1), (0, 1, 1)}\n",
      "info:: {(1, 0, 1), (1, 1, 0), (0, 1, 0), (0, 0, 3), (1, 1, 3), (0, 0, 0), (0, 1, 3), (1, 1, 2), (1, 0, 0), (1, 0, 3), (0, 0, 2), (0, 1, 2), (1, 0, 2), (0, 0, 1), (1, 1, 1), (0, 1, 1)}\n",
      "info:: {(1, 0, 1), (1, 1, 0), (0, 1, 0), (0, 0, 3), (1, 1, 3), (0, 0, 0), (0, 1, 3), (1, 1, 2), (1, 0, 0), (1, 0, 3), (0, 0, 2), (0, 1, 2), (1, 0, 2), (0, 0, 1), (1, 1, 1), (0, 1, 1)}\n",
      "info:: {(1, 0, 1), (1, 1, 0), (0, 1, 0), (0, 0, 3), (1, 1, 3), (0, 0, 0), (0, 1, 3), (1, 1, 2), (1, 0, 0), (1, 0, 3), (0, 0, 2), (0, 1, 2), (1, 0, 2), (0, 0, 1), (1, 1, 1), (0, 1, 1)}\n",
      "infos:  {((1, 0, 1), (1, 1, 0), (0, 1, 0), (0, 0, 3), (1, 1, 3), (0, 0, 0), (0, 1, 3), (1, 1, 2), (1, 0, 0), (1, 0, 3), (0, 0, 2), (0, 1, 2), (1, 0, 2), (0, 0, 1), (1, 1, 1), (0, 1, 1)), ((1, 0, 1), (1, 1, 0), (0, 1, 0), (0, 0, 3), (1, 1, 3), (0, 1, 3), (0, 0, 0), (1, 1, 2), (1, 0, 0), (1, 0, 3), (0, 0, 2), (0, 1, 2), (1, 0, 2), (0, 0, 1), (1, 1, 1), (0, 1, 1))}\n",
      "info:: {(1, 0, 1), (1, 1, 0), (0, 1, 0), (0, 0, 3), (1, 1, 3), (0, 0, 0), (0, 1, 3), (1, 1, 2), (1, 0, 0), (1, 0, 3), (0, 0, 2), (0, 1, 2), (1, 0, 2), (0, 0, 1), (1, 1, 1), (0, 1, 1)}\n",
      "info:: {(1, 0, 1), (1, 1, 0), (0, 1, 0), (0, 0, 3), (1, 1, 3), (0, 0, 0), (0, 1, 3), (1, 1, 2), (1, 0, 0), (1, 0, 3), (0, 0, 2), (0, 1, 2), (1, 0, 2), (0, 0, 1), (1, 1, 1), (0, 1, 1)}\n",
      "info:: {(1, 0, 1), (1, 1, 0), (0, 1, 0), (0, 0, 3), (1, 1, 3), (0, 0, 0), (0, 1, 3), (1, 1, 2), (1, 0, 0), (1, 0, 3), (0, 0, 2), (0, 1, 2), (1, 0, 2), (0, 0, 1), (1, 1, 1), (0, 1, 1)}\n",
      "info:: {(1, 0, 1), (1, 1, 0), (0, 1, 0), (0, 0, 3), (1, 1, 3), (0, 1, 3), (0, 0, 0), (1, 1, 2), (1, 0, 0), (1, 0, 3), (0, 0, 2), (0, 1, 2), (1, 0, 2), (0, 0, 1), (1, 1, 1), (0, 1, 1)}\n",
      "infos:  {((1, 0, 1), (1, 1, 0), (0, 1, 0), (0, 0, 3), (1, 1, 3), (0, 0, 0), (0, 1, 3), (1, 1, 2), (1, 0, 0), (1, 0, 3), (0, 0, 2), (0, 1, 2), (1, 0, 2), (0, 0, 1), (1, 1, 1), (0, 1, 1)), ((1, 0, 1), (1, 1, 0), (0, 1, 0), (0, 0, 3), (1, 1, 3), (0, 1, 3), (0, 0, 0), (1, 1, 2), (1, 0, 0), (1, 0, 3), (0, 0, 2), (0, 1, 2), (1, 0, 2), (0, 0, 1), (1, 1, 1), (0, 1, 1))}\n"
     ]
    },
    {
     "data": {
      "text/plain": [
       "[16, 16, 16, 16, 16, 16, 16, 16, 16, 16, 16, 16, 16, 16, 16, 16]"
      ]
     },
     "execution_count": 181,
     "metadata": {},
     "output_type": "execute_result"
    }
   ],
   "source": [
    "solution([\"SL\",\"LR\"])"
   ]
  },
  {
   "cell_type": "code",
   "execution_count": 180,
   "id": "correct-moisture",
   "metadata": {
    "scrolled": true
   },
   "outputs": [
    {
     "name": "stdout",
     "output_type": "stream",
     "text": [
      "info:: {(0, 0, 0), (1, 0, 2), (0, 0, 1), (1, 0, 3)}\n",
      "info:: {(0, 0, 0), (1, 0, 2), (0, 0, 1), (1, 0, 3)}\n",
      "info:: {(1, 0, 0), (1, 0, 1), (0, 0, 2), (0, 0, 3)}\n",
      "info:: {(1, 0, 0), (1, 0, 1), (0, 0, 2), (0, 0, 3)}\n",
      "infos:  {((1, 0, 0), (1, 0, 1), (0, 0, 2), (0, 0, 3)), ((0, 0, 0), (1, 0, 2), (0, 0, 1), (1, 0, 3))}\n",
      "info:: {(1, 0, 0), (1, 0, 1), (0, 0, 2), (0, 0, 3)}\n",
      "info:: {(1, 0, 0), (1, 0, 1), (0, 0, 2), (0, 0, 3)}\n",
      "info:: {(0, 0, 0), (1, 0, 2), (1, 0, 3), (0, 0, 1)}\n",
      "info:: {(0, 0, 0), (1, 0, 2), (1, 0, 3), (0, 0, 1)}\n",
      "infos:  {((0, 0, 0), (1, 0, 2), (1, 0, 3), (0, 0, 1)), ((1, 0, 0), (1, 0, 1), (0, 0, 2), (0, 0, 3)), ((0, 0, 0), (1, 0, 2), (0, 0, 1), (1, 0, 3))}\n"
     ]
    },
    {
     "data": {
      "text/plain": [
       "[4, 4, 4, 4, 4, 4, 4, 4]"
      ]
     },
     "execution_count": 180,
     "metadata": {},
     "output_type": "execute_result"
    }
   ],
   "source": [
    "solution([\"R\", \"R\"])"
   ]
  },
  {
   "cell_type": "code",
   "execution_count": 185,
   "id": "systematic-artwork",
   "metadata": {},
   "outputs": [
    {
     "name": "stdout",
     "output_type": "stream",
     "text": [
      "info:: {(0, 0, 0)}\n"
     ]
    },
    {
     "ename": "TypeError",
     "evalue": "unhashable type: 'set'",
     "output_type": "error",
     "traceback": [
      "\u001b[1;31m---------------------------------------------------------------------------\u001b[0m",
      "\u001b[1;31mTypeError\u001b[0m                                 Traceback (most recent call last)",
      "\u001b[1;32m<ipython-input-185-f1fcb0cc9e0d>\u001b[0m in \u001b[0;36m<module>\u001b[1;34m\u001b[0m\n\u001b[1;32m----> 1\u001b[1;33m \u001b[0msolution\u001b[0m\u001b[1;33m(\u001b[0m\u001b[1;34m\"S\"\u001b[0m\u001b[1;33m)\u001b[0m\u001b[1;33m\u001b[0m\u001b[1;33m\u001b[0m\u001b[0m\n\u001b[0m",
      "\u001b[1;32m<ipython-input-184-469117af8d34>\u001b[0m in \u001b[0;36msolution\u001b[1;34m(grid)\u001b[0m\n\u001b[0;32m     35\u001b[0m                 \u001b[1;32melse\u001b[0m\u001b[1;33m:\u001b[0m\u001b[1;33m\u001b[0m\u001b[1;33m\u001b[0m\u001b[0m\n\u001b[0;32m     36\u001b[0m                     \u001b[0minfos\u001b[0m\u001b[1;33m.\u001b[0m\u001b[0mappend\u001b[0m\u001b[1;33m(\u001b[0m\u001b[0minfo\u001b[0m\u001b[1;33m)\u001b[0m\u001b[1;33m\u001b[0m\u001b[1;33m\u001b[0m\u001b[0m\n\u001b[1;32m---> 37\u001b[1;33m                     \u001b[0minfos\u001b[0m \u001b[1;33m=\u001b[0m \u001b[0mset\u001b[0m\u001b[1;33m(\u001b[0m\u001b[0minfos\u001b[0m\u001b[1;33m)\u001b[0m\u001b[1;33m\u001b[0m\u001b[1;33m\u001b[0m\u001b[0m\n\u001b[0m\u001b[0;32m     38\u001b[0m                     \u001b[0manswer\u001b[0m\u001b[1;33m.\u001b[0m\u001b[0mappend\u001b[0m\u001b[1;33m(\u001b[0m\u001b[0mcount\u001b[0m\u001b[1;33m)\u001b[0m\u001b[1;33m\u001b[0m\u001b[1;33m\u001b[0m\u001b[0m\n\u001b[0;32m     39\u001b[0m             \u001b[0mprint\u001b[0m\u001b[1;33m(\u001b[0m\u001b[1;34m\"infos: \"\u001b[0m\u001b[1;33m,\u001b[0m \u001b[0minfos\u001b[0m\u001b[1;33m)\u001b[0m\u001b[1;33m\u001b[0m\u001b[1;33m\u001b[0m\u001b[0m\n",
      "\u001b[1;31mTypeError\u001b[0m: unhashable type: 'set'"
     ]
    }
   ],
   "source": [
    "solution(\"S\")"
   ]
  },
  {
   "cell_type": "code",
   "execution_count": 184,
   "id": "synthetic-detective",
   "metadata": {},
   "outputs": [],
   "source": [
    "def solution(grid):\n",
    "    grid = [list(i) for i in grid]\n",
    "    w, h = len(grid[0]), len(grid)\n",
    "    answer = []\n",
    "    infos = []\n",
    "    \n",
    "    dx = [-1, 0, 1, 0]\n",
    "    dy = [0, 1, 0, -1]\n",
    "    \n",
    "    for ix in range(h):\n",
    "        for iy in range(w):\n",
    "            for i in range(4):\n",
    "                x, y = ix, iy\n",
    "                for infoSet in infos:\n",
    "                    if (x, y, i) in infoSet: continue\n",
    "                count = 0\n",
    "                direction = i\n",
    "                info = set()\n",
    "                while True:\n",
    "                    count += 1\n",
    "                    info.add((x, y, direction))\n",
    "\n",
    "                    # 방향 전환\n",
    "                    if grid[x][y] == 'L':\n",
    "                        direction = (direction+3) % 4\n",
    "                    elif grid[x][y] == 'R':\n",
    "                        direction = (direction+1) % 4\n",
    "\n",
    "                    # 다음 위치\n",
    "                    x = (x + dx[direction] + h) % h \n",
    "                    y = (y + dy[direction] + w) % w\n",
    "                    if (x, y) == (ix, iy) and direction == i: break\n",
    "                print(\"info::\", info)\n",
    "                if info in infos: continue\n",
    "                else:\n",
    "                    infos.append(info)\n",
    "                    infos = set(infos)\n",
    "                    answer.append(count)\n",
    "            print(\"infos: \", infos)\n",
    "    return sorted(answer)"
   ]
  },
  {
   "cell_type": "code",
   "execution_count": null,
   "id": "irish-restoration",
   "metadata": {},
   "outputs": [],
   "source": []
  },
  {
   "cell_type": "code",
   "execution_count": null,
   "id": "metallic-parameter",
   "metadata": {},
   "outputs": [],
   "source": []
  }
 ],
 "metadata": {
  "kernelspec": {
   "display_name": "Python 3",
   "language": "python",
   "name": "python3"
  },
  "language_info": {
   "codemirror_mode": {
    "name": "ipython",
    "version": 3
   },
   "file_extension": ".py",
   "mimetype": "text/x-python",
   "name": "python",
   "nbconvert_exporter": "python",
   "pygments_lexer": "ipython3",
   "version": "3.8.5"
  }
 },
 "nbformat": 4,
 "nbformat_minor": 5
}
