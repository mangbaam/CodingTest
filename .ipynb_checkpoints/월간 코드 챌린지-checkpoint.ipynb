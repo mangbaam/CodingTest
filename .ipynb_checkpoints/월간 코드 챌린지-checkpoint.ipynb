{
 "cells": [
  {
   "cell_type": "code",
   "execution_count": 112,
   "id": "communist-enough",
   "metadata": {},
   "outputs": [],
   "source": [
    "def solution(grid):\n",
    "    grid = [list(i) for i in grid]\n",
    "    w, h = len(grid[0]), len(grid)\n",
    "    answer = []\n",
    "    infos = []\n",
    "    \n",
    "    dx = [-1, 0, 1, 0]\n",
    "    dy = [0, 1, 0, -1]\n",
    "    \n",
    "    for i in range(4):\n",
    "        x, y = 0, 0\n",
    "        count = 0\n",
    "        direction = i\n",
    "        info = set()\n",
    "        while True:\n",
    "            count += 1\n",
    "            # print(f'x: {x}, y: {y}, count: {count}, 방향: {direction}')\n",
    "            info.add((x, y, direction))\n",
    "            \n",
    "            if grid[x][y] == 'L':\n",
    "                direction = (direction+3) % 4\n",
    "            elif grid[x][y] == 'R':\n",
    "                direction = (direction+1) % 4\n",
    "                \n",
    "            x = (x + dx[direction] + h) % h \n",
    "            y = (y + dy[direction] + w) % w\n",
    "            if (x, y) == (0, 0) and direction == i: break\n",
    "        \n",
    "        if info in infos: continue\n",
    "        else: infos.append(info); answer.append(count)\n",
    "        \n",
    "    return sorted(answer)"
   ]
  },
  {
   "cell_type": "code",
   "execution_count": 140,
   "id": "ethical-dealing",
   "metadata": {},
   "outputs": [],
   "source": [
    "def solution(grid):\n",
    "    grid = [list(i) for i in grid]\n",
    "    w, h = len(grid[0]), len(grid)\n",
    "    answer = []\n",
    "    infos = []\n",
    "    \n",
    "    dx = [-1, 0, 1, 0]\n",
    "    dy = [0, 1, 0, -1]\n",
    "    \n",
    "    for ix in range(h):\n",
    "        for iy in range(w):\n",
    "            for i in range(4):\n",
    "                x, y = ix, iy\n",
    "                count = 0\n",
    "                direction = i\n",
    "                info = set()\n",
    "                while True:\n",
    "                    count += 1\n",
    "                    info.add((x, y, direction))\n",
    "\n",
    "                    # 방향 전환\n",
    "                    if grid[x][y] == 'L':\n",
    "                        direction = (direction+3) % 4\n",
    "                    elif grid[x][y] == 'R':\n",
    "                        direction = (direction+1) % 4\n",
    "\n",
    "                    # 다음 위치\n",
    "                    x = (x + dx[direction] + h) % h \n",
    "                    y = (y + dy[direction] + w) % w\n",
    "                    if (x, y) == (ix, iy) and direction == i: break\n",
    "\n",
    "                if info in infos: continue\n",
    "                else: infos.append(info); answer.append(count)\n",
    "            print(ix, iy, '에서 시작', answer)\n",
    "        \n",
    "    return sorted(answer)"
   ]
  },
  {
   "cell_type": "code",
   "execution_count": 141,
   "id": "further-happening",
   "metadata": {},
   "outputs": [
    {
     "name": "stdout",
     "output_type": "stream",
     "text": [
      "0 0 에서 시작 [16]\n",
      "0 1 에서 시작 [16]\n",
      "1 0 에서 시작 [16]\n",
      "1 1 에서 시작 [16]\n"
     ]
    },
    {
     "data": {
      "text/plain": [
       "[16]"
      ]
     },
     "execution_count": 141,
     "metadata": {},
     "output_type": "execute_result"
    }
   ],
   "source": [
    "solution([\"SL\", \"LR\"])"
   ]
  },
  {
   "cell_type": "code",
   "execution_count": 142,
   "id": "purple-pathology",
   "metadata": {},
   "outputs": [
    {
     "name": "stdout",
     "output_type": "stream",
     "text": [
      "0 0 에서 시작 [1, 1, 1, 1]\n"
     ]
    },
    {
     "data": {
      "text/plain": [
       "[1, 1, 1, 1]"
      ]
     },
     "execution_count": 142,
     "metadata": {},
     "output_type": "execute_result"
    }
   ],
   "source": [
    "solution([\"S\"])"
   ]
  },
  {
   "cell_type": "code",
   "execution_count": 143,
   "id": "chief-trauma",
   "metadata": {},
   "outputs": [
    {
     "name": "stdout",
     "output_type": "stream",
     "text": [
      "0 0 에서 시작 [4, 4]\n",
      "1 0 에서 시작 [4, 4]\n"
     ]
    },
    {
     "data": {
      "text/plain": [
       "[4, 4]"
      ]
     },
     "execution_count": 143,
     "metadata": {},
     "output_type": "execute_result"
    }
   ],
   "source": [
    "solution([\"R\", \"R\"])"
   ]
  },
  {
   "cell_type": "markdown",
   "id": "impressive-frost",
   "metadata": {},
   "source": [
    "## 3번"
   ]
  },
  {
   "cell_type": "code",
   "execution_count": 121,
   "id": "going-hamburg",
   "metadata": {},
   "outputs": [],
   "source": [
    "from collections import deque\n",
    "\n",
    "def solution(a, b, g, s, w, t):\n",
    "    answer = -1\n",
    "    cities = len(w)\n",
    "    e = [w[i] / t[i] for i in range(cities)] # 효율성\n",
    "    j = [g[i] + s[i] for i in range(cities)] # 금 + 은\n",
    "    print(e)\n",
    "    print(j)\n",
    "    start = deque([True for _ in range(cities)])\n",
    "    end = deque([False for _ in range(cities)])\n",
    "\n",
    "    \n",
    "    \n",
    "    return answer"
   ]
  },
  {
   "cell_type": "code",
   "execution_count": 122,
   "id": "robust-moore",
   "metadata": {},
   "outputs": [
    {
     "name": "stdout",
     "output_type": "stream",
     "text": [
      "[25.0, 12.5, 2.0]\n",
      "[70, 70, 500]\n",
      "deque([True, True, True]) deque([False, False, False])\n"
     ]
    },
    {
     "data": {
      "text/plain": [
       "-1"
      ]
     },
     "execution_count": 122,
     "metadata": {},
     "output_type": "execute_result"
    }
   ],
   "source": [
    "solution(90, 500, [70, 70, 0], [0, 0, 500], [100, 100, 2], [4, 8, 1])"
   ]
  },
  {
   "cell_type": "code",
   "execution_count": 146,
   "id": "italian-apache",
   "metadata": {},
   "outputs": [
    {
     "data": {
      "text/plain": [
       "[(0, 0, 0),\n",
       " (0, 0, 1),\n",
       " (0, 0, 2),\n",
       " (0, 0, 3),\n",
       " (0, 1, 0),\n",
       " (0, 1, 1),\n",
       " (0, 1, 2),\n",
       " (0, 1, 3),\n",
       " (0, 2, 0),\n",
       " (0, 2, 1),\n",
       " (0, 2, 2),\n",
       " (0, 2, 3),\n",
       " (1, 0, 0),\n",
       " (1, 0, 1),\n",
       " (1, 0, 2),\n",
       " (1, 0, 3),\n",
       " (1, 1, 0),\n",
       " (1, 1, 1),\n",
       " (1, 1, 2),\n",
       " (1, 1, 3),\n",
       " (1, 2, 0),\n",
       " (1, 2, 1),\n",
       " (1, 2, 2),\n",
       " (1, 2, 3)]"
      ]
     },
     "execution_count": 146,
     "metadata": {},
     "output_type": "execute_result"
    }
   ],
   "source": [
    "w, h = 2, 3\n",
    "t = [(sx, sy, d) for sx in range(w) for sy in range(h) for d in range(4)]\n",
    "t"
   ]
  },
  {
   "cell_type": "code",
   "execution_count": 149,
   "id": "incomplete-criticism",
   "metadata": {},
   "outputs": [],
   "source": [
    "def solution(grid):\n",
    "    grid = [list(i) for i in grid]\n",
    "    w, h = len(grid[0]), len(grid)\n",
    "    answer = []\n",
    "    infos = []\n",
    "    \n",
    "    dx = [-1, 0, 1, 0]\n",
    "    dy = [0, 1, 0, -1]\n",
    "    \n",
    "    t = [(sx, sy, d) for sx in range(w) for sy in range(h) for d in range(4)]\n",
    "    \n",
    "    for c in t:\n",
    "        x, y =  c[0], c[1]\n",
    "        i = c[2]\n",
    "        if (x, y, i) in infos: continue\n",
    "        count = 0\n",
    "        direction = i\n",
    "        info = set()\n",
    "        while True:\n",
    "            count += 1\n",
    "            info.add((x, y, direction))\n",
    "\n",
    "            # 방향 전환\n",
    "            if grid[x][y] == 'L':\n",
    "                direction = (direction+3) % 4\n",
    "            elif grid[x][y] == 'R':\n",
    "                direction = (direction+1) % 4\n",
    "\n",
    "            # 다음 위치\n",
    "            x = (x + dx[direction] + h) % h \n",
    "            y = (y + dy[direction] + w) % w\n",
    "            if (x, y) == (c[0], c[1]) and direction == i: break\n",
    "\n",
    "        if info in infos: continue\n",
    "        else: infos.append(info); answer.append(count)\n",
    "        \n",
    "    return sorted(answer)"
   ]
  },
  {
   "cell_type": "code",
   "execution_count": 150,
   "id": "broken-halloween",
   "metadata": {},
   "outputs": [
    {
     "data": {
      "text/plain": [
       "[16]"
      ]
     },
     "execution_count": 150,
     "metadata": {},
     "output_type": "execute_result"
    }
   ],
   "source": [
    "solution([\"SL\",\"LR\"])"
   ]
  },
  {
   "cell_type": "code",
   "execution_count": null,
   "id": "equipped-alignment",
   "metadata": {},
   "outputs": [],
   "source": []
  }
 ],
 "metadata": {
  "kernelspec": {
   "display_name": "Python 3",
   "language": "python",
   "name": "python3"
  },
  "language_info": {
   "codemirror_mode": {
    "name": "ipython",
    "version": 3
   },
   "file_extension": ".py",
   "mimetype": "text/x-python",
   "name": "python",
   "nbconvert_exporter": "python",
   "pygments_lexer": "ipython3",
   "version": "3.8.5"
  }
 },
 "nbformat": 4,
 "nbformat_minor": 5
}
