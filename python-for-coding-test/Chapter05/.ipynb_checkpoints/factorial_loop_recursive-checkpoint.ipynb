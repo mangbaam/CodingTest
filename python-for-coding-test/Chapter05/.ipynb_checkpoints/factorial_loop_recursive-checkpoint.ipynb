{
 "cells": [
  {
   "cell_type": "code",
   "execution_count": 4,
   "id": "phantom-chapter",
   "metadata": {},
   "outputs": [],
   "source": [
    "# 반복적인 방법\n",
    "def factorial_iterative(n):\n",
    "    result = 1\n",
    "    \n",
    "    for i in range(1, n+1):\n",
    "        result *= i\n",
    "    return result"
   ]
  },
  {
   "cell_type": "code",
   "execution_count": 5,
   "id": "earned-orientation",
   "metadata": {},
   "outputs": [],
   "source": [
    "# 재귀적인 방법\n",
    "def factorial_recursive(n):\n",
    "    if n <= 1: return 1\n",
    "    return n * factorial_recursive(n-1)"
   ]
  },
  {
   "cell_type": "code",
   "execution_count": 6,
   "id": "blank-rally",
   "metadata": {},
   "outputs": [
    {
     "name": "stdout",
     "output_type": "stream",
     "text": [
      "반복적으로 구현:  120\n",
      "재귀적으로 구현:  120\n"
     ]
    }
   ],
   "source": [
    "# 반복적인 방법\n",
    "print(\"반복적으로 구현: \",factorial_iterative(5))\n",
    "\n",
    "# 재귀적인 방법\n",
    "print(\"재귀적으로 구현: \",factorial_recursive(5))"
   ]
  },
  {
   "cell_type": "code",
   "execution_count": null,
   "id": "vietnamese-liberal",
   "metadata": {},
   "outputs": [],
   "source": []
  }
 ],
 "metadata": {
  "kernelspec": {
   "display_name": "Python 3",
   "language": "python",
   "name": "python3"
  },
  "language_info": {
   "codemirror_mode": {
    "name": "ipython",
    "version": 3
   },
   "file_extension": ".py",
   "mimetype": "text/x-python",
   "name": "python",
   "nbconvert_exporter": "python",
   "pygments_lexer": "ipython3",
   "version": "3.8.5"
  }
 },
 "nbformat": 4,
 "nbformat_minor": 5
}
