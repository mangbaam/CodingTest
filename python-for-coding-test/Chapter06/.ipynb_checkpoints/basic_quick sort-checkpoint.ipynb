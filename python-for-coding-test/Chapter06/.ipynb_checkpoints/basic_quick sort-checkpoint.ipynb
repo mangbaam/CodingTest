{
 "cells": [
  {
   "cell_type": "code",
   "execution_count": 8,
   "id": "endangered-assault",
   "metadata": {},
   "outputs": [],
   "source": [
    "array = [5, 7, 9, 0, 3, 1, 6, 2, 4, 8]"
   ]
  },
  {
   "cell_type": "code",
   "execution_count": 4,
   "id": "aboriginal-dealer",
   "metadata": {},
   "outputs": [],
   "source": [
    "# 가장 직관적인 퀵 정렬\n",
    "def quick_sort(array, start, end):\n",
    "    if start >= end: return # 원소가 1개인 경우\n",
    "    pivot = array[start] # 피벗은 첫 요소\n",
    "    left, right = start + 1, end\n",
    "    \n",
    "    while left <= right:\n",
    "        # 피벗보다 작은 데이터를 찾을 때까지 반복\n",
    "        while left <= end and array[left] <= array[pivot]:\n",
    "            left += 1\n",
    "        # 피벗보다 큰 데이터를 찾을 때까지 반복\n",
    "        while right > start and array[right] >= array[pivot]:\n",
    "            right -= 1\n",
    "        if left > right: # 엇갈린 경우\n",
    "            array[right], array[pivot] = array[pivot], array[right]\n",
    "        else: # 엇갈리지 않은 경우\n",
    "            array[right], array[left] = array[left], array[right]\n",
    "    # 분할 이후 왼쪽 부분과 오른쪽 부분에서 각각 정렬 수행\n",
    "    quick_sort(array, start, right - 1)\n",
    "    quick_sort(array, right + 1, end)"
   ]
  },
  {
   "cell_type": "code",
   "execution_count": 5,
   "id": "august-coffee",
   "metadata": {},
   "outputs": [],
   "source": [
    "quick_sort(array, 0, len(array)-1)"
   ]
  },
  {
   "cell_type": "code",
   "execution_count": 6,
   "id": "prostate-sector",
   "metadata": {},
   "outputs": [
    {
     "name": "stdout",
     "output_type": "stream",
     "text": [
      "[0, 1, 2, 3, 4, 5, 6, 7, 8, 9]\n"
     ]
    }
   ],
   "source": [
    "print(array)"
   ]
  },
  {
   "cell_type": "code",
   "execution_count": 7,
   "id": "criminal-question",
   "metadata": {},
   "outputs": [],
   "source": [
    "# 파이썬의 장점을 살린 퀵 정렬\n",
    "def quick_sort(array):\n",
    "    # 리스트가 하나 이하의 원소를 가지면 종료\n",
    "    if len(array) <= 1: return array\n",
    "    \n",
    "    pivot = array[0]\n",
    "    tail = array[1:]\n",
    "    \n",
    "    leftSide = [x for x in tail if x <= pivot]\n",
    "    rightSide = [x for x in tail if x > pivot]\n",
    "    \n",
    "    return quick_sort(leftSide) + [pivot] + quick_sort(rightSide)"
   ]
  },
  {
   "cell_type": "code",
   "execution_count": 9,
   "id": "stretch-motorcycle",
   "metadata": {},
   "outputs": [
    {
     "data": {
      "text/plain": [
       "[0, 1, 2, 3, 4, 5, 6, 7, 8, 9]"
      ]
     },
     "execution_count": 9,
     "metadata": {},
     "output_type": "execute_result"
    }
   ],
   "source": [
    "quick_sort(array)"
   ]
  },
  {
   "cell_type": "code",
   "execution_count": null,
   "id": "amber-survey",
   "metadata": {},
   "outputs": [],
   "source": []
  }
 ],
 "metadata": {
  "kernelspec": {
   "display_name": "Python 3",
   "language": "python",
   "name": "python3"
  },
  "language_info": {
   "codemirror_mode": {
    "name": "ipython",
    "version": 3
   },
   "file_extension": ".py",
   "mimetype": "text/x-python",
   "name": "python",
   "nbconvert_exporter": "python",
   "pygments_lexer": "ipython3",
   "version": "3.8.5"
  }
 },
 "nbformat": 4,
 "nbformat_minor": 5
}
