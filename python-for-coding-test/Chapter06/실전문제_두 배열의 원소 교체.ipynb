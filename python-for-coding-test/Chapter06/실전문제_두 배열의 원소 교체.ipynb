{
 "cells": [
  {
   "cell_type": "code",
   "execution_count": 3,
   "id": "incorrect-sheriff",
   "metadata": {},
   "outputs": [
    {
     "name": "stdout",
     "output_type": "stream",
     "text": [
      "5 3\n",
      "1 2 5 4 3\n",
      "5 5 6 6 5\n",
      "26\n"
     ]
    }
   ],
   "source": [
    "n, k = map(int, input().split())\n",
    "arr_a = list(map(int, input().split()))\n",
    "arr_b = list(map(int, input().split()))\n",
    "\n",
    "arr_a = sorted(arr_a) # 오름차순\n",
    "arr_b = sorted(arr_b, reverse=True) # 내림차순\n",
    "\n",
    "for i in range(k):\n",
    "    if arr_a[i] < arr_b[i]:\n",
    "        arr_a[i], arr_b[i] = arr_b[i], arr_a[i]\n",
    "    else: break\n",
    "    \n",
    "print(sum(arr_a))"
   ]
  },
  {
   "cell_type": "code",
   "execution_count": null,
   "id": "honey-spending",
   "metadata": {},
   "outputs": [],
   "source": []
  }
 ],
 "metadata": {
  "kernelspec": {
   "display_name": "Python 3",
   "language": "python",
   "name": "python3"
  },
  "language_info": {
   "codemirror_mode": {
    "name": "ipython",
    "version": 3
   },
   "file_extension": ".py",
   "mimetype": "text/x-python",
   "name": "python",
   "nbconvert_exporter": "python",
   "pygments_lexer": "ipython3",
   "version": "3.8.5"
  }
 },
 "nbformat": 4,
 "nbformat_minor": 5
}
