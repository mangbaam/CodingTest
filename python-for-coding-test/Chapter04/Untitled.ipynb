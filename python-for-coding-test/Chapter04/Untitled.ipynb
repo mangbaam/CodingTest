{
 "cells": [
  {
   "cell_type": "code",
   "execution_count": 17,
   "id": "exposed-feature",
   "metadata": {},
   "outputs": [
    {
     "name": "stdout",
     "output_type": "stream",
     "text": [
      "4 4\n",
      "1 1 0\n",
      "1 1 1 1\n",
      "1 0 0 \n",
      "1 1 1 1\n",
      "1 1 1 1\n",
      "3\n"
     ]
    }
   ],
   "source": [
    "n, m = map(int, input().split())\n",
    "a, b, d = map(int, input().split())\n",
    "gameMap = []\n",
    "turnCount = 0\n",
    "moveCount = 1\n",
    "flag = True\n",
    "dx = [0, 1, 0, -1]\n",
    "dy = [-1, 0, 1, 0]\n",
    "\n",
    "for i in range(n):\n",
    "    gameMap.append(list(map(int,input().split())))\n",
    "    \n",
    "\n",
    "while flag:\n",
    "    turnCount += 1\n",
    "    if turnCount > 4:\n",
    "        td = (d + 2) % 4\n",
    "        if a+dy[td] in range(n+1) and b+dx[td] in range(m+1) and gameMap[a+dy[td]][b+dx[td]] in (0, 2):\n",
    "            a += dy[td]; b += dx[td] # 뒤로\n",
    "            moveCount += 1\n",
    "            continue\n",
    "        else:\n",
    "            # moveCount 반환\n",
    "            flag = False\n",
    "        \n",
    "    d = (d + 3) % 4  # 회전\n",
    "    \n",
    "    if a+dy[d] in range(n+1) and b+dx[d] in range(m+1) and gameMap[a+dy[d]][b+dx[d]] == 0:\n",
    "        # 갈 수 있음\n",
    "        a+=dy[d]; b+=dx[d] # 간다\n",
    "        moveCount += 1\n",
    "        gameMap[a][b] = 2 # 방문 표시\n",
    "    else:\n",
    "        continue\n",
    "        \n",
    "print(moveCount)"
   ]
  },
  {
   "cell_type": "code",
   "execution_count": null,
   "id": "thorough-polyester",
   "metadata": {},
   "outputs": [],
   "source": []
  }
 ],
 "metadata": {
  "kernelspec": {
   "display_name": "Python 3",
   "language": "python",
   "name": "python3"
  },
  "language_info": {
   "codemirror_mode": {
    "name": "ipython",
    "version": 3
   },
   "file_extension": ".py",
   "mimetype": "text/x-python",
   "name": "python",
   "nbconvert_exporter": "python",
   "pygments_lexer": "ipython3",
   "version": "3.8.5"
  }
 },
 "nbformat": 4,
 "nbformat_minor": 5
}
