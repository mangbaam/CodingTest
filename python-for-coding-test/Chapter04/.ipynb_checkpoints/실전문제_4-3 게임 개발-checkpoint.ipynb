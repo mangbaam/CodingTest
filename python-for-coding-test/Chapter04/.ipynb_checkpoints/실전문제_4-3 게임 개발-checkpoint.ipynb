{
 "cells": [
  {
   "cell_type": "code",
   "execution_count": 11,
   "id": "genuine-schema",
   "metadata": {},
   "outputs": [
    {
     "name": "stdout",
     "output_type": "stream",
     "text": [
      "4 4\n",
      "1 1 0\n",
      "1 1 1 1\n",
      "1 0 0 1\n",
      "1 1 0 1\n",
      "1 1 1 1\n",
      "3\n"
     ]
    }
   ],
   "source": [
    "n,m = map(int, input().split()) # 맵의 크기\n",
    "a, b, d = map(int, input().split()) # 좌표(a, b), 방향(0:북, 1:동, 2:남, 3:서)\n",
    "\n",
    "# 맵 입력 받기\n",
    "mymap = []\n",
    "for _ in range(n):\n",
    "    map_row = input().split()\n",
    "    mymap.append(map_row)\n",
    "    \n",
    "# 다음 위치\n",
    "rowP = [-1, 0, 1, 0]\n",
    "colP = [0, 1, 0, -1]\n",
    "\n",
    "result = 1 # 방문 횟수\n",
    "check = 0 # 한 바퀴 돌았는지 확인\n",
    "        \n",
    "nextDir = d\n",
    "\n",
    "while True:\n",
    "    mymap[a][b] = 1 # 방문 처리\n",
    "    nextDir = (nextDir + 3) % 4 # 왼쪽 방향\n",
    "    nx = a + rowP[nextDir]\n",
    "    ny = b + colP[nextDir]\n",
    "    if nx >= 0 and ny >= 0 and nx < n and ny < m and int(mymap[nx][ny]) == 0:\n",
    "        # 방문\n",
    "        check = 0\n",
    "        a, b = nx, ny\n",
    "        result += 1\n",
    "    else:\n",
    "        check += 1\n",
    "        if check == 4:\n",
    "            break\n",
    "\n",
    "\n",
    "        \n",
    "print(result)"
   ]
  },
  {
   "cell_type": "markdown",
   "id": "terminal-validity",
   "metadata": {},
   "source": [
    "map을 입력 받는 부분은 답안 예시 참고. \n",
    "    리스트 컴프리헨션 -> `d = [[0] * m for _ in range(n)]`\n",
    "\n",
    "답안 예시와 차이점\n",
    "- 예시에선 방문 기록에 대한 이중 리스트를 따로 선언\n",
    "- turn_left 함수를 별도로 생성 -> 굳이..?\n",
    "- 조건문이 좀 다름"
   ]
  },
  {
   "cell_type": "markdown",
   "id": "collectible-blair",
   "metadata": {},
   "source": [
    "### 2021.07.31 새로 작성한 코드\n",
    "예전에 짰을 때와 어떻게 달라졌는지 확인하고자 짜봤음\n",
    "예전에 짠 것과 비교했을 때 왜 더 짧고 간결한가 했더니...\n",
    "네 방향 모두 방문했을 때 뒤로가는 것은 구현 안했었네?"
   ]
  },
  {
   "cell_type": "code",
   "execution_count": null,
   "id": "standard-spyware",
   "metadata": {},
   "outputs": [],
   "source": [
    "n, m = map(int, input().split())\n",
    "a, b, d = map(int, input().split())\n",
    "gameMap = []\n",
    "turnCount = 0\n",
    "moveCount = 1\n",
    "flag = True\n",
    "dx = [0, 1, 0, -1]\n",
    "dy = [-1, 0, 1, 0]\n",
    "\n",
    "for i in range(n):\n",
    "    gameMap.append(list(map(int,input().split())))\n",
    "    \n",
    "\n",
    "while flag:\n",
    "    turnCount += 1\n",
    "    if turnCount > 4:\n",
    "        td = (d + 2) % 4\n",
    "        if a+dy[td] in range(n+1) and b+dx[td] in range(m+1) and gameMap[a+dy[td]][b+dx[td]] in (0, 2):\n",
    "            a += dy[td]; b += dx[td] # 뒤로\n",
    "            moveCount += 1\n",
    "            continue\n",
    "        else:\n",
    "            # moveCount 반환\n",
    "            flag = False\n",
    "        \n",
    "    d = (d + 3) % 4  # 회전\n",
    "    \n",
    "    if a+dy[d] in range(n+1) and b+dx[d] in range(m+1) and gameMap[a+dy[d]][b+dx[d]] == 0:\n",
    "        # 갈 수 있음\n",
    "        a+=dy[d]; b+=dx[d] # 간다\n",
    "        moveCount += 1\n",
    "        gameMap[a][b] = 2 # 방문 표시\n",
    "    else:\n",
    "        continue\n",
    "        \n",
    "print(moveCount)"
   ]
  },
  {
   "cell_type": "markdown",
   "id": "macro-arnold",
   "metadata": {},
   "source": [
    "## 답안 예시"
   ]
  },
  {
   "cell_type": "code",
   "execution_count": 15,
   "id": "decent-alignment",
   "metadata": {},
   "outputs": [
    {
     "name": "stdout",
     "output_type": "stream",
     "text": [
      "4 4\n",
      "1 1 0\n",
      "1 1 1 1\n",
      "1 0 0 1\n",
      "1 1 0 1\n",
      "1 1 1 1\n",
      "3\n"
     ]
    }
   ],
   "source": [
    "n, m = map(int, input().split())\n",
    "\n",
    "# 방문한 위치를 저장하기 위한 맵을 생성하여 0으로 초기화\n",
    "d = [[0] * m for _ in range(n)]\n",
    "# 현재 캐릭터의 X 좌표, Y 좌표, 방향을 입력 받기\n",
    "x, y, direction = map(int, input().split())\n",
    "d[x][y] = 1 # 현재 좌표 방문 처리\n",
    "\n",
    "# 전체 맵 정보를 입력 받기\n",
    "array = []\n",
    "for i in range(n):\n",
    "    array.append(list(map(int, input().split())))\n",
    "    \n",
    "# 북, 동, 남, 서 방향 정의\n",
    "dx = [-1, 0, 1, 0]\n",
    "dy = [0, 1, 0, -1]\n",
    "\n",
    "# 왼쪽으로 회전\n",
    "def turn_left():\n",
    "    global direction\n",
    "    direction -= 1\n",
    "    if direction == -1:\n",
    "        direction = 3\n",
    "        \n",
    "# 시뮬레이션 시작\n",
    "count = 1\n",
    "turn_time = 0\n",
    "while True:\n",
    "    # 왼쪽으로 회전\n",
    "    turn_left()\n",
    "    nx = x + dx[direction]\n",
    "    ny = y + dy[direction]\n",
    "    # 회전한 이후 정면에 가보지 않은 칸이 존재하는 경우 이동\n",
    "    if d[nx][ny] == 0 and array[nx][ny] == 0:\n",
    "        d[nx][ny] = 1\n",
    "        x = nx\n",
    "        y = ny\n",
    "        count += 1\n",
    "        turn_time = 0\n",
    "        continue\n",
    "    # 회전한 이후 정면에 가보지 않은 칸이 없거나 바다인 경우\n",
    "    else :\n",
    "        turn_time += 1\n",
    "    \n",
    "    # 네 방향 모두 갈 수 없는 경우\n",
    "    if turn_time == 4:\n",
    "        nx = x - dx[direction]\n",
    "        ny = y - dy[direction]\n",
    "        # 뒤로 갈 수 있다면 이동하기\n",
    "        if array[nx][ny] == 0:\n",
    "            x = nx\n",
    "            y = ny\n",
    "        # 뒤가 바다로 막혀있는 경우\n",
    "        else:\n",
    "            break\n",
    "        turn_time = 0\n",
    "\n",
    "# 정답 출력\n",
    "print(count)"
   ]
  },
  {
   "cell_type": "code",
   "execution_count": null,
   "id": "uniform-punishment",
   "metadata": {},
   "outputs": [],
   "source": []
  }
 ],
 "metadata": {
  "kernelspec": {
   "display_name": "Python 3",
   "language": "python",
   "name": "python3"
  },
  "language_info": {
   "codemirror_mode": {
    "name": "ipython",
    "version": 3
   },
   "file_extension": ".py",
   "mimetype": "text/x-python",
   "name": "python",
   "nbconvert_exporter": "python",
   "pygments_lexer": "ipython3",
   "version": "3.8.5"
  }
 },
 "nbformat": 4,
 "nbformat_minor": 5
}
