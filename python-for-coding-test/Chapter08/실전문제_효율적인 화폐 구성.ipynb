{
 "cells": [
  {
   "cell_type": "code",
   "execution_count": 4,
   "id": "whole-karma",
   "metadata": {},
   "outputs": [
    {
     "name": "stdout",
     "output_type": "stream",
     "text": [
      "3 4\n",
      "3\n",
      "5\n",
      "7\n",
      "-1\n"
     ]
    }
   ],
   "source": [
    "n, m = map(int, input().split())\n",
    "nums = []\n",
    "d = [10001] * (m+1)\n",
    "d[0] = 0\n",
    "for _ in range(n):\n",
    "    nums.append(int(input()))\n",
    "for i in range(n):\n",
    "    for j in range(nums[i], m+1):\n",
    "        d[j] = min(d[j-nums[i]]+1, d[j])\n",
    "if d[m] == 10001: print(-1)\n",
    "else: print(d[m])"
   ]
  }
 ],
 "metadata": {
  "kernelspec": {
   "display_name": "Python 3",
   "language": "python",
   "name": "python3"
  },
  "language_info": {
   "codemirror_mode": {
    "name": "ipython",
    "version": 3
   },
   "file_extension": ".py",
   "mimetype": "text/x-python",
   "name": "python",
   "nbconvert_exporter": "python",
   "pygments_lexer": "ipython3",
   "version": "3.8.5"
  }
 },
 "nbformat": 4,
 "nbformat_minor": 5
}
