{
 "cells": [
  {
   "cell_type": "code",
   "execution_count": 1,
   "id": "beginning-proxy",
   "metadata": {},
   "outputs": [],
   "source": [
    "# 재귀 함수로 구현\n",
    "def fibo(x):\n",
    "    if x == 1 or x == 2:\n",
    "        return 1\n",
    "    return fibo(x-2) + fibo(x-1)"
   ]
  },
  {
   "cell_type": "code",
   "execution_count": 2,
   "id": "pending-invitation",
   "metadata": {},
   "outputs": [
    {
     "name": "stdout",
     "output_type": "stream",
     "text": [
      "3\n"
     ]
    }
   ],
   "source": [
    "print(fibo(4))"
   ]
  },
  {
   "cell_type": "code",
   "execution_count": 3,
   "id": "acknowledged-sender",
   "metadata": {},
   "outputs": [],
   "source": [
    "# 재귀 함수 (개선된 버전)\n",
    "d = [0] * 100 # 한 번 계산된 결과를 메모이제이션하기 위한 리스트 초기화\n",
    "\n",
    "# top down DP\n",
    "def fibo(x):\n",
    "    if x == 1 or x == 2: return 1\n",
    "    if d[x] != 0: # 이미 계산한 적 있는 문제라면 그대로 반환\n",
    "        return d[x]\n",
    "    # 아직 계산하지 않은 문제라면 점화식에 따라서 피보나치 결과 반환\n",
    "    d[x] = fibo(x-2) + fibo(x-1)\n",
    "    return d[x]"
   ]
  },
  {
   "cell_type": "code",
   "execution_count": 4,
   "id": "european-borough",
   "metadata": {},
   "outputs": [
    {
     "name": "stdout",
     "output_type": "stream",
     "text": [
      "218922995834555169026\n"
     ]
    }
   ],
   "source": [
    "print(fibo(99))"
   ]
  },
  {
   "cell_type": "code",
   "execution_count": 5,
   "id": "civic-dairy",
   "metadata": {},
   "outputs": [],
   "source": [
    "# 호출되는 함수 확인\n",
    "d = [0] * 100\n",
    "\n",
    "def fibo(x):\n",
    "    print('f(' + str(x) + ')', end=' ')\n",
    "    if x == 1 or x == 2:\n",
    "        return 1\n",
    "    if d[x] != 0:\n",
    "        return d[x]\n",
    "    d[x] = fibo(x - 2) + fibo(x - 1)\n",
    "    return d[x]"
   ]
  },
  {
   "cell_type": "code",
   "execution_count": 6,
   "id": "delayed-infrastructure",
   "metadata": {},
   "outputs": [
    {
     "name": "stdout",
     "output_type": "stream",
     "text": [
      "f(6) f(4) f(2) f(3) f(1) f(2) f(5) f(3) f(4) "
     ]
    },
    {
     "data": {
      "text/plain": [
       "8"
      ]
     },
     "execution_count": 6,
     "metadata": {},
     "output_type": "execute_result"
    }
   ],
   "source": [
    "fibo(6)"
   ]
  },
  {
   "cell_type": "code",
   "execution_count": 7,
   "id": "inclusive-pregnancy",
   "metadata": {},
   "outputs": [
    {
     "name": "stdout",
     "output_type": "stream",
     "text": [
      "218922995834555169026\n"
     ]
    }
   ],
   "source": [
    "# 반복적 방법 (Bottom up DP)\n",
    "d = [0] * 100\n",
    "\n",
    "d[1], d[2] = 1, 1\n",
    "n = 99\n",
    "\n",
    "for i in range(3, n+1):\n",
    "    d[i] = d[i-1] + d[i-2]\n",
    "\n",
    "print(d[n])"
   ]
  },
  {
   "cell_type": "code",
   "execution_count": null,
   "id": "fallen-photographer",
   "metadata": {},
   "outputs": [],
   "source": []
  }
 ],
 "metadata": {
  "kernelspec": {
   "display_name": "Python 3",
   "language": "python",
   "name": "python3"
  },
  "language_info": {
   "codemirror_mode": {
    "name": "ipython",
    "version": 3
   },
   "file_extension": ".py",
   "mimetype": "text/x-python",
   "name": "python",
   "nbconvert_exporter": "python",
   "pygments_lexer": "ipython3",
   "version": "3.8.5"
  }
 },
 "nbformat": 4,
 "nbformat_minor": 5
}
