{
 "cells": [
  {
   "cell_type": "code",
   "execution_count": 38,
   "id": "better-guess",
   "metadata": {},
   "outputs": [],
   "source": [
    "def binary_search(arr, target):\n",
    "    start, end = 0, max(arr)-1\n",
    "    while start <= end:\n",
    "        mid = (start + end) // 2\n",
    "        current = [i - (mid) for i in arr]\n",
    "        for i in range(len(current)):\n",
    "            if current[i] < 0: current[i] = 0\n",
    "        current = sum(current) \n",
    "        if current == target:\n",
    "            return mid\n",
    "        elif current > target:\n",
    "            start = mid + 1\n",
    "        else:\n",
    "            end = mid - 1\n",
    "    return None"
   ]
  },
  {
   "cell_type": "code",
   "execution_count": 39,
   "id": "separated-casino",
   "metadata": {},
   "outputs": [
    {
     "name": "stdout",
     "output_type": "stream",
     "text": [
      "4 6\n",
      "19 15 10 17\n",
      "[10, 6, 1, 8]\n",
      "0 ~ 18 mid:  9 current:  25\n",
      "[5, 1, -4, 3]\n",
      "10 ~ 18 mid:  14 current:  9\n",
      "[3, -1, -6, 1]\n",
      "15 ~ 18 mid:  16 current:  4\n",
      "[4, 0, -5, 2]\n",
      "15 ~ 15 mid:  15 current:  6\n",
      "15\n"
     ]
    }
   ],
   "source": [
    "n, m = map(int, input().split())\n",
    "given = list(map(int, input().split()))\n",
    "\n",
    "result = binary_search(given, m)\n",
    "print(result)"
   ]
  },
  {
   "cell_type": "code",
   "execution_count": null,
   "id": "geographic-harbor",
   "metadata": {},
   "outputs": [],
   "source": []
  }
 ],
 "metadata": {
  "kernelspec": {
   "display_name": "Python 3",
   "language": "python",
   "name": "python3"
  },
  "language_info": {
   "codemirror_mode": {
    "name": "ipython",
    "version": 3
   },
   "file_extension": ".py",
   "mimetype": "text/x-python",
   "name": "python",
   "nbconvert_exporter": "python",
   "pygments_lexer": "ipython3",
   "version": "3.8.5"
  }
 },
 "nbformat": 4,
 "nbformat_minor": 5
}
