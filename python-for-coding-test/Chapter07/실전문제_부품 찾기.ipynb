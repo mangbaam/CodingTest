{
 "cells": [
  {
   "cell_type": "code",
   "execution_count": 1,
   "id": "governing-drinking",
   "metadata": {},
   "outputs": [
    {
     "name": "stdout",
     "output_type": "stream",
     "text": [
      "5\n",
      "8 3 7 9 2\n",
      "3\n",
      "5 7 9\n",
      "no yes yes "
     ]
    }
   ],
   "source": [
    "n = int(input())\n",
    "store = list(map(int, input().split()))\n",
    "m = int(input())\n",
    "request = list(map(int, input().split()))\n",
    "for r in request:\n",
    "    if r in store:\n",
    "        print(\"yes\", end=' ')\n",
    "    else: print(\"no\", end=' ')"
   ]
  },
  {
   "cell_type": "code",
   "execution_count": 2,
   "id": "seventh-winning",
   "metadata": {},
   "outputs": [],
   "source": [
    "def binary_search(arr, start, end, target):\n",
    "    while start <= end:\n",
    "        mid = (start + end) // 2\n",
    "        if arr[mid] == target:\n",
    "            return mid\n",
    "        elif arr[mid] > target:\n",
    "            end = mid-1\n",
    "        else:\n",
    "            start = mid+1\n",
    "    return None"
   ]
  },
  {
   "cell_type": "code",
   "execution_count": 6,
   "id": "developed-reserve",
   "metadata": {},
   "outputs": [
    {
     "name": "stdout",
     "output_type": "stream",
     "text": [
      "5\n",
      "8 3 7 9 2\n",
      "3\n",
      "5 7 9\n",
      "no yes yes "
     ]
    }
   ],
   "source": [
    "n = int(input())\n",
    "arr = list(map(int, input().split()))\n",
    "arr.sort()\n",
    "m = int(input())\n",
    "x = list(map(int, input().split()))\n",
    "for i in x:\n",
    "    result = binary_search(arr, 0, n-1, i)\n",
    "    if result == None:\n",
    "        print(\"no\", end=' ')\n",
    "    else:\n",
    "        print(\"yes\", end=' ')"
   ]
  },
  {
   "cell_type": "code",
   "execution_count": 7,
   "id": "sound-authentication",
   "metadata": {},
   "outputs": [
    {
     "name": "stdout",
     "output_type": "stream",
     "text": [
      "5\n",
      "8 3 7 9 2\n",
      "3\n",
      "5 7 9\n",
      "no yes yes "
     ]
    }
   ],
   "source": [
    "n = int(input())\n",
    "arr = list(map(int, input().split()))\n",
    "count = [0] * (max(arr)+1)\n",
    "for i in arr:\n",
    "    count[i] += 1\n",
    "m = int(input())\n",
    "x = list(map(int, input().split()))\n",
    "for i in x:\n",
    "    if count[i]:\n",
    "        print(\"yes\", end=' ')\n",
    "    else:\n",
    "        print(\"no\", end=' ')"
   ]
  },
  {
   "cell_type": "code",
   "execution_count": null,
   "id": "reduced-heritage",
   "metadata": {},
   "outputs": [],
   "source": []
  }
 ],
 "metadata": {
  "kernelspec": {
   "display_name": "Python 3",
   "language": "python",
   "name": "python3"
  },
  "language_info": {
   "codemirror_mode": {
    "name": "ipython",
    "version": 3
   },
   "file_extension": ".py",
   "mimetype": "text/x-python",
   "name": "python",
   "nbconvert_exporter": "python",
   "pygments_lexer": "ipython3",
   "version": "3.8.5"
  }
 },
 "nbformat": 4,
 "nbformat_minor": 5
}
