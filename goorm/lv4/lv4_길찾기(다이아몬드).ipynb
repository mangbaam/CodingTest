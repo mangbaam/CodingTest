{
 "cells": [
  {
   "cell_type": "markdown",
   "id": "weird-doubt",
   "metadata": {},
   "source": [
    "https://level.goorm.io/exam/43145/%EA%B8%B8%EC%B0%BE%EA%B8%B0-%EB%8B%A4%EC%9D%B4%EC%95%84%EB%AA%AC%EB%93%9C/quiz/1"
   ]
  },
  {
   "cell_type": "code",
   "execution_count": 1,
   "id": "musical-storage",
   "metadata": {},
   "outputs": [
    {
     "name": "stdout",
     "output_type": "stream",
     "text": [
      "5\n",
      "6\n",
      "1 2\n",
      "6 7 4\n",
      "9 4 1 7\n",
      "6 7 5 9 4\n",
      "4 4 3 2\n",
      "1 2 3\n",
      "6 1\n",
      "7\n",
      "48\n"
     ]
    }
   ],
   "source": [
    "width = int(input())\n",
    "\n",
    "graph = []\n",
    "for _ in range(width):\n",
    "\tgraph.append(list(map(int, input().split())))\n",
    "\n",
    "for i in range(1, width):\n",
    "\tw = len(graph[i])\n",
    "\tfor j in range(w):\n",
    "\t\tif j < 1:\n",
    "\t\t\tgraph[i][j] += graph[i-1][j]\n",
    "\t\telif j >= w-1:\n",
    "\t\t\tgraph[i][j] += graph[i-1][j-1]\n",
    "\t\telse:\n",
    "\t\t\tgraph[i][j] += max(graph[i-1][j], graph[i-1][j-1])\n",
    "\n",
    "graph = [graph[-1]]\n",
    "for _ in range(width-1):\n",
    "\tgraph.append(list(map(int, input().split())))\n",
    "\n",
    "for i in range(1, width):\n",
    "\tfor j in range(len(graph[i])):\n",
    "\t\tgraph[i][j] += max(graph[i-1][j], graph[i-1][j+1])\n",
    "\n",
    "print(graph[-1][0])"
   ]
  }
 ],
 "metadata": {
  "kernelspec": {
   "display_name": "Python 3",
   "language": "python",
   "name": "python3"
  },
  "language_info": {
   "codemirror_mode": {
    "name": "ipython",
    "version": 3
   },
   "file_extension": ".py",
   "mimetype": "text/x-python",
   "name": "python",
   "nbconvert_exporter": "python",
   "pygments_lexer": "ipython3",
   "version": "3.8.5"
  }
 },
 "nbformat": 4,
 "nbformat_minor": 5
}
