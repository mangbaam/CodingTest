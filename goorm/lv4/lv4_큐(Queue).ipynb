{
 "cells": [
  {
   "cell_type": "markdown",
   "id": "animal-deviation",
   "metadata": {},
   "source": [
    "https://level.goorm.io/exam/43246/%ED%81%90-queue/quiz/1"
   ]
  },
  {
   "cell_type": "code",
   "execution_count": 1,
   "id": "short-bubble",
   "metadata": {},
   "outputs": [
    {
     "name": "stdout",
     "output_type": "stream",
     "text": [
      "4\n",
      "d\n",
      "underflow\n",
      "e\n",
      "10\n",
      "e\n",
      "20\n",
      "e\n",
      "30\n",
      "10 20 30\n"
     ]
    }
   ],
   "source": [
    "from collections import deque\n",
    "import sys\n",
    "\n",
    "def printQueue(queue):\n",
    "\tprint(' '.join(list(queue)))\n",
    "\t\t\n",
    "n = int(input())\n",
    "queue = deque()\n",
    "for i in range(n):\n",
    "\tcmd = input()\n",
    "\tif cmd == 'e' or cmd == 'E':\n",
    "\t\tqueue.append(input()) if len(queue) < 10 else print(\"overflow\")\n",
    "\telif cmd == 'd' or cmd == 'D':\n",
    "\t\tqueue.popleft() if queue else print(\"underflow\")\n",
    "\telse:\n",
    "\t\tbreak\n",
    "printQueue(queue)"
   ]
  }
 ],
 "metadata": {
  "kernelspec": {
   "display_name": "Python 3",
   "language": "python",
   "name": "python3"
  },
  "language_info": {
   "codemirror_mode": {
    "name": "ipython",
    "version": 3
   },
   "file_extension": ".py",
   "mimetype": "text/x-python",
   "name": "python",
   "nbconvert_exporter": "python",
   "pygments_lexer": "ipython3",
   "version": "3.8.5"
  }
 },
 "nbformat": 4,
 "nbformat_minor": 5
}
