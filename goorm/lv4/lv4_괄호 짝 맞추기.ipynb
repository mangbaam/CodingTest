{
 "cells": [
  {
   "cell_type": "markdown",
   "id": "front-equity",
   "metadata": {},
   "source": [
    "https://level.goorm.io/exam/43119/%EA%B4%84%ED%98%B8-%EC%A7%9D-%EB%A7%9E%EC%B6%94%EA%B8%B0/quiz/1"
   ]
  },
  {
   "cell_type": "code",
   "execution_count": 1,
   "id": "finite-affiliate",
   "metadata": {},
   "outputs": [
    {
     "name": "stdout",
     "output_type": "stream",
     "text": [
      "()((({}})({}[]]\n",
      "False\n"
     ]
    }
   ],
   "source": [
    "stack = []\n",
    "bracket = input()\n",
    "pair = {'(': ')', '{': '}', '[': ']'}\n",
    "\n",
    "for b in bracket:\n",
    "\tif b in ('(', '{', '['):\n",
    "\t\tstack.append(b)\n",
    "\telif stack and b in (')', '}', ']'):\n",
    "\t\tlast = stack.pop()\n",
    "\t\tif b != pair[last]: \n",
    "\t\t\tprint(\"False\")\n",
    "\t\t\tbreak\n",
    "\telse:\n",
    "\t\tprint(\"False\")\n",
    "\t\tbreak\n",
    "else:\n",
    "\tprint(\"True\")"
   ]
  }
 ],
 "metadata": {
  "kernelspec": {
   "display_name": "Python 3",
   "language": "python",
   "name": "python3"
  },
  "language_info": {
   "codemirror_mode": {
    "name": "ipython",
    "version": 3
   },
   "file_extension": ".py",
   "mimetype": "text/x-python",
   "name": "python",
   "nbconvert_exporter": "python",
   "pygments_lexer": "ipython3",
   "version": "3.8.5"
  }
 },
 "nbformat": 4,
 "nbformat_minor": 5
}
