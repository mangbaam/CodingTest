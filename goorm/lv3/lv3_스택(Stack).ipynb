{
 "cells": [
  {
   "cell_type": "markdown",
   "id": "dangerous-contents",
   "metadata": {},
   "source": [
    "https://level.goorm.io/exam/43218/%EC%8A%A4%ED%83%9D-stack/quiz/1"
   ]
  },
  {
   "cell_type": "code",
   "execution_count": 1,
   "id": "convertible-bunny",
   "metadata": {},
   "outputs": [
    {
     "name": "stdout",
     "output_type": "stream",
     "text": [
      "3\n",
      "0\n",
      "10\n",
      "0\n",
      "20\n",
      "0\n",
      "30\n",
      "10 20 30 "
     ]
    }
   ],
   "source": [
    "def solution():\n",
    "\tn = int(input())\n",
    "\tstack = []\n",
    "\tfor _ in range(n):\n",
    "\t\tcmd = input()\n",
    "\t\tif cmd == '0':\n",
    "\t\t\tstack.append(input()) if len(stack)<10 else print(\"overflow\")\n",
    "\t\telif cmd == '1':\n",
    "\t\t\tstack.pop() if stack else print(\"underflow\")\n",
    "\t\telse:\n",
    "\t\t\tbreak\n",
    "\tfor i in stack: print(i, end=' ')\n",
    "\n",
    "\n",
    "solution()"
   ]
  },
  {
   "cell_type": "code",
   "execution_count": 2,
   "id": "generous-suspect",
   "metadata": {
    "scrolled": true
   },
   "outputs": [
    {
     "name": "stdout",
     "output_type": "stream",
     "text": [
      "6\n",
      "1\n",
      "underflow\n",
      "1\n",
      "underflow\n",
      "1\n",
      "underflow\n",
      "2\n"
     ]
    }
   ],
   "source": [
    "solution()"
   ]
  },
  {
   "cell_type": "code",
   "execution_count": 3,
   "id": "educated-temperature",
   "metadata": {},
   "outputs": [
    {
     "name": "stdout",
     "output_type": "stream",
     "text": [
      "3\n",
      "0\n",
      "7\n",
      "2\n",
      "7 "
     ]
    }
   ],
   "source": [
    "solution()"
   ]
  }
 ],
 "metadata": {
  "kernelspec": {
   "display_name": "Python 3",
   "language": "python",
   "name": "python3"
  },
  "language_info": {
   "codemirror_mode": {
    "name": "ipython",
    "version": 3
   },
   "file_extension": ".py",
   "mimetype": "text/x-python",
   "name": "python",
   "nbconvert_exporter": "python",
   "pygments_lexer": "ipython3",
   "version": "3.8.5"
  }
 },
 "nbformat": 4,
 "nbformat_minor": 5
}
