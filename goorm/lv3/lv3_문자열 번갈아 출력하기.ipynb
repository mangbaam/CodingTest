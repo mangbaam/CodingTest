{
 "cells": [
  {
   "cell_type": "markdown",
   "id": "durable-romance",
   "metadata": {},
   "source": [
    "https://level.goorm.io/exam/43110/%EB%AC%B8%EC%9E%90%EC%97%B4-%EB%B2%88%EA%B0%88%EC%95%84-%EC%B6%9C%EB%A0%A5%ED%95%98%EA%B8%B0/quiz/1"
   ]
  },
  {
   "cell_type": "code",
   "execution_count": 2,
   "id": "separate-parish",
   "metadata": {},
   "outputs": [
    {
     "name": "stdout",
     "output_type": "stream",
     "text": [
      "abcdef\n",
      "afbecd\n"
     ]
    }
   ],
   "source": [
    "from collections import deque\n",
    "\n",
    "def solution(string):\n",
    "\tqueue = deque(string)\n",
    "\tanswer = \"\"\n",
    "\ti = 1\n",
    "\twhile queue:\n",
    "\t\tif i%2:\n",
    "\t\t\tanswer += queue.popleft()\n",
    "\t\telse:\n",
    "\t\t\tanswer += queue.pop()\n",
    "\t\ti += 1\n",
    "\treturn answer\n",
    "\n",
    "print(solution(input()))"
   ]
  },
  {
   "cell_type": "code",
   "execution_count": 3,
   "id": "spare-ideal",
   "metadata": {},
   "outputs": [
    {
     "name": "stdout",
     "output_type": "stream",
     "text": [
      "Goorm\n",
      "Gmoro\n"
     ]
    }
   ],
   "source": [
    "print(solution(input()))"
   ]
  }
 ],
 "metadata": {
  "kernelspec": {
   "display_name": "Python 3",
   "language": "python",
   "name": "python3"
  },
  "language_info": {
   "codemirror_mode": {
    "name": "ipython",
    "version": 3
   },
   "file_extension": ".py",
   "mimetype": "text/x-python",
   "name": "python",
   "nbconvert_exporter": "python",
   "pygments_lexer": "ipython3",
   "version": "3.8.5"
  }
 },
 "nbformat": 4,
 "nbformat_minor": 5
}
