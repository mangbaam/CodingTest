{
 "cells": [
  {
   "cell_type": "markdown",
   "id": "cooperative-thickness",
   "metadata": {},
   "source": [
    "https://level.goorm.io/exam/43263/%ED%8A%B9%EC%A0%95-%EA%B5%AC%EA%B0%84%EC%9D%98-%ED%95%A9/quiz/1"
   ]
  },
  {
   "cell_type": "code",
   "execution_count": 1,
   "id": "usual-hungarian",
   "metadata": {},
   "outputs": [
    {
     "name": "stdout",
     "output_type": "stream",
     "text": [
      "5\n",
      "2 6 8 9 10\n",
      "2 4\n",
      "23\n"
     ]
    }
   ],
   "source": [
    "n = int(input())\n",
    "nums = list(map(int, input().split()))\n",
    "start, end = map(int, input().split())\n",
    "sums = [nums[0]]\n",
    "for num in nums:\n",
    "\tsums.append(sums[-1]+num)\n",
    "print(sums[end]-sums[start-1])"
   ]
  }
 ],
 "metadata": {
  "kernelspec": {
   "display_name": "Python 3",
   "language": "python",
   "name": "python3"
  },
  "language_info": {
   "codemirror_mode": {
    "name": "ipython",
    "version": 3
   },
   "file_extension": ".py",
   "mimetype": "text/x-python",
   "name": "python",
   "nbconvert_exporter": "python",
   "pygments_lexer": "ipython3",
   "version": "3.8.5"
  }
 },
 "nbformat": 4,
 "nbformat_minor": 5
}
