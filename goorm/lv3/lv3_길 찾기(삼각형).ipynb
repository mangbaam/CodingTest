{
 "cells": [
  {
   "cell_type": "markdown",
   "id": "demanding-butler",
   "metadata": {},
   "source": [
    "https://level.goorm.io/exam/43120/%EA%B8%B8-%EC%B0%BE%EA%B8%B0-%EC%82%BC%EA%B0%81%ED%98%95/quiz/1"
   ]
  },
  {
   "cell_type": "code",
   "execution_count": 2,
   "id": "proprietary-project",
   "metadata": {},
   "outputs": [
    {
     "name": "stdout",
     "output_type": "stream",
     "text": [
      "5\n",
      "5\n",
      "1 5\n",
      "2 3 4\n",
      "9 4 1 7\n",
      "6 7 1 9 3\n",
      "30\n"
     ]
    }
   ],
   "source": [
    "n = int(input())\n",
    "d = []\n",
    "for _ in range(n):\n",
    "\td.append(list(map(int, input().split())))\n",
    "\t\n",
    "for i in range(n-2, -1, -1):\n",
    "\tfor j in range(0, i+1):\n",
    "\t\td[i][j] += max(d[i+1][j], d[i+1][j+1])\n",
    "print(d[0][0])"
   ]
  }
 ],
 "metadata": {
  "kernelspec": {
   "display_name": "Python 3",
   "language": "python",
   "name": "python3"
  },
  "language_info": {
   "codemirror_mode": {
    "name": "ipython",
    "version": 3
   },
   "file_extension": ".py",
   "mimetype": "text/x-python",
   "name": "python",
   "nbconvert_exporter": "python",
   "pygments_lexer": "ipython3",
   "version": "3.8.5"
  }
 },
 "nbformat": 4,
 "nbformat_minor": 5
}
