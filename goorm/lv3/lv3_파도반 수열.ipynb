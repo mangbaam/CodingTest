{
 "cells": [
  {
   "cell_type": "markdown",
   "id": "engaging-holly",
   "metadata": {},
   "source": [
    "https://level.goorm.io/exam/43272/%ED%8C%8C%EB%8F%84%EB%B0%98-%EC%88%98%EC%97%B4/quiz/1"
   ]
  },
  {
   "cell_type": "code",
   "execution_count": 1,
   "id": "retired-profession",
   "metadata": {},
   "outputs": [
    {
     "name": "stdout",
     "output_type": "stream",
     "text": [
      "12\n",
      "16\n"
     ]
    }
   ],
   "source": [
    "n = int(input())\n",
    "d = [0, 1, 1, 1, 2, 2]\n",
    "for i in range(6, n+1):\n",
    "\td.append(d[i-1]+d[i-5])\n",
    "print(d[n])"
   ]
  }
 ],
 "metadata": {
  "kernelspec": {
   "display_name": "Python 3",
   "language": "python",
   "name": "python3"
  },
  "language_info": {
   "codemirror_mode": {
    "name": "ipython",
    "version": 3
   },
   "file_extension": ".py",
   "mimetype": "text/x-python",
   "name": "python",
   "nbconvert_exporter": "python",
   "pygments_lexer": "ipython3",
   "version": "3.8.5"
  }
 },
 "nbformat": 4,
 "nbformat_minor": 5
}
