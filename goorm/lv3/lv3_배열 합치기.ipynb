{
 "cells": [
  {
   "cell_type": "markdown",
   "id": "combined-commander",
   "metadata": {},
   "source": [
    "https://level.goorm.io/exam/43250/%EB%B0%B0%EC%97%B4-%ED%95%A9%EC%B9%98%EA%B8%B0/quiz/1"
   ]
  },
  {
   "cell_type": "code",
   "execution_count": 1,
   "id": "adjustable-sauce",
   "metadata": {},
   "outputs": [
    {
     "name": "stdout",
     "output_type": "stream",
     "text": [
      "5 4\n",
      "2 3 6 7 8\n",
      "1 8 9 11\n",
      "1 2 3 6 7 8 8 9 11 "
     ]
    }
   ],
   "source": [
    "a, b = map(int, input().split())\n",
    "list1 = list(input().split())\n",
    "list2 = list(input().split())\n",
    "list1.extend(list2)\n",
    "list1.sort(key=lambda x: int(x))\n",
    "for n in list1: print(n, end=' ')"
   ]
  }
 ],
 "metadata": {
  "kernelspec": {
   "display_name": "Python 3",
   "language": "python",
   "name": "python3"
  },
  "language_info": {
   "codemirror_mode": {
    "name": "ipython",
    "version": 3
   },
   "file_extension": ".py",
   "mimetype": "text/x-python",
   "name": "python",
   "nbconvert_exporter": "python",
   "pygments_lexer": "ipython3",
   "version": "3.8.5"
  }
 },
 "nbformat": 4,
 "nbformat_minor": 5
}
