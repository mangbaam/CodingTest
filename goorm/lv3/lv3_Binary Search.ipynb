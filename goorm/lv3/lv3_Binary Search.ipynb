{
 "cells": [
  {
   "cell_type": "markdown",
   "id": "colored-bottom",
   "metadata": {},
   "source": [
    "https://level.goorm.io/exam/43064/binary-search/quiz/1"
   ]
  },
  {
   "cell_type": "code",
   "execution_count": 1,
   "id": "protecting-guinea",
   "metadata": {},
   "outputs": [
    {
     "name": "stdout",
     "output_type": "stream",
     "text": [
      "5\n",
      "1 5 7 9 10\n",
      "9\n",
      "4\n"
     ]
    }
   ],
   "source": [
    "n = int(input())\n",
    "nums = list(map(int, input().split()))\n",
    "target = int(input())\n",
    "start, end = 0, n-1\n",
    "\n",
    "while start<=end:\n",
    "\tmid = (start+end)//2\n",
    "\tif nums[mid]==target:\n",
    "\t\tprint(mid+1)\n",
    "\t\tbreak\n",
    "\telif nums[mid]<target:\n",
    "\t\tstart = mid+1\n",
    "\telif nums[mid]>target:\n",
    "\t\tend = mid-1\n",
    "else:\n",
    "\tprint('X')"
   ]
  }
 ],
 "metadata": {
  "kernelspec": {
   "display_name": "Python 3",
   "language": "python",
   "name": "python3"
  },
  "language_info": {
   "codemirror_mode": {
    "name": "ipython",
    "version": 3
   },
   "file_extension": ".py",
   "mimetype": "text/x-python",
   "name": "python",
   "nbconvert_exporter": "python",
   "pygments_lexer": "ipython3",
   "version": "3.8.5"
  }
 },
 "nbformat": 4,
 "nbformat_minor": 5
}
