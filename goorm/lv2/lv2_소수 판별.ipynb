{
 "cells": [
  {
   "cell_type": "markdown",
   "id": "bearing-presence",
   "metadata": {},
   "source": [
    "https://level.goorm.io/exam/43238/%EC%86%8C%EC%88%98-%ED%8C%90%EB%B3%84/quiz/1"
   ]
  },
  {
   "cell_type": "code",
   "execution_count": 1,
   "id": "rolled-defensive",
   "metadata": {},
   "outputs": [
    {
     "name": "stdout",
     "output_type": "stream",
     "text": [
      "7\n",
      "True\n"
     ]
    }
   ],
   "source": [
    "def solution(n):\n",
    "\tif n in (1, 3): return False\n",
    "\tfor i in range(2, int(n**(1/2))+1):\n",
    "\t\tif not n%i:\n",
    "\t\t\treturn False\n",
    "\treturn True\n",
    "\t\n",
    "print(solution(int(input())))"
   ]
  }
 ],
 "metadata": {
  "kernelspec": {
   "display_name": "Python 3",
   "language": "python",
   "name": "python3"
  },
  "language_info": {
   "codemirror_mode": {
    "name": "ipython",
    "version": 3
   },
   "file_extension": ".py",
   "mimetype": "text/x-python",
   "name": "python",
   "nbconvert_exporter": "python",
   "pygments_lexer": "ipython3",
   "version": "3.8.5"
  }
 },
 "nbformat": 4,
 "nbformat_minor": 5
}
