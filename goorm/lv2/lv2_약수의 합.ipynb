{
 "cells": [
  {
   "cell_type": "markdown",
   "id": "rocky-polls",
   "metadata": {},
   "source": [
    "https://level.goorm.io/exam/43232/%EC%95%BD%EC%88%98%EC%9D%98-%ED%95%A9/quiz/1"
   ]
  },
  {
   "cell_type": "code",
   "execution_count": 2,
   "id": "played-participation",
   "metadata": {},
   "outputs": [
    {
     "name": "stdout",
     "output_type": "stream",
     "text": [
      "30\n",
      "72\n"
     ]
    }
   ],
   "source": [
    "n = int(input())\n",
    "\n",
    "d = set()\n",
    "for i in range(1, int(n**(1/2))+1):\n",
    "    if n%i==0: d.add(i); d.add(n//i)\n",
    "print(sum(d))"
   ]
  }
 ],
 "metadata": {
  "kernelspec": {
   "display_name": "Python 3",
   "language": "python",
   "name": "python3"
  },
  "language_info": {
   "codemirror_mode": {
    "name": "ipython",
    "version": 3
   },
   "file_extension": ".py",
   "mimetype": "text/x-python",
   "name": "python",
   "nbconvert_exporter": "python",
   "pygments_lexer": "ipython3",
   "version": "3.8.5"
  }
 },
 "nbformat": 4,
 "nbformat_minor": 5
}
