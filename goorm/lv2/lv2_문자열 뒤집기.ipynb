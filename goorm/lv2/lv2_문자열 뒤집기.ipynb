{
 "cells": [
  {
   "cell_type": "markdown",
   "id": "welsh-resource",
   "metadata": {},
   "source": [
    "https://level.goorm.io/exam/43219/%EB%AC%B8%EC%9E%90%EC%97%B4-%EB%92%A4%EC%A7%91%EA%B8%B0/quiz/1"
   ]
  },
  {
   "cell_type": "code",
   "execution_count": null,
   "id": "hazardous-taxation",
   "metadata": {},
   "outputs": [],
   "source": [
    "print(input()[::-1])"
   ]
  }
 ],
 "metadata": {
  "kernelspec": {
   "display_name": "Python 3",
   "language": "python",
   "name": "python3"
  },
  "language_info": {
   "codemirror_mode": {
    "name": "ipython",
    "version": 3
   },
   "file_extension": ".py",
   "mimetype": "text/x-python",
   "name": "python",
   "nbconvert_exporter": "python",
   "pygments_lexer": "ipython3",
   "version": "3.8.5"
  }
 },
 "nbformat": 4,
 "nbformat_minor": 5
}
