{
 "cells": [
  {
   "cell_type": "markdown",
   "id": "coordinated-venue",
   "metadata": {},
   "source": [
    "https://level.goorm.io/exam/43241/%EA%B3%84%EC%82%B0%EA%B8%B0/quiz/1"
   ]
  },
  {
   "cell_type": "code",
   "execution_count": 1,
   "id": "secondary-reservation",
   "metadata": {},
   "outputs": [
    {
     "name": "stdout",
     "output_type": "stream",
     "text": [
      "10 / 3\n",
      "3.33\n"
     ]
    }
   ],
   "source": [
    "n1, op, n2 = input().split()\n",
    "if op=='+':\n",
    "\tprint(int(n1)+int(n2))\n",
    "elif op=='-':\n",
    "\tprint(int(n1)-int(n2))\n",
    "elif op=='*':\n",
    "\tprint(int(n1)*int(n2))\n",
    "elif op=='/':\n",
    "\tprint(f'{(int(n1)/int(n2)):.2f}')"
   ]
  }
 ],
 "metadata": {
  "kernelspec": {
   "display_name": "Python 3",
   "language": "python",
   "name": "python3"
  },
  "language_info": {
   "codemirror_mode": {
    "name": "ipython",
    "version": 3
   },
   "file_extension": ".py",
   "mimetype": "text/x-python",
   "name": "python",
   "nbconvert_exporter": "python",
   "pygments_lexer": "ipython3",
   "version": "3.8.5"
  }
 },
 "nbformat": 4,
 "nbformat_minor": 5
}
