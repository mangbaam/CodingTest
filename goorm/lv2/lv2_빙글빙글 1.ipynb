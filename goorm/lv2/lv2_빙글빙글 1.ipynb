{
 "cells": [
  {
   "cell_type": "markdown",
   "id": "electric-thermal",
   "metadata": {},
   "source": [
    "https://level.goorm.io/exam/60331/%EB%B9%99%EA%B8%80%EB%B9%99%EA%B8%80-1/quiz/1"
   ]
  },
  {
   "cell_type": "code",
   "execution_count": 1,
   "id": "appreciated-consolidation",
   "metadata": {},
   "outputs": [
    {
     "name": "stdout",
     "output_type": "stream",
     "text": [
      "30\n",
      "# # # # # # # # # # # # # # # # # # # # # # # # # # # # # # \n",
      "                                                          # \n",
      "# # # # # # # # # # # # # # # # # # # # # # # # # # # #   # \n",
      "#                                                     #   # \n",
      "#   # # # # # # # # # # # # # # # # # # # # # # # #   #   # \n",
      "#   #                                             #   #   # \n",
      "#   #   # # # # # # # # # # # # # # # # # # # #   #   #   # \n",
      "#   #   #                                     #   #   #   # \n",
      "#   #   #   # # # # # # # # # # # # # # # #   #   #   #   # \n",
      "#   #   #   #                             #   #   #   #   # \n",
      "#   #   #   #   # # # # # # # # # # # #   #   #   #   #   # \n",
      "#   #   #   #   #                     #   #   #   #   #   # \n",
      "#   #   #   #   #   # # # # # # # #   #   #   #   #   #   # \n",
      "#   #   #   #   #   #             #   #   #   #   #   #   # \n",
      "#   #   #   #   #   #   # # # #   #   #   #   #   #   #   # \n",
      "#   #   #   #   #   #   #     #   #   #   #   #   #   #   # \n",
      "#   #   #   #   #   #   #         #   #   #   #   #   #   # \n",
      "#   #   #   #   #   #   # # # # # #   #   #   #   #   #   # \n",
      "#   #   #   #   #   #                 #   #   #   #   #   # \n",
      "#   #   #   #   #   # # # # # # # # # #   #   #   #   #   # \n",
      "#   #   #   #   #                         #   #   #   #   # \n",
      "#   #   #   #   # # # # # # # # # # # # # #   #   #   #   # \n",
      "#   #   #   #                                 #   #   #   # \n",
      "#   #   #   # # # # # # # # # # # # # # # # # #   #   #   # \n",
      "#   #   #                                         #   #   # \n",
      "#   #   # # # # # # # # # # # # # # # # # # # # # #   #   # \n",
      "#   #                                                 #   # \n",
      "#   # # # # # # # # # # # # # # # # # # # # # # # # # #   # \n",
      "#                                                         # \n",
      "# # # # # # # # # # # # # # # # # # # # # # # # # # # # # # \n"
     ]
    }
   ],
   "source": [
    "# -*- coding: utf-8 -*-\n",
    "# UTF-8 encoding when using korean\n",
    "n = int(input())\n",
    "bingle = [[\"  \"] * n for _ in range(n)]\n",
    "\n",
    "for i in range(n):\n",
    "\tbingle[0][i] = \"# \"\n",
    "for i in range(1, n-1):\n",
    "\tbingle[i][n-1] = \"# \"\n",
    "for i in range(n-1, -1, -1):\n",
    "    bingle[n-1][i] = \"# \"\n",
    "for i in range(n-2, 1, -1):\n",
    "    bingle[i][0] = \"# \"\n",
    "\n",
    "length = n-3\n",
    "x, y = 2, 0\n",
    "for i in range(n-4):\n",
    "\tif i % 4 == 0: # 윗면\n",
    "\t\tfor _ in range(length):\n",
    "\t\t\ty += 1\n",
    "\t\t\tbingle[x][y] = \"# \"\n",
    "\t\tlength -= 2\n",
    "\telif i% 4 == 1: # 오른쪽\n",
    "\t\tfor _ in range(length):\n",
    "\t\t\tx += 1\n",
    "\t\t\tbingle[x][y] = \"# \"\n",
    "\telif i % 4 == 2: # 아래\n",
    "\t\tfor _ in range(length):\n",
    "\t\t\ty -= 1\n",
    "\t\t\tbingle[x][y] = \"# \"\n",
    "\t\tlength -= 2\n",
    "\telse: # 왼쪽\n",
    "\t\tfor _ in range(length):\n",
    "\t\t\tx -= 1\n",
    "\t\t\tbingle[x][y] = \"# \"\n",
    "\t\t\t\n",
    "for b in bingle:\n",
    "\tprint(''.join(b))"
   ]
  }
 ],
 "metadata": {
  "kernelspec": {
   "display_name": "Python 3",
   "language": "python",
   "name": "python3"
  },
  "language_info": {
   "codemirror_mode": {
    "name": "ipython",
    "version": 3
   },
   "file_extension": ".py",
   "mimetype": "text/x-python",
   "name": "python",
   "nbconvert_exporter": "python",
   "pygments_lexer": "ipython3",
   "version": "3.8.5"
  }
 },
 "nbformat": 4,
 "nbformat_minor": 5
}
