{
 "cells": [
  {
   "cell_type": "markdown",
   "id": "superb-tiger",
   "metadata": {},
   "source": [
    "https://level.goorm.io/exam/43275/%EC%99%84%EC%A0%84%EC%88%98/quiz/1"
   ]
  },
  {
   "cell_type": "code",
   "execution_count": 1,
   "id": "comparable-asset",
   "metadata": {},
   "outputs": [
    {
     "name": "stdout",
     "output_type": "stream",
     "text": [
      "1 100\n",
      "6 28 "
     ]
    }
   ],
   "source": [
    "def solution():\n",
    "\ts, e = map(int, input().split())\n",
    "\tfor i in range(s, e+1):\n",
    "\t\tif isPerfect(i): print(i, end=' ')\n",
    "\t\t\n",
    "def isPerfect(n):\n",
    "\tdivider = set([1])\n",
    "\tnum = n\n",
    "\tfor i in range(2, int(num**(1/2))+1):\n",
    "\t\tif not num%i:\n",
    "\t\t\tdivider.add(i)\n",
    "\t\t\tdivider.add(num//i)\n",
    "\treturn n == sum(divider) if n>1 else False\n",
    "\n",
    "solution()"
   ]
  },
  {
   "cell_type": "code",
   "execution_count": 2,
   "id": "quiet-distributor",
   "metadata": {},
   "outputs": [
    {
     "name": "stdout",
     "output_type": "stream",
     "text": [
      "10 1000\n",
      "28 496 "
     ]
    }
   ],
   "source": [
    "solution()"
   ]
  }
 ],
 "metadata": {
  "kernelspec": {
   "display_name": "Python 3",
   "language": "python",
   "name": "python3"
  },
  "language_info": {
   "codemirror_mode": {
    "name": "ipython",
    "version": 3
   },
   "file_extension": ".py",
   "mimetype": "text/x-python",
   "name": "python",
   "nbconvert_exporter": "python",
   "pygments_lexer": "ipython3",
   "version": "3.8.5"
  }
 },
 "nbformat": 4,
 "nbformat_minor": 5
}
