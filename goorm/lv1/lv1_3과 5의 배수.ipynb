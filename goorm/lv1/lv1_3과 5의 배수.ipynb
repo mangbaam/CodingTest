{
 "cells": [
  {
   "cell_type": "markdown",
   "id": "favorite-ceiling",
   "metadata": {},
   "source": [
    "https://level.goorm.io/exam/43166/3%EA%B3%BC-5%EC%9D%98-%EB%B0%B0%EC%88%98/quiz/1"
   ]
  },
  {
   "cell_type": "code",
   "execution_count": 1,
   "id": "italian-advance",
   "metadata": {},
   "outputs": [
    {
     "name": "stdout",
     "output_type": "stream",
     "text": [
      "1000\n",
      "234168\n"
     ]
    }
   ],
   "source": [
    "n = int(input())\n",
    "answer = 0\n",
    "for i in range(1, n+1):\n",
    "\tif not i % 3:\n",
    "\t\tanswer += i\n",
    "\telif not i % 5:\n",
    "\t\tanswer += i\n",
    "print(answer)"
   ]
  }
 ],
 "metadata": {
  "kernelspec": {
   "display_name": "Python 3",
   "language": "python",
   "name": "python3"
  },
  "language_info": {
   "codemirror_mode": {
    "name": "ipython",
    "version": 3
   },
   "file_extension": ".py",
   "mimetype": "text/x-python",
   "name": "python",
   "nbconvert_exporter": "python",
   "pygments_lexer": "ipython3",
   "version": "3.8.5"
  }
 },
 "nbformat": 4,
 "nbformat_minor": 5
}
