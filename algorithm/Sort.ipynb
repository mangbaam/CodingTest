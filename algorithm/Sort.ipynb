{
 "cells": [
  {
   "cell_type": "code",
   "execution_count": 5,
   "outputs": [],
   "source": [
    "preset = [1, 3, 5, 2, 8, 9, 4, 7, 6]\n",
    "\n",
    "def swap(li, a, b):\n",
    "    li[a], li[b] = li[b], li[a]"
   ],
   "metadata": {
    "collapsed": false
   }
  },
  {
   "cell_type": "markdown",
   "source": [
    "## 선택 정렬\n",
    "\n",
    "선택된 값과 나머지 데이터 중에 비교하여 알맞은 자리를 찾는 알고리즘\n",
    "\n",
    "- worst - O(n<sup>2</sup>)\n",
    "- average - O(n<sup>2</sup>)\n",
    "- best - O(n<sup>2</sup>)\n"
   ],
   "metadata": {
    "collapsed": false
   }
  },
  {
   "cell_type": "code",
   "execution_count": 6,
   "outputs": [
    {
     "name": "stdout",
     "output_type": "stream",
     "text": [
      "1 2 3 4 5 6 7 8 9\n"
     ]
    }
   ],
   "source": [
    "li = preset[:]\n",
    "\n",
    "for i in range(len(li) - 1):\n",
    "    for j in range(i + 1, len(li)):\n",
    "        if li[i] > li[j]:\n",
    "            swap(li, i, j)\n",
    "            continue\n",
    "\n",
    "print(*li)"
   ],
   "metadata": {
    "collapsed": false
   }
  },
  {
   "cell_type": "markdown",
   "source": [
    "## 삽입 정렬\n",
    "\n",
    "데이터 집합을 순회하면서 정렬이 필요한 요소를 뽑아내어 이를 다시 적당한 곳으로 삽입하는 알고리즘\n",
    "\n",
    "성능은 버블 정렬보다 좋음\n",
    "\n",
    "- worst - O(n<sup>2</sup>)\n",
    "- average - O(n<sup>2</sup>)\n",
    "- best - (이미 정렬된 경우) O(n)\n"
   ],
   "metadata": {
    "collapsed": false
   }
  },
  {
   "cell_type": "code",
   "execution_count": 11,
   "outputs": [
    {
     "name": "stdout",
     "output_type": "stream",
     "text": [
      "1 2 3 4 5 6 7 8 9\n",
      "1 2 3 4 5 6 7 8 9\n"
     ]
    }
   ],
   "source": [
    "li = preset[:]\n",
    "\n",
    "# Swap 사용\n",
    "for i in range(1, len(li)):\n",
    "    for j in range(i, 0, -1):\n",
    "        if li[j - 1] > li[j]:\n",
    "            swap(li, j - 1, j)\n",
    "        else:\n",
    "            break\n",
    "\n",
    "print(*li)\n",
    "\n",
    "li = preset[:]\n",
    "\n",
    "# 리스트의 값을 밀다가 마지막에 삽입\n",
    "for i in range(1, len(li)):\n",
    "    x = li[i]\n",
    "    j = i\n",
    "    while j > 0 and li[j - 1] > x:\n",
    "        li[j] = li[j - 1]\n",
    "        j -= 1\n",
    "    li[j] = x\n",
    "\n",
    "print(*li)"
   ],
   "metadata": {
    "collapsed": false
   }
  },
  {
   "cell_type": "markdown",
   "source": [
    "## 버블 정렬\n",
    "\n",
    "두 수를 비교하며 정렬\n",
    "\n",
    "- worst - O(n<sup>2</sup>)\n",
    "- average - O(n<sup>2</sup>)\n",
    "- best - O(n<sup>2</sup>)\n"
   ],
   "metadata": {
    "collapsed": false
   }
  },
  {
   "cell_type": "code",
   "execution_count": 12,
   "outputs": [
    {
     "name": "stdout",
     "output_type": "stream",
     "text": [
      "1 2 3 4 5 6 7 8 9\n"
     ]
    }
   ],
   "source": [
    "li = preset[:]\n",
    "\n",
    "for i in range(len(li) - 1):\n",
    "    for j in range(i, len(li) - 1):\n",
    "        if li[j] > li[j + 1]:\n",
    "            swap(li, j, j + 1)\n",
    "\n",
    "print(*li)"
   ],
   "metadata": {
    "collapsed": false
   }
  },
  {
   "cell_type": "markdown",
   "source": [
    "## 병합 정렬\n",
    "\n",
    "둘 이상의 부분 집합으로 가르고, 각 부분 집합을 정렬한 다음 부분 집합을 다시 정렬된 형태로 합치는 방식 (Divide and Conquer)\n",
    "\n",
    "- worst - O(nlogn)\n",
    "- average - O(nlogn)\n",
    "- best - O(nlogn)\n"
   ],
   "metadata": {
    "collapsed": false
   }
  },
  {
   "cell_type": "code",
   "execution_count": 37,
   "outputs": [
    {
     "name": "stdout",
     "output_type": "stream",
     "text": [
      "1 2 3 4 5 6 7 8 9\n",
      "1 2 3 4 5 6 7 8 9\n"
     ]
    }
   ],
   "source": [
    "li = preset[:]\n",
    "\n",
    "# 새로운 리스트 생성해서 반환 (추가 메모리)\n",
    "def mergesort(arr):\n",
    "    if len(arr) < 2:\n",
    "        return arr\n",
    "\n",
    "    mid = len(arr) // 2\n",
    "\n",
    "    left = mergesort(arr[:mid])\n",
    "    right = mergesort(arr[mid:])\n",
    "\n",
    "    lx = rx = 0\n",
    "    result = []\n",
    "    while lx < len(left) and rx < len(right):\n",
    "        if left[lx] <= right[rx]:\n",
    "            result.append(left[lx])\n",
    "            lx += 1\n",
    "        else:\n",
    "            result.append(right[rx])\n",
    "            rx += 1\n",
    "    while lx < len(left):\n",
    "        result.append(left[lx])\n",
    "        lx += 1\n",
    "    while rx < len(right):\n",
    "        result.append(right[rx])\n",
    "        rx += 1\n",
    "    return result\n",
    "\n",
    "r = mergesort(li)\n",
    "print(*r)\n",
    "\n",
    "li = preset[:]\n",
    "\n",
    "# In-place 방식\n",
    "def merge_sort(arr):\n",
    "    def sort(left, right):\n",
    "        if right - left < 2: return\n",
    "        mid = (left + right) // 2\n",
    "        sort(left, mid)\n",
    "        sort(mid, right)\n",
    "        merge(left, mid, right)\n",
    "\n",
    "    def merge(left, mid, right):\n",
    "        result = []\n",
    "        lx, rx = left, mid\n",
    "\n",
    "        while lx < mid and rx < right:\n",
    "            if arr[lx] <= arr[rx]:\n",
    "                result.append(arr[lx])\n",
    "                lx += 1\n",
    "            else:\n",
    "                result.append(arr[rx])\n",
    "                rx += 1\n",
    "        while lx < mid:\n",
    "            result.append(arr[lx])\n",
    "            lx += 1\n",
    "        while rx < right:\n",
    "            result.append(arr[rx])\n",
    "            rx += 1\n",
    "        for i in range(left, right):\n",
    "            arr[i] = result[i - left]\n",
    "    return sort(0, len(arr))\n",
    "\n",
    "merge_sort(li)\n",
    "print(*li)"
   ],
   "metadata": {
    "collapsed": false
   }
  },
  {
   "cell_type": "markdown",
   "source": [
    "## 힙 정렬\n",
    "\n",
    "트리 기반의 힙 트리를 구성해 정렬하는 방법\n",
    "\n",
    "- worst - O(nlogn)\n",
    "- average - O(nlogn)\n",
    "- best - O(nlogn)\n"
   ],
   "metadata": {
    "collapsed": false
   }
  },
  {
   "cell_type": "code",
   "execution_count": 38,
   "outputs": [
    {
     "name": "stdout",
     "output_type": "stream",
     "text": [
      "1 2 3 4 5 6 7 8 9\n"
     ]
    }
   ],
   "source": [
    "import heapq\n",
    "\n",
    "li = preset[:]\n",
    "\n",
    "result = []\n",
    "while li:\n",
    "    heapq.heapify(li)\n",
    "    result.append(heapq.heappop(li))\n",
    "print(*result)"
   ],
   "metadata": {
    "collapsed": false
   }
  },
  {
   "cell_type": "markdown",
   "source": [
    "## 퀵 정렬\n",
    "\n",
    "데이터 집합 내에 임의의 기준(pivot)값을 정하고 해당 피벗으로 집합을 기준으로 두 개의 부분 집합으로 나눈다\n",
    "\n",
    "한 쪽에는 피벗보다 작은 값, 다른 한 쪽은 큰 값을 넣는다\n",
    "\n",
    "더 이상 쪼갤 수 없을 때까지 각 부분 집합에 대해 피벗/쪼개기를 재귀적으로 적용한다\n",
    "\n",
    "- worst - O(nlogn)\n",
    "- average - O(nlogn)\n",
    "- best - O(n<sup>2</sup>)\n"
   ],
   "metadata": {
    "collapsed": false
   }
  },
  {
   "cell_type": "code",
   "execution_count": 48,
   "outputs": [
    {
     "name": "stdout",
     "output_type": "stream",
     "text": [
      "1 2 3 4 5 6 7 8 9\n",
      "1 2 3 4 5 6 7 8 9\n"
     ]
    }
   ],
   "source": [
    "li = preset[:]\n",
    "\n",
    "# 간결하지만 추가 메모리 많음\n",
    "def quick(arr):\n",
    "    if len(arr) < 2: return arr\n",
    "    pivot = arr[len(arr) // 2]\n",
    "    less, equal, greater = [], [], []\n",
    "    for num in arr:\n",
    "        if num < pivot:\n",
    "            less.append(num)\n",
    "        elif num > pivot:\n",
    "            greater.append(num)\n",
    "        else:\n",
    "            equal.append(num)\n",
    "    return quick(less) + equal + quick(greater)\n",
    "\n",
    "r = quick(li)\n",
    "print(*r)\n",
    "\n",
    "li = preset[:]\n",
    "# in place\n",
    "def quicksort(arr):\n",
    "    def sort(start, end):\n",
    "        if end <= start: return\n",
    "        mid = partition(start, end)\n",
    "        sort(start, mid - 1)\n",
    "        sort(mid, end)\n",
    "\n",
    "    def partition(start, end):\n",
    "        pivot = arr[(start + end) // 2]\n",
    "        while start <= end:\n",
    "            while arr[start] < pivot:\n",
    "                start += 1\n",
    "            while arr[end] > pivot:\n",
    "                end -= 1\n",
    "            if start <= end:\n",
    "                swap(arr, start, end)\n",
    "                start, end = start + 1, end - 1\n",
    "        return start\n",
    "    return sort(0, len(arr) - 1)\n",
    "\n",
    "quicksort(li)\n",
    "print(*li)"
   ],
   "metadata": {
    "collapsed": false
   }
  }
 ],
 "metadata": {
  "kernelspec": {
   "display_name": "Python 3",
   "language": "python",
   "name": "python3"
  },
  "language_info": {
   "codemirror_mode": {
    "name": "ipython",
    "version": 2
   },
   "file_extension": ".py",
   "mimetype": "text/x-python",
   "name": "python",
   "nbconvert_exporter": "python",
   "pygments_lexer": "ipython2",
   "version": "2.7.6"
  }
 },
 "nbformat": 4,
 "nbformat_minor": 0
}
