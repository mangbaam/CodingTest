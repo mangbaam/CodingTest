{
 "cells": [
  {
   "cell_type": "code",
   "execution_count": null,
   "id": "close-bible",
   "metadata": {
    "pycharm": {
     "name": "#%%\n"
    }
   },
   "outputs": [],
   "source": [
    "import heapq\n",
    "\n",
    "INF = 10 ** 9\n",
    "\n",
    "n, m = map(int, input().split())\n",
    "start = int(input())\n",
    "graph = [[] for _ in range(n + 1)]\n",
    "distance = [INF] * (n + 1)\n",
    "\n",
    "for _ in range(m):\n",
    "    a, b, c = map(int, input().split())\n",
    "    # a 노드에서 b로 가는 비용: c\n",
    "    graph[a].append((b, c))\n",
    "\n",
    "\n",
    "def dijkstra(start):\n",
    "    q = []\n",
    "    heapq.heappush(q, (0, start))\n",
    "    distance[start] = 0\n",
    "    while q:\n",
    "        dist, now = heapq.heappop(q)\n",
    "        if distance[now] < dist: continue\n",
    "\n",
    "        for i in graph[now]:\n",
    "            cost = dist + i[1]\n",
    "            if cost < distance[i[0]]:\n",
    "                distance[i[0]] = cost\n",
    "                heapq.heappush(q, (cost, i[0]))\n",
    "\n",
    "\n",
    "dijkstra(start)\n",
    "\n",
    "for i in range(1, n + 1):\n",
    "    if distance[i] == INF: print(\"INFINITY\")\n",
    "    else: print(distance[i])"
   ]
  }
 ],
 "metadata": {
  "kernelspec": {
   "display_name": "Python 3",
   "language": "python",
   "name": "python3"
  },
  "language_info": {
   "codemirror_mode": {
    "name": "ipython",
    "version": 3
   },
   "file_extension": ".py",
   "mimetype": "text/x-python",
   "name": "python",
   "nbconvert_exporter": "python",
   "pygments_lexer": "ipython3",
   "version": "3.8.5"
  }
 },
 "nbformat": 4,
 "nbformat_minor": 5
}